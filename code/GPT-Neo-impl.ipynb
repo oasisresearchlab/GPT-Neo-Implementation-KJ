{
 "cells": [
  {
   "cell_type": "code",
   "execution_count": 3,
   "metadata": {},
   "outputs": [
    {
     "name": "stderr",
     "output_type": "stream",
     "text": [
      "C:\\Users\\ysj30\\anaconda3\\envs\\py383\\lib\\site-packages\\torchaudio\\extension\\extension.py:13: UserWarning: torchaudio C++ extension is not available.\n",
      "  warnings.warn('torchaudio C++ extension is not available.')\n",
      "C:\\Users\\ysj30\\anaconda3\\envs\\py383\\lib\\site-packages\\torchaudio\\backend\\utils.py:89: UserWarning: No audio backend is available.\n",
      "  warnings.warn('No audio backend is available.')\n"
     ]
    }
   ],
   "source": [
    "from transformers import pipeline"
   ]
  },
  {
   "cell_type": "code",
   "execution_count": null,
   "metadata": {},
   "outputs": [],
   "source": []
  },
  {
   "cell_type": "code",
   "execution_count": 4,
   "metadata": {},
   "outputs": [],
   "source": [
    "generator_gpt_neo_1_3b = pipeline('text-generation',model='EleutherAI/gpt-neo-1.3B')"
   ]
  },
  {
   "cell_type": "code",
   "execution_count": 65,
   "metadata": {},
   "outputs": [],
   "source": [
    "# prompt = 'drill into teeth quietly'"
   ]
  },
  {
   "cell_type": "code",
   "execution_count": 66,
   "metadata": {},
   "outputs": [],
   "source": [
    "generator_gpt_neo_125m = pipeline('text-generation',model='EleutherAI/gpt-neo-125M')"
   ]
  },
  {
   "cell_type": "code",
   "execution_count": null,
   "metadata": {},
   "outputs": [],
   "source": [
    "generator_gpt_neo_2_7 = pipeline('text-generation',model='EleutherAI/gpt-neo-2.7B')"
   ]
  },
  {
   "cell_type": "code",
   "execution_count": 68,
   "metadata": {},
   "outputs": [],
   "source": [
    "generator_gpt2 = pipeline('text-generation',model='gpt2')"
   ]
  },
  {
   "cell_type": "code",
   "execution_count": 7,
   "metadata": {},
   "outputs": [],
   "source": [
    "user_input = \"keep head from moving while sleeping on bus\""
   ]
  },
  {
   "cell_type": "code",
   "execution_count": 8,
   "metadata": {},
   "outputs": [],
   "source": [
    "prompt = f\"\"\"Given a problem statement, generate an abstracted reformulation of that problem statement\n",
    "\n",
    "Problem statement: Shield baby from the sun\n",
    "Abstracted reformulation: Protect vulnerable object from radiation\n",
    "\n",
    "Problem statement: Prevent feet from getting wet\n",
    "Abstracted reformulation: Stop object from getting into contact with unwanted substances\n",
    "\n",
    "Problem statement: Hold soap bars of multiple sizes\n",
    "Abstracted reformulation: Contain objects of different volumes\n",
    "\n",
    "Problem statement: Enable a broom to clean in hard to reach places\n",
    "Abstracted reformulation: Extend the physical reach of a tool\n",
    "\n",
    "Problem statement: drill into teeth quietly\n",
    "Abstracted reformulation: create a hole in an object without causing an unwanted noise\n",
    "\n",
    "Problem statement: make house out of cooked spaghetti\n",
    "Abstracted reformulation: create strong, rigid structure out of soft materials\n",
    "\n",
    "Problem statement: make house out of cooked spaghetti\n",
    "Abstracted reformulation: create structure from elastic elements\n",
    "\n",
    "Problem statement:  prevent bicycle tire flats\n",
    "Abstracted reformulation: protect object from the penetration of foreign objects\n",
    "\n",
    "Problem statement: prevent blood clotting in stents\n",
    "Abstracted reformulation: prevent clogging of cylindrical tubes\n",
    "\n",
    "Problem statement: transfer heat in semiconductors at nanoscale\n",
    "Abstracted reformulation: Enable particles to flow in confined geometries\n",
    "\n",
    "Problem statement: {user_input}\n",
    "\"\"\""
   ]
  },
  {
   "cell_type": "code",
   "execution_count": null,
   "metadata": {},
   "outputs": [],
   "source": []
  },
  {
   "cell_type": "code",
   "execution_count": 95,
   "metadata": {},
   "outputs": [
    {
     "name": "stderr",
     "output_type": "stream",
     "text": [
      "Setting `pad_token_id` to `eos_token_id`:50256 for open-end generation.\n"
     ]
    }
   ],
   "source": [
    "res_generator_gpt_neo_125m = generator_gpt_neo_125m(prompt, max_length = 400, do_sample = True,temperature = 0.75)"
   ]
  },
  {
   "cell_type": "code",
   "execution_count": 96,
   "metadata": {},
   "outputs": [
    {
     "name": "stdout",
     "output_type": "stream",
     "text": [
      "Given a problem statement, generate an abstracted reformulation of that problem statement\n",
      "\n",
      "Problem statement: Shield baby from the sun\n",
      "Abstracted reformulation: Protect vulnerable object from radiation\n",
      "\n",
      "Problem statement: Prevent feet from getting wet\n",
      "Abstracted reformulation: Stop object from getting into contact with unwanted substances\n",
      "\n",
      "Problem statement: Hold soap bars of multiple sizes\n",
      "Abstracted reformulation: Contain objects of different volumes\n",
      "\n",
      "Problem statement: Enable a broom to clean in hard to reach places\n",
      "Abstracted reformulation: Extend the physical reach of a tool\n",
      "\n",
      "Problem statement: drill into teeth quietly\n",
      "Abstracted reformulation: create a hole in an object without causing an unwanted noise\n",
      "\n",
      "Problem statement: drill into teeth quietly\n",
      "Abstracted reformulation: produce small holes in hard objects with minimal sound\n",
      "\n",
      "Problem statement: make house out of cooked spaghetti\n",
      "Abstracted reformulation: create strong, rigid structure out of soft materials\n",
      "\n",
      "Problem statement: make house out of cooked spaghetti\n",
      "Abstracted reformulation: create structure from elastic elements\n",
      "\n",
      "Problem statement:  prevent bicycle tire flats\n",
      "Abstracted reformulation: protect object from the penetration of foreign objects\n",
      "\n",
      "Problem statement: prevent blood clotting in stents\n",
      "Abstracted reformulation: prevent clogging of cylindrical tubes\n",
      "\n",
      "Problem statement: transfer heat in semiconductors at nanoscale\n",
      "Abstracted reformulation: Enable particles to flow in confined geometries\n",
      "\n",
      "Problem statement: keep head from moving while sleeping on bus\n",
      "Abstracted reformulation: prevent sleep by adding a liquid to the bath\n",
      "\n",
      "Problem statement: keep head from moving while sleeping on bus\n",
      "Abstracted reformulation: prevent sleep by adding liquid to the bath\n",
      "\n",
      "Problem statement: prevent water from moving into the bath\n",
      "Abstracted reformulation: prevent water from moving into the bath\n",
      "\n",
      "Problem statement: prevent water from moving into the bath\n",
      "Abstracted reformulation: prevent water from moving into the bath\n",
      "\n",
      "Problem statement:\n"
     ]
    }
   ],
   "source": [
    "\n",
    "print(res_generator_gpt_neo_125m[0]['generated_text'])"
   ]
  },
  {
   "cell_type": "code",
   "execution_count": null,
   "metadata": {},
   "outputs": [],
   "source": []
  },
  {
   "cell_type": "code",
   "execution_count": 10,
   "metadata": {},
   "outputs": [
    {
     "name": "stderr",
     "output_type": "stream",
     "text": [
      "Setting `pad_token_id` to `eos_token_id`:50256 for open-end generation.\n"
     ]
    }
   ],
   "source": [
    "res_generator_gpt_neo_1_3b = generator_gpt_neo_1_3b(prompt,max_length = 400, do_sample = True,temperature = 0.9)"
   ]
  },
  {
   "cell_type": "code",
   "execution_count": 11,
   "metadata": {},
   "outputs": [
    {
     "name": "stdout",
     "output_type": "stream",
     "text": [
      "Given a problem statement, generate an abstracted reformulation of that problem statement\n",
      "\n",
      "Problem statement: Shield baby from the sun\n",
      "Abstracted reformulation: Protect vulnerable object from radiation\n",
      "\n",
      "Problem statement: Prevent feet from getting wet\n",
      "Abstracted reformulation: Stop object from getting into contact with unwanted substances\n",
      "\n",
      "Problem statement: Hold soap bars of multiple sizes\n",
      "Abstracted reformulation: Contain objects of different volumes\n",
      "\n",
      "Problem statement: Enable a broom to clean in hard to reach places\n",
      "Abstracted reformulation: Extend the physical reach of a tool\n",
      "\n",
      "Problem statement: drill into teeth quietly\n",
      "Abstracted reformulation: create a hole in an object without causing an unwanted noise\n",
      "\n",
      "Problem statement: make house out of cooked spaghetti\n",
      "Abstracted reformulation: create strong, rigid structure out of soft materials\n",
      "\n",
      "Problem statement: make house out of cooked spaghetti\n",
      "Abstracted reformulation: create structure from elastic elements\n",
      "\n",
      "Problem statement:  prevent bicycle tire flats\n",
      "Abstracted reformulation: protect object from the penetration of foreign objects\n",
      "\n",
      "Problem statement: prevent blood clotting in stents\n",
      "Abstracted reformulation: prevent clogging of cylindrical tubes\n",
      "\n",
      "Problem statement: transfer heat in semiconductors at nanoscale\n",
      "Abstracted reformulation: Enable particles to flow in confined geometries\n",
      "\n",
      "Problem statement: keep head from moving while sleeping on bus\n",
      "Abstracted reformulation: prevent any unwanted movement\n",
      "\n",
      "Problem statement: remove all loose items from car\n",
      "Abstracted reformulation: prevent unwanted movement\n",
      "\n",
      "Problem statement: remove all loose items from car\n",
      "Abstracted reformulation: prevent unwanted movement\n",
      "\n",
      "Problem statement: prevent from sliding on the steering wheel during steering\n",
      "Abstracted reformulation: prevent unwanted movement by changing wheel's geometry\n",
      "\n",
      "Problem statement: prevent from sliding on the steering wheel during steering\n",
      "Abstracted reformulation: prevent unwanted movement by changing wheel's geometry\n",
      "\n",
      "Problem statement: protect from the rain\n",
      "Abstracted reformulation:\n"
     ]
    }
   ],
   "source": [
    "print(res_generator_gpt_neo_1_3b[0]['generated_text'])"
   ]
  },
  {
   "cell_type": "code",
   "execution_count": null,
   "metadata": {},
   "outputs": [],
   "source": [
    "res_generator_gpt_neo_2_7 = generator_gpt_neo_2_7(prompt,max_length = 500, do_sample = True,temperature = 0.9)"
   ]
  },
  {
   "cell_type": "code",
   "execution_count": null,
   "metadata": {},
   "outputs": [],
   "source": [
    "\n",
    "print(res_generator_gpt_neo_2_7[0]['generated_text'])"
   ]
  },
  {
   "cell_type": "code",
   "execution_count": 86,
   "metadata": {},
   "outputs": [
    {
     "name": "stderr",
     "output_type": "stream",
     "text": [
      "Setting `pad_token_id` to `eos_token_id`:50256 for open-end generation.\n"
     ]
    }
   ],
   "source": [
    "res_generator_gpt2 = generator_gpt2(prompt,max_length = 500, do_sample = True,temperature = 0.9)"
   ]
  },
  {
   "cell_type": "code",
   "execution_count": 87,
   "metadata": {},
   "outputs": [
    {
     "name": "stdout",
     "output_type": "stream",
     "text": [
      "Given a problem statement, generate an abstracted reformulation of that problem statement\n",
      "\n",
      "Problem statement: Shield baby from the sun\n",
      "Abstracted reformulation: Protect vulnerable object from radiation\n",
      "\n",
      "Problem statement: Prevent feet from getting wet\n",
      "Abstracted reformulation: Stop object from getting into contact with unwanted substances\n",
      "\n",
      "Problem statement: Hold soap bars of multiple sizes\n",
      "Abstracted reformulation: Contain objects of different volumes\n",
      "\n",
      "Problem statement: Enable a broom to clean in hard to reach places\n",
      "Abstracted reformulation: Extend the physical reach of a tool\n",
      "\n",
      "Problem statement: drill into teeth quietly\n",
      "Abstracted reformulation: create a hole in an object without causing an unwanted noise\n",
      "\n",
      "Problem statement: drill into teeth quietly\n",
      "Abstracted reformulation: produce small holes in hard objects with minimal sound\n",
      "\n",
      "Problem statement: make house out of cooked spaghetti\n",
      "Abstracted reformulation: create strong, rigid structure out of soft materials\n",
      "\n",
      "Problem statement: make house out of cooked spaghetti\n",
      "Abstracted reformulation: create structure from elastic elements\n",
      "\n",
      "Problem statement:  prevent bicycle tire flats\n",
      "Abstracted reformulation: protect object from the penetration of foreign objects\n",
      "\n",
      "Problem statement: prevent blood clotting in stents\n",
      "Abstracted reformulation: prevent clogging of cylindrical tubes\n",
      "\n",
      "Problem statement: transfer heat in semiconductors at nanoscale\n",
      "Abstracted reformulation: Enable particles to flow in confined geometries\n",
      "\n",
      "Problem statement: keep head from moving while sleeping on bus\n",
      "\n",
      "Abstracted reformulation: disable noise while sleeping on bus\n",
      "\n",
      "Problem statement: remove obstructions to car in an unoccupied garage\n",
      "\n",
      "Abstracted reformulation: increase the width of the vehicle with a speed of over 250 miles per hour\n",
      "\n",
      "Problem statement: allow air to flow through tubes to prevent leaks\n",
      "\n",
      "Abstracted reformulation: allow air to flow into tubes by heating a fuel tank\n",
      "\n",
      "Solution: Create a new problem statement\n",
      "\n",
      "Abstracted reformulation: force water to flow through a pipe\n",
      "\n",
      "Solution: Make the water flow through a pipe slightly more like a bottle of water\n",
      "\n",
      "Solution: Create the water flow through a pipe slightly more like a bottle of water\n",
      "\n",
      "Solution: Draw an air pipe over a hole in a pipe, make it much longer for the air to flow through\n",
      "\n",
      "Solution: Draw an air pipe over a hole in a pipe, make it much longer for the air to flow through\n",
      "\n",
      "If you find the\n"
     ]
    }
   ],
   "source": [
    "\n",
    "\n",
    "print(res_generator_gpt2[0]['generated_text'])"
   ]
  },
  {
   "cell_type": "code",
   "execution_count": null,
   "metadata": {},
   "outputs": [],
   "source": []
  },
  {
   "cell_type": "code",
   "execution_count": null,
   "metadata": {},
   "outputs": [],
   "source": []
  },
  {
   "cell_type": "code",
   "execution_count": null,
   "metadata": {},
   "outputs": [],
   "source": []
  }
 ],
 "metadata": {
  "kernelspec": {
   "display_name": "Python 3",
   "language": "python",
   "name": "python3"
  },
  "language_info": {
   "codemirror_mode": {
    "name": "ipython",
    "version": 3
   },
   "file_extension": ".py",
   "mimetype": "text/x-python",
   "name": "python",
   "nbconvert_exporter": "python",
   "pygments_lexer": "ipython3",
   "version": "3.8.10"
  }
 },
 "nbformat": 4,
 "nbformat_minor": 4
}
