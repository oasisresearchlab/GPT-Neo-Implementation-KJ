{
 "cells": [
  {
   "cell_type": "code",
   "execution_count": 16,
   "metadata": {},
   "outputs": [],
   "source": [
    "from transformers import pipeline"
   ]
  },
  {
   "cell_type": "code",
   "execution_count": null,
   "metadata": {},
   "outputs": [],
   "source": []
  },
  {
   "cell_type": "code",
   "execution_count": 3,
   "metadata": {},
   "outputs": [],
   "source": [
    "generator_gpt_neo_1_3b = pipeline('text-generation',model='EleutherAI/gpt-neo-1.3B')"
   ]
  },
  {
   "cell_type": "code",
   "execution_count": 5,
   "metadata": {},
   "outputs": [],
   "source": [
    "# prompt = 'drill into teeth quietly'"
   ]
  },
  {
   "cell_type": "code",
   "execution_count": 6,
   "metadata": {},
   "outputs": [
    {
     "data": {
      "application/vnd.jupyter.widget-view+json": {
       "model_id": "4730aae5603d442fa578d1e4c698b509",
       "version_major": 2,
       "version_minor": 0
      },
      "text/plain": [
       "Downloading:   0%|          | 0.00/1.01k [00:00<?, ?B/s]"
      ]
     },
     "metadata": {},
     "output_type": "display_data"
    },
    {
     "data": {
      "application/vnd.jupyter.widget-view+json": {
       "model_id": "3a6a8bb162004692add2a428f8ff4152",
       "version_major": 2,
       "version_minor": 0
      },
      "text/plain": [
       "Downloading:   0%|          | 0.00/526M [00:00<?, ?B/s]"
      ]
     },
     "metadata": {},
     "output_type": "display_data"
    },
    {
     "data": {
      "application/vnd.jupyter.widget-view+json": {
       "model_id": "60106a8b8ab549bfaf5e8c5651f403f4",
       "version_major": 2,
       "version_minor": 0
      },
      "text/plain": [
       "Downloading:   0%|          | 0.00/899k [00:00<?, ?B/s]"
      ]
     },
     "metadata": {},
     "output_type": "display_data"
    },
    {
     "data": {
      "application/vnd.jupyter.widget-view+json": {
       "model_id": "fb2ef0206f334d56ae2f448daee72b2e",
       "version_major": 2,
       "version_minor": 0
      },
      "text/plain": [
       "Downloading:   0%|          | 0.00/456k [00:00<?, ?B/s]"
      ]
     },
     "metadata": {},
     "output_type": "display_data"
    },
    {
     "data": {
      "application/vnd.jupyter.widget-view+json": {
       "model_id": "a87e51ccf8a44e319da74fac91aff987",
       "version_major": 2,
       "version_minor": 0
      },
      "text/plain": [
       "Downloading:   0%|          | 0.00/357 [00:00<?, ?B/s]"
      ]
     },
     "metadata": {},
     "output_type": "display_data"
    },
    {
     "data": {
      "application/vnd.jupyter.widget-view+json": {
       "model_id": "af2ac9bc28fc49cfb85ffc7931ac9378",
       "version_major": 2,
       "version_minor": 0
      },
      "text/plain": [
       "Downloading:   0%|          | 0.00/560 [00:00<?, ?B/s]"
      ]
     },
     "metadata": {},
     "output_type": "display_data"
    }
   ],
   "source": [
    "generator_gpt_neo_125m = pipeline('text-generation',model='EleutherAI/gpt-neo-125M')"
   ]
  },
  {
   "cell_type": "code",
   "execution_count": 7,
   "metadata": {},
   "outputs": [
    {
     "data": {
      "application/vnd.jupyter.widget-view+json": {
       "model_id": "0ffade2aef57483a9055c7a24a32e719",
       "version_major": 2,
       "version_minor": 0
      },
      "text/plain": [
       "Downloading:   0%|          | 0.00/1.46k [00:00<?, ?B/s]"
      ]
     },
     "metadata": {},
     "output_type": "display_data"
    },
    {
     "data": {
      "application/vnd.jupyter.widget-view+json": {
       "model_id": "3a4c12d2b91d4c77affe3ae66bae7811",
       "version_major": 2,
       "version_minor": 0
      },
      "text/plain": [
       "Downloading:   0%|          | 0.00/10.7G [00:00<?, ?B/s]"
      ]
     },
     "metadata": {},
     "output_type": "display_data"
    },
    {
     "data": {
      "application/vnd.jupyter.widget-view+json": {
       "model_id": "8332e86301ad41209e34d3c491576b14",
       "version_major": 2,
       "version_minor": 0
      },
      "text/plain": [
       "Downloading:   0%|          | 0.00/798k [00:00<?, ?B/s]"
      ]
     },
     "metadata": {},
     "output_type": "display_data"
    },
    {
     "data": {
      "application/vnd.jupyter.widget-view+json": {
       "model_id": "89c290f76a344e4993c5214debf0316d",
       "version_major": 2,
       "version_minor": 0
      },
      "text/plain": [
       "Downloading:   0%|          | 0.00/456k [00:00<?, ?B/s]"
      ]
     },
     "metadata": {},
     "output_type": "display_data"
    },
    {
     "data": {
      "application/vnd.jupyter.widget-view+json": {
       "model_id": "1c4ba8f14b334118a1aaa5815f393eab",
       "version_major": 2,
       "version_minor": 0
      },
      "text/plain": [
       "Downloading:   0%|          | 0.00/90.0 [00:00<?, ?B/s]"
      ]
     },
     "metadata": {},
     "output_type": "display_data"
    },
    {
     "data": {
      "application/vnd.jupyter.widget-view+json": {
       "model_id": "82f28b12814d4c31a21932a60412027f",
       "version_major": 2,
       "version_minor": 0
      },
      "text/plain": [
       "Downloading:   0%|          | 0.00/200 [00:00<?, ?B/s]"
      ]
     },
     "metadata": {},
     "output_type": "display_data"
    }
   ],
   "source": [
    "generator_gpt_neo_2_7 = pipeline('text-generation',model='EleutherAI/gpt-neo-2.7B')"
   ]
  },
  {
   "cell_type": "code",
   "execution_count": 8,
   "metadata": {},
   "outputs": [
    {
     "data": {
      "application/vnd.jupyter.widget-view+json": {
       "model_id": "3482f2b7eae34d4288ad73703e7764b8",
       "version_major": 2,
       "version_minor": 0
      },
      "text/plain": [
       "Downloading:   0%|          | 0.00/665 [00:00<?, ?B/s]"
      ]
     },
     "metadata": {},
     "output_type": "display_data"
    },
    {
     "data": {
      "application/vnd.jupyter.widget-view+json": {
       "model_id": "c856c55a5b494ae5991d3bcc8077ebc9",
       "version_major": 2,
       "version_minor": 0
      },
      "text/plain": [
       "Downloading:   0%|          | 0.00/548M [00:00<?, ?B/s]"
      ]
     },
     "metadata": {},
     "output_type": "display_data"
    },
    {
     "data": {
      "application/vnd.jupyter.widget-view+json": {
       "model_id": "653849bf709a4cc1a9f21c58e7d10e1d",
       "version_major": 2,
       "version_minor": 0
      },
      "text/plain": [
       "Downloading:   0%|          | 0.00/1.04M [00:00<?, ?B/s]"
      ]
     },
     "metadata": {},
     "output_type": "display_data"
    },
    {
     "data": {
      "application/vnd.jupyter.widget-view+json": {
       "model_id": "89d5ebde9ebd499ca00e8ec474acc44e",
       "version_major": 2,
       "version_minor": 0
      },
      "text/plain": [
       "Downloading:   0%|          | 0.00/456k [00:00<?, ?B/s]"
      ]
     },
     "metadata": {},
     "output_type": "display_data"
    },
    {
     "data": {
      "application/vnd.jupyter.widget-view+json": {
       "model_id": "eb021bba2c59462fa3bec7a2f058fe12",
       "version_major": 2,
       "version_minor": 0
      },
      "text/plain": [
       "Downloading:   0%|          | 0.00/1.36M [00:00<?, ?B/s]"
      ]
     },
     "metadata": {},
     "output_type": "display_data"
    }
   ],
   "source": [
    "generator_gpt2 = pipeline('text-generation',model='gpt2')"
   ]
  },
  {
   "cell_type": "code",
   "execution_count": 29,
   "metadata": {},
   "outputs": [],
   "source": [
    "user_input = \"Carry a large rock\""
   ]
  },
  {
   "cell_type": "code",
   "execution_count": 42,
   "metadata": {},
   "outputs": [],
   "source": [
    "prompt = f\"\"\"Given a problem statement, generate an abstracted reformulation of that problem statement\n",
    "\n",
    "Problem statement: Shield baby from the sun\n",
    "Abstracted reformulation: Protect vulnerable object from radiation\n",
    "\n",
    "Problem statement: Prevent feet from getting wet\n",
    "Abstracted reformulation: Stop object from getting into contact with unwanted substances\n",
    "\n",
    "Problem statement: Hold soap bars of multiple sizes\n",
    "Abstracted reformulation: Contain objects of different volumes\n",
    "\n",
    "Problem statement: Enable a broom to clean in hard to reach places\n",
    "Abstracted reformulation: Extend the physical reach of a tool\n",
    "\"\"\""
   ]
  },
  {
   "cell_type": "code",
   "execution_count": null,
   "metadata": {},
   "outputs": [],
   "source": []
  },
  {
   "cell_type": "code",
   "execution_count": 43,
   "metadata": {},
   "outputs": [
    {
     "name": "stderr",
     "output_type": "stream",
     "text": [
      "Setting `pad_token_id` to `eos_token_id`:50256 for open-end generation.\n"
     ]
    }
   ],
   "source": [
    "res_generator_gpt_neo_125m = generator_gpt_neo_125m(prompt, max_length = 1000, do_sample = True,temperature = 0.9)"
   ]
  },
  {
   "cell_type": "code",
   "execution_count": 44,
   "metadata": {},
   "outputs": [
    {
     "name": "stdout",
     "output_type": "stream",
     "text": [
      "Given a problem statement, generate an abstracted reformulation of that problem statement\n",
      "\n",
      "Problem statement: Shield baby from the sun\n",
      "Abstracted reformulation: Protect vulnerable object from radiation\n",
      "\n",
      "Problem statement: Prevent feet from getting wet\n",
      "Abstracted reformulation: Stop object from getting into contact with unwanted substances\n",
      "\n",
      "Problem statement: Hold soap bars of multiple sizes\n",
      "Abstracted reformulation: Contain objects of different volumes\n",
      "\n",
      "Problem statement: Enable a broom to clean in hard to reach places\n",
      "Abstracted reformulation: Extend the physical reach of a tool\n",
      "\n",
      "Problem statement: Apply water in a drink bath with a brush\n",
      "Abstracted reformulation: Apply a water-based shampoo\n",
      "Abstracted reformulation: Enable the water bottle to be set\n",
      "\n",
      "Problem statement: Make wet clothing to a towel\n",
      "Abstracted reformulation: Make clothing to a towel\n",
      "Abstracted reformulation: Apply a soap and water to a surface\n",
      "Abstracted reformulation: Apply a soap to a surface\n",
      "Abstracted reformulation: Apply water to a surface\n",
      "Abstracted reformulation: Apply a soap to a surface\n",
      "Abstracted reformulation: Apply a water to a surface\n",
      "Abstracted reformulation: Apply water to a surface\n",
      "Abstracted reformulation: Apply water to a surface\n",
      "Abstracted reformulation: Apply a soap to a surface\n",
      "Abstracted reformulation: Apply a soap to a surface\n",
      "Abstracted reformulation: Apply a soap to a surface\n",
      "Abstracted reformulation: Apply a soap to a surface\n",
      "Abstracted reformulation: Apply a soap to a surface\n",
      "Abstracted reformulation: Apply a soap to a surface\n",
      "Abstracted reformulation: Apply a soap to a surface\n",
      "Abstracted reformulation: Apply a soap to a surface\n",
      "Abstracted reformulation: Apply a soap to a surface\n",
      "Abstracted reformulation: Apply a soap to a surface\n",
      "Abstracted reformulation: Apply a soap to a surface\n",
      "Abstracted reformulation: Apply a soap to a surface\n",
      "Abstracted reformulation: Apply a soap to a surface\n",
      "Abstracted reformulation: Apply a soap to a surface\n",
      "Abstracted reformulation: Apply a soap to a surface\n",
      "Abstracted reformulation: Apply a soap to a surface\n",
      "Abstracted reformulation: Apply a soap to a surface\n",
      "Abstracted reformulation: Apply a soap to a surface\n",
      "Abstracted reformulation: Apply a soap to a surface\n",
      "Abstracted reformulation: Apply a soap to a surface\n",
      "Abstracted reformulation: Apply a soap to a surface\n",
      "Abstracted reformulation: Apply a soap to a surface\n",
      "Abstracted reformulation: Apply a soap to a surface\n",
      "Abstracted reformulation: Apply a soap to a surface\n",
      "Abstracted reformulation: Apply a soap to a surface\n",
      "Abstracted reformulation: Apply a soap to a surface\n",
      "Abstracted reformulation: Apply a soap to a surface\n",
      "Abstracted reformulation: Apply a soap to a surface\n",
      "Abstracted reformulation: Apply a soap to a surface\n",
      "Abstracted reformulation: Apply a soap to a surface\n",
      "Abstracted reformulation: Apply a soap to a surface\n",
      "Abstracted reformulation: Apply a soap to a surface\n",
      "Abstracted reformulation: Apply a soap to a surface\n",
      "Abstracted reformulation: Apply a soap to a surface\n",
      "Abstracted reformulation: Apply a soap to a surface\n",
      "Abstracted reformulation: Apply a soap to a surface\n",
      "Abstracted reformulation: Apply a soap to a surface\n",
      "Abstracted reformulation: Apply a soap to a surface\n",
      "Abstracted reformulation: Apply a soap to a surface\n",
      "Abstracted reformulation: Apply a soap to a surface\n",
      "Abstracted reformulation: Apply a soap to a surface\n",
      "Abstracted reformulation: Apply a soap to a surface\n",
      "Abstracted reformulation: Apply a soap to a surface\n",
      "Abstracted reformulation: Apply a soap to a surface\n",
      "Abstracted reformulation: Apply a soap to a surface\n",
      "Abstracted reformulation: Apply a soap to a surface\n",
      "Abstracted reformulation: Apply a soap to a surface\n",
      "Abstracted reformulation: Apply a soap to a surface\n",
      "Abstracted reformulation: Apply a soap to a surface\n",
      "Abstracted reformulation: Apply a soap to a surface\n",
      "Abstracted reformulation: Apply a soap to a surface\n",
      "Abstracted reformulation: Apply a soap to a surface\n",
      "Abstracted reformulation: Apply a soap to a surface\n",
      "Abstracted reformulation: Apply a soap to a surface\n",
      "Abstracted reformulation: Apply a soap to a surface\n",
      "Abstracted reformulation: Apply a soap to a surface\n",
      "Abstracted reformulation: Apply a soap to a surface\n",
      "Abstracted reformulation: Apply a soap to a surface\n",
      "Abstracted reformulation: Apply a soap to a surface\n",
      "Abstracted reformulation: Apply a soap to a surface\n",
      "Abstracted reformulation: Apply a soap to a surface\n",
      "Abstracted reformulation: Apply a soap to a surface\n"
     ]
    }
   ],
   "source": [
    "\n",
    "print(res_generator_gpt_neo_125m[0]['generated_text'])"
   ]
  },
  {
   "cell_type": "code",
   "execution_count": null,
   "metadata": {},
   "outputs": [],
   "source": []
  },
  {
   "cell_type": "code",
   "execution_count": 48,
   "metadata": {},
   "outputs": [
    {
     "name": "stderr",
     "output_type": "stream",
     "text": [
      "Setting `pad_token_id` to `eos_token_id`:50256 for open-end generation.\n"
     ]
    }
   ],
   "source": [
    "res_generator_gpt_neo_1_3b = generator_gpt_neo_1_3b(prompt,max_length = 500, do_sample = True,temperature = 0.9)"
   ]
  },
  {
   "cell_type": "code",
   "execution_count": 49,
   "metadata": {},
   "outputs": [
    {
     "name": "stdout",
     "output_type": "stream",
     "text": [
      "Given a problem statement, generate an abstracted reformulation of that problem statement\n",
      "\n",
      "Problem statement: Shield baby from the sun\n",
      "Abstracted reformulation: Protect vulnerable object from radiation\n",
      "\n",
      "Problem statement: Prevent feet from getting wet\n",
      "Abstracted reformulation: Stop object from getting into contact with unwanted substances\n",
      "\n",
      "Problem statement: Hold soap bars of multiple sizes\n",
      "Abstracted reformulation: Contain objects of different volumes\n",
      "\n",
      "Problem statement: Enable a broom to clean in hard to reach places\n",
      "Abstracted reformulation: Extend the physical reach of a tool\n",
      "\n",
      "Problem statement: Remove water vapor from plastic bottles\n",
      "Abstracted reformulation: Increase the storage time of plastic containers\n",
      "\n",
      "Problem statement: Add a new color to a bottle\n",
      "Abstracted reformulation: Change the color of plastic containers\n",
      "\n",
      "Problem statement: Cut plastic containers to the right size\n",
      "Abstracted reformulation: Reduce packaging complexity\n",
      "\n",
      "Problem statement: Prevent food from going off the shelf\n",
      "Abstracted reformulation: Make possible shelf-to-bottle transfers to prevent product loss\n",
      "\n",
      "Problem statement: Prevent a package from getting cold\n",
      "Abstracted reformulation: Extend the shelf life of packaging\n",
      "\n",
      "Problem statement: Prevent food from getting moldy\n",
      "Abstracted reformulation: Prevent food from drying out\n",
      "\n",
      "Problem statement: Remove harmful chemicals from food\n",
      "Abstracted reformulation: Extend shelf life of food\n",
      "\n",
      "Problem statement: Prevent plastic bags from sticking together\n",
      "Abstracted reformulation: Prevent product from clumping together\n",
      "\n",
      "Problem statement: Prevent plastic from breaking when dropped\n",
      "Abstracted reformulation: Reduce the difficulty of cleaning\n",
      "\n",
      "Problem statement: Reduces the probability of theft and can be used as a cover for jewelry and other valuable items\n",
      "Abstracted reformulation: Protect valuable items, especially from theft\n",
      "\n",
      "Problem statement: Remove a bag from a retail store and hold it for inspection\n",
      "Abstracted reformulation: Create a safer form of storing products\n",
      "\n",
      "Problem statement: Replace plastic bottles with glass bottles\n",
      "Abstracted reformulation: Reduce the amount of plastic necessary in containers\n",
      "\n",
      "Problem statement: Protect plastic containers from heat\n",
      "Abstracted reformulation: Reduce the amount of plastic necessary in containers\n",
      "\n",
      "Problem statement: Replace plastic bottle caps with metal caps\n",
      "Abstracted reformulation: Reduce the cost of packaging\n",
      "\n",
      "Problem statement: Cut plastic bags to the right size\n",
      "Abstracted reformulation: Reduce the amount of plastic necessary in containers\n",
      "\n",
      "Problem statement: Create a reusable container with non\n"
     ]
    }
   ],
   "source": [
    "print(res_generator_gpt_neo_1_3b[0]['generated_text'])"
   ]
  },
  {
   "cell_type": "code",
   "execution_count": null,
   "metadata": {},
   "outputs": [
    {
     "name": "stderr",
     "output_type": "stream",
     "text": [
      "Setting `pad_token_id` to `eos_token_id`:50256 for open-end generation.\n"
     ]
    }
   ],
   "source": [
    "res_generator_gpt_neo_2_7 = generator_gpt_neo_2_7(prompt,max_length = 500, do_sample = True,temperature = 0.9)"
   ]
  },
  {
   "cell_type": "code",
   "execution_count": null,
   "metadata": {},
   "outputs": [],
   "source": [
    "\n",
    "print(res_generator_gpt_neo_2_7[0]['generated_text'])"
   ]
  },
  {
   "cell_type": "code",
   "execution_count": null,
   "metadata": {},
   "outputs": [],
   "source": [
    "res_generator_gpt2 = generator_gpt2(prompt,max_length = 5)0, do_sample = True,temperature = 0.9)"
   ]
  },
  {
   "cell_type": "code",
   "execution_count": null,
   "metadata": {},
   "outputs": [],
   "source": [
    "\n",
    "\n",
    "print(res_generator_gpt2[0]['generated_text'])"
   ]
  },
  {
   "cell_type": "code",
   "execution_count": null,
   "metadata": {},
   "outputs": [],
   "source": []
  },
  {
   "cell_type": "code",
   "execution_count": null,
   "metadata": {},
   "outputs": [],
   "source": []
  },
  {
   "cell_type": "code",
   "execution_count": null,
   "metadata": {},
   "outputs": [],
   "source": []
  }
 ],
 "metadata": {
  "kernelspec": {
   "display_name": "Python 3",
   "language": "python",
   "name": "python3"
  },
  "language_info": {
   "codemirror_mode": {
    "name": "ipython",
    "version": 3
   },
   "file_extension": ".py",
   "mimetype": "text/x-python",
   "name": "python",
   "nbconvert_exporter": "python",
   "pygments_lexer": "ipython3",
   "version": "3.8.10"
  }
 },
 "nbformat": 4,
 "nbformat_minor": 4
}
