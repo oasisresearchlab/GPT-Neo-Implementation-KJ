{
 "cells": [
  {
   "cell_type": "code",
   "execution_count": 19,
   "metadata": {},
   "outputs": [],
   "source": [
    "from transformers import pipeline"
   ]
  },
  {
   "cell_type": "code",
   "execution_count": 20,
   "metadata": {},
   "outputs": [],
   "source": [
    "import numpy as np\n",
    "import pandas as pd\n",
    "import random\n",
    "import string\n",
    "from datetime import datetime\n",
    "import time"
   ]
  },
  {
   "cell_type": "code",
   "execution_count": 21,
   "metadata": {},
   "outputs": [],
   "source": [
    "generator_gpt_neo_125m = pipeline('text-generation',model='EleutherAI/gpt-neo-125M')"
   ]
  },
  {
   "cell_type": "code",
   "execution_count": 22,
   "metadata": {},
   "outputs": [],
   "source": [
    "cols = ['id','model_name','iteration','temperature','input_length','problem_statement','abstract_reformulation','cumulative_time_in_seconds']\n",
    "def generate_blank_df(cols): \n",
    "    df = pd.DataFrame(columns = cols)\n",
    "    return df"
   ]
  },
  {
   "cell_type": "code",
   "execution_count": 23,
   "metadata": {},
   "outputs": [],
   "source": [
    "def get_current_date():\n",
    "    now = datetime.now()\n",
    "\n",
    "#     print(\"now =\", now)\n",
    "\n",
    "    # dd/mm/YY H:M:S\n",
    "    dt_string = now.strftime(\"%Y%m%d\")\n",
    "#     print(\"date and time =\", dt_string)\n",
    "    date_string = dt_string\n",
    "    return date_string"
   ]
  },
  {
   "cell_type": "code",
   "execution_count": 24,
   "metadata": {},
   "outputs": [],
   "source": [
    "date = get_current_date()"
   ]
  },
  {
   "cell_type": "code",
   "execution_count": 25,
   "metadata": {},
   "outputs": [],
   "source": [
    "def generate_output(model,max_iterations,prompt,number_of_problem_statements,temp,model_name_text,want_to_save_1or0):\n",
    "    start = time.time()\n",
    "    date = get_current_date()\n",
    "    df = generate_blank_df(cols)\n",
    "    rand_id = ''.join([random.choice(string.ascii_letters\n",
    "            + string.digits) for n in range(7)])\n",
    "    iteration_no = 1\n",
    "    columns = list(df)\n",
    "#     temp_str = str(temp)\n",
    "#     temp_str = temp_str.split('.')[-1]\n",
    "    file_name = date+'_'+model_name_text+'_'+rand_id+'_'+str(max_iterations)+'_'+str(number_of_problem_statements)+'.csv'\n",
    "    data = []\n",
    "    while temp < 1.0:\n",
    "        iteration_no = 1        \n",
    "        while iteration_no <= max_iterations:\n",
    "            cumulative_time=round((time.time()-start))\n",
    "            res_model = model(prompt,max_length = 32*number_of_problem_statements,do_sample = True,temperature = temp)\n",
    "#             print(res_model[0]['generated_text'])\n",
    "            problem_statement = res_model[0]['generated_text'].split('\\n\\n')[number_of_problem_statements+1].split('\\n')[0].split(':')[-1].strip()\n",
    "            abs_reformulation = res_model[0]['generated_text'].split('\\n\\n')[number_of_problem_statements+1].split('\\n')[-1].split(':')[-1].strip()\n",
    "            values_for_df = [rand_id,model_name_text,iteration_no,temp,number_of_problem_statements,problem_statement,abs_reformulation,cumulative_time]\n",
    "            zipped = zip(columns,values_for_df)\n",
    "            dict1 = dict(zipped)\n",
    "            data.append(dict1)\n",
    "            iteration_no += 1\n",
    "    #         print(f'Total time taken is {elapsed_time_lc}')\n",
    "            print(iteration_no-1,problem_statement,'->',abs_reformulation,cumulative_time,temp)\n",
    "            print('----------------------------------------')\n",
    "    #         print(rand_id,iteration_no,temp,number_of_problem_statements,problem_statement,abs_reformulation)\n",
    "        \n",
    "            df = df.append(data,ignore_index = True)\n",
    "        temp = round((temp+0.1),1)\n",
    "        \n",
    "    df = df.drop_duplicates()\n",
    "    \n",
    "    if(want_to_save_1or0==1):\n",
    "        df.to_csv(f'../Csv/{file_name}',index=False)\n",
    "    else:\n",
    "        print('returning_df')\n",
    "    \n",
    "    elapsed_time_lc=(time.time()-start)\n",
    "    print(f'Total time taken is {round(elapsed_time_lc)}')\n",
    "    \n",
    "    return df\n",
    "    "
   ]
  },
  {
   "cell_type": "code",
   "execution_count": 26,
   "metadata": {},
   "outputs": [],
   "source": [
    "user_input = \"improve nanoscale heat transfer in semiconductor material\""
   ]
  },
  {
   "cell_type": "code",
   "execution_count": 27,
   "metadata": {},
   "outputs": [],
   "source": [
    "prompt = f\"\"\"Given a problem statement, generate an abstracted reformulation of that problem statement\n",
    "\n",
    "Problem statement: Shield baby from the sun\n",
    "Abstracted reformulation: Protect vulnerable object from radiation\n",
    "\n",
    "Problem statement: Prevent feet from getting wet\n",
    "Abstracted reformulation: Stop object from getting into contact with unwanted substances\n",
    "\n",
    "Problem statement: Hold soap bars of multiple sizes\n",
    "Abstracted reformulation: Contain objects of different volumes\n",
    "\n",
    "Problem statement: Enable a broom to clean in hard to reach places\n",
    "Abstracted reformulation: Extend the physical reach of a tool\n",
    "\n",
    "Problem statement: drill into teeth quietly\n",
    "Abstracted reformulation: create a hole in an object without causing an unwanted noise\n",
    "\n",
    "Problem statement: make house out of cooked spaghetti\n",
    "Abstracted reformulation: create strong, rigid structure out of soft materials\n",
    "\n",
    "Problem statement: make house out of cooked spaghetti\n",
    "Abstracted reformulation: create structure from elastic elements\n",
    "\n",
    "Problem statement:  prevent bicycle tire flats\n",
    "Abstracted reformulation: protect object from the penetration of foreign objects\n",
    "\n",
    "Problem statement: prevent blood clotting in stents\n",
    "Abstracted reformulation: prevent clogging of cylindrical tubes\n",
    "\n",
    "Problem statement: transfer heat in semiconductors at nanoscale\n",
    "Abstracted reformulation: Enable particles to flow in confined geometries\n",
    "\n",
    "Problem statement:reduce seasickness in virtual reality systems\n",
    "Abstracted reformulation: reduce user's dependency on information cues\n",
    "\n",
    "Problem statement:reduce seasickness in virtual reality systems\n",
    "Abstracted reformulation: Achieve robust orientation stability\n",
    "\n",
    "Problem statement:reduce seasickness in virtual reality systems\n",
    "Abstracted reformulation: improve the feel of a complicated motion or force\n",
    "\n",
    "Problem statement:wash clothes without water\n",
    "Abstracted reformulation: Remove dirt from objects by mechanical force\n",
    "\n",
    "Problem statement:charge cell phones on the go\n",
    "Abstracted reformulation: Charge a battery source from a remote energy-source\n",
    "\n",
    "Problem statement:charge cell phones on the go\n",
    "Abstracted reformulation: Supply power to electrical devices in the field\n",
    "\n",
    "Problem statement:protect feet from getting wet\n",
    "Abstracted reformulation: stop entry of foreign particles\n",
    "\n",
    "Problem statement:protect feet from getting wet\n",
    "Abstracted reformulation: Mechanically stop liquid from penetrating a space\n",
    "\n",
    "Problem statement:shield baby from the sun\n",
    "Abstracted reformulation: Protect vulnerable object from radiation\n",
    "\n",
    "Problem statement:Prevent feet from getting wet\n",
    "Abstracted reformulation: Stop object from getting into contact with unwanted substances\n",
    "\n",
    "Problem statement: {user_input}\n",
    "\"\"\""
   ]
  },
  {
   "cell_type": "code",
   "execution_count": 28,
   "metadata": {},
   "outputs": [
    {
     "name": "stderr",
     "output_type": "stream",
     "text": [
      "Setting `pad_token_id` to `eos_token_id`:50256 for open-end generation.\n",
      "Setting `pad_token_id` to `eos_token_id`:50256 for open-end generation.\n"
     ]
    },
    {
     "name": "stdout",
     "output_type": "stream",
     "text": [
      "1 improve nanoscale heat transfer in semiconductor material -> Improve the feel of a complicated motion or force 0 0.1\n",
      "----------------------------------------\n"
     ]
    },
    {
     "name": "stderr",
     "output_type": "stream",
     "text": [
      "Setting `pad_token_id` to `eos_token_id`:50256 for open-end generation.\n"
     ]
    },
    {
     "name": "stdout",
     "output_type": "stream",
     "text": [
      "2 improve nanoscale heat transfer in semiconductor material -> Improve the feel of a complicated motion or force 23 0.1\n",
      "----------------------------------------\n"
     ]
    },
    {
     "name": "stderr",
     "output_type": "stream",
     "text": [
      "Setting `pad_token_id` to `eos_token_id`:50256 for open-end generation.\n"
     ]
    },
    {
     "name": "stdout",
     "output_type": "stream",
     "text": [
      "3 improve nanoscale heat transfer in semiconductor material -> Improve the feel of a complicated motion or force 43 0.1\n",
      "----------------------------------------\n"
     ]
    },
    {
     "name": "stderr",
     "output_type": "stream",
     "text": [
      "Setting `pad_token_id` to `eos_token_id`:50256 for open-end generation.\n"
     ]
    },
    {
     "name": "stdout",
     "output_type": "stream",
     "text": [
      "4 improve nanoscale heat transfer in semiconductor material -> Improve the feel of a complicated motion or force 62 0.1\n",
      "----------------------------------------\n"
     ]
    },
    {
     "name": "stderr",
     "output_type": "stream",
     "text": [
      "Setting `pad_token_id` to `eos_token_id`:50256 for open-end generation.\n"
     ]
    },
    {
     "name": "stdout",
     "output_type": "stream",
     "text": [
      "5 improve nanoscale heat transfer in semiconductor material -> Improve the feel of a complicated motion or force 79 0.1\n",
      "----------------------------------------\n"
     ]
    },
    {
     "name": "stderr",
     "output_type": "stream",
     "text": [
      "Setting `pad_token_id` to `eos_token_id`:50256 for open-end generation.\n"
     ]
    },
    {
     "name": "stdout",
     "output_type": "stream",
     "text": [
      "6 improve nanoscale heat transfer in semiconductor material -> Improve the feel of a complicated motion or force 96 0.1\n",
      "----------------------------------------\n"
     ]
    },
    {
     "name": "stderr",
     "output_type": "stream",
     "text": [
      "Setting `pad_token_id` to `eos_token_id`:50256 for open-end generation.\n"
     ]
    },
    {
     "name": "stdout",
     "output_type": "stream",
     "text": [
      "7 improve nanoscale heat transfer in semiconductor material -> Improve the feel of a complicated motion or force 113 0.1\n",
      "----------------------------------------\n"
     ]
    },
    {
     "name": "stderr",
     "output_type": "stream",
     "text": [
      "Setting `pad_token_id` to `eos_token_id`:50256 for open-end generation.\n"
     ]
    },
    {
     "name": "stdout",
     "output_type": "stream",
     "text": [
      "8 improve nanoscale heat transfer in semiconductor material -> Improve the feel of a complicated motion or force 131 0.1\n",
      "----------------------------------------\n"
     ]
    },
    {
     "name": "stderr",
     "output_type": "stream",
     "text": [
      "Setting `pad_token_id` to `eos_token_id`:50256 for open-end generation.\n"
     ]
    },
    {
     "name": "stdout",
     "output_type": "stream",
     "text": [
      "9 improve nanoscale heat transfer in semiconductor material -> Improve the feel of a complicated motion or force 148 0.1\n",
      "----------------------------------------\n"
     ]
    },
    {
     "name": "stderr",
     "output_type": "stream",
     "text": [
      "Setting `pad_token_id` to `eos_token_id`:50256 for open-end generation.\n"
     ]
    },
    {
     "name": "stdout",
     "output_type": "stream",
     "text": [
      "10 improve nanoscale heat transfer in semiconductor material -> Improve the feel of a complicated motion or force 166 0.1\n",
      "----------------------------------------\n"
     ]
    },
    {
     "name": "stderr",
     "output_type": "stream",
     "text": [
      "Setting `pad_token_id` to `eos_token_id`:50256 for open-end generation.\n"
     ]
    },
    {
     "name": "stdout",
     "output_type": "stream",
     "text": [
      "11 improve nanoscale heat transfer in semiconductor material -> Improve the feel of a complicated motion or force 183 0.1\n",
      "----------------------------------------\n"
     ]
    },
    {
     "name": "stderr",
     "output_type": "stream",
     "text": [
      "Setting `pad_token_id` to `eos_token_id`:50256 for open-end generation.\n"
     ]
    },
    {
     "name": "stdout",
     "output_type": "stream",
     "text": [
      "12 improve nanoscale heat transfer in semiconductor material -> Improve the feel of a complicated motion or force 200 0.1\n",
      "----------------------------------------\n"
     ]
    },
    {
     "name": "stderr",
     "output_type": "stream",
     "text": [
      "Setting `pad_token_id` to `eos_token_id`:50256 for open-end generation.\n"
     ]
    },
    {
     "name": "stdout",
     "output_type": "stream",
     "text": [
      "13 improve nanoscale heat transfer in semiconductor material -> Improve the feel of a complicated motion or force 223 0.1\n",
      "----------------------------------------\n"
     ]
    },
    {
     "name": "stderr",
     "output_type": "stream",
     "text": [
      "Setting `pad_token_id` to `eos_token_id`:50256 for open-end generation.\n"
     ]
    },
    {
     "name": "stdout",
     "output_type": "stream",
     "text": [
      "14 improve nanoscale heat transfer in semiconductor material -> Improve the feel of a complicated motion or force 246 0.1\n",
      "----------------------------------------\n"
     ]
    },
    {
     "name": "stderr",
     "output_type": "stream",
     "text": [
      "Setting `pad_token_id` to `eos_token_id`:50256 for open-end generation.\n"
     ]
    },
    {
     "name": "stdout",
     "output_type": "stream",
     "text": [
      "15 improve nanoscale heat transfer in semiconductor material -> Improve the feel of a complicated motion or force 266 0.1\n",
      "----------------------------------------\n"
     ]
    },
    {
     "name": "stderr",
     "output_type": "stream",
     "text": [
      "Setting `pad_token_id` to `eos_token_id`:50256 for open-end generation.\n"
     ]
    },
    {
     "name": "stdout",
     "output_type": "stream",
     "text": [
      "16 improve nanoscale heat transfer in semiconductor material -> Improve the feel of a complicated motion or force 292 0.1\n",
      "----------------------------------------\n"
     ]
    },
    {
     "name": "stderr",
     "output_type": "stream",
     "text": [
      "Setting `pad_token_id` to `eos_token_id`:50256 for open-end generation.\n"
     ]
    },
    {
     "name": "stdout",
     "output_type": "stream",
     "text": [
      "17 improve nanoscale heat transfer in semiconductor material -> Improve the feel of a complicated motion or force 314 0.1\n",
      "----------------------------------------\n"
     ]
    },
    {
     "name": "stderr",
     "output_type": "stream",
     "text": [
      "Setting `pad_token_id` to `eos_token_id`:50256 for open-end generation.\n"
     ]
    },
    {
     "name": "stdout",
     "output_type": "stream",
     "text": [
      "18 improve nanoscale heat transfer in semiconductor material -> Improve the feel of a complicated motion or force 340 0.1\n",
      "----------------------------------------\n"
     ]
    },
    {
     "name": "stderr",
     "output_type": "stream",
     "text": [
      "Setting `pad_token_id` to `eos_token_id`:50256 for open-end generation.\n"
     ]
    },
    {
     "name": "stdout",
     "output_type": "stream",
     "text": [
      "19 improve nanoscale heat transfer in semiconductor material -> Improve the feel of a complicated motion or force 366 0.1\n",
      "----------------------------------------\n"
     ]
    },
    {
     "name": "stderr",
     "output_type": "stream",
     "text": [
      "Setting `pad_token_id` to `eos_token_id`:50256 for open-end generation.\n"
     ]
    },
    {
     "name": "stdout",
     "output_type": "stream",
     "text": [
      "20 improve nanoscale heat transfer in semiconductor material -> Improve the feel of a complicated motion or force 390 0.1\n",
      "----------------------------------------\n"
     ]
    },
    {
     "name": "stderr",
     "output_type": "stream",
     "text": [
      "Setting `pad_token_id` to `eos_token_id`:50256 for open-end generation.\n"
     ]
    },
    {
     "name": "stdout",
     "output_type": "stream",
     "text": [
      "1 improve nanoscale heat transfer in semiconductor material -> Improve the feel of a complicated motion or force 411 0.2\n",
      "----------------------------------------\n"
     ]
    },
    {
     "name": "stderr",
     "output_type": "stream",
     "text": [
      "Setting `pad_token_id` to `eos_token_id`:50256 for open-end generation.\n"
     ]
    },
    {
     "name": "stdout",
     "output_type": "stream",
     "text": [
      "2 improve nanoscale heat transfer in semiconductor material -> Improve the feel of a complicated motion or force 432 0.2\n",
      "----------------------------------------\n"
     ]
    },
    {
     "name": "stderr",
     "output_type": "stream",
     "text": [
      "Setting `pad_token_id` to `eos_token_id`:50256 for open-end generation.\n"
     ]
    },
    {
     "name": "stdout",
     "output_type": "stream",
     "text": [
      "3 improve nanoscale heat transfer in semiconductor material -> improve nanoscale heat transfer in semiconductor material 454 0.2\n",
      "----------------------------------------\n"
     ]
    },
    {
     "name": "stderr",
     "output_type": "stream",
     "text": [
      "Setting `pad_token_id` to `eos_token_id`:50256 for open-end generation.\n"
     ]
    },
    {
     "name": "stdout",
     "output_type": "stream",
     "text": [
      "4 improve nanoscale heat transfer in semiconductor material -> Improve the feel of a complicated motion or force 477 0.2\n",
      "----------------------------------------\n"
     ]
    },
    {
     "name": "stderr",
     "output_type": "stream",
     "text": [
      "Setting `pad_token_id` to `eos_token_id`:50256 for open-end generation.\n"
     ]
    },
    {
     "name": "stdout",
     "output_type": "stream",
     "text": [
      "5 improve nanoscale heat transfer in semiconductor material -> Improve the feel of a complicated motion or force 501 0.2\n",
      "----------------------------------------\n"
     ]
    },
    {
     "name": "stderr",
     "output_type": "stream",
     "text": [
      "Setting `pad_token_id` to `eos_token_id`:50256 for open-end generation.\n"
     ]
    },
    {
     "name": "stdout",
     "output_type": "stream",
     "text": [
      "6 improve nanoscale heat transfer in semiconductor material -> Improve the feel of a complicated motion or force 523 0.2\n",
      "----------------------------------------\n"
     ]
    },
    {
     "name": "stderr",
     "output_type": "stream",
     "text": [
      "Setting `pad_token_id` to `eos_token_id`:50256 for open-end generation.\n"
     ]
    },
    {
     "name": "stdout",
     "output_type": "stream",
     "text": [
      "7 improve nanoscale heat transfer in semiconductor material -> Improve the feel of a complicated motion or force 544 0.2\n",
      "----------------------------------------\n"
     ]
    },
    {
     "name": "stderr",
     "output_type": "stream",
     "text": [
      "Setting `pad_token_id` to `eos_token_id`:50256 for open-end generation.\n"
     ]
    },
    {
     "name": "stdout",
     "output_type": "stream",
     "text": [
      "8 improve nanoscale heat transfer in semiconductor material -> Improve the feel of a complicated motion or force 566 0.2\n",
      "----------------------------------------\n"
     ]
    },
    {
     "name": "stderr",
     "output_type": "stream",
     "text": [
      "Setting `pad_token_id` to `eos_token_id`:50256 for open-end generation.\n"
     ]
    },
    {
     "name": "stdout",
     "output_type": "stream",
     "text": [
      "9 improve nanoscale heat transfer in semiconductor material -> Improve the feel of a complicated motion or force 586 0.2\n",
      "----------------------------------------\n"
     ]
    },
    {
     "name": "stderr",
     "output_type": "stream",
     "text": [
      "Setting `pad_token_id` to `eos_token_id`:50256 for open-end generation.\n"
     ]
    },
    {
     "name": "stdout",
     "output_type": "stream",
     "text": [
      "10 improve nanoscale heat transfer in semiconductor material -> Improve the feel of a complicated motion or force 611 0.2\n",
      "----------------------------------------\n"
     ]
    },
    {
     "name": "stderr",
     "output_type": "stream",
     "text": [
      "Setting `pad_token_id` to `eos_token_id`:50256 for open-end generation.\n"
     ]
    },
    {
     "name": "stdout",
     "output_type": "stream",
     "text": [
      "11 improve nanoscale heat transfer in semiconductor material -> Improve the feel of a complicated motion or force 633 0.2\n",
      "----------------------------------------\n"
     ]
    },
    {
     "name": "stderr",
     "output_type": "stream",
     "text": [
      "Setting `pad_token_id` to `eos_token_id`:50256 for open-end generation.\n"
     ]
    },
    {
     "name": "stdout",
     "output_type": "stream",
     "text": [
      "12 improve nanoscale heat transfer in semiconductor material -> Improve the feel of a complicated motion or force 654 0.2\n",
      "----------------------------------------\n"
     ]
    },
    {
     "name": "stderr",
     "output_type": "stream",
     "text": [
      "Setting `pad_token_id` to `eos_token_id`:50256 for open-end generation.\n"
     ]
    },
    {
     "name": "stdout",
     "output_type": "stream",
     "text": [
      "13 improve nanoscale heat transfer in semiconductor material -> Improve the feel of a complicated motion or force 674 0.2\n",
      "----------------------------------------\n"
     ]
    },
    {
     "name": "stderr",
     "output_type": "stream",
     "text": [
      "Setting `pad_token_id` to `eos_token_id`:50256 for open-end generation.\n"
     ]
    },
    {
     "name": "stdout",
     "output_type": "stream",
     "text": [
      "14 improve nanoscale heat transfer in semiconductor material -> Improve the feel of a complicated motion or force 694 0.2\n",
      "----------------------------------------\n"
     ]
    },
    {
     "name": "stderr",
     "output_type": "stream",
     "text": [
      "Setting `pad_token_id` to `eos_token_id`:50256 for open-end generation.\n"
     ]
    },
    {
     "name": "stdout",
     "output_type": "stream",
     "text": [
      "15 improve nanoscale heat transfer in semiconductor material -> Improve the feel of a complicated motion or force 714 0.2\n",
      "----------------------------------------\n"
     ]
    },
    {
     "name": "stderr",
     "output_type": "stream",
     "text": [
      "Setting `pad_token_id` to `eos_token_id`:50256 for open-end generation.\n"
     ]
    },
    {
     "name": "stdout",
     "output_type": "stream",
     "text": [
      "16 improve nanoscale heat transfer in semiconductor material -> Improve the feel of a complicated motion or force 734 0.2\n",
      "----------------------------------------\n"
     ]
    },
    {
     "name": "stderr",
     "output_type": "stream",
     "text": [
      "Setting `pad_token_id` to `eos_token_id`:50256 for open-end generation.\n"
     ]
    },
    {
     "name": "stdout",
     "output_type": "stream",
     "text": [
      "17 improve nanoscale heat transfer in semiconductor material -> Improve the feel of a complicated motion or force 754 0.2\n",
      "----------------------------------------\n"
     ]
    },
    {
     "name": "stderr",
     "output_type": "stream",
     "text": [
      "Setting `pad_token_id` to `eos_token_id`:50256 for open-end generation.\n"
     ]
    },
    {
     "name": "stdout",
     "output_type": "stream",
     "text": [
      "18 improve nanoscale heat transfer in semiconductor material -> Improve the feel of a complicated motion or force 773 0.2\n",
      "----------------------------------------\n"
     ]
    },
    {
     "name": "stderr",
     "output_type": "stream",
     "text": [
      "Setting `pad_token_id` to `eos_token_id`:50256 for open-end generation.\n"
     ]
    },
    {
     "name": "stdout",
     "output_type": "stream",
     "text": [
      "19 improve nanoscale heat transfer in semiconductor material -> Improve the feel of a complicated motion or force 793 0.2\n",
      "----------------------------------------\n"
     ]
    },
    {
     "name": "stderr",
     "output_type": "stream",
     "text": [
      "Setting `pad_token_id` to `eos_token_id`:50256 for open-end generation.\n"
     ]
    },
    {
     "name": "stdout",
     "output_type": "stream",
     "text": [
      "20 improve nanoscale heat transfer in semiconductor material -> Improve heat transfer in semiconductor material 813 0.2\n",
      "----------------------------------------\n"
     ]
    },
    {
     "name": "stderr",
     "output_type": "stream",
     "text": [
      "Setting `pad_token_id` to `eos_token_id`:50256 for open-end generation.\n"
     ]
    },
    {
     "name": "stdout",
     "output_type": "stream",
     "text": [
      "1 improve nanoscale heat transfer in semiconductor material -> Improve the feel of a complicated motion or force 835 0.3\n",
      "----------------------------------------\n"
     ]
    },
    {
     "name": "stderr",
     "output_type": "stream",
     "text": [
      "Setting `pad_token_id` to `eos_token_id`:50256 for open-end generation.\n"
     ]
    },
    {
     "name": "stdout",
     "output_type": "stream",
     "text": [
      "2 improve nanoscale heat transfer in semiconductor material -> Improve the feel of a complicated motion or force 856 0.3\n",
      "----------------------------------------\n"
     ]
    },
    {
     "name": "stderr",
     "output_type": "stream",
     "text": [
      "Setting `pad_token_id` to `eos_token_id`:50256 for open-end generation.\n"
     ]
    },
    {
     "name": "stdout",
     "output_type": "stream",
     "text": [
      "3 improve nanoscale heat transfer in semiconductor material -> Improve the feel of a complicated motion or force 876 0.3\n",
      "----------------------------------------\n"
     ]
    },
    {
     "name": "stderr",
     "output_type": "stream",
     "text": [
      "Setting `pad_token_id` to `eos_token_id`:50256 for open-end generation.\n"
     ]
    },
    {
     "name": "stdout",
     "output_type": "stream",
     "text": [
      "4 improve nanoscale heat transfer in semiconductor material -> improve nanoscale heat transfer in semiconductor material 896 0.3\n",
      "----------------------------------------\n"
     ]
    },
    {
     "name": "stderr",
     "output_type": "stream",
     "text": [
      "Setting `pad_token_id` to `eos_token_id`:50256 for open-end generation.\n"
     ]
    },
    {
     "name": "stdout",
     "output_type": "stream",
     "text": [
      "5 improve nanoscale heat transfer in semiconductor material -> improve nanoscale heat transfer in semiconductor material 916 0.3\n",
      "----------------------------------------\n"
     ]
    },
    {
     "name": "stderr",
     "output_type": "stream",
     "text": [
      "Setting `pad_token_id` to `eos_token_id`:50256 for open-end generation.\n"
     ]
    },
    {
     "name": "stdout",
     "output_type": "stream",
     "text": [
      "6 improve nanoscale heat transfer in semiconductor material -> Improve the feel of a complicated motion or force 935 0.3\n",
      "----------------------------------------\n"
     ]
    },
    {
     "name": "stderr",
     "output_type": "stream",
     "text": [
      "Setting `pad_token_id` to `eos_token_id`:50256 for open-end generation.\n"
     ]
    },
    {
     "name": "stdout",
     "output_type": "stream",
     "text": [
      "7 improve nanoscale heat transfer in semiconductor material -> Improve the feel of a complicated motion or force 956 0.3\n",
      "----------------------------------------\n"
     ]
    },
    {
     "name": "stderr",
     "output_type": "stream",
     "text": [
      "Setting `pad_token_id` to `eos_token_id`:50256 for open-end generation.\n"
     ]
    },
    {
     "name": "stdout",
     "output_type": "stream",
     "text": [
      "8 improve nanoscale heat transfer in semiconductor material -> Improve the feel of a complicated motion or force 976 0.3\n",
      "----------------------------------------\n"
     ]
    },
    {
     "name": "stderr",
     "output_type": "stream",
     "text": [
      "Setting `pad_token_id` to `eos_token_id`:50256 for open-end generation.\n"
     ]
    },
    {
     "name": "stdout",
     "output_type": "stream",
     "text": [
      "9 improve nanoscale heat transfer in semiconductor material -> Improve the feel of a complicated motion or force 1000 0.3\n",
      "----------------------------------------\n"
     ]
    },
    {
     "name": "stderr",
     "output_type": "stream",
     "text": [
      "Setting `pad_token_id` to `eos_token_id`:50256 for open-end generation.\n"
     ]
    },
    {
     "name": "stdout",
     "output_type": "stream",
     "text": [
      "10 improve nanoscale heat transfer in semiconductor material -> Improve the feel of a complicated motion or force 1024 0.3\n",
      "----------------------------------------\n"
     ]
    },
    {
     "name": "stderr",
     "output_type": "stream",
     "text": [
      "Setting `pad_token_id` to `eos_token_id`:50256 for open-end generation.\n"
     ]
    },
    {
     "name": "stdout",
     "output_type": "stream",
     "text": [
      "11 improve nanoscale heat transfer in semiconductor material -> Improve the feel of a complicated motion or force 1047 0.3\n",
      "----------------------------------------\n"
     ]
    },
    {
     "name": "stderr",
     "output_type": "stream",
     "text": [
      "Setting `pad_token_id` to `eos_token_id`:50256 for open-end generation.\n"
     ]
    },
    {
     "name": "stdout",
     "output_type": "stream",
     "text": [
      "12 improve nanoscale heat transfer in semiconductor material -> Improve the feel of a complicated motion or force 1070 0.3\n",
      "----------------------------------------\n"
     ]
    },
    {
     "name": "stderr",
     "output_type": "stream",
     "text": [
      "Setting `pad_token_id` to `eos_token_id`:50256 for open-end generation.\n"
     ]
    },
    {
     "name": "stdout",
     "output_type": "stream",
     "text": [
      "13 improve nanoscale heat transfer in semiconductor material -> Improve the feel of a complicated motion or force 1093 0.3\n",
      "----------------------------------------\n"
     ]
    },
    {
     "name": "stderr",
     "output_type": "stream",
     "text": [
      "Setting `pad_token_id` to `eos_token_id`:50256 for open-end generation.\n"
     ]
    },
    {
     "name": "stdout",
     "output_type": "stream",
     "text": [
      "14 improve nanoscale heat transfer in semiconductor material -> Improve the feel of a complicated motion or force 1118 0.3\n",
      "----------------------------------------\n"
     ]
    },
    {
     "name": "stderr",
     "output_type": "stream",
     "text": [
      "Setting `pad_token_id` to `eos_token_id`:50256 for open-end generation.\n"
     ]
    },
    {
     "name": "stdout",
     "output_type": "stream",
     "text": [
      "15 improve nanoscale heat transfer in semiconductor material -> Improve the feel of a complicated motion or force 1145 0.3\n",
      "----------------------------------------\n"
     ]
    },
    {
     "name": "stderr",
     "output_type": "stream",
     "text": [
      "Setting `pad_token_id` to `eos_token_id`:50256 for open-end generation.\n"
     ]
    },
    {
     "name": "stdout",
     "output_type": "stream",
     "text": [
      "16 improve nanoscale heat transfer in semiconductor material -> Improve the feel of a complicated motion or force 1169 0.3\n",
      "----------------------------------------\n"
     ]
    },
    {
     "name": "stderr",
     "output_type": "stream",
     "text": [
      "Setting `pad_token_id` to `eos_token_id`:50256 for open-end generation.\n"
     ]
    },
    {
     "name": "stdout",
     "output_type": "stream",
     "text": [
      "17 improve nanoscale heat transfer in semiconductor material -> Improve the feel of a complicated motion or force 1192 0.3\n",
      "----------------------------------------\n"
     ]
    },
    {
     "name": "stderr",
     "output_type": "stream",
     "text": [
      "Setting `pad_token_id` to `eos_token_id`:50256 for open-end generation.\n"
     ]
    },
    {
     "name": "stdout",
     "output_type": "stream",
     "text": [
      "18 improve nanoscale heat transfer in semiconductor material -> Improve the feel of a complicated motion or force 1214 0.3\n",
      "----------------------------------------\n"
     ]
    },
    {
     "name": "stderr",
     "output_type": "stream",
     "text": [
      "Setting `pad_token_id` to `eos_token_id`:50256 for open-end generation.\n"
     ]
    },
    {
     "name": "stdout",
     "output_type": "stream",
     "text": [
      "19 improve nanoscale heat transfer in semiconductor material -> Improve the feel of a complicated motion or force 1236 0.3\n",
      "----------------------------------------\n"
     ]
    },
    {
     "name": "stderr",
     "output_type": "stream",
     "text": [
      "Setting `pad_token_id` to `eos_token_id`:50256 for open-end generation.\n"
     ]
    },
    {
     "name": "stdout",
     "output_type": "stream",
     "text": [
      "20 improve nanoscale heat transfer in semiconductor material -> Improve the feel of a complicated motion or force 1257 0.3\n",
      "----------------------------------------\n"
     ]
    },
    {
     "name": "stderr",
     "output_type": "stream",
     "text": [
      "Setting `pad_token_id` to `eos_token_id`:50256 for open-end generation.\n"
     ]
    },
    {
     "name": "stdout",
     "output_type": "stream",
     "text": [
      "1 improve nanoscale heat transfer in semiconductor material -> Improve the feel of a complicated motion or force 1284 0.4\n",
      "----------------------------------------\n"
     ]
    },
    {
     "name": "stderr",
     "output_type": "stream",
     "text": [
      "Setting `pad_token_id` to `eos_token_id`:50256 for open-end generation.\n"
     ]
    },
    {
     "name": "stdout",
     "output_type": "stream",
     "text": [
      "2 improve nanoscale heat transfer in semiconductor material -> Improve the feel of a complicated motion or force 1312 0.4\n",
      "----------------------------------------\n"
     ]
    },
    {
     "name": "stderr",
     "output_type": "stream",
     "text": [
      "Setting `pad_token_id` to `eos_token_id`:50256 for open-end generation.\n"
     ]
    },
    {
     "name": "stdout",
     "output_type": "stream",
     "text": [
      "3 improve nanoscale heat transfer in semiconductor material -> Improve heat transfer in semiconductor material 1337 0.4\n",
      "----------------------------------------\n"
     ]
    },
    {
     "name": "stderr",
     "output_type": "stream",
     "text": [
      "Setting `pad_token_id` to `eos_token_id`:50256 for open-end generation.\n"
     ]
    },
    {
     "name": "stdout",
     "output_type": "stream",
     "text": [
      "4 improve nanoscale heat transfer in semiconductor material -> Improve the feel of a complicated motion or force 1363 0.4\n",
      "----------------------------------------\n"
     ]
    },
    {
     "name": "stderr",
     "output_type": "stream",
     "text": [
      "Setting `pad_token_id` to `eos_token_id`:50256 for open-end generation.\n"
     ]
    },
    {
     "name": "stdout",
     "output_type": "stream",
     "text": [
      "5 improve nanoscale heat transfer in semiconductor material -> Improve the feel of a complicated motion or force 1384 0.4\n",
      "----------------------------------------\n"
     ]
    },
    {
     "name": "stderr",
     "output_type": "stream",
     "text": [
      "Setting `pad_token_id` to `eos_token_id`:50256 for open-end generation.\n"
     ]
    },
    {
     "name": "stdout",
     "output_type": "stream",
     "text": [
      "6 improve nanoscale heat transfer in semiconductor material -> Improve the feel of a complicated motion or force 1404 0.4\n",
      "----------------------------------------\n"
     ]
    },
    {
     "name": "stderr",
     "output_type": "stream",
     "text": [
      "Setting `pad_token_id` to `eos_token_id`:50256 for open-end generation.\n"
     ]
    },
    {
     "name": "stdout",
     "output_type": "stream",
     "text": [
      "7 improve nanoscale heat transfer in semiconductor material -> improve nanoscale heat transfer in semiconductor material 1426 0.4\n",
      "----------------------------------------\n"
     ]
    },
    {
     "name": "stderr",
     "output_type": "stream",
     "text": [
      "Setting `pad_token_id` to `eos_token_id`:50256 for open-end generation.\n"
     ]
    },
    {
     "name": "stdout",
     "output_type": "stream",
     "text": [
      "8 improve nanoscale heat transfer in semiconductor material -> Improve the feel of a complicated motion or force 1449 0.4\n",
      "----------------------------------------\n"
     ]
    },
    {
     "name": "stderr",
     "output_type": "stream",
     "text": [
      "Setting `pad_token_id` to `eos_token_id`:50256 for open-end generation.\n"
     ]
    },
    {
     "name": "stdout",
     "output_type": "stream",
     "text": [
      "9 improve nanoscale heat transfer in semiconductor material -> Improve the feel of a complicated motion or force 1470 0.4\n",
      "----------------------------------------\n"
     ]
    },
    {
     "name": "stderr",
     "output_type": "stream",
     "text": [
      "Setting `pad_token_id` to `eos_token_id`:50256 for open-end generation.\n"
     ]
    },
    {
     "name": "stdout",
     "output_type": "stream",
     "text": [
      "10 improve nanoscale heat transfer in semiconductor material -> improve nanoscale heat transfer in semiconductor material 1492 0.4\n",
      "----------------------------------------\n"
     ]
    },
    {
     "name": "stderr",
     "output_type": "stream",
     "text": [
      "Setting `pad_token_id` to `eos_token_id`:50256 for open-end generation.\n"
     ]
    },
    {
     "name": "stdout",
     "output_type": "stream",
     "text": [
      "11 improve nanoscale heat transfer in semiconductor material -> Improve heat transfer to the surface of a semiconductor material 1512 0.4\n",
      "----------------------------------------\n"
     ]
    },
    {
     "name": "stderr",
     "output_type": "stream",
     "text": [
      "Setting `pad_token_id` to `eos_token_id`:50256 for open-end generation.\n"
     ]
    },
    {
     "name": "stdout",
     "output_type": "stream",
     "text": [
      "12 improve nanoscale heat transfer in semiconductor material -> Improve the feel of a complicated motion or force 1541 0.4\n",
      "----------------------------------------\n"
     ]
    },
    {
     "name": "stderr",
     "output_type": "stream",
     "text": [
      "Setting `pad_token_id` to `eos_token_id`:50256 for open-end generation.\n"
     ]
    },
    {
     "name": "stdout",
     "output_type": "stream",
     "text": [
      "13 improve nanoscale heat transfer in semiconductor material -> Improve the feel of a complex motion or force 1565 0.4\n",
      "----------------------------------------\n"
     ]
    },
    {
     "name": "stderr",
     "output_type": "stream",
     "text": [
      "Setting `pad_token_id` to `eos_token_id`:50256 for open-end generation.\n"
     ]
    },
    {
     "name": "stdout",
     "output_type": "stream",
     "text": [
      "14 improve nanoscale heat transfer in semiconductor material -> Improve the feel of a complicated motion or force 1588 0.4\n",
      "----------------------------------------\n"
     ]
    },
    {
     "name": "stderr",
     "output_type": "stream",
     "text": [
      "Setting `pad_token_id` to `eos_token_id`:50256 for open-end generation.\n"
     ]
    },
    {
     "name": "stdout",
     "output_type": "stream",
     "text": [
      "15 improve nanoscale heat transfer in semiconductor material -> Improve the feel of a complicated motion or force 1612 0.4\n",
      "----------------------------------------\n"
     ]
    },
    {
     "name": "stderr",
     "output_type": "stream",
     "text": [
      "Setting `pad_token_id` to `eos_token_id`:50256 for open-end generation.\n"
     ]
    },
    {
     "name": "stdout",
     "output_type": "stream",
     "text": [
      "16 improve nanoscale heat transfer in semiconductor material -> Improve the feel of a complicated motion or force 1635 0.4\n",
      "----------------------------------------\n"
     ]
    },
    {
     "name": "stderr",
     "output_type": "stream",
     "text": [
      "Setting `pad_token_id` to `eos_token_id`:50256 for open-end generation.\n"
     ]
    },
    {
     "name": "stdout",
     "output_type": "stream",
     "text": [
      "17 improve nanoscale heat transfer in semiconductor material -> Improve the feel of a complicated motion or force 1655 0.4\n",
      "----------------------------------------\n"
     ]
    },
    {
     "name": "stderr",
     "output_type": "stream",
     "text": [
      "Setting `pad_token_id` to `eos_token_id`:50256 for open-end generation.\n"
     ]
    },
    {
     "name": "stdout",
     "output_type": "stream",
     "text": [
      "18 improve nanoscale heat transfer in semiconductor material -> Improve the feel of a complicated motion or force 1675 0.4\n",
      "----------------------------------------\n"
     ]
    },
    {
     "name": "stderr",
     "output_type": "stream",
     "text": [
      "Setting `pad_token_id` to `eos_token_id`:50256 for open-end generation.\n"
     ]
    },
    {
     "name": "stdout",
     "output_type": "stream",
     "text": [
      "19 improve nanoscale heat transfer in semiconductor material -> Improve the feel of a complicated motion or force 1695 0.4\n",
      "----------------------------------------\n"
     ]
    },
    {
     "name": "stderr",
     "output_type": "stream",
     "text": [
      "Setting `pad_token_id` to `eos_token_id`:50256 for open-end generation.\n"
     ]
    },
    {
     "name": "stdout",
     "output_type": "stream",
     "text": [
      "20 improve nanoscale heat transfer in semiconductor material -> improve nanoscale heat transfer in semiconductor material 1716 0.4\n",
      "----------------------------------------\n"
     ]
    },
    {
     "name": "stderr",
     "output_type": "stream",
     "text": [
      "Setting `pad_token_id` to `eos_token_id`:50256 for open-end generation.\n"
     ]
    },
    {
     "name": "stdout",
     "output_type": "stream",
     "text": [
      "1 improve nanoscale heat transfer in semiconductor material -> Reduce the heat transfer in semiconductor material 1742 0.5\n",
      "----------------------------------------\n"
     ]
    },
    {
     "name": "stderr",
     "output_type": "stream",
     "text": [
      "Setting `pad_token_id` to `eos_token_id`:50256 for open-end generation.\n"
     ]
    },
    {
     "name": "stdout",
     "output_type": "stream",
     "text": [
      "2 improve nanoscale heat transfer in semiconductor material -> Improve the feel of a complicated motion or force 1772 0.5\n",
      "----------------------------------------\n"
     ]
    },
    {
     "name": "stderr",
     "output_type": "stream",
     "text": [
      "Setting `pad_token_id` to `eos_token_id`:50256 for open-end generation.\n"
     ]
    },
    {
     "name": "stdout",
     "output_type": "stream",
     "text": [
      "3 improve nanoscale heat transfer in semiconductor material -> Increase the heat transfer of semiconductor materials 1792 0.5\n",
      "----------------------------------------\n"
     ]
    },
    {
     "name": "stderr",
     "output_type": "stream",
     "text": [
      "Setting `pad_token_id` to `eos_token_id`:50256 for open-end generation.\n"
     ]
    },
    {
     "name": "stdout",
     "output_type": "stream",
     "text": [
      "4 improve nanoscale heat transfer in semiconductor material -> Improve the feel of a complicated motion or force 1811 0.5\n",
      "----------------------------------------\n"
     ]
    },
    {
     "name": "stderr",
     "output_type": "stream",
     "text": [
      "Setting `pad_token_id` to `eos_token_id`:50256 for open-end generation.\n"
     ]
    },
    {
     "name": "stdout",
     "output_type": "stream",
     "text": [
      "5 improve nanoscale heat transfer in semiconductor material -> Improve the feel of a complicated motion or force 1829 0.5\n",
      "----------------------------------------\n"
     ]
    },
    {
     "name": "stderr",
     "output_type": "stream",
     "text": [
      "Setting `pad_token_id` to `eos_token_id`:50256 for open-end generation.\n"
     ]
    },
    {
     "name": "stdout",
     "output_type": "stream",
     "text": [
      "6 improve nanoscale heat transfer in semiconductor material -> Improve the physical properties of nanoscale materials 1846 0.5\n",
      "----------------------------------------\n"
     ]
    },
    {
     "name": "stderr",
     "output_type": "stream",
     "text": [
      "Setting `pad_token_id` to `eos_token_id`:50256 for open-end generation.\n"
     ]
    },
    {
     "name": "stdout",
     "output_type": "stream",
     "text": [
      "7 improve nanoscale heat transfer in semiconductor material -> Improve the thermal conductivity of semiconductors 1863 0.5\n",
      "----------------------------------------\n"
     ]
    },
    {
     "name": "stderr",
     "output_type": "stream",
     "text": [
      "Setting `pad_token_id` to `eos_token_id`:50256 for open-end generation.\n"
     ]
    },
    {
     "name": "stdout",
     "output_type": "stream",
     "text": [
      "8 improve nanoscale heat transfer in semiconductor material -> Improve heat transfer in semiconductor material 1881 0.5\n",
      "----------------------------------------\n"
     ]
    },
    {
     "name": "stderr",
     "output_type": "stream",
     "text": [
      "Setting `pad_token_id` to `eos_token_id`:50256 for open-end generation.\n"
     ]
    },
    {
     "name": "stdout",
     "output_type": "stream",
     "text": [
      "9 improve nanoscale heat transfer in semiconductor material -> Protect object from the penetration of foreign objects 1899 0.5\n",
      "----------------------------------------\n"
     ]
    },
    {
     "name": "stderr",
     "output_type": "stream",
     "text": [
      "Setting `pad_token_id` to `eos_token_id`:50256 for open-end generation.\n"
     ]
    },
    {
     "name": "stdout",
     "output_type": "stream",
     "text": [
      "10 improve nanoscale heat transfer in semiconductor material -> Improve the feel of a complicated motion or force 1916 0.5\n",
      "----------------------------------------\n"
     ]
    },
    {
     "name": "stderr",
     "output_type": "stream",
     "text": [
      "Setting `pad_token_id` to `eos_token_id`:50256 for open-end generation.\n"
     ]
    },
    {
     "name": "stdout",
     "output_type": "stream",
     "text": [
      "11 improve nanoscale heat transfer in semiconductor material -> Improve semiconductor heat transfer 1934 0.5\n",
      "----------------------------------------\n"
     ]
    },
    {
     "name": "stderr",
     "output_type": "stream",
     "text": [
      "Setting `pad_token_id` to `eos_token_id`:50256 for open-end generation.\n"
     ]
    },
    {
     "name": "stdout",
     "output_type": "stream",
     "text": [
      "12 improve nanoscale heat transfer in semiconductor material -> Improve mechanical heat transfer 1951 0.5\n",
      "----------------------------------------\n"
     ]
    },
    {
     "name": "stderr",
     "output_type": "stream",
     "text": [
      "Setting `pad_token_id` to `eos_token_id`:50256 for open-end generation.\n"
     ]
    },
    {
     "name": "stdout",
     "output_type": "stream",
     "text": [
      "13 improve nanoscale heat transfer in semiconductor material -> Improve nanoscale heat transfer in semiconductor material 1968 0.5\n",
      "----------------------------------------\n"
     ]
    },
    {
     "name": "stderr",
     "output_type": "stream",
     "text": [
      "Setting `pad_token_id` to `eos_token_id`:50256 for open-end generation.\n"
     ]
    },
    {
     "name": "stdout",
     "output_type": "stream",
     "text": [
      "14 improve nanoscale heat transfer in semiconductor material -> Improve the feel of a complicated motion or force 1985 0.5\n",
      "----------------------------------------\n"
     ]
    },
    {
     "name": "stderr",
     "output_type": "stream",
     "text": [
      "Setting `pad_token_id` to `eos_token_id`:50256 for open-end generation.\n"
     ]
    },
    {
     "name": "stdout",
     "output_type": "stream",
     "text": [
      "15 improve nanoscale heat transfer in semiconductor material -> Improve thermal stability of nanocrystals 2003 0.5\n",
      "----------------------------------------\n"
     ]
    },
    {
     "name": "stderr",
     "output_type": "stream",
     "text": [
      "Setting `pad_token_id` to `eos_token_id`:50256 for open-end generation.\n"
     ]
    },
    {
     "name": "stdout",
     "output_type": "stream",
     "text": [
      "16 improve nanoscale heat transfer in semiconductor material -> Improve the heat transfer in semiconductor material 2021 0.5\n",
      "----------------------------------------\n"
     ]
    },
    {
     "name": "stderr",
     "output_type": "stream",
     "text": [
      "Setting `pad_token_id` to `eos_token_id`:50256 for open-end generation.\n"
     ]
    },
    {
     "name": "stdout",
     "output_type": "stream",
     "text": [
      "17 improve nanoscale heat transfer in semiconductor material -> Increase the heat transfer in the semiconductor material 2040 0.5\n",
      "----------------------------------------\n"
     ]
    },
    {
     "name": "stderr",
     "output_type": "stream",
     "text": [
      "Setting `pad_token_id` to `eos_token_id`:50256 for open-end generation.\n"
     ]
    },
    {
     "name": "stdout",
     "output_type": "stream",
     "text": [
      "18 improve nanoscale heat transfer in semiconductor material -> Improve the feel of a complicated motion or force 2060 0.5\n",
      "----------------------------------------\n"
     ]
    },
    {
     "name": "stderr",
     "output_type": "stream",
     "text": [
      "Setting `pad_token_id` to `eos_token_id`:50256 for open-end generation.\n"
     ]
    },
    {
     "name": "stdout",
     "output_type": "stream",
     "text": [
      "19 improve nanoscale heat transfer in semiconductor material -> Improve the feel of a complicated motion or force 2078 0.5\n",
      "----------------------------------------\n"
     ]
    },
    {
     "name": "stderr",
     "output_type": "stream",
     "text": [
      "Setting `pad_token_id` to `eos_token_id`:50256 for open-end generation.\n"
     ]
    },
    {
     "name": "stdout",
     "output_type": "stream",
     "text": [
      "20 improve nanoscale heat transfer in semiconductor material -> Improve the feel of a complicated motion or force 2096 0.5\n",
      "----------------------------------------\n"
     ]
    },
    {
     "name": "stderr",
     "output_type": "stream",
     "text": [
      "Setting `pad_token_id` to `eos_token_id`:50256 for open-end generation.\n"
     ]
    },
    {
     "name": "stdout",
     "output_type": "stream",
     "text": [
      "1 improve nanoscale heat transfer in semiconductor material -> Improve heat transfer in semiconductor material 2113 0.6\n",
      "----------------------------------------\n"
     ]
    },
    {
     "name": "stderr",
     "output_type": "stream",
     "text": [
      "Setting `pad_token_id` to `eos_token_id`:50256 for open-end generation.\n"
     ]
    },
    {
     "name": "stdout",
     "output_type": "stream",
     "text": [
      "2 improve nanoscale heat transfer in semiconductor material -> Improve the feel of a complicated motion or force 2130 0.6\n",
      "----------------------------------------\n"
     ]
    },
    {
     "name": "stderr",
     "output_type": "stream",
     "text": [
      "Setting `pad_token_id` to `eos_token_id`:50256 for open-end generation.\n"
     ]
    },
    {
     "name": "stdout",
     "output_type": "stream",
     "text": [
      "3 improve nanoscale heat transfer in semiconductor material -> Improve the feel of a complicated motion or force 2147 0.6\n",
      "----------------------------------------\n"
     ]
    },
    {
     "name": "stderr",
     "output_type": "stream",
     "text": [
      "Setting `pad_token_id` to `eos_token_id`:50256 for open-end generation.\n"
     ]
    },
    {
     "name": "stdout",
     "output_type": "stream",
     "text": [
      "4 improve nanoscale heat transfer in semiconductor material -> Enable particles to flow in confined geometries 2165 0.6\n",
      "----------------------------------------\n"
     ]
    },
    {
     "name": "stderr",
     "output_type": "stream",
     "text": [
      "Setting `pad_token_id` to `eos_token_id`:50256 for open-end generation.\n"
     ]
    },
    {
     "name": "stdout",
     "output_type": "stream",
     "text": [
      "5 improve nanoscale heat transfer in semiconductor material -> Improve the feel of a complicated motion or force 2183 0.6\n",
      "----------------------------------------\n"
     ]
    },
    {
     "name": "stderr",
     "output_type": "stream",
     "text": [
      "Setting `pad_token_id` to `eos_token_id`:50256 for open-end generation.\n"
     ]
    },
    {
     "name": "stdout",
     "output_type": "stream",
     "text": [
      "6 improve nanoscale heat transfer in semiconductor material -> increase heat transfer rate in nanoscale 2200 0.6\n",
      "----------------------------------------\n"
     ]
    },
    {
     "name": "stderr",
     "output_type": "stream",
     "text": [
      "Setting `pad_token_id` to `eos_token_id`:50256 for open-end generation.\n"
     ]
    },
    {
     "name": "stdout",
     "output_type": "stream",
     "text": [
      "7 improve nanoscale heat transfer in semiconductor material -> Reduce the heat of a device by reducing the heat loss 2217 0.6\n",
      "----------------------------------------\n"
     ]
    },
    {
     "name": "stderr",
     "output_type": "stream",
     "text": [
      "Setting `pad_token_id` to `eos_token_id`:50256 for open-end generation.\n"
     ]
    },
    {
     "name": "stdout",
     "output_type": "stream",
     "text": [
      "8 improve nanoscale heat transfer in semiconductor material -> improve nanoscale heat transfer in semiconductor material 2234 0.6\n",
      "----------------------------------------\n"
     ]
    },
    {
     "name": "stderr",
     "output_type": "stream",
     "text": [
      "Setting `pad_token_id` to `eos_token_id`:50256 for open-end generation.\n"
     ]
    },
    {
     "name": "stdout",
     "output_type": "stream",
     "text": [
      "9 improve nanoscale heat transfer in semiconductor material -> Improve heat transfer in semiconductor material 2251 0.6\n",
      "----------------------------------------\n"
     ]
    },
    {
     "name": "stderr",
     "output_type": "stream",
     "text": [
      "Setting `pad_token_id` to `eos_token_id`:50256 for open-end generation.\n"
     ]
    },
    {
     "name": "stdout",
     "output_type": "stream",
     "text": [
      "10 improve nanoscale heat transfer in semiconductor material -> improve nanoscale heat transfer in semiconductor material 2268 0.6\n",
      "----------------------------------------\n"
     ]
    },
    {
     "name": "stderr",
     "output_type": "stream",
     "text": [
      "Setting `pad_token_id` to `eos_token_id`:50256 for open-end generation.\n"
     ]
    },
    {
     "name": "stdout",
     "output_type": "stream",
     "text": [
      "11 improve nanoscale heat transfer in semiconductor material -> improve the feel of a complicated motion or force 2285 0.6\n",
      "----------------------------------------\n"
     ]
    },
    {
     "name": "stderr",
     "output_type": "stream",
     "text": [
      "Setting `pad_token_id` to `eos_token_id`:50256 for open-end generation.\n"
     ]
    },
    {
     "name": "stdout",
     "output_type": "stream",
     "text": [
      "12 improve nanoscale heat transfer in semiconductor material -> Improve the feel of a complicated motion or force 2303 0.6\n",
      "----------------------------------------\n"
     ]
    },
    {
     "name": "stderr",
     "output_type": "stream",
     "text": [
      "Setting `pad_token_id` to `eos_token_id`:50256 for open-end generation.\n"
     ]
    },
    {
     "name": "stdout",
     "output_type": "stream",
     "text": [
      "13 improve nanoscale heat transfer in semiconductor material -> improve nanoscale heat transfer in semiconductor material 2320 0.6\n",
      "----------------------------------------\n"
     ]
    },
    {
     "name": "stderr",
     "output_type": "stream",
     "text": [
      "Setting `pad_token_id` to `eos_token_id`:50256 for open-end generation.\n"
     ]
    },
    {
     "name": "stdout",
     "output_type": "stream",
     "text": [
      "14 improve nanoscale heat transfer in semiconductor material -> Improve the feel of a complicated motion or force 2337 0.6\n",
      "----------------------------------------\n"
     ]
    },
    {
     "name": "stderr",
     "output_type": "stream",
     "text": [
      "Setting `pad_token_id` to `eos_token_id`:50256 for open-end generation.\n"
     ]
    },
    {
     "name": "stdout",
     "output_type": "stream",
     "text": [
      "15 improve nanoscale heat transfer in semiconductor material -> Improve the feel of a complicated motion or force 2354 0.6\n",
      "----------------------------------------\n"
     ]
    },
    {
     "name": "stderr",
     "output_type": "stream",
     "text": [
      "Setting `pad_token_id` to `eos_token_id`:50256 for open-end generation.\n"
     ]
    },
    {
     "name": "stdout",
     "output_type": "stream",
     "text": [
      "16 improve nanoscale heat transfer in semiconductor material -> improve the feel of a complicated motion or force 2371 0.6\n",
      "----------------------------------------\n"
     ]
    },
    {
     "name": "stderr",
     "output_type": "stream",
     "text": [
      "Setting `pad_token_id` to `eos_token_id`:50256 for open-end generation.\n"
     ]
    },
    {
     "name": "stdout",
     "output_type": "stream",
     "text": [
      "17 improve nanoscale heat transfer in semiconductor material -> Improve the feel of a complicated motion or force 2390 0.6\n",
      "----------------------------------------\n"
     ]
    },
    {
     "name": "stderr",
     "output_type": "stream",
     "text": [
      "Setting `pad_token_id` to `eos_token_id`:50256 for open-end generation.\n"
     ]
    },
    {
     "name": "stdout",
     "output_type": "stream",
     "text": [
      "18 improve nanoscale heat transfer in semiconductor material -> Improve the feel of a complicated motion or force 2408 0.6\n",
      "----------------------------------------\n"
     ]
    },
    {
     "name": "stderr",
     "output_type": "stream",
     "text": [
      "Setting `pad_token_id` to `eos_token_id`:50256 for open-end generation.\n"
     ]
    },
    {
     "name": "stdout",
     "output_type": "stream",
     "text": [
      "19 improve nanoscale heat transfer in semiconductor material -> prevent the creation of a hole in an object 2425 0.6\n",
      "----------------------------------------\n"
     ]
    },
    {
     "name": "stderr",
     "output_type": "stream",
     "text": [
      "Setting `pad_token_id` to `eos_token_id`:50256 for open-end generation.\n"
     ]
    },
    {
     "name": "stdout",
     "output_type": "stream",
     "text": [
      "20 improve nanoscale heat transfer in semiconductor material -> increase the surface area of a device by more than 10 times 2444 0.6\n",
      "----------------------------------------\n"
     ]
    },
    {
     "name": "stderr",
     "output_type": "stream",
     "text": [
      "Setting `pad_token_id` to `eos_token_id`:50256 for open-end generation.\n"
     ]
    },
    {
     "name": "stdout",
     "output_type": "stream",
     "text": [
      "1 improve nanoscale heat transfer in semiconductor material -> improve nanoscale heat transfer in semiconductor material 2461 0.7\n",
      "----------------------------------------\n"
     ]
    },
    {
     "name": "stderr",
     "output_type": "stream",
     "text": [
      "Setting `pad_token_id` to `eos_token_id`:50256 for open-end generation.\n"
     ]
    },
    {
     "name": "stdout",
     "output_type": "stream",
     "text": [
      "2 improve nanoscale heat transfer in semiconductor material -> Improve the feel of a complicated motion or force 2478 0.7\n",
      "----------------------------------------\n"
     ]
    },
    {
     "name": "stderr",
     "output_type": "stream",
     "text": [
      "Setting `pad_token_id` to `eos_token_id`:50256 for open-end generation.\n"
     ]
    },
    {
     "name": "stdout",
     "output_type": "stream",
     "text": [
      "3 improve nanoscale heat transfer in semiconductor material -> improve nanoscale heat transfer in semiconductor material 3874 0.7\n",
      "----------------------------------------\n"
     ]
    },
    {
     "name": "stderr",
     "output_type": "stream",
     "text": [
      "Setting `pad_token_id` to `eos_token_id`:50256 for open-end generation.\n"
     ]
    },
    {
     "name": "stdout",
     "output_type": "stream",
     "text": [
      "4 improve nanoscale heat transfer in semiconductor material -> Improve the feel of a complicated motion or force 3894 0.7\n",
      "----------------------------------------\n"
     ]
    },
    {
     "name": "stderr",
     "output_type": "stream",
     "text": [
      "Setting `pad_token_id` to `eos_token_id`:50256 for open-end generation.\n"
     ]
    },
    {
     "name": "stdout",
     "output_type": "stream",
     "text": [
      "5 improve nanoscale heat transfer in semiconductor material -> improve nanoscale heat transfer in semiconductor material 3912 0.7\n",
      "----------------------------------------\n"
     ]
    },
    {
     "name": "stderr",
     "output_type": "stream",
     "text": [
      "Setting `pad_token_id` to `eos_token_id`:50256 for open-end generation.\n"
     ]
    },
    {
     "name": "stdout",
     "output_type": "stream",
     "text": [
      "6 improve nanoscale heat transfer in semiconductor material -> increase the heat transfer of nanoscale materials 3930 0.7\n",
      "----------------------------------------\n"
     ]
    },
    {
     "name": "stderr",
     "output_type": "stream",
     "text": [
      "Setting `pad_token_id` to `eos_token_id`:50256 for open-end generation.\n"
     ]
    },
    {
     "name": "stdout",
     "output_type": "stream",
     "text": [
      "7 improve nanoscale heat transfer in semiconductor material -> improve nanoscale heat transfer in semiconductor material 3948 0.7\n",
      "----------------------------------------\n"
     ]
    },
    {
     "name": "stderr",
     "output_type": "stream",
     "text": [
      "Setting `pad_token_id` to `eos_token_id`:50256 for open-end generation.\n"
     ]
    },
    {
     "name": "stdout",
     "output_type": "stream",
     "text": [
      "8 improve nanoscale heat transfer in semiconductor material -> Improve nanoscale heat transfer in semiconductor material 3966 0.7\n",
      "----------------------------------------\n"
     ]
    },
    {
     "name": "stderr",
     "output_type": "stream",
     "text": [
      "Setting `pad_token_id` to `eos_token_id`:50256 for open-end generation.\n"
     ]
    },
    {
     "name": "stdout",
     "output_type": "stream",
     "text": [
      "9 improve nanoscale heat transfer in semiconductor material -> Improve the feel of a complex motion or force 3983 0.7\n",
      "----------------------------------------\n"
     ]
    },
    {
     "name": "stderr",
     "output_type": "stream",
     "text": [
      "Setting `pad_token_id` to `eos_token_id`:50256 for open-end generation.\n"
     ]
    },
    {
     "name": "stdout",
     "output_type": "stream",
     "text": [
      "10 improve nanoscale heat transfer in semiconductor material -> Increase the heat transfer efficiency 4000 0.7\n",
      "----------------------------------------\n"
     ]
    },
    {
     "name": "stderr",
     "output_type": "stream",
     "text": [
      "Setting `pad_token_id` to `eos_token_id`:50256 for open-end generation.\n"
     ]
    },
    {
     "name": "stdout",
     "output_type": "stream",
     "text": [
      "11 improve nanoscale heat transfer in semiconductor material -> Reduce power consumption by removing dirt and dirt 4017 0.7\n",
      "----------------------------------------\n"
     ]
    },
    {
     "name": "stderr",
     "output_type": "stream",
     "text": [
      "Setting `pad_token_id` to `eos_token_id`:50256 for open-end generation.\n"
     ]
    },
    {
     "name": "stdout",
     "output_type": "stream",
     "text": [
      "12 improve nanoscale heat transfer in semiconductor material -> improve nanoscale heat transfer in semiconductor material 4034 0.7\n",
      "----------------------------------------\n"
     ]
    },
    {
     "name": "stderr",
     "output_type": "stream",
     "text": [
      "Setting `pad_token_id` to `eos_token_id`:50256 for open-end generation.\n"
     ]
    },
    {
     "name": "stdout",
     "output_type": "stream",
     "text": [
      "13 improve nanoscale heat transfer in semiconductor material -> Prevent nanoscale heat transfer caused by thermal energy 4051 0.7\n",
      "----------------------------------------\n"
     ]
    },
    {
     "name": "stderr",
     "output_type": "stream",
     "text": [
      "Setting `pad_token_id` to `eos_token_id`:50256 for open-end generation.\n"
     ]
    },
    {
     "name": "stdout",
     "output_type": "stream",
     "text": [
      "14 improve nanoscale heat transfer in semiconductor material -> Reduce the risk of heat loss from high-temperature environments 4068 0.7\n",
      "----------------------------------------\n"
     ]
    },
    {
     "name": "stderr",
     "output_type": "stream",
     "text": [
      "Setting `pad_token_id` to `eos_token_id`:50256 for open-end generation.\n"
     ]
    },
    {
     "name": "stdout",
     "output_type": "stream",
     "text": [
      "15 improve nanoscale heat transfer in semiconductor material -> improve the feel of a complicated motion or force 4085 0.7\n",
      "----------------------------------------\n"
     ]
    },
    {
     "name": "stderr",
     "output_type": "stream",
     "text": [
      "Setting `pad_token_id` to `eos_token_id`:50256 for open-end generation.\n"
     ]
    },
    {
     "name": "stdout",
     "output_type": "stream",
     "text": [
      "16 improve nanoscale heat transfer in semiconductor material -> Make a small semiconductor chip out of a small semiconductor chip 4102 0.7\n",
      "----------------------------------------\n"
     ]
    },
    {
     "name": "stderr",
     "output_type": "stream",
     "text": [
      "Setting `pad_token_id` to `eos_token_id`:50256 for open-end generation.\n"
     ]
    },
    {
     "name": "stdout",
     "output_type": "stream",
     "text": [
      "17 improve nanoscale heat transfer in semiconductor material -> improve nanoscale heat transfer in semiconductor material 4119 0.7\n",
      "----------------------------------------\n"
     ]
    },
    {
     "name": "stderr",
     "output_type": "stream",
     "text": [
      "Setting `pad_token_id` to `eos_token_id`:50256 for open-end generation.\n"
     ]
    },
    {
     "name": "stdout",
     "output_type": "stream",
     "text": [
      "18 improve nanoscale heat transfer in semiconductor material -> Improve the feel of a complex motion or force 4140 0.7\n",
      "----------------------------------------\n"
     ]
    },
    {
     "name": "stderr",
     "output_type": "stream",
     "text": [
      "Setting `pad_token_id` to `eos_token_id`:50256 for open-end generation.\n"
     ]
    },
    {
     "name": "stdout",
     "output_type": "stream",
     "text": [
      "19 improve nanoscale heat transfer in semiconductor material -> Improve heat transfer in semiconductor material 4163 0.7\n",
      "----------------------------------------\n"
     ]
    },
    {
     "name": "stderr",
     "output_type": "stream",
     "text": [
      "Setting `pad_token_id` to `eos_token_id`:50256 for open-end generation.\n"
     ]
    },
    {
     "name": "stdout",
     "output_type": "stream",
     "text": [
      "20 improve nanoscale heat transfer in semiconductor material -> prevent cloud from getting into contact with objects 4181 0.7\n",
      "----------------------------------------\n"
     ]
    },
    {
     "name": "stderr",
     "output_type": "stream",
     "text": [
      "Setting `pad_token_id` to `eos_token_id`:50256 for open-end generation.\n"
     ]
    },
    {
     "name": "stdout",
     "output_type": "stream",
     "text": [
      "1 improve nanoscale heat transfer in semiconductor material -> Protect object from entering a heated region 4198 0.8\n",
      "----------------------------------------\n"
     ]
    },
    {
     "name": "stderr",
     "output_type": "stream",
     "text": [
      "Setting `pad_token_id` to `eos_token_id`:50256 for open-end generation.\n"
     ]
    },
    {
     "name": "stdout",
     "output_type": "stream",
     "text": [
      "2 improve nanoscale heat transfer in semiconductor material -> Improve nanoscale heat transfer in semiconductors 4215 0.8\n",
      "----------------------------------------\n"
     ]
    },
    {
     "name": "stderr",
     "output_type": "stream",
     "text": [
      "Setting `pad_token_id` to `eos_token_id`:50256 for open-end generation.\n"
     ]
    },
    {
     "name": "stdout",
     "output_type": "stream",
     "text": [
      "3 improve nanoscale heat transfer in semiconductor material -> improve thermal durability of semiconductor materials 4232 0.8\n",
      "----------------------------------------\n"
     ]
    },
    {
     "name": "stderr",
     "output_type": "stream",
     "text": [
      "Setting `pad_token_id` to `eos_token_id`:50256 for open-end generation.\n"
     ]
    },
    {
     "name": "stdout",
     "output_type": "stream",
     "text": [
      "4 improve nanoscale heat transfer in semiconductor material -> improve nanoscale heat transfer in semiconductor material 4249 0.8\n",
      "----------------------------------------\n"
     ]
    },
    {
     "name": "stderr",
     "output_type": "stream",
     "text": [
      "Setting `pad_token_id` to `eos_token_id`:50256 for open-end generation.\n"
     ]
    },
    {
     "name": "stdout",
     "output_type": "stream",
     "text": [
      "5 improve nanoscale heat transfer in semiconductor material -> Protect object from the penetration of foreign objects 4266 0.8\n",
      "----------------------------------------\n"
     ]
    },
    {
     "name": "stderr",
     "output_type": "stream",
     "text": [
      "Setting `pad_token_id` to `eos_token_id`:50256 for open-end generation.\n"
     ]
    },
    {
     "name": "stdout",
     "output_type": "stream",
     "text": [
      "6 improve nanoscale heat transfer in semiconductor material -> Reduce the heat transfer of silicon devices 4283 0.8\n",
      "----------------------------------------\n"
     ]
    },
    {
     "name": "stderr",
     "output_type": "stream",
     "text": [
      "Setting `pad_token_id` to `eos_token_id`:50256 for open-end generation.\n"
     ]
    },
    {
     "name": "stdout",
     "output_type": "stream",
     "text": [
      "7 improve nanoscale heat transfer in semiconductor material -> improve the heat transfer characteristics of semiconductor material 4300 0.8\n",
      "----------------------------------------\n"
     ]
    },
    {
     "name": "stderr",
     "output_type": "stream",
     "text": [
      "Setting `pad_token_id` to `eos_token_id`:50256 for open-end generation.\n"
     ]
    },
    {
     "name": "stdout",
     "output_type": "stream",
     "text": [
      "8 improve nanoscale heat transfer in semiconductor material -> Reduce temperature and humidity in liquid crystal devices 4317 0.8\n",
      "----------------------------------------\n"
     ]
    },
    {
     "name": "stderr",
     "output_type": "stream",
     "text": [
      "Setting `pad_token_id` to `eos_token_id`:50256 for open-end generation.\n"
     ]
    },
    {
     "name": "stdout",
     "output_type": "stream",
     "text": [
      "9 improve nanoscale heat transfer in semiconductor material -> improve nanoscale heat transfer in semiconductor material 4334 0.8\n",
      "----------------------------------------\n"
     ]
    },
    {
     "name": "stderr",
     "output_type": "stream",
     "text": [
      "Setting `pad_token_id` to `eos_token_id`:50256 for open-end generation.\n"
     ]
    },
    {
     "name": "stdout",
     "output_type": "stream",
     "text": [
      "10 improve nanoscale heat transfer in semiconductor material -> Improve the heat transfer efficiency of a semiconductor material 4351 0.8\n",
      "----------------------------------------\n"
     ]
    },
    {
     "name": "stderr",
     "output_type": "stream",
     "text": [
      "Setting `pad_token_id` to `eos_token_id`:50256 for open-end generation.\n"
     ]
    },
    {
     "name": "stdout",
     "output_type": "stream",
     "text": [
      "11 improve nanoscale heat transfer in semiconductor material -> improve the feel of a complicated motion and force 4368 0.8\n",
      "----------------------------------------\n"
     ]
    },
    {
     "name": "stderr",
     "output_type": "stream",
     "text": [
      "Setting `pad_token_id` to `eos_token_id`:50256 for open-end generation.\n"
     ]
    },
    {
     "name": "stdout",
     "output_type": "stream",
     "text": [
      "12 improve nanoscale heat transfer in semiconductor material -> improve the feel of a complicated motion or force 4386 0.8\n",
      "----------------------------------------\n"
     ]
    },
    {
     "name": "stderr",
     "output_type": "stream",
     "text": [
      "Setting `pad_token_id` to `eos_token_id`:50256 for open-end generation.\n"
     ]
    },
    {
     "name": "stdout",
     "output_type": "stream",
     "text": [
      "13 improve nanoscale heat transfer in semiconductor material -> Improve contact between a semiconductor chip and a metal 4403 0.8\n",
      "----------------------------------------\n"
     ]
    },
    {
     "name": "stderr",
     "output_type": "stream",
     "text": [
      "Setting `pad_token_id` to `eos_token_id`:50256 for open-end generation.\n"
     ]
    },
    {
     "name": "stdout",
     "output_type": "stream",
     "text": [
      "14 improve nanoscale heat transfer in semiconductor material -> Improve electrical conductivity of semiconductors 4421 0.8\n",
      "----------------------------------------\n"
     ]
    },
    {
     "name": "stderr",
     "output_type": "stream",
     "text": [
      "Setting `pad_token_id` to `eos_token_id`:50256 for open-end generation.\n"
     ]
    },
    {
     "name": "stdout",
     "output_type": "stream",
     "text": [
      "15 improve nanoscale heat transfer in semiconductor material -> build up a stable structure in a space 4438 0.8\n",
      "----------------------------------------\n"
     ]
    },
    {
     "name": "stderr",
     "output_type": "stream",
     "text": [
      "Setting `pad_token_id` to `eos_token_id`:50256 for open-end generation.\n"
     ]
    },
    {
     "name": "stdout",
     "output_type": "stream",
     "text": [
      "16 improve nanoscale heat transfer in semiconductor material -> Ensure a structure of materials in solution 4454 0.8\n",
      "----------------------------------------\n"
     ]
    },
    {
     "name": "stderr",
     "output_type": "stream",
     "text": [
      "Setting `pad_token_id` to `eos_token_id`:50256 for open-end generation.\n"
     ]
    },
    {
     "name": "stdout",
     "output_type": "stream",
     "text": [
      "17 improve nanoscale heat transfer in semiconductor material -> Increase heat transfer from organic molecules 4472 0.8\n",
      "----------------------------------------\n"
     ]
    },
    {
     "name": "stderr",
     "output_type": "stream",
     "text": [
      "Setting `pad_token_id` to `eos_token_id`:50256 for open-end generation.\n"
     ]
    },
    {
     "name": "stdout",
     "output_type": "stream",
     "text": [
      "18 improve nanoscale heat transfer in semiconductor material -> improve nanoscale heat transfer in semiconductor material 4488 0.8\n",
      "----------------------------------------\n"
     ]
    },
    {
     "name": "stderr",
     "output_type": "stream",
     "text": [
      "Setting `pad_token_id` to `eos_token_id`:50256 for open-end generation.\n"
     ]
    },
    {
     "name": "stdout",
     "output_type": "stream",
     "text": [
      "19 improve nanoscale heat transfer in semiconductor material -> Improve the feel of a complicated motion or force 4505 0.8\n",
      "----------------------------------------\n"
     ]
    },
    {
     "name": "stderr",
     "output_type": "stream",
     "text": [
      "Setting `pad_token_id` to `eos_token_id`:50256 for open-end generation.\n"
     ]
    },
    {
     "name": "stdout",
     "output_type": "stream",
     "text": [
      "20 improve nanoscale heat transfer in semiconductor material -> improve nanoscale heat transfer in semiconductor material 4522 0.8\n",
      "----------------------------------------\n"
     ]
    },
    {
     "name": "stderr",
     "output_type": "stream",
     "text": [
      "Setting `pad_token_id` to `eos_token_id`:50256 for open-end generation.\n"
     ]
    },
    {
     "name": "stdout",
     "output_type": "stream",
     "text": [
      "1 improve nanoscale heat transfer in semiconductor material -> improve nanoscale heat transfer in semiconductor material 4539 0.9\n",
      "----------------------------------------\n"
     ]
    },
    {
     "name": "stderr",
     "output_type": "stream",
     "text": [
      "Setting `pad_token_id` to `eos_token_id`:50256 for open-end generation.\n"
     ]
    },
    {
     "name": "stdout",
     "output_type": "stream",
     "text": [
      "2 improve nanoscale heat transfer in semiconductor material -> improve temperature performance of electrical devices 4557 0.9\n",
      "----------------------------------------\n"
     ]
    },
    {
     "name": "stderr",
     "output_type": "stream",
     "text": [
      "Setting `pad_token_id` to `eos_token_id`:50256 for open-end generation.\n"
     ]
    },
    {
     "name": "stdout",
     "output_type": "stream",
     "text": [
      "3 improve nanoscale heat transfer in semiconductor material -> increase mechanical force to prevent heat dissipation 4575 0.9\n",
      "----------------------------------------\n"
     ]
    },
    {
     "name": "stderr",
     "output_type": "stream",
     "text": [
      "Setting `pad_token_id` to `eos_token_id`:50256 for open-end generation.\n"
     ]
    },
    {
     "name": "stdout",
     "output_type": "stream",
     "text": [
      "4 improve nanoscale heat transfer in semiconductor material -> improve nanoscale heat transfer in semiconductor material 4592 0.9\n",
      "----------------------------------------\n"
     ]
    },
    {
     "name": "stderr",
     "output_type": "stream",
     "text": [
      "Setting `pad_token_id` to `eos_token_id`:50256 for open-end generation.\n"
     ]
    },
    {
     "name": "stdout",
     "output_type": "stream",
     "text": [
      "5 improve nanoscale heat transfer in semiconductor material -> Improve the surface-to-volume balance 4599 0.9\n",
      "----------------------------------------\n"
     ]
    },
    {
     "name": "stderr",
     "output_type": "stream",
     "text": [
      "Setting `pad_token_id` to `eos_token_id`:50256 for open-end generation.\n"
     ]
    },
    {
     "name": "stdout",
     "output_type": "stream",
     "text": [
      "6 improve nanoscale heat transfer in semiconductor material -> reduce heat transfer in semiconductor material which may be caused by Joule heating 4616 0.9\n",
      "----------------------------------------\n"
     ]
    },
    {
     "name": "stderr",
     "output_type": "stream",
     "text": [
      "Setting `pad_token_id` to `eos_token_id`:50256 for open-end generation.\n"
     ]
    },
    {
     "name": "stdout",
     "output_type": "stream",
     "text": [
      "7 improve nanoscale heat transfer in semiconductor material -> improve the feel of a complicated rotating motion or force 4633 0.9\n",
      "----------------------------------------\n"
     ]
    },
    {
     "name": "stderr",
     "output_type": "stream",
     "text": [
      "Setting `pad_token_id` to `eos_token_id`:50256 for open-end generation.\n"
     ]
    },
    {
     "name": "stdout",
     "output_type": "stream",
     "text": [
      "8 improve nanoscale heat transfer in semiconductor material -> reduce heat generation in semiconductor material 4650 0.9\n",
      "----------------------------------------\n"
     ]
    },
    {
     "name": "stderr",
     "output_type": "stream",
     "text": [
      "Setting `pad_token_id` to `eos_token_id`:50256 for open-end generation.\n"
     ]
    },
    {
     "name": "stdout",
     "output_type": "stream",
     "text": [
      "9 improve nanoscale heat transfer in semiconductor material -> Improve thermal conductivity of nanoscale device 4667 0.9\n",
      "----------------------------------------\n"
     ]
    },
    {
     "name": "stderr",
     "output_type": "stream",
     "text": [
      "Setting `pad_token_id` to `eos_token_id`:50256 for open-end generation.\n"
     ]
    },
    {
     "name": "stdout",
     "output_type": "stream",
     "text": [
      "10 improve nanoscale heat transfer in semiconductor material -> increase the heat transfer in semiconductor material 4684 0.9\n",
      "----------------------------------------\n"
     ]
    },
    {
     "name": "stderr",
     "output_type": "stream",
     "text": [
      "Setting `pad_token_id` to `eos_token_id`:50256 for open-end generation.\n"
     ]
    },
    {
     "name": "stdout",
     "output_type": "stream",
     "text": [
      "11 improve nanoscale heat transfer in semiconductor material -> allow a small-scale fabrication to increase the fabrication yield of material 4701 0.9\n",
      "----------------------------------------\n"
     ]
    },
    {
     "name": "stderr",
     "output_type": "stream",
     "text": [
      "Setting `pad_token_id` to `eos_token_id`:50256 for open-end generation.\n"
     ]
    },
    {
     "name": "stdout",
     "output_type": "stream",
     "text": [
      "12 improve nanoscale heat transfer in semiconductor material -> Reduce temperature by removing water and gases 4718 0.9\n",
      "----------------------------------------\n"
     ]
    },
    {
     "name": "stderr",
     "output_type": "stream",
     "text": [
      "Setting `pad_token_id` to `eos_token_id`:50256 for open-end generation.\n"
     ]
    },
    {
     "name": "stdout",
     "output_type": "stream",
     "text": [
      "13 improve nanoscale heat transfer in semiconductor material -> Improve the feel of a complicated motion or force 4735 0.9\n",
      "----------------------------------------\n"
     ]
    },
    {
     "name": "stderr",
     "output_type": "stream",
     "text": [
      "Setting `pad_token_id` to `eos_token_id`:50256 for open-end generation.\n"
     ]
    },
    {
     "name": "stdout",
     "output_type": "stream",
     "text": [
      "14 improve nanoscale heat transfer in semiconductor material -> Improve the feel of a complicated motion or force 4753 0.9\n",
      "----------------------------------------\n"
     ]
    },
    {
     "name": "stderr",
     "output_type": "stream",
     "text": [
      "Setting `pad_token_id` to `eos_token_id`:50256 for open-end generation.\n"
     ]
    },
    {
     "name": "stdout",
     "output_type": "stream",
     "text": [
      "15 improve nanoscale heat transfer in semiconductor material -> improve nanoscale heat transfer in semiconductor material 4771 0.9\n",
      "----------------------------------------\n"
     ]
    },
    {
     "name": "stderr",
     "output_type": "stream",
     "text": [
      "Setting `pad_token_id` to `eos_token_id`:50256 for open-end generation.\n"
     ]
    },
    {
     "name": "stdout",
     "output_type": "stream",
     "text": [
      "16 improve nanoscale heat transfer in semiconductor material -> Improve the thermal conductivity of a semiconductor material 4816 0.9\n",
      "----------------------------------------\n"
     ]
    },
    {
     "name": "stderr",
     "output_type": "stream",
     "text": [
      "Setting `pad_token_id` to `eos_token_id`:50256 for open-end generation.\n"
     ]
    },
    {
     "name": "stdout",
     "output_type": "stream",
     "text": [
      "17 improve nanoscale heat transfer in semiconductor material -> Improve heat transfer in the semiconductor material 4835 0.9\n",
      "----------------------------------------\n"
     ]
    },
    {
     "name": "stderr",
     "output_type": "stream",
     "text": [
      "Setting `pad_token_id` to `eos_token_id`:50256 for open-end generation.\n"
     ]
    },
    {
     "name": "stdout",
     "output_type": "stream",
     "text": [
      "18 improve nanoscale heat transfer in semiconductor material -> improve nanoscale heat transfer in semiconductor material 4852 0.9\n",
      "----------------------------------------\n"
     ]
    },
    {
     "name": "stderr",
     "output_type": "stream",
     "text": [
      "Setting `pad_token_id` to `eos_token_id`:50256 for open-end generation.\n"
     ]
    },
    {
     "name": "stdout",
     "output_type": "stream",
     "text": [
      "19 improve nanoscale heat transfer in semiconductor material -> Improve heat transfer in semiconductor material 4869 0.9\n",
      "----------------------------------------\n",
      "20 improve nanoscale heat transfer in semiconductor material -> Enable particles to flow in confined geometries 4886 0.9\n",
      "----------------------------------------\n",
      "Total time taken is 4903\n"
     ]
    }
   ],
   "source": [
    "df_125m = generate_output(generator_gpt_neo_125m,20,prompt,20,0.1,'gpt_neo_125m',1)\n",
    "df_125m.to_csv(f'../Csv/gpt_neo125m_{user_input}.csv')"
   ]
  },
  {
   "cell_type": "code",
   "execution_count": null,
   "metadata": {},
   "outputs": [],
   "source": []
  },
  {
   "cell_type": "code",
   "execution_count": null,
   "metadata": {},
   "outputs": [],
   "source": [
    "\n",
    "# # Generate a random string\n",
    "# # with 32 characters.\n",
    "\n",
    "\n",
    "# print (random)"
   ]
  },
  {
   "cell_type": "code",
   "execution_count": null,
   "metadata": {},
   "outputs": [],
   "source": []
  },
  {
   "cell_type": "code",
   "execution_count": null,
   "metadata": {},
   "outputs": [],
   "source": [
    "# df = generate_blank_df(cols)"
   ]
  },
  {
   "cell_type": "code",
   "execution_count": 9,
   "metadata": {},
   "outputs": [],
   "source": []
  },
  {
   "cell_type": "code",
   "execution_count": 10,
   "metadata": {},
   "outputs": [],
   "source": []
  },
  {
   "cell_type": "code",
   "execution_count": null,
   "metadata": {},
   "outputs": [],
   "source": []
  },
  {
   "cell_type": "code",
   "execution_count": 11,
   "metadata": {},
   "outputs": [],
   "source": []
  },
  {
   "cell_type": "code",
   "execution_count": null,
   "metadata": {},
   "outputs": [],
   "source": [
    "# user_input_arrs = [\"identify soldiers in old civil war photographs\",\n",
    "# \"identify points of failure in a nuclear power plant procedure\"]"
   ]
  },
  {
   "cell_type": "code",
   "execution_count": null,
   "metadata": {},
   "outputs": [
    {
     "name": "stderr",
     "output_type": "stream",
     "text": [
      "Setting `pad_token_id` to `eos_token_id`:50256 for open-end generation.\n",
      "Setting `pad_token_id` to `eos_token_id`:50256 for open-end generation.\n"
     ]
    },
    {
     "name": "stdout",
     "output_type": "stream",
     "text": [
      "Given a problem statement, generate an abstracted reformulation of that problem statement\n",
      "\n",
      "    Problem statement: Shield baby from the sun\n",
      "    Abstracted reformulation: Protect vulnerable object from radiation\n",
      "\n",
      "    Problem statement: Prevent feet from getting wet\n",
      "    Abstracted reformulation: Stop object from getting into contact with unwanted substances\n",
      "\n",
      "    Problem statement: Hold soap bars of multiple sizes\n",
      "    Abstracted reformulation: Contain objects of different volumes\n",
      "\n",
      "    Problem statement: Enable a broom to clean in hard to reach places\n",
      "    Abstracted reformulation: Extend the physical reach of a tool\n",
      "\n",
      "    Problem statement: drill into teeth quietly\n",
      "    Abstracted reformulation: create a hole in an object without causing an unwanted noise\n",
      "\n",
      "    Problem statement: make house out of cooked spaghetti\n",
      "    Abstracted reformulation: create strong, rigid structure out of soft materials\n",
      "\n",
      "    Problem statement: make house out of cooked spaghetti\n",
      "    Abstracted reformulation: create structure from elastic elements\n",
      "\n",
      "    Problem statement:  prevent bicycle tire flats\n",
      "    Abstracted reformulation: protect object from the penetration of foreign objects\n",
      "\n",
      "    Problem statement: prevent blood clotting in stents\n",
      "    Abstracted reformulation: prevent clogging of cylindrical tubes\n",
      "\n",
      "    Problem statement: transfer heat in semiconductors at nanoscale\n",
      "    Abstracted reformulation: Enable particles to flow in confined geometries\n",
      "\n",
      "    Problem statement:reduce seasickness in virtual reality systems\n",
      "    Abstracted reformulation: reduce user's dependency on information cues\n",
      "\n",
      "    Problem statement:reduce seasickness in virtual reality systems\n",
      "    Abstracted reformulation: Achieve robust orientation stability\n",
      "\n",
      "    Problem statement:reduce seasickness in virtual reality systems\n",
      "    Abstracted reformulation: improve the feel of a complicated motion or force\n",
      "\n",
      "    Problem statement:wash clothes without water\n",
      "    Abstracted reformulation: Remove dirt from objects by mechanical force\n",
      "\n",
      "    Problem statement:charge cell phones on the go\n",
      "    Abstracted reformulation: Charge a battery source from a remote energy-source\n",
      "\n",
      "    Problem statement:charge cell phones on the go\n",
      "    Abstracted reformulation: Supply power to electrical devices in the field\n",
      "\n",
      "    Problem statement:protect feet from getting wet\n",
      "    Abstracted reformulation: stop entry of foreign particles\n",
      "\n",
      "    Problem statement:protect feet from getting wet\n",
      "    Abstracted reformulation: Mechanically stop liquid from penetrating a space\n",
      "\n",
      "    Problem statement:shield baby from the sun\n",
      "    Abstracted reformulation: Protect vulnerable object from radiation\n",
      "\n",
      "    Problem statement:Prevent feet from getting wet\n",
      "    Abstracted reformulation: Stop object from getting into contact with unwanted substances\n",
      "\n",
      "    Problem statement: identify soldiers in old civil war photographs\n",
      "                                                                                                                                                                                                                                                                                                                                                                                     \n",
      "1 identify soldiers in old civil war photographs ->  0 0.1\n",
      "----------------------------------------\n"
     ]
    },
    {
     "name": "stderr",
     "output_type": "stream",
     "text": [
      "Setting `pad_token_id` to `eos_token_id`:50256 for open-end generation.\n"
     ]
    },
    {
     "name": "stdout",
     "output_type": "stream",
     "text": [
      "Given a problem statement, generate an abstracted reformulation of that problem statement\n",
      "\n",
      "    Problem statement: Shield baby from the sun\n",
      "    Abstracted reformulation: Protect vulnerable object from radiation\n",
      "\n",
      "    Problem statement: Prevent feet from getting wet\n",
      "    Abstracted reformulation: Stop object from getting into contact with unwanted substances\n",
      "\n",
      "    Problem statement: Hold soap bars of multiple sizes\n",
      "    Abstracted reformulation: Contain objects of different volumes\n",
      "\n",
      "    Problem statement: Enable a broom to clean in hard to reach places\n",
      "    Abstracted reformulation: Extend the physical reach of a tool\n",
      "\n",
      "    Problem statement: drill into teeth quietly\n",
      "    Abstracted reformulation: create a hole in an object without causing an unwanted noise\n",
      "\n",
      "    Problem statement: make house out of cooked spaghetti\n",
      "    Abstracted reformulation: create strong, rigid structure out of soft materials\n",
      "\n",
      "    Problem statement: make house out of cooked spaghetti\n",
      "    Abstracted reformulation: create structure from elastic elements\n",
      "\n",
      "    Problem statement:  prevent bicycle tire flats\n",
      "    Abstracted reformulation: protect object from the penetration of foreign objects\n",
      "\n",
      "    Problem statement: prevent blood clotting in stents\n",
      "    Abstracted reformulation: prevent clogging of cylindrical tubes\n",
      "\n",
      "    Problem statement: transfer heat in semiconductors at nanoscale\n",
      "    Abstracted reformulation: Enable particles to flow in confined geometries\n",
      "\n",
      "    Problem statement:reduce seasickness in virtual reality systems\n",
      "    Abstracted reformulation: reduce user's dependency on information cues\n",
      "\n",
      "    Problem statement:reduce seasickness in virtual reality systems\n",
      "    Abstracted reformulation: Achieve robust orientation stability\n",
      "\n",
      "    Problem statement:reduce seasickness in virtual reality systems\n",
      "    Abstracted reformulation: improve the feel of a complicated motion or force\n",
      "\n",
      "    Problem statement:wash clothes without water\n",
      "    Abstracted reformulation: Remove dirt from objects by mechanical force\n",
      "\n",
      "    Problem statement:charge cell phones on the go\n",
      "    Abstracted reformulation: Charge a battery source from a remote energy-source\n",
      "\n",
      "    Problem statement:charge cell phones on the go\n",
      "    Abstracted reformulation: Supply power to electrical devices in the field\n",
      "\n",
      "    Problem statement:protect feet from getting wet\n",
      "    Abstracted reformulation: stop entry of foreign particles\n",
      "\n",
      "    Problem statement:protect feet from getting wet\n",
      "    Abstracted reformulation: Mechanically stop liquid from penetrating a space\n",
      "\n",
      "    Problem statement:shield baby from the sun\n",
      "    Abstracted reformulation: Protect vulnerable object from radiation\n",
      "\n",
      "    Problem statement:Prevent feet from getting wet\n",
      "    Abstracted reformulation: Stop object from getting into contact with unwanted substances\n",
      "\n",
      "    Problem statement: identify soldiers in old civil war photographs\n",
      "                                                                                                                                                                                                                                                                                                                                                                                     \n",
      "2 identify soldiers in old civil war photographs ->  48 0.1\n",
      "----------------------------------------\n"
     ]
    },
    {
     "name": "stderr",
     "output_type": "stream",
     "text": [
      "Setting `pad_token_id` to `eos_token_id`:50256 for open-end generation.\n"
     ]
    },
    {
     "name": "stdout",
     "output_type": "stream",
     "text": [
      "Given a problem statement, generate an abstracted reformulation of that problem statement\n",
      "\n",
      "    Problem statement: Shield baby from the sun\n",
      "    Abstracted reformulation: Protect vulnerable object from radiation\n",
      "\n",
      "    Problem statement: Prevent feet from getting wet\n",
      "    Abstracted reformulation: Stop object from getting into contact with unwanted substances\n",
      "\n",
      "    Problem statement: Hold soap bars of multiple sizes\n",
      "    Abstracted reformulation: Contain objects of different volumes\n",
      "\n",
      "    Problem statement: Enable a broom to clean in hard to reach places\n",
      "    Abstracted reformulation: Extend the physical reach of a tool\n",
      "\n",
      "    Problem statement: drill into teeth quietly\n",
      "    Abstracted reformulation: create a hole in an object without causing an unwanted noise\n",
      "\n",
      "    Problem statement: make house out of cooked spaghetti\n",
      "    Abstracted reformulation: create strong, rigid structure out of soft materials\n",
      "\n",
      "    Problem statement: make house out of cooked spaghetti\n",
      "    Abstracted reformulation: create structure from elastic elements\n",
      "\n",
      "    Problem statement:  prevent bicycle tire flats\n",
      "    Abstracted reformulation: protect object from the penetration of foreign objects\n",
      "\n",
      "    Problem statement: prevent blood clotting in stents\n",
      "    Abstracted reformulation: prevent clogging of cylindrical tubes\n",
      "\n",
      "    Problem statement: transfer heat in semiconductors at nanoscale\n",
      "    Abstracted reformulation: Enable particles to flow in confined geometries\n",
      "\n",
      "    Problem statement:reduce seasickness in virtual reality systems\n",
      "    Abstracted reformulation: reduce user's dependency on information cues\n",
      "\n",
      "    Problem statement:reduce seasickness in virtual reality systems\n",
      "    Abstracted reformulation: Achieve robust orientation stability\n",
      "\n",
      "    Problem statement:reduce seasickness in virtual reality systems\n",
      "    Abstracted reformulation: improve the feel of a complicated motion or force\n",
      "\n",
      "    Problem statement:wash clothes without water\n",
      "    Abstracted reformulation: Remove dirt from objects by mechanical force\n",
      "\n",
      "    Problem statement:charge cell phones on the go\n",
      "    Abstracted reformulation: Charge a battery source from a remote energy-source\n",
      "\n",
      "    Problem statement:charge cell phones on the go\n",
      "    Abstracted reformulation: Supply power to electrical devices in the field\n",
      "\n",
      "    Problem statement:protect feet from getting wet\n",
      "    Abstracted reformulation: stop entry of foreign particles\n",
      "\n",
      "    Problem statement:protect feet from getting wet\n",
      "    Abstracted reformulation: Mechanically stop liquid from penetrating a space\n",
      "\n",
      "    Problem statement:shield baby from the sun\n",
      "    Abstracted reformulation: Protect vulnerable object from radiation\n",
      "\n",
      "    Problem statement:Prevent feet from getting wet\n",
      "    Abstracted reformulation: Stop object from getting into contact with unwanted substances\n",
      "\n",
      "    Problem statement: identify soldiers in old civil war photographs\n",
      "                                                                                                                                                                                                                                                                                                                                                                                     \n",
      "1 identify soldiers in old civil war photographs ->  94 0.2\n",
      "----------------------------------------\n"
     ]
    },
    {
     "name": "stderr",
     "output_type": "stream",
     "text": [
      "Setting `pad_token_id` to `eos_token_id`:50256 for open-end generation.\n"
     ]
    },
    {
     "name": "stdout",
     "output_type": "stream",
     "text": [
      "Given a problem statement, generate an abstracted reformulation of that problem statement\n",
      "\n",
      "    Problem statement: Shield baby from the sun\n",
      "    Abstracted reformulation: Protect vulnerable object from radiation\n",
      "\n",
      "    Problem statement: Prevent feet from getting wet\n",
      "    Abstracted reformulation: Stop object from getting into contact with unwanted substances\n",
      "\n",
      "    Problem statement: Hold soap bars of multiple sizes\n",
      "    Abstracted reformulation: Contain objects of different volumes\n",
      "\n",
      "    Problem statement: Enable a broom to clean in hard to reach places\n",
      "    Abstracted reformulation: Extend the physical reach of a tool\n",
      "\n",
      "    Problem statement: drill into teeth quietly\n",
      "    Abstracted reformulation: create a hole in an object without causing an unwanted noise\n",
      "\n",
      "    Problem statement: make house out of cooked spaghetti\n",
      "    Abstracted reformulation: create strong, rigid structure out of soft materials\n",
      "\n",
      "    Problem statement: make house out of cooked spaghetti\n",
      "    Abstracted reformulation: create structure from elastic elements\n",
      "\n",
      "    Problem statement:  prevent bicycle tire flats\n",
      "    Abstracted reformulation: protect object from the penetration of foreign objects\n",
      "\n",
      "    Problem statement: prevent blood clotting in stents\n",
      "    Abstracted reformulation: prevent clogging of cylindrical tubes\n",
      "\n",
      "    Problem statement: transfer heat in semiconductors at nanoscale\n",
      "    Abstracted reformulation: Enable particles to flow in confined geometries\n",
      "\n",
      "    Problem statement:reduce seasickness in virtual reality systems\n",
      "    Abstracted reformulation: reduce user's dependency on information cues\n",
      "\n",
      "    Problem statement:reduce seasickness in virtual reality systems\n",
      "    Abstracted reformulation: Achieve robust orientation stability\n",
      "\n",
      "    Problem statement:reduce seasickness in virtual reality systems\n",
      "    Abstracted reformulation: improve the feel of a complicated motion or force\n",
      "\n",
      "    Problem statement:wash clothes without water\n",
      "    Abstracted reformulation: Remove dirt from objects by mechanical force\n",
      "\n",
      "    Problem statement:charge cell phones on the go\n",
      "    Abstracted reformulation: Charge a battery source from a remote energy-source\n",
      "\n",
      "    Problem statement:charge cell phones on the go\n",
      "    Abstracted reformulation: Supply power to electrical devices in the field\n",
      "\n",
      "    Problem statement:protect feet from getting wet\n",
      "    Abstracted reformulation: stop entry of foreign particles\n",
      "\n",
      "    Problem statement:protect feet from getting wet\n",
      "    Abstracted reformulation: Mechanically stop liquid from penetrating a space\n",
      "\n",
      "    Problem statement:shield baby from the sun\n",
      "    Abstracted reformulation: Protect vulnerable object from radiation\n",
      "\n",
      "    Problem statement:Prevent feet from getting wet\n",
      "    Abstracted reformulation: Stop object from getting into contact with unwanted substances\n",
      "\n",
      "    Problem statement: identify soldiers in old civil war photographs\n",
      "                                                                                                                                                                                                                                                                                                                                                                                     \n",
      "2 identify soldiers in old civil war photographs ->  139 0.2\n",
      "----------------------------------------\n"
     ]
    },
    {
     "name": "stderr",
     "output_type": "stream",
     "text": [
      "Setting `pad_token_id` to `eos_token_id`:50256 for open-end generation.\n"
     ]
    },
    {
     "name": "stdout",
     "output_type": "stream",
     "text": [
      "Given a problem statement, generate an abstracted reformulation of that problem statement\n",
      "\n",
      "    Problem statement: Shield baby from the sun\n",
      "    Abstracted reformulation: Protect vulnerable object from radiation\n",
      "\n",
      "    Problem statement: Prevent feet from getting wet\n",
      "    Abstracted reformulation: Stop object from getting into contact with unwanted substances\n",
      "\n",
      "    Problem statement: Hold soap bars of multiple sizes\n",
      "    Abstracted reformulation: Contain objects of different volumes\n",
      "\n",
      "    Problem statement: Enable a broom to clean in hard to reach places\n",
      "    Abstracted reformulation: Extend the physical reach of a tool\n",
      "\n",
      "    Problem statement: drill into teeth quietly\n",
      "    Abstracted reformulation: create a hole in an object without causing an unwanted noise\n",
      "\n",
      "    Problem statement: make house out of cooked spaghetti\n",
      "    Abstracted reformulation: create strong, rigid structure out of soft materials\n",
      "\n",
      "    Problem statement: make house out of cooked spaghetti\n",
      "    Abstracted reformulation: create structure from elastic elements\n",
      "\n",
      "    Problem statement:  prevent bicycle tire flats\n",
      "    Abstracted reformulation: protect object from the penetration of foreign objects\n",
      "\n",
      "    Problem statement: prevent blood clotting in stents\n",
      "    Abstracted reformulation: prevent clogging of cylindrical tubes\n",
      "\n",
      "    Problem statement: transfer heat in semiconductors at nanoscale\n",
      "    Abstracted reformulation: Enable particles to flow in confined geometries\n",
      "\n",
      "    Problem statement:reduce seasickness in virtual reality systems\n",
      "    Abstracted reformulation: reduce user's dependency on information cues\n",
      "\n",
      "    Problem statement:reduce seasickness in virtual reality systems\n",
      "    Abstracted reformulation: Achieve robust orientation stability\n",
      "\n",
      "    Problem statement:reduce seasickness in virtual reality systems\n",
      "    Abstracted reformulation: improve the feel of a complicated motion or force\n",
      "\n",
      "    Problem statement:wash clothes without water\n",
      "    Abstracted reformulation: Remove dirt from objects by mechanical force\n",
      "\n",
      "    Problem statement:charge cell phones on the go\n",
      "    Abstracted reformulation: Charge a battery source from a remote energy-source\n",
      "\n",
      "    Problem statement:charge cell phones on the go\n",
      "    Abstracted reformulation: Supply power to electrical devices in the field\n",
      "\n",
      "    Problem statement:protect feet from getting wet\n",
      "    Abstracted reformulation: stop entry of foreign particles\n",
      "\n",
      "    Problem statement:protect feet from getting wet\n",
      "    Abstracted reformulation: Mechanically stop liquid from penetrating a space\n",
      "\n",
      "    Problem statement:shield baby from the sun\n",
      "    Abstracted reformulation: Protect vulnerable object from radiation\n",
      "\n",
      "    Problem statement:Prevent feet from getting wet\n",
      "    Abstracted reformulation: Stop object from getting into contact with unwanted substances\n",
      "\n",
      "    Problem statement: identify soldiers in old civil war photographs\n",
      "                                                                                                                                                                                                                                                                                                                                                                                     \n",
      "1 identify soldiers in old civil war photographs ->  186 0.3\n",
      "----------------------------------------\n"
     ]
    },
    {
     "name": "stderr",
     "output_type": "stream",
     "text": [
      "Setting `pad_token_id` to `eos_token_id`:50256 for open-end generation.\n"
     ]
    },
    {
     "name": "stdout",
     "output_type": "stream",
     "text": [
      "Given a problem statement, generate an abstracted reformulation of that problem statement\n",
      "\n",
      "    Problem statement: Shield baby from the sun\n",
      "    Abstracted reformulation: Protect vulnerable object from radiation\n",
      "\n",
      "    Problem statement: Prevent feet from getting wet\n",
      "    Abstracted reformulation: Stop object from getting into contact with unwanted substances\n",
      "\n",
      "    Problem statement: Hold soap bars of multiple sizes\n",
      "    Abstracted reformulation: Contain objects of different volumes\n",
      "\n",
      "    Problem statement: Enable a broom to clean in hard to reach places\n",
      "    Abstracted reformulation: Extend the physical reach of a tool\n",
      "\n",
      "    Problem statement: drill into teeth quietly\n",
      "    Abstracted reformulation: create a hole in an object without causing an unwanted noise\n",
      "\n",
      "    Problem statement: make house out of cooked spaghetti\n",
      "    Abstracted reformulation: create strong, rigid structure out of soft materials\n",
      "\n",
      "    Problem statement: make house out of cooked spaghetti\n",
      "    Abstracted reformulation: create structure from elastic elements\n",
      "\n",
      "    Problem statement:  prevent bicycle tire flats\n",
      "    Abstracted reformulation: protect object from the penetration of foreign objects\n",
      "\n",
      "    Problem statement: prevent blood clotting in stents\n",
      "    Abstracted reformulation: prevent clogging of cylindrical tubes\n",
      "\n",
      "    Problem statement: transfer heat in semiconductors at nanoscale\n",
      "    Abstracted reformulation: Enable particles to flow in confined geometries\n",
      "\n",
      "    Problem statement:reduce seasickness in virtual reality systems\n",
      "    Abstracted reformulation: reduce user's dependency on information cues\n",
      "\n",
      "    Problem statement:reduce seasickness in virtual reality systems\n",
      "    Abstracted reformulation: Achieve robust orientation stability\n",
      "\n",
      "    Problem statement:reduce seasickness in virtual reality systems\n",
      "    Abstracted reformulation: improve the feel of a complicated motion or force\n",
      "\n",
      "    Problem statement:wash clothes without water\n",
      "    Abstracted reformulation: Remove dirt from objects by mechanical force\n",
      "\n",
      "    Problem statement:charge cell phones on the go\n",
      "    Abstracted reformulation: Charge a battery source from a remote energy-source\n",
      "\n",
      "    Problem statement:charge cell phones on the go\n",
      "    Abstracted reformulation: Supply power to electrical devices in the field\n",
      "\n",
      "    Problem statement:protect feet from getting wet\n",
      "    Abstracted reformulation: stop entry of foreign particles\n",
      "\n",
      "    Problem statement:protect feet from getting wet\n",
      "    Abstracted reformulation: Mechanically stop liquid from penetrating a space\n",
      "\n",
      "    Problem statement:shield baby from the sun\n",
      "    Abstracted reformulation: Protect vulnerable object from radiation\n",
      "\n",
      "    Problem statement:Prevent feet from getting wet\n",
      "    Abstracted reformulation: Stop object from getting into contact with unwanted substances\n",
      "\n",
      "    Problem statement: identify soldiers in old civil war photographs\n",
      "                                                                                                                                                                                                                                                                                                                                                                                     \n",
      "2 identify soldiers in old civil war photographs ->  233 0.3\n",
      "----------------------------------------\n"
     ]
    },
    {
     "name": "stderr",
     "output_type": "stream",
     "text": [
      "Setting `pad_token_id` to `eos_token_id`:50256 for open-end generation.\n"
     ]
    },
    {
     "name": "stdout",
     "output_type": "stream",
     "text": [
      "Given a problem statement, generate an abstracted reformulation of that problem statement\n",
      "\n",
      "    Problem statement: Shield baby from the sun\n",
      "    Abstracted reformulation: Protect vulnerable object from radiation\n",
      "\n",
      "    Problem statement: Prevent feet from getting wet\n",
      "    Abstracted reformulation: Stop object from getting into contact with unwanted substances\n",
      "\n",
      "    Problem statement: Hold soap bars of multiple sizes\n",
      "    Abstracted reformulation: Contain objects of different volumes\n",
      "\n",
      "    Problem statement: Enable a broom to clean in hard to reach places\n",
      "    Abstracted reformulation: Extend the physical reach of a tool\n",
      "\n",
      "    Problem statement: drill into teeth quietly\n",
      "    Abstracted reformulation: create a hole in an object without causing an unwanted noise\n",
      "\n",
      "    Problem statement: make house out of cooked spaghetti\n",
      "    Abstracted reformulation: create strong, rigid structure out of soft materials\n",
      "\n",
      "    Problem statement: make house out of cooked spaghetti\n",
      "    Abstracted reformulation: create structure from elastic elements\n",
      "\n",
      "    Problem statement:  prevent bicycle tire flats\n",
      "    Abstracted reformulation: protect object from the penetration of foreign objects\n",
      "\n",
      "    Problem statement: prevent blood clotting in stents\n",
      "    Abstracted reformulation: prevent clogging of cylindrical tubes\n",
      "\n",
      "    Problem statement: transfer heat in semiconductors at nanoscale\n",
      "    Abstracted reformulation: Enable particles to flow in confined geometries\n",
      "\n",
      "    Problem statement:reduce seasickness in virtual reality systems\n",
      "    Abstracted reformulation: reduce user's dependency on information cues\n",
      "\n",
      "    Problem statement:reduce seasickness in virtual reality systems\n",
      "    Abstracted reformulation: Achieve robust orientation stability\n",
      "\n",
      "    Problem statement:reduce seasickness in virtual reality systems\n",
      "    Abstracted reformulation: improve the feel of a complicated motion or force\n",
      "\n",
      "    Problem statement:wash clothes without water\n",
      "    Abstracted reformulation: Remove dirt from objects by mechanical force\n",
      "\n",
      "    Problem statement:charge cell phones on the go\n",
      "    Abstracted reformulation: Charge a battery source from a remote energy-source\n",
      "\n",
      "    Problem statement:charge cell phones on the go\n",
      "    Abstracted reformulation: Supply power to electrical devices in the field\n",
      "\n",
      "    Problem statement:protect feet from getting wet\n",
      "    Abstracted reformulation: stop entry of foreign particles\n",
      "\n",
      "    Problem statement:protect feet from getting wet\n",
      "    Abstracted reformulation: Mechanically stop liquid from penetrating a space\n",
      "\n",
      "    Problem statement:shield baby from the sun\n",
      "    Abstracted reformulation: Protect vulnerable object from radiation\n",
      "\n",
      "    Problem statement:Prevent feet from getting wet\n",
      "    Abstracted reformulation: Stop object from getting into contact with unwanted substances\n",
      "\n",
      "    Problem statement: identify soldiers in old civil war photographs\n",
      "                                                                                                                                                                                                                                                                                                                                                                                     \n",
      "1 identify soldiers in old civil war photographs ->  281 0.4\n",
      "----------------------------------------\n"
     ]
    },
    {
     "name": "stderr",
     "output_type": "stream",
     "text": [
      "Setting `pad_token_id` to `eos_token_id`:50256 for open-end generation.\n"
     ]
    },
    {
     "name": "stdout",
     "output_type": "stream",
     "text": [
      "Given a problem statement, generate an abstracted reformulation of that problem statement\n",
      "\n",
      "    Problem statement: Shield baby from the sun\n",
      "    Abstracted reformulation: Protect vulnerable object from radiation\n",
      "\n",
      "    Problem statement: Prevent feet from getting wet\n",
      "    Abstracted reformulation: Stop object from getting into contact with unwanted substances\n",
      "\n",
      "    Problem statement: Hold soap bars of multiple sizes\n",
      "    Abstracted reformulation: Contain objects of different volumes\n",
      "\n",
      "    Problem statement: Enable a broom to clean in hard to reach places\n",
      "    Abstracted reformulation: Extend the physical reach of a tool\n",
      "\n",
      "    Problem statement: drill into teeth quietly\n",
      "    Abstracted reformulation: create a hole in an object without causing an unwanted noise\n",
      "\n",
      "    Problem statement: make house out of cooked spaghetti\n",
      "    Abstracted reformulation: create strong, rigid structure out of soft materials\n",
      "\n",
      "    Problem statement: make house out of cooked spaghetti\n",
      "    Abstracted reformulation: create structure from elastic elements\n",
      "\n",
      "    Problem statement:  prevent bicycle tire flats\n",
      "    Abstracted reformulation: protect object from the penetration of foreign objects\n",
      "\n",
      "    Problem statement: prevent blood clotting in stents\n",
      "    Abstracted reformulation: prevent clogging of cylindrical tubes\n",
      "\n",
      "    Problem statement: transfer heat in semiconductors at nanoscale\n",
      "    Abstracted reformulation: Enable particles to flow in confined geometries\n",
      "\n",
      "    Problem statement:reduce seasickness in virtual reality systems\n",
      "    Abstracted reformulation: reduce user's dependency on information cues\n",
      "\n",
      "    Problem statement:reduce seasickness in virtual reality systems\n",
      "    Abstracted reformulation: Achieve robust orientation stability\n",
      "\n",
      "    Problem statement:reduce seasickness in virtual reality systems\n",
      "    Abstracted reformulation: improve the feel of a complicated motion or force\n",
      "\n",
      "    Problem statement:wash clothes without water\n",
      "    Abstracted reformulation: Remove dirt from objects by mechanical force\n",
      "\n",
      "    Problem statement:charge cell phones on the go\n",
      "    Abstracted reformulation: Charge a battery source from a remote energy-source\n",
      "\n",
      "    Problem statement:charge cell phones on the go\n",
      "    Abstracted reformulation: Supply power to electrical devices in the field\n",
      "\n",
      "    Problem statement:protect feet from getting wet\n",
      "    Abstracted reformulation: stop entry of foreign particles\n",
      "\n",
      "    Problem statement:protect feet from getting wet\n",
      "    Abstracted reformulation: Mechanically stop liquid from penetrating a space\n",
      "\n",
      "    Problem statement:shield baby from the sun\n",
      "    Abstracted reformulation: Protect vulnerable object from radiation\n",
      "\n",
      "    Problem statement:Prevent feet from getting wet\n",
      "    Abstracted reformulation: Stop object from getting into contact with unwanted substances\n",
      "\n",
      "    Problem statement: identify soldiers in old civil war photographs\n",
      "                                                                                                                                                                                                                                                                                                                                                                                     \n",
      "2 identify soldiers in old civil war photographs ->  329 0.4\n",
      "----------------------------------------\n"
     ]
    }
   ],
   "source": [
    "\n"
   ]
  },
  {
   "cell_type": "code",
   "execution_count": 25,
   "metadata": {},
   "outputs": [],
   "source": []
  },
  {
   "cell_type": "code",
   "execution_count": 26,
   "metadata": {},
   "outputs": [
    {
     "name": "stderr",
     "output_type": "stream",
     "text": [
      "Setting `pad_token_id` to `eos_token_id`:50256 for open-end generation.\n"
     ]
    },
    {
     "name": "stdout",
     "output_type": "stream",
     "text": [
      "[{'generated_text': \"Given a problem statement, generate an abstracted reformulation of that problem statement\\n\\n    Problem statement:reduce seasickness in virtual reality systems\\n    Abstracted reformulation: reduce user's dependency on information cues\\n\\n    Problem statement:reduce seasickness in virtual reality systems\\n    Abstracted reformulation: Achieve robust orientation stability\\n\\n    Problem statement:reduce seasickness in virtual reality systems\\n    Abstracted reformulation: improve the feel of a complicated motion or force\\n\\n    Problem statement:wash clothes without water\\n    Abstracted reformulation: Remove dirt from objects by mechanical force\\n\\n    Problem statement:charge cell phones on the go\\n    Abstracted reformulation: Charge a battery source from a remote energy-source\\n\\n    Problem statement:charge cell phones on the go\\n    Abstracted reformulation: Supply power to electrical devices in the field\\n\\n    Problem statement:protect feet from getting wet\\n    Abstracted reformulation: stop entry of foreign particles\\n\\n    Problem statement:protect feet from getting wet\\n    Abstracted reformulation: Mechanically stop liquid from penetrating a space\\n\\n    Problem statement:shield baby from the sun\\n    Abstracted reformulation: Protect vulnerable object from radiation\\n\\n    Problem statement:Prevent feet from getting wet\\n    Abstracted reformulation: Stop object from getting into contact with unwanted substances\\n\\n    Problem statement: increase temperature of the cup\\n                                                                                                                                                                                \"}]\n"
     ]
    }
   ],
   "source": []
  },
  {
   "cell_type": "code",
   "execution_count": 18,
   "metadata": {},
   "outputs": [],
   "source": [
    "# res_generator_gpt_neo_125m[0]['generated_text']"
   ]
  },
  {
   "cell_type": "code",
   "execution_count": null,
   "metadata": {},
   "outputs": [],
   "source": []
  },
  {
   "cell_type": "code",
   "execution_count": null,
   "metadata": {},
   "outputs": [],
   "source": []
  },
  {
   "cell_type": "code",
   "execution_count": null,
   "metadata": {},
   "outputs": [],
   "source": []
  },
  {
   "cell_type": "code",
   "execution_count": null,
   "metadata": {},
   "outputs": [],
   "source": []
  },
  {
   "cell_type": "code",
   "execution_count": null,
   "metadata": {},
   "outputs": [],
   "source": []
  },
  {
   "cell_type": "code",
   "execution_count": null,
   "metadata": {},
   "outputs": [],
   "source": []
  },
  {
   "cell_type": "code",
   "execution_count": null,
   "metadata": {},
   "outputs": [],
   "source": []
  },
  {
   "cell_type": "code",
   "execution_count": null,
   "metadata": {},
   "outputs": [],
   "source": []
  },
  {
   "cell_type": "code",
   "execution_count": null,
   "metadata": {},
   "outputs": [],
   "source": []
  },
  {
   "cell_type": "code",
   "execution_count": null,
   "metadata": {},
   "outputs": [],
   "source": []
  },
  {
   "cell_type": "code",
   "execution_count": null,
   "metadata": {},
   "outputs": [],
   "source": []
  },
  {
   "cell_type": "code",
   "execution_count": null,
   "metadata": {},
   "outputs": [],
   "source": []
  },
  {
   "cell_type": "code",
   "execution_count": null,
   "metadata": {},
   "outputs": [],
   "source": [
    "# res_generator_gpt_neo_125m\n"
   ]
  },
  {
   "cell_type": "code",
   "execution_count": null,
   "metadata": {},
   "outputs": [],
   "source": [
    "# res_generator_gpt_neo_125m[0]['generated_text'].split('\\n\\n')[11].split('\\n')[0]"
   ]
  },
  {
   "cell_type": "code",
   "execution_count": null,
   "metadata": {},
   "outputs": [],
   "source": [
    "# res_generator_gpt_neo_125m[0]['generated_text'].split('\\n\\n')[11].split('\\n')[-1]"
   ]
  },
  {
   "cell_type": "code",
   "execution_count": null,
   "metadata": {},
   "outputs": [],
   "source": [
    "# print(res_generator_gpt_neo_125m[0]['generated_text'])"
   ]
  },
  {
   "cell_type": "code",
   "execution_count": null,
   "metadata": {},
   "outputs": [],
   "source": []
  },
  {
   "cell_type": "code",
   "execution_count": null,
   "metadata": {},
   "outputs": [],
   "source": []
  },
  {
   "cell_type": "code",
   "execution_count": null,
   "metadata": {},
   "outputs": [],
   "source": [
    "# print(res_generator_gpt_neo_1_3b[0]['generated_text'])"
   ]
  },
  {
   "cell_type": "code",
   "execution_count": null,
   "metadata": {},
   "outputs": [],
   "source": [
    "# res_generator_gpt_neo_2_7 = generator_gpt_neo_2_7(prompt,max_length = 500, do_sample = True,temperature = 0.9)"
   ]
  },
  {
   "cell_type": "code",
   "execution_count": null,
   "metadata": {},
   "outputs": [],
   "source": [
    "\n",
    "# print(res_generator_gpt_neo_2_7[0]['generated_text'])"
   ]
  },
  {
   "cell_type": "code",
   "execution_count": null,
   "metadata": {},
   "outputs": [],
   "source": [
    "# res_generator_gpt2 = generator_gpt2(prompt,max_length = 500, do_sample = True,temperature = 0.9)"
   ]
  },
  {
   "cell_type": "code",
   "execution_count": null,
   "metadata": {},
   "outputs": [],
   "source": [
    "\n",
    "\n",
    "# print(res_generator_gpt2[0]['generated_text'])"
   ]
  },
  {
   "cell_type": "code",
   "execution_count": null,
   "metadata": {},
   "outputs": [],
   "source": []
  },
  {
   "cell_type": "code",
   "execution_count": null,
   "metadata": {},
   "outputs": [],
   "source": []
  },
  {
   "cell_type": "code",
   "execution_count": null,
   "metadata": {},
   "outputs": [],
   "source": []
  },
  {
   "cell_type": "code",
   "execution_count": null,
   "metadata": {},
   "outputs": [],
   "source": []
  },
  {
   "cell_type": "code",
   "execution_count": null,
   "metadata": {},
   "outputs": [],
   "source": []
  },
  {
   "cell_type": "code",
   "execution_count": null,
   "metadata": {},
   "outputs": [],
   "source": []
  },
  {
   "cell_type": "code",
   "execution_count": null,
   "metadata": {},
   "outputs": [],
   "source": []
  },
  {
   "cell_type": "code",
   "execution_count": null,
   "metadata": {},
   "outputs": [],
   "source": []
  }
 ],
 "metadata": {
  "kernelspec": {
   "display_name": "Python 3",
   "language": "python",
   "name": "python3"
  },
  "language_info": {
   "codemirror_mode": {
    "name": "ipython",
    "version": 3
   },
   "file_extension": ".py",
   "mimetype": "text/x-python",
   "name": "python",
   "nbconvert_exporter": "python",
   "pygments_lexer": "ipython3",
   "version": "3.8.10"
  }
 },
 "nbformat": 4,
 "nbformat_minor": 4
}
