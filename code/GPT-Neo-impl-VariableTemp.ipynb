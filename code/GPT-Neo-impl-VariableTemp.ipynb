{
 "cells": [
  {
   "cell_type": "code",
   "execution_count": 1,
   "metadata": {},
   "outputs": [
    {
     "name": "stderr",
     "output_type": "stream",
     "text": [
      "C:\\Users\\ysj30\\anaconda3\\envs\\py383\\lib\\site-packages\\torchaudio\\extension\\extension.py:13: UserWarning: torchaudio C++ extension is not available.\n",
      "  warnings.warn('torchaudio C++ extension is not available.')\n",
      "C:\\Users\\ysj30\\anaconda3\\envs\\py383\\lib\\site-packages\\torchaudio\\backend\\utils.py:89: UserWarning: No audio backend is available.\n",
      "  warnings.warn('No audio backend is available.')\n"
     ]
    }
   ],
   "source": [
    "from transformers import pipeline"
   ]
  },
  {
   "cell_type": "code",
   "execution_count": 2,
   "metadata": {},
   "outputs": [],
   "source": [
    "import numpy as np\n",
    "import pandas as pd\n",
    "import random\n",
    "import string\n",
    "from datetime import datetime\n",
    "import time"
   ]
  },
  {
   "cell_type": "code",
   "execution_count": null,
   "metadata": {},
   "outputs": [],
   "source": []
  },
  {
   "cell_type": "code",
   "execution_count": 3,
   "metadata": {},
   "outputs": [],
   "source": [
    "generator_gpt_neo_1_3b = pipeline('text-generation',model='EleutherAI/gpt-neo-1.3B')"
   ]
  },
  {
   "cell_type": "code",
   "execution_count": 4,
   "metadata": {},
   "outputs": [],
   "source": [
    "# prompt = 'drill into teeth quietly'"
   ]
  },
  {
   "cell_type": "code",
   "execution_count": 5,
   "metadata": {},
   "outputs": [],
   "source": [
    "generator_gpt_neo_125m = pipeline('text-generation',model='EleutherAI/gpt-neo-125M')"
   ]
  },
  {
   "cell_type": "code",
   "execution_count": 6,
   "metadata": {},
   "outputs": [],
   "source": [
    "generator_gpt_neo_2_7 = pipeline('text-generation',model='EleutherAI/gpt-neo-2.7B')"
   ]
  },
  {
   "cell_type": "code",
   "execution_count": 7,
   "metadata": {},
   "outputs": [],
   "source": [
    "# generator_gpt2 = pipeline('text-generation',model='gpt2')"
   ]
  },
  {
   "cell_type": "code",
   "execution_count": 8,
   "metadata": {},
   "outputs": [],
   "source": [
    "user_input = \"keep head from moving while sleeping on bus\""
   ]
  },
  {
   "cell_type": "code",
   "execution_count": 9,
   "metadata": {},
   "outputs": [],
   "source": [
    "prompt = f\"\"\"Given a problem statement, generate an abstracted reformulation of that problem statement\n",
    "\n",
    "Problem statement: Shield baby from the sun\n",
    "Abstracted reformulation: Protect vulnerable object from radiation\n",
    "\n",
    "Problem statement: Prevent feet from getting wet\n",
    "Abstracted reformulation: Stop object from getting into contact with unwanted substances\n",
    "\n",
    "Problem statement: Hold soap bars of multiple sizes\n",
    "Abstracted reformulation: Contain objects of different volumes\n",
    "\n",
    "Problem statement: Enable a broom to clean in hard to reach places\n",
    "Abstracted reformulation: Extend the physical reach of a tool\n",
    "\n",
    "Problem statement: drill into teeth quietly\n",
    "Abstracted reformulation: create a hole in an object without causing an unwanted noise\n",
    "\n",
    "Problem statement: make house out of cooked spaghetti\n",
    "Abstracted reformulation: create strong, rigid structure out of soft materials\n",
    "\n",
    "Problem statement: make house out of cooked spaghetti\n",
    "Abstracted reformulation: create structure from elastic elements\n",
    "\n",
    "Problem statement:  prevent bicycle tire flats\n",
    "Abstracted reformulation: protect object from the penetration of foreign objects\n",
    "\n",
    "Problem statement: prevent blood clotting in stents\n",
    "Abstracted reformulation: prevent clogging of cylindrical tubes\n",
    "\n",
    "Problem statement: transfer heat in semiconductors at nanoscale\n",
    "Abstracted reformulation: Enable particles to flow in confined geometries\n",
    "\n",
    "Problem statement:reduce seasickness in virtual reality systems\n",
    "Abstracted reformulation: reduce user's dependency on information cues\n",
    "\n",
    "Problem statement:reduce seasickness in virtual reality systems\n",
    "Abstracted reformulation: Achieve robust orientation stability\n",
    "\n",
    "Problem statement:reduce seasickness in virtual reality systems\n",
    "Abstracted reformulation: improve the feel of a complicated motion or force\n",
    "\n",
    "Problem statement:wash clothes without water\n",
    "Abstracted reformulation: Remove dirt from objects by mechanical force\n",
    "\n",
    "Problem statement:charge cell phones on the go\n",
    "Abstracted reformulation: Charge a battery source from a remote energy-source\n",
    "\n",
    "Problem statement:charge cell phones on the go\n",
    "Abstracted reformulation: Supply power to electrical devices in the field\n",
    "\n",
    "Problem statement:protect feet from getting wet\n",
    "Abstracted reformulation: stop entry of foreign particles\n",
    "\n",
    "Problem statement:protect feet from getting wet\n",
    "Abstracted reformulation: Mechanically stop liquid from penetrating a space\n",
    "\n",
    "Problem statement:shield baby from the sun\n",
    "Abstracted reformulation: Protect vulnerable object from radiation\n",
    "\n",
    "Problem statement:Prevent feet from getting wet\n",
    "Abstracted reformulation: Stop object from getting into contact with unwanted substances\n",
    "\n",
    "Problem statement: {user_input}\n",
    "\"\"\""
   ]
  },
  {
   "cell_type": "code",
   "execution_count": null,
   "metadata": {},
   "outputs": [],
   "source": []
  },
  {
   "cell_type": "code",
   "execution_count": 10,
   "metadata": {},
   "outputs": [
    {
     "name": "stdout",
     "output_type": "stream",
     "text": [
      "<module 'random' from 'C:\\\\Users\\\\ysj30\\\\anaconda3\\\\envs\\\\py383\\\\lib\\\\random.py'>\n"
     ]
    }
   ],
   "source": [
    "\n",
    "# Generate a random string\n",
    "# with 32 characters.\n",
    "\n",
    "\n",
    "print (random)"
   ]
  },
  {
   "cell_type": "code",
   "execution_count": 11,
   "metadata": {},
   "outputs": [],
   "source": [
    "cols = ['id','model_name','iteration','temperature','input_length','problem_statement','abstract_reformulation','cumulative_time_in_seconds']\n",
    "def generate_blank_df(cols): \n",
    "    df = pd.DataFrame(columns = cols)\n",
    "    return df"
   ]
  },
  {
   "cell_type": "code",
   "execution_count": 12,
   "metadata": {},
   "outputs": [],
   "source": [
    "# df = generate_blank_df(cols)"
   ]
  },
  {
   "cell_type": "code",
   "execution_count": 13,
   "metadata": {},
   "outputs": [],
   "source": [
    "def get_current_date():\n",
    "    now = datetime.now()\n",
    "\n",
    "#     print(\"now =\", now)\n",
    "\n",
    "    # dd/mm/YY H:M:S\n",
    "    dt_string = now.strftime(\"%Y%m%d\")\n",
    "#     print(\"date and time =\", dt_string)\n",
    "    date_string = dt_string\n",
    "    return date_string"
   ]
  },
  {
   "cell_type": "code",
   "execution_count": 14,
   "metadata": {},
   "outputs": [],
   "source": [
    "date = get_current_date()"
   ]
  },
  {
   "cell_type": "code",
   "execution_count": null,
   "metadata": {},
   "outputs": [],
   "source": []
  },
  {
   "cell_type": "code",
   "execution_count": 15,
   "metadata": {},
   "outputs": [],
   "source": [
    "def generate_output(model,max_iterations,prompt,number_of_problem_statements,temp,model_name_text,want_to_save_1or0):\n",
    "    start = time.time()\n",
    "    date = get_current_date()\n",
    "    df = generate_blank_df(cols)\n",
    "    rand_id = ''.join([random.choice(string.ascii_letters\n",
    "            + string.digits) for n in range(7)])\n",
    "    iteration_no = 1\n",
    "    columns = list(df)\n",
    "#     temp_str = str(temp)\n",
    "#     temp_str = temp_str.split('.')[-1]\n",
    "    file_name = date+'_'+model_name_text+'_'+rand_id+'_'+str(max_iterations)+'_'+str(number_of_problem_statements)+'.csv'\n",
    "    data = []\n",
    "    while temp < 1.0:\n",
    "        iteration_no = 1        \n",
    "        while iteration_no <= max_iterations:\n",
    "            cumulative_time=round((time.time()-start))\n",
    "            res_model = model(prompt,max_length = 32*number_of_problem_statements,do_sample = True,temperature = temp)\n",
    "            problem_statement = res_model[0]['generated_text'].split('\\n\\n')[number_of_problem_statements+1].split('\\n')[0].split(':')[-1].strip()\n",
    "            abs_reformulation = res_model[0]['generated_text'].split('\\n\\n')[number_of_problem_statements+1].split('\\n')[-1].split(':')[-1].strip()\n",
    "            values_for_df = [rand_id,model_name_text,iteration_no,temp,number_of_problem_statements,problem_statement,abs_reformulation,cumulative_time]\n",
    "            zipped = zip(columns,values_for_df)\n",
    "            dict1 = dict(zipped)\n",
    "            data.append(dict1)\n",
    "            iteration_no += 1\n",
    "    #         print(f'Total time taken is {elapsed_time_lc}')\n",
    "            print(iteration_no-1,problem_statement,'->',abs_reformulation,cumulative_time,temp)\n",
    "            print('----------------------------------------')\n",
    "    #         print(rand_id,iteration_no,temp,number_of_problem_statements,problem_statement,abs_reformulation)\n",
    "        \n",
    "            df = df.append(data,ignore_index = True)\n",
    "        temp = round((temp+0.1),1)\n",
    "        \n",
    "    df = df.drop_duplicates()\n",
    "    \n",
    "    if(want_to_save_1or0==1):\n",
    "        df.to_csv(f'../Csv/{file_name}',index=False)\n",
    "    else:\n",
    "        print('returning_df')\n",
    "    \n",
    "    elapsed_time_lc=(time.time()-start)\n",
    "    print(f'Total time taken is {round(elapsed_time_lc)}')\n",
    "    \n",
    "    return df\n",
    "    "
   ]
  },
  {
   "cell_type": "code",
   "execution_count": null,
   "metadata": {},
   "outputs": [],
   "source": []
  },
  {
   "cell_type": "code",
   "execution_count": 16,
   "metadata": {},
   "outputs": [
    {
     "name": "stderr",
     "output_type": "stream",
     "text": [
      "Setting `pad_token_id` to `eos_token_id`:50256 for open-end generation.\n",
      "Setting `pad_token_id` to `eos_token_id`:50256 for open-end generation.\n"
     ]
    },
    {
     "name": "stdout",
     "output_type": "stream",
     "text": [
      "1 keep head from moving while sleeping on bus -> Increase the density of a particle in a space 0 0.7\n",
      "----------------------------------------\n"
     ]
    },
    {
     "name": "stderr",
     "output_type": "stream",
     "text": [
      "Setting `pad_token_id` to `eos_token_id`:50256 for open-end generation.\n"
     ]
    },
    {
     "name": "stdout",
     "output_type": "stream",
     "text": [
      "2 keep head from moving while sleeping on bus -> Prevent falling by using a large head 13 0.7\n",
      "----------------------------------------\n"
     ]
    },
    {
     "name": "stderr",
     "output_type": "stream",
     "text": [
      "Setting `pad_token_id` to `eos_token_id`:50256 for open-end generation.\n"
     ]
    },
    {
     "name": "stdout",
     "output_type": "stream",
     "text": [
      "3 keep head from moving while sleeping on bus -> Prevent object from getting into contact with unwanted substances 24 0.7\n",
      "----------------------------------------\n"
     ]
    },
    {
     "name": "stderr",
     "output_type": "stream",
     "text": [
      "Setting `pad_token_id` to `eos_token_id`:50256 for open-end generation.\n"
     ]
    },
    {
     "name": "stdout",
     "output_type": "stream",
     "text": [
      "4 keep head from moving while sleeping on bus -> Stop object from getting into contact with unwanted substances 34 0.7\n",
      "----------------------------------------\n"
     ]
    },
    {
     "name": "stderr",
     "output_type": "stream",
     "text": [
      "Setting `pad_token_id` to `eos_token_id`:50256 for open-end generation.\n"
     ]
    },
    {
     "name": "stdout",
     "output_type": "stream",
     "text": [
      "5 keep head from moving while sleeping on bus -> Remove head from body or head from body 45 0.7\n",
      "----------------------------------------\n"
     ]
    },
    {
     "name": "stderr",
     "output_type": "stream",
     "text": [
      "Setting `pad_token_id` to `eos_token_id`:50256 for open-end generation.\n"
     ]
    },
    {
     "name": "stdout",
     "output_type": "stream",
     "text": [
      "6 keep head from moving while sleeping on bus -> Prevent object from getting into contact with unwanted substances 56 0.7\n",
      "----------------------------------------\n"
     ]
    },
    {
     "name": "stderr",
     "output_type": "stream",
     "text": [
      "Setting `pad_token_id` to `eos_token_id`:50256 for open-end generation.\n"
     ]
    },
    {
     "name": "stdout",
     "output_type": "stream",
     "text": [
      "7 keep head from moving while sleeping on bus -> stop the user from getting into contact with unwanted substances 67 0.7\n",
      "----------------------------------------\n"
     ]
    },
    {
     "name": "stderr",
     "output_type": "stream",
     "text": [
      "Setting `pad_token_id` to `eos_token_id`:50256 for open-end generation.\n"
     ]
    },
    {
     "name": "stdout",
     "output_type": "stream",
     "text": [
      "8 keep head from moving while sleeping on bus -> prevent head from moving until it stops 77 0.7\n",
      "----------------------------------------\n"
     ]
    },
    {
     "name": "stderr",
     "output_type": "stream",
     "text": [
      "Setting `pad_token_id` to `eos_token_id`:50256 for open-end generation.\n"
     ]
    },
    {
     "name": "stdout",
     "output_type": "stream",
     "text": [
      "9 keep head from moving while sleeping on bus -> Protect the head from falling down 88 0.7\n",
      "----------------------------------------\n"
     ]
    },
    {
     "name": "stderr",
     "output_type": "stream",
     "text": [
      "Setting `pad_token_id` to `eos_token_id`:50256 for open-end generation.\n"
     ]
    },
    {
     "name": "stdout",
     "output_type": "stream",
     "text": [
      "10 keep head from moving while sleeping on bus -> Keep head from getting wet 99 0.7\n",
      "----------------------------------------\n"
     ]
    },
    {
     "name": "stderr",
     "output_type": "stream",
     "text": [
      "Setting `pad_token_id` to `eos_token_id`:50256 for open-end generation.\n"
     ]
    },
    {
     "name": "stdout",
     "output_type": "stream",
     "text": [
      "11 keep head from moving while sleeping on bus -> prevent objects from falling asleep on the bus 111 0.7\n",
      "----------------------------------------\n"
     ]
    },
    {
     "name": "stderr",
     "output_type": "stream",
     "text": [
      "Setting `pad_token_id` to `eos_token_id`:50256 for open-end generation.\n"
     ]
    },
    {
     "name": "stdout",
     "output_type": "stream",
     "text": [
      "12 keep head from moving while sleeping on bus -> keep head from moving from bus 123 0.7\n",
      "----------------------------------------\n"
     ]
    },
    {
     "name": "stderr",
     "output_type": "stream",
     "text": [
      "Setting `pad_token_id` to `eos_token_id`:50256 for open-end generation.\n"
     ]
    },
    {
     "name": "stdout",
     "output_type": "stream",
     "text": [
      "13 keep head from moving while sleeping on bus -> keep head from moving while sleeping on bus 134 0.7\n",
      "----------------------------------------\n"
     ]
    },
    {
     "name": "stderr",
     "output_type": "stream",
     "text": [
      "Setting `pad_token_id` to `eos_token_id`:50256 for open-end generation.\n"
     ]
    },
    {
     "name": "stdout",
     "output_type": "stream",
     "text": [
      "14 keep head from moving while sleeping on bus -> prevent object from getting into contact with unwanted substances 145 0.7\n",
      "----------------------------------------\n"
     ]
    },
    {
     "name": "stderr",
     "output_type": "stream",
     "text": [
      "Setting `pad_token_id` to `eos_token_id`:50256 for open-end generation.\n"
     ]
    },
    {
     "name": "stdout",
     "output_type": "stream",
     "text": [
      "15 keep head from moving while sleeping on bus -> keep head from moving while sleeping on bus 156 0.7\n",
      "----------------------------------------\n"
     ]
    },
    {
     "name": "stderr",
     "output_type": "stream",
     "text": [
      "Setting `pad_token_id` to `eos_token_id`:50256 for open-end generation.\n"
     ]
    },
    {
     "name": "stdout",
     "output_type": "stream",
     "text": [
      "16 keep head from moving while sleeping on bus -> Prevent object from getting into contact with unwanted substances 167 0.7\n",
      "----------------------------------------\n"
     ]
    },
    {
     "name": "stderr",
     "output_type": "stream",
     "text": [
      "Setting `pad_token_id` to `eos_token_id`:50256 for open-end generation.\n"
     ]
    },
    {
     "name": "stdout",
     "output_type": "stream",
     "text": [
      "17 keep head from moving while sleeping on bus -> Prevent object from getting into contact with unwanted substances 178 0.7\n",
      "----------------------------------------\n"
     ]
    },
    {
     "name": "stderr",
     "output_type": "stream",
     "text": [
      "Setting `pad_token_id` to `eos_token_id`:50256 for open-end generation.\n"
     ]
    },
    {
     "name": "stdout",
     "output_type": "stream",
     "text": [
      "18 keep head from moving while sleeping on bus -> Prevent object from getting into contact with unwanted substances 190 0.7\n",
      "----------------------------------------\n"
     ]
    },
    {
     "name": "stderr",
     "output_type": "stream",
     "text": [
      "Setting `pad_token_id` to `eos_token_id`:50256 for open-end generation.\n"
     ]
    },
    {
     "name": "stdout",
     "output_type": "stream",
     "text": [
      "19 keep head from moving while sleeping on bus -> Prevent object from getting into contact with unwanted substances 201 0.7\n",
      "----------------------------------------\n"
     ]
    },
    {
     "name": "stderr",
     "output_type": "stream",
     "text": [
      "Setting `pad_token_id` to `eos_token_id`:50256 for open-end generation.\n"
     ]
    },
    {
     "name": "stdout",
     "output_type": "stream",
     "text": [
      "20 keep head from moving while sleeping on bus -> Prepare to go to the toilet with a cup of water 212 0.7\n",
      "----------------------------------------\n"
     ]
    },
    {
     "name": "stderr",
     "output_type": "stream",
     "text": [
      "Setting `pad_token_id` to `eos_token_id`:50256 for open-end generation.\n"
     ]
    },
    {
     "name": "stdout",
     "output_type": "stream",
     "text": [
      "1 keep head from moving while sleeping on bus -> keep head from moving while sleeping on bus 223 0.8\n",
      "----------------------------------------\n"
     ]
    },
    {
     "name": "stderr",
     "output_type": "stream",
     "text": [
      "Setting `pad_token_id` to `eos_token_id`:50256 for open-end generation.\n"
     ]
    },
    {
     "name": "stdout",
     "output_type": "stream",
     "text": [
      "2 keep head from moving while sleeping on bus -> prevent people from getting into contact with objects 234 0.8\n",
      "----------------------------------------\n"
     ]
    },
    {
     "name": "stderr",
     "output_type": "stream",
     "text": [
      "Setting `pad_token_id` to `eos_token_id`:50256 for open-end generation.\n"
     ]
    },
    {
     "name": "stdout",
     "output_type": "stream",
     "text": [
      "3 keep head from moving while sleeping on bus -> Stop object from getting into contact with unwanted substances 244 0.8\n",
      "----------------------------------------\n"
     ]
    },
    {
     "name": "stderr",
     "output_type": "stream",
     "text": [
      "Setting `pad_token_id` to `eos_token_id`:50256 for open-end generation.\n"
     ]
    },
    {
     "name": "stdout",
     "output_type": "stream",
     "text": [
      "4 keep head from moving while sleeping on bus -> keep head from moving while sleeping on bus 255 0.8\n",
      "----------------------------------------\n"
     ]
    },
    {
     "name": "stderr",
     "output_type": "stream",
     "text": [
      "Setting `pad_token_id` to `eos_token_id`:50256 for open-end generation.\n"
     ]
    },
    {
     "name": "stdout",
     "output_type": "stream",
     "text": [
      "5 keep head from moving while sleeping on bus -> Prevent water vapor from penetrating an object 266 0.8\n",
      "----------------------------------------\n"
     ]
    },
    {
     "name": "stderr",
     "output_type": "stream",
     "text": [
      "Setting `pad_token_id` to `eos_token_id`:50256 for open-end generation.\n"
     ]
    },
    {
     "name": "stdout",
     "output_type": "stream",
     "text": [
      "6 keep head from moving while sleeping on bus -> prevent sunburns 277 0.8\n",
      "----------------------------------------\n"
     ]
    },
    {
     "name": "stderr",
     "output_type": "stream",
     "text": [
      "Setting `pad_token_id` to `eos_token_id`:50256 for open-end generation.\n"
     ]
    },
    {
     "name": "stdout",
     "output_type": "stream",
     "text": [
      "7 keep head from moving while sleeping on bus -> Prevent the sun from getting into contact with unwanted substances 288 0.8\n",
      "----------------------------------------\n"
     ]
    },
    {
     "name": "stderr",
     "output_type": "stream",
     "text": [
      "Setting `pad_token_id` to `eos_token_id`:50256 for open-end generation.\n"
     ]
    },
    {
     "name": "stdout",
     "output_type": "stream",
     "text": [
      "8 keep head from moving while sleeping on bus -> Remove water from an active object 299 0.8\n",
      "----------------------------------------\n"
     ]
    },
    {
     "name": "stderr",
     "output_type": "stream",
     "text": [
      "Setting `pad_token_id` to `eos_token_id`:50256 for open-end generation.\n"
     ]
    },
    {
     "name": "stdout",
     "output_type": "stream",
     "text": [
      "9 keep head from moving while sleeping on bus -> avoid excessive movement of head 310 0.8\n",
      "----------------------------------------\n"
     ]
    },
    {
     "name": "stderr",
     "output_type": "stream",
     "text": [
      "Setting `pad_token_id` to `eos_token_id`:50256 for open-end generation.\n"
     ]
    },
    {
     "name": "stdout",
     "output_type": "stream",
     "text": [
      "10 keep head from moving while sleeping on bus -> Save body from being submerged 321 0.8\n",
      "----------------------------------------\n"
     ]
    },
    {
     "name": "stderr",
     "output_type": "stream",
     "text": [
      "Setting `pad_token_id` to `eos_token_id`:50256 for open-end generation.\n"
     ]
    },
    {
     "name": "stdout",
     "output_type": "stream",
     "text": [
      "11 keep head from moving while sleeping on bus -> stop object from getting into contact with surfaces 332 0.8\n",
      "----------------------------------------\n"
     ]
    },
    {
     "name": "stderr",
     "output_type": "stream",
     "text": [
      "Setting `pad_token_id` to `eos_token_id`:50256 for open-end generation.\n"
     ]
    },
    {
     "name": "stdout",
     "output_type": "stream",
     "text": [
      "12 keep head from moving while sleeping on bus -> keep head from moving while sleeping on bus 343 0.8\n",
      "----------------------------------------\n"
     ]
    },
    {
     "name": "stderr",
     "output_type": "stream",
     "text": [
      "Setting `pad_token_id` to `eos_token_id`:50256 for open-end generation.\n"
     ]
    },
    {
     "name": "stdout",
     "output_type": "stream",
     "text": [
      "13 keep head from moving while sleeping on bus -> prevent head from moving while sleeping on bus 353 0.8\n",
      "----------------------------------------\n"
     ]
    },
    {
     "name": "stderr",
     "output_type": "stream",
     "text": [
      "Setting `pad_token_id` to `eos_token_id`:50256 for open-end generation.\n"
     ]
    },
    {
     "name": "stdout",
     "output_type": "stream",
     "text": [
      "14 keep head from moving while sleeping on bus -> stop object from getting into contact with unwanted substances 365 0.8\n",
      "----------------------------------------\n"
     ]
    },
    {
     "name": "stderr",
     "output_type": "stream",
     "text": [
      "Setting `pad_token_id` to `eos_token_id`:50256 for open-end generation.\n"
     ]
    },
    {
     "name": "stdout",
     "output_type": "stream",
     "text": [
      "15 keep head from moving while sleeping on bus -> Protect from water 376 0.8\n",
      "----------------------------------------\n"
     ]
    },
    {
     "name": "stderr",
     "output_type": "stream",
     "text": [
      "Setting `pad_token_id` to `eos_token_id`:50256 for open-end generation.\n"
     ]
    },
    {
     "name": "stdout",
     "output_type": "stream",
     "text": [
      "16 keep head from moving while sleeping on bus -> stop the engine running 387 0.8\n",
      "----------------------------------------\n"
     ]
    },
    {
     "name": "stderr",
     "output_type": "stream",
     "text": [
      "Setting `pad_token_id` to `eos_token_id`:50256 for open-end generation.\n"
     ]
    },
    {
     "name": "stdout",
     "output_type": "stream",
     "text": [
      "17 keep head from moving while sleeping on bus -> Protect from the sun during the winter 398 0.8\n",
      "----------------------------------------\n"
     ]
    },
    {
     "name": "stderr",
     "output_type": "stream",
     "text": [
      "Setting `pad_token_id` to `eos_token_id`:50256 for open-end generation.\n"
     ]
    },
    {
     "name": "stdout",
     "output_type": "stream",
     "text": [
      "18 keep head from moving while sleeping on bus -> prevent blood clotting in stents 409 0.8\n",
      "----------------------------------------\n"
     ]
    },
    {
     "name": "stderr",
     "output_type": "stream",
     "text": [
      "Setting `pad_token_id` to `eos_token_id`:50256 for open-end generation.\n"
     ]
    },
    {
     "name": "stdout",
     "output_type": "stream",
     "text": [
      "19 keep head from moving while sleeping on bus -> keep head from moving while sleeping on bus 420 0.8\n",
      "----------------------------------------\n"
     ]
    },
    {
     "name": "stderr",
     "output_type": "stream",
     "text": [
      "Setting `pad_token_id` to `eos_token_id`:50256 for open-end generation.\n"
     ]
    },
    {
     "name": "stdout",
     "output_type": "stream",
     "text": [
      "20 keep head from moving while sleeping on bus -> prevent contact with objects in a crowd 431 0.8\n",
      "----------------------------------------\n"
     ]
    },
    {
     "name": "stderr",
     "output_type": "stream",
     "text": [
      "Setting `pad_token_id` to `eos_token_id`:50256 for open-end generation.\n"
     ]
    },
    {
     "name": "stdout",
     "output_type": "stream",
     "text": [
      "1 keep head from moving while sleeping on bus -> keep head from moving while sleeping on bus 442 0.9\n",
      "----------------------------------------\n"
     ]
    },
    {
     "name": "stderr",
     "output_type": "stream",
     "text": [
      "Setting `pad_token_id` to `eos_token_id`:50256 for open-end generation.\n"
     ]
    },
    {
     "name": "stdout",
     "output_type": "stream",
     "text": [
      "2 keep head from moving while sleeping on bus -> stop falling object in the middle 454 0.9\n",
      "----------------------------------------\n"
     ]
    },
    {
     "name": "stderr",
     "output_type": "stream",
     "text": [
      "Setting `pad_token_id` to `eos_token_id`:50256 for open-end generation.\n"
     ]
    },
    {
     "name": "stdout",
     "output_type": "stream",
     "text": [
      "3 keep head from moving while sleeping on bus -> keep head from moving while sleeping on bus 465 0.9\n",
      "----------------------------------------\n"
     ]
    },
    {
     "name": "stderr",
     "output_type": "stream",
     "text": [
      "Setting `pad_token_id` to `eos_token_id`:50256 for open-end generation.\n"
     ]
    },
    {
     "name": "stdout",
     "output_type": "stream",
     "text": [
      "4 keep head from moving while sleeping on bus -> prevent baby from getting into contact with unwanted substances 476 0.9\n",
      "----------------------------------------\n"
     ]
    },
    {
     "name": "stderr",
     "output_type": "stream",
     "text": [
      "Setting `pad_token_id` to `eos_token_id`:50256 for open-end generation.\n"
     ]
    },
    {
     "name": "stdout",
     "output_type": "stream",
     "text": [
      "5 keep head from moving while sleeping on bus -> Protect head from becoming caught in a bed 487 0.9\n",
      "----------------------------------------\n"
     ]
    },
    {
     "name": "stderr",
     "output_type": "stream",
     "text": [
      "Setting `pad_token_id` to `eos_token_id`:50256 for open-end generation.\n"
     ]
    },
    {
     "name": "stdout",
     "output_type": "stream",
     "text": [
      "6 keep head from moving while sleeping on bus -> protect object from causing a vibration 498 0.9\n",
      "----------------------------------------\n"
     ]
    },
    {
     "name": "stderr",
     "output_type": "stream",
     "text": [
      "Setting `pad_token_id` to `eos_token_id`:50256 for open-end generation.\n"
     ]
    },
    {
     "name": "stdout",
     "output_type": "stream",
     "text": [
      "7 keep head from moving while sleeping on bus -> prevent dead birds from moving 510 0.9\n",
      "----------------------------------------\n"
     ]
    },
    {
     "name": "stderr",
     "output_type": "stream",
     "text": [
      "Setting `pad_token_id` to `eos_token_id`:50256 for open-end generation.\n"
     ]
    },
    {
     "name": "stdout",
     "output_type": "stream",
     "text": [
      "8 keep head from moving while sleeping on bus -> prevent human being from falling asleep 521 0.9\n",
      "----------------------------------------\n"
     ]
    },
    {
     "name": "stderr",
     "output_type": "stream",
     "text": [
      "Setting `pad_token_id` to `eos_token_id`:50256 for open-end generation.\n"
     ]
    },
    {
     "name": "stdout",
     "output_type": "stream",
     "text": [
      "9 keep head from moving while sleeping on bus -> prevent water from getting into contact with the object 532 0.9\n",
      "----------------------------------------\n"
     ]
    },
    {
     "name": "stderr",
     "output_type": "stream",
     "text": [
      "Setting `pad_token_id` to `eos_token_id`:50256 for open-end generation.\n"
     ]
    },
    {
     "name": "stdout",
     "output_type": "stream",
     "text": [
      "10 keep head from moving while sleeping on bus -> keep head from moving while sleeping during sleep 543 0.9\n",
      "----------------------------------------\n"
     ]
    },
    {
     "name": "stderr",
     "output_type": "stream",
     "text": [
      "Setting `pad_token_id` to `eos_token_id`:50256 for open-end generation.\n"
     ]
    },
    {
     "name": "stdout",
     "output_type": "stream",
     "text": [
      "11 keep head from moving while sleeping on bus -> prevent head from moving while sleeping on bus 554 0.9\n",
      "----------------------------------------\n"
     ]
    },
    {
     "name": "stderr",
     "output_type": "stream",
     "text": [
      "Setting `pad_token_id` to `eos_token_id`:50256 for open-end generation.\n"
     ]
    },
    {
     "name": "stdout",
     "output_type": "stream",
     "text": [
      "12 keep head from moving while sleeping on bus -> keep head from moving while sleeping on bus 565 0.9\n",
      "----------------------------------------\n"
     ]
    },
    {
     "name": "stderr",
     "output_type": "stream",
     "text": [
      "Setting `pad_token_id` to `eos_token_id`:50256 for open-end generation.\n"
     ]
    },
    {
     "name": "stdout",
     "output_type": "stream",
     "text": [
      "13 keep head from moving while sleeping on bus -> prevent water from flowing and cause a drop in temperature 576 0.9\n",
      "----------------------------------------\n"
     ]
    },
    {
     "name": "stderr",
     "output_type": "stream",
     "text": [
      "Setting `pad_token_id` to `eos_token_id`:50256 for open-end generation.\n"
     ]
    },
    {
     "name": "stdout",
     "output_type": "stream",
     "text": [
      "14 keep head from moving while sleeping on bus -> prevent object from getting into contact with water 587 0.9\n",
      "----------------------------------------\n"
     ]
    },
    {
     "name": "stderr",
     "output_type": "stream",
     "text": [
      "Setting `pad_token_id` to `eos_token_id`:50256 for open-end generation.\n"
     ]
    },
    {
     "name": "stdout",
     "output_type": "stream",
     "text": [
      "15 keep head from moving while sleeping on bus -> increase the pressure of the head for a sleeping person 599 0.9\n",
      "----------------------------------------\n"
     ]
    },
    {
     "name": "stderr",
     "output_type": "stream",
     "text": [
      "Setting `pad_token_id` to `eos_token_id`:50256 for open-end generation.\n"
     ]
    },
    {
     "name": "stdout",
     "output_type": "stream",
     "text": [
      "16 keep head from moving while sleeping on bus -> Stop body from moving while sleeping 611 0.9\n",
      "----------------------------------------\n"
     ]
    },
    {
     "name": "stderr",
     "output_type": "stream",
     "text": [
      "Setting `pad_token_id` to `eos_token_id`:50256 for open-end generation.\n"
     ]
    },
    {
     "name": "stdout",
     "output_type": "stream",
     "text": [
      "17 keep head from moving while sleeping on bus -> stop ball from getting into contact with unwanted substances 622 0.9\n",
      "----------------------------------------\n"
     ]
    },
    {
     "name": "stderr",
     "output_type": "stream",
     "text": [
      "Setting `pad_token_id` to `eos_token_id`:50256 for open-end generation.\n"
     ]
    },
    {
     "name": "stdout",
     "output_type": "stream",
     "text": [
      "18 keep head from moving while sleeping on bus -> keep head from moving while sleeping on bus 633 0.9\n",
      "----------------------------------------\n"
     ]
    },
    {
     "name": "stderr",
     "output_type": "stream",
     "text": [
      "Setting `pad_token_id` to `eos_token_id`:50256 for open-end generation.\n"
     ]
    },
    {
     "name": "stdout",
     "output_type": "stream",
     "text": [
      "19 keep head from moving while sleeping on bus -> Protect object from the environment 644 0.9\n",
      "----------------------------------------\n",
      "20 keep head from moving while sleeping on bus -> Protect object from penetrating foreign bodies 655 0.9\n",
      "----------------------------------------\n",
      "Total time taken is 667\n"
     ]
    }
   ],
   "source": [
    "df_125m = generate_output(generator_gpt_neo_125m,20,prompt,20,0.7,'gpt_neo_125m',1)"
   ]
  },
  {
   "cell_type": "code",
   "execution_count": 17,
   "metadata": {},
   "outputs": [
    {
     "data": {
      "text/html": [
       "<div>\n",
       "<style scoped>\n",
       "    .dataframe tbody tr th:only-of-type {\n",
       "        vertical-align: middle;\n",
       "    }\n",
       "\n",
       "    .dataframe tbody tr th {\n",
       "        vertical-align: top;\n",
       "    }\n",
       "\n",
       "    .dataframe thead th {\n",
       "        text-align: right;\n",
       "    }\n",
       "</style>\n",
       "<table border=\"1\" class=\"dataframe\">\n",
       "  <thead>\n",
       "    <tr style=\"text-align: right;\">\n",
       "      <th></th>\n",
       "      <th>id</th>\n",
       "      <th>model_name</th>\n",
       "      <th>iteration</th>\n",
       "      <th>temperature</th>\n",
       "      <th>input_length</th>\n",
       "      <th>problem_statement</th>\n",
       "      <th>abstract_reformulation</th>\n",
       "      <th>cumulative_time_in_seconds</th>\n",
       "    </tr>\n",
       "  </thead>\n",
       "  <tbody>\n",
       "    <tr>\n",
       "      <th>0</th>\n",
       "      <td>AolYsvH</td>\n",
       "      <td>gpt_neo_125m</td>\n",
       "      <td>1</td>\n",
       "      <td>0.7</td>\n",
       "      <td>20</td>\n",
       "      <td>keep head from moving while sleeping on bus</td>\n",
       "      <td>Increase the density of a particle in a space</td>\n",
       "      <td>0</td>\n",
       "    </tr>\n",
       "    <tr>\n",
       "      <th>2</th>\n",
       "      <td>AolYsvH</td>\n",
       "      <td>gpt_neo_125m</td>\n",
       "      <td>2</td>\n",
       "      <td>0.7</td>\n",
       "      <td>20</td>\n",
       "      <td>keep head from moving while sleeping on bus</td>\n",
       "      <td>Prevent falling by using a large head</td>\n",
       "      <td>13</td>\n",
       "    </tr>\n",
       "    <tr>\n",
       "      <th>5</th>\n",
       "      <td>AolYsvH</td>\n",
       "      <td>gpt_neo_125m</td>\n",
       "      <td>3</td>\n",
       "      <td>0.7</td>\n",
       "      <td>20</td>\n",
       "      <td>keep head from moving while sleeping on bus</td>\n",
       "      <td>Prevent object from getting into contact with ...</td>\n",
       "      <td>24</td>\n",
       "    </tr>\n",
       "    <tr>\n",
       "      <th>9</th>\n",
       "      <td>AolYsvH</td>\n",
       "      <td>gpt_neo_125m</td>\n",
       "      <td>4</td>\n",
       "      <td>0.7</td>\n",
       "      <td>20</td>\n",
       "      <td>keep head from moving while sleeping on bus</td>\n",
       "      <td>Stop object from getting into contact with unw...</td>\n",
       "      <td>34</td>\n",
       "    </tr>\n",
       "    <tr>\n",
       "      <th>14</th>\n",
       "      <td>AolYsvH</td>\n",
       "      <td>gpt_neo_125m</td>\n",
       "      <td>5</td>\n",
       "      <td>0.7</td>\n",
       "      <td>20</td>\n",
       "      <td>keep head from moving while sleeping on bus</td>\n",
       "      <td>Remove head from body or head from body</td>\n",
       "      <td>45</td>\n",
       "    </tr>\n",
       "    <tr>\n",
       "      <th>20</th>\n",
       "      <td>AolYsvH</td>\n",
       "      <td>gpt_neo_125m</td>\n",
       "      <td>6</td>\n",
       "      <td>0.7</td>\n",
       "      <td>20</td>\n",
       "      <td>keep head from moving while sleeping on bus</td>\n",
       "      <td>Prevent object from getting into contact with ...</td>\n",
       "      <td>56</td>\n",
       "    </tr>\n",
       "    <tr>\n",
       "      <th>27</th>\n",
       "      <td>AolYsvH</td>\n",
       "      <td>gpt_neo_125m</td>\n",
       "      <td>7</td>\n",
       "      <td>0.7</td>\n",
       "      <td>20</td>\n",
       "      <td>keep head from moving while sleeping on bus</td>\n",
       "      <td>stop the user from getting into contact with u...</td>\n",
       "      <td>67</td>\n",
       "    </tr>\n",
       "    <tr>\n",
       "      <th>35</th>\n",
       "      <td>AolYsvH</td>\n",
       "      <td>gpt_neo_125m</td>\n",
       "      <td>8</td>\n",
       "      <td>0.7</td>\n",
       "      <td>20</td>\n",
       "      <td>keep head from moving while sleeping on bus</td>\n",
       "      <td>prevent head from moving until it stops</td>\n",
       "      <td>77</td>\n",
       "    </tr>\n",
       "    <tr>\n",
       "      <th>44</th>\n",
       "      <td>AolYsvH</td>\n",
       "      <td>gpt_neo_125m</td>\n",
       "      <td>9</td>\n",
       "      <td>0.7</td>\n",
       "      <td>20</td>\n",
       "      <td>keep head from moving while sleeping on bus</td>\n",
       "      <td>Protect the head from falling down</td>\n",
       "      <td>88</td>\n",
       "    </tr>\n",
       "    <tr>\n",
       "      <th>54</th>\n",
       "      <td>AolYsvH</td>\n",
       "      <td>gpt_neo_125m</td>\n",
       "      <td>10</td>\n",
       "      <td>0.7</td>\n",
       "      <td>20</td>\n",
       "      <td>keep head from moving while sleeping on bus</td>\n",
       "      <td>Keep head from getting wet</td>\n",
       "      <td>99</td>\n",
       "    </tr>\n",
       "    <tr>\n",
       "      <th>65</th>\n",
       "      <td>AolYsvH</td>\n",
       "      <td>gpt_neo_125m</td>\n",
       "      <td>11</td>\n",
       "      <td>0.7</td>\n",
       "      <td>20</td>\n",
       "      <td>keep head from moving while sleeping on bus</td>\n",
       "      <td>prevent objects from falling asleep on the bus</td>\n",
       "      <td>111</td>\n",
       "    </tr>\n",
       "    <tr>\n",
       "      <th>77</th>\n",
       "      <td>AolYsvH</td>\n",
       "      <td>gpt_neo_125m</td>\n",
       "      <td>12</td>\n",
       "      <td>0.7</td>\n",
       "      <td>20</td>\n",
       "      <td>keep head from moving while sleeping on bus</td>\n",
       "      <td>keep head from moving from bus</td>\n",
       "      <td>123</td>\n",
       "    </tr>\n",
       "    <tr>\n",
       "      <th>90</th>\n",
       "      <td>AolYsvH</td>\n",
       "      <td>gpt_neo_125m</td>\n",
       "      <td>13</td>\n",
       "      <td>0.7</td>\n",
       "      <td>20</td>\n",
       "      <td>keep head from moving while sleeping on bus</td>\n",
       "      <td>keep head from moving while sleeping on bus</td>\n",
       "      <td>134</td>\n",
       "    </tr>\n",
       "    <tr>\n",
       "      <th>104</th>\n",
       "      <td>AolYsvH</td>\n",
       "      <td>gpt_neo_125m</td>\n",
       "      <td>14</td>\n",
       "      <td>0.7</td>\n",
       "      <td>20</td>\n",
       "      <td>keep head from moving while sleeping on bus</td>\n",
       "      <td>prevent object from getting into contact with ...</td>\n",
       "      <td>145</td>\n",
       "    </tr>\n",
       "    <tr>\n",
       "      <th>119</th>\n",
       "      <td>AolYsvH</td>\n",
       "      <td>gpt_neo_125m</td>\n",
       "      <td>15</td>\n",
       "      <td>0.7</td>\n",
       "      <td>20</td>\n",
       "      <td>keep head from moving while sleeping on bus</td>\n",
       "      <td>keep head from moving while sleeping on bus</td>\n",
       "      <td>156</td>\n",
       "    </tr>\n",
       "    <tr>\n",
       "      <th>135</th>\n",
       "      <td>AolYsvH</td>\n",
       "      <td>gpt_neo_125m</td>\n",
       "      <td>16</td>\n",
       "      <td>0.7</td>\n",
       "      <td>20</td>\n",
       "      <td>keep head from moving while sleeping on bus</td>\n",
       "      <td>Prevent object from getting into contact with ...</td>\n",
       "      <td>167</td>\n",
       "    </tr>\n",
       "    <tr>\n",
       "      <th>152</th>\n",
       "      <td>AolYsvH</td>\n",
       "      <td>gpt_neo_125m</td>\n",
       "      <td>17</td>\n",
       "      <td>0.7</td>\n",
       "      <td>20</td>\n",
       "      <td>keep head from moving while sleeping on bus</td>\n",
       "      <td>Prevent object from getting into contact with ...</td>\n",
       "      <td>178</td>\n",
       "    </tr>\n",
       "    <tr>\n",
       "      <th>170</th>\n",
       "      <td>AolYsvH</td>\n",
       "      <td>gpt_neo_125m</td>\n",
       "      <td>18</td>\n",
       "      <td>0.7</td>\n",
       "      <td>20</td>\n",
       "      <td>keep head from moving while sleeping on bus</td>\n",
       "      <td>Prevent object from getting into contact with ...</td>\n",
       "      <td>190</td>\n",
       "    </tr>\n",
       "    <tr>\n",
       "      <th>189</th>\n",
       "      <td>AolYsvH</td>\n",
       "      <td>gpt_neo_125m</td>\n",
       "      <td>19</td>\n",
       "      <td>0.7</td>\n",
       "      <td>20</td>\n",
       "      <td>keep head from moving while sleeping on bus</td>\n",
       "      <td>Prevent object from getting into contact with ...</td>\n",
       "      <td>201</td>\n",
       "    </tr>\n",
       "    <tr>\n",
       "      <th>209</th>\n",
       "      <td>AolYsvH</td>\n",
       "      <td>gpt_neo_125m</td>\n",
       "      <td>20</td>\n",
       "      <td>0.7</td>\n",
       "      <td>20</td>\n",
       "      <td>keep head from moving while sleeping on bus</td>\n",
       "      <td>Prepare to go to the toilet with a cup of water</td>\n",
       "      <td>212</td>\n",
       "    </tr>\n",
       "    <tr>\n",
       "      <th>230</th>\n",
       "      <td>AolYsvH</td>\n",
       "      <td>gpt_neo_125m</td>\n",
       "      <td>1</td>\n",
       "      <td>0.8</td>\n",
       "      <td>20</td>\n",
       "      <td>keep head from moving while sleeping on bus</td>\n",
       "      <td>keep head from moving while sleeping on bus</td>\n",
       "      <td>223</td>\n",
       "    </tr>\n",
       "    <tr>\n",
       "      <th>252</th>\n",
       "      <td>AolYsvH</td>\n",
       "      <td>gpt_neo_125m</td>\n",
       "      <td>2</td>\n",
       "      <td>0.8</td>\n",
       "      <td>20</td>\n",
       "      <td>keep head from moving while sleeping on bus</td>\n",
       "      <td>prevent people from getting into contact with ...</td>\n",
       "      <td>234</td>\n",
       "    </tr>\n",
       "    <tr>\n",
       "      <th>275</th>\n",
       "      <td>AolYsvH</td>\n",
       "      <td>gpt_neo_125m</td>\n",
       "      <td>3</td>\n",
       "      <td>0.8</td>\n",
       "      <td>20</td>\n",
       "      <td>keep head from moving while sleeping on bus</td>\n",
       "      <td>Stop object from getting into contact with unw...</td>\n",
       "      <td>244</td>\n",
       "    </tr>\n",
       "    <tr>\n",
       "      <th>299</th>\n",
       "      <td>AolYsvH</td>\n",
       "      <td>gpt_neo_125m</td>\n",
       "      <td>4</td>\n",
       "      <td>0.8</td>\n",
       "      <td>20</td>\n",
       "      <td>keep head from moving while sleeping on bus</td>\n",
       "      <td>keep head from moving while sleeping on bus</td>\n",
       "      <td>255</td>\n",
       "    </tr>\n",
       "    <tr>\n",
       "      <th>324</th>\n",
       "      <td>AolYsvH</td>\n",
       "      <td>gpt_neo_125m</td>\n",
       "      <td>5</td>\n",
       "      <td>0.8</td>\n",
       "      <td>20</td>\n",
       "      <td>keep head from moving while sleeping on bus</td>\n",
       "      <td>Prevent water vapor from penetrating an object</td>\n",
       "      <td>266</td>\n",
       "    </tr>\n",
       "    <tr>\n",
       "      <th>350</th>\n",
       "      <td>AolYsvH</td>\n",
       "      <td>gpt_neo_125m</td>\n",
       "      <td>6</td>\n",
       "      <td>0.8</td>\n",
       "      <td>20</td>\n",
       "      <td>keep head from moving while sleeping on bus</td>\n",
       "      <td>prevent sunburns</td>\n",
       "      <td>277</td>\n",
       "    </tr>\n",
       "    <tr>\n",
       "      <th>377</th>\n",
       "      <td>AolYsvH</td>\n",
       "      <td>gpt_neo_125m</td>\n",
       "      <td>7</td>\n",
       "      <td>0.8</td>\n",
       "      <td>20</td>\n",
       "      <td>keep head from moving while sleeping on bus</td>\n",
       "      <td>Prevent the sun from getting into contact with...</td>\n",
       "      <td>288</td>\n",
       "    </tr>\n",
       "    <tr>\n",
       "      <th>405</th>\n",
       "      <td>AolYsvH</td>\n",
       "      <td>gpt_neo_125m</td>\n",
       "      <td>8</td>\n",
       "      <td>0.8</td>\n",
       "      <td>20</td>\n",
       "      <td>keep head from moving while sleeping on bus</td>\n",
       "      <td>Remove water from an active object</td>\n",
       "      <td>299</td>\n",
       "    </tr>\n",
       "    <tr>\n",
       "      <th>434</th>\n",
       "      <td>AolYsvH</td>\n",
       "      <td>gpt_neo_125m</td>\n",
       "      <td>9</td>\n",
       "      <td>0.8</td>\n",
       "      <td>20</td>\n",
       "      <td>keep head from moving while sleeping on bus</td>\n",
       "      <td>avoid excessive movement of head</td>\n",
       "      <td>310</td>\n",
       "    </tr>\n",
       "    <tr>\n",
       "      <th>464</th>\n",
       "      <td>AolYsvH</td>\n",
       "      <td>gpt_neo_125m</td>\n",
       "      <td>10</td>\n",
       "      <td>0.8</td>\n",
       "      <td>20</td>\n",
       "      <td>keep head from moving while sleeping on bus</td>\n",
       "      <td>Save body from being submerged</td>\n",
       "      <td>321</td>\n",
       "    </tr>\n",
       "    <tr>\n",
       "      <th>495</th>\n",
       "      <td>AolYsvH</td>\n",
       "      <td>gpt_neo_125m</td>\n",
       "      <td>11</td>\n",
       "      <td>0.8</td>\n",
       "      <td>20</td>\n",
       "      <td>keep head from moving while sleeping on bus</td>\n",
       "      <td>stop object from getting into contact with sur...</td>\n",
       "      <td>332</td>\n",
       "    </tr>\n",
       "    <tr>\n",
       "      <th>527</th>\n",
       "      <td>AolYsvH</td>\n",
       "      <td>gpt_neo_125m</td>\n",
       "      <td>12</td>\n",
       "      <td>0.8</td>\n",
       "      <td>20</td>\n",
       "      <td>keep head from moving while sleeping on bus</td>\n",
       "      <td>keep head from moving while sleeping on bus</td>\n",
       "      <td>343</td>\n",
       "    </tr>\n",
       "    <tr>\n",
       "      <th>560</th>\n",
       "      <td>AolYsvH</td>\n",
       "      <td>gpt_neo_125m</td>\n",
       "      <td>13</td>\n",
       "      <td>0.8</td>\n",
       "      <td>20</td>\n",
       "      <td>keep head from moving while sleeping on bus</td>\n",
       "      <td>prevent head from moving while sleeping on bus</td>\n",
       "      <td>353</td>\n",
       "    </tr>\n",
       "    <tr>\n",
       "      <th>594</th>\n",
       "      <td>AolYsvH</td>\n",
       "      <td>gpt_neo_125m</td>\n",
       "      <td>14</td>\n",
       "      <td>0.8</td>\n",
       "      <td>20</td>\n",
       "      <td>keep head from moving while sleeping on bus</td>\n",
       "      <td>stop object from getting into contact with unw...</td>\n",
       "      <td>365</td>\n",
       "    </tr>\n",
       "    <tr>\n",
       "      <th>629</th>\n",
       "      <td>AolYsvH</td>\n",
       "      <td>gpt_neo_125m</td>\n",
       "      <td>15</td>\n",
       "      <td>0.8</td>\n",
       "      <td>20</td>\n",
       "      <td>keep head from moving while sleeping on bus</td>\n",
       "      <td>Protect from water</td>\n",
       "      <td>376</td>\n",
       "    </tr>\n",
       "    <tr>\n",
       "      <th>665</th>\n",
       "      <td>AolYsvH</td>\n",
       "      <td>gpt_neo_125m</td>\n",
       "      <td>16</td>\n",
       "      <td>0.8</td>\n",
       "      <td>20</td>\n",
       "      <td>keep head from moving while sleeping on bus</td>\n",
       "      <td>stop the engine running</td>\n",
       "      <td>387</td>\n",
       "    </tr>\n",
       "    <tr>\n",
       "      <th>702</th>\n",
       "      <td>AolYsvH</td>\n",
       "      <td>gpt_neo_125m</td>\n",
       "      <td>17</td>\n",
       "      <td>0.8</td>\n",
       "      <td>20</td>\n",
       "      <td>keep head from moving while sleeping on bus</td>\n",
       "      <td>Protect from the sun during the winter</td>\n",
       "      <td>398</td>\n",
       "    </tr>\n",
       "    <tr>\n",
       "      <th>740</th>\n",
       "      <td>AolYsvH</td>\n",
       "      <td>gpt_neo_125m</td>\n",
       "      <td>18</td>\n",
       "      <td>0.8</td>\n",
       "      <td>20</td>\n",
       "      <td>keep head from moving while sleeping on bus</td>\n",
       "      <td>prevent blood clotting in stents</td>\n",
       "      <td>409</td>\n",
       "    </tr>\n",
       "    <tr>\n",
       "      <th>779</th>\n",
       "      <td>AolYsvH</td>\n",
       "      <td>gpt_neo_125m</td>\n",
       "      <td>19</td>\n",
       "      <td>0.8</td>\n",
       "      <td>20</td>\n",
       "      <td>keep head from moving while sleeping on bus</td>\n",
       "      <td>keep head from moving while sleeping on bus</td>\n",
       "      <td>420</td>\n",
       "    </tr>\n",
       "    <tr>\n",
       "      <th>819</th>\n",
       "      <td>AolYsvH</td>\n",
       "      <td>gpt_neo_125m</td>\n",
       "      <td>20</td>\n",
       "      <td>0.8</td>\n",
       "      <td>20</td>\n",
       "      <td>keep head from moving while sleeping on bus</td>\n",
       "      <td>prevent contact with objects in a crowd</td>\n",
       "      <td>431</td>\n",
       "    </tr>\n",
       "    <tr>\n",
       "      <th>860</th>\n",
       "      <td>AolYsvH</td>\n",
       "      <td>gpt_neo_125m</td>\n",
       "      <td>1</td>\n",
       "      <td>0.9</td>\n",
       "      <td>20</td>\n",
       "      <td>keep head from moving while sleeping on bus</td>\n",
       "      <td>keep head from moving while sleeping on bus</td>\n",
       "      <td>442</td>\n",
       "    </tr>\n",
       "    <tr>\n",
       "      <th>902</th>\n",
       "      <td>AolYsvH</td>\n",
       "      <td>gpt_neo_125m</td>\n",
       "      <td>2</td>\n",
       "      <td>0.9</td>\n",
       "      <td>20</td>\n",
       "      <td>keep head from moving while sleeping on bus</td>\n",
       "      <td>stop falling object in the middle</td>\n",
       "      <td>454</td>\n",
       "    </tr>\n",
       "    <tr>\n",
       "      <th>945</th>\n",
       "      <td>AolYsvH</td>\n",
       "      <td>gpt_neo_125m</td>\n",
       "      <td>3</td>\n",
       "      <td>0.9</td>\n",
       "      <td>20</td>\n",
       "      <td>keep head from moving while sleeping on bus</td>\n",
       "      <td>keep head from moving while sleeping on bus</td>\n",
       "      <td>465</td>\n",
       "    </tr>\n",
       "    <tr>\n",
       "      <th>989</th>\n",
       "      <td>AolYsvH</td>\n",
       "      <td>gpt_neo_125m</td>\n",
       "      <td>4</td>\n",
       "      <td>0.9</td>\n",
       "      <td>20</td>\n",
       "      <td>keep head from moving while sleeping on bus</td>\n",
       "      <td>prevent baby from getting into contact with un...</td>\n",
       "      <td>476</td>\n",
       "    </tr>\n",
       "    <tr>\n",
       "      <th>1034</th>\n",
       "      <td>AolYsvH</td>\n",
       "      <td>gpt_neo_125m</td>\n",
       "      <td>5</td>\n",
       "      <td>0.9</td>\n",
       "      <td>20</td>\n",
       "      <td>keep head from moving while sleeping on bus</td>\n",
       "      <td>Protect head from becoming caught in a bed</td>\n",
       "      <td>487</td>\n",
       "    </tr>\n",
       "    <tr>\n",
       "      <th>1080</th>\n",
       "      <td>AolYsvH</td>\n",
       "      <td>gpt_neo_125m</td>\n",
       "      <td>6</td>\n",
       "      <td>0.9</td>\n",
       "      <td>20</td>\n",
       "      <td>keep head from moving while sleeping on bus</td>\n",
       "      <td>protect object from causing a vibration</td>\n",
       "      <td>498</td>\n",
       "    </tr>\n",
       "    <tr>\n",
       "      <th>1127</th>\n",
       "      <td>AolYsvH</td>\n",
       "      <td>gpt_neo_125m</td>\n",
       "      <td>7</td>\n",
       "      <td>0.9</td>\n",
       "      <td>20</td>\n",
       "      <td>keep head from moving while sleeping on bus</td>\n",
       "      <td>prevent dead birds from moving</td>\n",
       "      <td>510</td>\n",
       "    </tr>\n",
       "    <tr>\n",
       "      <th>1175</th>\n",
       "      <td>AolYsvH</td>\n",
       "      <td>gpt_neo_125m</td>\n",
       "      <td>8</td>\n",
       "      <td>0.9</td>\n",
       "      <td>20</td>\n",
       "      <td>keep head from moving while sleeping on bus</td>\n",
       "      <td>prevent human being from falling asleep</td>\n",
       "      <td>521</td>\n",
       "    </tr>\n",
       "    <tr>\n",
       "      <th>1224</th>\n",
       "      <td>AolYsvH</td>\n",
       "      <td>gpt_neo_125m</td>\n",
       "      <td>9</td>\n",
       "      <td>0.9</td>\n",
       "      <td>20</td>\n",
       "      <td>keep head from moving while sleeping on bus</td>\n",
       "      <td>prevent water from getting into contact with t...</td>\n",
       "      <td>532</td>\n",
       "    </tr>\n",
       "    <tr>\n",
       "      <th>1274</th>\n",
       "      <td>AolYsvH</td>\n",
       "      <td>gpt_neo_125m</td>\n",
       "      <td>10</td>\n",
       "      <td>0.9</td>\n",
       "      <td>20</td>\n",
       "      <td>keep head from moving while sleeping on bus</td>\n",
       "      <td>keep head from moving while sleeping during sleep</td>\n",
       "      <td>543</td>\n",
       "    </tr>\n",
       "    <tr>\n",
       "      <th>1325</th>\n",
       "      <td>AolYsvH</td>\n",
       "      <td>gpt_neo_125m</td>\n",
       "      <td>11</td>\n",
       "      <td>0.9</td>\n",
       "      <td>20</td>\n",
       "      <td>keep head from moving while sleeping on bus</td>\n",
       "      <td>prevent head from moving while sleeping on bus</td>\n",
       "      <td>554</td>\n",
       "    </tr>\n",
       "    <tr>\n",
       "      <th>1377</th>\n",
       "      <td>AolYsvH</td>\n",
       "      <td>gpt_neo_125m</td>\n",
       "      <td>12</td>\n",
       "      <td>0.9</td>\n",
       "      <td>20</td>\n",
       "      <td>keep head from moving while sleeping on bus</td>\n",
       "      <td>keep head from moving while sleeping on bus</td>\n",
       "      <td>565</td>\n",
       "    </tr>\n",
       "    <tr>\n",
       "      <th>1430</th>\n",
       "      <td>AolYsvH</td>\n",
       "      <td>gpt_neo_125m</td>\n",
       "      <td>13</td>\n",
       "      <td>0.9</td>\n",
       "      <td>20</td>\n",
       "      <td>keep head from moving while sleeping on bus</td>\n",
       "      <td>prevent water from flowing and cause a drop in...</td>\n",
       "      <td>576</td>\n",
       "    </tr>\n",
       "    <tr>\n",
       "      <th>1484</th>\n",
       "      <td>AolYsvH</td>\n",
       "      <td>gpt_neo_125m</td>\n",
       "      <td>14</td>\n",
       "      <td>0.9</td>\n",
       "      <td>20</td>\n",
       "      <td>keep head from moving while sleeping on bus</td>\n",
       "      <td>prevent object from getting into contact with ...</td>\n",
       "      <td>587</td>\n",
       "    </tr>\n",
       "    <tr>\n",
       "      <th>1539</th>\n",
       "      <td>AolYsvH</td>\n",
       "      <td>gpt_neo_125m</td>\n",
       "      <td>15</td>\n",
       "      <td>0.9</td>\n",
       "      <td>20</td>\n",
       "      <td>keep head from moving while sleeping on bus</td>\n",
       "      <td>increase the pressure of the head for a sleepi...</td>\n",
       "      <td>599</td>\n",
       "    </tr>\n",
       "    <tr>\n",
       "      <th>1595</th>\n",
       "      <td>AolYsvH</td>\n",
       "      <td>gpt_neo_125m</td>\n",
       "      <td>16</td>\n",
       "      <td>0.9</td>\n",
       "      <td>20</td>\n",
       "      <td>keep head from moving while sleeping on bus</td>\n",
       "      <td>Stop body from moving while sleeping</td>\n",
       "      <td>611</td>\n",
       "    </tr>\n",
       "    <tr>\n",
       "      <th>1652</th>\n",
       "      <td>AolYsvH</td>\n",
       "      <td>gpt_neo_125m</td>\n",
       "      <td>17</td>\n",
       "      <td>0.9</td>\n",
       "      <td>20</td>\n",
       "      <td>keep head from moving while sleeping on bus</td>\n",
       "      <td>stop ball from getting into contact with unwan...</td>\n",
       "      <td>622</td>\n",
       "    </tr>\n",
       "    <tr>\n",
       "      <th>1710</th>\n",
       "      <td>AolYsvH</td>\n",
       "      <td>gpt_neo_125m</td>\n",
       "      <td>18</td>\n",
       "      <td>0.9</td>\n",
       "      <td>20</td>\n",
       "      <td>keep head from moving while sleeping on bus</td>\n",
       "      <td>keep head from moving while sleeping on bus</td>\n",
       "      <td>633</td>\n",
       "    </tr>\n",
       "    <tr>\n",
       "      <th>1769</th>\n",
       "      <td>AolYsvH</td>\n",
       "      <td>gpt_neo_125m</td>\n",
       "      <td>19</td>\n",
       "      <td>0.9</td>\n",
       "      <td>20</td>\n",
       "      <td>keep head from moving while sleeping on bus</td>\n",
       "      <td>Protect object from the environment</td>\n",
       "      <td>644</td>\n",
       "    </tr>\n",
       "    <tr>\n",
       "      <th>1829</th>\n",
       "      <td>AolYsvH</td>\n",
       "      <td>gpt_neo_125m</td>\n",
       "      <td>20</td>\n",
       "      <td>0.9</td>\n",
       "      <td>20</td>\n",
       "      <td>keep head from moving while sleeping on bus</td>\n",
       "      <td>Protect object from penetrating foreign bodies</td>\n",
       "      <td>655</td>\n",
       "    </tr>\n",
       "  </tbody>\n",
       "</table>\n",
       "</div>"
      ],
      "text/plain": [
       "           id    model_name iteration  temperature input_length  \\\n",
       "0     AolYsvH  gpt_neo_125m         1          0.7           20   \n",
       "2     AolYsvH  gpt_neo_125m         2          0.7           20   \n",
       "5     AolYsvH  gpt_neo_125m         3          0.7           20   \n",
       "9     AolYsvH  gpt_neo_125m         4          0.7           20   \n",
       "14    AolYsvH  gpt_neo_125m         5          0.7           20   \n",
       "20    AolYsvH  gpt_neo_125m         6          0.7           20   \n",
       "27    AolYsvH  gpt_neo_125m         7          0.7           20   \n",
       "35    AolYsvH  gpt_neo_125m         8          0.7           20   \n",
       "44    AolYsvH  gpt_neo_125m         9          0.7           20   \n",
       "54    AolYsvH  gpt_neo_125m        10          0.7           20   \n",
       "65    AolYsvH  gpt_neo_125m        11          0.7           20   \n",
       "77    AolYsvH  gpt_neo_125m        12          0.7           20   \n",
       "90    AolYsvH  gpt_neo_125m        13          0.7           20   \n",
       "104   AolYsvH  gpt_neo_125m        14          0.7           20   \n",
       "119   AolYsvH  gpt_neo_125m        15          0.7           20   \n",
       "135   AolYsvH  gpt_neo_125m        16          0.7           20   \n",
       "152   AolYsvH  gpt_neo_125m        17          0.7           20   \n",
       "170   AolYsvH  gpt_neo_125m        18          0.7           20   \n",
       "189   AolYsvH  gpt_neo_125m        19          0.7           20   \n",
       "209   AolYsvH  gpt_neo_125m        20          0.7           20   \n",
       "230   AolYsvH  gpt_neo_125m         1          0.8           20   \n",
       "252   AolYsvH  gpt_neo_125m         2          0.8           20   \n",
       "275   AolYsvH  gpt_neo_125m         3          0.8           20   \n",
       "299   AolYsvH  gpt_neo_125m         4          0.8           20   \n",
       "324   AolYsvH  gpt_neo_125m         5          0.8           20   \n",
       "350   AolYsvH  gpt_neo_125m         6          0.8           20   \n",
       "377   AolYsvH  gpt_neo_125m         7          0.8           20   \n",
       "405   AolYsvH  gpt_neo_125m         8          0.8           20   \n",
       "434   AolYsvH  gpt_neo_125m         9          0.8           20   \n",
       "464   AolYsvH  gpt_neo_125m        10          0.8           20   \n",
       "495   AolYsvH  gpt_neo_125m        11          0.8           20   \n",
       "527   AolYsvH  gpt_neo_125m        12          0.8           20   \n",
       "560   AolYsvH  gpt_neo_125m        13          0.8           20   \n",
       "594   AolYsvH  gpt_neo_125m        14          0.8           20   \n",
       "629   AolYsvH  gpt_neo_125m        15          0.8           20   \n",
       "665   AolYsvH  gpt_neo_125m        16          0.8           20   \n",
       "702   AolYsvH  gpt_neo_125m        17          0.8           20   \n",
       "740   AolYsvH  gpt_neo_125m        18          0.8           20   \n",
       "779   AolYsvH  gpt_neo_125m        19          0.8           20   \n",
       "819   AolYsvH  gpt_neo_125m        20          0.8           20   \n",
       "860   AolYsvH  gpt_neo_125m         1          0.9           20   \n",
       "902   AolYsvH  gpt_neo_125m         2          0.9           20   \n",
       "945   AolYsvH  gpt_neo_125m         3          0.9           20   \n",
       "989   AolYsvH  gpt_neo_125m         4          0.9           20   \n",
       "1034  AolYsvH  gpt_neo_125m         5          0.9           20   \n",
       "1080  AolYsvH  gpt_neo_125m         6          0.9           20   \n",
       "1127  AolYsvH  gpt_neo_125m         7          0.9           20   \n",
       "1175  AolYsvH  gpt_neo_125m         8          0.9           20   \n",
       "1224  AolYsvH  gpt_neo_125m         9          0.9           20   \n",
       "1274  AolYsvH  gpt_neo_125m        10          0.9           20   \n",
       "1325  AolYsvH  gpt_neo_125m        11          0.9           20   \n",
       "1377  AolYsvH  gpt_neo_125m        12          0.9           20   \n",
       "1430  AolYsvH  gpt_neo_125m        13          0.9           20   \n",
       "1484  AolYsvH  gpt_neo_125m        14          0.9           20   \n",
       "1539  AolYsvH  gpt_neo_125m        15          0.9           20   \n",
       "1595  AolYsvH  gpt_neo_125m        16          0.9           20   \n",
       "1652  AolYsvH  gpt_neo_125m        17          0.9           20   \n",
       "1710  AolYsvH  gpt_neo_125m        18          0.9           20   \n",
       "1769  AolYsvH  gpt_neo_125m        19          0.9           20   \n",
       "1829  AolYsvH  gpt_neo_125m        20          0.9           20   \n",
       "\n",
       "                                problem_statement  \\\n",
       "0     keep head from moving while sleeping on bus   \n",
       "2     keep head from moving while sleeping on bus   \n",
       "5     keep head from moving while sleeping on bus   \n",
       "9     keep head from moving while sleeping on bus   \n",
       "14    keep head from moving while sleeping on bus   \n",
       "20    keep head from moving while sleeping on bus   \n",
       "27    keep head from moving while sleeping on bus   \n",
       "35    keep head from moving while sleeping on bus   \n",
       "44    keep head from moving while sleeping on bus   \n",
       "54    keep head from moving while sleeping on bus   \n",
       "65    keep head from moving while sleeping on bus   \n",
       "77    keep head from moving while sleeping on bus   \n",
       "90    keep head from moving while sleeping on bus   \n",
       "104   keep head from moving while sleeping on bus   \n",
       "119   keep head from moving while sleeping on bus   \n",
       "135   keep head from moving while sleeping on bus   \n",
       "152   keep head from moving while sleeping on bus   \n",
       "170   keep head from moving while sleeping on bus   \n",
       "189   keep head from moving while sleeping on bus   \n",
       "209   keep head from moving while sleeping on bus   \n",
       "230   keep head from moving while sleeping on bus   \n",
       "252   keep head from moving while sleeping on bus   \n",
       "275   keep head from moving while sleeping on bus   \n",
       "299   keep head from moving while sleeping on bus   \n",
       "324   keep head from moving while sleeping on bus   \n",
       "350   keep head from moving while sleeping on bus   \n",
       "377   keep head from moving while sleeping on bus   \n",
       "405   keep head from moving while sleeping on bus   \n",
       "434   keep head from moving while sleeping on bus   \n",
       "464   keep head from moving while sleeping on bus   \n",
       "495   keep head from moving while sleeping on bus   \n",
       "527   keep head from moving while sleeping on bus   \n",
       "560   keep head from moving while sleeping on bus   \n",
       "594   keep head from moving while sleeping on bus   \n",
       "629   keep head from moving while sleeping on bus   \n",
       "665   keep head from moving while sleeping on bus   \n",
       "702   keep head from moving while sleeping on bus   \n",
       "740   keep head from moving while sleeping on bus   \n",
       "779   keep head from moving while sleeping on bus   \n",
       "819   keep head from moving while sleeping on bus   \n",
       "860   keep head from moving while sleeping on bus   \n",
       "902   keep head from moving while sleeping on bus   \n",
       "945   keep head from moving while sleeping on bus   \n",
       "989   keep head from moving while sleeping on bus   \n",
       "1034  keep head from moving while sleeping on bus   \n",
       "1080  keep head from moving while sleeping on bus   \n",
       "1127  keep head from moving while sleeping on bus   \n",
       "1175  keep head from moving while sleeping on bus   \n",
       "1224  keep head from moving while sleeping on bus   \n",
       "1274  keep head from moving while sleeping on bus   \n",
       "1325  keep head from moving while sleeping on bus   \n",
       "1377  keep head from moving while sleeping on bus   \n",
       "1430  keep head from moving while sleeping on bus   \n",
       "1484  keep head from moving while sleeping on bus   \n",
       "1539  keep head from moving while sleeping on bus   \n",
       "1595  keep head from moving while sleeping on bus   \n",
       "1652  keep head from moving while sleeping on bus   \n",
       "1710  keep head from moving while sleeping on bus   \n",
       "1769  keep head from moving while sleeping on bus   \n",
       "1829  keep head from moving while sleeping on bus   \n",
       "\n",
       "                                 abstract_reformulation  \\\n",
       "0         Increase the density of a particle in a space   \n",
       "2                 Prevent falling by using a large head   \n",
       "5     Prevent object from getting into contact with ...   \n",
       "9     Stop object from getting into contact with unw...   \n",
       "14              Remove head from body or head from body   \n",
       "20    Prevent object from getting into contact with ...   \n",
       "27    stop the user from getting into contact with u...   \n",
       "35              prevent head from moving until it stops   \n",
       "44                   Protect the head from falling down   \n",
       "54                           Keep head from getting wet   \n",
       "65       prevent objects from falling asleep on the bus   \n",
       "77                       keep head from moving from bus   \n",
       "90          keep head from moving while sleeping on bus   \n",
       "104   prevent object from getting into contact with ...   \n",
       "119         keep head from moving while sleeping on bus   \n",
       "135   Prevent object from getting into contact with ...   \n",
       "152   Prevent object from getting into contact with ...   \n",
       "170   Prevent object from getting into contact with ...   \n",
       "189   Prevent object from getting into contact with ...   \n",
       "209     Prepare to go to the toilet with a cup of water   \n",
       "230         keep head from moving while sleeping on bus   \n",
       "252   prevent people from getting into contact with ...   \n",
       "275   Stop object from getting into contact with unw...   \n",
       "299         keep head from moving while sleeping on bus   \n",
       "324      Prevent water vapor from penetrating an object   \n",
       "350                                    prevent sunburns   \n",
       "377   Prevent the sun from getting into contact with...   \n",
       "405                  Remove water from an active object   \n",
       "434                    avoid excessive movement of head   \n",
       "464                      Save body from being submerged   \n",
       "495   stop object from getting into contact with sur...   \n",
       "527         keep head from moving while sleeping on bus   \n",
       "560      prevent head from moving while sleeping on bus   \n",
       "594   stop object from getting into contact with unw...   \n",
       "629                                  Protect from water   \n",
       "665                             stop the engine running   \n",
       "702              Protect from the sun during the winter   \n",
       "740                    prevent blood clotting in stents   \n",
       "779         keep head from moving while sleeping on bus   \n",
       "819             prevent contact with objects in a crowd   \n",
       "860         keep head from moving while sleeping on bus   \n",
       "902                   stop falling object in the middle   \n",
       "945         keep head from moving while sleeping on bus   \n",
       "989   prevent baby from getting into contact with un...   \n",
       "1034         Protect head from becoming caught in a bed   \n",
       "1080            protect object from causing a vibration   \n",
       "1127                     prevent dead birds from moving   \n",
       "1175            prevent human being from falling asleep   \n",
       "1224  prevent water from getting into contact with t...   \n",
       "1274  keep head from moving while sleeping during sleep   \n",
       "1325     prevent head from moving while sleeping on bus   \n",
       "1377        keep head from moving while sleeping on bus   \n",
       "1430  prevent water from flowing and cause a drop in...   \n",
       "1484  prevent object from getting into contact with ...   \n",
       "1539  increase the pressure of the head for a sleepi...   \n",
       "1595               Stop body from moving while sleeping   \n",
       "1652  stop ball from getting into contact with unwan...   \n",
       "1710        keep head from moving while sleeping on bus   \n",
       "1769                Protect object from the environment   \n",
       "1829     Protect object from penetrating foreign bodies   \n",
       "\n",
       "     cumulative_time_in_seconds  \n",
       "0                             0  \n",
       "2                            13  \n",
       "5                            24  \n",
       "9                            34  \n",
       "14                           45  \n",
       "20                           56  \n",
       "27                           67  \n",
       "35                           77  \n",
       "44                           88  \n",
       "54                           99  \n",
       "65                          111  \n",
       "77                          123  \n",
       "90                          134  \n",
       "104                         145  \n",
       "119                         156  \n",
       "135                         167  \n",
       "152                         178  \n",
       "170                         190  \n",
       "189                         201  \n",
       "209                         212  \n",
       "230                         223  \n",
       "252                         234  \n",
       "275                         244  \n",
       "299                         255  \n",
       "324                         266  \n",
       "350                         277  \n",
       "377                         288  \n",
       "405                         299  \n",
       "434                         310  \n",
       "464                         321  \n",
       "495                         332  \n",
       "527                         343  \n",
       "560                         353  \n",
       "594                         365  \n",
       "629                         376  \n",
       "665                         387  \n",
       "702                         398  \n",
       "740                         409  \n",
       "779                         420  \n",
       "819                         431  \n",
       "860                         442  \n",
       "902                         454  \n",
       "945                         465  \n",
       "989                         476  \n",
       "1034                        487  \n",
       "1080                        498  \n",
       "1127                        510  \n",
       "1175                        521  \n",
       "1224                        532  \n",
       "1274                        543  \n",
       "1325                        554  \n",
       "1377                        565  \n",
       "1430                        576  \n",
       "1484                        587  \n",
       "1539                        599  \n",
       "1595                        611  \n",
       "1652                        622  \n",
       "1710                        633  \n",
       "1769                        644  \n",
       "1829                        655  "
      ]
     },
     "execution_count": 17,
     "metadata": {},
     "output_type": "execute_result"
    }
   ],
   "source": [
    "df_125m"
   ]
  },
  {
   "cell_type": "code",
   "execution_count": 152,
   "metadata": {},
   "outputs": [],
   "source": [
    "# res_generator_gpt_neo_1_3b = generator_gpt_neo_1_3b(prompt,max_length = 400, do_sample = True,temperature = 0.9)"
   ]
  },
  {
   "cell_type": "code",
   "execution_count": null,
   "metadata": {},
   "outputs": [
    {
     "name": "stderr",
     "output_type": "stream",
     "text": [
      "Setting `pad_token_id` to `eos_token_id`:50256 for open-end generation.\n",
      "Setting `pad_token_id` to `eos_token_id`:50256 for open-end generation.\n"
     ]
    },
    {
     "name": "stdout",
     "output_type": "stream",
     "text": [
      "1 keep head from moving while sleeping on bus -> Prevent objects from moving in the same direction 0 0.7\n",
      "----------------------------------------\n"
     ]
    },
    {
     "name": "stderr",
     "output_type": "stream",
     "text": [
      "Setting `pad_token_id` to `eos_token_id`:50256 for open-end generation.\n"
     ]
    },
    {
     "name": "stdout",
     "output_type": "stream",
     "text": [
      "2 keep head from moving while sleeping on bus -> Avoid jerky movements 109 0.7\n",
      "----------------------------------------\n"
     ]
    },
    {
     "name": "stderr",
     "output_type": "stream",
     "text": [
      "Setting `pad_token_id` to `eos_token_id`:50256 for open-end generation.\n"
     ]
    },
    {
     "name": "stdout",
     "output_type": "stream",
     "text": [
      "3 keep head from moving while sleeping on bus -> keep head from moving while sleeping on a bed 205 0.7\n",
      "----------------------------------------\n"
     ]
    },
    {
     "name": "stderr",
     "output_type": "stream",
     "text": [
      "Setting `pad_token_id` to `eos_token_id`:50256 for open-end generation.\n"
     ]
    },
    {
     "name": "stdout",
     "output_type": "stream",
     "text": [
      "4 keep head from moving while sleeping on bus -> prevent motion of objects 305 0.7\n",
      "----------------------------------------\n"
     ]
    },
    {
     "name": "stderr",
     "output_type": "stream",
     "text": [
      "Setting `pad_token_id` to `eos_token_id`:50256 for open-end generation.\n"
     ]
    },
    {
     "name": "stdout",
     "output_type": "stream",
     "text": [
      "5 keep head from moving while sleeping on bus -> Control the position of the head without disturbing the body 403 0.7\n",
      "----------------------------------------\n"
     ]
    },
    {
     "name": "stderr",
     "output_type": "stream",
     "text": [
      "Setting `pad_token_id` to `eos_token_id`:50256 for open-end generation.\n"
     ]
    },
    {
     "name": "stdout",
     "output_type": "stream",
     "text": [
      "6 keep head from moving while sleeping on bus -> Keep head in the same plane as the rest of body 501 0.7\n",
      "----------------------------------------\n"
     ]
    },
    {
     "name": "stderr",
     "output_type": "stream",
     "text": [
      "Setting `pad_token_id` to `eos_token_id`:50256 for open-end generation.\n"
     ]
    },
    {
     "name": "stdout",
     "output_type": "stream",
     "text": [
      "7 keep head from moving while sleeping on bus -> Prevent movement of objects in a space 598 0.7\n",
      "----------------------------------------\n"
     ]
    },
    {
     "name": "stderr",
     "output_type": "stream",
     "text": [
      "Setting `pad_token_id` to `eos_token_id`:50256 for open-end generation.\n"
     ]
    },
    {
     "name": "stdout",
     "output_type": "stream",
     "text": [
      "8 keep head from moving while sleeping on bus -> Avoid unnecessary movement of an object 701 0.7\n",
      "----------------------------------------\n"
     ]
    },
    {
     "name": "stderr",
     "output_type": "stream",
     "text": [
      "Setting `pad_token_id` to `eos_token_id`:50256 for open-end generation.\n"
     ]
    },
    {
     "name": "stdout",
     "output_type": "stream",
     "text": [
      "9 keep head from moving while sleeping on bus -> prevent head from moving while the user is not awake 803 0.7\n",
      "----------------------------------------\n"
     ]
    },
    {
     "name": "stderr",
     "output_type": "stream",
     "text": [
      "Setting `pad_token_id` to `eos_token_id`:50256 for open-end generation.\n"
     ]
    },
    {
     "name": "stdout",
     "output_type": "stream",
     "text": [
      "10 keep head from moving while sleeping on bus -> prevent head from being displaced while sleeping 904 0.7\n",
      "----------------------------------------\n"
     ]
    },
    {
     "name": "stderr",
     "output_type": "stream",
     "text": [
      "Setting `pad_token_id` to `eos_token_id`:50256 for open-end generation.\n"
     ]
    },
    {
     "name": "stdout",
     "output_type": "stream",
     "text": [
      "11 keep head from moving while sleeping on bus -> Place a barrier between an object and the user 1002 0.7\n",
      "----------------------------------------\n"
     ]
    },
    {
     "name": "stderr",
     "output_type": "stream",
     "text": [
      "Setting `pad_token_id` to `eos_token_id`:50256 for open-end generation.\n"
     ]
    },
    {
     "name": "stdout",
     "output_type": "stream",
     "text": [
      "12 keep head from moving while sleeping on bus -> keep object in position and prevent head from moving 1096 0.7\n",
      "----------------------------------------\n"
     ]
    },
    {
     "name": "stderr",
     "output_type": "stream",
     "text": [
      "Setting `pad_token_id` to `eos_token_id`:50256 for open-end generation.\n"
     ]
    },
    {
     "name": "stdout",
     "output_type": "stream",
     "text": [
      "13 keep head from moving while sleeping on bus -> keep head in the same position while sleeping on a train 1189 0.7\n",
      "----------------------------------------\n"
     ]
    },
    {
     "name": "stderr",
     "output_type": "stream",
     "text": [
      "Setting `pad_token_id` to `eos_token_id`:50256 for open-end generation.\n"
     ]
    },
    {
     "name": "stdout",
     "output_type": "stream",
     "text": [
      "14 keep head from moving while sleeping on bus -> keep head in a stable position 1282 0.7\n",
      "----------------------------------------\n"
     ]
    },
    {
     "name": "stderr",
     "output_type": "stream",
     "text": [
      "Setting `pad_token_id` to `eos_token_id`:50256 for open-end generation.\n"
     ]
    },
    {
     "name": "stdout",
     "output_type": "stream",
     "text": [
      "15 keep head from moving while sleeping on bus -> Stop unwanted movement by friction 1375 0.7\n",
      "----------------------------------------\n"
     ]
    },
    {
     "name": "stderr",
     "output_type": "stream",
     "text": [
      "Setting `pad_token_id` to `eos_token_id`:50256 for open-end generation.\n"
     ]
    },
    {
     "name": "stdout",
     "output_type": "stream",
     "text": [
      "16 keep head from moving while sleeping on bus -> limit the range of motion of the head 1469 0.7\n",
      "----------------------------------------\n"
     ]
    },
    {
     "name": "stderr",
     "output_type": "stream",
     "text": [
      "Setting `pad_token_id` to `eos_token_id`:50256 for open-end generation.\n"
     ]
    },
    {
     "name": "stdout",
     "output_type": "stream",
     "text": [
      "17 keep head from moving while sleeping on bus -> Avoid collisions between body parts 1487 0.7\n",
      "----------------------------------------\n"
     ]
    },
    {
     "name": "stderr",
     "output_type": "stream",
     "text": [
      "Setting `pad_token_id` to `eos_token_id`:50256 for open-end generation.\n"
     ]
    },
    {
     "name": "stdout",
     "output_type": "stream",
     "text": [
      "18 keep head from moving while sleeping on bus -> Avoid collision of head with the walls of the bus 1580 0.7\n",
      "----------------------------------------\n"
     ]
    },
    {
     "name": "stderr",
     "output_type": "stream",
     "text": [
      "Setting `pad_token_id` to `eos_token_id`:50256 for open-end generation.\n"
     ]
    },
    {
     "name": "stdout",
     "output_type": "stream",
     "text": [
      "19 keep head from moving while sleeping on bus -> Prevent movement of objects in space 1677 0.7\n",
      "----------------------------------------\n"
     ]
    },
    {
     "name": "stderr",
     "output_type": "stream",
     "text": [
      "Setting `pad_token_id` to `eos_token_id`:50256 for open-end generation.\n"
     ]
    },
    {
     "name": "stdout",
     "output_type": "stream",
     "text": [
      "20 keep head from moving while sleeping on bus -> Remove the need for a helmet 1776 0.7\n",
      "----------------------------------------\n"
     ]
    },
    {
     "name": "stderr",
     "output_type": "stream",
     "text": [
      "Setting `pad_token_id` to `eos_token_id`:50256 for open-end generation.\n"
     ]
    },
    {
     "name": "stdout",
     "output_type": "stream",
     "text": [
      "1 keep head from moving while sleeping on bus -> Limit the degree of freedom of an object 1876 0.8\n",
      "----------------------------------------\n"
     ]
    },
    {
     "name": "stderr",
     "output_type": "stream",
     "text": [
      "Setting `pad_token_id` to `eos_token_id`:50256 for open-end generation.\n"
     ]
    },
    {
     "name": "stdout",
     "output_type": "stream",
     "text": [
      "2 keep head from moving while sleeping on bus -> Keep the body from being twisted when the head is raised 1972 0.8\n",
      "----------------------------------------\n"
     ]
    },
    {
     "name": "stderr",
     "output_type": "stream",
     "text": [
      "Setting `pad_token_id` to `eos_token_id`:50256 for open-end generation.\n"
     ]
    },
    {
     "name": "stdout",
     "output_type": "stream",
     "text": [
      "3 keep head from moving while sleeping on bus -> Provide a fixed point for a head to rest on 2070 0.8\n",
      "----------------------------------------\n"
     ]
    },
    {
     "name": "stderr",
     "output_type": "stream",
     "text": [
      "Setting `pad_token_id` to `eos_token_id`:50256 for open-end generation.\n"
     ]
    },
    {
     "name": "stdout",
     "output_type": "stream",
     "text": [
      "4 keep head from moving while sleeping on bus -> keep a mobile head in a fixed position 2165 0.8\n",
      "----------------------------------------\n"
     ]
    },
    {
     "name": "stderr",
     "output_type": "stream",
     "text": [
      "Setting `pad_token_id` to `eos_token_id`:50256 for open-end generation.\n"
     ]
    },
    {
     "name": "stdout",
     "output_type": "stream",
     "text": [
      "5 keep head from moving while sleeping on bus -> keep head from moving while sleeping on a bus 2262 0.8\n",
      "----------------------------------------\n"
     ]
    },
    {
     "name": "stderr",
     "output_type": "stream",
     "text": [
      "Setting `pad_token_id` to `eos_token_id`:50256 for open-end generation.\n"
     ]
    },
    {
     "name": "stdout",
     "output_type": "stream",
     "text": [
      "6 keep head from moving while sleeping on bus -> protect object from the movement of the head 2360 0.8\n",
      "----------------------------------------\n"
     ]
    },
    {
     "name": "stderr",
     "output_type": "stream",
     "text": [
      "Setting `pad_token_id` to `eos_token_id`:50256 for open-end generation.\n"
     ]
    },
    {
     "name": "stdout",
     "output_type": "stream",
     "text": [
      "7 keep head from moving while sleeping on bus -> protect object from unwanted motion 2456 0.8\n",
      "----------------------------------------\n"
     ]
    },
    {
     "name": "stderr",
     "output_type": "stream",
     "text": [
      "Setting `pad_token_id` to `eos_token_id`:50256 for open-end generation.\n"
     ]
    },
    {
     "name": "stdout",
     "output_type": "stream",
     "text": [
      "8 keep head from moving while sleeping on bus -> Prevent a user from changing his/her position 2554 0.8\n",
      "----------------------------------------\n"
     ]
    },
    {
     "name": "stderr",
     "output_type": "stream",
     "text": [
      "Setting `pad_token_id` to `eos_token_id`:50256 for open-end generation.\n"
     ]
    },
    {
     "name": "stdout",
     "output_type": "stream",
     "text": [
      "9 keep head from moving while sleeping on bus -> keep head from falling off while sleeping on airplane 2649 0.8\n",
      "----------------------------------------\n"
     ]
    },
    {
     "name": "stderr",
     "output_type": "stream",
     "text": [
      "Setting `pad_token_id` to `eos_token_id`:50256 for open-end generation.\n"
     ]
    },
    {
     "name": "stdout",
     "output_type": "stream",
     "text": [
      "10 keep head from moving while sleeping on bus -> Keep head and torso from moving while sleeping 2748 0.8\n",
      "----------------------------------------\n"
     ]
    },
    {
     "name": "stderr",
     "output_type": "stream",
     "text": [
      "Setting `pad_token_id` to `eos_token_id`:50256 for open-end generation.\n"
     ]
    },
    {
     "name": "stdout",
     "output_type": "stream",
     "text": [
      "11 keep head from moving while sleeping on bus -> Prevent person from moving while sleeping on the bus 2847 0.8\n",
      "----------------------------------------\n"
     ]
    },
    {
     "name": "stderr",
     "output_type": "stream",
     "text": [
      "Setting `pad_token_id` to `eos_token_id`:50256 for open-end generation.\n"
     ]
    },
    {
     "name": "stdout",
     "output_type": "stream",
     "text": [
      "12 keep head from moving while sleeping on bus -> keep head from moving while sleeping on a couch 2944 0.8\n",
      "----------------------------------------\n"
     ]
    }
   ],
   "source": [
    "df_13b = generate_output(generator_gpt_neo_1_3b,20,prompt,20,0.7,'gpt_neo_1.3b',1)"
   ]
  },
  {
   "cell_type": "code",
   "execution_count": null,
   "metadata": {},
   "outputs": [],
   "source": [
    "# res_generator_gpt_neo_125m = generator_gpt_neo_125m(prompt, max_length = 320, do_sample = True,temperature = 0.75)"
   ]
  },
  {
   "cell_type": "code",
   "execution_count": null,
   "metadata": {},
   "outputs": [],
   "source": [
    "df_13b"
   ]
  },
  {
   "cell_type": "code",
   "execution_count": null,
   "metadata": {},
   "outputs": [],
   "source": [
    "df_27b = generate_output(generator_gpt_neo_2_7,20,prompt,20,0.7,'gpt_neo_2.7b',1)"
   ]
  },
  {
   "cell_type": "code",
   "execution_count": null,
   "metadata": {},
   "outputs": [],
   "source": [
    "df_27b"
   ]
  },
  {
   "cell_type": "code",
   "execution_count": null,
   "metadata": {},
   "outputs": [],
   "source": [
    "# res_generator_gpt_neo_125m\n"
   ]
  },
  {
   "cell_type": "code",
   "execution_count": null,
   "metadata": {},
   "outputs": [],
   "source": [
    "# res_generator_gpt_neo_125m[0]['generated_text'].split('\\n\\n')[11].split('\\n')[0]"
   ]
  },
  {
   "cell_type": "code",
   "execution_count": null,
   "metadata": {},
   "outputs": [],
   "source": [
    "# res_generator_gpt_neo_125m[0]['generated_text'].split('\\n\\n')[11].split('\\n')[-1]"
   ]
  },
  {
   "cell_type": "code",
   "execution_count": null,
   "metadata": {},
   "outputs": [],
   "source": [
    "# print(res_generator_gpt_neo_125m[0]['generated_text'])"
   ]
  },
  {
   "cell_type": "code",
   "execution_count": null,
   "metadata": {},
   "outputs": [],
   "source": []
  },
  {
   "cell_type": "code",
   "execution_count": null,
   "metadata": {},
   "outputs": [],
   "source": []
  },
  {
   "cell_type": "code",
   "execution_count": null,
   "metadata": {},
   "outputs": [],
   "source": [
    "# print(res_generator_gpt_neo_1_3b[0]['generated_text'])"
   ]
  },
  {
   "cell_type": "code",
   "execution_count": null,
   "metadata": {},
   "outputs": [],
   "source": [
    "# res_generator_gpt_neo_2_7 = generator_gpt_neo_2_7(prompt,max_length = 500, do_sample = True,temperature = 0.9)"
   ]
  },
  {
   "cell_type": "code",
   "execution_count": null,
   "metadata": {},
   "outputs": [],
   "source": [
    "\n",
    "# print(res_generator_gpt_neo_2_7[0]['generated_text'])"
   ]
  },
  {
   "cell_type": "code",
   "execution_count": null,
   "metadata": {},
   "outputs": [],
   "source": [
    "# res_generator_gpt2 = generator_gpt2(prompt,max_length = 500, do_sample = True,temperature = 0.9)"
   ]
  },
  {
   "cell_type": "code",
   "execution_count": null,
   "metadata": {},
   "outputs": [],
   "source": [
    "\n",
    "\n",
    "# print(res_generator_gpt2[0]['generated_text'])"
   ]
  },
  {
   "cell_type": "code",
   "execution_count": null,
   "metadata": {},
   "outputs": [],
   "source": []
  },
  {
   "cell_type": "code",
   "execution_count": null,
   "metadata": {},
   "outputs": [],
   "source": []
  },
  {
   "cell_type": "code",
   "execution_count": null,
   "metadata": {},
   "outputs": [],
   "source": []
  },
  {
   "cell_type": "code",
   "execution_count": null,
   "metadata": {},
   "outputs": [],
   "source": []
  },
  {
   "cell_type": "code",
   "execution_count": null,
   "metadata": {},
   "outputs": [],
   "source": []
  },
  {
   "cell_type": "code",
   "execution_count": null,
   "metadata": {},
   "outputs": [],
   "source": []
  },
  {
   "cell_type": "code",
   "execution_count": null,
   "metadata": {},
   "outputs": [],
   "source": []
  },
  {
   "cell_type": "code",
   "execution_count": null,
   "metadata": {},
   "outputs": [],
   "source": []
  }
 ],
 "metadata": {
  "kernelspec": {
   "display_name": "Python 3",
   "language": "python",
   "name": "python3"
  },
  "language_info": {
   "codemirror_mode": {
    "name": "ipython",
    "version": 3
   },
   "file_extension": ".py",
   "mimetype": "text/x-python",
   "name": "python",
   "nbconvert_exporter": "python",
   "pygments_lexer": "ipython3",
   "version": "3.8.10"
  }
 },
 "nbformat": 4,
 "nbformat_minor": 4
}
