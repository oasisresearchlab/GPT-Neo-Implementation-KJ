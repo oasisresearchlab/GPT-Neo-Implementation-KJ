{
 "cells": [
  {
   "cell_type": "code",
   "execution_count": 1,
   "metadata": {},
   "outputs": [
    {
     "name": "stderr",
     "output_type": "stream",
     "text": [
      "C:\\Users\\ysj30\\anaconda3\\envs\\py38torch\\lib\\site-packages\\torchaudio\\backend\\utils.py:67: UserWarning: No audio backend is available.\n",
      "  warnings.warn('No audio backend is available.')\n"
     ]
    }
   ],
   "source": [
    "from transformers import pipeline"
   ]
  },
  {
   "cell_type": "code",
   "execution_count": 2,
   "metadata": {},
   "outputs": [],
   "source": [
    "import numpy as np\n",
    "import pandas as pd\n",
    "import random\n",
    "import string\n",
    "from datetime import datetime\n",
    "import time"
   ]
  },
  {
   "cell_type": "code",
   "execution_count": 3,
   "metadata": {},
   "outputs": [],
   "source": [
    "generator_gpt_neo_125m = pipeline('text-generation',model='EleutherAI/gpt-neo-125M')"
   ]
  },
  {
   "cell_type": "code",
   "execution_count": 4,
   "metadata": {},
   "outputs": [],
   "source": [
    "cols = ['id','model_name','iteration','temperature','input_length','problem_statement','abstract_reformulation','cumulative_time_in_seconds']\n",
    "def generate_blank_df(cols): \n",
    "    df = pd.DataFrame(columns = cols)\n",
    "    return df"
   ]
  },
  {
   "cell_type": "code",
   "execution_count": 5,
   "metadata": {},
   "outputs": [],
   "source": [
    "def get_current_date():\n",
    "    now = datetime.now()\n",
    "\n",
    "#     print(\"now =\", now)\n",
    "\n",
    "    # dd/mm/YY H:M:S\n",
    "    dt_string = now.strftime(\"%Y%m%d\")\n",
    "#     print(\"date and time =\", dt_string)\n",
    "    date_string = dt_string\n",
    "    return date_string"
   ]
  },
  {
   "cell_type": "code",
   "execution_count": 6,
   "metadata": {},
   "outputs": [],
   "source": [
    "date = get_current_date()"
   ]
  },
  {
   "cell_type": "code",
   "execution_count": 11,
   "metadata": {},
   "outputs": [],
   "source": [
    "def generate_output(model,max_iterations,prompt,number_of_problem_statements,temp,model_name_text,want_to_save_1or0):\n",
    "    start = time.time()\n",
    "    date = get_current_date()\n",
    "    df = generate_blank_df(cols)\n",
    "    rand_id = ''.join([random.choice(string.ascii_letters\n",
    "            + string.digits) for n in range(7)])\n",
    "    iteration_no = 1\n",
    "    columns = list(df)\n",
    "#     temp_str = str(temp)\n",
    "#     temp_str = temp_str.split('.')[-1]\n",
    "    file_name = date+'_'+model_name_text+'_'+rand_id+'_'+str(max_iterations)+'_'+str(number_of_problem_statements)+'.csv'\n",
    "    data = []\n",
    "    while temp < 1.0:\n",
    "        iteration_no = 1        \n",
    "        while iteration_no <= max_iterations:\n",
    "            cumulative_time=round((time.time()-start))\n",
    "            res_model = model(prompt,max_length = 32*number_of_problem_statements,do_sample = True,temperature = temp)\n",
    "#             print(res_model[0]['generated_text'])\n",
    "            problem_statement = res_model[0]['generated_text'].split('\\n\\n')[number_of_problem_statements+1].split('\\n')[0].split(':')[-1].strip()\n",
    "            abs_reformulation = res_model[0]['generated_text'].split('\\n\\n')[number_of_problem_statements+1].split('\\n')[-1].split(':')[-1].strip()\n",
    "            values_for_df = [rand_id,model_name_text,iteration_no,temp,number_of_problem_statements,problem_statement,abs_reformulation,cumulative_time]\n",
    "            zipped = zip(columns,values_for_df)\n",
    "            dict1 = dict(zipped)\n",
    "            data.append(dict1)\n",
    "            iteration_no += 1\n",
    "    #         print(f'Total time taken is {elapsed_time_lc}')\n",
    "            print(iteration_no-1,problem_statement,'->',abs_reformulation,cumulative_time,temp)\n",
    "            print('----------------------------------------')\n",
    "    #         print(rand_id,iteration_no,temp,number_of_problem_statements,problem_statement,abs_reformulation)\n",
    "        \n",
    "            df = df.append(data,ignore_index = True)\n",
    "        temp = round((temp+0.1),1)\n",
    "        \n",
    "    df = df.drop_duplicates()\n",
    "    \n",
    "    if(want_to_save_1or0==1):\n",
    "        df.to_csv(f'../Csv/{file_name}',index=False)\n",
    "    else:\n",
    "        print('returning_df')\n",
    "    \n",
    "    elapsed_time_lc=(time.time()-start)\n",
    "    print(f'Total time taken is {round(elapsed_time_lc)}')\n",
    "    \n",
    "    return df\n",
    "    "
   ]
  },
  {
   "cell_type": "code",
   "execution_count": 18,
   "metadata": {},
   "outputs": [],
   "source": [
    "user_input = \"type with limited mobility/range\""
   ]
  },
  {
   "cell_type": "code",
   "execution_count": 19,
   "metadata": {},
   "outputs": [],
   "source": [
    "prompt = f\"\"\"Given a problem statement, generate an abstracted reformulation of that problem statement\n",
    "\n",
    "Problem statement: Shield baby from the sun\n",
    "Abstracted reformulation: Protect vulnerable object from radiation\n",
    "\n",
    "Problem statement: Prevent feet from getting wet\n",
    "Abstracted reformulation: Stop object from getting into contact with unwanted substances\n",
    "\n",
    "Problem statement: Hold soap bars of multiple sizes\n",
    "Abstracted reformulation: Contain objects of different volumes\n",
    "\n",
    "Problem statement: Enable a broom to clean in hard to reach places\n",
    "Abstracted reformulation: Extend the physical reach of a tool\n",
    "\n",
    "Problem statement: drill into teeth quietly\n",
    "Abstracted reformulation: create a hole in an object without causing an unwanted noise\n",
    "\n",
    "Problem statement: make house out of cooked spaghetti\n",
    "Abstracted reformulation: create strong, rigid structure out of soft materials\n",
    "\n",
    "Problem statement: make house out of cooked spaghetti\n",
    "Abstracted reformulation: create structure from elastic elements\n",
    "\n",
    "Problem statement:  prevent bicycle tire flats\n",
    "Abstracted reformulation: protect object from the penetration of foreign objects\n",
    "\n",
    "Problem statement: prevent blood clotting in stents\n",
    "Abstracted reformulation: prevent clogging of cylindrical tubes\n",
    "\n",
    "Problem statement: transfer heat in semiconductors at nanoscale\n",
    "Abstracted reformulation: Enable particles to flow in confined geometries\n",
    "\n",
    "Problem statement:reduce seasickness in virtual reality systems\n",
    "Abstracted reformulation: reduce user's dependency on information cues\n",
    "\n",
    "Problem statement:reduce seasickness in virtual reality systems\n",
    "Abstracted reformulation: Achieve robust orientation stability\n",
    "\n",
    "Problem statement:reduce seasickness in virtual reality systems\n",
    "Abstracted reformulation: improve the feel of a complicated motion or force\n",
    "\n",
    "Problem statement:wash clothes without water\n",
    "Abstracted reformulation: Remove dirt from objects by mechanical force\n",
    "\n",
    "Problem statement:charge cell phones on the go\n",
    "Abstracted reformulation: Charge a battery source from a remote energy-source\n",
    "\n",
    "Problem statement:charge cell phones on the go\n",
    "Abstracted reformulation: Supply power to electrical devices in the field\n",
    "\n",
    "Problem statement:protect feet from getting wet\n",
    "Abstracted reformulation: stop entry of foreign particles\n",
    "\n",
    "Problem statement:protect feet from getting wet\n",
    "Abstracted reformulation: Mechanically stop liquid from penetrating a space\n",
    "\n",
    "Problem statement:shield baby from the sun\n",
    "Abstracted reformulation: Protect vulnerable object from radiation\n",
    "\n",
    "Problem statement:Prevent feet from getting wet\n",
    "Abstracted reformulation: Stop object from getting into contact with unwanted substances\n",
    "\n",
    "Problem statement: {user_input}\n",
    "\"\"\""
   ]
  },
  {
   "cell_type": "code",
   "execution_count": 20,
   "metadata": {},
   "outputs": [
    {
     "name": "stderr",
     "output_type": "stream",
     "text": [
      "Setting `pad_token_id` to `eos_token_id`:50256 for open-end generation.\n",
      "Setting `pad_token_id` to `eos_token_id`:50256 for open-end generation.\n"
     ]
    },
    {
     "name": "stdout",
     "output_type": "stream",
     "text": [
      "1 type with limited mobility/range -> Prevent object from getting into contact with unwanted substances 0 0.1\n",
      "----------------------------------------\n"
     ]
    },
    {
     "name": "stderr",
     "output_type": "stream",
     "text": [
      "Setting `pad_token_id` to `eos_token_id`:50256 for open-end generation.\n"
     ]
    },
    {
     "name": "stdout",
     "output_type": "stream",
     "text": [
      "2 type with limited mobility/range -> Prevent object from getting into contact with unwanted substances 24 0.1\n",
      "----------------------------------------\n"
     ]
    },
    {
     "name": "stderr",
     "output_type": "stream",
     "text": [
      "Setting `pad_token_id` to `eos_token_id`:50256 for open-end generation.\n"
     ]
    },
    {
     "name": "stdout",
     "output_type": "stream",
     "text": [
      "3 type with limited mobility/range -> Prevent object from getting into contact with unwanted substances 47 0.1\n",
      "----------------------------------------\n"
     ]
    },
    {
     "name": "stderr",
     "output_type": "stream",
     "text": [
      "Setting `pad_token_id` to `eos_token_id`:50256 for open-end generation.\n"
     ]
    },
    {
     "name": "stdout",
     "output_type": "stream",
     "text": [
      "4 type with limited mobility/range -> Prevent object from getting into contact with unwanted substances 66 0.1\n",
      "----------------------------------------\n"
     ]
    },
    {
     "name": "stderr",
     "output_type": "stream",
     "text": [
      "Setting `pad_token_id` to `eos_token_id`:50256 for open-end generation.\n"
     ]
    },
    {
     "name": "stdout",
     "output_type": "stream",
     "text": [
      "5 type with limited mobility/range -> Prevent object from getting into contact with unwanted substances 86 0.1\n",
      "----------------------------------------\n"
     ]
    },
    {
     "name": "stderr",
     "output_type": "stream",
     "text": [
      "Setting `pad_token_id` to `eos_token_id`:50256 for open-end generation.\n"
     ]
    },
    {
     "name": "stdout",
     "output_type": "stream",
     "text": [
      "6 type with limited mobility/range -> Prevent object from getting into contact with unwanted substances 115 0.1\n",
      "----------------------------------------\n"
     ]
    },
    {
     "name": "stderr",
     "output_type": "stream",
     "text": [
      "Setting `pad_token_id` to `eos_token_id`:50256 for open-end generation.\n"
     ]
    },
    {
     "name": "stdout",
     "output_type": "stream",
     "text": [
      "7 type with limited mobility/range -> Prevent object from getting into contact with unwanted substances 139 0.1\n",
      "----------------------------------------\n"
     ]
    },
    {
     "name": "stderr",
     "output_type": "stream",
     "text": [
      "Setting `pad_token_id` to `eos_token_id`:50256 for open-end generation.\n"
     ]
    },
    {
     "name": "stdout",
     "output_type": "stream",
     "text": [
      "8 type with limited mobility/range -> prevent the use of a mobile phone 162 0.1\n",
      "----------------------------------------\n"
     ]
    },
    {
     "name": "stderr",
     "output_type": "stream",
     "text": [
      "Setting `pad_token_id` to `eos_token_id`:50256 for open-end generation.\n"
     ]
    },
    {
     "name": "stdout",
     "output_type": "stream",
     "text": [
      "9 type with limited mobility/range -> prevent object from getting into contact with unwanted substances 185 0.1\n",
      "----------------------------------------\n"
     ]
    },
    {
     "name": "stderr",
     "output_type": "stream",
     "text": [
      "Setting `pad_token_id` to `eos_token_id`:50256 for open-end generation.\n"
     ]
    },
    {
     "name": "stdout",
     "output_type": "stream",
     "text": [
      "10 type with limited mobility/range -> Prevent object from getting into contact with unwanted substances 209 0.1\n",
      "----------------------------------------\n"
     ]
    },
    {
     "name": "stderr",
     "output_type": "stream",
     "text": [
      "Setting `pad_token_id` to `eos_token_id`:50256 for open-end generation.\n"
     ]
    },
    {
     "name": "stdout",
     "output_type": "stream",
     "text": [
      "11 type with limited mobility/range -> Prevent object from getting into contact with unwanted substances 233 0.1\n",
      "----------------------------------------\n"
     ]
    },
    {
     "name": "stderr",
     "output_type": "stream",
     "text": [
      "Setting `pad_token_id` to `eos_token_id`:50256 for open-end generation.\n"
     ]
    },
    {
     "name": "stdout",
     "output_type": "stream",
     "text": [
      "12 type with limited mobility/range -> Prevent object from getting into contact with unwanted substances 257 0.1\n",
      "----------------------------------------\n"
     ]
    },
    {
     "name": "stderr",
     "output_type": "stream",
     "text": [
      "Setting `pad_token_id` to `eos_token_id`:50256 for open-end generation.\n"
     ]
    },
    {
     "name": "stdout",
     "output_type": "stream",
     "text": [
      "13 type with limited mobility/range -> Prevent object from getting into contact with unwanted substances 282 0.1\n",
      "----------------------------------------\n"
     ]
    },
    {
     "name": "stderr",
     "output_type": "stream",
     "text": [
      "Setting `pad_token_id` to `eos_token_id`:50256 for open-end generation.\n"
     ]
    },
    {
     "name": "stdout",
     "output_type": "stream",
     "text": [
      "14 type with limited mobility/range -> prevent object from getting into contact with unwanted substances 306 0.1\n",
      "----------------------------------------\n"
     ]
    },
    {
     "name": "stderr",
     "output_type": "stream",
     "text": [
      "Setting `pad_token_id` to `eos_token_id`:50256 for open-end generation.\n"
     ]
    },
    {
     "name": "stdout",
     "output_type": "stream",
     "text": [
      "15 type with limited mobility/range -> prevent object from getting into contact with unwanted substances 330 0.1\n",
      "----------------------------------------\n"
     ]
    },
    {
     "name": "stderr",
     "output_type": "stream",
     "text": [
      "Setting `pad_token_id` to `eos_token_id`:50256 for open-end generation.\n"
     ]
    },
    {
     "name": "stdout",
     "output_type": "stream",
     "text": [
      "16 type with limited mobility/range -> Prevent object from getting into contact with unwanted substances 355 0.1\n",
      "----------------------------------------\n"
     ]
    },
    {
     "name": "stderr",
     "output_type": "stream",
     "text": [
      "Setting `pad_token_id` to `eos_token_id`:50256 for open-end generation.\n"
     ]
    },
    {
     "name": "stdout",
     "output_type": "stream",
     "text": [
      "17 type with limited mobility/range -> Prevent object from getting into contact with unwanted substances 379 0.1\n",
      "----------------------------------------\n"
     ]
    },
    {
     "name": "stderr",
     "output_type": "stream",
     "text": [
      "Setting `pad_token_id` to `eos_token_id`:50256 for open-end generation.\n"
     ]
    },
    {
     "name": "stdout",
     "output_type": "stream",
     "text": [
      "18 type with limited mobility/range -> Prevent object from getting into contact with unwanted substances 404 0.1\n",
      "----------------------------------------\n"
     ]
    },
    {
     "name": "stderr",
     "output_type": "stream",
     "text": [
      "Setting `pad_token_id` to `eos_token_id`:50256 for open-end generation.\n"
     ]
    },
    {
     "name": "stdout",
     "output_type": "stream",
     "text": [
      "19 type with limited mobility/range -> Prevent object from getting into contact with unwanted substances 428 0.1\n",
      "----------------------------------------\n"
     ]
    },
    {
     "name": "stderr",
     "output_type": "stream",
     "text": [
      "Setting `pad_token_id` to `eos_token_id`:50256 for open-end generation.\n"
     ]
    },
    {
     "name": "stdout",
     "output_type": "stream",
     "text": [
      "20 type with limited mobility/range -> Prevent object from getting into contact with unwanted substances 452 0.1\n",
      "----------------------------------------\n"
     ]
    },
    {
     "name": "stderr",
     "output_type": "stream",
     "text": [
      "Setting `pad_token_id` to `eos_token_id`:50256 for open-end generation.\n"
     ]
    },
    {
     "name": "stdout",
     "output_type": "stream",
     "text": [
      "1 type with limited mobility/range -> Prevent object from getting into contact with unwanted substances 476 0.2\n",
      "----------------------------------------\n"
     ]
    },
    {
     "name": "stderr",
     "output_type": "stream",
     "text": [
      "Setting `pad_token_id` to `eos_token_id`:50256 for open-end generation.\n"
     ]
    },
    {
     "name": "stdout",
     "output_type": "stream",
     "text": [
      "2 type with limited mobility/range -> Prevent object from getting into contact with unwanted substances 501 0.2\n",
      "----------------------------------------\n"
     ]
    },
    {
     "name": "stderr",
     "output_type": "stream",
     "text": [
      "Setting `pad_token_id` to `eos_token_id`:50256 for open-end generation.\n"
     ]
    },
    {
     "name": "stdout",
     "output_type": "stream",
     "text": [
      "3 type with limited mobility/range -> Prevent object from getting into contact with unwanted substances 525 0.2\n",
      "----------------------------------------\n"
     ]
    },
    {
     "name": "stderr",
     "output_type": "stream",
     "text": [
      "Setting `pad_token_id` to `eos_token_id`:50256 for open-end generation.\n"
     ]
    },
    {
     "name": "stdout",
     "output_type": "stream",
     "text": [
      "4 type with limited mobility/range -> prevent object from getting into contact with unwanted substances 549 0.2\n",
      "----------------------------------------\n"
     ]
    },
    {
     "name": "stderr",
     "output_type": "stream",
     "text": [
      "Setting `pad_token_id` to `eos_token_id`:50256 for open-end generation.\n"
     ]
    },
    {
     "name": "stdout",
     "output_type": "stream",
     "text": [
      "5 type with limited mobility/range -> Prevent object from getting into contact with unwanted substances 573 0.2\n",
      "----------------------------------------\n"
     ]
    },
    {
     "name": "stderr",
     "output_type": "stream",
     "text": [
      "Setting `pad_token_id` to `eos_token_id`:50256 for open-end generation.\n"
     ]
    },
    {
     "name": "stdout",
     "output_type": "stream",
     "text": [
      "6 type with limited mobility/range -> Prevent object from getting into contact with unwanted substances 597 0.2\n",
      "----------------------------------------\n"
     ]
    },
    {
     "name": "stderr",
     "output_type": "stream",
     "text": [
      "Setting `pad_token_id` to `eos_token_id`:50256 for open-end generation.\n"
     ]
    },
    {
     "name": "stdout",
     "output_type": "stream",
     "text": [
      "7 type with limited mobility/range -> prevent object from getting into contact with unwanted substances 621 0.2\n",
      "----------------------------------------\n"
     ]
    },
    {
     "name": "stderr",
     "output_type": "stream",
     "text": [
      "Setting `pad_token_id` to `eos_token_id`:50256 for open-end generation.\n"
     ]
    },
    {
     "name": "stdout",
     "output_type": "stream",
     "text": [
      "8 type with limited mobility/range -> Prevent object from getting into contact with unwanted substances 645 0.2\n",
      "----------------------------------------\n"
     ]
    },
    {
     "name": "stderr",
     "output_type": "stream",
     "text": [
      "Setting `pad_token_id` to `eos_token_id`:50256 for open-end generation.\n"
     ]
    },
    {
     "name": "stdout",
     "output_type": "stream",
     "text": [
      "9 type with limited mobility/range -> prevent children from getting into contact with objects 670 0.2\n",
      "----------------------------------------\n"
     ]
    },
    {
     "name": "stderr",
     "output_type": "stream",
     "text": [
      "Setting `pad_token_id` to `eos_token_id`:50256 for open-end generation.\n"
     ]
    },
    {
     "name": "stdout",
     "output_type": "stream",
     "text": [
      "10 type with limited mobility/range -> prevent object from getting into contact with unwanted substances 694 0.2\n",
      "----------------------------------------\n"
     ]
    },
    {
     "name": "stderr",
     "output_type": "stream",
     "text": [
      "Setting `pad_token_id` to `eos_token_id`:50256 for open-end generation.\n"
     ]
    },
    {
     "name": "stdout",
     "output_type": "stream",
     "text": [
      "11 type with limited mobility/range -> Prevent object from getting into contact with unwanted substances 718 0.2\n",
      "----------------------------------------\n"
     ]
    },
    {
     "name": "stderr",
     "output_type": "stream",
     "text": [
      "Setting `pad_token_id` to `eos_token_id`:50256 for open-end generation.\n"
     ]
    },
    {
     "name": "stdout",
     "output_type": "stream",
     "text": [
      "12 type with limited mobility/range -> prevent object from getting into contact with unwanted substances 743 0.2\n",
      "----------------------------------------\n"
     ]
    },
    {
     "name": "stderr",
     "output_type": "stream",
     "text": [
      "Setting `pad_token_id` to `eos_token_id`:50256 for open-end generation.\n"
     ]
    },
    {
     "name": "stdout",
     "output_type": "stream",
     "text": [
      "13 type with limited mobility/range -> Prevent object from getting into contact with unwanted substances 767 0.2\n",
      "----------------------------------------\n"
     ]
    },
    {
     "name": "stderr",
     "output_type": "stream",
     "text": [
      "Setting `pad_token_id` to `eos_token_id`:50256 for open-end generation.\n"
     ]
    },
    {
     "name": "stdout",
     "output_type": "stream",
     "text": [
      "14 type with limited mobility/range -> Prevent object from getting into contact with unwanted substances 792 0.2\n",
      "----------------------------------------\n"
     ]
    },
    {
     "name": "stderr",
     "output_type": "stream",
     "text": [
      "Setting `pad_token_id` to `eos_token_id`:50256 for open-end generation.\n"
     ]
    },
    {
     "name": "stdout",
     "output_type": "stream",
     "text": [
      "15 type with limited mobility/range -> prevent movement of objects 816 0.2\n",
      "----------------------------------------\n"
     ]
    },
    {
     "name": "stderr",
     "output_type": "stream",
     "text": [
      "Setting `pad_token_id` to `eos_token_id`:50256 for open-end generation.\n"
     ]
    },
    {
     "name": "stdout",
     "output_type": "stream",
     "text": [
      "16 type with limited mobility/range -> prevent the user from getting into contact with objects 840 0.2\n",
      "----------------------------------------\n"
     ]
    },
    {
     "name": "stderr",
     "output_type": "stream",
     "text": [
      "Setting `pad_token_id` to `eos_token_id`:50256 for open-end generation.\n"
     ]
    },
    {
     "name": "stdout",
     "output_type": "stream",
     "text": [
      "17 type with limited mobility/range -> Prevent object from getting into contact with unwanted substances 865 0.2\n",
      "----------------------------------------\n"
     ]
    },
    {
     "name": "stderr",
     "output_type": "stream",
     "text": [
      "Setting `pad_token_id` to `eos_token_id`:50256 for open-end generation.\n"
     ]
    },
    {
     "name": "stdout",
     "output_type": "stream",
     "text": [
      "18 type with limited mobility/range -> Prevent object from getting into contact with unwanted substances 889 0.2\n",
      "----------------------------------------\n"
     ]
    },
    {
     "name": "stderr",
     "output_type": "stream",
     "text": [
      "Setting `pad_token_id` to `eos_token_id`:50256 for open-end generation.\n"
     ]
    },
    {
     "name": "stdout",
     "output_type": "stream",
     "text": [
      "19 type with limited mobility/range -> Prevent object from getting into contact with unwanted substances 913 0.2\n",
      "----------------------------------------\n"
     ]
    },
    {
     "name": "stderr",
     "output_type": "stream",
     "text": [
      "Setting `pad_token_id` to `eos_token_id`:50256 for open-end generation.\n"
     ]
    },
    {
     "name": "stdout",
     "output_type": "stream",
     "text": [
      "20 type with limited mobility/range -> prevent objects from getting into contact with unwanted substances 937 0.2\n",
      "----------------------------------------\n"
     ]
    },
    {
     "name": "stderr",
     "output_type": "stream",
     "text": [
      "Setting `pad_token_id` to `eos_token_id`:50256 for open-end generation.\n"
     ]
    },
    {
     "name": "stdout",
     "output_type": "stream",
     "text": [
      "1 type with limited mobility/range -> enable a broom to clean in hard to reach places 961 0.3\n",
      "----------------------------------------\n"
     ]
    },
    {
     "name": "stderr",
     "output_type": "stream",
     "text": [
      "Setting `pad_token_id` to `eos_token_id`:50256 for open-end generation.\n"
     ]
    },
    {
     "name": "stdout",
     "output_type": "stream",
     "text": [
      "2 type with limited mobility/range -> prevent object from getting into contact with unwanted substances 985 0.3\n",
      "----------------------------------------\n"
     ]
    },
    {
     "name": "stderr",
     "output_type": "stream",
     "text": [
      "Setting `pad_token_id` to `eos_token_id`:50256 for open-end generation.\n"
     ]
    },
    {
     "name": "stdout",
     "output_type": "stream",
     "text": [
      "3 type with limited mobility/range -> Prevent object from getting into contact with unwanted substances 1009 0.3\n",
      "----------------------------------------\n"
     ]
    },
    {
     "name": "stderr",
     "output_type": "stream",
     "text": [
      "Setting `pad_token_id` to `eos_token_id`:50256 for open-end generation.\n"
     ]
    },
    {
     "name": "stdout",
     "output_type": "stream",
     "text": [
      "4 type with limited mobility/range -> Prevent object from getting into contact with unwanted substances 1033 0.3\n",
      "----------------------------------------\n"
     ]
    },
    {
     "name": "stderr",
     "output_type": "stream",
     "text": [
      "Setting `pad_token_id` to `eos_token_id`:50256 for open-end generation.\n"
     ]
    },
    {
     "name": "stdout",
     "output_type": "stream",
     "text": [
      "5 type with limited mobility/range -> prevent water from entering a space 1057 0.3\n",
      "----------------------------------------\n"
     ]
    },
    {
     "name": "stderr",
     "output_type": "stream",
     "text": [
      "Setting `pad_token_id` to `eos_token_id`:50256 for open-end generation.\n"
     ]
    },
    {
     "name": "stdout",
     "output_type": "stream",
     "text": [
      "6 type with limited mobility/range -> Prevent object from getting into contact with unwanted substances 1081 0.3\n",
      "----------------------------------------\n"
     ]
    },
    {
     "name": "stderr",
     "output_type": "stream",
     "text": [
      "Setting `pad_token_id` to `eos_token_id`:50256 for open-end generation.\n"
     ]
    },
    {
     "name": "stdout",
     "output_type": "stream",
     "text": [
      "7 type with limited mobility/range -> prevent mobility/range from getting into contact with foreign objects 1105 0.3\n",
      "----------------------------------------\n"
     ]
    },
    {
     "name": "stderr",
     "output_type": "stream",
     "text": [
      "Setting `pad_token_id` to `eos_token_id`:50256 for open-end generation.\n"
     ]
    },
    {
     "name": "stdout",
     "output_type": "stream",
     "text": [
      "8 type with limited mobility/range -> Prevent object from getting into contact with unwanted substances 1129 0.3\n",
      "----------------------------------------\n"
     ]
    },
    {
     "name": "stderr",
     "output_type": "stream",
     "text": [
      "Setting `pad_token_id` to `eos_token_id`:50256 for open-end generation.\n"
     ]
    },
    {
     "name": "stdout",
     "output_type": "stream",
     "text": [
      "9 type with limited mobility/range -> Prevent object from getting into contact with unwanted substances 1153 0.3\n",
      "----------------------------------------\n"
     ]
    },
    {
     "name": "stderr",
     "output_type": "stream",
     "text": [
      "Setting `pad_token_id` to `eos_token_id`:50256 for open-end generation.\n"
     ]
    },
    {
     "name": "stdout",
     "output_type": "stream",
     "text": [
      "10 type with limited mobility/range -> prevent the use of a motorbike in the field 1178 0.3\n",
      "----------------------------------------\n"
     ]
    },
    {
     "name": "stderr",
     "output_type": "stream",
     "text": [
      "Setting `pad_token_id` to `eos_token_id`:50256 for open-end generation.\n"
     ]
    },
    {
     "name": "stdout",
     "output_type": "stream",
     "text": [
      "11 type with limited mobility/range -> Protect object from radiation 1202 0.3\n",
      "----------------------------------------\n"
     ]
    },
    {
     "name": "stderr",
     "output_type": "stream",
     "text": [
      "Setting `pad_token_id` to `eos_token_id`:50256 for open-end generation.\n"
     ]
    },
    {
     "name": "stdout",
     "output_type": "stream",
     "text": [
      "12 type with limited mobility/range -> Prevent the user from getting into contact with objects 1226 0.3\n",
      "----------------------------------------\n"
     ]
    },
    {
     "name": "stderr",
     "output_type": "stream",
     "text": [
      "Setting `pad_token_id` to `eos_token_id`:50256 for open-end generation.\n"
     ]
    },
    {
     "name": "stdout",
     "output_type": "stream",
     "text": [
      "13 type with limited mobility/range -> Prevent object from getting into contact with unwanted substances 1249 0.3\n",
      "----------------------------------------\n"
     ]
    },
    {
     "name": "stderr",
     "output_type": "stream",
     "text": [
      "Setting `pad_token_id` to `eos_token_id`:50256 for open-end generation.\n"
     ]
    },
    {
     "name": "stdout",
     "output_type": "stream",
     "text": [
      "14 type with limited mobility/range -> prevent children from getting into a room 1273 0.3\n",
      "----------------------------------------\n"
     ]
    },
    {
     "name": "stderr",
     "output_type": "stream",
     "text": [
      "Setting `pad_token_id` to `eos_token_id`:50256 for open-end generation.\n"
     ]
    },
    {
     "name": "stdout",
     "output_type": "stream",
     "text": [
      "15 type with limited mobility/range -> Prevent the movement of objects 1297 0.3\n",
      "----------------------------------------\n"
     ]
    },
    {
     "name": "stderr",
     "output_type": "stream",
     "text": [
      "Setting `pad_token_id` to `eos_token_id`:50256 for open-end generation.\n"
     ]
    },
    {
     "name": "stdout",
     "output_type": "stream",
     "text": [
      "16 type with limited mobility/range -> Prevent object from getting into contact with unwanted substances 1322 0.3\n",
      "----------------------------------------\n"
     ]
    },
    {
     "name": "stderr",
     "output_type": "stream",
     "text": [
      "Setting `pad_token_id` to `eos_token_id`:50256 for open-end generation.\n"
     ]
    },
    {
     "name": "stdout",
     "output_type": "stream",
     "text": [
      "17 type with limited mobility/range -> Enable a broom to clean in hard to reach places 1347 0.3\n",
      "----------------------------------------\n"
     ]
    },
    {
     "name": "stderr",
     "output_type": "stream",
     "text": [
      "Setting `pad_token_id` to `eos_token_id`:50256 for open-end generation.\n"
     ]
    },
    {
     "name": "stdout",
     "output_type": "stream",
     "text": [
      "18 type with limited mobility/range -> Prevent objects from getting into contact with unwanted substances 1371 0.3\n",
      "----------------------------------------\n"
     ]
    },
    {
     "name": "stderr",
     "output_type": "stream",
     "text": [
      "Setting `pad_token_id` to `eos_token_id`:50256 for open-end generation.\n"
     ]
    },
    {
     "name": "stdout",
     "output_type": "stream",
     "text": [
      "19 type with limited mobility/range -> Make a device with a limited range of motion 1394 0.3\n",
      "----------------------------------------\n"
     ]
    },
    {
     "name": "stderr",
     "output_type": "stream",
     "text": [
      "Setting `pad_token_id` to `eos_token_id`:50256 for open-end generation.\n"
     ]
    },
    {
     "name": "stdout",
     "output_type": "stream",
     "text": [
      "20 type with limited mobility/range -> prevent walking in a confined space 1419 0.3\n",
      "----------------------------------------\n"
     ]
    },
    {
     "name": "stderr",
     "output_type": "stream",
     "text": [
      "Setting `pad_token_id` to `eos_token_id`:50256 for open-end generation.\n"
     ]
    },
    {
     "name": "stdout",
     "output_type": "stream",
     "text": [
      "1 type with limited mobility/range -> Prevent object from getting into contact with unwanted substances 1442 0.4\n",
      "----------------------------------------\n"
     ]
    },
    {
     "name": "stderr",
     "output_type": "stream",
     "text": [
      "Setting `pad_token_id` to `eos_token_id`:50256 for open-end generation.\n"
     ]
    },
    {
     "name": "stdout",
     "output_type": "stream",
     "text": [
      "2 type with limited mobility/range -> prevent object from getting into contact with foreign substances 1467 0.4\n",
      "----------------------------------------\n"
     ]
    },
    {
     "name": "stderr",
     "output_type": "stream",
     "text": [
      "Setting `pad_token_id` to `eos_token_id`:50256 for open-end generation.\n"
     ]
    },
    {
     "name": "stdout",
     "output_type": "stream",
     "text": [
      "3 type with limited mobility/range -> prevent the user from getting into contact with objects 1491 0.4\n",
      "----------------------------------------\n"
     ]
    },
    {
     "name": "stderr",
     "output_type": "stream",
     "text": [
      "Setting `pad_token_id` to `eos_token_id`:50256 for open-end generation.\n"
     ]
    },
    {
     "name": "stdout",
     "output_type": "stream",
     "text": [
      "4 type with limited mobility/range -> Prevent object from getting into contact with unwanted substances 1516 0.4\n",
      "----------------------------------------\n"
     ]
    },
    {
     "name": "stderr",
     "output_type": "stream",
     "text": [
      "Setting `pad_token_id` to `eos_token_id`:50256 for open-end generation.\n"
     ]
    },
    {
     "name": "stdout",
     "output_type": "stream",
     "text": [
      "5 type with limited mobility/range -> Protect vulnerable object from radiation 1541 0.4\n",
      "----------------------------------------\n"
     ]
    },
    {
     "name": "stderr",
     "output_type": "stream",
     "text": [
      "Setting `pad_token_id` to `eos_token_id`:50256 for open-end generation.\n"
     ]
    },
    {
     "name": "stdout",
     "output_type": "stream",
     "text": [
      "6 type with limited mobility/range -> prevent children from getting wet 1566 0.4\n",
      "----------------------------------------\n"
     ]
    },
    {
     "name": "stderr",
     "output_type": "stream",
     "text": [
      "Setting `pad_token_id` to `eos_token_id`:50256 for open-end generation.\n"
     ]
    },
    {
     "name": "stdout",
     "output_type": "stream",
     "text": [
      "7 type with limited mobility/range -> Increase the mobility of objects 1590 0.4\n",
      "----------------------------------------\n"
     ]
    },
    {
     "name": "stderr",
     "output_type": "stream",
     "text": [
      "Setting `pad_token_id` to `eos_token_id`:50256 for open-end generation.\n"
     ]
    },
    {
     "name": "stdout",
     "output_type": "stream",
     "text": [
      "8 type with limited mobility/range -> prevent object from getting into contact with unwanted substances 1614 0.4\n",
      "----------------------------------------\n"
     ]
    },
    {
     "name": "stderr",
     "output_type": "stream",
     "text": [
      "Setting `pad_token_id` to `eos_token_id`:50256 for open-end generation.\n"
     ]
    },
    {
     "name": "stdout",
     "output_type": "stream",
     "text": [
      "9 type with limited mobility/range -> prevent object from getting into contact with unwanted substances 1639 0.4\n",
      "----------------------------------------\n"
     ]
    },
    {
     "name": "stderr",
     "output_type": "stream",
     "text": [
      "Setting `pad_token_id` to `eos_token_id`:50256 for open-end generation.\n"
     ]
    },
    {
     "name": "stdout",
     "output_type": "stream",
     "text": [
      "10 type with limited mobility/range -> Prevent object from getting into contact with unwanted substances 1662 0.4\n",
      "----------------------------------------\n"
     ]
    },
    {
     "name": "stderr",
     "output_type": "stream",
     "text": [
      "Setting `pad_token_id` to `eos_token_id`:50256 for open-end generation.\n"
     ]
    },
    {
     "name": "stdout",
     "output_type": "stream",
     "text": [
      "11 type with limited mobility/range -> Prevent object from getting into contact with unwanted substances 1686 0.4\n",
      "----------------------------------------\n"
     ]
    },
    {
     "name": "stderr",
     "output_type": "stream",
     "text": [
      "Setting `pad_token_id` to `eos_token_id`:50256 for open-end generation.\n"
     ]
    },
    {
     "name": "stdout",
     "output_type": "stream",
     "text": [
      "12 type with limited mobility/range -> Prevent object from getting into contact with unwanted substances 1710 0.4\n",
      "----------------------------------------\n"
     ]
    },
    {
     "name": "stderr",
     "output_type": "stream",
     "text": [
      "Setting `pad_token_id` to `eos_token_id`:50256 for open-end generation.\n"
     ]
    },
    {
     "name": "stdout",
     "output_type": "stream",
     "text": [
      "13 type with limited mobility/range -> prevent the surface from being covered by foreign objects 1734 0.4\n",
      "----------------------------------------\n"
     ]
    },
    {
     "name": "stderr",
     "output_type": "stream",
     "text": [
      "Setting `pad_token_id` to `eos_token_id`:50256 for open-end generation.\n"
     ]
    },
    {
     "name": "stdout",
     "output_type": "stream",
     "text": [
      "14 type with limited mobility/range -> prevent object from getting into contact with unwanted substances 1758 0.4\n",
      "----------------------------------------\n"
     ]
    },
    {
     "name": "stderr",
     "output_type": "stream",
     "text": [
      "Setting `pad_token_id` to `eos_token_id`:50256 for open-end generation.\n"
     ]
    },
    {
     "name": "stdout",
     "output_type": "stream",
     "text": [
      "15 type with limited mobility/range -> Prevent object from getting into contact with unwanted substances 1783 0.4\n",
      "----------------------------------------\n"
     ]
    },
    {
     "name": "stderr",
     "output_type": "stream",
     "text": [
      "Setting `pad_token_id` to `eos_token_id`:50256 for open-end generation.\n"
     ]
    },
    {
     "name": "stdout",
     "output_type": "stream",
     "text": [
      "16 type with limited mobility/range -> Prevent a child from getting into a room 1806 0.4\n",
      "----------------------------------------\n"
     ]
    },
    {
     "name": "stderr",
     "output_type": "stream",
     "text": [
      "Setting `pad_token_id` to `eos_token_id`:50256 for open-end generation.\n"
     ]
    },
    {
     "name": "stdout",
     "output_type": "stream",
     "text": [
      "17 type with limited mobility/range -> Protect object from radiation 1830 0.4\n",
      "----------------------------------------\n"
     ]
    },
    {
     "name": "stderr",
     "output_type": "stream",
     "text": [
      "Setting `pad_token_id` to `eos_token_id`:50256 for open-end generation.\n"
     ]
    },
    {
     "name": "stdout",
     "output_type": "stream",
     "text": [
      "18 type with limited mobility/range -> Prevent object from getting into contact with unwanted substances 1854 0.4\n",
      "----------------------------------------\n"
     ]
    },
    {
     "name": "stderr",
     "output_type": "stream",
     "text": [
      "Setting `pad_token_id` to `eos_token_id`:50256 for open-end generation.\n"
     ]
    },
    {
     "name": "stdout",
     "output_type": "stream",
     "text": [
      "19 type with limited mobility/range -> Prevent objects from getting into contact with unwanted substances 1879 0.4\n",
      "----------------------------------------\n"
     ]
    },
    {
     "name": "stderr",
     "output_type": "stream",
     "text": [
      "Setting `pad_token_id` to `eos_token_id`:50256 for open-end generation.\n"
     ]
    },
    {
     "name": "stdout",
     "output_type": "stream",
     "text": [
      "20 type with limited mobility/range -> Protect vulnerable object from radiation 1902 0.4\n",
      "----------------------------------------\n"
     ]
    },
    {
     "name": "stderr",
     "output_type": "stream",
     "text": [
      "Setting `pad_token_id` to `eos_token_id`:50256 for open-end generation.\n"
     ]
    },
    {
     "name": "stdout",
     "output_type": "stream",
     "text": [
      "1 type with limited mobility/range -> Prevent the user from getting into contact with unwanted substances 1926 0.5\n",
      "----------------------------------------\n"
     ]
    },
    {
     "name": "stderr",
     "output_type": "stream",
     "text": [
      "Setting `pad_token_id` to `eos_token_id`:50256 for open-end generation.\n"
     ]
    },
    {
     "name": "stdout",
     "output_type": "stream",
     "text": [
      "2 type with limited mobility/range -> Use a machine to control the movement of the object 1950 0.5\n",
      "----------------------------------------\n"
     ]
    },
    {
     "name": "stderr",
     "output_type": "stream",
     "text": [
      "Setting `pad_token_id` to `eos_token_id`:50256 for open-end generation.\n"
     ]
    },
    {
     "name": "stdout",
     "output_type": "stream",
     "text": [
      "3 type with limited mobility/range -> make a thin layer of metal on a surface 1974 0.5\n",
      "----------------------------------------\n"
     ]
    },
    {
     "name": "stderr",
     "output_type": "stream",
     "text": [
      "Setting `pad_token_id` to `eos_token_id`:50256 for open-end generation.\n"
     ]
    },
    {
     "name": "stdout",
     "output_type": "stream",
     "text": [
      "4 type with limited mobility/range -> Prevent object from getting into contact with unwanted substances 1997 0.5\n",
      "----------------------------------------\n"
     ]
    },
    {
     "name": "stderr",
     "output_type": "stream",
     "text": [
      "Setting `pad_token_id` to `eos_token_id`:50256 for open-end generation.\n"
     ]
    },
    {
     "name": "stdout",
     "output_type": "stream",
     "text": [
      "5 type with limited mobility/range -> Prevent object from getting into contact with unwanted substances 2021 0.5\n",
      "----------------------------------------\n"
     ]
    },
    {
     "name": "stderr",
     "output_type": "stream",
     "text": [
      "Setting `pad_token_id` to `eos_token_id`:50256 for open-end generation.\n"
     ]
    },
    {
     "name": "stdout",
     "output_type": "stream",
     "text": [
      "6 type with limited mobility/range -> add a new object to the form of a ball 2045 0.5\n",
      "----------------------------------------\n"
     ]
    },
    {
     "name": "stderr",
     "output_type": "stream",
     "text": [
      "Setting `pad_token_id` to `eos_token_id`:50256 for open-end generation.\n"
     ]
    },
    {
     "name": "stdout",
     "output_type": "stream",
     "text": [
      "7 type with limited mobility/range -> Stop object from getting into contact with unwanted substances 2069 0.5\n",
      "----------------------------------------\n"
     ]
    },
    {
     "name": "stderr",
     "output_type": "stream",
     "text": [
      "Setting `pad_token_id` to `eos_token_id`:50256 for open-end generation.\n"
     ]
    },
    {
     "name": "stdout",
     "output_type": "stream",
     "text": [
      "8 type with limited mobility/range -> Increase the physical reach of a tool 2092 0.5\n",
      "----------------------------------------\n"
     ]
    },
    {
     "name": "stderr",
     "output_type": "stream",
     "text": [
      "Setting `pad_token_id` to `eos_token_id`:50256 for open-end generation.\n"
     ]
    },
    {
     "name": "stdout",
     "output_type": "stream",
     "text": [
      "9 type with limited mobility/range -> Reduce the mobility of objects 2116 0.5\n",
      "----------------------------------------\n"
     ]
    },
    {
     "name": "stderr",
     "output_type": "stream",
     "text": [
      "Setting `pad_token_id` to `eos_token_id`:50256 for open-end generation.\n"
     ]
    },
    {
     "name": "stdout",
     "output_type": "stream",
     "text": [
      "10 type with limited mobility/range -> prevent object from getting into contact with foreign substances 2140 0.5\n",
      "----------------------------------------\n"
     ]
    },
    {
     "name": "stderr",
     "output_type": "stream",
     "text": [
      "Setting `pad_token_id` to `eos_token_id`:50256 for open-end generation.\n"
     ]
    },
    {
     "name": "stdout",
     "output_type": "stream",
     "text": [
      "11 type with limited mobility/range -> protect object from radiation 2165 0.5\n",
      "----------------------------------------\n"
     ]
    },
    {
     "name": "stderr",
     "output_type": "stream",
     "text": [
      "Setting `pad_token_id` to `eos_token_id`:50256 for open-end generation.\n"
     ]
    },
    {
     "name": "stdout",
     "output_type": "stream",
     "text": [
      "12 type with limited mobility/range -> prevent the use of a motor to move a large object 2189 0.5\n",
      "----------------------------------------\n"
     ]
    },
    {
     "name": "stderr",
     "output_type": "stream",
     "text": [
      "Setting `pad_token_id` to `eos_token_id`:50256 for open-end generation.\n"
     ]
    },
    {
     "name": "stdout",
     "output_type": "stream",
     "text": [
      "13 type with limited mobility/range -> prevent child from getting into contact with objects 2214 0.5\n",
      "----------------------------------------\n"
     ]
    },
    {
     "name": "stderr",
     "output_type": "stream",
     "text": [
      "Setting `pad_token_id` to `eos_token_id`:50256 for open-end generation.\n"
     ]
    },
    {
     "name": "stdout",
     "output_type": "stream",
     "text": [
      "14 type with limited mobility/range -> Prevent object from getting into contact with unwanted substances 2238 0.5\n",
      "----------------------------------------\n"
     ]
    },
    {
     "name": "stderr",
     "output_type": "stream",
     "text": [
      "Setting `pad_token_id` to `eos_token_id`:50256 for open-end generation.\n"
     ]
    },
    {
     "name": "stdout",
     "output_type": "stream",
     "text": [
      "15 type with limited mobility/range -> prevent children from getting into bed 2262 0.5\n",
      "----------------------------------------\n"
     ]
    },
    {
     "name": "stderr",
     "output_type": "stream",
     "text": [
      "Setting `pad_token_id` to `eos_token_id`:50256 for open-end generation.\n"
     ]
    },
    {
     "name": "stdout",
     "output_type": "stream",
     "text": [
      "16 type with limited mobility/range -> make house out of cooked spaghetti 2286 0.5\n",
      "----------------------------------------\n"
     ]
    },
    {
     "name": "stderr",
     "output_type": "stream",
     "text": [
      "Setting `pad_token_id` to `eos_token_id`:50256 for open-end generation.\n"
     ]
    },
    {
     "name": "stdout",
     "output_type": "stream",
     "text": [
      "17 type with limited mobility/range -> Reduce the mobility of a device 2310 0.5\n",
      "----------------------------------------\n"
     ]
    },
    {
     "name": "stderr",
     "output_type": "stream",
     "text": [
      "Setting `pad_token_id` to `eos_token_id`:50256 for open-end generation.\n"
     ]
    },
    {
     "name": "stdout",
     "output_type": "stream",
     "text": [
      "18 type with limited mobility/range -> Reduce the number of objects in a space 2334 0.5\n",
      "----------------------------------------\n"
     ]
    },
    {
     "name": "stderr",
     "output_type": "stream",
     "text": [
      "Setting `pad_token_id` to `eos_token_id`:50256 for open-end generation.\n"
     ]
    },
    {
     "name": "stdout",
     "output_type": "stream",
     "text": [
      "19 type with limited mobility/range -> Prevent objects from getting into contact with unwanted substances 2358 0.5\n",
      "----------------------------------------\n"
     ]
    },
    {
     "name": "stderr",
     "output_type": "stream",
     "text": [
      "Setting `pad_token_id` to `eos_token_id`:50256 for open-end generation.\n"
     ]
    },
    {
     "name": "stdout",
     "output_type": "stream",
     "text": [
      "20 type with limited mobility/range -> Prevent object from getting into contact with unwanted substances 2383 0.5\n",
      "----------------------------------------\n"
     ]
    },
    {
     "name": "stderr",
     "output_type": "stream",
     "text": [
      "Setting `pad_token_id` to `eos_token_id`:50256 for open-end generation.\n"
     ]
    },
    {
     "name": "stdout",
     "output_type": "stream",
     "text": [
      "1 type with limited mobility/range -> Prevent objects from getting into contact with various objects 2407 0.6\n",
      "----------------------------------------\n"
     ]
    },
    {
     "name": "stderr",
     "output_type": "stream",
     "text": [
      "Setting `pad_token_id` to `eos_token_id`:50256 for open-end generation.\n"
     ]
    },
    {
     "name": "stdout",
     "output_type": "stream",
     "text": [
      "2 type with limited mobility/range -> Use a mechanical force to control the movement of a robot 2431 0.6\n",
      "----------------------------------------\n"
     ]
    },
    {
     "name": "stderr",
     "output_type": "stream",
     "text": [
      "Setting `pad_token_id` to `eos_token_id`:50256 for open-end generation.\n"
     ]
    },
    {
     "name": "stdout",
     "output_type": "stream",
     "text": [
      "3 type with limited mobility/range -> Increase the physical reach of a tool 2455 0.6\n",
      "----------------------------------------\n"
     ]
    },
    {
     "name": "stderr",
     "output_type": "stream",
     "text": [
      "Setting `pad_token_id` to `eos_token_id`:50256 for open-end generation.\n"
     ]
    },
    {
     "name": "stdout",
     "output_type": "stream",
     "text": [
      "4 type with limited mobility/range -> prevent object from getting into contact with foreign objects 2478 0.6\n",
      "----------------------------------------\n"
     ]
    },
    {
     "name": "stderr",
     "output_type": "stream",
     "text": [
      "Setting `pad_token_id` to `eos_token_id`:50256 for open-end generation.\n"
     ]
    },
    {
     "name": "stdout",
     "output_type": "stream",
     "text": [
      "5 type with limited mobility/range -> Prevent from getting wet 2502 0.6\n",
      "----------------------------------------\n"
     ]
    },
    {
     "name": "stderr",
     "output_type": "stream",
     "text": [
      "Setting `pad_token_id` to `eos_token_id`:50256 for open-end generation.\n"
     ]
    },
    {
     "name": "stdout",
     "output_type": "stream",
     "text": [
      "6 type with limited mobility/range -> protect object from radiation 2526 0.6\n",
      "----------------------------------------\n"
     ]
    },
    {
     "name": "stderr",
     "output_type": "stream",
     "text": [
      "Setting `pad_token_id` to `eos_token_id`:50256 for open-end generation.\n"
     ]
    },
    {
     "name": "stdout",
     "output_type": "stream",
     "text": [
      "7 type with limited mobility/range -> Prevent the user from getting into contact with unwanted substances 2551 0.6\n",
      "----------------------------------------\n"
     ]
    },
    {
     "name": "stderr",
     "output_type": "stream",
     "text": [
      "Setting `pad_token_id` to `eos_token_id`:50256 for open-end generation.\n"
     ]
    },
    {
     "name": "stdout",
     "output_type": "stream",
     "text": [
      "8 type with limited mobility/range -> Improve the mobility of an object by removing the object 2574 0.6\n",
      "----------------------------------------\n"
     ]
    },
    {
     "name": "stderr",
     "output_type": "stream",
     "text": [
      "Setting `pad_token_id` to `eos_token_id`:50256 for open-end generation.\n"
     ]
    },
    {
     "name": "stdout",
     "output_type": "stream",
     "text": [
      "9 type with limited mobility/range -> prevent the body from moving in a narrow space 2599 0.6\n",
      "----------------------------------------\n"
     ]
    },
    {
     "name": "stderr",
     "output_type": "stream",
     "text": [
      "Setting `pad_token_id` to `eos_token_id`:50256 for open-end generation.\n"
     ]
    },
    {
     "name": "stdout",
     "output_type": "stream",
     "text": [
      "10 type with limited mobility/range -> prevent objects from moving in a confined space 2623 0.6\n",
      "----------------------------------------\n"
     ]
    },
    {
     "name": "stderr",
     "output_type": "stream",
     "text": [
      "Setting `pad_token_id` to `eos_token_id`:50256 for open-end generation.\n"
     ]
    },
    {
     "name": "stdout",
     "output_type": "stream",
     "text": [
      "11 type with limited mobility/range -> prevent walking on flexible surfaces 2647 0.6\n",
      "----------------------------------------\n"
     ]
    },
    {
     "name": "stderr",
     "output_type": "stream",
     "text": [
      "Setting `pad_token_id` to `eos_token_id`:50256 for open-end generation.\n"
     ]
    },
    {
     "name": "stdout",
     "output_type": "stream",
     "text": [
      "12 type with limited mobility/range -> prevent body from getting into contact with unwanted substances 2671 0.6\n",
      "----------------------------------------\n"
     ]
    },
    {
     "name": "stderr",
     "output_type": "stream",
     "text": [
      "Setting `pad_token_id` to `eos_token_id`:50256 for open-end generation.\n"
     ]
    },
    {
     "name": "stdout",
     "output_type": "stream",
     "text": [
      "13 type with limited mobility/range -> Prevent motion from getting into contact with objects 2695 0.6\n",
      "----------------------------------------\n"
     ]
    },
    {
     "name": "stderr",
     "output_type": "stream",
     "text": [
      "Setting `pad_token_id` to `eos_token_id`:50256 for open-end generation.\n"
     ]
    },
    {
     "name": "stdout",
     "output_type": "stream",
     "text": [
      "14 type with limited mobility/range -> prevent movement of objects in a restricted space 2719 0.6\n",
      "----------------------------------------\n"
     ]
    },
    {
     "name": "stderr",
     "output_type": "stream",
     "text": [
      "Setting `pad_token_id` to `eos_token_id`:50256 for open-end generation.\n"
     ]
    },
    {
     "name": "stdout",
     "output_type": "stream",
     "text": [
      "15 type with limited mobility/range -> prevent the use of a portable device 2744 0.6\n",
      "----------------------------------------\n"
     ]
    },
    {
     "name": "stderr",
     "output_type": "stream",
     "text": [
      "Setting `pad_token_id` to `eos_token_id`:50256 for open-end generation.\n"
     ]
    },
    {
     "name": "stdout",
     "output_type": "stream",
     "text": [
      "16 type with limited mobility/range -> prevent object from getting into contact with unwanted substances 2768 0.6\n",
      "----------------------------------------\n"
     ]
    },
    {
     "name": "stderr",
     "output_type": "stream",
     "text": [
      "Setting `pad_token_id` to `eos_token_id`:50256 for open-end generation.\n"
     ]
    },
    {
     "name": "stdout",
     "output_type": "stream",
     "text": [
      "17 type with limited mobility/range -> Prevent object from getting into contact with unwanted substances 2792 0.6\n",
      "----------------------------------------\n"
     ]
    },
    {
     "name": "stderr",
     "output_type": "stream",
     "text": [
      "Setting `pad_token_id` to `eos_token_id`:50256 for open-end generation.\n"
     ]
    },
    {
     "name": "stdout",
     "output_type": "stream",
     "text": [
      "18 type with limited mobility/range -> limit the mobility of a device to a single range 2816 0.6\n",
      "----------------------------------------\n"
     ]
    },
    {
     "name": "stderr",
     "output_type": "stream",
     "text": [
      "Setting `pad_token_id` to `eos_token_id`:50256 for open-end generation.\n"
     ]
    },
    {
     "name": "stdout",
     "output_type": "stream",
     "text": [
      "19 type with limited mobility/range -> prevent movement of objects with a limited range 2841 0.6\n",
      "----------------------------------------\n"
     ]
    },
    {
     "name": "stderr",
     "output_type": "stream",
     "text": [
      "Setting `pad_token_id` to `eos_token_id`:50256 for open-end generation.\n"
     ]
    },
    {
     "name": "stdout",
     "output_type": "stream",
     "text": [
      "20 type with limited mobility/range -> Make room for a ball and a table 2864 0.6\n",
      "----------------------------------------\n"
     ]
    },
    {
     "name": "stderr",
     "output_type": "stream",
     "text": [
      "Setting `pad_token_id` to `eos_token_id`:50256 for open-end generation.\n"
     ]
    },
    {
     "name": "stdout",
     "output_type": "stream",
     "text": [
      "1 type with limited mobility/range -> type with limited mobility/range 2888 0.7\n",
      "----------------------------------------\n"
     ]
    },
    {
     "name": "stderr",
     "output_type": "stream",
     "text": [
      "Setting `pad_token_id` to `eos_token_id`:50256 for open-end generation.\n"
     ]
    },
    {
     "name": "stdout",
     "output_type": "stream",
     "text": [
      "2 type with limited mobility/range -> make a house out of clean glass 2912 0.7\n",
      "----------------------------------------\n"
     ]
    },
    {
     "name": "stderr",
     "output_type": "stream",
     "text": [
      "Setting `pad_token_id` to `eos_token_id`:50256 for open-end generation.\n"
     ]
    },
    {
     "name": "stdout",
     "output_type": "stream",
     "text": [
      "3 type with limited mobility/range -> Move to the next step 2937 0.7\n",
      "----------------------------------------\n"
     ]
    },
    {
     "name": "stderr",
     "output_type": "stream",
     "text": [
      "Setting `pad_token_id` to `eos_token_id`:50256 for open-end generation.\n"
     ]
    },
    {
     "name": "stdout",
     "output_type": "stream",
     "text": [
      "4 type with limited mobility/range -> create a hole in an object without causing an unwanted noise 2962 0.7\n",
      "----------------------------------------\n"
     ]
    },
    {
     "name": "stderr",
     "output_type": "stream",
     "text": [
      "Setting `pad_token_id` to `eos_token_id`:50256 for open-end generation.\n"
     ]
    },
    {
     "name": "stdout",
     "output_type": "stream",
     "text": [
      "5 type with limited mobility/range -> change the physical dimensions of objects on the fly 2986 0.7\n",
      "----------------------------------------\n"
     ]
    },
    {
     "name": "stderr",
     "output_type": "stream",
     "text": [
      "Setting `pad_token_id` to `eos_token_id`:50256 for open-end generation.\n"
     ]
    },
    {
     "name": "stdout",
     "output_type": "stream",
     "text": [
      "6 type with limited mobility/range -> prevent the human body from being displaced 3010 0.7\n",
      "----------------------------------------\n"
     ]
    },
    {
     "name": "stderr",
     "output_type": "stream",
     "text": [
      "Setting `pad_token_id` to `eos_token_id`:50256 for open-end generation.\n"
     ]
    },
    {
     "name": "stdout",
     "output_type": "stream",
     "text": [
      "7 type with limited mobility/range -> Make the object with a limited range 3034 0.7\n",
      "----------------------------------------\n"
     ]
    },
    {
     "name": "stderr",
     "output_type": "stream",
     "text": [
      "Setting `pad_token_id` to `eos_token_id`:50256 for open-end generation.\n"
     ]
    },
    {
     "name": "stdout",
     "output_type": "stream",
     "text": [
      "8 type with limited mobility/range -> Prevent the user from getting in contact with unwanted substances 3058 0.7\n",
      "----------------------------------------\n"
     ]
    },
    {
     "name": "stderr",
     "output_type": "stream",
     "text": [
      "Setting `pad_token_id` to `eos_token_id`:50256 for open-end generation.\n"
     ]
    },
    {
     "name": "stdout",
     "output_type": "stream",
     "text": [
      "9 type with limited mobility/range -> increase mobility to keep the body stable 3083 0.7\n",
      "----------------------------------------\n"
     ]
    },
    {
     "name": "stderr",
     "output_type": "stream",
     "text": [
      "Setting `pad_token_id` to `eos_token_id`:50256 for open-end generation.\n"
     ]
    },
    {
     "name": "stdout",
     "output_type": "stream",
     "text": [
      "10 type with limited mobility/range -> Make a house out of hot-air-conditioned air 3107 0.7\n",
      "----------------------------------------\n"
     ]
    },
    {
     "name": "stderr",
     "output_type": "stream",
     "text": [
      "Setting `pad_token_id` to `eos_token_id`:50256 for open-end generation.\n"
     ]
    },
    {
     "name": "stdout",
     "output_type": "stream",
     "text": [
      "11 type with limited mobility/range -> Enable a broom to clean in hard to reach places 3132 0.7\n",
      "----------------------------------------\n"
     ]
    },
    {
     "name": "stderr",
     "output_type": "stream",
     "text": [
      "Setting `pad_token_id` to `eos_token_id`:50256 for open-end generation.\n"
     ]
    },
    {
     "name": "stdout",
     "output_type": "stream",
     "text": [
      "12 type with limited mobility/range -> Prevent object from getting into contact with unwanted substances 3155 0.7\n",
      "----------------------------------------\n"
     ]
    },
    {
     "name": "stderr",
     "output_type": "stream",
     "text": [
      "Setting `pad_token_id` to `eos_token_id`:50256 for open-end generation.\n"
     ]
    },
    {
     "name": "stdout",
     "output_type": "stream",
     "text": [
      "13 type with limited mobility/range -> prevent children from getting into trouble 3180 0.7\n",
      "----------------------------------------\n"
     ]
    },
    {
     "name": "stderr",
     "output_type": "stream",
     "text": [
      "Setting `pad_token_id` to `eos_token_id`:50256 for open-end generation.\n"
     ]
    },
    {
     "name": "stdout",
     "output_type": "stream",
     "text": [
      "14 type with limited mobility/range -> Enable particles to flow to a confined space 3204 0.7\n",
      "----------------------------------------\n"
     ]
    },
    {
     "name": "stderr",
     "output_type": "stream",
     "text": [
      "Setting `pad_token_id` to `eos_token_id`:50256 for open-end generation.\n"
     ]
    },
    {
     "name": "stdout",
     "output_type": "stream",
     "text": [
      "15 type with limited mobility/range -> Add a body to a bicycle 3228 0.7\n",
      "----------------------------------------\n"
     ]
    },
    {
     "name": "stderr",
     "output_type": "stream",
     "text": [
      "Setting `pad_token_id` to `eos_token_id`:50256 for open-end generation.\n"
     ]
    },
    {
     "name": "stdout",
     "output_type": "stream",
     "text": [
      "16 type with limited mobility/range -> Protect object from radiation 3252 0.7\n",
      "----------------------------------------\n"
     ]
    },
    {
     "name": "stderr",
     "output_type": "stream",
     "text": [
      "Setting `pad_token_id` to `eos_token_id`:50256 for open-end generation.\n"
     ]
    },
    {
     "name": "stdout",
     "output_type": "stream",
     "text": [
      "17 type with limited mobility/range -> stop the mobility of objects in the field 3276 0.7\n",
      "----------------------------------------\n"
     ]
    },
    {
     "name": "stderr",
     "output_type": "stream",
     "text": [
      "Setting `pad_token_id` to `eos_token_id`:50256 for open-end generation.\n"
     ]
    },
    {
     "name": "stdout",
     "output_type": "stream",
     "text": [
      "18 type with limited mobility/range -> Prevent object from getting into contact with unwanted substances 3300 0.7\n",
      "----------------------------------------\n"
     ]
    },
    {
     "name": "stderr",
     "output_type": "stream",
     "text": [
      "Setting `pad_token_id` to `eos_token_id`:50256 for open-end generation.\n"
     ]
    },
    {
     "name": "stdout",
     "output_type": "stream",
     "text": [
      "19 type with limited mobility/range -> Prevent object from getting into contact with unwanted substances 3323 0.7\n",
      "----------------------------------------\n"
     ]
    },
    {
     "name": "stderr",
     "output_type": "stream",
     "text": [
      "Setting `pad_token_id` to `eos_token_id`:50256 for open-end generation.\n"
     ]
    },
    {
     "name": "stdout",
     "output_type": "stream",
     "text": [
      "20 type with limited mobility/range -> Reduce size of objects by moving from the front to the back 3347 0.7\n",
      "----------------------------------------\n"
     ]
    },
    {
     "name": "stderr",
     "output_type": "stream",
     "text": [
      "Setting `pad_token_id` to `eos_token_id`:50256 for open-end generation.\n"
     ]
    },
    {
     "name": "stdout",
     "output_type": "stream",
     "text": [
      "1 type with limited mobility/range -> prevent body from getting stuck near structure 3371 0.8\n",
      "----------------------------------------\n"
     ]
    },
    {
     "name": "stderr",
     "output_type": "stream",
     "text": [
      "Setting `pad_token_id` to `eos_token_id`:50256 for open-end generation.\n"
     ]
    },
    {
     "name": "stdout",
     "output_type": "stream",
     "text": [
      "2 type with limited mobility/range -> type with limited mobility/range 3395 0.8\n",
      "----------------------------------------\n"
     ]
    },
    {
     "name": "stderr",
     "output_type": "stream",
     "text": [
      "Setting `pad_token_id` to `eos_token_id`:50256 for open-end generation.\n"
     ]
    },
    {
     "name": "stdout",
     "output_type": "stream",
     "text": [
      "3 type with limited mobility/range -> extend the physical reach of a tool 3418 0.8\n",
      "----------------------------------------\n"
     ]
    },
    {
     "name": "stderr",
     "output_type": "stream",
     "text": [
      "Setting `pad_token_id` to `eos_token_id`:50256 for open-end generation.\n"
     ]
    },
    {
     "name": "stdout",
     "output_type": "stream",
     "text": [
      "4 type with limited mobility/range -> Protect vulnerable object from radiation 3442 0.8\n",
      "----------------------------------------\n"
     ]
    },
    {
     "name": "stderr",
     "output_type": "stream",
     "text": [
      "Setting `pad_token_id` to `eos_token_id`:50256 for open-end generation.\n"
     ]
    },
    {
     "name": "stdout",
     "output_type": "stream",
     "text": [
      "5 type with limited mobility/range -> Increase mobility/range of the device 3466 0.8\n",
      "----------------------------------------\n"
     ]
    },
    {
     "name": "stderr",
     "output_type": "stream",
     "text": [
      "Setting `pad_token_id` to `eos_token_id`:50256 for open-end generation.\n"
     ]
    },
    {
     "name": "stdout",
     "output_type": "stream",
     "text": [
      "6 type with limited mobility/range -> Limit user's dependence on information cues 3489 0.8\n",
      "----------------------------------------\n"
     ]
    },
    {
     "name": "stderr",
     "output_type": "stream",
     "text": [
      "Setting `pad_token_id` to `eos_token_id`:50256 for open-end generation.\n"
     ]
    },
    {
     "name": "stdout",
     "output_type": "stream",
     "text": [
      "7 type with limited mobility/range -> Prevent motion in a crowded environment 3514 0.8\n",
      "----------------------------------------\n"
     ]
    },
    {
     "name": "stderr",
     "output_type": "stream",
     "text": [
      "Setting `pad_token_id` to `eos_token_id`:50256 for open-end generation.\n"
     ]
    },
    {
     "name": "stdout",
     "output_type": "stream",
     "text": [
      "8 type with limited mobility/range -> Prevent children from getting wet/snow 3538 0.8\n",
      "----------------------------------------\n"
     ]
    },
    {
     "name": "stderr",
     "output_type": "stream",
     "text": [
      "Setting `pad_token_id` to `eos_token_id`:50256 for open-end generation.\n"
     ]
    },
    {
     "name": "stdout",
     "output_type": "stream",
     "text": [
      "9 type with limited mobility/range -> reduce usage of space to move between systems 3561 0.8\n",
      "----------------------------------------\n"
     ]
    },
    {
     "name": "stderr",
     "output_type": "stream",
     "text": [
      "Setting `pad_token_id` to `eos_token_id`:50256 for open-end generation.\n"
     ]
    },
    {
     "name": "stdout",
     "output_type": "stream",
     "text": [
      "10 type with limited mobility/range -> prevent swimming of water 3586 0.8\n",
      "----------------------------------------\n"
     ]
    },
    {
     "name": "stderr",
     "output_type": "stream",
     "text": [
      "Setting `pad_token_id` to `eos_token_id`:50256 for open-end generation.\n"
     ]
    },
    {
     "name": "stdout",
     "output_type": "stream",
     "text": [
      "11 type with limited mobility/range -> Enable a broom to clean in hard to reach places 3610 0.8\n",
      "----------------------------------------\n"
     ]
    },
    {
     "name": "stderr",
     "output_type": "stream",
     "text": [
      "Setting `pad_token_id` to `eos_token_id`:50256 for open-end generation.\n"
     ]
    },
    {
     "name": "stdout",
     "output_type": "stream",
     "text": [
      "12 type with limited mobility/range -> enable a broom to clean in hard to reach places 3634 0.8\n",
      "----------------------------------------\n"
     ]
    },
    {
     "name": "stderr",
     "output_type": "stream",
     "text": [
      "Setting `pad_token_id` to `eos_token_id`:50256 for open-end generation.\n"
     ]
    },
    {
     "name": "stdout",
     "output_type": "stream",
     "text": [
      "13 type with limited mobility/range -> provide sufficient space to hold the objects 3658 0.8\n",
      "----------------------------------------\n"
     ]
    },
    {
     "name": "stderr",
     "output_type": "stream",
     "text": [
      "Setting `pad_token_id` to `eos_token_id`:50256 for open-end generation.\n"
     ]
    },
    {
     "name": "stdout",
     "output_type": "stream",
     "text": [
      "14 type with limited mobility/range -> Increase the mobility of objects from a low-grade material 3681 0.8\n",
      "----------------------------------------\n"
     ]
    },
    {
     "name": "stderr",
     "output_type": "stream",
     "text": [
      "Setting `pad_token_id` to `eos_token_id`:50256 for open-end generation.\n"
     ]
    },
    {
     "name": "stdout",
     "output_type": "stream",
     "text": [
      "15 type with limited mobility/range -> limit mobility/range 3705 0.8\n",
      "----------------------------------------\n"
     ]
    },
    {
     "name": "stderr",
     "output_type": "stream",
     "text": [
      "Setting `pad_token_id` to `eos_token_id`:50256 for open-end generation.\n"
     ]
    },
    {
     "name": "stdout",
     "output_type": "stream",
     "text": [
      "16 type with limited mobility/range -> Create a rigid structure out of materials 3729 0.8\n",
      "----------------------------------------\n"
     ]
    },
    {
     "name": "stderr",
     "output_type": "stream",
     "text": [
      "Setting `pad_token_id` to `eos_token_id`:50256 for open-end generation.\n"
     ]
    },
    {
     "name": "stdout",
     "output_type": "stream",
     "text": [
      "17 type with limited mobility/range -> Disable objects to be moved 3753 0.8\n",
      "----------------------------------------\n"
     ]
    },
    {
     "name": "stderr",
     "output_type": "stream",
     "text": [
      "Setting `pad_token_id` to `eos_token_id`:50256 for open-end generation.\n"
     ]
    },
    {
     "name": "stdout",
     "output_type": "stream",
     "text": [
      "18 type with limited mobility/range -> Prevent child from getting wet/willing to move 3776 0.8\n",
      "----------------------------------------\n"
     ]
    },
    {
     "name": "stderr",
     "output_type": "stream",
     "text": [
      "Setting `pad_token_id` to `eos_token_id`:50256 for open-end generation.\n"
     ]
    },
    {
     "name": "stdout",
     "output_type": "stream",
     "text": [
      "19 type with limited mobility/range -> Protect vulnerable object from radiation 3801 0.8\n",
      "----------------------------------------\n"
     ]
    },
    {
     "name": "stderr",
     "output_type": "stream",
     "text": [
      "Setting `pad_token_id` to `eos_token_id`:50256 for open-end generation.\n"
     ]
    },
    {
     "name": "stdout",
     "output_type": "stream",
     "text": [
      "20 type with limited mobility/range -> Start a vehicle or transport vehicle 3826 0.8\n",
      "----------------------------------------\n"
     ]
    },
    {
     "name": "stderr",
     "output_type": "stream",
     "text": [
      "Setting `pad_token_id` to `eos_token_id`:50256 for open-end generation.\n"
     ]
    },
    {
     "name": "stdout",
     "output_type": "stream",
     "text": [
      "1 type with limited mobility/range -> create a hollow object with narrow legs 3851 0.9\n",
      "----------------------------------------\n"
     ]
    },
    {
     "name": "stderr",
     "output_type": "stream",
     "text": [
      "Setting `pad_token_id` to `eos_token_id`:50256 for open-end generation.\n"
     ]
    },
    {
     "name": "stdout",
     "output_type": "stream",
     "text": [
      "2 type with limited mobility/range -> Prevent objects from getting into contact with foreign substances 3879 0.9\n",
      "----------------------------------------\n"
     ]
    },
    {
     "name": "stderr",
     "output_type": "stream",
     "text": [
      "Setting `pad_token_id` to `eos_token_id`:50256 for open-end generation.\n"
     ]
    },
    {
     "name": "stdout",
     "output_type": "stream",
     "text": [
      "3 type with limited mobility/range -> enable a person to walk around 3902 0.9\n",
      "----------------------------------------\n"
     ]
    },
    {
     "name": "stderr",
     "output_type": "stream",
     "text": [
      "Setting `pad_token_id` to `eos_token_id`:50256 for open-end generation.\n"
     ]
    },
    {
     "name": "stdout",
     "output_type": "stream",
     "text": [
      "4 type with limited mobility/range -> Increase the volume of liquid from a battery 3928 0.9\n",
      "----------------------------------------\n"
     ]
    },
    {
     "name": "stderr",
     "output_type": "stream",
     "text": [
      "Setting `pad_token_id` to `eos_token_id`:50256 for open-end generation.\n"
     ]
    },
    {
     "name": "stdout",
     "output_type": "stream",
     "text": [
      "5 type with limited mobility/range -> Increase mass of objects by applying power 3950 0.9\n",
      "----------------------------------------\n"
     ]
    },
    {
     "name": "stderr",
     "output_type": "stream",
     "text": [
      "Setting `pad_token_id` to `eos_token_id`:50256 for open-end generation.\n"
     ]
    },
    {
     "name": "stdout",
     "output_type": "stream",
     "text": [
      "6 type with limited mobility/range -> Create a new object with limited mobility/range 3973 0.9\n",
      "----------------------------------------\n"
     ]
    },
    {
     "name": "stderr",
     "output_type": "stream",
     "text": [
      "Setting `pad_token_id` to `eos_token_id`:50256 for open-end generation.\n"
     ]
    },
    {
     "name": "stdout",
     "output_type": "stream",
     "text": [
      "7 type with limited mobility/range -> Create a hole in an object without causing an unwanted noise 3988 0.9\n",
      "----------------------------------------\n"
     ]
    },
    {
     "name": "stderr",
     "output_type": "stream",
     "text": [
      "Setting `pad_token_id` to `eos_token_id`:50256 for open-end generation.\n"
     ]
    },
    {
     "name": "stdout",
     "output_type": "stream",
     "text": [
      "8 type with limited mobility/range -> Prevent movement, contact with furniture, hand, or other objects 4010 0.9\n",
      "----------------------------------------\n"
     ]
    },
    {
     "name": "stderr",
     "output_type": "stream",
     "text": [
      "Setting `pad_token_id` to `eos_token_id`:50256 for open-end generation.\n"
     ]
    },
    {
     "name": "stdout",
     "output_type": "stream",
     "text": [
      "9 type with limited mobility/range -> protect object from radiation 4032 0.9\n",
      "----------------------------------------\n"
     ]
    },
    {
     "name": "stderr",
     "output_type": "stream",
     "text": [
      "Setting `pad_token_id` to `eos_token_id`:50256 for open-end generation.\n"
     ]
    },
    {
     "name": "stdout",
     "output_type": "stream",
     "text": [
      "10 type with limited mobility/range -> Limit mobility / range of objects 4054 0.9\n",
      "----------------------------------------\n"
     ]
    },
    {
     "name": "stderr",
     "output_type": "stream",
     "text": [
      "Setting `pad_token_id` to `eos_token_id`:50256 for open-end generation.\n"
     ]
    },
    {
     "name": "stdout",
     "output_type": "stream",
     "text": [
      "11 type with limited mobility/range -> prevent the object in its motion from bouncing off the surface 4076 0.9\n",
      "----------------------------------------\n"
     ]
    },
    {
     "name": "stderr",
     "output_type": "stream",
     "text": [
      "Setting `pad_token_id` to `eos_token_id`:50256 for open-end generation.\n"
     ]
    },
    {
     "name": "stdout",
     "output_type": "stream",
     "text": [
      "12 type with limited mobility/range -> ensure the object is in contact with a large distance 4097 0.9\n",
      "----------------------------------------\n"
     ]
    },
    {
     "name": "stderr",
     "output_type": "stream",
     "text": [
      "Setting `pad_token_id` to `eos_token_id`:50256 for open-end generation.\n"
     ]
    },
    {
     "name": "stdout",
     "output_type": "stream",
     "text": [
      "13 type with limited mobility/range -> make house out of cooked spaghetti 4120 0.9\n",
      "----------------------------------------\n"
     ]
    },
    {
     "name": "stderr",
     "output_type": "stream",
     "text": [
      "Setting `pad_token_id` to `eos_token_id`:50256 for open-end generation.\n"
     ]
    },
    {
     "name": "stdout",
     "output_type": "stream",
     "text": [
      "14 type with limited mobility/range -> protect object from radiation 4142 0.9\n",
      "----------------------------------------\n"
     ]
    },
    {
     "name": "stderr",
     "output_type": "stream",
     "text": [
      "Setting `pad_token_id` to `eos_token_id`:50256 for open-end generation.\n"
     ]
    },
    {
     "name": "stdout",
     "output_type": "stream",
     "text": [
      "15 type with limited mobility/range -> Prevent water from penetrating objects 4149 0.9\n",
      "----------------------------------------\n"
     ]
    },
    {
     "name": "stderr",
     "output_type": "stream",
     "text": [
      "Setting `pad_token_id` to `eos_token_id`:50256 for open-end generation.\n"
     ]
    },
    {
     "name": "stdout",
     "output_type": "stream",
     "text": [
      "16 type with limited mobility/range -> Prevent objects from getting into contact with unwanted substances 4171 0.9\n",
      "----------------------------------------\n"
     ]
    },
    {
     "name": "stderr",
     "output_type": "stream",
     "text": [
      "Setting `pad_token_id` to `eos_token_id`:50256 for open-end generation.\n"
     ]
    },
    {
     "name": "stdout",
     "output_type": "stream",
     "text": [
      "17 type with limited mobility/range -> Prevent mass change in objects 4192 0.9\n",
      "----------------------------------------\n"
     ]
    },
    {
     "name": "stderr",
     "output_type": "stream",
     "text": [
      "Setting `pad_token_id` to `eos_token_id`:50256 for open-end generation.\n"
     ]
    },
    {
     "name": "stdout",
     "output_type": "stream",
     "text": [
      "18 type with limited mobility/range -> Disable surface and/or air sensors from the active parts of a vehicle 4215 0.9\n",
      "----------------------------------------\n"
     ]
    },
    {
     "name": "stderr",
     "output_type": "stream",
     "text": [
      "Setting `pad_token_id` to `eos_token_id`:50256 for open-end generation.\n"
     ]
    },
    {
     "name": "stdout",
     "output_type": "stream",
     "text": [
      "19 type with limited mobility/range -> prevent movement of other objects in an area where they 4234 0.9\n",
      "----------------------------------------\n",
      "20 type with limited mobility/range -> make one of the objects on a sphere larger and stronger 4256 0.9\n",
      "----------------------------------------\n",
      "Total time taken is 4278\n"
     ]
    },
    {
     "ename": "FileNotFoundError",
     "evalue": "[Errno 2] No such file or directory: '../Csv/gpt_neo125m_type with limited mobility/range.csv'",
     "output_type": "error",
     "traceback": [
      "\u001b[1;31m---------------------------------------------------------------------------\u001b[0m",
      "\u001b[1;31mFileNotFoundError\u001b[0m                         Traceback (most recent call last)",
      "\u001b[1;32m<ipython-input-20-55a322624488>\u001b[0m in \u001b[0;36m<module>\u001b[1;34m\u001b[0m\n\u001b[0;32m      1\u001b[0m \u001b[0mdf_125m\u001b[0m \u001b[1;33m=\u001b[0m \u001b[0mgenerate_output\u001b[0m\u001b[1;33m(\u001b[0m\u001b[0mgenerator_gpt_neo_125m\u001b[0m\u001b[1;33m,\u001b[0m\u001b[1;36m20\u001b[0m\u001b[1;33m,\u001b[0m\u001b[0mprompt\u001b[0m\u001b[1;33m,\u001b[0m\u001b[1;36m20\u001b[0m\u001b[1;33m,\u001b[0m\u001b[1;36m0.1\u001b[0m\u001b[1;33m,\u001b[0m\u001b[1;34m'gpt_neo_125m'\u001b[0m\u001b[1;33m,\u001b[0m\u001b[1;36m1\u001b[0m\u001b[1;33m)\u001b[0m\u001b[1;33m\u001b[0m\u001b[1;33m\u001b[0m\u001b[0m\n\u001b[1;32m----> 2\u001b[1;33m \u001b[0mdf_125m\u001b[0m\u001b[1;33m.\u001b[0m\u001b[0mto_csv\u001b[0m\u001b[1;33m(\u001b[0m\u001b[1;34mf'../Csv/gpt_neo125m_{user_input}.csv'\u001b[0m\u001b[1;33m)\u001b[0m\u001b[1;33m\u001b[0m\u001b[1;33m\u001b[0m\u001b[0m\n\u001b[0m",
      "\u001b[1;32m~\\anaconda3\\envs\\py38torch\\lib\\site-packages\\pandas\\core\\generic.py\u001b[0m in \u001b[0;36mto_csv\u001b[1;34m(self, path_or_buf, sep, na_rep, float_format, columns, header, index, index_label, mode, encoding, compression, quoting, quotechar, line_terminator, chunksize, date_format, doublequote, escapechar, decimal, errors, storage_options)\u001b[0m\n\u001b[0;32m   3385\u001b[0m         )\n\u001b[0;32m   3386\u001b[0m \u001b[1;33m\u001b[0m\u001b[0m\n\u001b[1;32m-> 3387\u001b[1;33m         return DataFrameRenderer(formatter).to_csv(\n\u001b[0m\u001b[0;32m   3388\u001b[0m             \u001b[0mpath_or_buf\u001b[0m\u001b[1;33m,\u001b[0m\u001b[1;33m\u001b[0m\u001b[1;33m\u001b[0m\u001b[0m\n\u001b[0;32m   3389\u001b[0m             \u001b[0mline_terminator\u001b[0m\u001b[1;33m=\u001b[0m\u001b[0mline_terminator\u001b[0m\u001b[1;33m,\u001b[0m\u001b[1;33m\u001b[0m\u001b[1;33m\u001b[0m\u001b[0m\n",
      "\u001b[1;32m~\\anaconda3\\envs\\py38torch\\lib\\site-packages\\pandas\\io\\formats\\format.py\u001b[0m in \u001b[0;36mto_csv\u001b[1;34m(self, path_or_buf, encoding, sep, columns, index_label, mode, compression, quoting, quotechar, line_terminator, chunksize, date_format, doublequote, escapechar, errors, storage_options)\u001b[0m\n\u001b[0;32m   1081\u001b[0m             \u001b[0mformatter\u001b[0m\u001b[1;33m=\u001b[0m\u001b[0mself\u001b[0m\u001b[1;33m.\u001b[0m\u001b[0mfmt\u001b[0m\u001b[1;33m,\u001b[0m\u001b[1;33m\u001b[0m\u001b[1;33m\u001b[0m\u001b[0m\n\u001b[0;32m   1082\u001b[0m         )\n\u001b[1;32m-> 1083\u001b[1;33m         \u001b[0mcsv_formatter\u001b[0m\u001b[1;33m.\u001b[0m\u001b[0msave\u001b[0m\u001b[1;33m(\u001b[0m\u001b[1;33m)\u001b[0m\u001b[1;33m\u001b[0m\u001b[1;33m\u001b[0m\u001b[0m\n\u001b[0m\u001b[0;32m   1084\u001b[0m \u001b[1;33m\u001b[0m\u001b[0m\n\u001b[0;32m   1085\u001b[0m         \u001b[1;32mif\u001b[0m \u001b[0mcreated_buffer\u001b[0m\u001b[1;33m:\u001b[0m\u001b[1;33m\u001b[0m\u001b[1;33m\u001b[0m\u001b[0m\n",
      "\u001b[1;32m~\\anaconda3\\envs\\py38torch\\lib\\site-packages\\pandas\\io\\formats\\csvs.py\u001b[0m in \u001b[0;36msave\u001b[1;34m(self)\u001b[0m\n\u001b[0;32m    226\u001b[0m         \"\"\"\n\u001b[0;32m    227\u001b[0m         \u001b[1;31m# apply compression and byte/text conversion\u001b[0m\u001b[1;33m\u001b[0m\u001b[1;33m\u001b[0m\u001b[1;33m\u001b[0m\u001b[0m\n\u001b[1;32m--> 228\u001b[1;33m         with get_handle(\n\u001b[0m\u001b[0;32m    229\u001b[0m             \u001b[0mself\u001b[0m\u001b[1;33m.\u001b[0m\u001b[0mfilepath_or_buffer\u001b[0m\u001b[1;33m,\u001b[0m\u001b[1;33m\u001b[0m\u001b[1;33m\u001b[0m\u001b[0m\n\u001b[0;32m    230\u001b[0m             \u001b[0mself\u001b[0m\u001b[1;33m.\u001b[0m\u001b[0mmode\u001b[0m\u001b[1;33m,\u001b[0m\u001b[1;33m\u001b[0m\u001b[1;33m\u001b[0m\u001b[0m\n",
      "\u001b[1;32m~\\anaconda3\\envs\\py38torch\\lib\\site-packages\\pandas\\io\\common.py\u001b[0m in \u001b[0;36mget_handle\u001b[1;34m(path_or_buf, mode, encoding, compression, memory_map, is_text, errors, storage_options)\u001b[0m\n\u001b[0;32m    645\u001b[0m                 \u001b[0merrors\u001b[0m \u001b[1;33m=\u001b[0m \u001b[1;34m\"replace\"\u001b[0m\u001b[1;33m\u001b[0m\u001b[1;33m\u001b[0m\u001b[0m\n\u001b[0;32m    646\u001b[0m             \u001b[1;31m# Encoding\u001b[0m\u001b[1;33m\u001b[0m\u001b[1;33m\u001b[0m\u001b[1;33m\u001b[0m\u001b[0m\n\u001b[1;32m--> 647\u001b[1;33m             handle = open(\n\u001b[0m\u001b[0;32m    648\u001b[0m                 \u001b[0mhandle\u001b[0m\u001b[1;33m,\u001b[0m\u001b[1;33m\u001b[0m\u001b[1;33m\u001b[0m\u001b[0m\n\u001b[0;32m    649\u001b[0m                 \u001b[0mioargs\u001b[0m\u001b[1;33m.\u001b[0m\u001b[0mmode\u001b[0m\u001b[1;33m,\u001b[0m\u001b[1;33m\u001b[0m\u001b[1;33m\u001b[0m\u001b[0m\n",
      "\u001b[1;31mFileNotFoundError\u001b[0m: [Errno 2] No such file or directory: '../Csv/gpt_neo125m_type with limited mobility/range.csv'"
     ]
    }
   ],
   "source": [
    "df_125m = generate_output(generator_gpt_neo_125m,20,prompt,20,0.1,'gpt_neo_125m',1)\n",
    "df_125m.to_csv(f'../Csv/gpt_neo125m_{user_input}.csv')"
   ]
  },
  {
   "cell_type": "code",
   "execution_count": null,
   "metadata": {},
   "outputs": [],
   "source": []
  },
  {
   "cell_type": "code",
   "execution_count": null,
   "metadata": {},
   "outputs": [],
   "source": [
    "\n",
    "# # Generate a random string\n",
    "# # with 32 characters.\n",
    "\n",
    "\n",
    "# print (random)"
   ]
  },
  {
   "cell_type": "code",
   "execution_count": null,
   "metadata": {},
   "outputs": [],
   "source": []
  },
  {
   "cell_type": "code",
   "execution_count": null,
   "metadata": {},
   "outputs": [],
   "source": [
    "# df = generate_blank_df(cols)"
   ]
  },
  {
   "cell_type": "code",
   "execution_count": 9,
   "metadata": {},
   "outputs": [],
   "source": []
  },
  {
   "cell_type": "code",
   "execution_count": 10,
   "metadata": {},
   "outputs": [],
   "source": []
  },
  {
   "cell_type": "code",
   "execution_count": null,
   "metadata": {},
   "outputs": [],
   "source": []
  },
  {
   "cell_type": "code",
   "execution_count": 11,
   "metadata": {},
   "outputs": [],
   "source": []
  },
  {
   "cell_type": "code",
   "execution_count": null,
   "metadata": {},
   "outputs": [],
   "source": [
    "# user_input_arrs = [\"identify soldiers in old civil war photographs\",\n",
    "# \"identify points of failure in a nuclear power plant procedure\"]"
   ]
  },
  {
   "cell_type": "code",
   "execution_count": null,
   "metadata": {},
   "outputs": [
    {
     "name": "stderr",
     "output_type": "stream",
     "text": [
      "Setting `pad_token_id` to `eos_token_id`:50256 for open-end generation.\n",
      "Setting `pad_token_id` to `eos_token_id`:50256 for open-end generation.\n"
     ]
    },
    {
     "name": "stdout",
     "output_type": "stream",
     "text": [
      "Given a problem statement, generate an abstracted reformulation of that problem statement\n",
      "\n",
      "    Problem statement: Shield baby from the sun\n",
      "    Abstracted reformulation: Protect vulnerable object from radiation\n",
      "\n",
      "    Problem statement: Prevent feet from getting wet\n",
      "    Abstracted reformulation: Stop object from getting into contact with unwanted substances\n",
      "\n",
      "    Problem statement: Hold soap bars of multiple sizes\n",
      "    Abstracted reformulation: Contain objects of different volumes\n",
      "\n",
      "    Problem statement: Enable a broom to clean in hard to reach places\n",
      "    Abstracted reformulation: Extend the physical reach of a tool\n",
      "\n",
      "    Problem statement: drill into teeth quietly\n",
      "    Abstracted reformulation: create a hole in an object without causing an unwanted noise\n",
      "\n",
      "    Problem statement: make house out of cooked spaghetti\n",
      "    Abstracted reformulation: create strong, rigid structure out of soft materials\n",
      "\n",
      "    Problem statement: make house out of cooked spaghetti\n",
      "    Abstracted reformulation: create structure from elastic elements\n",
      "\n",
      "    Problem statement:  prevent bicycle tire flats\n",
      "    Abstracted reformulation: protect object from the penetration of foreign objects\n",
      "\n",
      "    Problem statement: prevent blood clotting in stents\n",
      "    Abstracted reformulation: prevent clogging of cylindrical tubes\n",
      "\n",
      "    Problem statement: transfer heat in semiconductors at nanoscale\n",
      "    Abstracted reformulation: Enable particles to flow in confined geometries\n",
      "\n",
      "    Problem statement:reduce seasickness in virtual reality systems\n",
      "    Abstracted reformulation: reduce user's dependency on information cues\n",
      "\n",
      "    Problem statement:reduce seasickness in virtual reality systems\n",
      "    Abstracted reformulation: Achieve robust orientation stability\n",
      "\n",
      "    Problem statement:reduce seasickness in virtual reality systems\n",
      "    Abstracted reformulation: improve the feel of a complicated motion or force\n",
      "\n",
      "    Problem statement:wash clothes without water\n",
      "    Abstracted reformulation: Remove dirt from objects by mechanical force\n",
      "\n",
      "    Problem statement:charge cell phones on the go\n",
      "    Abstracted reformulation: Charge a battery source from a remote energy-source\n",
      "\n",
      "    Problem statement:charge cell phones on the go\n",
      "    Abstracted reformulation: Supply power to electrical devices in the field\n",
      "\n",
      "    Problem statement:protect feet from getting wet\n",
      "    Abstracted reformulation: stop entry of foreign particles\n",
      "\n",
      "    Problem statement:protect feet from getting wet\n",
      "    Abstracted reformulation: Mechanically stop liquid from penetrating a space\n",
      "\n",
      "    Problem statement:shield baby from the sun\n",
      "    Abstracted reformulation: Protect vulnerable object from radiation\n",
      "\n",
      "    Problem statement:Prevent feet from getting wet\n",
      "    Abstracted reformulation: Stop object from getting into contact with unwanted substances\n",
      "\n",
      "    Problem statement: identify soldiers in old civil war photographs\n",
      "                                                                                                                                                                                                                                                                                                                                                                                     \n",
      "1 identify soldiers in old civil war photographs ->  0 0.1\n",
      "----------------------------------------\n"
     ]
    },
    {
     "name": "stderr",
     "output_type": "stream",
     "text": [
      "Setting `pad_token_id` to `eos_token_id`:50256 for open-end generation.\n"
     ]
    },
    {
     "name": "stdout",
     "output_type": "stream",
     "text": [
      "Given a problem statement, generate an abstracted reformulation of that problem statement\n",
      "\n",
      "    Problem statement: Shield baby from the sun\n",
      "    Abstracted reformulation: Protect vulnerable object from radiation\n",
      "\n",
      "    Problem statement: Prevent feet from getting wet\n",
      "    Abstracted reformulation: Stop object from getting into contact with unwanted substances\n",
      "\n",
      "    Problem statement: Hold soap bars of multiple sizes\n",
      "    Abstracted reformulation: Contain objects of different volumes\n",
      "\n",
      "    Problem statement: Enable a broom to clean in hard to reach places\n",
      "    Abstracted reformulation: Extend the physical reach of a tool\n",
      "\n",
      "    Problem statement: drill into teeth quietly\n",
      "    Abstracted reformulation: create a hole in an object without causing an unwanted noise\n",
      "\n",
      "    Problem statement: make house out of cooked spaghetti\n",
      "    Abstracted reformulation: create strong, rigid structure out of soft materials\n",
      "\n",
      "    Problem statement: make house out of cooked spaghetti\n",
      "    Abstracted reformulation: create structure from elastic elements\n",
      "\n",
      "    Problem statement:  prevent bicycle tire flats\n",
      "    Abstracted reformulation: protect object from the penetration of foreign objects\n",
      "\n",
      "    Problem statement: prevent blood clotting in stents\n",
      "    Abstracted reformulation: prevent clogging of cylindrical tubes\n",
      "\n",
      "    Problem statement: transfer heat in semiconductors at nanoscale\n",
      "    Abstracted reformulation: Enable particles to flow in confined geometries\n",
      "\n",
      "    Problem statement:reduce seasickness in virtual reality systems\n",
      "    Abstracted reformulation: reduce user's dependency on information cues\n",
      "\n",
      "    Problem statement:reduce seasickness in virtual reality systems\n",
      "    Abstracted reformulation: Achieve robust orientation stability\n",
      "\n",
      "    Problem statement:reduce seasickness in virtual reality systems\n",
      "    Abstracted reformulation: improve the feel of a complicated motion or force\n",
      "\n",
      "    Problem statement:wash clothes without water\n",
      "    Abstracted reformulation: Remove dirt from objects by mechanical force\n",
      "\n",
      "    Problem statement:charge cell phones on the go\n",
      "    Abstracted reformulation: Charge a battery source from a remote energy-source\n",
      "\n",
      "    Problem statement:charge cell phones on the go\n",
      "    Abstracted reformulation: Supply power to electrical devices in the field\n",
      "\n",
      "    Problem statement:protect feet from getting wet\n",
      "    Abstracted reformulation: stop entry of foreign particles\n",
      "\n",
      "    Problem statement:protect feet from getting wet\n",
      "    Abstracted reformulation: Mechanically stop liquid from penetrating a space\n",
      "\n",
      "    Problem statement:shield baby from the sun\n",
      "    Abstracted reformulation: Protect vulnerable object from radiation\n",
      "\n",
      "    Problem statement:Prevent feet from getting wet\n",
      "    Abstracted reformulation: Stop object from getting into contact with unwanted substances\n",
      "\n",
      "    Problem statement: identify soldiers in old civil war photographs\n",
      "                                                                                                                                                                                                                                                                                                                                                                                     \n",
      "2 identify soldiers in old civil war photographs ->  48 0.1\n",
      "----------------------------------------\n"
     ]
    },
    {
     "name": "stderr",
     "output_type": "stream",
     "text": [
      "Setting `pad_token_id` to `eos_token_id`:50256 for open-end generation.\n"
     ]
    },
    {
     "name": "stdout",
     "output_type": "stream",
     "text": [
      "Given a problem statement, generate an abstracted reformulation of that problem statement\n",
      "\n",
      "    Problem statement: Shield baby from the sun\n",
      "    Abstracted reformulation: Protect vulnerable object from radiation\n",
      "\n",
      "    Problem statement: Prevent feet from getting wet\n",
      "    Abstracted reformulation: Stop object from getting into contact with unwanted substances\n",
      "\n",
      "    Problem statement: Hold soap bars of multiple sizes\n",
      "    Abstracted reformulation: Contain objects of different volumes\n",
      "\n",
      "    Problem statement: Enable a broom to clean in hard to reach places\n",
      "    Abstracted reformulation: Extend the physical reach of a tool\n",
      "\n",
      "    Problem statement: drill into teeth quietly\n",
      "    Abstracted reformulation: create a hole in an object without causing an unwanted noise\n",
      "\n",
      "    Problem statement: make house out of cooked spaghetti\n",
      "    Abstracted reformulation: create strong, rigid structure out of soft materials\n",
      "\n",
      "    Problem statement: make house out of cooked spaghetti\n",
      "    Abstracted reformulation: create structure from elastic elements\n",
      "\n",
      "    Problem statement:  prevent bicycle tire flats\n",
      "    Abstracted reformulation: protect object from the penetration of foreign objects\n",
      "\n",
      "    Problem statement: prevent blood clotting in stents\n",
      "    Abstracted reformulation: prevent clogging of cylindrical tubes\n",
      "\n",
      "    Problem statement: transfer heat in semiconductors at nanoscale\n",
      "    Abstracted reformulation: Enable particles to flow in confined geometries\n",
      "\n",
      "    Problem statement:reduce seasickness in virtual reality systems\n",
      "    Abstracted reformulation: reduce user's dependency on information cues\n",
      "\n",
      "    Problem statement:reduce seasickness in virtual reality systems\n",
      "    Abstracted reformulation: Achieve robust orientation stability\n",
      "\n",
      "    Problem statement:reduce seasickness in virtual reality systems\n",
      "    Abstracted reformulation: improve the feel of a complicated motion or force\n",
      "\n",
      "    Problem statement:wash clothes without water\n",
      "    Abstracted reformulation: Remove dirt from objects by mechanical force\n",
      "\n",
      "    Problem statement:charge cell phones on the go\n",
      "    Abstracted reformulation: Charge a battery source from a remote energy-source\n",
      "\n",
      "    Problem statement:charge cell phones on the go\n",
      "    Abstracted reformulation: Supply power to electrical devices in the field\n",
      "\n",
      "    Problem statement:protect feet from getting wet\n",
      "    Abstracted reformulation: stop entry of foreign particles\n",
      "\n",
      "    Problem statement:protect feet from getting wet\n",
      "    Abstracted reformulation: Mechanically stop liquid from penetrating a space\n",
      "\n",
      "    Problem statement:shield baby from the sun\n",
      "    Abstracted reformulation: Protect vulnerable object from radiation\n",
      "\n",
      "    Problem statement:Prevent feet from getting wet\n",
      "    Abstracted reformulation: Stop object from getting into contact with unwanted substances\n",
      "\n",
      "    Problem statement: identify soldiers in old civil war photographs\n",
      "                                                                                                                                                                                                                                                                                                                                                                                     \n",
      "1 identify soldiers in old civil war photographs ->  94 0.2\n",
      "----------------------------------------\n"
     ]
    },
    {
     "name": "stderr",
     "output_type": "stream",
     "text": [
      "Setting `pad_token_id` to `eos_token_id`:50256 for open-end generation.\n"
     ]
    },
    {
     "name": "stdout",
     "output_type": "stream",
     "text": [
      "Given a problem statement, generate an abstracted reformulation of that problem statement\n",
      "\n",
      "    Problem statement: Shield baby from the sun\n",
      "    Abstracted reformulation: Protect vulnerable object from radiation\n",
      "\n",
      "    Problem statement: Prevent feet from getting wet\n",
      "    Abstracted reformulation: Stop object from getting into contact with unwanted substances\n",
      "\n",
      "    Problem statement: Hold soap bars of multiple sizes\n",
      "    Abstracted reformulation: Contain objects of different volumes\n",
      "\n",
      "    Problem statement: Enable a broom to clean in hard to reach places\n",
      "    Abstracted reformulation: Extend the physical reach of a tool\n",
      "\n",
      "    Problem statement: drill into teeth quietly\n",
      "    Abstracted reformulation: create a hole in an object without causing an unwanted noise\n",
      "\n",
      "    Problem statement: make house out of cooked spaghetti\n",
      "    Abstracted reformulation: create strong, rigid structure out of soft materials\n",
      "\n",
      "    Problem statement: make house out of cooked spaghetti\n",
      "    Abstracted reformulation: create structure from elastic elements\n",
      "\n",
      "    Problem statement:  prevent bicycle tire flats\n",
      "    Abstracted reformulation: protect object from the penetration of foreign objects\n",
      "\n",
      "    Problem statement: prevent blood clotting in stents\n",
      "    Abstracted reformulation: prevent clogging of cylindrical tubes\n",
      "\n",
      "    Problem statement: transfer heat in semiconductors at nanoscale\n",
      "    Abstracted reformulation: Enable particles to flow in confined geometries\n",
      "\n",
      "    Problem statement:reduce seasickness in virtual reality systems\n",
      "    Abstracted reformulation: reduce user's dependency on information cues\n",
      "\n",
      "    Problem statement:reduce seasickness in virtual reality systems\n",
      "    Abstracted reformulation: Achieve robust orientation stability\n",
      "\n",
      "    Problem statement:reduce seasickness in virtual reality systems\n",
      "    Abstracted reformulation: improve the feel of a complicated motion or force\n",
      "\n",
      "    Problem statement:wash clothes without water\n",
      "    Abstracted reformulation: Remove dirt from objects by mechanical force\n",
      "\n",
      "    Problem statement:charge cell phones on the go\n",
      "    Abstracted reformulation: Charge a battery source from a remote energy-source\n",
      "\n",
      "    Problem statement:charge cell phones on the go\n",
      "    Abstracted reformulation: Supply power to electrical devices in the field\n",
      "\n",
      "    Problem statement:protect feet from getting wet\n",
      "    Abstracted reformulation: stop entry of foreign particles\n",
      "\n",
      "    Problem statement:protect feet from getting wet\n",
      "    Abstracted reformulation: Mechanically stop liquid from penetrating a space\n",
      "\n",
      "    Problem statement:shield baby from the sun\n",
      "    Abstracted reformulation: Protect vulnerable object from radiation\n",
      "\n",
      "    Problem statement:Prevent feet from getting wet\n",
      "    Abstracted reformulation: Stop object from getting into contact with unwanted substances\n",
      "\n",
      "    Problem statement: identify soldiers in old civil war photographs\n",
      "                                                                                                                                                                                                                                                                                                                                                                                     \n",
      "2 identify soldiers in old civil war photographs ->  139 0.2\n",
      "----------------------------------------\n"
     ]
    },
    {
     "name": "stderr",
     "output_type": "stream",
     "text": [
      "Setting `pad_token_id` to `eos_token_id`:50256 for open-end generation.\n"
     ]
    },
    {
     "name": "stdout",
     "output_type": "stream",
     "text": [
      "Given a problem statement, generate an abstracted reformulation of that problem statement\n",
      "\n",
      "    Problem statement: Shield baby from the sun\n",
      "    Abstracted reformulation: Protect vulnerable object from radiation\n",
      "\n",
      "    Problem statement: Prevent feet from getting wet\n",
      "    Abstracted reformulation: Stop object from getting into contact with unwanted substances\n",
      "\n",
      "    Problem statement: Hold soap bars of multiple sizes\n",
      "    Abstracted reformulation: Contain objects of different volumes\n",
      "\n",
      "    Problem statement: Enable a broom to clean in hard to reach places\n",
      "    Abstracted reformulation: Extend the physical reach of a tool\n",
      "\n",
      "    Problem statement: drill into teeth quietly\n",
      "    Abstracted reformulation: create a hole in an object without causing an unwanted noise\n",
      "\n",
      "    Problem statement: make house out of cooked spaghetti\n",
      "    Abstracted reformulation: create strong, rigid structure out of soft materials\n",
      "\n",
      "    Problem statement: make house out of cooked spaghetti\n",
      "    Abstracted reformulation: create structure from elastic elements\n",
      "\n",
      "    Problem statement:  prevent bicycle tire flats\n",
      "    Abstracted reformulation: protect object from the penetration of foreign objects\n",
      "\n",
      "    Problem statement: prevent blood clotting in stents\n",
      "    Abstracted reformulation: prevent clogging of cylindrical tubes\n",
      "\n",
      "    Problem statement: transfer heat in semiconductors at nanoscale\n",
      "    Abstracted reformulation: Enable particles to flow in confined geometries\n",
      "\n",
      "    Problem statement:reduce seasickness in virtual reality systems\n",
      "    Abstracted reformulation: reduce user's dependency on information cues\n",
      "\n",
      "    Problem statement:reduce seasickness in virtual reality systems\n",
      "    Abstracted reformulation: Achieve robust orientation stability\n",
      "\n",
      "    Problem statement:reduce seasickness in virtual reality systems\n",
      "    Abstracted reformulation: improve the feel of a complicated motion or force\n",
      "\n",
      "    Problem statement:wash clothes without water\n",
      "    Abstracted reformulation: Remove dirt from objects by mechanical force\n",
      "\n",
      "    Problem statement:charge cell phones on the go\n",
      "    Abstracted reformulation: Charge a battery source from a remote energy-source\n",
      "\n",
      "    Problem statement:charge cell phones on the go\n",
      "    Abstracted reformulation: Supply power to electrical devices in the field\n",
      "\n",
      "    Problem statement:protect feet from getting wet\n",
      "    Abstracted reformulation: stop entry of foreign particles\n",
      "\n",
      "    Problem statement:protect feet from getting wet\n",
      "    Abstracted reformulation: Mechanically stop liquid from penetrating a space\n",
      "\n",
      "    Problem statement:shield baby from the sun\n",
      "    Abstracted reformulation: Protect vulnerable object from radiation\n",
      "\n",
      "    Problem statement:Prevent feet from getting wet\n",
      "    Abstracted reformulation: Stop object from getting into contact with unwanted substances\n",
      "\n",
      "    Problem statement: identify soldiers in old civil war photographs\n",
      "                                                                                                                                                                                                                                                                                                                                                                                     \n",
      "1 identify soldiers in old civil war photographs ->  186 0.3\n",
      "----------------------------------------\n"
     ]
    },
    {
     "name": "stderr",
     "output_type": "stream",
     "text": [
      "Setting `pad_token_id` to `eos_token_id`:50256 for open-end generation.\n"
     ]
    },
    {
     "name": "stdout",
     "output_type": "stream",
     "text": [
      "Given a problem statement, generate an abstracted reformulation of that problem statement\n",
      "\n",
      "    Problem statement: Shield baby from the sun\n",
      "    Abstracted reformulation: Protect vulnerable object from radiation\n",
      "\n",
      "    Problem statement: Prevent feet from getting wet\n",
      "    Abstracted reformulation: Stop object from getting into contact with unwanted substances\n",
      "\n",
      "    Problem statement: Hold soap bars of multiple sizes\n",
      "    Abstracted reformulation: Contain objects of different volumes\n",
      "\n",
      "    Problem statement: Enable a broom to clean in hard to reach places\n",
      "    Abstracted reformulation: Extend the physical reach of a tool\n",
      "\n",
      "    Problem statement: drill into teeth quietly\n",
      "    Abstracted reformulation: create a hole in an object without causing an unwanted noise\n",
      "\n",
      "    Problem statement: make house out of cooked spaghetti\n",
      "    Abstracted reformulation: create strong, rigid structure out of soft materials\n",
      "\n",
      "    Problem statement: make house out of cooked spaghetti\n",
      "    Abstracted reformulation: create structure from elastic elements\n",
      "\n",
      "    Problem statement:  prevent bicycle tire flats\n",
      "    Abstracted reformulation: protect object from the penetration of foreign objects\n",
      "\n",
      "    Problem statement: prevent blood clotting in stents\n",
      "    Abstracted reformulation: prevent clogging of cylindrical tubes\n",
      "\n",
      "    Problem statement: transfer heat in semiconductors at nanoscale\n",
      "    Abstracted reformulation: Enable particles to flow in confined geometries\n",
      "\n",
      "    Problem statement:reduce seasickness in virtual reality systems\n",
      "    Abstracted reformulation: reduce user's dependency on information cues\n",
      "\n",
      "    Problem statement:reduce seasickness in virtual reality systems\n",
      "    Abstracted reformulation: Achieve robust orientation stability\n",
      "\n",
      "    Problem statement:reduce seasickness in virtual reality systems\n",
      "    Abstracted reformulation: improve the feel of a complicated motion or force\n",
      "\n",
      "    Problem statement:wash clothes without water\n",
      "    Abstracted reformulation: Remove dirt from objects by mechanical force\n",
      "\n",
      "    Problem statement:charge cell phones on the go\n",
      "    Abstracted reformulation: Charge a battery source from a remote energy-source\n",
      "\n",
      "    Problem statement:charge cell phones on the go\n",
      "    Abstracted reformulation: Supply power to electrical devices in the field\n",
      "\n",
      "    Problem statement:protect feet from getting wet\n",
      "    Abstracted reformulation: stop entry of foreign particles\n",
      "\n",
      "    Problem statement:protect feet from getting wet\n",
      "    Abstracted reformulation: Mechanically stop liquid from penetrating a space\n",
      "\n",
      "    Problem statement:shield baby from the sun\n",
      "    Abstracted reformulation: Protect vulnerable object from radiation\n",
      "\n",
      "    Problem statement:Prevent feet from getting wet\n",
      "    Abstracted reformulation: Stop object from getting into contact with unwanted substances\n",
      "\n",
      "    Problem statement: identify soldiers in old civil war photographs\n",
      "                                                                                                                                                                                                                                                                                                                                                                                     \n",
      "2 identify soldiers in old civil war photographs ->  233 0.3\n",
      "----------------------------------------\n"
     ]
    },
    {
     "name": "stderr",
     "output_type": "stream",
     "text": [
      "Setting `pad_token_id` to `eos_token_id`:50256 for open-end generation.\n"
     ]
    },
    {
     "name": "stdout",
     "output_type": "stream",
     "text": [
      "Given a problem statement, generate an abstracted reformulation of that problem statement\n",
      "\n",
      "    Problem statement: Shield baby from the sun\n",
      "    Abstracted reformulation: Protect vulnerable object from radiation\n",
      "\n",
      "    Problem statement: Prevent feet from getting wet\n",
      "    Abstracted reformulation: Stop object from getting into contact with unwanted substances\n",
      "\n",
      "    Problem statement: Hold soap bars of multiple sizes\n",
      "    Abstracted reformulation: Contain objects of different volumes\n",
      "\n",
      "    Problem statement: Enable a broom to clean in hard to reach places\n",
      "    Abstracted reformulation: Extend the physical reach of a tool\n",
      "\n",
      "    Problem statement: drill into teeth quietly\n",
      "    Abstracted reformulation: create a hole in an object without causing an unwanted noise\n",
      "\n",
      "    Problem statement: make house out of cooked spaghetti\n",
      "    Abstracted reformulation: create strong, rigid structure out of soft materials\n",
      "\n",
      "    Problem statement: make house out of cooked spaghetti\n",
      "    Abstracted reformulation: create structure from elastic elements\n",
      "\n",
      "    Problem statement:  prevent bicycle tire flats\n",
      "    Abstracted reformulation: protect object from the penetration of foreign objects\n",
      "\n",
      "    Problem statement: prevent blood clotting in stents\n",
      "    Abstracted reformulation: prevent clogging of cylindrical tubes\n",
      "\n",
      "    Problem statement: transfer heat in semiconductors at nanoscale\n",
      "    Abstracted reformulation: Enable particles to flow in confined geometries\n",
      "\n",
      "    Problem statement:reduce seasickness in virtual reality systems\n",
      "    Abstracted reformulation: reduce user's dependency on information cues\n",
      "\n",
      "    Problem statement:reduce seasickness in virtual reality systems\n",
      "    Abstracted reformulation: Achieve robust orientation stability\n",
      "\n",
      "    Problem statement:reduce seasickness in virtual reality systems\n",
      "    Abstracted reformulation: improve the feel of a complicated motion or force\n",
      "\n",
      "    Problem statement:wash clothes without water\n",
      "    Abstracted reformulation: Remove dirt from objects by mechanical force\n",
      "\n",
      "    Problem statement:charge cell phones on the go\n",
      "    Abstracted reformulation: Charge a battery source from a remote energy-source\n",
      "\n",
      "    Problem statement:charge cell phones on the go\n",
      "    Abstracted reformulation: Supply power to electrical devices in the field\n",
      "\n",
      "    Problem statement:protect feet from getting wet\n",
      "    Abstracted reformulation: stop entry of foreign particles\n",
      "\n",
      "    Problem statement:protect feet from getting wet\n",
      "    Abstracted reformulation: Mechanically stop liquid from penetrating a space\n",
      "\n",
      "    Problem statement:shield baby from the sun\n",
      "    Abstracted reformulation: Protect vulnerable object from radiation\n",
      "\n",
      "    Problem statement:Prevent feet from getting wet\n",
      "    Abstracted reformulation: Stop object from getting into contact with unwanted substances\n",
      "\n",
      "    Problem statement: identify soldiers in old civil war photographs\n",
      "                                                                                                                                                                                                                                                                                                                                                                                     \n",
      "1 identify soldiers in old civil war photographs ->  281 0.4\n",
      "----------------------------------------\n"
     ]
    },
    {
     "name": "stderr",
     "output_type": "stream",
     "text": [
      "Setting `pad_token_id` to `eos_token_id`:50256 for open-end generation.\n"
     ]
    },
    {
     "name": "stdout",
     "output_type": "stream",
     "text": [
      "Given a problem statement, generate an abstracted reformulation of that problem statement\n",
      "\n",
      "    Problem statement: Shield baby from the sun\n",
      "    Abstracted reformulation: Protect vulnerable object from radiation\n",
      "\n",
      "    Problem statement: Prevent feet from getting wet\n",
      "    Abstracted reformulation: Stop object from getting into contact with unwanted substances\n",
      "\n",
      "    Problem statement: Hold soap bars of multiple sizes\n",
      "    Abstracted reformulation: Contain objects of different volumes\n",
      "\n",
      "    Problem statement: Enable a broom to clean in hard to reach places\n",
      "    Abstracted reformulation: Extend the physical reach of a tool\n",
      "\n",
      "    Problem statement: drill into teeth quietly\n",
      "    Abstracted reformulation: create a hole in an object without causing an unwanted noise\n",
      "\n",
      "    Problem statement: make house out of cooked spaghetti\n",
      "    Abstracted reformulation: create strong, rigid structure out of soft materials\n",
      "\n",
      "    Problem statement: make house out of cooked spaghetti\n",
      "    Abstracted reformulation: create structure from elastic elements\n",
      "\n",
      "    Problem statement:  prevent bicycle tire flats\n",
      "    Abstracted reformulation: protect object from the penetration of foreign objects\n",
      "\n",
      "    Problem statement: prevent blood clotting in stents\n",
      "    Abstracted reformulation: prevent clogging of cylindrical tubes\n",
      "\n",
      "    Problem statement: transfer heat in semiconductors at nanoscale\n",
      "    Abstracted reformulation: Enable particles to flow in confined geometries\n",
      "\n",
      "    Problem statement:reduce seasickness in virtual reality systems\n",
      "    Abstracted reformulation: reduce user's dependency on information cues\n",
      "\n",
      "    Problem statement:reduce seasickness in virtual reality systems\n",
      "    Abstracted reformulation: Achieve robust orientation stability\n",
      "\n",
      "    Problem statement:reduce seasickness in virtual reality systems\n",
      "    Abstracted reformulation: improve the feel of a complicated motion or force\n",
      "\n",
      "    Problem statement:wash clothes without water\n",
      "    Abstracted reformulation: Remove dirt from objects by mechanical force\n",
      "\n",
      "    Problem statement:charge cell phones on the go\n",
      "    Abstracted reformulation: Charge a battery source from a remote energy-source\n",
      "\n",
      "    Problem statement:charge cell phones on the go\n",
      "    Abstracted reformulation: Supply power to electrical devices in the field\n",
      "\n",
      "    Problem statement:protect feet from getting wet\n",
      "    Abstracted reformulation: stop entry of foreign particles\n",
      "\n",
      "    Problem statement:protect feet from getting wet\n",
      "    Abstracted reformulation: Mechanically stop liquid from penetrating a space\n",
      "\n",
      "    Problem statement:shield baby from the sun\n",
      "    Abstracted reformulation: Protect vulnerable object from radiation\n",
      "\n",
      "    Problem statement:Prevent feet from getting wet\n",
      "    Abstracted reformulation: Stop object from getting into contact with unwanted substances\n",
      "\n",
      "    Problem statement: identify soldiers in old civil war photographs\n",
      "                                                                                                                                                                                                                                                                                                                                                                                     \n",
      "2 identify soldiers in old civil war photographs ->  329 0.4\n",
      "----------------------------------------\n"
     ]
    }
   ],
   "source": [
    "\n"
   ]
  },
  {
   "cell_type": "code",
   "execution_count": 25,
   "metadata": {},
   "outputs": [],
   "source": []
  },
  {
   "cell_type": "code",
   "execution_count": 26,
   "metadata": {},
   "outputs": [
    {
     "name": "stderr",
     "output_type": "stream",
     "text": [
      "Setting `pad_token_id` to `eos_token_id`:50256 for open-end generation.\n"
     ]
    },
    {
     "name": "stdout",
     "output_type": "stream",
     "text": [
      "[{'generated_text': \"Given a problem statement, generate an abstracted reformulation of that problem statement\\n\\n    Problem statement:reduce seasickness in virtual reality systems\\n    Abstracted reformulation: reduce user's dependency on information cues\\n\\n    Problem statement:reduce seasickness in virtual reality systems\\n    Abstracted reformulation: Achieve robust orientation stability\\n\\n    Problem statement:reduce seasickness in virtual reality systems\\n    Abstracted reformulation: improve the feel of a complicated motion or force\\n\\n    Problem statement:wash clothes without water\\n    Abstracted reformulation: Remove dirt from objects by mechanical force\\n\\n    Problem statement:charge cell phones on the go\\n    Abstracted reformulation: Charge a battery source from a remote energy-source\\n\\n    Problem statement:charge cell phones on the go\\n    Abstracted reformulation: Supply power to electrical devices in the field\\n\\n    Problem statement:protect feet from getting wet\\n    Abstracted reformulation: stop entry of foreign particles\\n\\n    Problem statement:protect feet from getting wet\\n    Abstracted reformulation: Mechanically stop liquid from penetrating a space\\n\\n    Problem statement:shield baby from the sun\\n    Abstracted reformulation: Protect vulnerable object from radiation\\n\\n    Problem statement:Prevent feet from getting wet\\n    Abstracted reformulation: Stop object from getting into contact with unwanted substances\\n\\n    Problem statement: increase temperature of the cup\\n                                                                                                                                                                                \"}]\n"
     ]
    }
   ],
   "source": []
  },
  {
   "cell_type": "code",
   "execution_count": 18,
   "metadata": {},
   "outputs": [],
   "source": [
    "# res_generator_gpt_neo_125m[0]['generated_text']"
   ]
  },
  {
   "cell_type": "code",
   "execution_count": null,
   "metadata": {},
   "outputs": [],
   "source": []
  },
  {
   "cell_type": "code",
   "execution_count": null,
   "metadata": {},
   "outputs": [],
   "source": []
  },
  {
   "cell_type": "code",
   "execution_count": null,
   "metadata": {},
   "outputs": [],
   "source": []
  },
  {
   "cell_type": "code",
   "execution_count": null,
   "metadata": {},
   "outputs": [],
   "source": []
  },
  {
   "cell_type": "code",
   "execution_count": null,
   "metadata": {},
   "outputs": [],
   "source": []
  },
  {
   "cell_type": "code",
   "execution_count": null,
   "metadata": {},
   "outputs": [],
   "source": []
  },
  {
   "cell_type": "code",
   "execution_count": null,
   "metadata": {},
   "outputs": [],
   "source": []
  },
  {
   "cell_type": "code",
   "execution_count": null,
   "metadata": {},
   "outputs": [],
   "source": []
  },
  {
   "cell_type": "code",
   "execution_count": null,
   "metadata": {},
   "outputs": [],
   "source": []
  },
  {
   "cell_type": "code",
   "execution_count": null,
   "metadata": {},
   "outputs": [],
   "source": []
  },
  {
   "cell_type": "code",
   "execution_count": null,
   "metadata": {},
   "outputs": [],
   "source": []
  },
  {
   "cell_type": "code",
   "execution_count": null,
   "metadata": {},
   "outputs": [],
   "source": []
  },
  {
   "cell_type": "code",
   "execution_count": null,
   "metadata": {},
   "outputs": [],
   "source": [
    "# res_generator_gpt_neo_125m\n"
   ]
  },
  {
   "cell_type": "code",
   "execution_count": null,
   "metadata": {},
   "outputs": [],
   "source": [
    "# res_generator_gpt_neo_125m[0]['generated_text'].split('\\n\\n')[11].split('\\n')[0]"
   ]
  },
  {
   "cell_type": "code",
   "execution_count": null,
   "metadata": {},
   "outputs": [],
   "source": [
    "# res_generator_gpt_neo_125m[0]['generated_text'].split('\\n\\n')[11].split('\\n')[-1]"
   ]
  },
  {
   "cell_type": "code",
   "execution_count": null,
   "metadata": {},
   "outputs": [],
   "source": [
    "# print(res_generator_gpt_neo_125m[0]['generated_text'])"
   ]
  },
  {
   "cell_type": "code",
   "execution_count": null,
   "metadata": {},
   "outputs": [],
   "source": []
  },
  {
   "cell_type": "code",
   "execution_count": null,
   "metadata": {},
   "outputs": [],
   "source": []
  },
  {
   "cell_type": "code",
   "execution_count": null,
   "metadata": {},
   "outputs": [],
   "source": [
    "# print(res_generator_gpt_neo_1_3b[0]['generated_text'])"
   ]
  },
  {
   "cell_type": "code",
   "execution_count": null,
   "metadata": {},
   "outputs": [],
   "source": [
    "# res_generator_gpt_neo_2_7 = generator_gpt_neo_2_7(prompt,max_length = 500, do_sample = True,temperature = 0.9)"
   ]
  },
  {
   "cell_type": "code",
   "execution_count": null,
   "metadata": {},
   "outputs": [],
   "source": [
    "\n",
    "# print(res_generator_gpt_neo_2_7[0]['generated_text'])"
   ]
  },
  {
   "cell_type": "code",
   "execution_count": null,
   "metadata": {},
   "outputs": [],
   "source": [
    "# res_generator_gpt2 = generator_gpt2(prompt,max_length = 500, do_sample = True,temperature = 0.9)"
   ]
  },
  {
   "cell_type": "code",
   "execution_count": null,
   "metadata": {},
   "outputs": [],
   "source": [
    "\n",
    "\n",
    "# print(res_generator_gpt2[0]['generated_text'])"
   ]
  },
  {
   "cell_type": "code",
   "execution_count": null,
   "metadata": {},
   "outputs": [],
   "source": []
  },
  {
   "cell_type": "code",
   "execution_count": null,
   "metadata": {},
   "outputs": [],
   "source": []
  },
  {
   "cell_type": "code",
   "execution_count": null,
   "metadata": {},
   "outputs": [],
   "source": []
  },
  {
   "cell_type": "code",
   "execution_count": null,
   "metadata": {},
   "outputs": [],
   "source": []
  },
  {
   "cell_type": "code",
   "execution_count": null,
   "metadata": {},
   "outputs": [],
   "source": []
  },
  {
   "cell_type": "code",
   "execution_count": null,
   "metadata": {},
   "outputs": [],
   "source": []
  },
  {
   "cell_type": "code",
   "execution_count": null,
   "metadata": {},
   "outputs": [],
   "source": []
  },
  {
   "cell_type": "code",
   "execution_count": null,
   "metadata": {},
   "outputs": [],
   "source": []
  }
 ],
 "metadata": {
  "kernelspec": {
   "display_name": "Python 3",
   "language": "python",
   "name": "python3"
  },
  "language_info": {
   "codemirror_mode": {
    "name": "ipython",
    "version": 3
   },
   "file_extension": ".py",
   "mimetype": "text/x-python",
   "name": "python",
   "nbconvert_exporter": "python",
   "pygments_lexer": "ipython3",
   "version": "3.8.10"
  }
 },
 "nbformat": 4,
 "nbformat_minor": 4
}
