{
 "cells": [
  {
   "cell_type": "code",
   "execution_count": 1,
   "metadata": {},
   "outputs": [
    {
     "name": "stderr",
     "output_type": "stream",
     "text": [
      "C:\\Users\\ysj30\\anaconda3\\envs\\py38torch\\lib\\site-packages\\torchaudio\\backend\\utils.py:67: UserWarning: No audio backend is available.\n",
      "  warnings.warn('No audio backend is available.')\n"
     ]
    }
   ],
   "source": [
    "from transformers import pipeline"
   ]
  },
  {
   "cell_type": "code",
   "execution_count": 2,
   "metadata": {},
   "outputs": [],
   "source": [
    "import numpy as np\n",
    "import pandas as pd\n",
    "import random\n",
    "import string\n",
    "from datetime import datetime\n",
    "import time"
   ]
  },
  {
   "cell_type": "code",
   "execution_count": 3,
   "metadata": {},
   "outputs": [],
   "source": [
    "generator_gpt_neo_125m = pipeline('text-generation',model='EleutherAI/gpt-neo-125M')"
   ]
  },
  {
   "cell_type": "code",
   "execution_count": 4,
   "metadata": {},
   "outputs": [],
   "source": [
    "cols = ['id','model_name','iteration','temperature','input_length','problem_statement','abstract_reformulation','cumulative_time_in_seconds']\n",
    "def generate_blank_df(cols): \n",
    "    df = pd.DataFrame(columns = cols)\n",
    "    return df"
   ]
  },
  {
   "cell_type": "code",
   "execution_count": 5,
   "metadata": {},
   "outputs": [],
   "source": [
    "def get_current_date():\n",
    "    now = datetime.now()\n",
    "\n",
    "#     print(\"now =\", now)\n",
    "\n",
    "    # dd/mm/YY H:M:S\n",
    "    dt_string = now.strftime(\"%Y%m%d\")\n",
    "#     print(\"date and time =\", dt_string)\n",
    "    date_string = dt_string\n",
    "    return date_string"
   ]
  },
  {
   "cell_type": "code",
   "execution_count": 6,
   "metadata": {},
   "outputs": [],
   "source": [
    "date = get_current_date()"
   ]
  },
  {
   "cell_type": "code",
   "execution_count": 7,
   "metadata": {},
   "outputs": [],
   "source": [
    "def generate_output(model,max_iterations,prompt,number_of_problem_statements,temp,model_name_text,want_to_save_1or0):\n",
    "    start = time.time()\n",
    "    date = get_current_date()\n",
    "    df = generate_blank_df(cols)\n",
    "    rand_id = ''.join([random.choice(string.ascii_letters\n",
    "            + string.digits) for n in range(7)])\n",
    "    iteration_no = 1\n",
    "    columns = list(df)\n",
    "#     temp_str = str(temp)\n",
    "#     temp_str = temp_str.split('.')[-1]\n",
    "    file_name = date+'_'+model_name_text+'_'+rand_id+'_'+str(max_iterations)+'_'+str(number_of_problem_statements)+'.csv'\n",
    "    data = []\n",
    "    while temp < 1.0:\n",
    "        iteration_no = 1        \n",
    "        while iteration_no <= max_iterations:\n",
    "            cumulative_time=round((time.time()-start))\n",
    "            res_model = model(prompt,max_length = 32*number_of_problem_statements,do_sample = True,temperature = temp)\n",
    "#             print(res_model[0]['generated_text'])\n",
    "            problem_statement = res_model[0]['generated_text'].split('\\n\\n')[number_of_problem_statements+1].split('\\n')[0].split(':')[-1].strip()\n",
    "            abs_reformulation = res_model[0]['generated_text'].split('\\n\\n')[number_of_problem_statements+1].split('\\n')[-1].split(':')[-1].strip()\n",
    "            values_for_df = [rand_id,model_name_text,iteration_no,temp,number_of_problem_statements,problem_statement,abs_reformulation,cumulative_time]\n",
    "            zipped = zip(columns,values_for_df)\n",
    "            dict1 = dict(zipped)\n",
    "            data.append(dict1)\n",
    "            iteration_no += 1\n",
    "    #         print(f'Total time taken is {elapsed_time_lc}')\n",
    "            print(iteration_no-1,problem_statement,'->',abs_reformulation,cumulative_time,temp)\n",
    "            print('----------------------------------------')\n",
    "    #         print(rand_id,iteration_no,temp,number_of_problem_statements,problem_statement,abs_reformulation)\n",
    "        \n",
    "            df = df.append(data,ignore_index = True)\n",
    "        temp = round((temp+0.1),1)\n",
    "        \n",
    "    df = df.drop_duplicates()\n",
    "    \n",
    "    if(want_to_save_1or0==1):\n",
    "        df.to_csv(f'../Csv/{file_name}',index=False)\n",
    "    else:\n",
    "        print('returning_df')\n",
    "    \n",
    "    elapsed_time_lc=(time.time()-start)\n",
    "    print(f'Total time taken is {round(elapsed_time_lc)}')\n",
    "    \n",
    "    return df\n",
    "    "
   ]
  },
  {
   "cell_type": "code",
   "execution_count": 11,
   "metadata": {},
   "outputs": [],
   "source": [
    "user_input = \"fast predictive action with very little data\""
   ]
  },
  {
   "cell_type": "code",
   "execution_count": 12,
   "metadata": {},
   "outputs": [],
   "source": [
    "prompt = f\"\"\"Given a problem statement, generate an abstracted reformulation of that problem statement\n",
    "\n",
    "Problem statement: Shield baby from the sun\n",
    "Abstracted reformulation: Protect vulnerable object from radiation\n",
    "\n",
    "Problem statement: Prevent feet from getting wet\n",
    "Abstracted reformulation: Stop object from getting into contact with unwanted substances\n",
    "\n",
    "Problem statement: Hold soap bars of multiple sizes\n",
    "Abstracted reformulation: Contain objects of different volumes\n",
    "\n",
    "Problem statement: Enable a broom to clean in hard to reach places\n",
    "Abstracted reformulation: Extend the physical reach of a tool\n",
    "\n",
    "Problem statement: drill into teeth quietly\n",
    "Abstracted reformulation: create a hole in an object without causing an unwanted noise\n",
    "\n",
    "Problem statement: make house out of cooked spaghetti\n",
    "Abstracted reformulation: create strong, rigid structure out of soft materials\n",
    "\n",
    "Problem statement: make house out of cooked spaghetti\n",
    "Abstracted reformulation: create structure from elastic elements\n",
    "\n",
    "Problem statement:  prevent bicycle tire flats\n",
    "Abstracted reformulation: protect object from the penetration of foreign objects\n",
    "\n",
    "Problem statement: prevent blood clotting in stents\n",
    "Abstracted reformulation: prevent clogging of cylindrical tubes\n",
    "\n",
    "Problem statement: transfer heat in semiconductors at nanoscale\n",
    "Abstracted reformulation: Enable particles to flow in confined geometries\n",
    "\n",
    "Problem statement:reduce seasickness in virtual reality systems\n",
    "Abstracted reformulation: reduce user's dependency on information cues\n",
    "\n",
    "Problem statement:reduce seasickness in virtual reality systems\n",
    "Abstracted reformulation: Achieve robust orientation stability\n",
    "\n",
    "Problem statement:reduce seasickness in virtual reality systems\n",
    "Abstracted reformulation: improve the feel of a complicated motion or force\n",
    "\n",
    "Problem statement:wash clothes without water\n",
    "Abstracted reformulation: Remove dirt from objects by mechanical force\n",
    "\n",
    "Problem statement:charge cell phones on the go\n",
    "Abstracted reformulation: Charge a battery source from a remote energy-source\n",
    "\n",
    "Problem statement:charge cell phones on the go\n",
    "Abstracted reformulation: Supply power to electrical devices in the field\n",
    "\n",
    "Problem statement:protect feet from getting wet\n",
    "Abstracted reformulation: stop entry of foreign particles\n",
    "\n",
    "Problem statement:protect feet from getting wet\n",
    "Abstracted reformulation: Mechanically stop liquid from penetrating a space\n",
    "\n",
    "Problem statement:shield baby from the sun\n",
    "Abstracted reformulation: Protect vulnerable object from radiation\n",
    "\n",
    "Problem statement:Prevent feet from getting wet\n",
    "Abstracted reformulation: Stop object from getting into contact with unwanted substances\n",
    "\n",
    "Problem statement: {user_input}\n",
    "\"\"\""
   ]
  },
  {
   "cell_type": "code",
   "execution_count": null,
   "metadata": {},
   "outputs": [
    {
     "name": "stderr",
     "output_type": "stream",
     "text": [
      "Setting `pad_token_id` to `eos_token_id`:50256 for open-end generation.\n",
      "Setting `pad_token_id` to `eos_token_id`:50256 for open-end generation.\n"
     ]
    },
    {
     "name": "stdout",
     "output_type": "stream",
     "text": [
      "1 fast predictive action with very little data -> Prevent object from getting into contact with unwanted substances 0 0.1\n",
      "----------------------------------------\n"
     ]
    },
    {
     "name": "stderr",
     "output_type": "stream",
     "text": [
      "Setting `pad_token_id` to `eos_token_id`:50256 for open-end generation.\n"
     ]
    },
    {
     "name": "stdout",
     "output_type": "stream",
     "text": [
      "2 fast predictive action with very little data -> Prevent object from getting into contact with unwanted substances 409 0.1\n",
      "----------------------------------------\n"
     ]
    },
    {
     "name": "stderr",
     "output_type": "stream",
     "text": [
      "Setting `pad_token_id` to `eos_token_id`:50256 for open-end generation.\n"
     ]
    },
    {
     "name": "stdout",
     "output_type": "stream",
     "text": [
      "3 fast predictive action with very little data -> Prevent object from getting into contact with unwanted substances 427 0.1\n",
      "----------------------------------------\n"
     ]
    },
    {
     "name": "stderr",
     "output_type": "stream",
     "text": [
      "Setting `pad_token_id` to `eos_token_id`:50256 for open-end generation.\n"
     ]
    },
    {
     "name": "stdout",
     "output_type": "stream",
     "text": [
      "4 fast predictive action with very little data -> Prevent object from getting into contact with unwanted substances 445 0.1\n",
      "----------------------------------------\n"
     ]
    },
    {
     "name": "stderr",
     "output_type": "stream",
     "text": [
      "Setting `pad_token_id` to `eos_token_id`:50256 for open-end generation.\n"
     ]
    },
    {
     "name": "stdout",
     "output_type": "stream",
     "text": [
      "5 fast predictive action with very little data -> Prevent object from getting into contact with unwanted substances 463 0.1\n",
      "----------------------------------------\n"
     ]
    },
    {
     "name": "stderr",
     "output_type": "stream",
     "text": [
      "Setting `pad_token_id` to `eos_token_id`:50256 for open-end generation.\n"
     ]
    },
    {
     "name": "stdout",
     "output_type": "stream",
     "text": [
      "6 fast predictive action with very little data -> Prevent object from getting into contact with unwanted substances 481 0.1\n",
      "----------------------------------------\n"
     ]
    },
    {
     "name": "stderr",
     "output_type": "stream",
     "text": [
      "Setting `pad_token_id` to `eos_token_id`:50256 for open-end generation.\n"
     ]
    },
    {
     "name": "stdout",
     "output_type": "stream",
     "text": [
      "7 fast predictive action with very little data -> Prevent object from getting into contact with unwanted substances 499 0.1\n",
      "----------------------------------------\n"
     ]
    },
    {
     "name": "stderr",
     "output_type": "stream",
     "text": [
      "Setting `pad_token_id` to `eos_token_id`:50256 for open-end generation.\n"
     ]
    },
    {
     "name": "stdout",
     "output_type": "stream",
     "text": [
      "8 fast predictive action with very little data -> Prevent object from getting into contact with unwanted substances 518 0.1\n",
      "----------------------------------------\n"
     ]
    },
    {
     "name": "stderr",
     "output_type": "stream",
     "text": [
      "Setting `pad_token_id` to `eos_token_id`:50256 for open-end generation.\n"
     ]
    },
    {
     "name": "stdout",
     "output_type": "stream",
     "text": [
      "9 fast predictive action with very little data -> Prevent object from getting into contact with unwanted substances 536 0.1\n",
      "----------------------------------------\n"
     ]
    },
    {
     "name": "stderr",
     "output_type": "stream",
     "text": [
      "Setting `pad_token_id` to `eos_token_id`:50256 for open-end generation.\n"
     ]
    },
    {
     "name": "stdout",
     "output_type": "stream",
     "text": [
      "10 fast predictive action with very little data -> Prevent object from getting into contact with unwanted substances 555 0.1\n",
      "----------------------------------------\n"
     ]
    },
    {
     "name": "stderr",
     "output_type": "stream",
     "text": [
      "Setting `pad_token_id` to `eos_token_id`:50256 for open-end generation.\n"
     ]
    },
    {
     "name": "stdout",
     "output_type": "stream",
     "text": [
      "11 fast predictive action with very little data -> Prevent object from getting into contact with unwanted substances 574 0.1\n",
      "----------------------------------------\n"
     ]
    },
    {
     "name": "stderr",
     "output_type": "stream",
     "text": [
      "Setting `pad_token_id` to `eos_token_id`:50256 for open-end generation.\n"
     ]
    },
    {
     "name": "stdout",
     "output_type": "stream",
     "text": [
      "12 fast predictive action with very little data -> Prevent object from getting into contact with unwanted substances 593 0.1\n",
      "----------------------------------------\n"
     ]
    },
    {
     "name": "stderr",
     "output_type": "stream",
     "text": [
      "Setting `pad_token_id` to `eos_token_id`:50256 for open-end generation.\n"
     ]
    },
    {
     "name": "stdout",
     "output_type": "stream",
     "text": [
      "13 fast predictive action with very little data -> Prevent object from getting into contact with unwanted substances 612 0.1\n",
      "----------------------------------------\n"
     ]
    },
    {
     "name": "stderr",
     "output_type": "stream",
     "text": [
      "Setting `pad_token_id` to `eos_token_id`:50256 for open-end generation.\n"
     ]
    },
    {
     "name": "stdout",
     "output_type": "stream",
     "text": [
      "14 fast predictive action with very little data -> Prevent object from getting into contact with unwanted substances 629 0.1\n",
      "----------------------------------------\n"
     ]
    },
    {
     "name": "stderr",
     "output_type": "stream",
     "text": [
      "Setting `pad_token_id` to `eos_token_id`:50256 for open-end generation.\n"
     ]
    },
    {
     "name": "stdout",
     "output_type": "stream",
     "text": [
      "15 fast predictive action with very little data -> Prevent object from getting into contact with unwanted substances 649 0.1\n",
      "----------------------------------------\n"
     ]
    },
    {
     "name": "stderr",
     "output_type": "stream",
     "text": [
      "Setting `pad_token_id` to `eos_token_id`:50256 for open-end generation.\n"
     ]
    },
    {
     "name": "stdout",
     "output_type": "stream",
     "text": [
      "16 fast predictive action with very little data -> Prevent object from getting into contact with unwanted substances 669 0.1\n",
      "----------------------------------------\n"
     ]
    },
    {
     "name": "stderr",
     "output_type": "stream",
     "text": [
      "Setting `pad_token_id` to `eos_token_id`:50256 for open-end generation.\n"
     ]
    },
    {
     "name": "stdout",
     "output_type": "stream",
     "text": [
      "17 fast predictive action with very little data -> Prevent object from getting into contact with unwanted substances 690 0.1\n",
      "----------------------------------------\n"
     ]
    },
    {
     "name": "stderr",
     "output_type": "stream",
     "text": [
      "Setting `pad_token_id` to `eos_token_id`:50256 for open-end generation.\n"
     ]
    },
    {
     "name": "stdout",
     "output_type": "stream",
     "text": [
      "18 fast predictive action with very little data -> Prevent object from getting into contact with unwanted substances 710 0.1\n",
      "----------------------------------------\n"
     ]
    },
    {
     "name": "stderr",
     "output_type": "stream",
     "text": [
      "Setting `pad_token_id` to `eos_token_id`:50256 for open-end generation.\n"
     ]
    },
    {
     "name": "stdout",
     "output_type": "stream",
     "text": [
      "19 fast predictive action with very little data -> Prevent object from getting into contact with unwanted substances 731 0.1\n",
      "----------------------------------------\n"
     ]
    },
    {
     "name": "stderr",
     "output_type": "stream",
     "text": [
      "Setting `pad_token_id` to `eos_token_id`:50256 for open-end generation.\n"
     ]
    },
    {
     "name": "stdout",
     "output_type": "stream",
     "text": [
      "20 fast predictive action with very little data -> Prevent object from getting into contact with unwanted substances 751 0.1\n",
      "----------------------------------------\n"
     ]
    },
    {
     "name": "stderr",
     "output_type": "stream",
     "text": [
      "Setting `pad_token_id` to `eos_token_id`:50256 for open-end generation.\n"
     ]
    },
    {
     "name": "stdout",
     "output_type": "stream",
     "text": [
      "1 fast predictive action with very little data -> Prevent object from getting into contact with unwanted substances 771 0.2\n",
      "----------------------------------------\n"
     ]
    },
    {
     "name": "stderr",
     "output_type": "stream",
     "text": [
      "Setting `pad_token_id` to `eos_token_id`:50256 for open-end generation.\n"
     ]
    },
    {
     "name": "stdout",
     "output_type": "stream",
     "text": [
      "2 fast predictive action with very little data -> Prevent object from getting into contact with unwanted substances 790 0.2\n",
      "----------------------------------------\n"
     ]
    },
    {
     "name": "stderr",
     "output_type": "stream",
     "text": [
      "Setting `pad_token_id` to `eos_token_id`:50256 for open-end generation.\n"
     ]
    },
    {
     "name": "stdout",
     "output_type": "stream",
     "text": [
      "3 fast predictive action with very little data -> Prevent object from getting into contact with unwanted substances 811 0.2\n",
      "----------------------------------------\n"
     ]
    },
    {
     "name": "stderr",
     "output_type": "stream",
     "text": [
      "Setting `pad_token_id` to `eos_token_id`:50256 for open-end generation.\n"
     ]
    },
    {
     "name": "stdout",
     "output_type": "stream",
     "text": [
      "4 fast predictive action with very little data -> Improve the perception of a complex motion 832 0.2\n",
      "----------------------------------------\n"
     ]
    },
    {
     "name": "stderr",
     "output_type": "stream",
     "text": [
      "Setting `pad_token_id` to `eos_token_id`:50256 for open-end generation.\n"
     ]
    },
    {
     "name": "stdout",
     "output_type": "stream",
     "text": [
      "5 fast predictive action with very little data -> Prevent object from getting into contact with unwanted substances 852 0.2\n",
      "----------------------------------------\n"
     ]
    },
    {
     "name": "stderr",
     "output_type": "stream",
     "text": [
      "Setting `pad_token_id` to `eos_token_id`:50256 for open-end generation.\n"
     ]
    },
    {
     "name": "stdout",
     "output_type": "stream",
     "text": [
      "6 fast predictive action with very little data -> Prevent object from getting into contact with unwanted substances 878 0.2\n",
      "----------------------------------------\n"
     ]
    },
    {
     "name": "stderr",
     "output_type": "stream",
     "text": [
      "Setting `pad_token_id` to `eos_token_id`:50256 for open-end generation.\n"
     ]
    },
    {
     "name": "stdout",
     "output_type": "stream",
     "text": [
      "7 fast predictive action with very little data -> Prevent object from getting into contact with unwanted substances 902 0.2\n",
      "----------------------------------------\n"
     ]
    },
    {
     "name": "stderr",
     "output_type": "stream",
     "text": [
      "Setting `pad_token_id` to `eos_token_id`:50256 for open-end generation.\n"
     ]
    },
    {
     "name": "stdout",
     "output_type": "stream",
     "text": [
      "8 fast predictive action with very little data -> Prevent object from getting into contact with unwanted substances 924 0.2\n",
      "----------------------------------------\n"
     ]
    },
    {
     "name": "stderr",
     "output_type": "stream",
     "text": [
      "Setting `pad_token_id` to `eos_token_id`:50256 for open-end generation.\n"
     ]
    },
    {
     "name": "stdout",
     "output_type": "stream",
     "text": [
      "9 fast predictive action with very little data -> Prevent object from getting into contact with unwanted substances 949 0.2\n",
      "----------------------------------------\n"
     ]
    },
    {
     "name": "stderr",
     "output_type": "stream",
     "text": [
      "Setting `pad_token_id` to `eos_token_id`:50256 for open-end generation.\n"
     ]
    },
    {
     "name": "stdout",
     "output_type": "stream",
     "text": [
      "10 fast predictive action with very little data -> Prevent object from getting into contact with unwanted substances 977 0.2\n",
      "----------------------------------------\n"
     ]
    },
    {
     "name": "stderr",
     "output_type": "stream",
     "text": [
      "Setting `pad_token_id` to `eos_token_id`:50256 for open-end generation.\n"
     ]
    },
    {
     "name": "stdout",
     "output_type": "stream",
     "text": [
      "11 fast predictive action with very little data -> Prevent object from getting into contact with unwanted substances 1009 0.2\n",
      "----------------------------------------\n"
     ]
    },
    {
     "name": "stderr",
     "output_type": "stream",
     "text": [
      "Setting `pad_token_id` to `eos_token_id`:50256 for open-end generation.\n"
     ]
    },
    {
     "name": "stdout",
     "output_type": "stream",
     "text": [
      "12 fast predictive action with very little data -> Prevent object from getting into contact with unwanted substances 1049 0.2\n",
      "----------------------------------------\n"
     ]
    },
    {
     "name": "stderr",
     "output_type": "stream",
     "text": [
      "Setting `pad_token_id` to `eos_token_id`:50256 for open-end generation.\n"
     ]
    },
    {
     "name": "stdout",
     "output_type": "stream",
     "text": [
      "13 fast predictive action with very little data -> Prevent object from getting into contact with unwanted substances 1092 0.2\n",
      "----------------------------------------\n"
     ]
    },
    {
     "name": "stderr",
     "output_type": "stream",
     "text": [
      "Setting `pad_token_id` to `eos_token_id`:50256 for open-end generation.\n"
     ]
    },
    {
     "name": "stdout",
     "output_type": "stream",
     "text": [
      "14 fast predictive action with very little data -> Prevent object from getting into contact with unwanted substances 1122 0.2\n",
      "----------------------------------------\n"
     ]
    },
    {
     "name": "stderr",
     "output_type": "stream",
     "text": [
      "Setting `pad_token_id` to `eos_token_id`:50256 for open-end generation.\n"
     ]
    },
    {
     "name": "stdout",
     "output_type": "stream",
     "text": [
      "15 fast predictive action with very little data -> Prevent object from getting into contact with unwanted substances 1143 0.2\n",
      "----------------------------------------\n"
     ]
    },
    {
     "name": "stderr",
     "output_type": "stream",
     "text": [
      "Setting `pad_token_id` to `eos_token_id`:50256 for open-end generation.\n"
     ]
    },
    {
     "name": "stdout",
     "output_type": "stream",
     "text": [
      "16 fast predictive action with very little data -> Prevent objects from getting into contact with unwanted substances 1166 0.2\n",
      "----------------------------------------\n"
     ]
    },
    {
     "name": "stderr",
     "output_type": "stream",
     "text": [
      "Setting `pad_token_id` to `eos_token_id`:50256 for open-end generation.\n"
     ]
    },
    {
     "name": "stdout",
     "output_type": "stream",
     "text": [
      "17 fast predictive action with very little data -> Improve the accuracy of the action 1190 0.2\n",
      "----------------------------------------\n"
     ]
    },
    {
     "name": "stderr",
     "output_type": "stream",
     "text": [
      "Setting `pad_token_id` to `eos_token_id`:50256 for open-end generation.\n"
     ]
    },
    {
     "name": "stdout",
     "output_type": "stream",
     "text": [
      "18 fast predictive action with very little data -> Reduce the number of steps required to predict the behavior of a system 1212 0.2\n",
      "----------------------------------------\n"
     ]
    },
    {
     "name": "stderr",
     "output_type": "stream",
     "text": [
      "Setting `pad_token_id` to `eos_token_id`:50256 for open-end generation.\n"
     ]
    },
    {
     "name": "stdout",
     "output_type": "stream",
     "text": [
      "19 fast predictive action with very little data -> Prevent object from getting into contact with unwanted substances 1230 0.2\n",
      "----------------------------------------\n"
     ]
    },
    {
     "name": "stderr",
     "output_type": "stream",
     "text": [
      "Setting `pad_token_id` to `eos_token_id`:50256 for open-end generation.\n"
     ]
    },
    {
     "name": "stdout",
     "output_type": "stream",
     "text": [
      "20 fast predictive action with very little data -> Improve the accuracy of the action 1249 0.2\n",
      "----------------------------------------\n"
     ]
    },
    {
     "name": "stderr",
     "output_type": "stream",
     "text": [
      "Setting `pad_token_id` to `eos_token_id`:50256 for open-end generation.\n"
     ]
    },
    {
     "name": "stdout",
     "output_type": "stream",
     "text": [
      "1 fast predictive action with very little data -> Prevent object from getting into contact with unwanted substances 1268 0.3\n",
      "----------------------------------------\n"
     ]
    },
    {
     "name": "stderr",
     "output_type": "stream",
     "text": [
      "Setting `pad_token_id` to `eos_token_id`:50256 for open-end generation.\n"
     ]
    },
    {
     "name": "stdout",
     "output_type": "stream",
     "text": [
      "2 fast predictive action with very little data -> Protect sensitive objects from radiation 1287 0.3\n",
      "----------------------------------------\n"
     ]
    },
    {
     "name": "stderr",
     "output_type": "stream",
     "text": [
      "Setting `pad_token_id` to `eos_token_id`:50256 for open-end generation.\n"
     ]
    },
    {
     "name": "stdout",
     "output_type": "stream",
     "text": [
      "3 fast predictive action with very little data -> Prevent object from getting into contact with unwanted substances 1306 0.3\n",
      "----------------------------------------\n"
     ]
    },
    {
     "name": "stderr",
     "output_type": "stream",
     "text": [
      "Setting `pad_token_id` to `eos_token_id`:50256 for open-end generation.\n"
     ]
    },
    {
     "name": "stdout",
     "output_type": "stream",
     "text": [
      "4 fast predictive action with very little data -> Prevent object from getting into contact with unwanted substances 1325 0.3\n",
      "----------------------------------------\n"
     ]
    },
    {
     "name": "stderr",
     "output_type": "stream",
     "text": [
      "Setting `pad_token_id` to `eos_token_id`:50256 for open-end generation.\n"
     ]
    },
    {
     "name": "stdout",
     "output_type": "stream",
     "text": [
      "5 fast predictive action with very little data -> Prevent objects from getting into contact with unwanted substances 1344 0.3\n",
      "----------------------------------------\n"
     ]
    },
    {
     "name": "stderr",
     "output_type": "stream",
     "text": [
      "Setting `pad_token_id` to `eos_token_id`:50256 for open-end generation.\n"
     ]
    },
    {
     "name": "stdout",
     "output_type": "stream",
     "text": [
      "6 fast predictive action with very little data -> Enable a broom to clean in hard to reach places 1362 0.3\n",
      "----------------------------------------\n"
     ]
    },
    {
     "name": "stderr",
     "output_type": "stream",
     "text": [
      "Setting `pad_token_id` to `eos_token_id`:50256 for open-end generation.\n"
     ]
    },
    {
     "name": "stdout",
     "output_type": "stream",
     "text": [
      "7 fast predictive action with very little data -> Improve the accuracy of action 1380 0.3\n",
      "----------------------------------------\n"
     ]
    },
    {
     "name": "stderr",
     "output_type": "stream",
     "text": [
      "Setting `pad_token_id` to `eos_token_id`:50256 for open-end generation.\n"
     ]
    },
    {
     "name": "stdout",
     "output_type": "stream",
     "text": [
      "8 fast predictive action with very little data -> Prevent object from getting into contact with unwanted substances 1398 0.3\n",
      "----------------------------------------\n"
     ]
    },
    {
     "name": "stderr",
     "output_type": "stream",
     "text": [
      "Setting `pad_token_id` to `eos_token_id`:50256 for open-end generation.\n"
     ]
    },
    {
     "name": "stdout",
     "output_type": "stream",
     "text": [
      "9 fast predictive action with very little data -> Prevent object from getting into contact with unwanted substances 1416 0.3\n",
      "----------------------------------------\n"
     ]
    },
    {
     "name": "stderr",
     "output_type": "stream",
     "text": [
      "Setting `pad_token_id` to `eos_token_id`:50256 for open-end generation.\n"
     ]
    },
    {
     "name": "stdout",
     "output_type": "stream",
     "text": [
      "10 fast predictive action with very little data -> Prevent object from getting into contact with unwanted substances 1435 0.3\n",
      "----------------------------------------\n"
     ]
    },
    {
     "name": "stderr",
     "output_type": "stream",
     "text": [
      "Setting `pad_token_id` to `eos_token_id`:50256 for open-end generation.\n"
     ]
    },
    {
     "name": "stdout",
     "output_type": "stream",
     "text": [
      "11 fast predictive action with very little data -> Prevent object from getting into contact with unwanted substances 1456 0.3\n",
      "----------------------------------------\n"
     ]
    },
    {
     "name": "stderr",
     "output_type": "stream",
     "text": [
      "Setting `pad_token_id` to `eos_token_id`:50256 for open-end generation.\n"
     ]
    },
    {
     "name": "stdout",
     "output_type": "stream",
     "text": [
      "12 fast predictive action with very little data -> Prevent object from getting into contact with unwanted substances 1477 0.3\n",
      "----------------------------------------\n"
     ]
    },
    {
     "name": "stderr",
     "output_type": "stream",
     "text": [
      "Setting `pad_token_id` to `eos_token_id`:50256 for open-end generation.\n"
     ]
    },
    {
     "name": "stdout",
     "output_type": "stream",
     "text": [
      "13 fast predictive action with very little data -> Prevent objects from getting into contact with unwanted substances 1497 0.3\n",
      "----------------------------------------\n"
     ]
    },
    {
     "name": "stderr",
     "output_type": "stream",
     "text": [
      "Setting `pad_token_id` to `eos_token_id`:50256 for open-end generation.\n"
     ]
    },
    {
     "name": "stdout",
     "output_type": "stream",
     "text": [
      "14 fast predictive action with very little data -> Improve the accuracy of the action 1517 0.3\n",
      "----------------------------------------\n"
     ]
    },
    {
     "name": "stderr",
     "output_type": "stream",
     "text": [
      "Setting `pad_token_id` to `eos_token_id`:50256 for open-end generation.\n"
     ]
    },
    {
     "name": "stdout",
     "output_type": "stream",
     "text": [
      "15 fast predictive action with very little data -> Prevent object from getting into contact with unwanted substances 1535 0.3\n",
      "----------------------------------------\n"
     ]
    },
    {
     "name": "stderr",
     "output_type": "stream",
     "text": [
      "Setting `pad_token_id` to `eos_token_id`:50256 for open-end generation.\n"
     ]
    },
    {
     "name": "stdout",
     "output_type": "stream",
     "text": [
      "16 fast predictive action with very little data -> Prevent objects from getting into contact with unwanted substances 1556 0.3\n",
      "----------------------------------------\n"
     ]
    },
    {
     "name": "stderr",
     "output_type": "stream",
     "text": [
      "Setting `pad_token_id` to `eos_token_id`:50256 for open-end generation.\n"
     ]
    },
    {
     "name": "stdout",
     "output_type": "stream",
     "text": [
      "17 fast predictive action with very little data -> Prevent object from getting into contact with unwanted substances 1574 0.3\n",
      "----------------------------------------\n"
     ]
    },
    {
     "name": "stderr",
     "output_type": "stream",
     "text": [
      "Setting `pad_token_id` to `eos_token_id`:50256 for open-end generation.\n"
     ]
    },
    {
     "name": "stdout",
     "output_type": "stream",
     "text": [
      "18 fast predictive action with very little data -> Improve the accuracy of action 1593 0.3\n",
      "----------------------------------------\n"
     ]
    },
    {
     "name": "stderr",
     "output_type": "stream",
     "text": [
      "Setting `pad_token_id` to `eos_token_id`:50256 for open-end generation.\n"
     ]
    },
    {
     "name": "stdout",
     "output_type": "stream",
     "text": [
      "19 fast predictive action with very little data -> Prevent objects from getting into contact with unwanted substances 1611 0.3\n",
      "----------------------------------------\n"
     ]
    },
    {
     "name": "stderr",
     "output_type": "stream",
     "text": [
      "Setting `pad_token_id` to `eos_token_id`:50256 for open-end generation.\n"
     ]
    },
    {
     "name": "stdout",
     "output_type": "stream",
     "text": [
      "20 fast predictive action with very little data -> Protect object from radiation 1629 0.3\n",
      "----------------------------------------\n"
     ]
    },
    {
     "name": "stderr",
     "output_type": "stream",
     "text": [
      "Setting `pad_token_id` to `eos_token_id`:50256 for open-end generation.\n"
     ]
    },
    {
     "name": "stdout",
     "output_type": "stream",
     "text": [
      "1 fast predictive action with very little data -> Prevent object from getting into contact with unwanted substances 1648 0.4\n",
      "----------------------------------------\n"
     ]
    },
    {
     "name": "stderr",
     "output_type": "stream",
     "text": [
      "Setting `pad_token_id` to `eos_token_id`:50256 for open-end generation.\n"
     ]
    },
    {
     "name": "stdout",
     "output_type": "stream",
     "text": [
      "2 fast predictive action with very little data -> Stop object from getting into contact with unwanted substances 1666 0.4\n",
      "----------------------------------------\n"
     ]
    },
    {
     "name": "stderr",
     "output_type": "stream",
     "text": [
      "Setting `pad_token_id` to `eos_token_id`:50256 for open-end generation.\n"
     ]
    },
    {
     "name": "stdout",
     "output_type": "stream",
     "text": [
      "3 fast predictive action with very little data -> Prevent object from getting into contact with unwanted substances 1687 0.4\n",
      "----------------------------------------\n"
     ]
    },
    {
     "name": "stderr",
     "output_type": "stream",
     "text": [
      "Setting `pad_token_id` to `eos_token_id`:50256 for open-end generation.\n"
     ]
    },
    {
     "name": "stdout",
     "output_type": "stream",
     "text": [
      "4 fast predictive action with very little data -> Prevent object from getting into contact with unwanted substances 1708 0.4\n",
      "----------------------------------------\n"
     ]
    },
    {
     "name": "stderr",
     "output_type": "stream",
     "text": [
      "Setting `pad_token_id` to `eos_token_id`:50256 for open-end generation.\n"
     ]
    },
    {
     "name": "stdout",
     "output_type": "stream",
     "text": [
      "5 fast predictive action with very little data -> Prevent object from getting into contact with unwanted substances 1731 0.4\n",
      "----------------------------------------\n"
     ]
    },
    {
     "name": "stderr",
     "output_type": "stream",
     "text": [
      "Setting `pad_token_id` to `eos_token_id`:50256 for open-end generation.\n"
     ]
    },
    {
     "name": "stdout",
     "output_type": "stream",
     "text": [
      "6 fast predictive action with very little data -> prevent objects from being damaged by the impact of force 1751 0.4\n",
      "----------------------------------------\n"
     ]
    },
    {
     "name": "stderr",
     "output_type": "stream",
     "text": [
      "Setting `pad_token_id` to `eos_token_id`:50256 for open-end generation.\n"
     ]
    },
    {
     "name": "stdout",
     "output_type": "stream",
     "text": [
      "7 fast predictive action with very little data -> fast predictive action with very little data 1773 0.4\n",
      "----------------------------------------\n"
     ]
    },
    {
     "name": "stderr",
     "output_type": "stream",
     "text": [
      "Setting `pad_token_id` to `eos_token_id`:50256 for open-end generation.\n"
     ]
    },
    {
     "name": "stdout",
     "output_type": "stream",
     "text": [
      "8 fast predictive action with very little data -> Prevent object from getting into contact with unwanted substances 1794 0.4\n",
      "----------------------------------------\n"
     ]
    },
    {
     "name": "stderr",
     "output_type": "stream",
     "text": [
      "Setting `pad_token_id` to `eos_token_id`:50256 for open-end generation.\n"
     ]
    },
    {
     "name": "stdout",
     "output_type": "stream",
     "text": [
      "9 fast predictive action with very little data -> Protect object from radiation 1816 0.4\n",
      "----------------------------------------\n"
     ]
    },
    {
     "name": "stderr",
     "output_type": "stream",
     "text": [
      "Setting `pad_token_id` to `eos_token_id`:50256 for open-end generation.\n"
     ]
    },
    {
     "name": "stdout",
     "output_type": "stream",
     "text": [
      "10 fast predictive action with very little data -> reduce the number of data points 1840 0.4\n",
      "----------------------------------------\n"
     ]
    },
    {
     "name": "stderr",
     "output_type": "stream",
     "text": [
      "Setting `pad_token_id` to `eos_token_id`:50256 for open-end generation.\n"
     ]
    },
    {
     "name": "stdout",
     "output_type": "stream",
     "text": [
      "11 fast predictive action with very little data -> reduce the amount of information that can be used to predict the behavior of a system 1864 0.4\n",
      "----------------------------------------\n"
     ]
    },
    {
     "name": "stderr",
     "output_type": "stream",
     "text": [
      "Setting `pad_token_id` to `eos_token_id`:50256 for open-end generation.\n"
     ]
    },
    {
     "name": "stdout",
     "output_type": "stream",
     "text": [
      "12 fast predictive action with very little data -> Improve the perception of a complex motion or force 1894 0.4\n",
      "----------------------------------------\n"
     ]
    },
    {
     "name": "stderr",
     "output_type": "stream",
     "text": [
      "Setting `pad_token_id` to `eos_token_id`:50256 for open-end generation.\n"
     ]
    },
    {
     "name": "stdout",
     "output_type": "stream",
     "text": [
      "13 fast predictive action with very little data -> prevent object from getting into contact with unwanted substances 1919 0.4\n",
      "----------------------------------------\n"
     ]
    },
    {
     "name": "stderr",
     "output_type": "stream",
     "text": [
      "Setting `pad_token_id` to `eos_token_id`:50256 for open-end generation.\n"
     ]
    },
    {
     "name": "stdout",
     "output_type": "stream",
     "text": [
      "14 fast predictive action with very little data -> Protect object from radiation 1939 0.4\n",
      "----------------------------------------\n"
     ]
    },
    {
     "name": "stderr",
     "output_type": "stream",
     "text": [
      "Setting `pad_token_id` to `eos_token_id`:50256 for open-end generation.\n"
     ]
    },
    {
     "name": "stdout",
     "output_type": "stream",
     "text": [
      "15 fast predictive action with very little data -> Improve the perception of a complex motion 1957 0.4\n",
      "----------------------------------------\n"
     ]
    },
    {
     "name": "stderr",
     "output_type": "stream",
     "text": [
      "Setting `pad_token_id` to `eos_token_id`:50256 for open-end generation.\n"
     ]
    },
    {
     "name": "stdout",
     "output_type": "stream",
     "text": [
      "16 fast predictive action with very little data -> reduce the number of steps 1978 0.4\n",
      "----------------------------------------\n"
     ]
    },
    {
     "name": "stderr",
     "output_type": "stream",
     "text": [
      "Setting `pad_token_id` to `eos_token_id`:50256 for open-end generation.\n"
     ]
    },
    {
     "name": "stdout",
     "output_type": "stream",
     "text": [
      "17 fast predictive action with very little data -> Start with object and proceed with action 1997 0.4\n",
      "----------------------------------------\n"
     ]
    },
    {
     "name": "stderr",
     "output_type": "stream",
     "text": [
      "Setting `pad_token_id` to `eos_token_id`:50256 for open-end generation.\n"
     ]
    },
    {
     "name": "stdout",
     "output_type": "stream",
     "text": [
      "18 fast predictive action with very little data -> Prevent object from getting into contact with unwanted substances 2016 0.4\n",
      "----------------------------------------\n"
     ]
    },
    {
     "name": "stderr",
     "output_type": "stream",
     "text": [
      "Setting `pad_token_id` to `eos_token_id`:50256 for open-end generation.\n"
     ]
    },
    {
     "name": "stdout",
     "output_type": "stream",
     "text": [
      "19 fast predictive action with very little data -> Prevent object from getting into contact with unwanted substances 2035 0.4\n",
      "----------------------------------------\n"
     ]
    },
    {
     "name": "stderr",
     "output_type": "stream",
     "text": [
      "Setting `pad_token_id` to `eos_token_id`:50256 for open-end generation.\n"
     ]
    },
    {
     "name": "stdout",
     "output_type": "stream",
     "text": [
      "20 fast predictive action with very little data -> prevent object from getting into contact with unwanted substances 2055 0.4\n",
      "----------------------------------------\n"
     ]
    },
    {
     "name": "stderr",
     "output_type": "stream",
     "text": [
      "Setting `pad_token_id` to `eos_token_id`:50256 for open-end generation.\n"
     ]
    },
    {
     "name": "stdout",
     "output_type": "stream",
     "text": [
      "1 fast predictive action with very little data -> Prevent objects from getting into contact with unwanted substances 2074 0.5\n",
      "----------------------------------------\n"
     ]
    },
    {
     "name": "stderr",
     "output_type": "stream",
     "text": [
      "Setting `pad_token_id` to `eos_token_id`:50256 for open-end generation.\n"
     ]
    },
    {
     "name": "stdout",
     "output_type": "stream",
     "text": [
      "2 fast predictive action with very little data -> Reduce the number of possible actions 2093 0.5\n",
      "----------------------------------------\n"
     ]
    },
    {
     "name": "stderr",
     "output_type": "stream",
     "text": [
      "Setting `pad_token_id` to `eos_token_id`:50256 for open-end generation.\n"
     ]
    },
    {
     "name": "stdout",
     "output_type": "stream",
     "text": [
      "3 fast predictive action with very little data -> Enable a broom to clean in hard to reach places 2112 0.5\n",
      "----------------------------------------\n"
     ]
    },
    {
     "name": "stderr",
     "output_type": "stream",
     "text": [
      "Setting `pad_token_id` to `eos_token_id`:50256 for open-end generation.\n"
     ]
    },
    {
     "name": "stdout",
     "output_type": "stream",
     "text": [
      "4 fast predictive action with very little data -> Prevent object from getting into contact with unwanted substances 2130 0.5\n",
      "----------------------------------------\n"
     ]
    },
    {
     "name": "stderr",
     "output_type": "stream",
     "text": [
      "Setting `pad_token_id` to `eos_token_id`:50256 for open-end generation.\n"
     ]
    },
    {
     "name": "stdout",
     "output_type": "stream",
     "text": [
      "5 fast predictive action with very little data -> Improve the sense of smell 2152 0.5\n",
      "----------------------------------------\n"
     ]
    },
    {
     "name": "stderr",
     "output_type": "stream",
     "text": [
      "Setting `pad_token_id` to `eos_token_id`:50256 for open-end generation.\n"
     ]
    },
    {
     "name": "stdout",
     "output_type": "stream",
     "text": [
      "6 fast predictive action with very little data -> fast predictive action with very little data 2174 0.5\n",
      "----------------------------------------\n"
     ]
    },
    {
     "name": "stderr",
     "output_type": "stream",
     "text": [
      "Setting `pad_token_id` to `eos_token_id`:50256 for open-end generation.\n"
     ]
    },
    {
     "name": "stdout",
     "output_type": "stream",
     "text": [
      "7 fast predictive action with very little data -> Use visual search to find out what is happening 2192 0.5\n",
      "----------------------------------------\n"
     ]
    },
    {
     "name": "stderr",
     "output_type": "stream",
     "text": [
      "Setting `pad_token_id` to `eos_token_id`:50256 for open-end generation.\n"
     ]
    },
    {
     "name": "stdout",
     "output_type": "stream",
     "text": [
      "8 fast predictive action with very little data -> Improve the accuracy of the action 2214 0.5\n",
      "----------------------------------------\n"
     ]
    },
    {
     "name": "stderr",
     "output_type": "stream",
     "text": [
      "Setting `pad_token_id` to `eos_token_id`:50256 for open-end generation.\n"
     ]
    },
    {
     "name": "stdout",
     "output_type": "stream",
     "text": [
      "9 fast predictive action with very little data -> Increase the predictive power of the action 2234 0.5\n",
      "----------------------------------------\n"
     ]
    },
    {
     "name": "stderr",
     "output_type": "stream",
     "text": [
      "Setting `pad_token_id` to `eos_token_id`:50256 for open-end generation.\n"
     ]
    },
    {
     "name": "stdout",
     "output_type": "stream",
     "text": [
      "10 fast predictive action with very little data -> prevent objects from getting into contact with unwanted substances 2253 0.5\n",
      "----------------------------------------\n"
     ]
    },
    {
     "name": "stderr",
     "output_type": "stream",
     "text": [
      "Setting `pad_token_id` to `eos_token_id`:50256 for open-end generation.\n"
     ]
    },
    {
     "name": "stdout",
     "output_type": "stream",
     "text": [
      "11 fast predictive action with very little data -> Prevent object from getting into contact with unwanted substances 2275 0.5\n",
      "----------------------------------------\n"
     ]
    },
    {
     "name": "stderr",
     "output_type": "stream",
     "text": [
      "Setting `pad_token_id` to `eos_token_id`:50256 for open-end generation.\n"
     ]
    },
    {
     "name": "stdout",
     "output_type": "stream",
     "text": [
      "12 fast predictive action with very little data -> stop object from getting into contact with unwanted substances 2296 0.5\n",
      "----------------------------------------\n"
     ]
    },
    {
     "name": "stderr",
     "output_type": "stream",
     "text": [
      "Setting `pad_token_id` to `eos_token_id`:50256 for open-end generation.\n"
     ]
    },
    {
     "name": "stdout",
     "output_type": "stream",
     "text": [
      "13 fast predictive action with very little data -> Create a space in which objects can be moved in a certain way 2318 0.5\n",
      "----------------------------------------\n"
     ]
    },
    {
     "name": "stderr",
     "output_type": "stream",
     "text": [
      "Setting `pad_token_id` to `eos_token_id`:50256 for open-end generation.\n"
     ]
    },
    {
     "name": "stdout",
     "output_type": "stream",
     "text": [
      "14 fast predictive action with very little data -> Prevent object from getting into contact with unwanted substances 2339 0.5\n",
      "----------------------------------------\n"
     ]
    },
    {
     "name": "stderr",
     "output_type": "stream",
     "text": [
      "Setting `pad_token_id` to `eos_token_id`:50256 for open-end generation.\n"
     ]
    },
    {
     "name": "stdout",
     "output_type": "stream",
     "text": [
      "15 fast predictive action with very little data -> Reduce the number of objects in a room 2357 0.5\n",
      "----------------------------------------\n"
     ]
    },
    {
     "name": "stderr",
     "output_type": "stream",
     "text": [
      "Setting `pad_token_id` to `eos_token_id`:50256 for open-end generation.\n"
     ]
    },
    {
     "name": "stdout",
     "output_type": "stream",
     "text": [
      "16 fast predictive action with very little data -> Prevent objects from getting into contact with unwanted substances 2377 0.5\n",
      "----------------------------------------\n"
     ]
    },
    {
     "name": "stderr",
     "output_type": "stream",
     "text": [
      "Setting `pad_token_id` to `eos_token_id`:50256 for open-end generation.\n"
     ]
    },
    {
     "name": "stdout",
     "output_type": "stream",
     "text": [
      "17 fast predictive action with very little data -> Reduce the number of objects in a room 2396 0.5\n",
      "----------------------------------------\n"
     ]
    },
    {
     "name": "stderr",
     "output_type": "stream",
     "text": [
      "Setting `pad_token_id` to `eos_token_id`:50256 for open-end generation.\n"
     ]
    },
    {
     "name": "stdout",
     "output_type": "stream",
     "text": [
      "18 fast predictive action with very little data -> Reduce the number of objects in a scene 2415 0.5\n",
      "----------------------------------------\n"
     ]
    },
    {
     "name": "stderr",
     "output_type": "stream",
     "text": [
      "Setting `pad_token_id` to `eos_token_id`:50256 for open-end generation.\n"
     ]
    },
    {
     "name": "stdout",
     "output_type": "stream",
     "text": [
      "19 fast predictive action with very little data -> prevent object from getting into contact with unwanted substances 2433 0.5\n",
      "----------------------------------------\n"
     ]
    },
    {
     "name": "stderr",
     "output_type": "stream",
     "text": [
      "Setting `pad_token_id` to `eos_token_id`:50256 for open-end generation.\n"
     ]
    },
    {
     "name": "stdout",
     "output_type": "stream",
     "text": [
      "20 fast predictive action with very little data -> prevent object from getting into contact with unwanted substances 2452 0.5\n",
      "----------------------------------------\n"
     ]
    },
    {
     "name": "stderr",
     "output_type": "stream",
     "text": [
      "Setting `pad_token_id` to `eos_token_id`:50256 for open-end generation.\n"
     ]
    },
    {
     "name": "stdout",
     "output_type": "stream",
     "text": [
      "1 fast predictive action with very little data -> stop object from getting into contact with unwanted substances 2471 0.6\n",
      "----------------------------------------\n"
     ]
    },
    {
     "name": "stderr",
     "output_type": "stream",
     "text": [
      "Setting `pad_token_id` to `eos_token_id`:50256 for open-end generation.\n"
     ]
    },
    {
     "name": "stdout",
     "output_type": "stream",
     "text": [
      "2 fast predictive action with very little data -> Reduce the number of objects in a computer 2490 0.6\n",
      "----------------------------------------\n"
     ]
    },
    {
     "name": "stderr",
     "output_type": "stream",
     "text": [
      "Setting `pad_token_id` to `eos_token_id`:50256 for open-end generation.\n"
     ]
    },
    {
     "name": "stdout",
     "output_type": "stream",
     "text": [
      "3 fast predictive action with very little data -> Improve the feel of a complicated motion or force 2510 0.6\n",
      "----------------------------------------\n"
     ]
    },
    {
     "name": "stderr",
     "output_type": "stream",
     "text": [
      "Setting `pad_token_id` to `eos_token_id`:50256 for open-end generation.\n"
     ]
    },
    {
     "name": "stdout",
     "output_type": "stream",
     "text": [
      "4 fast predictive action with very little data -> improve the user's reliance on information cues 2531 0.6\n",
      "----------------------------------------\n"
     ]
    },
    {
     "name": "stderr",
     "output_type": "stream",
     "text": [
      "Setting `pad_token_id` to `eos_token_id`:50256 for open-end generation.\n"
     ]
    },
    {
     "name": "stdout",
     "output_type": "stream",
     "text": [
      "5 fast predictive action with very little data -> Improve the accuracy of a prediction 2555 0.6\n",
      "----------------------------------------\n"
     ]
    },
    {
     "name": "stderr",
     "output_type": "stream",
     "text": [
      "Setting `pad_token_id` to `eos_token_id`:50256 for open-end generation.\n"
     ]
    },
    {
     "name": "stdout",
     "output_type": "stream",
     "text": [
      "6 fast predictive action with very little data -> prevent object from getting into contact with unwanted substances 2575 0.6\n",
      "----------------------------------------\n"
     ]
    },
    {
     "name": "stderr",
     "output_type": "stream",
     "text": [
      "Setting `pad_token_id` to `eos_token_id`:50256 for open-end generation.\n"
     ]
    },
    {
     "name": "stdout",
     "output_type": "stream",
     "text": [
      "7 fast predictive action with very little data -> improve the sense of motion 2594 0.6\n",
      "----------------------------------------\n"
     ]
    },
    {
     "name": "stderr",
     "output_type": "stream",
     "text": [
      "Setting `pad_token_id` to `eos_token_id`:50256 for open-end generation.\n"
     ]
    },
    {
     "name": "stdout",
     "output_type": "stream",
     "text": [
      "8 fast predictive action with very little data -> Prevent objects from getting into contact with unwanted substances 2613 0.6\n",
      "----------------------------------------\n"
     ]
    },
    {
     "name": "stderr",
     "output_type": "stream",
     "text": [
      "Setting `pad_token_id` to `eos_token_id`:50256 for open-end generation.\n"
     ]
    },
    {
     "name": "stdout",
     "output_type": "stream",
     "text": [
      "9 fast predictive action with very little data -> speed up the action of a sensor 2631 0.6\n",
      "----------------------------------------\n"
     ]
    },
    {
     "name": "stderr",
     "output_type": "stream",
     "text": [
      "Setting `pad_token_id` to `eos_token_id`:50256 for open-end generation.\n"
     ]
    },
    {
     "name": "stdout",
     "output_type": "stream",
     "text": [
      "10 fast predictive action with very little data -> prevent waste of energy 2654 0.6\n",
      "----------------------------------------\n"
     ]
    },
    {
     "name": "stderr",
     "output_type": "stream",
     "text": [
      "Setting `pad_token_id` to `eos_token_id`:50256 for open-end generation.\n"
     ]
    },
    {
     "name": "stdout",
     "output_type": "stream",
     "text": [
      "11 fast predictive action with very little data -> Protect vulnerable object from radiation 2675 0.6\n",
      "----------------------------------------\n"
     ]
    },
    {
     "name": "stderr",
     "output_type": "stream",
     "text": [
      "Setting `pad_token_id` to `eos_token_id`:50256 for open-end generation.\n"
     ]
    },
    {
     "name": "stdout",
     "output_type": "stream",
     "text": [
      "12 fast predictive action with very little data -> Prevent object from getting into contact with unwanted substances 2695 0.6\n",
      "----------------------------------------\n"
     ]
    },
    {
     "name": "stderr",
     "output_type": "stream",
     "text": [
      "Setting `pad_token_id` to `eos_token_id`:50256 for open-end generation.\n"
     ]
    },
    {
     "name": "stdout",
     "output_type": "stream",
     "text": [
      "13 fast predictive action with very little data -> Prevent the body from getting into contact with a fluid 2713 0.6\n",
      "----------------------------------------\n"
     ]
    },
    {
     "name": "stderr",
     "output_type": "stream",
     "text": [
      "Setting `pad_token_id` to `eos_token_id`:50256 for open-end generation.\n"
     ]
    },
    {
     "name": "stdout",
     "output_type": "stream",
     "text": [
      "14 fast predictive action with very little data -> Reduce the time required for a robot to make contact with an object 2732 0.6\n",
      "----------------------------------------\n"
     ]
    },
    {
     "name": "stderr",
     "output_type": "stream",
     "text": [
      "Setting `pad_token_id` to `eos_token_id`:50256 for open-end generation.\n"
     ]
    },
    {
     "name": "stdout",
     "output_type": "stream",
     "text": [
      "15 fast predictive action with very little data -> Prevent object from getting into contact with unwanted substances 2751 0.6\n",
      "----------------------------------------\n"
     ]
    },
    {
     "name": "stderr",
     "output_type": "stream",
     "text": [
      "Setting `pad_token_id` to `eos_token_id`:50256 for open-end generation.\n"
     ]
    },
    {
     "name": "stdout",
     "output_type": "stream",
     "text": [
      "16 fast predictive action with very little data -> reduce the rate of motion in a robot 2770 0.6\n",
      "----------------------------------------\n"
     ]
    },
    {
     "name": "stderr",
     "output_type": "stream",
     "text": [
      "Setting `pad_token_id` to `eos_token_id`:50256 for open-end generation.\n"
     ]
    },
    {
     "name": "stdout",
     "output_type": "stream",
     "text": [
      "17 fast predictive action with very little data -> fast predictive action with very little data 2790 0.6\n",
      "----------------------------------------\n"
     ]
    },
    {
     "name": "stderr",
     "output_type": "stream",
     "text": [
      "Setting `pad_token_id` to `eos_token_id`:50256 for open-end generation.\n"
     ]
    },
    {
     "name": "stdout",
     "output_type": "stream",
     "text": [
      "18 fast predictive action with very little data -> reduce the need to perform a series of operations, such as checking if a line has a curved shape 2810 0.6\n",
      "----------------------------------------\n"
     ]
    },
    {
     "name": "stderr",
     "output_type": "stream",
     "text": [
      "Setting `pad_token_id` to `eos_token_id`:50256 for open-end generation.\n"
     ]
    },
    {
     "name": "stdout",
     "output_type": "stream",
     "text": [
      "19 fast predictive action with very little data -> Reduce the number of actions for a given action 2830 0.6\n",
      "----------------------------------------\n"
     ]
    },
    {
     "name": "stderr",
     "output_type": "stream",
     "text": [
      "Setting `pad_token_id` to `eos_token_id`:50256 for open-end generation.\n"
     ]
    },
    {
     "name": "stdout",
     "output_type": "stream",
     "text": [
      "20 fast predictive action with very little data -> Prevent the movement of a device in a confined environment 2852 0.6\n",
      "----------------------------------------\n"
     ]
    },
    {
     "name": "stderr",
     "output_type": "stream",
     "text": [
      "Setting `pad_token_id` to `eos_token_id`:50256 for open-end generation.\n"
     ]
    },
    {
     "name": "stdout",
     "output_type": "stream",
     "text": [
      "1 fast predictive action with very little data -> Start with a simple solution 2875 0.7\n",
      "----------------------------------------\n"
     ]
    },
    {
     "name": "stderr",
     "output_type": "stream",
     "text": [
      "Setting `pad_token_id` to `eos_token_id`:50256 for open-end generation.\n"
     ]
    },
    {
     "name": "stdout",
     "output_type": "stream",
     "text": [
      "2 fast predictive action with very little data -> Detecting water in the presence of particles 2894 0.7\n",
      "----------------------------------------\n"
     ]
    },
    {
     "name": "stderr",
     "output_type": "stream",
     "text": [
      "Setting `pad_token_id` to `eos_token_id`:50256 for open-end generation.\n"
     ]
    },
    {
     "name": "stdout",
     "output_type": "stream",
     "text": [
      "3 fast predictive action with very little data -> Make a small object with a small probability of being detected 2914 0.7\n",
      "----------------------------------------\n"
     ]
    },
    {
     "name": "stderr",
     "output_type": "stream",
     "text": [
      "Setting `pad_token_id` to `eos_token_id`:50256 for open-end generation.\n"
     ]
    },
    {
     "name": "stdout",
     "output_type": "stream",
     "text": [
      "4 fast predictive action with very little data -> increase the accuracy of the predicted action 2933 0.7\n",
      "----------------------------------------\n"
     ]
    },
    {
     "name": "stderr",
     "output_type": "stream",
     "text": [
      "Setting `pad_token_id` to `eos_token_id`:50256 for open-end generation.\n"
     ]
    },
    {
     "name": "stdout",
     "output_type": "stream",
     "text": [
      "5 fast predictive action with very little data -> Prevent objects from getting into contact with unwanted substances 2954 0.7\n",
      "----------------------------------------\n"
     ]
    },
    {
     "name": "stderr",
     "output_type": "stream",
     "text": [
      "Setting `pad_token_id` to `eos_token_id`:50256 for open-end generation.\n"
     ]
    },
    {
     "name": "stdout",
     "output_type": "stream",
     "text": [
      "6 fast predictive action with very little data -> reduce human error rate in the field 2975 0.7\n",
      "----------------------------------------\n"
     ]
    },
    {
     "name": "stderr",
     "output_type": "stream",
     "text": [
      "Setting `pad_token_id` to `eos_token_id`:50256 for open-end generation.\n"
     ]
    },
    {
     "name": "stdout",
     "output_type": "stream",
     "text": [
      "7 fast predictive action with very little data -> Enable a broom to clean in hard to reach places 2994 0.7\n",
      "----------------------------------------\n"
     ]
    },
    {
     "name": "stderr",
     "output_type": "stream",
     "text": [
      "Setting `pad_token_id` to `eos_token_id`:50256 for open-end generation.\n"
     ]
    },
    {
     "name": "stdout",
     "output_type": "stream",
     "text": [
      "8 fast predictive action with very little data -> Prevent objects from getting into contact with unwanted substances 3013 0.7\n",
      "----------------------------------------\n"
     ]
    },
    {
     "name": "stderr",
     "output_type": "stream",
     "text": [
      "Setting `pad_token_id` to `eos_token_id`:50256 for open-end generation.\n"
     ]
    },
    {
     "name": "stdout",
     "output_type": "stream",
     "text": [
      "9 fast predictive action with very little data -> Protect object from radiation 3032 0.7\n",
      "----------------------------------------\n"
     ]
    },
    {
     "name": "stderr",
     "output_type": "stream",
     "text": [
      "Setting `pad_token_id` to `eos_token_id`:50256 for open-end generation.\n"
     ]
    },
    {
     "name": "stdout",
     "output_type": "stream",
     "text": [
      "10 fast predictive action with very little data -> Increase precision of the action 3051 0.7\n",
      "----------------------------------------\n"
     ]
    },
    {
     "name": "stderr",
     "output_type": "stream",
     "text": [
      "Setting `pad_token_id` to `eos_token_id`:50256 for open-end generation.\n"
     ]
    },
    {
     "name": "stdout",
     "output_type": "stream",
     "text": [
      "11 fast predictive action with very little data -> Reduce the number of elements in a robot's robot arm 3070 0.7\n",
      "----------------------------------------\n"
     ]
    },
    {
     "name": "stderr",
     "output_type": "stream",
     "text": [
      "Setting `pad_token_id` to `eos_token_id`:50256 for open-end generation.\n"
     ]
    },
    {
     "name": "stdout",
     "output_type": "stream",
     "text": [
      "12 fast predictive action with very little data -> Prevent object from changing direction 3089 0.7\n",
      "----------------------------------------\n"
     ]
    },
    {
     "name": "stderr",
     "output_type": "stream",
     "text": [
      "Setting `pad_token_id` to `eos_token_id`:50256 for open-end generation.\n"
     ]
    },
    {
     "name": "stdout",
     "output_type": "stream",
     "text": [
      "13 fast predictive action with very little data -> Prevent object from getting into contact with unwanted substances 3108 0.7\n",
      "----------------------------------------\n"
     ]
    },
    {
     "name": "stderr",
     "output_type": "stream",
     "text": [
      "Setting `pad_token_id` to `eos_token_id`:50256 for open-end generation.\n"
     ]
    },
    {
     "name": "stdout",
     "output_type": "stream",
     "text": [
      "14 fast predictive action with very little data -> Enable data to be collected to help the human body 3127 0.7\n",
      "----------------------------------------\n"
     ]
    },
    {
     "name": "stderr",
     "output_type": "stream",
     "text": [
      "Setting `pad_token_id` to `eos_token_id`:50256 for open-end generation.\n"
     ]
    },
    {
     "name": "stdout",
     "output_type": "stream",
     "text": [
      "15 fast predictive action with very little data -> Enable a broom to clean in hard to reach places 3146 0.7\n",
      "----------------------------------------\n"
     ]
    },
    {
     "name": "stderr",
     "output_type": "stream",
     "text": [
      "Setting `pad_token_id` to `eos_token_id`:50256 for open-end generation.\n"
     ]
    },
    {
     "name": "stdout",
     "output_type": "stream",
     "text": [
      "16 fast predictive action with very little data -> Prevent objects from getting into contact with unwanted substances 3164 0.7\n",
      "----------------------------------------\n"
     ]
    },
    {
     "name": "stderr",
     "output_type": "stream",
     "text": [
      "Setting `pad_token_id` to `eos_token_id`:50256 for open-end generation.\n"
     ]
    },
    {
     "name": "stdout",
     "output_type": "stream",
     "text": [
      "17 fast predictive action with very little data -> Protect object from radiation 3183 0.7\n",
      "----------------------------------------\n"
     ]
    },
    {
     "name": "stderr",
     "output_type": "stream",
     "text": [
      "Setting `pad_token_id` to `eos_token_id`:50256 for open-end generation.\n"
     ]
    },
    {
     "name": "stdout",
     "output_type": "stream",
     "text": [
      "18 fast predictive action with very little data -> enable a brushless brushless head 3202 0.7\n",
      "----------------------------------------\n"
     ]
    },
    {
     "name": "stderr",
     "output_type": "stream",
     "text": [
      "Setting `pad_token_id` to `eos_token_id`:50256 for open-end generation.\n"
     ]
    },
    {
     "name": "stdout",
     "output_type": "stream",
     "text": [
      "19 fast predictive action with very little data -> Prevent object from getting into contact with unwanted substances 3221 0.7\n",
      "----------------------------------------\n"
     ]
    },
    {
     "name": "stderr",
     "output_type": "stream",
     "text": [
      "Setting `pad_token_id` to `eos_token_id`:50256 for open-end generation.\n"
     ]
    },
    {
     "name": "stdout",
     "output_type": "stream",
     "text": [
      "20 fast predictive action with very little data -> Use a predictive model to predict the movements of objects 3240 0.7\n",
      "----------------------------------------\n"
     ]
    },
    {
     "name": "stderr",
     "output_type": "stream",
     "text": [
      "Setting `pad_token_id` to `eos_token_id`:50256 for open-end generation.\n"
     ]
    },
    {
     "name": "stdout",
     "output_type": "stream",
     "text": [
      "1 fast predictive action with very little data -> Prevent objects from being exposed 3260 0.8\n",
      "----------------------------------------\n"
     ]
    },
    {
     "name": "stderr",
     "output_type": "stream",
     "text": [
      "Setting `pad_token_id` to `eos_token_id`:50256 for open-end generation.\n"
     ]
    },
    {
     "name": "stdout",
     "output_type": "stream",
     "text": [
      "2 fast predictive action with very little data -> decrease the time a small object will move across the screen 3278 0.8\n",
      "----------------------------------------\n"
     ]
    },
    {
     "name": "stderr",
     "output_type": "stream",
     "text": [
      "Setting `pad_token_id` to `eos_token_id`:50256 for open-end generation.\n"
     ]
    },
    {
     "name": "stdout",
     "output_type": "stream",
     "text": [
      "3 fast predictive action with very little data -> Create a fast action to reduce the likelihood of injury 3297 0.8\n",
      "----------------------------------------\n"
     ]
    },
    {
     "name": "stderr",
     "output_type": "stream",
     "text": [
      "Setting `pad_token_id` to `eos_token_id`:50256 for open-end generation.\n"
     ]
    },
    {
     "name": "stdout",
     "output_type": "stream",
     "text": [
      "4 fast predictive action with very little data -> prevent all objects from moving around 3316 0.8\n",
      "----------------------------------------\n"
     ]
    },
    {
     "name": "stderr",
     "output_type": "stream",
     "text": [
      "Setting `pad_token_id` to `eos_token_id`:50256 for open-end generation.\n"
     ]
    },
    {
     "name": "stdout",
     "output_type": "stream",
     "text": [
      "5 fast predictive action with very little data -> Enable a broom to clean in hard to reach places 3337 0.8\n",
      "----------------------------------------\n"
     ]
    },
    {
     "name": "stderr",
     "output_type": "stream",
     "text": [
      "Setting `pad_token_id` to `eos_token_id`:50256 for open-end generation.\n"
     ]
    },
    {
     "name": "stdout",
     "output_type": "stream",
     "text": [
      "6 fast predictive action with very little data -> Prevent moving object from falling into water 3358 0.8\n",
      "----------------------------------------\n"
     ]
    },
    {
     "name": "stderr",
     "output_type": "stream",
     "text": [
      "Setting `pad_token_id` to `eos_token_id`:50256 for open-end generation.\n"
     ]
    },
    {
     "name": "stdout",
     "output_type": "stream",
     "text": [
      "7 fast predictive action with very little data -> Speed the process of an application 3377 0.8\n",
      "----------------------------------------\n"
     ]
    },
    {
     "name": "stderr",
     "output_type": "stream",
     "text": [
      "Setting `pad_token_id` to `eos_token_id`:50256 for open-end generation.\n"
     ]
    },
    {
     "name": "stdout",
     "output_type": "stream",
     "text": [
      "8 fast predictive action with very little data -> Protect object from UV radiation 3395 0.8\n",
      "----------------------------------------\n"
     ]
    },
    {
     "name": "stderr",
     "output_type": "stream",
     "text": [
      "Setting `pad_token_id` to `eos_token_id`:50256 for open-end generation.\n"
     ]
    },
    {
     "name": "stdout",
     "output_type": "stream",
     "text": [
      "9 fast predictive action with very little data -> avoid the need to wait for a break 3414 0.8\n",
      "----------------------------------------\n"
     ]
    },
    {
     "name": "stderr",
     "output_type": "stream",
     "text": [
      "Setting `pad_token_id` to `eos_token_id`:50256 for open-end generation.\n"
     ]
    },
    {
     "name": "stdout",
     "output_type": "stream",
     "text": [
      "10 fast predictive action with very little data -> Protect object from radiation 3432 0.8\n",
      "----------------------------------------\n"
     ]
    },
    {
     "name": "stderr",
     "output_type": "stream",
     "text": [
      "Setting `pad_token_id` to `eos_token_id`:50256 for open-end generation.\n"
     ]
    },
    {
     "name": "stdout",
     "output_type": "stream",
     "text": [
      "11 fast predictive action with very little data -> Prevent object from getting in contact with unwanted substances 3451 0.8\n",
      "----------------------------------------\n"
     ]
    },
    {
     "name": "stderr",
     "output_type": "stream",
     "text": [
      "Setting `pad_token_id` to `eos_token_id`:50256 for open-end generation.\n"
     ]
    },
    {
     "name": "stdout",
     "output_type": "stream",
     "text": [
      "12 fast predictive action with very little data -> prevent objects from getting into contact with their surroundings 3470 0.8\n",
      "----------------------------------------\n"
     ]
    },
    {
     "name": "stderr",
     "output_type": "stream",
     "text": [
      "Setting `pad_token_id` to `eos_token_id`:50256 for open-end generation.\n"
     ]
    },
    {
     "name": "stdout",
     "output_type": "stream",
     "text": [
      "13 fast predictive action with very little data ->  3493 0.8\n",
      "----------------------------------------\n"
     ]
    },
    {
     "name": "stderr",
     "output_type": "stream",
     "text": [
      "Setting `pad_token_id` to `eos_token_id`:50256 for open-end generation.\n"
     ]
    },
    {
     "name": "stdout",
     "output_type": "stream",
     "text": [
      "14 fast predictive action with very little data -> prevent blood clotting in stents 3515 0.8\n",
      "----------------------------------------\n"
     ]
    },
    {
     "name": "stderr",
     "output_type": "stream",
     "text": [
      "Setting `pad_token_id` to `eos_token_id`:50256 for open-end generation.\n"
     ]
    },
    {
     "name": "stdout",
     "output_type": "stream",
     "text": [
      "15 fast predictive action with very little data -> Enable objects of different masses 3535 0.8\n",
      "----------------------------------------\n"
     ]
    },
    {
     "name": "stderr",
     "output_type": "stream",
     "text": [
      "Setting `pad_token_id` to `eos_token_id`:50256 for open-end generation.\n"
     ]
    },
    {
     "name": "stdout",
     "output_type": "stream",
     "text": [
      "16 fast predictive action with very little data -> fast predictive action with very little data 3556 0.8\n",
      "----------------------------------------\n"
     ]
    },
    {
     "name": "stderr",
     "output_type": "stream",
     "text": [
      "Setting `pad_token_id` to `eos_token_id`:50256 for open-end generation.\n"
     ]
    },
    {
     "name": "stdout",
     "output_type": "stream",
     "text": [
      "17 fast predictive action with very little data -> fast predictive action with very little data 3579 0.8\n",
      "----------------------------------------\n"
     ]
    },
    {
     "name": "stderr",
     "output_type": "stream",
     "text": [
      "Setting `pad_token_id` to `eos_token_id`:50256 for open-end generation.\n"
     ]
    },
    {
     "name": "stdout",
     "output_type": "stream",
     "text": [
      "18 fast predictive action with very little data -> stop movement of object from a contact point 3600 0.8\n",
      "----------------------------------------\n"
     ]
    },
    {
     "name": "stderr",
     "output_type": "stream",
     "text": [
      "Setting `pad_token_id` to `eos_token_id`:50256 for open-end generation.\n"
     ]
    },
    {
     "name": "stdout",
     "output_type": "stream",
     "text": [
      "19 fast predictive action with very little data -> Prevent children from getting into trouble with external stimuli 3619 0.8\n",
      "----------------------------------------\n"
     ]
    },
    {
     "name": "stderr",
     "output_type": "stream",
     "text": [
      "Setting `pad_token_id` to `eos_token_id`:50256 for open-end generation.\n"
     ]
    },
    {
     "name": "stdout",
     "output_type": "stream",
     "text": [
      "20 fast predictive action with very little data -> Enable a ball to control ball movement 3638 0.8\n",
      "----------------------------------------\n"
     ]
    },
    {
     "name": "stderr",
     "output_type": "stream",
     "text": [
      "Setting `pad_token_id` to `eos_token_id`:50256 for open-end generation.\n"
     ]
    },
    {
     "name": "stdout",
     "output_type": "stream",
     "text": [
      "1 fast predictive action with very little data -> Reduce the energy consumption of objects by fast time scale analysis 3657 0.9\n",
      "----------------------------------------\n"
     ]
    },
    {
     "name": "stderr",
     "output_type": "stream",
     "text": [
      "Setting `pad_token_id` to `eos_token_id`:50256 for open-end generation.\n"
     ]
    },
    {
     "name": "stdout",
     "output_type": "stream",
     "text": [
      "2 fast predictive action with very little data -> Enable a broom to clean in hard to reach places 3676 0.9\n",
      "----------------------------------------\n"
     ]
    },
    {
     "name": "stderr",
     "output_type": "stream",
     "text": [
      "Setting `pad_token_id` to `eos_token_id`:50256 for open-end generation.\n"
     ]
    },
    {
     "name": "stdout",
     "output_type": "stream",
     "text": [
      "3 fast predictive action with very little data -> Protect object from contact with unwanted substances 3696 0.9\n",
      "----------------------------------------\n"
     ]
    },
    {
     "name": "stderr",
     "output_type": "stream",
     "text": [
      "Setting `pad_token_id` to `eos_token_id`:50256 for open-end generation.\n"
     ]
    },
    {
     "name": "stdout",
     "output_type": "stream",
     "text": [
      "4 fast predictive action with very little data -> Determine object shape and direction with the help of the computer simulation 3715 0.9\n",
      "----------------------------------------\n"
     ]
    },
    {
     "name": "stderr",
     "output_type": "stream",
     "text": [
      "Setting `pad_token_id` to `eos_token_id`:50256 for open-end generation.\n"
     ]
    },
    {
     "name": "stdout",
     "output_type": "stream",
     "text": [
      "5 fast predictive action with very little data -> fast predictive action with very little data 3722 0.9\n",
      "----------------------------------------\n"
     ]
    },
    {
     "name": "stderr",
     "output_type": "stream",
     "text": [
      "Setting `pad_token_id` to `eos_token_id`:50256 for open-end generation.\n"
     ]
    },
    {
     "name": "stdout",
     "output_type": "stream",
     "text": [
      "6 fast predictive action with very little data -> Improve the feel of the device 3740 0.9\n",
      "----------------------------------------\n"
     ]
    },
    {
     "name": "stderr",
     "output_type": "stream",
     "text": [
      "Setting `pad_token_id` to `eos_token_id`:50256 for open-end generation.\n"
     ]
    },
    {
     "name": "stdout",
     "output_type": "stream",
     "text": [
      "7 fast predictive action with very little data -> Reduce the number of time taken to collect data 3760 0.9\n",
      "----------------------------------------\n"
     ]
    },
    {
     "name": "stderr",
     "output_type": "stream",
     "text": [
      "Setting `pad_token_id` to `eos_token_id`:50256 for open-end generation.\n"
     ]
    },
    {
     "name": "stdout",
     "output_type": "stream",
     "text": [
      "8 fast predictive action with very little data -> prevent distance measurement in real time 3779 0.9\n",
      "----------------------------------------\n"
     ]
    },
    {
     "name": "stderr",
     "output_type": "stream",
     "text": [
      "Setting `pad_token_id` to `eos_token_id`:50256 for open-end generation.\n"
     ]
    },
    {
     "name": "stdout",
     "output_type": "stream",
     "text": [
      "9 fast predictive action with very little data -> Reduce potential energy of a device in a low-power environment 3798 0.9\n",
      "----------------------------------------\n"
     ]
    },
    {
     "name": "stderr",
     "output_type": "stream",
     "text": [
      "Setting `pad_token_id` to `eos_token_id`:50256 for open-end generation.\n"
     ]
    },
    {
     "name": "stdout",
     "output_type": "stream",
     "text": [
      "10 fast predictive action with very little data -> Stop object from getting into contact with unwanted substances 3819 0.9\n",
      "----------------------------------------\n"
     ]
    }
   ],
   "source": [
    "df_125m = generate_output(generator_gpt_neo_125m,20,prompt,20,0.1,'gpt_neo_125m',1)\n",
    "df_125m.to_csv(f'../Csv/gpt_neo125m_{user_input}.csv')"
   ]
  },
  {
   "cell_type": "code",
   "execution_count": null,
   "metadata": {},
   "outputs": [],
   "source": []
  },
  {
   "cell_type": "code",
   "execution_count": null,
   "metadata": {},
   "outputs": [],
   "source": [
    "\n",
    "# # Generate a random string\n",
    "# # with 32 characters.\n",
    "\n",
    "\n",
    "# print (random)"
   ]
  },
  {
   "cell_type": "code",
   "execution_count": null,
   "metadata": {},
   "outputs": [],
   "source": []
  },
  {
   "cell_type": "code",
   "execution_count": null,
   "metadata": {},
   "outputs": [],
   "source": [
    "# df = generate_blank_df(cols)"
   ]
  },
  {
   "cell_type": "code",
   "execution_count": 9,
   "metadata": {},
   "outputs": [],
   "source": []
  },
  {
   "cell_type": "code",
   "execution_count": 10,
   "metadata": {},
   "outputs": [],
   "source": []
  },
  {
   "cell_type": "code",
   "execution_count": null,
   "metadata": {},
   "outputs": [],
   "source": []
  },
  {
   "cell_type": "code",
   "execution_count": 11,
   "metadata": {},
   "outputs": [],
   "source": []
  },
  {
   "cell_type": "code",
   "execution_count": null,
   "metadata": {},
   "outputs": [],
   "source": [
    "# user_input_arrs = [\"identify soldiers in old civil war photographs\",\n",
    "# \"identify points of failure in a nuclear power plant procedure\"]"
   ]
  },
  {
   "cell_type": "code",
   "execution_count": null,
   "metadata": {},
   "outputs": [
    {
     "name": "stderr",
     "output_type": "stream",
     "text": [
      "Setting `pad_token_id` to `eos_token_id`:50256 for open-end generation.\n",
      "Setting `pad_token_id` to `eos_token_id`:50256 for open-end generation.\n"
     ]
    },
    {
     "name": "stdout",
     "output_type": "stream",
     "text": [
      "Given a problem statement, generate an abstracted reformulation of that problem statement\n",
      "\n",
      "    Problem statement: Shield baby from the sun\n",
      "    Abstracted reformulation: Protect vulnerable object from radiation\n",
      "\n",
      "    Problem statement: Prevent feet from getting wet\n",
      "    Abstracted reformulation: Stop object from getting into contact with unwanted substances\n",
      "\n",
      "    Problem statement: Hold soap bars of multiple sizes\n",
      "    Abstracted reformulation: Contain objects of different volumes\n",
      "\n",
      "    Problem statement: Enable a broom to clean in hard to reach places\n",
      "    Abstracted reformulation: Extend the physical reach of a tool\n",
      "\n",
      "    Problem statement: drill into teeth quietly\n",
      "    Abstracted reformulation: create a hole in an object without causing an unwanted noise\n",
      "\n",
      "    Problem statement: make house out of cooked spaghetti\n",
      "    Abstracted reformulation: create strong, rigid structure out of soft materials\n",
      "\n",
      "    Problem statement: make house out of cooked spaghetti\n",
      "    Abstracted reformulation: create structure from elastic elements\n",
      "\n",
      "    Problem statement:  prevent bicycle tire flats\n",
      "    Abstracted reformulation: protect object from the penetration of foreign objects\n",
      "\n",
      "    Problem statement: prevent blood clotting in stents\n",
      "    Abstracted reformulation: prevent clogging of cylindrical tubes\n",
      "\n",
      "    Problem statement: transfer heat in semiconductors at nanoscale\n",
      "    Abstracted reformulation: Enable particles to flow in confined geometries\n",
      "\n",
      "    Problem statement:reduce seasickness in virtual reality systems\n",
      "    Abstracted reformulation: reduce user's dependency on information cues\n",
      "\n",
      "    Problem statement:reduce seasickness in virtual reality systems\n",
      "    Abstracted reformulation: Achieve robust orientation stability\n",
      "\n",
      "    Problem statement:reduce seasickness in virtual reality systems\n",
      "    Abstracted reformulation: improve the feel of a complicated motion or force\n",
      "\n",
      "    Problem statement:wash clothes without water\n",
      "    Abstracted reformulation: Remove dirt from objects by mechanical force\n",
      "\n",
      "    Problem statement:charge cell phones on the go\n",
      "    Abstracted reformulation: Charge a battery source from a remote energy-source\n",
      "\n",
      "    Problem statement:charge cell phones on the go\n",
      "    Abstracted reformulation: Supply power to electrical devices in the field\n",
      "\n",
      "    Problem statement:protect feet from getting wet\n",
      "    Abstracted reformulation: stop entry of foreign particles\n",
      "\n",
      "    Problem statement:protect feet from getting wet\n",
      "    Abstracted reformulation: Mechanically stop liquid from penetrating a space\n",
      "\n",
      "    Problem statement:shield baby from the sun\n",
      "    Abstracted reformulation: Protect vulnerable object from radiation\n",
      "\n",
      "    Problem statement:Prevent feet from getting wet\n",
      "    Abstracted reformulation: Stop object from getting into contact with unwanted substances\n",
      "\n",
      "    Problem statement: identify soldiers in old civil war photographs\n",
      "                                                                                                                                                                                                                                                                                                                                                                                     \n",
      "1 identify soldiers in old civil war photographs ->  0 0.1\n",
      "----------------------------------------\n"
     ]
    },
    {
     "name": "stderr",
     "output_type": "stream",
     "text": [
      "Setting `pad_token_id` to `eos_token_id`:50256 for open-end generation.\n"
     ]
    },
    {
     "name": "stdout",
     "output_type": "stream",
     "text": [
      "Given a problem statement, generate an abstracted reformulation of that problem statement\n",
      "\n",
      "    Problem statement: Shield baby from the sun\n",
      "    Abstracted reformulation: Protect vulnerable object from radiation\n",
      "\n",
      "    Problem statement: Prevent feet from getting wet\n",
      "    Abstracted reformulation: Stop object from getting into contact with unwanted substances\n",
      "\n",
      "    Problem statement: Hold soap bars of multiple sizes\n",
      "    Abstracted reformulation: Contain objects of different volumes\n",
      "\n",
      "    Problem statement: Enable a broom to clean in hard to reach places\n",
      "    Abstracted reformulation: Extend the physical reach of a tool\n",
      "\n",
      "    Problem statement: drill into teeth quietly\n",
      "    Abstracted reformulation: create a hole in an object without causing an unwanted noise\n",
      "\n",
      "    Problem statement: make house out of cooked spaghetti\n",
      "    Abstracted reformulation: create strong, rigid structure out of soft materials\n",
      "\n",
      "    Problem statement: make house out of cooked spaghetti\n",
      "    Abstracted reformulation: create structure from elastic elements\n",
      "\n",
      "    Problem statement:  prevent bicycle tire flats\n",
      "    Abstracted reformulation: protect object from the penetration of foreign objects\n",
      "\n",
      "    Problem statement: prevent blood clotting in stents\n",
      "    Abstracted reformulation: prevent clogging of cylindrical tubes\n",
      "\n",
      "    Problem statement: transfer heat in semiconductors at nanoscale\n",
      "    Abstracted reformulation: Enable particles to flow in confined geometries\n",
      "\n",
      "    Problem statement:reduce seasickness in virtual reality systems\n",
      "    Abstracted reformulation: reduce user's dependency on information cues\n",
      "\n",
      "    Problem statement:reduce seasickness in virtual reality systems\n",
      "    Abstracted reformulation: Achieve robust orientation stability\n",
      "\n",
      "    Problem statement:reduce seasickness in virtual reality systems\n",
      "    Abstracted reformulation: improve the feel of a complicated motion or force\n",
      "\n",
      "    Problem statement:wash clothes without water\n",
      "    Abstracted reformulation: Remove dirt from objects by mechanical force\n",
      "\n",
      "    Problem statement:charge cell phones on the go\n",
      "    Abstracted reformulation: Charge a battery source from a remote energy-source\n",
      "\n",
      "    Problem statement:charge cell phones on the go\n",
      "    Abstracted reformulation: Supply power to electrical devices in the field\n",
      "\n",
      "    Problem statement:protect feet from getting wet\n",
      "    Abstracted reformulation: stop entry of foreign particles\n",
      "\n",
      "    Problem statement:protect feet from getting wet\n",
      "    Abstracted reformulation: Mechanically stop liquid from penetrating a space\n",
      "\n",
      "    Problem statement:shield baby from the sun\n",
      "    Abstracted reformulation: Protect vulnerable object from radiation\n",
      "\n",
      "    Problem statement:Prevent feet from getting wet\n",
      "    Abstracted reformulation: Stop object from getting into contact with unwanted substances\n",
      "\n",
      "    Problem statement: identify soldiers in old civil war photographs\n",
      "                                                                                                                                                                                                                                                                                                                                                                                     \n",
      "2 identify soldiers in old civil war photographs ->  48 0.1\n",
      "----------------------------------------\n"
     ]
    },
    {
     "name": "stderr",
     "output_type": "stream",
     "text": [
      "Setting `pad_token_id` to `eos_token_id`:50256 for open-end generation.\n"
     ]
    },
    {
     "name": "stdout",
     "output_type": "stream",
     "text": [
      "Given a problem statement, generate an abstracted reformulation of that problem statement\n",
      "\n",
      "    Problem statement: Shield baby from the sun\n",
      "    Abstracted reformulation: Protect vulnerable object from radiation\n",
      "\n",
      "    Problem statement: Prevent feet from getting wet\n",
      "    Abstracted reformulation: Stop object from getting into contact with unwanted substances\n",
      "\n",
      "    Problem statement: Hold soap bars of multiple sizes\n",
      "    Abstracted reformulation: Contain objects of different volumes\n",
      "\n",
      "    Problem statement: Enable a broom to clean in hard to reach places\n",
      "    Abstracted reformulation: Extend the physical reach of a tool\n",
      "\n",
      "    Problem statement: drill into teeth quietly\n",
      "    Abstracted reformulation: create a hole in an object without causing an unwanted noise\n",
      "\n",
      "    Problem statement: make house out of cooked spaghetti\n",
      "    Abstracted reformulation: create strong, rigid structure out of soft materials\n",
      "\n",
      "    Problem statement: make house out of cooked spaghetti\n",
      "    Abstracted reformulation: create structure from elastic elements\n",
      "\n",
      "    Problem statement:  prevent bicycle tire flats\n",
      "    Abstracted reformulation: protect object from the penetration of foreign objects\n",
      "\n",
      "    Problem statement: prevent blood clotting in stents\n",
      "    Abstracted reformulation: prevent clogging of cylindrical tubes\n",
      "\n",
      "    Problem statement: transfer heat in semiconductors at nanoscale\n",
      "    Abstracted reformulation: Enable particles to flow in confined geometries\n",
      "\n",
      "    Problem statement:reduce seasickness in virtual reality systems\n",
      "    Abstracted reformulation: reduce user's dependency on information cues\n",
      "\n",
      "    Problem statement:reduce seasickness in virtual reality systems\n",
      "    Abstracted reformulation: Achieve robust orientation stability\n",
      "\n",
      "    Problem statement:reduce seasickness in virtual reality systems\n",
      "    Abstracted reformulation: improve the feel of a complicated motion or force\n",
      "\n",
      "    Problem statement:wash clothes without water\n",
      "    Abstracted reformulation: Remove dirt from objects by mechanical force\n",
      "\n",
      "    Problem statement:charge cell phones on the go\n",
      "    Abstracted reformulation: Charge a battery source from a remote energy-source\n",
      "\n",
      "    Problem statement:charge cell phones on the go\n",
      "    Abstracted reformulation: Supply power to electrical devices in the field\n",
      "\n",
      "    Problem statement:protect feet from getting wet\n",
      "    Abstracted reformulation: stop entry of foreign particles\n",
      "\n",
      "    Problem statement:protect feet from getting wet\n",
      "    Abstracted reformulation: Mechanically stop liquid from penetrating a space\n",
      "\n",
      "    Problem statement:shield baby from the sun\n",
      "    Abstracted reformulation: Protect vulnerable object from radiation\n",
      "\n",
      "    Problem statement:Prevent feet from getting wet\n",
      "    Abstracted reformulation: Stop object from getting into contact with unwanted substances\n",
      "\n",
      "    Problem statement: identify soldiers in old civil war photographs\n",
      "                                                                                                                                                                                                                                                                                                                                                                                     \n",
      "1 identify soldiers in old civil war photographs ->  94 0.2\n",
      "----------------------------------------\n"
     ]
    },
    {
     "name": "stderr",
     "output_type": "stream",
     "text": [
      "Setting `pad_token_id` to `eos_token_id`:50256 for open-end generation.\n"
     ]
    },
    {
     "name": "stdout",
     "output_type": "stream",
     "text": [
      "Given a problem statement, generate an abstracted reformulation of that problem statement\n",
      "\n",
      "    Problem statement: Shield baby from the sun\n",
      "    Abstracted reformulation: Protect vulnerable object from radiation\n",
      "\n",
      "    Problem statement: Prevent feet from getting wet\n",
      "    Abstracted reformulation: Stop object from getting into contact with unwanted substances\n",
      "\n",
      "    Problem statement: Hold soap bars of multiple sizes\n",
      "    Abstracted reformulation: Contain objects of different volumes\n",
      "\n",
      "    Problem statement: Enable a broom to clean in hard to reach places\n",
      "    Abstracted reformulation: Extend the physical reach of a tool\n",
      "\n",
      "    Problem statement: drill into teeth quietly\n",
      "    Abstracted reformulation: create a hole in an object without causing an unwanted noise\n",
      "\n",
      "    Problem statement: make house out of cooked spaghetti\n",
      "    Abstracted reformulation: create strong, rigid structure out of soft materials\n",
      "\n",
      "    Problem statement: make house out of cooked spaghetti\n",
      "    Abstracted reformulation: create structure from elastic elements\n",
      "\n",
      "    Problem statement:  prevent bicycle tire flats\n",
      "    Abstracted reformulation: protect object from the penetration of foreign objects\n",
      "\n",
      "    Problem statement: prevent blood clotting in stents\n",
      "    Abstracted reformulation: prevent clogging of cylindrical tubes\n",
      "\n",
      "    Problem statement: transfer heat in semiconductors at nanoscale\n",
      "    Abstracted reformulation: Enable particles to flow in confined geometries\n",
      "\n",
      "    Problem statement:reduce seasickness in virtual reality systems\n",
      "    Abstracted reformulation: reduce user's dependency on information cues\n",
      "\n",
      "    Problem statement:reduce seasickness in virtual reality systems\n",
      "    Abstracted reformulation: Achieve robust orientation stability\n",
      "\n",
      "    Problem statement:reduce seasickness in virtual reality systems\n",
      "    Abstracted reformulation: improve the feel of a complicated motion or force\n",
      "\n",
      "    Problem statement:wash clothes without water\n",
      "    Abstracted reformulation: Remove dirt from objects by mechanical force\n",
      "\n",
      "    Problem statement:charge cell phones on the go\n",
      "    Abstracted reformulation: Charge a battery source from a remote energy-source\n",
      "\n",
      "    Problem statement:charge cell phones on the go\n",
      "    Abstracted reformulation: Supply power to electrical devices in the field\n",
      "\n",
      "    Problem statement:protect feet from getting wet\n",
      "    Abstracted reformulation: stop entry of foreign particles\n",
      "\n",
      "    Problem statement:protect feet from getting wet\n",
      "    Abstracted reformulation: Mechanically stop liquid from penetrating a space\n",
      "\n",
      "    Problem statement:shield baby from the sun\n",
      "    Abstracted reformulation: Protect vulnerable object from radiation\n",
      "\n",
      "    Problem statement:Prevent feet from getting wet\n",
      "    Abstracted reformulation: Stop object from getting into contact with unwanted substances\n",
      "\n",
      "    Problem statement: identify soldiers in old civil war photographs\n",
      "                                                                                                                                                                                                                                                                                                                                                                                     \n",
      "2 identify soldiers in old civil war photographs ->  139 0.2\n",
      "----------------------------------------\n"
     ]
    },
    {
     "name": "stderr",
     "output_type": "stream",
     "text": [
      "Setting `pad_token_id` to `eos_token_id`:50256 for open-end generation.\n"
     ]
    },
    {
     "name": "stdout",
     "output_type": "stream",
     "text": [
      "Given a problem statement, generate an abstracted reformulation of that problem statement\n",
      "\n",
      "    Problem statement: Shield baby from the sun\n",
      "    Abstracted reformulation: Protect vulnerable object from radiation\n",
      "\n",
      "    Problem statement: Prevent feet from getting wet\n",
      "    Abstracted reformulation: Stop object from getting into contact with unwanted substances\n",
      "\n",
      "    Problem statement: Hold soap bars of multiple sizes\n",
      "    Abstracted reformulation: Contain objects of different volumes\n",
      "\n",
      "    Problem statement: Enable a broom to clean in hard to reach places\n",
      "    Abstracted reformulation: Extend the physical reach of a tool\n",
      "\n",
      "    Problem statement: drill into teeth quietly\n",
      "    Abstracted reformulation: create a hole in an object without causing an unwanted noise\n",
      "\n",
      "    Problem statement: make house out of cooked spaghetti\n",
      "    Abstracted reformulation: create strong, rigid structure out of soft materials\n",
      "\n",
      "    Problem statement: make house out of cooked spaghetti\n",
      "    Abstracted reformulation: create structure from elastic elements\n",
      "\n",
      "    Problem statement:  prevent bicycle tire flats\n",
      "    Abstracted reformulation: protect object from the penetration of foreign objects\n",
      "\n",
      "    Problem statement: prevent blood clotting in stents\n",
      "    Abstracted reformulation: prevent clogging of cylindrical tubes\n",
      "\n",
      "    Problem statement: transfer heat in semiconductors at nanoscale\n",
      "    Abstracted reformulation: Enable particles to flow in confined geometries\n",
      "\n",
      "    Problem statement:reduce seasickness in virtual reality systems\n",
      "    Abstracted reformulation: reduce user's dependency on information cues\n",
      "\n",
      "    Problem statement:reduce seasickness in virtual reality systems\n",
      "    Abstracted reformulation: Achieve robust orientation stability\n",
      "\n",
      "    Problem statement:reduce seasickness in virtual reality systems\n",
      "    Abstracted reformulation: improve the feel of a complicated motion or force\n",
      "\n",
      "    Problem statement:wash clothes without water\n",
      "    Abstracted reformulation: Remove dirt from objects by mechanical force\n",
      "\n",
      "    Problem statement:charge cell phones on the go\n",
      "    Abstracted reformulation: Charge a battery source from a remote energy-source\n",
      "\n",
      "    Problem statement:charge cell phones on the go\n",
      "    Abstracted reformulation: Supply power to electrical devices in the field\n",
      "\n",
      "    Problem statement:protect feet from getting wet\n",
      "    Abstracted reformulation: stop entry of foreign particles\n",
      "\n",
      "    Problem statement:protect feet from getting wet\n",
      "    Abstracted reformulation: Mechanically stop liquid from penetrating a space\n",
      "\n",
      "    Problem statement:shield baby from the sun\n",
      "    Abstracted reformulation: Protect vulnerable object from radiation\n",
      "\n",
      "    Problem statement:Prevent feet from getting wet\n",
      "    Abstracted reformulation: Stop object from getting into contact with unwanted substances\n",
      "\n",
      "    Problem statement: identify soldiers in old civil war photographs\n",
      "                                                                                                                                                                                                                                                                                                                                                                                     \n",
      "1 identify soldiers in old civil war photographs ->  186 0.3\n",
      "----------------------------------------\n"
     ]
    },
    {
     "name": "stderr",
     "output_type": "stream",
     "text": [
      "Setting `pad_token_id` to `eos_token_id`:50256 for open-end generation.\n"
     ]
    },
    {
     "name": "stdout",
     "output_type": "stream",
     "text": [
      "Given a problem statement, generate an abstracted reformulation of that problem statement\n",
      "\n",
      "    Problem statement: Shield baby from the sun\n",
      "    Abstracted reformulation: Protect vulnerable object from radiation\n",
      "\n",
      "    Problem statement: Prevent feet from getting wet\n",
      "    Abstracted reformulation: Stop object from getting into contact with unwanted substances\n",
      "\n",
      "    Problem statement: Hold soap bars of multiple sizes\n",
      "    Abstracted reformulation: Contain objects of different volumes\n",
      "\n",
      "    Problem statement: Enable a broom to clean in hard to reach places\n",
      "    Abstracted reformulation: Extend the physical reach of a tool\n",
      "\n",
      "    Problem statement: drill into teeth quietly\n",
      "    Abstracted reformulation: create a hole in an object without causing an unwanted noise\n",
      "\n",
      "    Problem statement: make house out of cooked spaghetti\n",
      "    Abstracted reformulation: create strong, rigid structure out of soft materials\n",
      "\n",
      "    Problem statement: make house out of cooked spaghetti\n",
      "    Abstracted reformulation: create structure from elastic elements\n",
      "\n",
      "    Problem statement:  prevent bicycle tire flats\n",
      "    Abstracted reformulation: protect object from the penetration of foreign objects\n",
      "\n",
      "    Problem statement: prevent blood clotting in stents\n",
      "    Abstracted reformulation: prevent clogging of cylindrical tubes\n",
      "\n",
      "    Problem statement: transfer heat in semiconductors at nanoscale\n",
      "    Abstracted reformulation: Enable particles to flow in confined geometries\n",
      "\n",
      "    Problem statement:reduce seasickness in virtual reality systems\n",
      "    Abstracted reformulation: reduce user's dependency on information cues\n",
      "\n",
      "    Problem statement:reduce seasickness in virtual reality systems\n",
      "    Abstracted reformulation: Achieve robust orientation stability\n",
      "\n",
      "    Problem statement:reduce seasickness in virtual reality systems\n",
      "    Abstracted reformulation: improve the feel of a complicated motion or force\n",
      "\n",
      "    Problem statement:wash clothes without water\n",
      "    Abstracted reformulation: Remove dirt from objects by mechanical force\n",
      "\n",
      "    Problem statement:charge cell phones on the go\n",
      "    Abstracted reformulation: Charge a battery source from a remote energy-source\n",
      "\n",
      "    Problem statement:charge cell phones on the go\n",
      "    Abstracted reformulation: Supply power to electrical devices in the field\n",
      "\n",
      "    Problem statement:protect feet from getting wet\n",
      "    Abstracted reformulation: stop entry of foreign particles\n",
      "\n",
      "    Problem statement:protect feet from getting wet\n",
      "    Abstracted reformulation: Mechanically stop liquid from penetrating a space\n",
      "\n",
      "    Problem statement:shield baby from the sun\n",
      "    Abstracted reformulation: Protect vulnerable object from radiation\n",
      "\n",
      "    Problem statement:Prevent feet from getting wet\n",
      "    Abstracted reformulation: Stop object from getting into contact with unwanted substances\n",
      "\n",
      "    Problem statement: identify soldiers in old civil war photographs\n",
      "                                                                                                                                                                                                                                                                                                                                                                                     \n",
      "2 identify soldiers in old civil war photographs ->  233 0.3\n",
      "----------------------------------------\n"
     ]
    },
    {
     "name": "stderr",
     "output_type": "stream",
     "text": [
      "Setting `pad_token_id` to `eos_token_id`:50256 for open-end generation.\n"
     ]
    },
    {
     "name": "stdout",
     "output_type": "stream",
     "text": [
      "Given a problem statement, generate an abstracted reformulation of that problem statement\n",
      "\n",
      "    Problem statement: Shield baby from the sun\n",
      "    Abstracted reformulation: Protect vulnerable object from radiation\n",
      "\n",
      "    Problem statement: Prevent feet from getting wet\n",
      "    Abstracted reformulation: Stop object from getting into contact with unwanted substances\n",
      "\n",
      "    Problem statement: Hold soap bars of multiple sizes\n",
      "    Abstracted reformulation: Contain objects of different volumes\n",
      "\n",
      "    Problem statement: Enable a broom to clean in hard to reach places\n",
      "    Abstracted reformulation: Extend the physical reach of a tool\n",
      "\n",
      "    Problem statement: drill into teeth quietly\n",
      "    Abstracted reformulation: create a hole in an object without causing an unwanted noise\n",
      "\n",
      "    Problem statement: make house out of cooked spaghetti\n",
      "    Abstracted reformulation: create strong, rigid structure out of soft materials\n",
      "\n",
      "    Problem statement: make house out of cooked spaghetti\n",
      "    Abstracted reformulation: create structure from elastic elements\n",
      "\n",
      "    Problem statement:  prevent bicycle tire flats\n",
      "    Abstracted reformulation: protect object from the penetration of foreign objects\n",
      "\n",
      "    Problem statement: prevent blood clotting in stents\n",
      "    Abstracted reformulation: prevent clogging of cylindrical tubes\n",
      "\n",
      "    Problem statement: transfer heat in semiconductors at nanoscale\n",
      "    Abstracted reformulation: Enable particles to flow in confined geometries\n",
      "\n",
      "    Problem statement:reduce seasickness in virtual reality systems\n",
      "    Abstracted reformulation: reduce user's dependency on information cues\n",
      "\n",
      "    Problem statement:reduce seasickness in virtual reality systems\n",
      "    Abstracted reformulation: Achieve robust orientation stability\n",
      "\n",
      "    Problem statement:reduce seasickness in virtual reality systems\n",
      "    Abstracted reformulation: improve the feel of a complicated motion or force\n",
      "\n",
      "    Problem statement:wash clothes without water\n",
      "    Abstracted reformulation: Remove dirt from objects by mechanical force\n",
      "\n",
      "    Problem statement:charge cell phones on the go\n",
      "    Abstracted reformulation: Charge a battery source from a remote energy-source\n",
      "\n",
      "    Problem statement:charge cell phones on the go\n",
      "    Abstracted reformulation: Supply power to electrical devices in the field\n",
      "\n",
      "    Problem statement:protect feet from getting wet\n",
      "    Abstracted reformulation: stop entry of foreign particles\n",
      "\n",
      "    Problem statement:protect feet from getting wet\n",
      "    Abstracted reformulation: Mechanically stop liquid from penetrating a space\n",
      "\n",
      "    Problem statement:shield baby from the sun\n",
      "    Abstracted reformulation: Protect vulnerable object from radiation\n",
      "\n",
      "    Problem statement:Prevent feet from getting wet\n",
      "    Abstracted reformulation: Stop object from getting into contact with unwanted substances\n",
      "\n",
      "    Problem statement: identify soldiers in old civil war photographs\n",
      "                                                                                                                                                                                                                                                                                                                                                                                     \n",
      "1 identify soldiers in old civil war photographs ->  281 0.4\n",
      "----------------------------------------\n"
     ]
    },
    {
     "name": "stderr",
     "output_type": "stream",
     "text": [
      "Setting `pad_token_id` to `eos_token_id`:50256 for open-end generation.\n"
     ]
    },
    {
     "name": "stdout",
     "output_type": "stream",
     "text": [
      "Given a problem statement, generate an abstracted reformulation of that problem statement\n",
      "\n",
      "    Problem statement: Shield baby from the sun\n",
      "    Abstracted reformulation: Protect vulnerable object from radiation\n",
      "\n",
      "    Problem statement: Prevent feet from getting wet\n",
      "    Abstracted reformulation: Stop object from getting into contact with unwanted substances\n",
      "\n",
      "    Problem statement: Hold soap bars of multiple sizes\n",
      "    Abstracted reformulation: Contain objects of different volumes\n",
      "\n",
      "    Problem statement: Enable a broom to clean in hard to reach places\n",
      "    Abstracted reformulation: Extend the physical reach of a tool\n",
      "\n",
      "    Problem statement: drill into teeth quietly\n",
      "    Abstracted reformulation: create a hole in an object without causing an unwanted noise\n",
      "\n",
      "    Problem statement: make house out of cooked spaghetti\n",
      "    Abstracted reformulation: create strong, rigid structure out of soft materials\n",
      "\n",
      "    Problem statement: make house out of cooked spaghetti\n",
      "    Abstracted reformulation: create structure from elastic elements\n",
      "\n",
      "    Problem statement:  prevent bicycle tire flats\n",
      "    Abstracted reformulation: protect object from the penetration of foreign objects\n",
      "\n",
      "    Problem statement: prevent blood clotting in stents\n",
      "    Abstracted reformulation: prevent clogging of cylindrical tubes\n",
      "\n",
      "    Problem statement: transfer heat in semiconductors at nanoscale\n",
      "    Abstracted reformulation: Enable particles to flow in confined geometries\n",
      "\n",
      "    Problem statement:reduce seasickness in virtual reality systems\n",
      "    Abstracted reformulation: reduce user's dependency on information cues\n",
      "\n",
      "    Problem statement:reduce seasickness in virtual reality systems\n",
      "    Abstracted reformulation: Achieve robust orientation stability\n",
      "\n",
      "    Problem statement:reduce seasickness in virtual reality systems\n",
      "    Abstracted reformulation: improve the feel of a complicated motion or force\n",
      "\n",
      "    Problem statement:wash clothes without water\n",
      "    Abstracted reformulation: Remove dirt from objects by mechanical force\n",
      "\n",
      "    Problem statement:charge cell phones on the go\n",
      "    Abstracted reformulation: Charge a battery source from a remote energy-source\n",
      "\n",
      "    Problem statement:charge cell phones on the go\n",
      "    Abstracted reformulation: Supply power to electrical devices in the field\n",
      "\n",
      "    Problem statement:protect feet from getting wet\n",
      "    Abstracted reformulation: stop entry of foreign particles\n",
      "\n",
      "    Problem statement:protect feet from getting wet\n",
      "    Abstracted reformulation: Mechanically stop liquid from penetrating a space\n",
      "\n",
      "    Problem statement:shield baby from the sun\n",
      "    Abstracted reformulation: Protect vulnerable object from radiation\n",
      "\n",
      "    Problem statement:Prevent feet from getting wet\n",
      "    Abstracted reformulation: Stop object from getting into contact with unwanted substances\n",
      "\n",
      "    Problem statement: identify soldiers in old civil war photographs\n",
      "                                                                                                                                                                                                                                                                                                                                                                                     \n",
      "2 identify soldiers in old civil war photographs ->  329 0.4\n",
      "----------------------------------------\n"
     ]
    }
   ],
   "source": [
    "\n"
   ]
  },
  {
   "cell_type": "code",
   "execution_count": 25,
   "metadata": {},
   "outputs": [],
   "source": []
  },
  {
   "cell_type": "code",
   "execution_count": 26,
   "metadata": {},
   "outputs": [
    {
     "name": "stderr",
     "output_type": "stream",
     "text": [
      "Setting `pad_token_id` to `eos_token_id`:50256 for open-end generation.\n"
     ]
    },
    {
     "name": "stdout",
     "output_type": "stream",
     "text": [
      "[{'generated_text': \"Given a problem statement, generate an abstracted reformulation of that problem statement\\n\\n    Problem statement:reduce seasickness in virtual reality systems\\n    Abstracted reformulation: reduce user's dependency on information cues\\n\\n    Problem statement:reduce seasickness in virtual reality systems\\n    Abstracted reformulation: Achieve robust orientation stability\\n\\n    Problem statement:reduce seasickness in virtual reality systems\\n    Abstracted reformulation: improve the feel of a complicated motion or force\\n\\n    Problem statement:wash clothes without water\\n    Abstracted reformulation: Remove dirt from objects by mechanical force\\n\\n    Problem statement:charge cell phones on the go\\n    Abstracted reformulation: Charge a battery source from a remote energy-source\\n\\n    Problem statement:charge cell phones on the go\\n    Abstracted reformulation: Supply power to electrical devices in the field\\n\\n    Problem statement:protect feet from getting wet\\n    Abstracted reformulation: stop entry of foreign particles\\n\\n    Problem statement:protect feet from getting wet\\n    Abstracted reformulation: Mechanically stop liquid from penetrating a space\\n\\n    Problem statement:shield baby from the sun\\n    Abstracted reformulation: Protect vulnerable object from radiation\\n\\n    Problem statement:Prevent feet from getting wet\\n    Abstracted reformulation: Stop object from getting into contact with unwanted substances\\n\\n    Problem statement: increase temperature of the cup\\n                                                                                                                                                                                \"}]\n"
     ]
    }
   ],
   "source": []
  },
  {
   "cell_type": "code",
   "execution_count": 18,
   "metadata": {},
   "outputs": [],
   "source": [
    "# res_generator_gpt_neo_125m[0]['generated_text']"
   ]
  },
  {
   "cell_type": "code",
   "execution_count": null,
   "metadata": {},
   "outputs": [],
   "source": []
  },
  {
   "cell_type": "code",
   "execution_count": null,
   "metadata": {},
   "outputs": [],
   "source": []
  },
  {
   "cell_type": "code",
   "execution_count": null,
   "metadata": {},
   "outputs": [],
   "source": []
  },
  {
   "cell_type": "code",
   "execution_count": null,
   "metadata": {},
   "outputs": [],
   "source": []
  },
  {
   "cell_type": "code",
   "execution_count": null,
   "metadata": {},
   "outputs": [],
   "source": []
  },
  {
   "cell_type": "code",
   "execution_count": null,
   "metadata": {},
   "outputs": [],
   "source": []
  },
  {
   "cell_type": "code",
   "execution_count": null,
   "metadata": {},
   "outputs": [],
   "source": []
  },
  {
   "cell_type": "code",
   "execution_count": null,
   "metadata": {},
   "outputs": [],
   "source": []
  },
  {
   "cell_type": "code",
   "execution_count": null,
   "metadata": {},
   "outputs": [],
   "source": []
  },
  {
   "cell_type": "code",
   "execution_count": null,
   "metadata": {},
   "outputs": [],
   "source": []
  },
  {
   "cell_type": "code",
   "execution_count": null,
   "metadata": {},
   "outputs": [],
   "source": []
  },
  {
   "cell_type": "code",
   "execution_count": null,
   "metadata": {},
   "outputs": [],
   "source": []
  },
  {
   "cell_type": "code",
   "execution_count": null,
   "metadata": {},
   "outputs": [],
   "source": [
    "# res_generator_gpt_neo_125m\n"
   ]
  },
  {
   "cell_type": "code",
   "execution_count": null,
   "metadata": {},
   "outputs": [],
   "source": [
    "# res_generator_gpt_neo_125m[0]['generated_text'].split('\\n\\n')[11].split('\\n')[0]"
   ]
  },
  {
   "cell_type": "code",
   "execution_count": null,
   "metadata": {},
   "outputs": [],
   "source": [
    "# res_generator_gpt_neo_125m[0]['generated_text'].split('\\n\\n')[11].split('\\n')[-1]"
   ]
  },
  {
   "cell_type": "code",
   "execution_count": null,
   "metadata": {},
   "outputs": [],
   "source": [
    "# print(res_generator_gpt_neo_125m[0]['generated_text'])"
   ]
  },
  {
   "cell_type": "code",
   "execution_count": null,
   "metadata": {},
   "outputs": [],
   "source": []
  },
  {
   "cell_type": "code",
   "execution_count": null,
   "metadata": {},
   "outputs": [],
   "source": []
  },
  {
   "cell_type": "code",
   "execution_count": null,
   "metadata": {},
   "outputs": [],
   "source": [
    "# print(res_generator_gpt_neo_1_3b[0]['generated_text'])"
   ]
  },
  {
   "cell_type": "code",
   "execution_count": null,
   "metadata": {},
   "outputs": [],
   "source": [
    "# res_generator_gpt_neo_2_7 = generator_gpt_neo_2_7(prompt,max_length = 500, do_sample = True,temperature = 0.9)"
   ]
  },
  {
   "cell_type": "code",
   "execution_count": null,
   "metadata": {},
   "outputs": [],
   "source": [
    "\n",
    "# print(res_generator_gpt_neo_2_7[0]['generated_text'])"
   ]
  },
  {
   "cell_type": "code",
   "execution_count": null,
   "metadata": {},
   "outputs": [],
   "source": [
    "# res_generator_gpt2 = generator_gpt2(prompt,max_length = 500, do_sample = True,temperature = 0.9)"
   ]
  },
  {
   "cell_type": "code",
   "execution_count": null,
   "metadata": {},
   "outputs": [],
   "source": [
    "\n",
    "\n",
    "# print(res_generator_gpt2[0]['generated_text'])"
   ]
  },
  {
   "cell_type": "code",
   "execution_count": null,
   "metadata": {},
   "outputs": [],
   "source": []
  },
  {
   "cell_type": "code",
   "execution_count": null,
   "metadata": {},
   "outputs": [],
   "source": []
  },
  {
   "cell_type": "code",
   "execution_count": null,
   "metadata": {},
   "outputs": [],
   "source": []
  },
  {
   "cell_type": "code",
   "execution_count": null,
   "metadata": {},
   "outputs": [],
   "source": []
  },
  {
   "cell_type": "code",
   "execution_count": null,
   "metadata": {},
   "outputs": [],
   "source": []
  },
  {
   "cell_type": "code",
   "execution_count": null,
   "metadata": {},
   "outputs": [],
   "source": []
  },
  {
   "cell_type": "code",
   "execution_count": null,
   "metadata": {},
   "outputs": [],
   "source": []
  },
  {
   "cell_type": "code",
   "execution_count": null,
   "metadata": {},
   "outputs": [],
   "source": []
  }
 ],
 "metadata": {
  "kernelspec": {
   "display_name": "Python 3",
   "language": "python",
   "name": "python3"
  },
  "language_info": {
   "codemirror_mode": {
    "name": "ipython",
    "version": 3
   },
   "file_extension": ".py",
   "mimetype": "text/x-python",
   "name": "python",
   "nbconvert_exporter": "python",
   "pygments_lexer": "ipython3",
   "version": "3.8.10"
  }
 },
 "nbformat": 4,
 "nbformat_minor": 4
}
