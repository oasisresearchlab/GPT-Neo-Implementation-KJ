{
 "cells": [
  {
   "cell_type": "code",
   "execution_count": 4,
   "metadata": {},
   "outputs": [
    {
     "name": "stderr",
     "output_type": "stream",
     "text": [
      "C:\\Users\\ysj30\\anaconda3\\envs\\py38torch\\lib\\site-packages\\torchaudio\\backend\\utils.py:67: UserWarning: No audio backend is available.\n",
      "  warnings.warn('No audio backend is available.')\n"
     ]
    }
   ],
   "source": [
    "from transformers import pipeline"
   ]
  },
  {
   "cell_type": "code",
   "execution_count": 5,
   "metadata": {},
   "outputs": [],
   "source": [
    "import numpy as np\n",
    "import pandas as pd\n",
    "import random\n",
    "import string\n",
    "from datetime import datetime\n",
    "import time"
   ]
  },
  {
   "cell_type": "code",
   "execution_count": 6,
   "metadata": {},
   "outputs": [],
   "source": [
    "generator_gpt_neo_125m = pipeline('text-generation',model='EleutherAI/gpt-neo-125M')"
   ]
  },
  {
   "cell_type": "code",
   "execution_count": 7,
   "metadata": {},
   "outputs": [],
   "source": [
    "cols = ['id','model_name','iteration','temperature','input_length','problem_statement','abstract_reformulation','cumulative_time_in_seconds']\n",
    "def generate_blank_df(cols): \n",
    "    df = pd.DataFrame(columns = cols)\n",
    "    return df"
   ]
  },
  {
   "cell_type": "code",
   "execution_count": 8,
   "metadata": {},
   "outputs": [],
   "source": [
    "def get_current_date():\n",
    "    now = datetime.now()\n",
    "\n",
    "#     print(\"now =\", now)\n",
    "\n",
    "    # dd/mm/YY H:M:S\n",
    "    dt_string = now.strftime(\"%Y%m%d\")\n",
    "#     print(\"date and time =\", dt_string)\n",
    "    date_string = dt_string\n",
    "    return date_string"
   ]
  },
  {
   "cell_type": "code",
   "execution_count": 9,
   "metadata": {},
   "outputs": [],
   "source": [
    "date = get_current_date()"
   ]
  },
  {
   "cell_type": "code",
   "execution_count": 10,
   "metadata": {},
   "outputs": [],
   "source": [
    "def generate_output(model,max_iterations,prompt,number_of_problem_statements,temp,model_name_text,want_to_save_1or0):\n",
    "    start = time.time()\n",
    "    date = get_current_date()\n",
    "    df = generate_blank_df(cols)\n",
    "    rand_id = ''.join([random.choice(string.ascii_letters\n",
    "            + string.digits) for n in range(7)])\n",
    "    iteration_no = 1\n",
    "    columns = list(df)\n",
    "#     temp_str = str(temp)\n",
    "#     temp_str = temp_str.split('.')[-1]\n",
    "    file_name = date+'_'+model_name_text+'_'+rand_id+'_'+str(max_iterations)+'_'+str(number_of_problem_statements)+'.csv'\n",
    "    data = []\n",
    "    while temp < 1.0:\n",
    "        iteration_no = 1        \n",
    "        while iteration_no <= max_iterations:\n",
    "            cumulative_time=round((time.time()-start))\n",
    "            res_model = model(prompt,max_length = 32*number_of_problem_statements,do_sample = True,temperature = temp)\n",
    "#             print(res_model[0]['generated_text'])\n",
    "            problem_statement = res_model[0]['generated_text'].split('\\n\\n')[number_of_problem_statements+1].split('\\n')[0].split(':')[-1].strip()\n",
    "            abs_reformulation = res_model[0]['generated_text'].split('\\n\\n')[number_of_problem_statements+1].split('\\n')[-1].split(':')[-1].strip()\n",
    "            values_for_df = [rand_id,model_name_text,iteration_no,temp,number_of_problem_statements,problem_statement,abs_reformulation,cumulative_time]\n",
    "            zipped = zip(columns,values_for_df)\n",
    "            dict1 = dict(zipped)\n",
    "            data.append(dict1)\n",
    "            iteration_no += 1\n",
    "    #         print(f'Total time taken is {elapsed_time_lc}')\n",
    "            print(iteration_no-1,problem_statement,'->',abs_reformulation,cumulative_time,temp)\n",
    "            print('----------------------------------------')\n",
    "    #         print(rand_id,iteration_no,temp,number_of_problem_statements,problem_statement,abs_reformulation)\n",
    "        \n",
    "            df = df.append(data,ignore_index = True)\n",
    "        temp = round((temp+0.1),1)\n",
    "        \n",
    "    df = df.drop_duplicates()\n",
    "    \n",
    "    if(want_to_save_1or0==1):\n",
    "        df.to_csv(f'../Csv/{file_name}',index=False)\n",
    "    else:\n",
    "        print('returning_df')\n",
    "    \n",
    "    elapsed_time_lc=(time.time()-start)\n",
    "    print(f'Total time taken is {round(elapsed_time_lc)}')\n",
    "    \n",
    "    return df\n",
    "    "
   ]
  },
  {
   "cell_type": "code",
   "execution_count": 11,
   "metadata": {},
   "outputs": [],
   "source": [
    "user_input = \"identify soldiers in old civil war photographs\""
   ]
  },
  {
   "cell_type": "code",
   "execution_count": 12,
   "metadata": {},
   "outputs": [],
   "source": [
    "prompt = f\"\"\"Given a problem statement, generate an abstracted reformulation of that problem statement\n",
    "\n",
    "Problem statement: Shield baby from the sun\n",
    "Abstracted reformulation: Protect vulnerable object from radiation\n",
    "\n",
    "Problem statement: Prevent feet from getting wet\n",
    "Abstracted reformulation: Stop object from getting into contact with unwanted substances\n",
    "\n",
    "Problem statement: Hold soap bars of multiple sizes\n",
    "Abstracted reformulation: Contain objects of different volumes\n",
    "\n",
    "Problem statement: Enable a broom to clean in hard to reach places\n",
    "Abstracted reformulation: Extend the physical reach of a tool\n",
    "\n",
    "Problem statement: drill into teeth quietly\n",
    "Abstracted reformulation: create a hole in an object without causing an unwanted noise\n",
    "\n",
    "Problem statement: make house out of cooked spaghetti\n",
    "Abstracted reformulation: create strong, rigid structure out of soft materials\n",
    "\n",
    "Problem statement: make house out of cooked spaghetti\n",
    "Abstracted reformulation: create structure from elastic elements\n",
    "\n",
    "Problem statement:  prevent bicycle tire flats\n",
    "Abstracted reformulation: protect object from the penetration of foreign objects\n",
    "\n",
    "Problem statement: prevent blood clotting in stents\n",
    "Abstracted reformulation: prevent clogging of cylindrical tubes\n",
    "\n",
    "Problem statement: transfer heat in semiconductors at nanoscale\n",
    "Abstracted reformulation: Enable particles to flow in confined geometries\n",
    "\n",
    "Problem statement:reduce seasickness in virtual reality systems\n",
    "Abstracted reformulation: reduce user's dependency on information cues\n",
    "\n",
    "Problem statement:reduce seasickness in virtual reality systems\n",
    "Abstracted reformulation: Achieve robust orientation stability\n",
    "\n",
    "Problem statement:reduce seasickness in virtual reality systems\n",
    "Abstracted reformulation: improve the feel of a complicated motion or force\n",
    "\n",
    "Problem statement:wash clothes without water\n",
    "Abstracted reformulation: Remove dirt from objects by mechanical force\n",
    "\n",
    "Problem statement:charge cell phones on the go\n",
    "Abstracted reformulation: Charge a battery source from a remote energy-source\n",
    "\n",
    "Problem statement:charge cell phones on the go\n",
    "Abstracted reformulation: Supply power to electrical devices in the field\n",
    "\n",
    "Problem statement:protect feet from getting wet\n",
    "Abstracted reformulation: stop entry of foreign particles\n",
    "\n",
    "Problem statement:protect feet from getting wet\n",
    "Abstracted reformulation: Mechanically stop liquid from penetrating a space\n",
    "\n",
    "Problem statement:shield baby from the sun\n",
    "Abstracted reformulation: Protect vulnerable object from radiation\n",
    "\n",
    "Problem statement:Prevent feet from getting wet\n",
    "Abstracted reformulation: Stop object from getting into contact with unwanted substances\n",
    "\n",
    "Problem statement: {user_input}\n",
    "\"\"\""
   ]
  },
  {
   "cell_type": "code",
   "execution_count": 13,
   "metadata": {},
   "outputs": [
    {
     "name": "stderr",
     "output_type": "stream",
     "text": [
      "Setting `pad_token_id` to `eos_token_id`:50256 for open-end generation.\n",
      "Setting `pad_token_id` to `eos_token_id`:50256 for open-end generation.\n"
     ]
    },
    {
     "name": "stdout",
     "output_type": "stream",
     "text": [
      "1 identify soldiers in old civil war photographs -> identify soldiers in old civil war photographs 0 0.1\n",
      "----------------------------------------\n"
     ]
    },
    {
     "name": "stderr",
     "output_type": "stream",
     "text": [
      "Setting `pad_token_id` to `eos_token_id`:50256 for open-end generation.\n"
     ]
    },
    {
     "name": "stdout",
     "output_type": "stream",
     "text": [
      "2 identify soldiers in old civil war photographs -> Identify soldiers in old civil war photographs 15 0.1\n",
      "----------------------------------------\n"
     ]
    },
    {
     "name": "stderr",
     "output_type": "stream",
     "text": [
      "Setting `pad_token_id` to `eos_token_id`:50256 for open-end generation.\n"
     ]
    },
    {
     "name": "stdout",
     "output_type": "stream",
     "text": [
      "3 identify soldiers in old civil war photographs -> identify soldiers in old civil war photographs 29 0.1\n",
      "----------------------------------------\n"
     ]
    },
    {
     "name": "stderr",
     "output_type": "stream",
     "text": [
      "Setting `pad_token_id` to `eos_token_id`:50256 for open-end generation.\n"
     ]
    },
    {
     "name": "stdout",
     "output_type": "stream",
     "text": [
      "4 identify soldiers in old civil war photographs -> Identify soldiers in old civil war photographs 42 0.1\n",
      "----------------------------------------\n"
     ]
    },
    {
     "name": "stderr",
     "output_type": "stream",
     "text": [
      "Setting `pad_token_id` to `eos_token_id`:50256 for open-end generation.\n"
     ]
    },
    {
     "name": "stdout",
     "output_type": "stream",
     "text": [
      "5 identify soldiers in old civil war photographs -> Identify soldiers in old civil war photographs 56 0.1\n",
      "----------------------------------------\n"
     ]
    },
    {
     "name": "stderr",
     "output_type": "stream",
     "text": [
      "Setting `pad_token_id` to `eos_token_id`:50256 for open-end generation.\n"
     ]
    },
    {
     "name": "stdout",
     "output_type": "stream",
     "text": [
      "6 identify soldiers in old civil war photographs -> identify soldiers in old civil war photographs 70 0.1\n",
      "----------------------------------------\n"
     ]
    },
    {
     "name": "stderr",
     "output_type": "stream",
     "text": [
      "Setting `pad_token_id` to `eos_token_id`:50256 for open-end generation.\n"
     ]
    },
    {
     "name": "stdout",
     "output_type": "stream",
     "text": [
      "7 identify soldiers in old civil war photographs -> identify soldiers in old civil war photographs 84 0.1\n",
      "----------------------------------------\n"
     ]
    },
    {
     "name": "stderr",
     "output_type": "stream",
     "text": [
      "Setting `pad_token_id` to `eos_token_id`:50256 for open-end generation.\n"
     ]
    },
    {
     "name": "stdout",
     "output_type": "stream",
     "text": [
      "8 identify soldiers in old civil war photographs -> identify soldiers in old civil war photographs 97 0.1\n",
      "----------------------------------------\n"
     ]
    },
    {
     "name": "stderr",
     "output_type": "stream",
     "text": [
      "Setting `pad_token_id` to `eos_token_id`:50256 for open-end generation.\n"
     ]
    },
    {
     "name": "stdout",
     "output_type": "stream",
     "text": [
      "9 identify soldiers in old civil war photographs -> Identify soldiers in old civil war photographs 111 0.1\n",
      "----------------------------------------\n"
     ]
    },
    {
     "name": "stderr",
     "output_type": "stream",
     "text": [
      "Setting `pad_token_id` to `eos_token_id`:50256 for open-end generation.\n"
     ]
    },
    {
     "name": "stdout",
     "output_type": "stream",
     "text": [
      "10 identify soldiers in old civil war photographs -> Identify soldiers in old civil war photographs 125 0.1\n",
      "----------------------------------------\n"
     ]
    },
    {
     "name": "stderr",
     "output_type": "stream",
     "text": [
      "Setting `pad_token_id` to `eos_token_id`:50256 for open-end generation.\n"
     ]
    },
    {
     "name": "stdout",
     "output_type": "stream",
     "text": [
      "11 identify soldiers in old civil war photographs -> identify soldiers in old civil war photographs 139 0.1\n",
      "----------------------------------------\n"
     ]
    },
    {
     "name": "stderr",
     "output_type": "stream",
     "text": [
      "Setting `pad_token_id` to `eos_token_id`:50256 for open-end generation.\n"
     ]
    },
    {
     "name": "stdout",
     "output_type": "stream",
     "text": [
      "12 identify soldiers in old civil war photographs -> Identify soldiers in old civil war photographs 152 0.1\n",
      "----------------------------------------\n"
     ]
    },
    {
     "name": "stderr",
     "output_type": "stream",
     "text": [
      "Setting `pad_token_id` to `eos_token_id`:50256 for open-end generation.\n"
     ]
    },
    {
     "name": "stdout",
     "output_type": "stream",
     "text": [
      "13 identify soldiers in old civil war photographs -> identify soldiers in old civil war photographs 166 0.1\n",
      "----------------------------------------\n"
     ]
    },
    {
     "name": "stderr",
     "output_type": "stream",
     "text": [
      "Setting `pad_token_id` to `eos_token_id`:50256 for open-end generation.\n"
     ]
    },
    {
     "name": "stdout",
     "output_type": "stream",
     "text": [
      "14 identify soldiers in old civil war photographs -> identify soldiers in old civil war photographs 180 0.1\n",
      "----------------------------------------\n"
     ]
    },
    {
     "name": "stderr",
     "output_type": "stream",
     "text": [
      "Setting `pad_token_id` to `eos_token_id`:50256 for open-end generation.\n"
     ]
    },
    {
     "name": "stdout",
     "output_type": "stream",
     "text": [
      "15 identify soldiers in old civil war photographs -> identify soldiers in old civil war photographs 194 0.1\n",
      "----------------------------------------\n"
     ]
    },
    {
     "name": "stderr",
     "output_type": "stream",
     "text": [
      "Setting `pad_token_id` to `eos_token_id`:50256 for open-end generation.\n"
     ]
    },
    {
     "name": "stdout",
     "output_type": "stream",
     "text": [
      "16 identify soldiers in old civil war photographs -> identify soldiers in old civil war photographs 207 0.1\n",
      "----------------------------------------\n"
     ]
    },
    {
     "name": "stderr",
     "output_type": "stream",
     "text": [
      "Setting `pad_token_id` to `eos_token_id`:50256 for open-end generation.\n"
     ]
    },
    {
     "name": "stdout",
     "output_type": "stream",
     "text": [
      "17 identify soldiers in old civil war photographs -> identify soldiers in old civil war photographs 221 0.1\n",
      "----------------------------------------\n"
     ]
    },
    {
     "name": "stderr",
     "output_type": "stream",
     "text": [
      "Setting `pad_token_id` to `eos_token_id`:50256 for open-end generation.\n"
     ]
    },
    {
     "name": "stdout",
     "output_type": "stream",
     "text": [
      "18 identify soldiers in old civil war photographs -> Identify soldiers in old civil war photographs 235 0.1\n",
      "----------------------------------------\n"
     ]
    },
    {
     "name": "stderr",
     "output_type": "stream",
     "text": [
      "Setting `pad_token_id` to `eos_token_id`:50256 for open-end generation.\n"
     ]
    },
    {
     "name": "stdout",
     "output_type": "stream",
     "text": [
      "19 identify soldiers in old civil war photographs -> identify soldiers in old civil war photographs 249 0.1\n",
      "----------------------------------------\n"
     ]
    },
    {
     "name": "stderr",
     "output_type": "stream",
     "text": [
      "Setting `pad_token_id` to `eos_token_id`:50256 for open-end generation.\n"
     ]
    },
    {
     "name": "stdout",
     "output_type": "stream",
     "text": [
      "20 identify soldiers in old civil war photographs -> identify soldiers in old civil war photographs 262 0.1\n",
      "----------------------------------------\n"
     ]
    },
    {
     "name": "stderr",
     "output_type": "stream",
     "text": [
      "Setting `pad_token_id` to `eos_token_id`:50256 for open-end generation.\n"
     ]
    },
    {
     "name": "stdout",
     "output_type": "stream",
     "text": [
      "1 identify soldiers in old civil war photographs -> Identify soldiers in old civil war photographs 276 0.2\n",
      "----------------------------------------\n"
     ]
    },
    {
     "name": "stderr",
     "output_type": "stream",
     "text": [
      "Setting `pad_token_id` to `eos_token_id`:50256 for open-end generation.\n"
     ]
    },
    {
     "name": "stdout",
     "output_type": "stream",
     "text": [
      "2 identify soldiers in old civil war photographs -> identify soldiers in old civil war photographs 290 0.2\n",
      "----------------------------------------\n"
     ]
    },
    {
     "name": "stderr",
     "output_type": "stream",
     "text": [
      "Setting `pad_token_id` to `eos_token_id`:50256 for open-end generation.\n"
     ]
    },
    {
     "name": "stdout",
     "output_type": "stream",
     "text": [
      "3 identify soldiers in old civil war photographs -> Protect vulnerable object from radiation 305 0.2\n",
      "----------------------------------------\n"
     ]
    },
    {
     "name": "stderr",
     "output_type": "stream",
     "text": [
      "Setting `pad_token_id` to `eos_token_id`:50256 for open-end generation.\n"
     ]
    },
    {
     "name": "stdout",
     "output_type": "stream",
     "text": [
      "4 identify soldiers in old civil war photographs -> identify soldiers in old civil war photographs 322 0.2\n",
      "----------------------------------------\n"
     ]
    },
    {
     "name": "stderr",
     "output_type": "stream",
     "text": [
      "Setting `pad_token_id` to `eos_token_id`:50256 for open-end generation.\n"
     ]
    },
    {
     "name": "stdout",
     "output_type": "stream",
     "text": [
      "5 identify soldiers in old civil war photographs -> protect object from the penetration of foreign substances 344 0.2\n",
      "----------------------------------------\n"
     ]
    },
    {
     "name": "stderr",
     "output_type": "stream",
     "text": [
      "Setting `pad_token_id` to `eos_token_id`:50256 for open-end generation.\n"
     ]
    },
    {
     "name": "stdout",
     "output_type": "stream",
     "text": [
      "6 identify soldiers in old civil war photographs -> Identify soldiers in old civil war photographs 364 0.2\n",
      "----------------------------------------\n"
     ]
    },
    {
     "name": "stderr",
     "output_type": "stream",
     "text": [
      "Setting `pad_token_id` to `eos_token_id`:50256 for open-end generation.\n"
     ]
    },
    {
     "name": "stdout",
     "output_type": "stream",
     "text": [
      "7 identify soldiers in old civil war photographs -> Identify soldiers in old civil war photographs 383 0.2\n",
      "----------------------------------------\n"
     ]
    },
    {
     "name": "stderr",
     "output_type": "stream",
     "text": [
      "Setting `pad_token_id` to `eos_token_id`:50256 for open-end generation.\n"
     ]
    },
    {
     "name": "stdout",
     "output_type": "stream",
     "text": [
      "8 identify soldiers in old civil war photographs -> Identify soldiers in old civil war photographs 401 0.2\n",
      "----------------------------------------\n"
     ]
    },
    {
     "name": "stderr",
     "output_type": "stream",
     "text": [
      "Setting `pad_token_id` to `eos_token_id`:50256 for open-end generation.\n"
     ]
    },
    {
     "name": "stdout",
     "output_type": "stream",
     "text": [
      "9 identify soldiers in old civil war photographs -> Identify soldiers in old civil war photographs 419 0.2\n",
      "----------------------------------------\n"
     ]
    },
    {
     "name": "stderr",
     "output_type": "stream",
     "text": [
      "Setting `pad_token_id` to `eos_token_id`:50256 for open-end generation.\n"
     ]
    },
    {
     "name": "stdout",
     "output_type": "stream",
     "text": [
      "10 identify soldiers in old civil war photographs -> identify soldiers in old civil war photographs 438 0.2\n",
      "----------------------------------------\n"
     ]
    },
    {
     "name": "stderr",
     "output_type": "stream",
     "text": [
      "Setting `pad_token_id` to `eos_token_id`:50256 for open-end generation.\n"
     ]
    },
    {
     "name": "stdout",
     "output_type": "stream",
     "text": [
      "11 identify soldiers in old civil war photographs -> identify soldiers in old civil war photographs 456 0.2\n",
      "----------------------------------------\n"
     ]
    },
    {
     "name": "stderr",
     "output_type": "stream",
     "text": [
      "Setting `pad_token_id` to `eos_token_id`:50256 for open-end generation.\n"
     ]
    },
    {
     "name": "stdout",
     "output_type": "stream",
     "text": [
      "12 identify soldiers in old civil war photographs -> Identify soldiers in old civil war photographs 474 0.2\n",
      "----------------------------------------\n"
     ]
    },
    {
     "name": "stderr",
     "output_type": "stream",
     "text": [
      "Setting `pad_token_id` to `eos_token_id`:50256 for open-end generation.\n"
     ]
    },
    {
     "name": "stdout",
     "output_type": "stream",
     "text": [
      "13 identify soldiers in old civil war photographs -> protect object from the penetration of foreign substances 494 0.2\n",
      "----------------------------------------\n"
     ]
    },
    {
     "name": "stderr",
     "output_type": "stream",
     "text": [
      "Setting `pad_token_id` to `eos_token_id`:50256 for open-end generation.\n"
     ]
    },
    {
     "name": "stdout",
     "output_type": "stream",
     "text": [
      "14 identify soldiers in old civil war photographs -> identify soldiers in old civil war photographs 515 0.2\n",
      "----------------------------------------\n"
     ]
    },
    {
     "name": "stderr",
     "output_type": "stream",
     "text": [
      "Setting `pad_token_id` to `eos_token_id`:50256 for open-end generation.\n"
     ]
    },
    {
     "name": "stdout",
     "output_type": "stream",
     "text": [
      "15 identify soldiers in old civil war photographs -> identify soldiers in old civil war photographs 535 0.2\n",
      "----------------------------------------\n"
     ]
    },
    {
     "name": "stderr",
     "output_type": "stream",
     "text": [
      "Setting `pad_token_id` to `eos_token_id`:50256 for open-end generation.\n"
     ]
    },
    {
     "name": "stdout",
     "output_type": "stream",
     "text": [
      "16 identify soldiers in old civil war photographs -> Identify soldiers in old civil war photographs 556 0.2\n",
      "----------------------------------------\n"
     ]
    },
    {
     "name": "stderr",
     "output_type": "stream",
     "text": [
      "Setting `pad_token_id` to `eos_token_id`:50256 for open-end generation.\n"
     ]
    },
    {
     "name": "stdout",
     "output_type": "stream",
     "text": [
      "17 identify soldiers in old civil war photographs -> Prevent soldiers from getting into contact with foreign objects 575 0.2\n",
      "----------------------------------------\n"
     ]
    },
    {
     "name": "stderr",
     "output_type": "stream",
     "text": [
      "Setting `pad_token_id` to `eos_token_id`:50256 for open-end generation.\n"
     ]
    },
    {
     "name": "stdout",
     "output_type": "stream",
     "text": [
      "18 identify soldiers in old civil war photographs -> Identify soldiers in old civil war photographs 594 0.2\n",
      "----------------------------------------\n"
     ]
    },
    {
     "name": "stderr",
     "output_type": "stream",
     "text": [
      "Setting `pad_token_id` to `eos_token_id`:50256 for open-end generation.\n"
     ]
    },
    {
     "name": "stdout",
     "output_type": "stream",
     "text": [
      "19 identify soldiers in old civil war photographs -> identify soldiers in old civil war photographs 612 0.2\n",
      "----------------------------------------\n"
     ]
    },
    {
     "name": "stderr",
     "output_type": "stream",
     "text": [
      "Setting `pad_token_id` to `eos_token_id`:50256 for open-end generation.\n"
     ]
    },
    {
     "name": "stdout",
     "output_type": "stream",
     "text": [
      "20 identify soldiers in old civil war photographs -> Identify soldiers in old civil war photographs 630 0.2\n",
      "----------------------------------------\n"
     ]
    },
    {
     "name": "stderr",
     "output_type": "stream",
     "text": [
      "Setting `pad_token_id` to `eos_token_id`:50256 for open-end generation.\n"
     ]
    },
    {
     "name": "stdout",
     "output_type": "stream",
     "text": [
      "1 identify soldiers in old civil war photographs -> identify soldiers in old civil war photographs 649 0.3\n",
      "----------------------------------------\n"
     ]
    },
    {
     "name": "stderr",
     "output_type": "stream",
     "text": [
      "Setting `pad_token_id` to `eos_token_id`:50256 for open-end generation.\n"
     ]
    },
    {
     "name": "stdout",
     "output_type": "stream",
     "text": [
      "2 identify soldiers in old civil war photographs -> identify soldiers in old civil war photographs 669 0.3\n",
      "----------------------------------------\n"
     ]
    },
    {
     "name": "stderr",
     "output_type": "stream",
     "text": [
      "Setting `pad_token_id` to `eos_token_id`:50256 for open-end generation.\n"
     ]
    },
    {
     "name": "stdout",
     "output_type": "stream",
     "text": [
      "3 identify soldiers in old civil war photographs -> identify soldiers in old civil war photographs 687 0.3\n",
      "----------------------------------------\n"
     ]
    },
    {
     "name": "stderr",
     "output_type": "stream",
     "text": [
      "Setting `pad_token_id` to `eos_token_id`:50256 for open-end generation.\n"
     ]
    },
    {
     "name": "stdout",
     "output_type": "stream",
     "text": [
      "4 identify soldiers in old civil war photographs -> identify soldiers in old civil war photographs 707 0.3\n",
      "----------------------------------------\n"
     ]
    },
    {
     "name": "stderr",
     "output_type": "stream",
     "text": [
      "Setting `pad_token_id` to `eos_token_id`:50256 for open-end generation.\n"
     ]
    },
    {
     "name": "stdout",
     "output_type": "stream",
     "text": [
      "5 identify soldiers in old civil war photographs -> Identify soldiers in old civil war photographs 727 0.3\n",
      "----------------------------------------\n"
     ]
    },
    {
     "name": "stderr",
     "output_type": "stream",
     "text": [
      "Setting `pad_token_id` to `eos_token_id`:50256 for open-end generation.\n"
     ]
    },
    {
     "name": "stdout",
     "output_type": "stream",
     "text": [
      "6 identify soldiers in old civil war photographs -> identify soldiers in old civil war photographs 749 0.3\n",
      "----------------------------------------\n"
     ]
    },
    {
     "name": "stderr",
     "output_type": "stream",
     "text": [
      "Setting `pad_token_id` to `eos_token_id`:50256 for open-end generation.\n"
     ]
    },
    {
     "name": "stdout",
     "output_type": "stream",
     "text": [
      "7 identify soldiers in old civil war photographs -> Identify soldiers in old civil war photographs 769 0.3\n",
      "----------------------------------------\n"
     ]
    },
    {
     "name": "stderr",
     "output_type": "stream",
     "text": [
      "Setting `pad_token_id` to `eos_token_id`:50256 for open-end generation.\n"
     ]
    },
    {
     "name": "stdout",
     "output_type": "stream",
     "text": [
      "8 identify soldiers in old civil war photographs -> Identify soldiers in old civil war photographs 788 0.3\n",
      "----------------------------------------\n"
     ]
    },
    {
     "name": "stderr",
     "output_type": "stream",
     "text": [
      "Setting `pad_token_id` to `eos_token_id`:50256 for open-end generation.\n"
     ]
    },
    {
     "name": "stdout",
     "output_type": "stream",
     "text": [
      "9 identify soldiers in old civil war photographs -> Protect vulnerable object from radiation 806 0.3\n",
      "----------------------------------------\n"
     ]
    },
    {
     "name": "stderr",
     "output_type": "stream",
     "text": [
      "Setting `pad_token_id` to `eos_token_id`:50256 for open-end generation.\n"
     ]
    },
    {
     "name": "stdout",
     "output_type": "stream",
     "text": [
      "10 identify soldiers in old civil war photographs -> Identify soldiers in old civil war photographs 825 0.3\n",
      "----------------------------------------\n"
     ]
    },
    {
     "name": "stderr",
     "output_type": "stream",
     "text": [
      "Setting `pad_token_id` to `eos_token_id`:50256 for open-end generation.\n"
     ]
    },
    {
     "name": "stdout",
     "output_type": "stream",
     "text": [
      "11 identify soldiers in old civil war photographs -> identify soldiers in old civil war photographs 845 0.3\n",
      "----------------------------------------\n"
     ]
    },
    {
     "name": "stderr",
     "output_type": "stream",
     "text": [
      "Setting `pad_token_id` to `eos_token_id`:50256 for open-end generation.\n"
     ]
    },
    {
     "name": "stdout",
     "output_type": "stream",
     "text": [
      "12 identify soldiers in old civil war photographs -> identify soldiers in old civil war photographs 865 0.3\n",
      "----------------------------------------\n"
     ]
    },
    {
     "name": "stderr",
     "output_type": "stream",
     "text": [
      "Setting `pad_token_id` to `eos_token_id`:50256 for open-end generation.\n"
     ]
    },
    {
     "name": "stdout",
     "output_type": "stream",
     "text": [
      "13 identify soldiers in old civil war photographs -> Identify soldiers in old civil war photographs 886 0.3\n",
      "----------------------------------------\n"
     ]
    },
    {
     "name": "stderr",
     "output_type": "stream",
     "text": [
      "Setting `pad_token_id` to `eos_token_id`:50256 for open-end generation.\n"
     ]
    },
    {
     "name": "stdout",
     "output_type": "stream",
     "text": [
      "14 identify soldiers in old civil war photographs -> Identify soldiers in old civil war photographs 909 0.3\n",
      "----------------------------------------\n"
     ]
    },
    {
     "name": "stderr",
     "output_type": "stream",
     "text": [
      "Setting `pad_token_id` to `eos_token_id`:50256 for open-end generation.\n"
     ]
    },
    {
     "name": "stdout",
     "output_type": "stream",
     "text": [
      "15 identify soldiers in old civil war photographs -> identify soldiers in old civil war photographs 928 0.3\n",
      "----------------------------------------\n"
     ]
    },
    {
     "name": "stderr",
     "output_type": "stream",
     "text": [
      "Setting `pad_token_id` to `eos_token_id`:50256 for open-end generation.\n"
     ]
    },
    {
     "name": "stdout",
     "output_type": "stream",
     "text": [
      "16 identify soldiers in old civil war photographs -> Protect vulnerable object from radiation 947 0.3\n",
      "----------------------------------------\n"
     ]
    },
    {
     "name": "stderr",
     "output_type": "stream",
     "text": [
      "Setting `pad_token_id` to `eos_token_id`:50256 for open-end generation.\n"
     ]
    },
    {
     "name": "stdout",
     "output_type": "stream",
     "text": [
      "17 identify soldiers in old civil war photographs -> Identify soldiers in old civil war photographs 966 0.3\n",
      "----------------------------------------\n"
     ]
    },
    {
     "name": "stderr",
     "output_type": "stream",
     "text": [
      "Setting `pad_token_id` to `eos_token_id`:50256 for open-end generation.\n"
     ]
    },
    {
     "name": "stdout",
     "output_type": "stream",
     "text": [
      "18 identify soldiers in old civil war photographs -> identify soldiers in old civil war photographs 986 0.3\n",
      "----------------------------------------\n"
     ]
    },
    {
     "name": "stderr",
     "output_type": "stream",
     "text": [
      "Setting `pad_token_id` to `eos_token_id`:50256 for open-end generation.\n"
     ]
    },
    {
     "name": "stdout",
     "output_type": "stream",
     "text": [
      "19 identify soldiers in old civil war photographs -> protect object from the penetration of foreign substances 1005 0.3\n",
      "----------------------------------------\n"
     ]
    },
    {
     "name": "stderr",
     "output_type": "stream",
     "text": [
      "Setting `pad_token_id` to `eos_token_id`:50256 for open-end generation.\n"
     ]
    },
    {
     "name": "stdout",
     "output_type": "stream",
     "text": [
      "20 identify soldiers in old civil war photographs -> Prevent soldiers from getting into contact with foreign objects 1026 0.3\n",
      "----------------------------------------\n"
     ]
    },
    {
     "name": "stderr",
     "output_type": "stream",
     "text": [
      "Setting `pad_token_id` to `eos_token_id`:50256 for open-end generation.\n"
     ]
    },
    {
     "name": "stdout",
     "output_type": "stream",
     "text": [
      "1 identify soldiers in old civil war photographs -> Identify soldiers in old civil war photographs 1045 0.4\n",
      "----------------------------------------\n"
     ]
    },
    {
     "name": "stderr",
     "output_type": "stream",
     "text": [
      "Setting `pad_token_id` to `eos_token_id`:50256 for open-end generation.\n"
     ]
    },
    {
     "name": "stdout",
     "output_type": "stream",
     "text": [
      "2 identify soldiers in old civil war photographs -> identify soldiers in old civil war photographs 1067 0.4\n",
      "----------------------------------------\n"
     ]
    },
    {
     "name": "stderr",
     "output_type": "stream",
     "text": [
      "Setting `pad_token_id` to `eos_token_id`:50256 for open-end generation.\n"
     ]
    },
    {
     "name": "stdout",
     "output_type": "stream",
     "text": [
      "3 identify soldiers in old civil war photographs -> identify soldiers in old civil war photographs 1093 0.4\n",
      "----------------------------------------\n"
     ]
    },
    {
     "name": "stderr",
     "output_type": "stream",
     "text": [
      "Setting `pad_token_id` to `eos_token_id`:50256 for open-end generation.\n"
     ]
    },
    {
     "name": "stdout",
     "output_type": "stream",
     "text": [
      "4 identify soldiers in old civil war photographs -> identify soldiers in old civil war photographs 1115 0.4\n",
      "----------------------------------------\n"
     ]
    },
    {
     "name": "stderr",
     "output_type": "stream",
     "text": [
      "Setting `pad_token_id` to `eos_token_id`:50256 for open-end generation.\n"
     ]
    },
    {
     "name": "stdout",
     "output_type": "stream",
     "text": [
      "5 identify soldiers in old civil war photographs -> Protect vulnerable object from radiation 1137 0.4\n",
      "----------------------------------------\n"
     ]
    },
    {
     "name": "stderr",
     "output_type": "stream",
     "text": [
      "Setting `pad_token_id` to `eos_token_id`:50256 for open-end generation.\n"
     ]
    },
    {
     "name": "stdout",
     "output_type": "stream",
     "text": [
      "6 identify soldiers in old civil war photographs -> Identify soldiers in old civil war photographs 1156 0.4\n",
      "----------------------------------------\n"
     ]
    },
    {
     "name": "stderr",
     "output_type": "stream",
     "text": [
      "Setting `pad_token_id` to `eos_token_id`:50256 for open-end generation.\n"
     ]
    },
    {
     "name": "stdout",
     "output_type": "stream",
     "text": [
      "7 identify soldiers in old civil war photographs -> Prevent the use of a weapon or weaponized object 1176 0.4\n",
      "----------------------------------------\n"
     ]
    },
    {
     "name": "stderr",
     "output_type": "stream",
     "text": [
      "Setting `pad_token_id` to `eos_token_id`:50256 for open-end generation.\n"
     ]
    },
    {
     "name": "stdout",
     "output_type": "stream",
     "text": [
      "8 identify soldiers in old civil war photographs -> Identify soldiers in old civil war photographs 1195 0.4\n",
      "----------------------------------------\n"
     ]
    },
    {
     "name": "stderr",
     "output_type": "stream",
     "text": [
      "Setting `pad_token_id` to `eos_token_id`:50256 for open-end generation.\n"
     ]
    },
    {
     "name": "stdout",
     "output_type": "stream",
     "text": [
      "9 identify soldiers in old civil war photographs -> Identify soldiers in old civil war photographs 1215 0.4\n",
      "----------------------------------------\n"
     ]
    },
    {
     "name": "stderr",
     "output_type": "stream",
     "text": [
      "Setting `pad_token_id` to `eos_token_id`:50256 for open-end generation.\n"
     ]
    },
    {
     "name": "stdout",
     "output_type": "stream",
     "text": [
      "10 identify soldiers in old civil war photographs -> identify soldiers in old civil war photographs 1235 0.4\n",
      "----------------------------------------\n"
     ]
    },
    {
     "name": "stderr",
     "output_type": "stream",
     "text": [
      "Setting `pad_token_id` to `eos_token_id`:50256 for open-end generation.\n"
     ]
    },
    {
     "name": "stdout",
     "output_type": "stream",
     "text": [
      "11 identify soldiers in old civil war photographs -> identify soldiers in old civil war photographs 1257 0.4\n",
      "----------------------------------------\n"
     ]
    },
    {
     "name": "stderr",
     "output_type": "stream",
     "text": [
      "Setting `pad_token_id` to `eos_token_id`:50256 for open-end generation.\n"
     ]
    },
    {
     "name": "stdout",
     "output_type": "stream",
     "text": [
      "12 identify soldiers in old civil war photographs -> Identify soldiers in old civil war photographs 1276 0.4\n",
      "----------------------------------------\n"
     ]
    },
    {
     "name": "stderr",
     "output_type": "stream",
     "text": [
      "Setting `pad_token_id` to `eos_token_id`:50256 for open-end generation.\n"
     ]
    },
    {
     "name": "stdout",
     "output_type": "stream",
     "text": [
      "13 identify soldiers in old civil war photographs -> Determine the size of a soldier's face 1296 0.4\n",
      "----------------------------------------\n"
     ]
    },
    {
     "name": "stderr",
     "output_type": "stream",
     "text": [
      "Setting `pad_token_id` to `eos_token_id`:50256 for open-end generation.\n"
     ]
    },
    {
     "name": "stdout",
     "output_type": "stream",
     "text": [
      "14 identify soldiers in old civil war photographs -> identify soldiers in old civil war photographs 1315 0.4\n",
      "----------------------------------------\n"
     ]
    },
    {
     "name": "stderr",
     "output_type": "stream",
     "text": [
      "Setting `pad_token_id` to `eos_token_id`:50256 for open-end generation.\n"
     ]
    },
    {
     "name": "stdout",
     "output_type": "stream",
     "text": [
      "15 identify soldiers in old civil war photographs -> Identify soldiers in old civil war photographs 1333 0.4\n",
      "----------------------------------------\n"
     ]
    },
    {
     "name": "stderr",
     "output_type": "stream",
     "text": [
      "Setting `pad_token_id` to `eos_token_id`:50256 for open-end generation.\n"
     ]
    },
    {
     "name": "stdout",
     "output_type": "stream",
     "text": [
      "16 identify soldiers in old civil war photographs -> protect object from radiation 1352 0.4\n",
      "----------------------------------------\n"
     ]
    },
    {
     "name": "stderr",
     "output_type": "stream",
     "text": [
      "Setting `pad_token_id` to `eos_token_id`:50256 for open-end generation.\n"
     ]
    },
    {
     "name": "stdout",
     "output_type": "stream",
     "text": [
      "17 identify soldiers in old civil war photographs -> detect the presence of weapons in the field 1371 0.4\n",
      "----------------------------------------\n"
     ]
    },
    {
     "name": "stderr",
     "output_type": "stream",
     "text": [
      "Setting `pad_token_id` to `eos_token_id`:50256 for open-end generation.\n"
     ]
    },
    {
     "name": "stdout",
     "output_type": "stream",
     "text": [
      "18 identify soldiers in old civil war photographs -> identify soldiers in old civil war photographs 1390 0.4\n",
      "----------------------------------------\n"
     ]
    },
    {
     "name": "stderr",
     "output_type": "stream",
     "text": [
      "Setting `pad_token_id` to `eos_token_id`:50256 for open-end generation.\n"
     ]
    },
    {
     "name": "stdout",
     "output_type": "stream",
     "text": [
      "19 identify soldiers in old civil war photographs -> Identify soldiers in old civil war photographs 1411 0.4\n",
      "----------------------------------------\n"
     ]
    },
    {
     "name": "stderr",
     "output_type": "stream",
     "text": [
      "Setting `pad_token_id` to `eos_token_id`:50256 for open-end generation.\n"
     ]
    },
    {
     "name": "stdout",
     "output_type": "stream",
     "text": [
      "20 identify soldiers in old civil war photographs -> Identify soldiers in old civil war photographs 1429 0.4\n",
      "----------------------------------------\n"
     ]
    },
    {
     "name": "stderr",
     "output_type": "stream",
     "text": [
      "Setting `pad_token_id` to `eos_token_id`:50256 for open-end generation.\n"
     ]
    },
    {
     "name": "stdout",
     "output_type": "stream",
     "text": [
      "1 identify soldiers in old civil war photographs -> Identify soldiers in old civil war photographs 1449 0.5\n",
      "----------------------------------------\n"
     ]
    },
    {
     "name": "stderr",
     "output_type": "stream",
     "text": [
      "Setting `pad_token_id` to `eos_token_id`:50256 for open-end generation.\n"
     ]
    },
    {
     "name": "stdout",
     "output_type": "stream",
     "text": [
      "2 identify soldiers in old civil war photographs -> Identify soldiers in old civil war photographs 1467 0.5\n",
      "----------------------------------------\n"
     ]
    },
    {
     "name": "stderr",
     "output_type": "stream",
     "text": [
      "Setting `pad_token_id` to `eos_token_id`:50256 for open-end generation.\n"
     ]
    },
    {
     "name": "stdout",
     "output_type": "stream",
     "text": [
      "3 identify soldiers in old civil war photographs -> Identify soldiers in old civil war photographs 1486 0.5\n",
      "----------------------------------------\n"
     ]
    },
    {
     "name": "stderr",
     "output_type": "stream",
     "text": [
      "Setting `pad_token_id` to `eos_token_id`:50256 for open-end generation.\n"
     ]
    },
    {
     "name": "stdout",
     "output_type": "stream",
     "text": [
      "4 identify soldiers in old civil war photographs -> identify soldiers in old civil war photographs 1505 0.5\n",
      "----------------------------------------\n"
     ]
    },
    {
     "name": "stderr",
     "output_type": "stream",
     "text": [
      "Setting `pad_token_id` to `eos_token_id`:50256 for open-end generation.\n"
     ]
    },
    {
     "name": "stdout",
     "output_type": "stream",
     "text": [
      "5 identify soldiers in old civil war photographs -> Identify soldiers in old civil war photographs 1524 0.5\n",
      "----------------------------------------\n"
     ]
    },
    {
     "name": "stderr",
     "output_type": "stream",
     "text": [
      "Setting `pad_token_id` to `eos_token_id`:50256 for open-end generation.\n"
     ]
    },
    {
     "name": "stdout",
     "output_type": "stream",
     "text": [
      "6 identify soldiers in old civil war photographs -> Prevent soldiers from getting into contact with unwanted substances 1543 0.5\n",
      "----------------------------------------\n"
     ]
    },
    {
     "name": "stderr",
     "output_type": "stream",
     "text": [
      "Setting `pad_token_id` to `eos_token_id`:50256 for open-end generation.\n"
     ]
    },
    {
     "name": "stdout",
     "output_type": "stream",
     "text": [
      "7 identify soldiers in old civil war photographs -> identify soldiers in old civil war photographs 1563 0.5\n",
      "----------------------------------------\n"
     ]
    },
    {
     "name": "stderr",
     "output_type": "stream",
     "text": [
      "Setting `pad_token_id` to `eos_token_id`:50256 for open-end generation.\n"
     ]
    },
    {
     "name": "stdout",
     "output_type": "stream",
     "text": [
      "8 identify soldiers in old civil war photographs -> Protect soldier in the field 1583 0.5\n",
      "----------------------------------------\n"
     ]
    },
    {
     "name": "stderr",
     "output_type": "stream",
     "text": [
      "Setting `pad_token_id` to `eos_token_id`:50256 for open-end generation.\n"
     ]
    },
    {
     "name": "stdout",
     "output_type": "stream",
     "text": [
      "9 identify soldiers in old civil war photographs -> Identify soldiers in old civil war photographs 1605 0.5\n",
      "----------------------------------------\n"
     ]
    },
    {
     "name": "stderr",
     "output_type": "stream",
     "text": [
      "Setting `pad_token_id` to `eos_token_id`:50256 for open-end generation.\n"
     ]
    },
    {
     "name": "stdout",
     "output_type": "stream",
     "text": [
      "10 identify soldiers in old civil war photographs -> identify soldiers in old civil war photographs 1624 0.5\n",
      "----------------------------------------\n"
     ]
    },
    {
     "name": "stderr",
     "output_type": "stream",
     "text": [
      "Setting `pad_token_id` to `eos_token_id`:50256 for open-end generation.\n"
     ]
    },
    {
     "name": "stdout",
     "output_type": "stream",
     "text": [
      "11 identify soldiers in old civil war photographs -> Prevent soldiers from getting wet 1643 0.5\n",
      "----------------------------------------\n"
     ]
    },
    {
     "name": "stderr",
     "output_type": "stream",
     "text": [
      "Setting `pad_token_id` to `eos_token_id`:50256 for open-end generation.\n"
     ]
    },
    {
     "name": "stdout",
     "output_type": "stream",
     "text": [
      "12 identify soldiers in old civil war photographs -> protect object from the penetration of foreign particles 1664 0.5\n",
      "----------------------------------------\n"
     ]
    },
    {
     "name": "stderr",
     "output_type": "stream",
     "text": [
      "Setting `pad_token_id` to `eos_token_id`:50256 for open-end generation.\n"
     ]
    },
    {
     "name": "stdout",
     "output_type": "stream",
     "text": [
      "13 identify soldiers in old civil war photographs -> Identify soldiers in old civil war photographs 1685 0.5\n",
      "----------------------------------------\n"
     ]
    },
    {
     "name": "stderr",
     "output_type": "stream",
     "text": [
      "Setting `pad_token_id` to `eos_token_id`:50256 for open-end generation.\n"
     ]
    },
    {
     "name": "stdout",
     "output_type": "stream",
     "text": [
      "14 identify soldiers in old civil war photographs -> use a camera to identify soldiers in old civil war photographs 1706 0.5\n",
      "----------------------------------------\n"
     ]
    },
    {
     "name": "stderr",
     "output_type": "stream",
     "text": [
      "Setting `pad_token_id` to `eos_token_id`:50256 for open-end generation.\n"
     ]
    },
    {
     "name": "stdout",
     "output_type": "stream",
     "text": [
      "15 identify soldiers in old civil war photographs -> Identify soldiers in old civil war photographs 1729 0.5\n",
      "----------------------------------------\n"
     ]
    },
    {
     "name": "stderr",
     "output_type": "stream",
     "text": [
      "Setting `pad_token_id` to `eos_token_id`:50256 for open-end generation.\n"
     ]
    },
    {
     "name": "stdout",
     "output_type": "stream",
     "text": [
      "16 identify soldiers in old civil war photographs -> Prevent soldiers from getting into contact with unwanted substances 1748 0.5\n",
      "----------------------------------------\n"
     ]
    },
    {
     "name": "stderr",
     "output_type": "stream",
     "text": [
      "Setting `pad_token_id` to `eos_token_id`:50256 for open-end generation.\n"
     ]
    },
    {
     "name": "stdout",
     "output_type": "stream",
     "text": [
      "17 identify soldiers in old civil war photographs -> prevent the use of firearms 1767 0.5\n",
      "----------------------------------------\n"
     ]
    },
    {
     "name": "stderr",
     "output_type": "stream",
     "text": [
      "Setting `pad_token_id` to `eos_token_id`:50256 for open-end generation.\n"
     ]
    },
    {
     "name": "stdout",
     "output_type": "stream",
     "text": [
      "18 identify soldiers in old civil war photographs -> Identify soldiers in old civil war photographs 1786 0.5\n",
      "----------------------------------------\n"
     ]
    },
    {
     "name": "stderr",
     "output_type": "stream",
     "text": [
      "Setting `pad_token_id` to `eos_token_id`:50256 for open-end generation.\n"
     ]
    },
    {
     "name": "stdout",
     "output_type": "stream",
     "text": [
      "19 identify soldiers in old civil war photographs -> Identify soldiers in old civil war photographs 1811 0.5\n",
      "----------------------------------------\n"
     ]
    },
    {
     "name": "stderr",
     "output_type": "stream",
     "text": [
      "Setting `pad_token_id` to `eos_token_id`:50256 for open-end generation.\n"
     ]
    },
    {
     "name": "stdout",
     "output_type": "stream",
     "text": [
      "20 identify soldiers in old civil war photographs -> Identify soldiers in old civil war photographs 1832 0.5\n",
      "----------------------------------------\n"
     ]
    },
    {
     "name": "stderr",
     "output_type": "stream",
     "text": [
      "Setting `pad_token_id` to `eos_token_id`:50256 for open-end generation.\n"
     ]
    },
    {
     "name": "stdout",
     "output_type": "stream",
     "text": [
      "1 identify soldiers in old civil war photographs -> prevent troops from getting into contact with foreign objects 1857 0.6\n",
      "----------------------------------------\n"
     ]
    },
    {
     "name": "stderr",
     "output_type": "stream",
     "text": [
      "Setting `pad_token_id` to `eos_token_id`:50256 for open-end generation.\n"
     ]
    },
    {
     "name": "stdout",
     "output_type": "stream",
     "text": [
      "2 identify soldiers in old civil war photographs -> identify soldiers in old civil war photographs 1877 0.6\n",
      "----------------------------------------\n"
     ]
    },
    {
     "name": "stderr",
     "output_type": "stream",
     "text": [
      "Setting `pad_token_id` to `eos_token_id`:50256 for open-end generation.\n"
     ]
    },
    {
     "name": "stdout",
     "output_type": "stream",
     "text": [
      "3 identify soldiers in old civil war photographs -> Identify soldiers with their uniforms 1897 0.6\n",
      "----------------------------------------\n"
     ]
    },
    {
     "name": "stderr",
     "output_type": "stream",
     "text": [
      "Setting `pad_token_id` to `eos_token_id`:50256 for open-end generation.\n"
     ]
    },
    {
     "name": "stdout",
     "output_type": "stream",
     "text": [
      "4 identify soldiers in old civil war photographs -> Identify soldiers who were captured by the British troops 1920 0.6\n",
      "----------------------------------------\n"
     ]
    },
    {
     "name": "stderr",
     "output_type": "stream",
     "text": [
      "Setting `pad_token_id` to `eos_token_id`:50256 for open-end generation.\n"
     ]
    },
    {
     "name": "stdout",
     "output_type": "stream",
     "text": [
      "5 identify soldiers in old civil war photographs -> identify soldiers in old civil war photographs 1941 0.6\n",
      "----------------------------------------\n"
     ]
    },
    {
     "name": "stderr",
     "output_type": "stream",
     "text": [
      "Setting `pad_token_id` to `eos_token_id`:50256 for open-end generation.\n"
     ]
    },
    {
     "name": "stdout",
     "output_type": "stream",
     "text": [
      "6 identify soldiers in old civil war photographs -> Identify soldiers in old civil war photographs 1962 0.6\n",
      "----------------------------------------\n"
     ]
    },
    {
     "name": "stderr",
     "output_type": "stream",
     "text": [
      "Setting `pad_token_id` to `eos_token_id`:50256 for open-end generation.\n"
     ]
    },
    {
     "name": "stdout",
     "output_type": "stream",
     "text": [
      "7 identify soldiers in old civil war photographs -> Identify soldiers in old civil war photographs 1984 0.6\n",
      "----------------------------------------\n"
     ]
    },
    {
     "name": "stderr",
     "output_type": "stream",
     "text": [
      "Setting `pad_token_id` to `eos_token_id`:50256 for open-end generation.\n"
     ]
    },
    {
     "name": "stdout",
     "output_type": "stream",
     "text": [
      "8 identify soldiers in old civil war photographs -> identify soldiers in old civil war photographs 2004 0.6\n",
      "----------------------------------------\n"
     ]
    },
    {
     "name": "stderr",
     "output_type": "stream",
     "text": [
      "Setting `pad_token_id` to `eos_token_id`:50256 for open-end generation.\n"
     ]
    },
    {
     "name": "stdout",
     "output_type": "stream",
     "text": [
      "9 identify soldiers in old civil war photographs -> identify soldiers in old civil war photographs 2023 0.6\n",
      "----------------------------------------\n"
     ]
    },
    {
     "name": "stderr",
     "output_type": "stream",
     "text": [
      "Setting `pad_token_id` to `eos_token_id`:50256 for open-end generation.\n"
     ]
    },
    {
     "name": "stdout",
     "output_type": "stream",
     "text": [
      "10 identify soldiers in old civil war photographs -> identify soldiers in the war 2042 0.6\n",
      "----------------------------------------\n"
     ]
    },
    {
     "name": "stderr",
     "output_type": "stream",
     "text": [
      "Setting `pad_token_id` to `eos_token_id`:50256 for open-end generation.\n"
     ]
    },
    {
     "name": "stdout",
     "output_type": "stream",
     "text": [
      "11 identify soldiers in old civil war photographs -> Identify soldiers in old civil war photographs 2060 0.6\n",
      "----------------------------------------\n"
     ]
    },
    {
     "name": "stderr",
     "output_type": "stream",
     "text": [
      "Setting `pad_token_id` to `eos_token_id`:50256 for open-end generation.\n"
     ]
    },
    {
     "name": "stdout",
     "output_type": "stream",
     "text": [
      "12 identify soldiers in old civil war photographs -> protect object from radiation 2080 0.6\n",
      "----------------------------------------\n"
     ]
    },
    {
     "name": "stderr",
     "output_type": "stream",
     "text": [
      "Setting `pad_token_id` to `eos_token_id`:50256 for open-end generation.\n"
     ]
    },
    {
     "name": "stdout",
     "output_type": "stream",
     "text": [
      "13 identify soldiers in old civil war photographs -> identify soldiers in old civil war photographs 2102 0.6\n",
      "----------------------------------------\n"
     ]
    },
    {
     "name": "stderr",
     "output_type": "stream",
     "text": [
      "Setting `pad_token_id` to `eos_token_id`:50256 for open-end generation.\n"
     ]
    },
    {
     "name": "stdout",
     "output_type": "stream",
     "text": [
      "14 identify soldiers in old civil war photographs -> Identify soldiers in old civil war photographs 2121 0.6\n",
      "----------------------------------------\n"
     ]
    },
    {
     "name": "stderr",
     "output_type": "stream",
     "text": [
      "Setting `pad_token_id` to `eos_token_id`:50256 for open-end generation.\n"
     ]
    },
    {
     "name": "stdout",
     "output_type": "stream",
     "text": [
      "15 identify soldiers in old civil war photographs -> identify soldiers in old civil war photographs 2141 0.6\n",
      "----------------------------------------\n"
     ]
    },
    {
     "name": "stderr",
     "output_type": "stream",
     "text": [
      "Setting `pad_token_id` to `eos_token_id`:50256 for open-end generation.\n"
     ]
    },
    {
     "name": "stdout",
     "output_type": "stream",
     "text": [
      "16 identify soldiers in old civil war photographs -> Protect an object from a foreign object 2161 0.6\n",
      "----------------------------------------\n"
     ]
    },
    {
     "name": "stderr",
     "output_type": "stream",
     "text": [
      "Setting `pad_token_id` to `eos_token_id`:50256 for open-end generation.\n"
     ]
    },
    {
     "name": "stdout",
     "output_type": "stream",
     "text": [
      "17 identify soldiers in old civil war photographs -> identify soldiers in old civil war photographs 2183 0.6\n",
      "----------------------------------------\n"
     ]
    },
    {
     "name": "stderr",
     "output_type": "stream",
     "text": [
      "Setting `pad_token_id` to `eos_token_id`:50256 for open-end generation.\n"
     ]
    },
    {
     "name": "stdout",
     "output_type": "stream",
     "text": [
      "18 identify soldiers in old civil war photographs -> identify soldiers in old civil war photographs 2206 0.6\n",
      "----------------------------------------\n"
     ]
    },
    {
     "name": "stderr",
     "output_type": "stream",
     "text": [
      "Setting `pad_token_id` to `eos_token_id`:50256 for open-end generation.\n"
     ]
    },
    {
     "name": "stdout",
     "output_type": "stream",
     "text": [
      "19 identify soldiers in old civil war photographs -> Protect vulnerable object from radiation 2227 0.6\n",
      "----------------------------------------\n"
     ]
    },
    {
     "name": "stderr",
     "output_type": "stream",
     "text": [
      "Setting `pad_token_id` to `eos_token_id`:50256 for open-end generation.\n"
     ]
    },
    {
     "name": "stdout",
     "output_type": "stream",
     "text": [
      "20 identify soldiers in old civil war photographs -> protect human body from physical damage 2247 0.6\n",
      "----------------------------------------\n"
     ]
    },
    {
     "name": "stderr",
     "output_type": "stream",
     "text": [
      "Setting `pad_token_id` to `eos_token_id`:50256 for open-end generation.\n"
     ]
    },
    {
     "name": "stdout",
     "output_type": "stream",
     "text": [
      "1 identify soldiers in old civil war photographs -> Keep a record of a soldier's name and number 2267 0.7\n",
      "----------------------------------------\n"
     ]
    },
    {
     "name": "stderr",
     "output_type": "stream",
     "text": [
      "Setting `pad_token_id` to `eos_token_id`:50256 for open-end generation.\n"
     ]
    },
    {
     "name": "stdout",
     "output_type": "stream",
     "text": [
      "2 identify soldiers in old civil war photographs -> stop soldiers from getting into contact with surface objects 2288 0.7\n",
      "----------------------------------------\n"
     ]
    },
    {
     "name": "stderr",
     "output_type": "stream",
     "text": [
      "Setting `pad_token_id` to `eos_token_id`:50256 for open-end generation.\n"
     ]
    },
    {
     "name": "stdout",
     "output_type": "stream",
     "text": [
      "3 identify soldiers in old civil war photographs -> protect object from the penetration of foreign objects 2307 0.7\n",
      "----------------------------------------\n"
     ]
    },
    {
     "name": "stderr",
     "output_type": "stream",
     "text": [
      "Setting `pad_token_id` to `eos_token_id`:50256 for open-end generation.\n"
     ]
    },
    {
     "name": "stdout",
     "output_type": "stream",
     "text": [
      "4 identify soldiers in old civil war photographs -> identify soldiers in old civil war photographs 2327 0.7\n",
      "----------------------------------------\n"
     ]
    },
    {
     "name": "stderr",
     "output_type": "stream",
     "text": [
      "Setting `pad_token_id` to `eos_token_id`:50256 for open-end generation.\n"
     ]
    },
    {
     "name": "stdout",
     "output_type": "stream",
     "text": [
      "5 identify soldiers in old civil war photographs -> identify soldiers in old civil war photographs 2346 0.7\n",
      "----------------------------------------\n"
     ]
    },
    {
     "name": "stderr",
     "output_type": "stream",
     "text": [
      "Setting `pad_token_id` to `eos_token_id`:50256 for open-end generation.\n"
     ]
    },
    {
     "name": "stdout",
     "output_type": "stream",
     "text": [
      "6 identify soldiers in old civil war photographs -> protect object from the penetration of foreign substances 2366 0.7\n",
      "----------------------------------------\n"
     ]
    },
    {
     "name": "stderr",
     "output_type": "stream",
     "text": [
      "Setting `pad_token_id` to `eos_token_id`:50256 for open-end generation.\n"
     ]
    },
    {
     "name": "stdout",
     "output_type": "stream",
     "text": [
      "7 identify soldiers in old civil war photographs -> Identify soldiers in old civil war photographs 2388 0.7\n",
      "----------------------------------------\n"
     ]
    },
    {
     "name": "stderr",
     "output_type": "stream",
     "text": [
      "Setting `pad_token_id` to `eos_token_id`:50256 for open-end generation.\n"
     ]
    },
    {
     "name": "stdout",
     "output_type": "stream",
     "text": [
      "8 identify soldiers in old civil war photographs -> Establish the presence of troops from the battlefield 2410 0.7\n",
      "----------------------------------------\n"
     ]
    },
    {
     "name": "stderr",
     "output_type": "stream",
     "text": [
      "Setting `pad_token_id` to `eos_token_id`:50256 for open-end generation.\n"
     ]
    },
    {
     "name": "stdout",
     "output_type": "stream",
     "text": [
      "9 identify soldiers in old civil war photographs -> prevent the use of a weapon before killing a soldier 2431 0.7\n",
      "----------------------------------------\n"
     ]
    },
    {
     "name": "stderr",
     "output_type": "stream",
     "text": [
      "Setting `pad_token_id` to `eos_token_id`:50256 for open-end generation.\n"
     ]
    },
    {
     "name": "stdout",
     "output_type": "stream",
     "text": [
      "10 identify soldiers in old civil war photographs -> Identify soldiers in old civil war photographs 2453 0.7\n",
      "----------------------------------------\n"
     ]
    },
    {
     "name": "stderr",
     "output_type": "stream",
     "text": [
      "Setting `pad_token_id` to `eos_token_id`:50256 for open-end generation.\n"
     ]
    },
    {
     "name": "stdout",
     "output_type": "stream",
     "text": [
      "11 identify soldiers in old civil war photographs -> Protect soldiers from the enemy 2472 0.7\n",
      "----------------------------------------\n"
     ]
    },
    {
     "name": "stderr",
     "output_type": "stream",
     "text": [
      "Setting `pad_token_id` to `eos_token_id`:50256 for open-end generation.\n"
     ]
    },
    {
     "name": "stdout",
     "output_type": "stream",
     "text": [
      "12 identify soldiers in old civil war photographs -> Identify soldiers in old civil war photographs 2492 0.7\n",
      "----------------------------------------\n"
     ]
    },
    {
     "name": "stderr",
     "output_type": "stream",
     "text": [
      "Setting `pad_token_id` to `eos_token_id`:50256 for open-end generation.\n"
     ]
    },
    {
     "name": "stdout",
     "output_type": "stream",
     "text": [
      "13 identify soldiers in old civil war photographs -> Prevent soldiers from getting into enemy territory 2513 0.7\n",
      "----------------------------------------\n"
     ]
    },
    {
     "name": "stderr",
     "output_type": "stream",
     "text": [
      "Setting `pad_token_id` to `eos_token_id`:50256 for open-end generation.\n"
     ]
    },
    {
     "name": "stdout",
     "output_type": "stream",
     "text": [
      "14 identify soldiers in old civil war photographs -> identify soldiers in old civil war photographs 2533 0.7\n",
      "----------------------------------------\n"
     ]
    },
    {
     "name": "stderr",
     "output_type": "stream",
     "text": [
      "Setting `pad_token_id` to `eos_token_id`:50256 for open-end generation.\n"
     ]
    },
    {
     "name": "stdout",
     "output_type": "stream",
     "text": [
      "15 identify soldiers in old civil war photographs -> determine the war in which soldiers are found 2552 0.7\n",
      "----------------------------------------\n"
     ]
    },
    {
     "name": "stderr",
     "output_type": "stream",
     "text": [
      "Setting `pad_token_id` to `eos_token_id`:50256 for open-end generation.\n"
     ]
    },
    {
     "name": "stdout",
     "output_type": "stream",
     "text": [
      "16 identify soldiers in old civil war photographs -> Prevent soldiers from getting into contact with foreign bodies 2571 0.7\n",
      "----------------------------------------\n"
     ]
    },
    {
     "name": "stderr",
     "output_type": "stream",
     "text": [
      "Setting `pad_token_id` to `eos_token_id`:50256 for open-end generation.\n"
     ]
    },
    {
     "name": "stdout",
     "output_type": "stream",
     "text": [
      "17 identify soldiers in old civil war photographs -> identify soldiers in old civil war photographs 2590 0.7\n",
      "----------------------------------------\n"
     ]
    },
    {
     "name": "stderr",
     "output_type": "stream",
     "text": [
      "Setting `pad_token_id` to `eos_token_id`:50256 for open-end generation.\n"
     ]
    },
    {
     "name": "stdout",
     "output_type": "stream",
     "text": [
      "18 identify soldiers in old civil war photographs -> Identify soldiers in old civil war photographs 2609 0.7\n",
      "----------------------------------------\n"
     ]
    },
    {
     "name": "stderr",
     "output_type": "stream",
     "text": [
      "Setting `pad_token_id` to `eos_token_id`:50256 for open-end generation.\n"
     ]
    },
    {
     "name": "stdout",
     "output_type": "stream",
     "text": [
      "19 identify soldiers in old civil war photographs -> Identify soldiers in old civil war photographs 2628 0.7\n",
      "----------------------------------------\n"
     ]
    },
    {
     "name": "stderr",
     "output_type": "stream",
     "text": [
      "Setting `pad_token_id` to `eos_token_id`:50256 for open-end generation.\n"
     ]
    },
    {
     "name": "stdout",
     "output_type": "stream",
     "text": [
      "20 identify soldiers in old civil war photographs -> Protect vulnerable object in the field 2648 0.7\n",
      "----------------------------------------\n"
     ]
    },
    {
     "name": "stderr",
     "output_type": "stream",
     "text": [
      "Setting `pad_token_id` to `eos_token_id`:50256 for open-end generation.\n"
     ]
    },
    {
     "name": "stdout",
     "output_type": "stream",
     "text": [
      "1 identify soldiers in old civil war photographs -> Prevent body part from being damaged by foreign substance 2668 0.8\n",
      "----------------------------------------\n"
     ]
    },
    {
     "name": "stderr",
     "output_type": "stream",
     "text": [
      "Setting `pad_token_id` to `eos_token_id`:50256 for open-end generation.\n"
     ]
    },
    {
     "name": "stdout",
     "output_type": "stream",
     "text": [
      "2 identify soldiers in old civil war photographs -> Identify troops in field photographs of old civil war photographs 2688 0.8\n",
      "----------------------------------------\n"
     ]
    },
    {
     "name": "stderr",
     "output_type": "stream",
     "text": [
      "Setting `pad_token_id` to `eos_token_id`:50256 for open-end generation.\n"
     ]
    },
    {
     "name": "stdout",
     "output_type": "stream",
     "text": [
      "3 identify soldiers in old civil war photographs -> identify soldiers in old civil war photographs 2707 0.8\n",
      "----------------------------------------\n"
     ]
    },
    {
     "name": "stderr",
     "output_type": "stream",
     "text": [
      "Setting `pad_token_id` to `eos_token_id`:50256 for open-end generation.\n"
     ]
    },
    {
     "name": "stdout",
     "output_type": "stream",
     "text": [
      "4 identify soldiers in old civil war photographs -> Remove a soldier from the scene 2725 0.8\n",
      "----------------------------------------\n"
     ]
    },
    {
     "name": "stderr",
     "output_type": "stream",
     "text": [
      "Setting `pad_token_id` to `eos_token_id`:50256 for open-end generation.\n"
     ]
    },
    {
     "name": "stdout",
     "output_type": "stream",
     "text": [
      "5 identify soldiers in old civil war photographs -> Prevent war on legs 2744 0.8\n",
      "----------------------------------------\n"
     ]
    },
    {
     "name": "stderr",
     "output_type": "stream",
     "text": [
      "Setting `pad_token_id` to `eos_token_id`:50256 for open-end generation.\n"
     ]
    },
    {
     "name": "stdout",
     "output_type": "stream",
     "text": [
      "6 identify soldiers in old civil war photographs -> Identify soldiers in old civil war photographs 2762 0.8\n",
      "----------------------------------------\n"
     ]
    },
    {
     "name": "stderr",
     "output_type": "stream",
     "text": [
      "Setting `pad_token_id` to `eos_token_id`:50256 for open-end generation.\n"
     ]
    },
    {
     "name": "stdout",
     "output_type": "stream",
     "text": [
      "7 identify soldiers in old civil war photographs -> identify soldiers in old civil war photographs 2772 0.8\n",
      "----------------------------------------\n"
     ]
    },
    {
     "name": "stderr",
     "output_type": "stream",
     "text": [
      "Setting `pad_token_id` to `eos_token_id`:50256 for open-end generation.\n"
     ]
    },
    {
     "name": "stdout",
     "output_type": "stream",
     "text": [
      "8 identify soldiers in old civil war photographs -> Identify soldiers in old civil war photographs 2791 0.8\n",
      "----------------------------------------\n"
     ]
    },
    {
     "name": "stderr",
     "output_type": "stream",
     "text": [
      "Setting `pad_token_id` to `eos_token_id`:50256 for open-end generation.\n"
     ]
    },
    {
     "name": "stdout",
     "output_type": "stream",
     "text": [
      "9 identify soldiers in old civil war photographs -> Identify soldiers in old Civil War photographs 2810 0.8\n",
      "----------------------------------------\n"
     ]
    },
    {
     "name": "stderr",
     "output_type": "stream",
     "text": [
      "Setting `pad_token_id` to `eos_token_id`:50256 for open-end generation.\n"
     ]
    },
    {
     "name": "stdout",
     "output_type": "stream",
     "text": [
      "10 identify soldiers in old civil war photographs -> protect an object from external radiation 2828 0.8\n",
      "----------------------------------------\n"
     ]
    },
    {
     "name": "stderr",
     "output_type": "stream",
     "text": [
      "Setting `pad_token_id` to `eos_token_id`:50256 for open-end generation.\n"
     ]
    },
    {
     "name": "stdout",
     "output_type": "stream",
     "text": [
      "11 identify soldiers in old civil war photographs -> prevent soldiers from being killed by bullets 2847 0.8\n",
      "----------------------------------------\n"
     ]
    },
    {
     "name": "stderr",
     "output_type": "stream",
     "text": [
      "Setting `pad_token_id` to `eos_token_id`:50256 for open-end generation.\n"
     ]
    },
    {
     "name": "stdout",
     "output_type": "stream",
     "text": [
      "12 identify soldiers in old civil war photographs -> Protect object against radioactivity 2865 0.8\n",
      "----------------------------------------\n"
     ]
    },
    {
     "name": "stderr",
     "output_type": "stream",
     "text": [
      "Setting `pad_token_id` to `eos_token_id`:50256 for open-end generation.\n"
     ]
    },
    {
     "name": "stdout",
     "output_type": "stream",
     "text": [
      "13 identify soldiers in old civil war photographs -> identify soldiers in old civil war photographs 2884 0.8\n",
      "----------------------------------------\n"
     ]
    },
    {
     "name": "stderr",
     "output_type": "stream",
     "text": [
      "Setting `pad_token_id` to `eos_token_id`:50256 for open-end generation.\n"
     ]
    },
    {
     "name": "stdout",
     "output_type": "stream",
     "text": [
      "14 identify soldiers in old civil war photographs -> the soldiers' helmets are not attached to the infantry 2903 0.8\n",
      "----------------------------------------\n"
     ]
    },
    {
     "name": "stderr",
     "output_type": "stream",
     "text": [
      "Setting `pad_token_id` to `eos_token_id`:50256 for open-end generation.\n"
     ]
    },
    {
     "name": "stdout",
     "output_type": "stream",
     "text": [
      "15 identify soldiers in old civil war photographs -> Prevent a soldier from getting into a combat zone 2922 0.8\n",
      "----------------------------------------\n"
     ]
    },
    {
     "name": "stderr",
     "output_type": "stream",
     "text": [
      "Setting `pad_token_id` to `eos_token_id`:50256 for open-end generation.\n"
     ]
    },
    {
     "name": "stdout",
     "output_type": "stream",
     "text": [
      "16 identify soldiers in old civil war photographs -> Prevent a soldier from being seen in a battlefield 2940 0.8\n",
      "----------------------------------------\n"
     ]
    },
    {
     "name": "stderr",
     "output_type": "stream",
     "text": [
      "Setting `pad_token_id` to `eos_token_id`:50256 for open-end generation.\n"
     ]
    },
    {
     "name": "stdout",
     "output_type": "stream",
     "text": [
      "17 identify soldiers in old civil war photographs -> Prevent them from getting into contact with unwanted substances 2959 0.8\n",
      "----------------------------------------\n"
     ]
    },
    {
     "name": "stderr",
     "output_type": "stream",
     "text": [
      "Setting `pad_token_id` to `eos_token_id`:50256 for open-end generation.\n"
     ]
    },
    {
     "name": "stdout",
     "output_type": "stream",
     "text": [
      "18 identify soldiers in old civil war photographs -> Identify personnel in old battle images 2977 0.8\n",
      "----------------------------------------\n"
     ]
    },
    {
     "name": "stderr",
     "output_type": "stream",
     "text": [
      "Setting `pad_token_id` to `eos_token_id`:50256 for open-end generation.\n"
     ]
    },
    {
     "name": "stdout",
     "output_type": "stream",
     "text": [
      "19 identify soldiers in old civil war photographs -> determine a target enemy target 2996 0.8\n",
      "----------------------------------------\n"
     ]
    },
    {
     "name": "stderr",
     "output_type": "stream",
     "text": [
      "Setting `pad_token_id` to `eos_token_id`:50256 for open-end generation.\n"
     ]
    },
    {
     "name": "stdout",
     "output_type": "stream",
     "text": [
      "20 identify soldiers in old civil war photographs -> identify soldiers in old civil war photographs 3014 0.8\n",
      "----------------------------------------\n"
     ]
    },
    {
     "name": "stderr",
     "output_type": "stream",
     "text": [
      "Setting `pad_token_id` to `eos_token_id`:50256 for open-end generation.\n"
     ]
    },
    {
     "name": "stdout",
     "output_type": "stream",
     "text": [
      "1 identify soldiers in old civil war photographs -> Protect humans from dust and water 3032 0.9\n",
      "----------------------------------------\n"
     ]
    },
    {
     "name": "stderr",
     "output_type": "stream",
     "text": [
      "Setting `pad_token_id` to `eos_token_id`:50256 for open-end generation.\n"
     ]
    },
    {
     "name": "stdout",
     "output_type": "stream",
     "text": [
      "2 identify soldiers in old civil war photographs -> Determine the size of a military surplus 3051 0.9\n",
      "----------------------------------------\n"
     ]
    },
    {
     "name": "stderr",
     "output_type": "stream",
     "text": [
      "Setting `pad_token_id` to `eos_token_id`:50256 for open-end generation.\n"
     ]
    },
    {
     "name": "stdout",
     "output_type": "stream",
     "text": [
      "3 identify soldiers in old civil war photographs -> reduce surface friction in small objects 3069 0.9\n",
      "----------------------------------------\n"
     ]
    },
    {
     "name": "stderr",
     "output_type": "stream",
     "text": [
      "Setting `pad_token_id` to `eos_token_id`:50256 for open-end generation.\n"
     ]
    },
    {
     "name": "stdout",
     "output_type": "stream",
     "text": [
      "4 identify soldiers in old civil war photographs -> Prevent objects from getting into contact with unwanted substances 3088 0.9\n",
      "----------------------------------------\n"
     ]
    },
    {
     "name": "stderr",
     "output_type": "stream",
     "text": [
      "Setting `pad_token_id` to `eos_token_id`:50256 for open-end generation.\n"
     ]
    },
    {
     "name": "stdout",
     "output_type": "stream",
     "text": [
      "5 identify soldiers in old civil war photographs -> Protect sensitive objects from radiation 3107 0.9\n",
      "----------------------------------------\n"
     ]
    },
    {
     "name": "stderr",
     "output_type": "stream",
     "text": [
      "Setting `pad_token_id` to `eos_token_id`:50256 for open-end generation.\n"
     ]
    },
    {
     "name": "stdout",
     "output_type": "stream",
     "text": [
      "6 identify soldiers in old civil war photographs -> Prevent weapon from getting into flame retardant weapons 3131 0.9\n",
      "----------------------------------------\n"
     ]
    },
    {
     "name": "stderr",
     "output_type": "stream",
     "text": [
      "Setting `pad_token_id` to `eos_token_id`:50256 for open-end generation.\n"
     ]
    },
    {
     "name": "stdout",
     "output_type": "stream",
     "text": [
      "7 identify soldiers in old civil war photographs -> Identify soldiers in old civil war photographs 3153 0.9\n",
      "----------------------------------------\n"
     ]
    },
    {
     "name": "stderr",
     "output_type": "stream",
     "text": [
      "Setting `pad_token_id` to `eos_token_id`:50256 for open-end generation.\n"
     ]
    },
    {
     "name": "stdout",
     "output_type": "stream",
     "text": [
      "8 identify soldiers in old civil war photographs -> identify soldiers in old civil war photos 3176 0.9\n",
      "----------------------------------------\n"
     ]
    },
    {
     "name": "stderr",
     "output_type": "stream",
     "text": [
      "Setting `pad_token_id` to `eos_token_id`:50256 for open-end generation.\n"
     ]
    },
    {
     "name": "stdout",
     "output_type": "stream",
     "text": [
      "9 identify soldiers in old civil war photographs -> identify soldiers in old civil war photographs 3195 0.9\n",
      "----------------------------------------\n"
     ]
    },
    {
     "name": "stderr",
     "output_type": "stream",
     "text": [
      "Setting `pad_token_id` to `eos_token_id`:50256 for open-end generation.\n"
     ]
    },
    {
     "name": "stdout",
     "output_type": "stream",
     "text": [
      "10 identify soldiers in old civil war photographs -> identify soldiers in old civil war photographs 3217 0.9\n",
      "----------------------------------------\n"
     ]
    },
    {
     "name": "stderr",
     "output_type": "stream",
     "text": [
      "Setting `pad_token_id` to `eos_token_id`:50256 for open-end generation.\n"
     ]
    },
    {
     "name": "stdout",
     "output_type": "stream",
     "text": [
      "11 identify soldiers in old civil war photographs -> identify soldiers in old civil war photographs 3239 0.9\n",
      "----------------------------------------\n"
     ]
    },
    {
     "name": "stderr",
     "output_type": "stream",
     "text": [
      "Setting `pad_token_id` to `eos_token_id`:50256 for open-end generation.\n"
     ]
    },
    {
     "name": "stdout",
     "output_type": "stream",
     "text": [
      "12 identify soldiers in old civil war photographs -> Remove surface cover from objects in the field 3258 0.9\n",
      "----------------------------------------\n"
     ]
    },
    {
     "name": "stderr",
     "output_type": "stream",
     "text": [
      "Setting `pad_token_id` to `eos_token_id`:50256 for open-end generation.\n"
     ]
    },
    {
     "name": "stdout",
     "output_type": "stream",
     "text": [
      "13 identify soldiers in old civil war photographs -> identify troops in battles 3277 0.9\n",
      "----------------------------------------\n"
     ]
    },
    {
     "name": "stderr",
     "output_type": "stream",
     "text": [
      "Setting `pad_token_id` to `eos_token_id`:50256 for open-end generation.\n"
     ]
    },
    {
     "name": "stdout",
     "output_type": "stream",
     "text": [
      "14 identify soldiers in old civil war photographs -> Find soldiers in paintings of old battles 3297 0.9\n",
      "----------------------------------------\n"
     ]
    },
    {
     "name": "stderr",
     "output_type": "stream",
     "text": [
      "Setting `pad_token_id` to `eos_token_id`:50256 for open-end generation.\n"
     ]
    },
    {
     "name": "stdout",
     "output_type": "stream",
     "text": [
      "15 identify soldiers in old civil war photographs -> Identify objects of different volumes 3316 0.9\n",
      "----------------------------------------\n"
     ]
    },
    {
     "name": "stderr",
     "output_type": "stream",
     "text": [
      "Setting `pad_token_id` to `eos_token_id`:50256 for open-end generation.\n"
     ]
    },
    {
     "name": "stdout",
     "output_type": "stream",
     "text": [
      "16 identify soldiers in old civil war photographs -> identify soldiers in old civil war photographs 3340 0.9\n",
      "----------------------------------------\n"
     ]
    },
    {
     "name": "stderr",
     "output_type": "stream",
     "text": [
      "Setting `pad_token_id` to `eos_token_id`:50256 for open-end generation.\n"
     ]
    },
    {
     "name": "stdout",
     "output_type": "stream",
     "text": [
      "17 identify soldiers in old civil war photographs -> identify soldiers in old civil war photographs 3367 0.9\n",
      "----------------------------------------\n"
     ]
    },
    {
     "name": "stderr",
     "output_type": "stream",
     "text": [
      "Setting `pad_token_id` to `eos_token_id`:50256 for open-end generation.\n"
     ]
    },
    {
     "name": "stdout",
     "output_type": "stream",
     "text": [
      "18 identify soldiers in old civil war photographs -> Protect vulnerable object from radiation 3388 0.9\n",
      "----------------------------------------\n"
     ]
    },
    {
     "name": "stderr",
     "output_type": "stream",
     "text": [
      "Setting `pad_token_id` to `eos_token_id`:50256 for open-end generation.\n"
     ]
    },
    {
     "name": "stdout",
     "output_type": "stream",
     "text": [
      "19 identify soldiers in old civil war photographs -> identify soldiers in old civil war photographs 3413 0.9\n",
      "----------------------------------------\n",
      "20 identify soldiers in old civil war photographs -> prevent the use of metal detectors 3435 0.9\n",
      "----------------------------------------\n",
      "Total time taken is 3456\n"
     ]
    }
   ],
   "source": [
    "df_125m = generate_output(generator_gpt_neo_125m,20,prompt,20,0.1,'gpt_neo_125m',1)\n",
    "df_125m.to_csv(f'../Csv/gpt_neo125m_{user_input}.csv')"
   ]
  },
  {
   "cell_type": "code",
   "execution_count": null,
   "metadata": {},
   "outputs": [],
   "source": []
  },
  {
   "cell_type": "code",
   "execution_count": null,
   "metadata": {},
   "outputs": [],
   "source": [
    "\n",
    "# # Generate a random string\n",
    "# # with 32 characters.\n",
    "\n",
    "\n",
    "# print (random)"
   ]
  },
  {
   "cell_type": "code",
   "execution_count": null,
   "metadata": {},
   "outputs": [],
   "source": []
  },
  {
   "cell_type": "code",
   "execution_count": null,
   "metadata": {},
   "outputs": [],
   "source": [
    "# df = generate_blank_df(cols)"
   ]
  },
  {
   "cell_type": "code",
   "execution_count": 9,
   "metadata": {},
   "outputs": [],
   "source": []
  },
  {
   "cell_type": "code",
   "execution_count": 10,
   "metadata": {},
   "outputs": [],
   "source": []
  },
  {
   "cell_type": "code",
   "execution_count": null,
   "metadata": {},
   "outputs": [],
   "source": []
  },
  {
   "cell_type": "code",
   "execution_count": 11,
   "metadata": {},
   "outputs": [],
   "source": []
  },
  {
   "cell_type": "code",
   "execution_count": null,
   "metadata": {},
   "outputs": [],
   "source": [
    "# user_input_arrs = [\"identify soldiers in old civil war photographs\",\n",
    "# \"identify points of failure in a nuclear power plant procedure\"]"
   ]
  },
  {
   "cell_type": "code",
   "execution_count": null,
   "metadata": {},
   "outputs": [
    {
     "name": "stderr",
     "output_type": "stream",
     "text": [
      "Setting `pad_token_id` to `eos_token_id`:50256 for open-end generation.\n",
      "Setting `pad_token_id` to `eos_token_id`:50256 for open-end generation.\n"
     ]
    },
    {
     "name": "stdout",
     "output_type": "stream",
     "text": [
      "Given a problem statement, generate an abstracted reformulation of that problem statement\n",
      "\n",
      "    Problem statement: Shield baby from the sun\n",
      "    Abstracted reformulation: Protect vulnerable object from radiation\n",
      "\n",
      "    Problem statement: Prevent feet from getting wet\n",
      "    Abstracted reformulation: Stop object from getting into contact with unwanted substances\n",
      "\n",
      "    Problem statement: Hold soap bars of multiple sizes\n",
      "    Abstracted reformulation: Contain objects of different volumes\n",
      "\n",
      "    Problem statement: Enable a broom to clean in hard to reach places\n",
      "    Abstracted reformulation: Extend the physical reach of a tool\n",
      "\n",
      "    Problem statement: drill into teeth quietly\n",
      "    Abstracted reformulation: create a hole in an object without causing an unwanted noise\n",
      "\n",
      "    Problem statement: make house out of cooked spaghetti\n",
      "    Abstracted reformulation: create strong, rigid structure out of soft materials\n",
      "\n",
      "    Problem statement: make house out of cooked spaghetti\n",
      "    Abstracted reformulation: create structure from elastic elements\n",
      "\n",
      "    Problem statement:  prevent bicycle tire flats\n",
      "    Abstracted reformulation: protect object from the penetration of foreign objects\n",
      "\n",
      "    Problem statement: prevent blood clotting in stents\n",
      "    Abstracted reformulation: prevent clogging of cylindrical tubes\n",
      "\n",
      "    Problem statement: transfer heat in semiconductors at nanoscale\n",
      "    Abstracted reformulation: Enable particles to flow in confined geometries\n",
      "\n",
      "    Problem statement:reduce seasickness in virtual reality systems\n",
      "    Abstracted reformulation: reduce user's dependency on information cues\n",
      "\n",
      "    Problem statement:reduce seasickness in virtual reality systems\n",
      "    Abstracted reformulation: Achieve robust orientation stability\n",
      "\n",
      "    Problem statement:reduce seasickness in virtual reality systems\n",
      "    Abstracted reformulation: improve the feel of a complicated motion or force\n",
      "\n",
      "    Problem statement:wash clothes without water\n",
      "    Abstracted reformulation: Remove dirt from objects by mechanical force\n",
      "\n",
      "    Problem statement:charge cell phones on the go\n",
      "    Abstracted reformulation: Charge a battery source from a remote energy-source\n",
      "\n",
      "    Problem statement:charge cell phones on the go\n",
      "    Abstracted reformulation: Supply power to electrical devices in the field\n",
      "\n",
      "    Problem statement:protect feet from getting wet\n",
      "    Abstracted reformulation: stop entry of foreign particles\n",
      "\n",
      "    Problem statement:protect feet from getting wet\n",
      "    Abstracted reformulation: Mechanically stop liquid from penetrating a space\n",
      "\n",
      "    Problem statement:shield baby from the sun\n",
      "    Abstracted reformulation: Protect vulnerable object from radiation\n",
      "\n",
      "    Problem statement:Prevent feet from getting wet\n",
      "    Abstracted reformulation: Stop object from getting into contact with unwanted substances\n",
      "\n",
      "    Problem statement: identify soldiers in old civil war photographs\n",
      "                                                                                                                                                                                                                                                                                                                                                                                     \n",
      "1 identify soldiers in old civil war photographs ->  0 0.1\n",
      "----------------------------------------\n"
     ]
    },
    {
     "name": "stderr",
     "output_type": "stream",
     "text": [
      "Setting `pad_token_id` to `eos_token_id`:50256 for open-end generation.\n"
     ]
    },
    {
     "name": "stdout",
     "output_type": "stream",
     "text": [
      "Given a problem statement, generate an abstracted reformulation of that problem statement\n",
      "\n",
      "    Problem statement: Shield baby from the sun\n",
      "    Abstracted reformulation: Protect vulnerable object from radiation\n",
      "\n",
      "    Problem statement: Prevent feet from getting wet\n",
      "    Abstracted reformulation: Stop object from getting into contact with unwanted substances\n",
      "\n",
      "    Problem statement: Hold soap bars of multiple sizes\n",
      "    Abstracted reformulation: Contain objects of different volumes\n",
      "\n",
      "    Problem statement: Enable a broom to clean in hard to reach places\n",
      "    Abstracted reformulation: Extend the physical reach of a tool\n",
      "\n",
      "    Problem statement: drill into teeth quietly\n",
      "    Abstracted reformulation: create a hole in an object without causing an unwanted noise\n",
      "\n",
      "    Problem statement: make house out of cooked spaghetti\n",
      "    Abstracted reformulation: create strong, rigid structure out of soft materials\n",
      "\n",
      "    Problem statement: make house out of cooked spaghetti\n",
      "    Abstracted reformulation: create structure from elastic elements\n",
      "\n",
      "    Problem statement:  prevent bicycle tire flats\n",
      "    Abstracted reformulation: protect object from the penetration of foreign objects\n",
      "\n",
      "    Problem statement: prevent blood clotting in stents\n",
      "    Abstracted reformulation: prevent clogging of cylindrical tubes\n",
      "\n",
      "    Problem statement: transfer heat in semiconductors at nanoscale\n",
      "    Abstracted reformulation: Enable particles to flow in confined geometries\n",
      "\n",
      "    Problem statement:reduce seasickness in virtual reality systems\n",
      "    Abstracted reformulation: reduce user's dependency on information cues\n",
      "\n",
      "    Problem statement:reduce seasickness in virtual reality systems\n",
      "    Abstracted reformulation: Achieve robust orientation stability\n",
      "\n",
      "    Problem statement:reduce seasickness in virtual reality systems\n",
      "    Abstracted reformulation: improve the feel of a complicated motion or force\n",
      "\n",
      "    Problem statement:wash clothes without water\n",
      "    Abstracted reformulation: Remove dirt from objects by mechanical force\n",
      "\n",
      "    Problem statement:charge cell phones on the go\n",
      "    Abstracted reformulation: Charge a battery source from a remote energy-source\n",
      "\n",
      "    Problem statement:charge cell phones on the go\n",
      "    Abstracted reformulation: Supply power to electrical devices in the field\n",
      "\n",
      "    Problem statement:protect feet from getting wet\n",
      "    Abstracted reformulation: stop entry of foreign particles\n",
      "\n",
      "    Problem statement:protect feet from getting wet\n",
      "    Abstracted reformulation: Mechanically stop liquid from penetrating a space\n",
      "\n",
      "    Problem statement:shield baby from the sun\n",
      "    Abstracted reformulation: Protect vulnerable object from radiation\n",
      "\n",
      "    Problem statement:Prevent feet from getting wet\n",
      "    Abstracted reformulation: Stop object from getting into contact with unwanted substances\n",
      "\n",
      "    Problem statement: identify soldiers in old civil war photographs\n",
      "                                                                                                                                                                                                                                                                                                                                                                                     \n",
      "2 identify soldiers in old civil war photographs ->  48 0.1\n",
      "----------------------------------------\n"
     ]
    },
    {
     "name": "stderr",
     "output_type": "stream",
     "text": [
      "Setting `pad_token_id` to `eos_token_id`:50256 for open-end generation.\n"
     ]
    },
    {
     "name": "stdout",
     "output_type": "stream",
     "text": [
      "Given a problem statement, generate an abstracted reformulation of that problem statement\n",
      "\n",
      "    Problem statement: Shield baby from the sun\n",
      "    Abstracted reformulation: Protect vulnerable object from radiation\n",
      "\n",
      "    Problem statement: Prevent feet from getting wet\n",
      "    Abstracted reformulation: Stop object from getting into contact with unwanted substances\n",
      "\n",
      "    Problem statement: Hold soap bars of multiple sizes\n",
      "    Abstracted reformulation: Contain objects of different volumes\n",
      "\n",
      "    Problem statement: Enable a broom to clean in hard to reach places\n",
      "    Abstracted reformulation: Extend the physical reach of a tool\n",
      "\n",
      "    Problem statement: drill into teeth quietly\n",
      "    Abstracted reformulation: create a hole in an object without causing an unwanted noise\n",
      "\n",
      "    Problem statement: make house out of cooked spaghetti\n",
      "    Abstracted reformulation: create strong, rigid structure out of soft materials\n",
      "\n",
      "    Problem statement: make house out of cooked spaghetti\n",
      "    Abstracted reformulation: create structure from elastic elements\n",
      "\n",
      "    Problem statement:  prevent bicycle tire flats\n",
      "    Abstracted reformulation: protect object from the penetration of foreign objects\n",
      "\n",
      "    Problem statement: prevent blood clotting in stents\n",
      "    Abstracted reformulation: prevent clogging of cylindrical tubes\n",
      "\n",
      "    Problem statement: transfer heat in semiconductors at nanoscale\n",
      "    Abstracted reformulation: Enable particles to flow in confined geometries\n",
      "\n",
      "    Problem statement:reduce seasickness in virtual reality systems\n",
      "    Abstracted reformulation: reduce user's dependency on information cues\n",
      "\n",
      "    Problem statement:reduce seasickness in virtual reality systems\n",
      "    Abstracted reformulation: Achieve robust orientation stability\n",
      "\n",
      "    Problem statement:reduce seasickness in virtual reality systems\n",
      "    Abstracted reformulation: improve the feel of a complicated motion or force\n",
      "\n",
      "    Problem statement:wash clothes without water\n",
      "    Abstracted reformulation: Remove dirt from objects by mechanical force\n",
      "\n",
      "    Problem statement:charge cell phones on the go\n",
      "    Abstracted reformulation: Charge a battery source from a remote energy-source\n",
      "\n",
      "    Problem statement:charge cell phones on the go\n",
      "    Abstracted reformulation: Supply power to electrical devices in the field\n",
      "\n",
      "    Problem statement:protect feet from getting wet\n",
      "    Abstracted reformulation: stop entry of foreign particles\n",
      "\n",
      "    Problem statement:protect feet from getting wet\n",
      "    Abstracted reformulation: Mechanically stop liquid from penetrating a space\n",
      "\n",
      "    Problem statement:shield baby from the sun\n",
      "    Abstracted reformulation: Protect vulnerable object from radiation\n",
      "\n",
      "    Problem statement:Prevent feet from getting wet\n",
      "    Abstracted reformulation: Stop object from getting into contact with unwanted substances\n",
      "\n",
      "    Problem statement: identify soldiers in old civil war photographs\n",
      "                                                                                                                                                                                                                                                                                                                                                                                     \n",
      "1 identify soldiers in old civil war photographs ->  94 0.2\n",
      "----------------------------------------\n"
     ]
    },
    {
     "name": "stderr",
     "output_type": "stream",
     "text": [
      "Setting `pad_token_id` to `eos_token_id`:50256 for open-end generation.\n"
     ]
    },
    {
     "name": "stdout",
     "output_type": "stream",
     "text": [
      "Given a problem statement, generate an abstracted reformulation of that problem statement\n",
      "\n",
      "    Problem statement: Shield baby from the sun\n",
      "    Abstracted reformulation: Protect vulnerable object from radiation\n",
      "\n",
      "    Problem statement: Prevent feet from getting wet\n",
      "    Abstracted reformulation: Stop object from getting into contact with unwanted substances\n",
      "\n",
      "    Problem statement: Hold soap bars of multiple sizes\n",
      "    Abstracted reformulation: Contain objects of different volumes\n",
      "\n",
      "    Problem statement: Enable a broom to clean in hard to reach places\n",
      "    Abstracted reformulation: Extend the physical reach of a tool\n",
      "\n",
      "    Problem statement: drill into teeth quietly\n",
      "    Abstracted reformulation: create a hole in an object without causing an unwanted noise\n",
      "\n",
      "    Problem statement: make house out of cooked spaghetti\n",
      "    Abstracted reformulation: create strong, rigid structure out of soft materials\n",
      "\n",
      "    Problem statement: make house out of cooked spaghetti\n",
      "    Abstracted reformulation: create structure from elastic elements\n",
      "\n",
      "    Problem statement:  prevent bicycle tire flats\n",
      "    Abstracted reformulation: protect object from the penetration of foreign objects\n",
      "\n",
      "    Problem statement: prevent blood clotting in stents\n",
      "    Abstracted reformulation: prevent clogging of cylindrical tubes\n",
      "\n",
      "    Problem statement: transfer heat in semiconductors at nanoscale\n",
      "    Abstracted reformulation: Enable particles to flow in confined geometries\n",
      "\n",
      "    Problem statement:reduce seasickness in virtual reality systems\n",
      "    Abstracted reformulation: reduce user's dependency on information cues\n",
      "\n",
      "    Problem statement:reduce seasickness in virtual reality systems\n",
      "    Abstracted reformulation: Achieve robust orientation stability\n",
      "\n",
      "    Problem statement:reduce seasickness in virtual reality systems\n",
      "    Abstracted reformulation: improve the feel of a complicated motion or force\n",
      "\n",
      "    Problem statement:wash clothes without water\n",
      "    Abstracted reformulation: Remove dirt from objects by mechanical force\n",
      "\n",
      "    Problem statement:charge cell phones on the go\n",
      "    Abstracted reformulation: Charge a battery source from a remote energy-source\n",
      "\n",
      "    Problem statement:charge cell phones on the go\n",
      "    Abstracted reformulation: Supply power to electrical devices in the field\n",
      "\n",
      "    Problem statement:protect feet from getting wet\n",
      "    Abstracted reformulation: stop entry of foreign particles\n",
      "\n",
      "    Problem statement:protect feet from getting wet\n",
      "    Abstracted reformulation: Mechanically stop liquid from penetrating a space\n",
      "\n",
      "    Problem statement:shield baby from the sun\n",
      "    Abstracted reformulation: Protect vulnerable object from radiation\n",
      "\n",
      "    Problem statement:Prevent feet from getting wet\n",
      "    Abstracted reformulation: Stop object from getting into contact with unwanted substances\n",
      "\n",
      "    Problem statement: identify soldiers in old civil war photographs\n",
      "                                                                                                                                                                                                                                                                                                                                                                                     \n",
      "2 identify soldiers in old civil war photographs ->  139 0.2\n",
      "----------------------------------------\n"
     ]
    },
    {
     "name": "stderr",
     "output_type": "stream",
     "text": [
      "Setting `pad_token_id` to `eos_token_id`:50256 for open-end generation.\n"
     ]
    },
    {
     "name": "stdout",
     "output_type": "stream",
     "text": [
      "Given a problem statement, generate an abstracted reformulation of that problem statement\n",
      "\n",
      "    Problem statement: Shield baby from the sun\n",
      "    Abstracted reformulation: Protect vulnerable object from radiation\n",
      "\n",
      "    Problem statement: Prevent feet from getting wet\n",
      "    Abstracted reformulation: Stop object from getting into contact with unwanted substances\n",
      "\n",
      "    Problem statement: Hold soap bars of multiple sizes\n",
      "    Abstracted reformulation: Contain objects of different volumes\n",
      "\n",
      "    Problem statement: Enable a broom to clean in hard to reach places\n",
      "    Abstracted reformulation: Extend the physical reach of a tool\n",
      "\n",
      "    Problem statement: drill into teeth quietly\n",
      "    Abstracted reformulation: create a hole in an object without causing an unwanted noise\n",
      "\n",
      "    Problem statement: make house out of cooked spaghetti\n",
      "    Abstracted reformulation: create strong, rigid structure out of soft materials\n",
      "\n",
      "    Problem statement: make house out of cooked spaghetti\n",
      "    Abstracted reformulation: create structure from elastic elements\n",
      "\n",
      "    Problem statement:  prevent bicycle tire flats\n",
      "    Abstracted reformulation: protect object from the penetration of foreign objects\n",
      "\n",
      "    Problem statement: prevent blood clotting in stents\n",
      "    Abstracted reformulation: prevent clogging of cylindrical tubes\n",
      "\n",
      "    Problem statement: transfer heat in semiconductors at nanoscale\n",
      "    Abstracted reformulation: Enable particles to flow in confined geometries\n",
      "\n",
      "    Problem statement:reduce seasickness in virtual reality systems\n",
      "    Abstracted reformulation: reduce user's dependency on information cues\n",
      "\n",
      "    Problem statement:reduce seasickness in virtual reality systems\n",
      "    Abstracted reformulation: Achieve robust orientation stability\n",
      "\n",
      "    Problem statement:reduce seasickness in virtual reality systems\n",
      "    Abstracted reformulation: improve the feel of a complicated motion or force\n",
      "\n",
      "    Problem statement:wash clothes without water\n",
      "    Abstracted reformulation: Remove dirt from objects by mechanical force\n",
      "\n",
      "    Problem statement:charge cell phones on the go\n",
      "    Abstracted reformulation: Charge a battery source from a remote energy-source\n",
      "\n",
      "    Problem statement:charge cell phones on the go\n",
      "    Abstracted reformulation: Supply power to electrical devices in the field\n",
      "\n",
      "    Problem statement:protect feet from getting wet\n",
      "    Abstracted reformulation: stop entry of foreign particles\n",
      "\n",
      "    Problem statement:protect feet from getting wet\n",
      "    Abstracted reformulation: Mechanically stop liquid from penetrating a space\n",
      "\n",
      "    Problem statement:shield baby from the sun\n",
      "    Abstracted reformulation: Protect vulnerable object from radiation\n",
      "\n",
      "    Problem statement:Prevent feet from getting wet\n",
      "    Abstracted reformulation: Stop object from getting into contact with unwanted substances\n",
      "\n",
      "    Problem statement: identify soldiers in old civil war photographs\n",
      "                                                                                                                                                                                                                                                                                                                                                                                     \n",
      "1 identify soldiers in old civil war photographs ->  186 0.3\n",
      "----------------------------------------\n"
     ]
    },
    {
     "name": "stderr",
     "output_type": "stream",
     "text": [
      "Setting `pad_token_id` to `eos_token_id`:50256 for open-end generation.\n"
     ]
    },
    {
     "name": "stdout",
     "output_type": "stream",
     "text": [
      "Given a problem statement, generate an abstracted reformulation of that problem statement\n",
      "\n",
      "    Problem statement: Shield baby from the sun\n",
      "    Abstracted reformulation: Protect vulnerable object from radiation\n",
      "\n",
      "    Problem statement: Prevent feet from getting wet\n",
      "    Abstracted reformulation: Stop object from getting into contact with unwanted substances\n",
      "\n",
      "    Problem statement: Hold soap bars of multiple sizes\n",
      "    Abstracted reformulation: Contain objects of different volumes\n",
      "\n",
      "    Problem statement: Enable a broom to clean in hard to reach places\n",
      "    Abstracted reformulation: Extend the physical reach of a tool\n",
      "\n",
      "    Problem statement: drill into teeth quietly\n",
      "    Abstracted reformulation: create a hole in an object without causing an unwanted noise\n",
      "\n",
      "    Problem statement: make house out of cooked spaghetti\n",
      "    Abstracted reformulation: create strong, rigid structure out of soft materials\n",
      "\n",
      "    Problem statement: make house out of cooked spaghetti\n",
      "    Abstracted reformulation: create structure from elastic elements\n",
      "\n",
      "    Problem statement:  prevent bicycle tire flats\n",
      "    Abstracted reformulation: protect object from the penetration of foreign objects\n",
      "\n",
      "    Problem statement: prevent blood clotting in stents\n",
      "    Abstracted reformulation: prevent clogging of cylindrical tubes\n",
      "\n",
      "    Problem statement: transfer heat in semiconductors at nanoscale\n",
      "    Abstracted reformulation: Enable particles to flow in confined geometries\n",
      "\n",
      "    Problem statement:reduce seasickness in virtual reality systems\n",
      "    Abstracted reformulation: reduce user's dependency on information cues\n",
      "\n",
      "    Problem statement:reduce seasickness in virtual reality systems\n",
      "    Abstracted reformulation: Achieve robust orientation stability\n",
      "\n",
      "    Problem statement:reduce seasickness in virtual reality systems\n",
      "    Abstracted reformulation: improve the feel of a complicated motion or force\n",
      "\n",
      "    Problem statement:wash clothes without water\n",
      "    Abstracted reformulation: Remove dirt from objects by mechanical force\n",
      "\n",
      "    Problem statement:charge cell phones on the go\n",
      "    Abstracted reformulation: Charge a battery source from a remote energy-source\n",
      "\n",
      "    Problem statement:charge cell phones on the go\n",
      "    Abstracted reformulation: Supply power to electrical devices in the field\n",
      "\n",
      "    Problem statement:protect feet from getting wet\n",
      "    Abstracted reformulation: stop entry of foreign particles\n",
      "\n",
      "    Problem statement:protect feet from getting wet\n",
      "    Abstracted reformulation: Mechanically stop liquid from penetrating a space\n",
      "\n",
      "    Problem statement:shield baby from the sun\n",
      "    Abstracted reformulation: Protect vulnerable object from radiation\n",
      "\n",
      "    Problem statement:Prevent feet from getting wet\n",
      "    Abstracted reformulation: Stop object from getting into contact with unwanted substances\n",
      "\n",
      "    Problem statement: identify soldiers in old civil war photographs\n",
      "                                                                                                                                                                                                                                                                                                                                                                                     \n",
      "2 identify soldiers in old civil war photographs ->  233 0.3\n",
      "----------------------------------------\n"
     ]
    },
    {
     "name": "stderr",
     "output_type": "stream",
     "text": [
      "Setting `pad_token_id` to `eos_token_id`:50256 for open-end generation.\n"
     ]
    },
    {
     "name": "stdout",
     "output_type": "stream",
     "text": [
      "Given a problem statement, generate an abstracted reformulation of that problem statement\n",
      "\n",
      "    Problem statement: Shield baby from the sun\n",
      "    Abstracted reformulation: Protect vulnerable object from radiation\n",
      "\n",
      "    Problem statement: Prevent feet from getting wet\n",
      "    Abstracted reformulation: Stop object from getting into contact with unwanted substances\n",
      "\n",
      "    Problem statement: Hold soap bars of multiple sizes\n",
      "    Abstracted reformulation: Contain objects of different volumes\n",
      "\n",
      "    Problem statement: Enable a broom to clean in hard to reach places\n",
      "    Abstracted reformulation: Extend the physical reach of a tool\n",
      "\n",
      "    Problem statement: drill into teeth quietly\n",
      "    Abstracted reformulation: create a hole in an object without causing an unwanted noise\n",
      "\n",
      "    Problem statement: make house out of cooked spaghetti\n",
      "    Abstracted reformulation: create strong, rigid structure out of soft materials\n",
      "\n",
      "    Problem statement: make house out of cooked spaghetti\n",
      "    Abstracted reformulation: create structure from elastic elements\n",
      "\n",
      "    Problem statement:  prevent bicycle tire flats\n",
      "    Abstracted reformulation: protect object from the penetration of foreign objects\n",
      "\n",
      "    Problem statement: prevent blood clotting in stents\n",
      "    Abstracted reformulation: prevent clogging of cylindrical tubes\n",
      "\n",
      "    Problem statement: transfer heat in semiconductors at nanoscale\n",
      "    Abstracted reformulation: Enable particles to flow in confined geometries\n",
      "\n",
      "    Problem statement:reduce seasickness in virtual reality systems\n",
      "    Abstracted reformulation: reduce user's dependency on information cues\n",
      "\n",
      "    Problem statement:reduce seasickness in virtual reality systems\n",
      "    Abstracted reformulation: Achieve robust orientation stability\n",
      "\n",
      "    Problem statement:reduce seasickness in virtual reality systems\n",
      "    Abstracted reformulation: improve the feel of a complicated motion or force\n",
      "\n",
      "    Problem statement:wash clothes without water\n",
      "    Abstracted reformulation: Remove dirt from objects by mechanical force\n",
      "\n",
      "    Problem statement:charge cell phones on the go\n",
      "    Abstracted reformulation: Charge a battery source from a remote energy-source\n",
      "\n",
      "    Problem statement:charge cell phones on the go\n",
      "    Abstracted reformulation: Supply power to electrical devices in the field\n",
      "\n",
      "    Problem statement:protect feet from getting wet\n",
      "    Abstracted reformulation: stop entry of foreign particles\n",
      "\n",
      "    Problem statement:protect feet from getting wet\n",
      "    Abstracted reformulation: Mechanically stop liquid from penetrating a space\n",
      "\n",
      "    Problem statement:shield baby from the sun\n",
      "    Abstracted reformulation: Protect vulnerable object from radiation\n",
      "\n",
      "    Problem statement:Prevent feet from getting wet\n",
      "    Abstracted reformulation: Stop object from getting into contact with unwanted substances\n",
      "\n",
      "    Problem statement: identify soldiers in old civil war photographs\n",
      "                                                                                                                                                                                                                                                                                                                                                                                     \n",
      "1 identify soldiers in old civil war photographs ->  281 0.4\n",
      "----------------------------------------\n"
     ]
    },
    {
     "name": "stderr",
     "output_type": "stream",
     "text": [
      "Setting `pad_token_id` to `eos_token_id`:50256 for open-end generation.\n"
     ]
    },
    {
     "name": "stdout",
     "output_type": "stream",
     "text": [
      "Given a problem statement, generate an abstracted reformulation of that problem statement\n",
      "\n",
      "    Problem statement: Shield baby from the sun\n",
      "    Abstracted reformulation: Protect vulnerable object from radiation\n",
      "\n",
      "    Problem statement: Prevent feet from getting wet\n",
      "    Abstracted reformulation: Stop object from getting into contact with unwanted substances\n",
      "\n",
      "    Problem statement: Hold soap bars of multiple sizes\n",
      "    Abstracted reformulation: Contain objects of different volumes\n",
      "\n",
      "    Problem statement: Enable a broom to clean in hard to reach places\n",
      "    Abstracted reformulation: Extend the physical reach of a tool\n",
      "\n",
      "    Problem statement: drill into teeth quietly\n",
      "    Abstracted reformulation: create a hole in an object without causing an unwanted noise\n",
      "\n",
      "    Problem statement: make house out of cooked spaghetti\n",
      "    Abstracted reformulation: create strong, rigid structure out of soft materials\n",
      "\n",
      "    Problem statement: make house out of cooked spaghetti\n",
      "    Abstracted reformulation: create structure from elastic elements\n",
      "\n",
      "    Problem statement:  prevent bicycle tire flats\n",
      "    Abstracted reformulation: protect object from the penetration of foreign objects\n",
      "\n",
      "    Problem statement: prevent blood clotting in stents\n",
      "    Abstracted reformulation: prevent clogging of cylindrical tubes\n",
      "\n",
      "    Problem statement: transfer heat in semiconductors at nanoscale\n",
      "    Abstracted reformulation: Enable particles to flow in confined geometries\n",
      "\n",
      "    Problem statement:reduce seasickness in virtual reality systems\n",
      "    Abstracted reformulation: reduce user's dependency on information cues\n",
      "\n",
      "    Problem statement:reduce seasickness in virtual reality systems\n",
      "    Abstracted reformulation: Achieve robust orientation stability\n",
      "\n",
      "    Problem statement:reduce seasickness in virtual reality systems\n",
      "    Abstracted reformulation: improve the feel of a complicated motion or force\n",
      "\n",
      "    Problem statement:wash clothes without water\n",
      "    Abstracted reformulation: Remove dirt from objects by mechanical force\n",
      "\n",
      "    Problem statement:charge cell phones on the go\n",
      "    Abstracted reformulation: Charge a battery source from a remote energy-source\n",
      "\n",
      "    Problem statement:charge cell phones on the go\n",
      "    Abstracted reformulation: Supply power to electrical devices in the field\n",
      "\n",
      "    Problem statement:protect feet from getting wet\n",
      "    Abstracted reformulation: stop entry of foreign particles\n",
      "\n",
      "    Problem statement:protect feet from getting wet\n",
      "    Abstracted reformulation: Mechanically stop liquid from penetrating a space\n",
      "\n",
      "    Problem statement:shield baby from the sun\n",
      "    Abstracted reformulation: Protect vulnerable object from radiation\n",
      "\n",
      "    Problem statement:Prevent feet from getting wet\n",
      "    Abstracted reformulation: Stop object from getting into contact with unwanted substances\n",
      "\n",
      "    Problem statement: identify soldiers in old civil war photographs\n",
      "                                                                                                                                                                                                                                                                                                                                                                                     \n",
      "2 identify soldiers in old civil war photographs ->  329 0.4\n",
      "----------------------------------------\n"
     ]
    }
   ],
   "source": [
    "\n"
   ]
  },
  {
   "cell_type": "code",
   "execution_count": 25,
   "metadata": {},
   "outputs": [],
   "source": []
  },
  {
   "cell_type": "code",
   "execution_count": 26,
   "metadata": {},
   "outputs": [
    {
     "name": "stderr",
     "output_type": "stream",
     "text": [
      "Setting `pad_token_id` to `eos_token_id`:50256 for open-end generation.\n"
     ]
    },
    {
     "name": "stdout",
     "output_type": "stream",
     "text": [
      "[{'generated_text': \"Given a problem statement, generate an abstracted reformulation of that problem statement\\n\\n    Problem statement:reduce seasickness in virtual reality systems\\n    Abstracted reformulation: reduce user's dependency on information cues\\n\\n    Problem statement:reduce seasickness in virtual reality systems\\n    Abstracted reformulation: Achieve robust orientation stability\\n\\n    Problem statement:reduce seasickness in virtual reality systems\\n    Abstracted reformulation: improve the feel of a complicated motion or force\\n\\n    Problem statement:wash clothes without water\\n    Abstracted reformulation: Remove dirt from objects by mechanical force\\n\\n    Problem statement:charge cell phones on the go\\n    Abstracted reformulation: Charge a battery source from a remote energy-source\\n\\n    Problem statement:charge cell phones on the go\\n    Abstracted reformulation: Supply power to electrical devices in the field\\n\\n    Problem statement:protect feet from getting wet\\n    Abstracted reformulation: stop entry of foreign particles\\n\\n    Problem statement:protect feet from getting wet\\n    Abstracted reformulation: Mechanically stop liquid from penetrating a space\\n\\n    Problem statement:shield baby from the sun\\n    Abstracted reformulation: Protect vulnerable object from radiation\\n\\n    Problem statement:Prevent feet from getting wet\\n    Abstracted reformulation: Stop object from getting into contact with unwanted substances\\n\\n    Problem statement: increase temperature of the cup\\n                                                                                                                                                                                \"}]\n"
     ]
    }
   ],
   "source": []
  },
  {
   "cell_type": "code",
   "execution_count": 18,
   "metadata": {},
   "outputs": [],
   "source": [
    "# res_generator_gpt_neo_125m[0]['generated_text']"
   ]
  },
  {
   "cell_type": "code",
   "execution_count": null,
   "metadata": {},
   "outputs": [],
   "source": []
  },
  {
   "cell_type": "code",
   "execution_count": null,
   "metadata": {},
   "outputs": [],
   "source": []
  },
  {
   "cell_type": "code",
   "execution_count": null,
   "metadata": {},
   "outputs": [],
   "source": []
  },
  {
   "cell_type": "code",
   "execution_count": null,
   "metadata": {},
   "outputs": [],
   "source": []
  },
  {
   "cell_type": "code",
   "execution_count": null,
   "metadata": {},
   "outputs": [],
   "source": []
  },
  {
   "cell_type": "code",
   "execution_count": null,
   "metadata": {},
   "outputs": [],
   "source": []
  },
  {
   "cell_type": "code",
   "execution_count": null,
   "metadata": {},
   "outputs": [],
   "source": []
  },
  {
   "cell_type": "code",
   "execution_count": null,
   "metadata": {},
   "outputs": [],
   "source": []
  },
  {
   "cell_type": "code",
   "execution_count": null,
   "metadata": {},
   "outputs": [],
   "source": []
  },
  {
   "cell_type": "code",
   "execution_count": null,
   "metadata": {},
   "outputs": [],
   "source": []
  },
  {
   "cell_type": "code",
   "execution_count": null,
   "metadata": {},
   "outputs": [],
   "source": []
  },
  {
   "cell_type": "code",
   "execution_count": null,
   "metadata": {},
   "outputs": [],
   "source": []
  },
  {
   "cell_type": "code",
   "execution_count": null,
   "metadata": {},
   "outputs": [],
   "source": [
    "# res_generator_gpt_neo_125m\n"
   ]
  },
  {
   "cell_type": "code",
   "execution_count": null,
   "metadata": {},
   "outputs": [],
   "source": [
    "# res_generator_gpt_neo_125m[0]['generated_text'].split('\\n\\n')[11].split('\\n')[0]"
   ]
  },
  {
   "cell_type": "code",
   "execution_count": null,
   "metadata": {},
   "outputs": [],
   "source": [
    "# res_generator_gpt_neo_125m[0]['generated_text'].split('\\n\\n')[11].split('\\n')[-1]"
   ]
  },
  {
   "cell_type": "code",
   "execution_count": null,
   "metadata": {},
   "outputs": [],
   "source": [
    "# print(res_generator_gpt_neo_125m[0]['generated_text'])"
   ]
  },
  {
   "cell_type": "code",
   "execution_count": null,
   "metadata": {},
   "outputs": [],
   "source": []
  },
  {
   "cell_type": "code",
   "execution_count": null,
   "metadata": {},
   "outputs": [],
   "source": []
  },
  {
   "cell_type": "code",
   "execution_count": null,
   "metadata": {},
   "outputs": [],
   "source": [
    "# print(res_generator_gpt_neo_1_3b[0]['generated_text'])"
   ]
  },
  {
   "cell_type": "code",
   "execution_count": null,
   "metadata": {},
   "outputs": [],
   "source": [
    "# res_generator_gpt_neo_2_7 = generator_gpt_neo_2_7(prompt,max_length = 500, do_sample = True,temperature = 0.9)"
   ]
  },
  {
   "cell_type": "code",
   "execution_count": null,
   "metadata": {},
   "outputs": [],
   "source": [
    "\n",
    "# print(res_generator_gpt_neo_2_7[0]['generated_text'])"
   ]
  },
  {
   "cell_type": "code",
   "execution_count": null,
   "metadata": {},
   "outputs": [],
   "source": [
    "# res_generator_gpt2 = generator_gpt2(prompt,max_length = 500, do_sample = True,temperature = 0.9)"
   ]
  },
  {
   "cell_type": "code",
   "execution_count": null,
   "metadata": {},
   "outputs": [],
   "source": [
    "\n",
    "\n",
    "# print(res_generator_gpt2[0]['generated_text'])"
   ]
  },
  {
   "cell_type": "code",
   "execution_count": null,
   "metadata": {},
   "outputs": [],
   "source": []
  },
  {
   "cell_type": "code",
   "execution_count": null,
   "metadata": {},
   "outputs": [],
   "source": []
  },
  {
   "cell_type": "code",
   "execution_count": null,
   "metadata": {},
   "outputs": [],
   "source": []
  },
  {
   "cell_type": "code",
   "execution_count": null,
   "metadata": {},
   "outputs": [],
   "source": []
  },
  {
   "cell_type": "code",
   "execution_count": null,
   "metadata": {},
   "outputs": [],
   "source": []
  },
  {
   "cell_type": "code",
   "execution_count": null,
   "metadata": {},
   "outputs": [],
   "source": []
  },
  {
   "cell_type": "code",
   "execution_count": null,
   "metadata": {},
   "outputs": [],
   "source": []
  },
  {
   "cell_type": "code",
   "execution_count": null,
   "metadata": {},
   "outputs": [],
   "source": []
  }
 ],
 "metadata": {
  "kernelspec": {
   "display_name": "Python 3",
   "language": "python",
   "name": "python3"
  },
  "language_info": {
   "codemirror_mode": {
    "name": "ipython",
    "version": 3
   },
   "file_extension": ".py",
   "mimetype": "text/x-python",
   "name": "python",
   "nbconvert_exporter": "python",
   "pygments_lexer": "ipython3",
   "version": "3.8.10"
  }
 },
 "nbformat": 4,
 "nbformat_minor": 4
}
