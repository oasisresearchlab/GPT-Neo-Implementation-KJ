{
 "cells": [
  {
   "cell_type": "code",
   "execution_count": 17,
   "metadata": {},
   "outputs": [],
   "source": [
    "from transformers import pipeline"
   ]
  },
  {
   "cell_type": "code",
   "execution_count": 18,
   "metadata": {},
   "outputs": [],
   "source": [
    "import numpy as np\n",
    "import pandas as pd\n",
    "import random\n",
    "import string\n",
    "from datetime import datetime\n",
    "import time"
   ]
  },
  {
   "cell_type": "code",
   "execution_count": 19,
   "metadata": {},
   "outputs": [],
   "source": [
    "generator_gpt_neo_125m = pipeline('text-generation',model='EleutherAI/gpt-neo-125M')"
   ]
  },
  {
   "cell_type": "code",
   "execution_count": 20,
   "metadata": {},
   "outputs": [],
   "source": [
    "cols = ['id','model_name','iteration','temperature','input_length','problem_statement','abstract_reformulation','cumulative_time_in_seconds']\n",
    "def generate_blank_df(cols): \n",
    "    df = pd.DataFrame(columns = cols)\n",
    "    return df"
   ]
  },
  {
   "cell_type": "code",
   "execution_count": 21,
   "metadata": {},
   "outputs": [],
   "source": [
    "def get_current_date():\n",
    "    now = datetime.now()\n",
    "\n",
    "#     print(\"now =\", now)\n",
    "\n",
    "    # dd/mm/YY H:M:S\n",
    "    dt_string = now.strftime(\"%Y%m%d\")\n",
    "#     print(\"date and time =\", dt_string)\n",
    "    date_string = dt_string\n",
    "    return date_string"
   ]
  },
  {
   "cell_type": "code",
   "execution_count": 22,
   "metadata": {},
   "outputs": [],
   "source": [
    "date = get_current_date()"
   ]
  },
  {
   "cell_type": "code",
   "execution_count": 23,
   "metadata": {},
   "outputs": [],
   "source": [
    "def generate_output(model,max_iterations,prompt,number_of_problem_statements,temp,model_name_text,want_to_save_1or0):\n",
    "    start = time.time()\n",
    "    date = get_current_date()\n",
    "    df = generate_blank_df(cols)\n",
    "    rand_id = ''.join([random.choice(string.ascii_letters\n",
    "            + string.digits) for n in range(7)])\n",
    "    iteration_no = 1\n",
    "    columns = list(df)\n",
    "#     temp_str = str(temp)\n",
    "#     temp_str = temp_str.split('.')[-1]\n",
    "    file_name = date+'_'+model_name_text+'_'+rand_id+'_'+str(max_iterations)+'_'+str(number_of_problem_statements)+'.csv'\n",
    "    data = []\n",
    "    while temp < 1.0:\n",
    "        iteration_no = 1        \n",
    "        while iteration_no <= max_iterations:\n",
    "            cumulative_time=round((time.time()-start))\n",
    "            res_model = model(prompt,max_length = 32*number_of_problem_statements,do_sample = True,temperature = temp)\n",
    "#             print(res_model[0]['generated_text'])\n",
    "            problem_statement = res_model[0]['generated_text'].split('\\n\\n')[number_of_problem_statements+1].split('\\n')[0].split(':')[-1].strip()\n",
    "            abs_reformulation = res_model[0]['generated_text'].split('\\n\\n')[number_of_problem_statements+1].split('\\n')[-1].split(':')[-1].strip()\n",
    "            values_for_df = [rand_id,model_name_text,iteration_no,temp,number_of_problem_statements,problem_statement,abs_reformulation,cumulative_time]\n",
    "            zipped = zip(columns,values_for_df)\n",
    "            dict1 = dict(zipped)\n",
    "            data.append(dict1)\n",
    "            iteration_no += 1\n",
    "    #         print(f'Total time taken is {elapsed_time_lc}')\n",
    "            print(iteration_no-1,problem_statement,'->',abs_reformulation,cumulative_time,temp)\n",
    "            print('----------------------------------------')\n",
    "    #         print(rand_id,iteration_no,temp,number_of_problem_statements,problem_statement,abs_reformulation)\n",
    "        \n",
    "            df = df.append(data,ignore_index = True)\n",
    "        temp = round((temp+0.1),1)\n",
    "        \n",
    "    df = df.drop_duplicates()\n",
    "    \n",
    "    if(want_to_save_1or0==1):\n",
    "        df.to_csv(f'../Csv/{file_name}',index=False)\n",
    "    else:\n",
    "        print('returning_df')\n",
    "    \n",
    "    elapsed_time_lc=(time.time()-start)\n",
    "    print(f'Total time taken is {round(elapsed_time_lc)}')\n",
    "    \n",
    "    return df\n",
    "    "
   ]
  },
  {
   "cell_type": "code",
   "execution_count": 24,
   "metadata": {},
   "outputs": [],
   "source": [
    "user_input = \"optimize entry of nanoparticle fertilizers into a plant\""
   ]
  },
  {
   "cell_type": "code",
   "execution_count": 25,
   "metadata": {},
   "outputs": [],
   "source": [
    "prompt = f\"\"\"Given a problem statement, generate an abstracted reformulation of that problem statement\n",
    "\n",
    "Problem statement: Shield baby from the sun\n",
    "Abstracted reformulation: Protect vulnerable object from radiation\n",
    "\n",
    "Problem statement: Prevent feet from getting wet\n",
    "Abstracted reformulation: Stop object from getting into contact with unwanted substances\n",
    "\n",
    "Problem statement: Hold soap bars of multiple sizes\n",
    "Abstracted reformulation: Contain objects of different volumes\n",
    "\n",
    "Problem statement: Enable a broom to clean in hard to reach places\n",
    "Abstracted reformulation: Extend the physical reach of a tool\n",
    "\n",
    "Problem statement: drill into teeth quietly\n",
    "Abstracted reformulation: create a hole in an object without causing an unwanted noise\n",
    "\n",
    "Problem statement: make house out of cooked spaghetti\n",
    "Abstracted reformulation: create strong, rigid structure out of soft materials\n",
    "\n",
    "Problem statement: make house out of cooked spaghetti\n",
    "Abstracted reformulation: create structure from elastic elements\n",
    "\n",
    "Problem statement:  prevent bicycle tire flats\n",
    "Abstracted reformulation: protect object from the penetration of foreign objects\n",
    "\n",
    "Problem statement: prevent blood clotting in stents\n",
    "Abstracted reformulation: prevent clogging of cylindrical tubes\n",
    "\n",
    "Problem statement: transfer heat in semiconductors at nanoscale\n",
    "Abstracted reformulation: Enable particles to flow in confined geometries\n",
    "\n",
    "Problem statement:reduce seasickness in virtual reality systems\n",
    "Abstracted reformulation: reduce user's dependency on information cues\n",
    "\n",
    "Problem statement:reduce seasickness in virtual reality systems\n",
    "Abstracted reformulation: Achieve robust orientation stability\n",
    "\n",
    "Problem statement:reduce seasickness in virtual reality systems\n",
    "Abstracted reformulation: improve the feel of a complicated motion or force\n",
    "\n",
    "Problem statement:wash clothes without water\n",
    "Abstracted reformulation: Remove dirt from objects by mechanical force\n",
    "\n",
    "Problem statement:charge cell phones on the go\n",
    "Abstracted reformulation: Charge a battery source from a remote energy-source\n",
    "\n",
    "Problem statement:charge cell phones on the go\n",
    "Abstracted reformulation: Supply power to electrical devices in the field\n",
    "\n",
    "Problem statement:protect feet from getting wet\n",
    "Abstracted reformulation: stop entry of foreign particles\n",
    "\n",
    "Problem statement:protect feet from getting wet\n",
    "Abstracted reformulation: Mechanically stop liquid from penetrating a space\n",
    "\n",
    "Problem statement:shield baby from the sun\n",
    "Abstracted reformulation: Protect vulnerable object from radiation\n",
    "\n",
    "Problem statement:Prevent feet from getting wet\n",
    "Abstracted reformulation: Stop object from getting into contact with unwanted substances\n",
    "\n",
    "Problem statement: {user_input}\n",
    "\"\"\""
   ]
  },
  {
   "cell_type": "code",
   "execution_count": 26,
   "metadata": {},
   "outputs": [
    {
     "name": "stderr",
     "output_type": "stream",
     "text": [
      "Setting `pad_token_id` to `eos_token_id`:50256 for open-end generation.\n",
      "Setting `pad_token_id` to `eos_token_id`:50256 for open-end generation.\n"
     ]
    },
    {
     "name": "stdout",
     "output_type": "stream",
     "text": [
      "1 optimize entry of nanoparticle fertilizers into a plant -> Reduce the amount of particles entering the plant 0 0.1\n",
      "----------------------------------------\n"
     ]
    },
    {
     "name": "stderr",
     "output_type": "stream",
     "text": [
      "Setting `pad_token_id` to `eos_token_id`:50256 for open-end generation.\n"
     ]
    },
    {
     "name": "stdout",
     "output_type": "stream",
     "text": [
      "2 optimize entry of nanoparticle fertilizers into a plant -> Reduce the amount of particles entering the plant 20 0.1\n",
      "----------------------------------------\n"
     ]
    },
    {
     "name": "stderr",
     "output_type": "stream",
     "text": [
      "Setting `pad_token_id` to `eos_token_id`:50256 for open-end generation.\n"
     ]
    },
    {
     "name": "stdout",
     "output_type": "stream",
     "text": [
      "3 optimize entry of nanoparticle fertilizers into a plant -> Reduce the number of particles entering a plant 41 0.1\n",
      "----------------------------------------\n"
     ]
    },
    {
     "name": "stderr",
     "output_type": "stream",
     "text": [
      "Setting `pad_token_id` to `eos_token_id`:50256 for open-end generation.\n"
     ]
    },
    {
     "name": "stdout",
     "output_type": "stream",
     "text": [
      "4 optimize entry of nanoparticle fertilizers into a plant -> Improve the feel of a complicated motion or force 62 0.1\n",
      "----------------------------------------\n"
     ]
    },
    {
     "name": "stderr",
     "output_type": "stream",
     "text": [
      "Setting `pad_token_id` to `eos_token_id`:50256 for open-end generation.\n"
     ]
    },
    {
     "name": "stdout",
     "output_type": "stream",
     "text": [
      "5 optimize entry of nanoparticle fertilizers into a plant -> Improve the feel of a complicated motion or force 79 0.1\n",
      "----------------------------------------\n"
     ]
    },
    {
     "name": "stderr",
     "output_type": "stream",
     "text": [
      "Setting `pad_token_id` to `eos_token_id`:50256 for open-end generation.\n"
     ]
    },
    {
     "name": "stdout",
     "output_type": "stream",
     "text": [
      "6 optimize entry of nanoparticle fertilizers into a plant -> Reduce the number of particles entering a plant 97 0.1\n",
      "----------------------------------------\n"
     ]
    },
    {
     "name": "stderr",
     "output_type": "stream",
     "text": [
      "Setting `pad_token_id` to `eos_token_id`:50256 for open-end generation.\n"
     ]
    },
    {
     "name": "stdout",
     "output_type": "stream",
     "text": [
      "7 optimize entry of nanoparticle fertilizers into a plant -> Reduce the amount of nutrients in a plant 114 0.1\n",
      "----------------------------------------\n"
     ]
    },
    {
     "name": "stderr",
     "output_type": "stream",
     "text": [
      "Setting `pad_token_id` to `eos_token_id`:50256 for open-end generation.\n"
     ]
    },
    {
     "name": "stdout",
     "output_type": "stream",
     "text": [
      "8 optimize entry of nanoparticle fertilizers into a plant -> Reduce the number of particles entering the plant 132 0.1\n",
      "----------------------------------------\n"
     ]
    },
    {
     "name": "stderr",
     "output_type": "stream",
     "text": [
      "Setting `pad_token_id` to `eos_token_id`:50256 for open-end generation.\n"
     ]
    },
    {
     "name": "stdout",
     "output_type": "stream",
     "text": [
      "9 optimize entry of nanoparticle fertilizers into a plant -> Improve the feel of a complicated motion or force 149 0.1\n",
      "----------------------------------------\n"
     ]
    },
    {
     "name": "stderr",
     "output_type": "stream",
     "text": [
      "Setting `pad_token_id` to `eos_token_id`:50256 for open-end generation.\n"
     ]
    },
    {
     "name": "stdout",
     "output_type": "stream",
     "text": [
      "10 optimize entry of nanoparticle fertilizers into a plant -> Reduce the number of particles entering a plant 166 0.1\n",
      "----------------------------------------\n"
     ]
    },
    {
     "name": "stderr",
     "output_type": "stream",
     "text": [
      "Setting `pad_token_id` to `eos_token_id`:50256 for open-end generation.\n"
     ]
    },
    {
     "name": "stdout",
     "output_type": "stream",
     "text": [
      "11 optimize entry of nanoparticle fertilizers into a plant -> Reduce the amount of particles entering the plant 184 0.1\n",
      "----------------------------------------\n"
     ]
    },
    {
     "name": "stderr",
     "output_type": "stream",
     "text": [
      "Setting `pad_token_id` to `eos_token_id`:50256 for open-end generation.\n"
     ]
    },
    {
     "name": "stdout",
     "output_type": "stream",
     "text": [
      "12 optimize entry of nanoparticle fertilizers into a plant -> Reduce the amount of particles entering the plant 201 0.1\n",
      "----------------------------------------\n"
     ]
    },
    {
     "name": "stderr",
     "output_type": "stream",
     "text": [
      "Setting `pad_token_id` to `eos_token_id`:50256 for open-end generation.\n"
     ]
    },
    {
     "name": "stdout",
     "output_type": "stream",
     "text": [
      "13 optimize entry of nanoparticle fertilizers into a plant -> Improve the feel of a complicated motion or force 222 0.1\n",
      "----------------------------------------\n"
     ]
    },
    {
     "name": "stderr",
     "output_type": "stream",
     "text": [
      "Setting `pad_token_id` to `eos_token_id`:50256 for open-end generation.\n"
     ]
    },
    {
     "name": "stdout",
     "output_type": "stream",
     "text": [
      "14 optimize entry of nanoparticle fertilizers into a plant -> Reduce the number of particles entering the plant 244 0.1\n",
      "----------------------------------------\n"
     ]
    },
    {
     "name": "stderr",
     "output_type": "stream",
     "text": [
      "Setting `pad_token_id` to `eos_token_id`:50256 for open-end generation.\n"
     ]
    },
    {
     "name": "stdout",
     "output_type": "stream",
     "text": [
      "15 optimize entry of nanoparticle fertilizers into a plant -> Reduce the amount of particles entering a plant 266 0.1\n",
      "----------------------------------------\n"
     ]
    },
    {
     "name": "stderr",
     "output_type": "stream",
     "text": [
      "Setting `pad_token_id` to `eos_token_id`:50256 for open-end generation.\n"
     ]
    },
    {
     "name": "stdout",
     "output_type": "stream",
     "text": [
      "16 optimize entry of nanoparticle fertilizers into a plant -> Improve the feel of a complicated motion or force 289 0.1\n",
      "----------------------------------------\n"
     ]
    },
    {
     "name": "stderr",
     "output_type": "stream",
     "text": [
      "Setting `pad_token_id` to `eos_token_id`:50256 for open-end generation.\n"
     ]
    },
    {
     "name": "stdout",
     "output_type": "stream",
     "text": [
      "17 optimize entry of nanoparticle fertilizers into a plant -> Reduce the number of particles entering a plant 313 0.1\n",
      "----------------------------------------\n"
     ]
    },
    {
     "name": "stderr",
     "output_type": "stream",
     "text": [
      "Setting `pad_token_id` to `eos_token_id`:50256 for open-end generation.\n"
     ]
    },
    {
     "name": "stdout",
     "output_type": "stream",
     "text": [
      "18 optimize entry of nanoparticle fertilizers into a plant -> Reduce the amount of particles entering the plant 335 0.1\n",
      "----------------------------------------\n"
     ]
    },
    {
     "name": "stderr",
     "output_type": "stream",
     "text": [
      "Setting `pad_token_id` to `eos_token_id`:50256 for open-end generation.\n"
     ]
    },
    {
     "name": "stdout",
     "output_type": "stream",
     "text": [
      "19 optimize entry of nanoparticle fertilizers into a plant -> Improve the efficiency of the plant's fertilizers 364 0.1\n",
      "----------------------------------------\n"
     ]
    },
    {
     "name": "stderr",
     "output_type": "stream",
     "text": [
      "Setting `pad_token_id` to `eos_token_id`:50256 for open-end generation.\n"
     ]
    },
    {
     "name": "stdout",
     "output_type": "stream",
     "text": [
      "20 optimize entry of nanoparticle fertilizers into a plant -> Reduce the number of particles entering the plant 389 0.1\n",
      "----------------------------------------\n"
     ]
    },
    {
     "name": "stderr",
     "output_type": "stream",
     "text": [
      "Setting `pad_token_id` to `eos_token_id`:50256 for open-end generation.\n"
     ]
    },
    {
     "name": "stdout",
     "output_type": "stream",
     "text": [
      "1 optimize entry of nanoparticle fertilizers into a plant -> Reduce the size of a plant's root system 411 0.2\n",
      "----------------------------------------\n"
     ]
    },
    {
     "name": "stderr",
     "output_type": "stream",
     "text": [
      "Setting `pad_token_id` to `eos_token_id`:50256 for open-end generation.\n"
     ]
    },
    {
     "name": "stdout",
     "output_type": "stream",
     "text": [
      "2 optimize entry of nanoparticle fertilizers into a plant -> Reduce the amount of water entering the plant 432 0.2\n",
      "----------------------------------------\n"
     ]
    },
    {
     "name": "stderr",
     "output_type": "stream",
     "text": [
      "Setting `pad_token_id` to `eos_token_id`:50256 for open-end generation.\n"
     ]
    },
    {
     "name": "stdout",
     "output_type": "stream",
     "text": [
      "3 optimize entry of nanoparticle fertilizers into a plant -> Reduce the number of particles entering the plant 454 0.2\n",
      "----------------------------------------\n"
     ]
    },
    {
     "name": "stderr",
     "output_type": "stream",
     "text": [
      "Setting `pad_token_id` to `eos_token_id`:50256 for open-end generation.\n"
     ]
    },
    {
     "name": "stdout",
     "output_type": "stream",
     "text": [
      "4 optimize entry of nanoparticle fertilizers into a plant -> Reduce the number of particles entering into a plant 476 0.2\n",
      "----------------------------------------\n"
     ]
    },
    {
     "name": "stderr",
     "output_type": "stream",
     "text": [
      "Setting `pad_token_id` to `eos_token_id`:50256 for open-end generation.\n"
     ]
    },
    {
     "name": "stdout",
     "output_type": "stream",
     "text": [
      "5 optimize entry of nanoparticle fertilizers into a plant -> Protect object from radiation 501 0.2\n",
      "----------------------------------------\n"
     ]
    },
    {
     "name": "stderr",
     "output_type": "stream",
     "text": [
      "Setting `pad_token_id` to `eos_token_id`:50256 for open-end generation.\n"
     ]
    },
    {
     "name": "stdout",
     "output_type": "stream",
     "text": [
      "6 optimize entry of nanoparticle fertilizers into a plant -> Reduce the number of particles entering the plant 523 0.2\n",
      "----------------------------------------\n"
     ]
    },
    {
     "name": "stderr",
     "output_type": "stream",
     "text": [
      "Setting `pad_token_id` to `eos_token_id`:50256 for open-end generation.\n"
     ]
    },
    {
     "name": "stdout",
     "output_type": "stream",
     "text": [
      "7 optimize entry of nanoparticle fertilizers into a plant -> Reduce the amount of particles entering the plant 545 0.2\n",
      "----------------------------------------\n"
     ]
    },
    {
     "name": "stderr",
     "output_type": "stream",
     "text": [
      "Setting `pad_token_id` to `eos_token_id`:50256 for open-end generation.\n"
     ]
    },
    {
     "name": "stdout",
     "output_type": "stream",
     "text": [
      "8 optimize entry of nanoparticle fertilizers into a plant -> Reduce the amount of fertilizer in a plant 566 0.2\n",
      "----------------------------------------\n"
     ]
    },
    {
     "name": "stderr",
     "output_type": "stream",
     "text": [
      "Setting `pad_token_id` to `eos_token_id`:50256 for open-end generation.\n"
     ]
    },
    {
     "name": "stdout",
     "output_type": "stream",
     "text": [
      "9 optimize entry of nanoparticle fertilizers into a plant -> Prevent the entry of foreign particles into a plant 587 0.2\n",
      "----------------------------------------\n"
     ]
    },
    {
     "name": "stderr",
     "output_type": "stream",
     "text": [
      "Setting `pad_token_id` to `eos_token_id`:50256 for open-end generation.\n"
     ]
    },
    {
     "name": "stdout",
     "output_type": "stream",
     "text": [
      "10 optimize entry of nanoparticle fertilizers into a plant -> Reduce the number of particles entering the plant 611 0.2\n",
      "----------------------------------------\n"
     ]
    },
    {
     "name": "stderr",
     "output_type": "stream",
     "text": [
      "Setting `pad_token_id` to `eos_token_id`:50256 for open-end generation.\n"
     ]
    },
    {
     "name": "stdout",
     "output_type": "stream",
     "text": [
      "11 optimize entry of nanoparticle fertilizers into a plant -> Prevent the entry of foreign particles into a plant 634 0.2\n",
      "----------------------------------------\n"
     ]
    },
    {
     "name": "stderr",
     "output_type": "stream",
     "text": [
      "Setting `pad_token_id` to `eos_token_id`:50256 for open-end generation.\n"
     ]
    },
    {
     "name": "stdout",
     "output_type": "stream",
     "text": [
      "12 optimize entry of nanoparticle fertilizers into a plant -> Reduce the amount of particles entering the plant 656 0.2\n",
      "----------------------------------------\n"
     ]
    },
    {
     "name": "stderr",
     "output_type": "stream",
     "text": [
      "Setting `pad_token_id` to `eos_token_id`:50256 for open-end generation.\n"
     ]
    },
    {
     "name": "stdout",
     "output_type": "stream",
     "text": [
      "13 optimize entry of nanoparticle fertilizers into a plant -> Reduce the number of particles entering a plant 676 0.2\n",
      "----------------------------------------\n"
     ]
    },
    {
     "name": "stderr",
     "output_type": "stream",
     "text": [
      "Setting `pad_token_id` to `eos_token_id`:50256 for open-end generation.\n"
     ]
    },
    {
     "name": "stdout",
     "output_type": "stream",
     "text": [
      "14 optimize entry of nanoparticle fertilizers into a plant -> Improve the efficiency of the plant 696 0.2\n",
      "----------------------------------------\n"
     ]
    },
    {
     "name": "stderr",
     "output_type": "stream",
     "text": [
      "Setting `pad_token_id` to `eos_token_id`:50256 for open-end generation.\n"
     ]
    },
    {
     "name": "stdout",
     "output_type": "stream",
     "text": [
      "15 optimize entry of nanoparticle fertilizers into a plant -> Reduce the number of particles entering the plant 716 0.2\n",
      "----------------------------------------\n"
     ]
    },
    {
     "name": "stderr",
     "output_type": "stream",
     "text": [
      "Setting `pad_token_id` to `eos_token_id`:50256 for open-end generation.\n"
     ]
    },
    {
     "name": "stdout",
     "output_type": "stream",
     "text": [
      "16 optimize entry of nanoparticle fertilizers into a plant -> Reduce the amount of particles entering the plant 736 0.2\n",
      "----------------------------------------\n"
     ]
    },
    {
     "name": "stderr",
     "output_type": "stream",
     "text": [
      "Setting `pad_token_id` to `eos_token_id`:50256 for open-end generation.\n"
     ]
    },
    {
     "name": "stdout",
     "output_type": "stream",
     "text": [
      "17 optimize entry of nanoparticle fertilizers into a plant -> Improve the efficiency of the plant 756 0.2\n",
      "----------------------------------------\n"
     ]
    },
    {
     "name": "stderr",
     "output_type": "stream",
     "text": [
      "Setting `pad_token_id` to `eos_token_id`:50256 for open-end generation.\n"
     ]
    },
    {
     "name": "stdout",
     "output_type": "stream",
     "text": [
      "18 optimize entry of nanoparticle fertilizers into a plant -> Reduce the amount of particles entering a plant 776 0.2\n",
      "----------------------------------------\n"
     ]
    },
    {
     "name": "stderr",
     "output_type": "stream",
     "text": [
      "Setting `pad_token_id` to `eos_token_id`:50256 for open-end generation.\n"
     ]
    },
    {
     "name": "stdout",
     "output_type": "stream",
     "text": [
      "19 optimize entry of nanoparticle fertilizers into a plant -> Reduce the amount of water in a plant 796 0.2\n",
      "----------------------------------------\n"
     ]
    },
    {
     "name": "stderr",
     "output_type": "stream",
     "text": [
      "Setting `pad_token_id` to `eos_token_id`:50256 for open-end generation.\n"
     ]
    },
    {
     "name": "stdout",
     "output_type": "stream",
     "text": [
      "20 optimize entry of nanoparticle fertilizers into a plant -> Improve the taste of a plant by removing the taste of a particle 816 0.2\n",
      "----------------------------------------\n"
     ]
    },
    {
     "name": "stderr",
     "output_type": "stream",
     "text": [
      "Setting `pad_token_id` to `eos_token_id`:50256 for open-end generation.\n"
     ]
    },
    {
     "name": "stdout",
     "output_type": "stream",
     "text": [
      "1 optimize entry of nanoparticle fertilizers into a plant -> Prevent the entry of foreign particles 836 0.3\n",
      "----------------------------------------\n"
     ]
    },
    {
     "name": "stderr",
     "output_type": "stream",
     "text": [
      "Setting `pad_token_id` to `eos_token_id`:50256 for open-end generation.\n"
     ]
    },
    {
     "name": "stdout",
     "output_type": "stream",
     "text": [
      "2 optimize entry of nanoparticle fertilizers into a plant -> Reduce the amount of particles entering the plant 858 0.3\n",
      "----------------------------------------\n"
     ]
    },
    {
     "name": "stderr",
     "output_type": "stream",
     "text": [
      "Setting `pad_token_id` to `eos_token_id`:50256 for open-end generation.\n"
     ]
    },
    {
     "name": "stdout",
     "output_type": "stream",
     "text": [
      "3 optimize entry of nanoparticle fertilizers into a plant -> Reduce the number of particles entering the plant 878 0.3\n",
      "----------------------------------------\n"
     ]
    },
    {
     "name": "stderr",
     "output_type": "stream",
     "text": [
      "Setting `pad_token_id` to `eos_token_id`:50256 for open-end generation.\n"
     ]
    },
    {
     "name": "stdout",
     "output_type": "stream",
     "text": [
      "4 optimize entry of nanoparticle fertilizers into a plant -> Improve the efficiency of a plant's fertilizers 898 0.3\n",
      "----------------------------------------\n"
     ]
    },
    {
     "name": "stderr",
     "output_type": "stream",
     "text": [
      "Setting `pad_token_id` to `eos_token_id`:50256 for open-end generation.\n"
     ]
    },
    {
     "name": "stdout",
     "output_type": "stream",
     "text": [
      "5 optimize entry of nanoparticle fertilizers into a plant -> Improve the efficiency of a plant's fertilizers 919 0.3\n",
      "----------------------------------------\n"
     ]
    },
    {
     "name": "stderr",
     "output_type": "stream",
     "text": [
      "Setting `pad_token_id` to `eos_token_id`:50256 for open-end generation.\n"
     ]
    },
    {
     "name": "stdout",
     "output_type": "stream",
     "text": [
      "6 optimize entry of nanoparticle fertilizers into a plant -> Improve the efficiency of the plant's fertilizer 938 0.3\n",
      "----------------------------------------\n"
     ]
    },
    {
     "name": "stderr",
     "output_type": "stream",
     "text": [
      "Setting `pad_token_id` to `eos_token_id`:50256 for open-end generation.\n"
     ]
    },
    {
     "name": "stdout",
     "output_type": "stream",
     "text": [
      "7 optimize entry of nanoparticle fertilizers into a plant -> Improve the efficiency of a plant's fertilizers 959 0.3\n",
      "----------------------------------------\n"
     ]
    },
    {
     "name": "stderr",
     "output_type": "stream",
     "text": [
      "Setting `pad_token_id` to `eos_token_id`:50256 for open-end generation.\n"
     ]
    },
    {
     "name": "stdout",
     "output_type": "stream",
     "text": [
      "8 optimize entry of nanoparticle fertilizers into a plant -> improve the feel of a complicated motion or force 979 0.3\n",
      "----------------------------------------\n"
     ]
    },
    {
     "name": "stderr",
     "output_type": "stream",
     "text": [
      "Setting `pad_token_id` to `eos_token_id`:50256 for open-end generation.\n"
     ]
    },
    {
     "name": "stdout",
     "output_type": "stream",
     "text": [
      "9 optimize entry of nanoparticle fertilizers into a plant -> Reduce the amount of fertilizer in a plant 1001 0.3\n",
      "----------------------------------------\n"
     ]
    },
    {
     "name": "stderr",
     "output_type": "stream",
     "text": [
      "Setting `pad_token_id` to `eos_token_id`:50256 for open-end generation.\n"
     ]
    },
    {
     "name": "stdout",
     "output_type": "stream",
     "text": [
      "10 optimize entry of nanoparticle fertilizers into a plant -> Improve the efficiency of the plant's fertilizers 1025 0.3\n",
      "----------------------------------------\n"
     ]
    },
    {
     "name": "stderr",
     "output_type": "stream",
     "text": [
      "Setting `pad_token_id` to `eos_token_id`:50256 for open-end generation.\n"
     ]
    },
    {
     "name": "stdout",
     "output_type": "stream",
     "text": [
      "11 optimize entry of nanoparticle fertilizers into a plant -> Reduce the size of a particle 1049 0.3\n",
      "----------------------------------------\n"
     ]
    },
    {
     "name": "stderr",
     "output_type": "stream",
     "text": [
      "Setting `pad_token_id` to `eos_token_id`:50256 for open-end generation.\n"
     ]
    },
    {
     "name": "stdout",
     "output_type": "stream",
     "text": [
      "12 optimize entry of nanoparticle fertilizers into a plant -> Improve the efficiency of a plant's fertilizers 1072 0.3\n",
      "----------------------------------------\n"
     ]
    },
    {
     "name": "stderr",
     "output_type": "stream",
     "text": [
      "Setting `pad_token_id` to `eos_token_id`:50256 for open-end generation.\n"
     ]
    },
    {
     "name": "stdout",
     "output_type": "stream",
     "text": [
      "13 optimize entry of nanoparticle fertilizers into a plant -> Reduce the number of particles in a solution 1095 0.3\n",
      "----------------------------------------\n"
     ]
    },
    {
     "name": "stderr",
     "output_type": "stream",
     "text": [
      "Setting `pad_token_id` to `eos_token_id`:50256 for open-end generation.\n"
     ]
    },
    {
     "name": "stdout",
     "output_type": "stream",
     "text": [
      "14 optimize entry of nanoparticle fertilizers into a plant -> Improve the soil's ability to absorb nutrients 1119 0.3\n",
      "----------------------------------------\n"
     ]
    },
    {
     "name": "stderr",
     "output_type": "stream",
     "text": [
      "Setting `pad_token_id` to `eos_token_id`:50256 for open-end generation.\n"
     ]
    },
    {
     "name": "stdout",
     "output_type": "stream",
     "text": [
      "15 optimize entry of nanoparticle fertilizers into a plant -> Reduce the volume of a container 1146 0.3\n",
      "----------------------------------------\n"
     ]
    },
    {
     "name": "stderr",
     "output_type": "stream",
     "text": [
      "Setting `pad_token_id` to `eos_token_id`:50256 for open-end generation.\n"
     ]
    },
    {
     "name": "stdout",
     "output_type": "stream",
     "text": [
      "16 optimize entry of nanoparticle fertilizers into a plant -> Improve the efficiency of a plant's fertilizer 1171 0.3\n",
      "----------------------------------------\n"
     ]
    },
    {
     "name": "stderr",
     "output_type": "stream",
     "text": [
      "Setting `pad_token_id` to `eos_token_id`:50256 for open-end generation.\n"
     ]
    },
    {
     "name": "stdout",
     "output_type": "stream",
     "text": [
      "17 optimize entry of nanoparticle fertilizers into a plant -> Reduce the amount of nutrients in a plant 1195 0.3\n",
      "----------------------------------------\n"
     ]
    },
    {
     "name": "stderr",
     "output_type": "stream",
     "text": [
      "Setting `pad_token_id` to `eos_token_id`:50256 for open-end generation.\n"
     ]
    },
    {
     "name": "stdout",
     "output_type": "stream",
     "text": [
      "18 optimize entry of nanoparticle fertilizers into a plant -> Reduce the size of a plant by removing particles 1217 0.3\n",
      "----------------------------------------\n"
     ]
    },
    {
     "name": "stderr",
     "output_type": "stream",
     "text": [
      "Setting `pad_token_id` to `eos_token_id`:50256 for open-end generation.\n"
     ]
    },
    {
     "name": "stdout",
     "output_type": "stream",
     "text": [
      "19 optimize entry of nanoparticle fertilizers into a plant -> Improve the feel of a complicated motion or force 1240 0.3\n",
      "----------------------------------------\n"
     ]
    },
    {
     "name": "stderr",
     "output_type": "stream",
     "text": [
      "Setting `pad_token_id` to `eos_token_id`:50256 for open-end generation.\n"
     ]
    },
    {
     "name": "stdout",
     "output_type": "stream",
     "text": [
      "20 optimize entry of nanoparticle fertilizers into a plant -> Reduce the number of particles entering the plant 1260 0.3\n",
      "----------------------------------------\n"
     ]
    },
    {
     "name": "stderr",
     "output_type": "stream",
     "text": [
      "Setting `pad_token_id` to `eos_token_id`:50256 for open-end generation.\n"
     ]
    },
    {
     "name": "stdout",
     "output_type": "stream",
     "text": [
      "1 optimize entry of nanoparticle fertilizers into a plant -> Prevent nanoparticle fertilizers from entering the plant 1287 0.4\n",
      "----------------------------------------\n"
     ]
    },
    {
     "name": "stderr",
     "output_type": "stream",
     "text": [
      "Setting `pad_token_id` to `eos_token_id`:50256 for open-end generation.\n"
     ]
    },
    {
     "name": "stdout",
     "output_type": "stream",
     "text": [
      "2 optimize entry of nanoparticle fertilizers into a plant -> Reduce the size of the particle 1315 0.4\n",
      "----------------------------------------\n"
     ]
    },
    {
     "name": "stderr",
     "output_type": "stream",
     "text": [
      "Setting `pad_token_id` to `eos_token_id`:50256 for open-end generation.\n"
     ]
    },
    {
     "name": "stdout",
     "output_type": "stream",
     "text": [
      "3 optimize entry of nanoparticle fertilizers into a plant -> Improve the feel of a complicated motion or force 1340 0.4\n",
      "----------------------------------------\n"
     ]
    },
    {
     "name": "stderr",
     "output_type": "stream",
     "text": [
      "Setting `pad_token_id` to `eos_token_id`:50256 for open-end generation.\n"
     ]
    },
    {
     "name": "stdout",
     "output_type": "stream",
     "text": [
      "4 optimize entry of nanoparticle fertilizers into a plant -> Increase the efficiency of a fertilizer 1366 0.4\n",
      "----------------------------------------\n"
     ]
    },
    {
     "name": "stderr",
     "output_type": "stream",
     "text": [
      "Setting `pad_token_id` to `eos_token_id`:50256 for open-end generation.\n"
     ]
    },
    {
     "name": "stdout",
     "output_type": "stream",
     "text": [
      "5 optimize entry of nanoparticle fertilizers into a plant -> Improve the feel of a complicated motion or force 1388 0.4\n",
      "----------------------------------------\n"
     ]
    },
    {
     "name": "stderr",
     "output_type": "stream",
     "text": [
      "Setting `pad_token_id` to `eos_token_id`:50256 for open-end generation.\n"
     ]
    },
    {
     "name": "stdout",
     "output_type": "stream",
     "text": [
      "6 optimize entry of nanoparticle fertilizers into a plant -> make a hole in an object without causing an unwanted noise 1409 0.4\n",
      "----------------------------------------\n"
     ]
    },
    {
     "name": "stderr",
     "output_type": "stream",
     "text": [
      "Setting `pad_token_id` to `eos_token_id`:50256 for open-end generation.\n"
     ]
    },
    {
     "name": "stdout",
     "output_type": "stream",
     "text": [
      "7 optimize entry of nanoparticle fertilizers into a plant -> Improve the efficiency of a plant's fertilizers 1431 0.4\n",
      "----------------------------------------\n"
     ]
    },
    {
     "name": "stderr",
     "output_type": "stream",
     "text": [
      "Setting `pad_token_id` to `eos_token_id`:50256 for open-end generation.\n"
     ]
    },
    {
     "name": "stdout",
     "output_type": "stream",
     "text": [
      "8 optimize entry of nanoparticle fertilizers into a plant -> Improve the feel of a complicated motion or force 1454 0.4\n",
      "----------------------------------------\n"
     ]
    },
    {
     "name": "stderr",
     "output_type": "stream",
     "text": [
      "Setting `pad_token_id` to `eos_token_id`:50256 for open-end generation.\n"
     ]
    },
    {
     "name": "stdout",
     "output_type": "stream",
     "text": [
      "9 optimize entry of nanoparticle fertilizers into a plant -> Reduce the amount of nutrients in a plant 1475 0.4\n",
      "----------------------------------------\n"
     ]
    },
    {
     "name": "stderr",
     "output_type": "stream",
     "text": [
      "Setting `pad_token_id` to `eos_token_id`:50256 for open-end generation.\n"
     ]
    },
    {
     "name": "stdout",
     "output_type": "stream",
     "text": [
      "10 optimize entry of nanoparticle fertilizers into a plant -> Reduce the amount of soil particles entering a plant 1496 0.4\n",
      "----------------------------------------\n"
     ]
    },
    {
     "name": "stderr",
     "output_type": "stream",
     "text": [
      "Setting `pad_token_id` to `eos_token_id`:50256 for open-end generation.\n"
     ]
    },
    {
     "name": "stdout",
     "output_type": "stream",
     "text": [
      "11 optimize entry of nanoparticle fertilizers into a plant -> Increase the efficiency of the process of fertilization 1517 0.4\n",
      "----------------------------------------\n"
     ]
    },
    {
     "name": "stderr",
     "output_type": "stream",
     "text": [
      "Setting `pad_token_id` to `eos_token_id`:50256 for open-end generation.\n"
     ]
    },
    {
     "name": "stdout",
     "output_type": "stream",
     "text": [
      "12 optimize entry of nanoparticle fertilizers into a plant -> Improve the feel of a complicated motion or force 1545 0.4\n",
      "----------------------------------------\n"
     ]
    },
    {
     "name": "stderr",
     "output_type": "stream",
     "text": [
      "Setting `pad_token_id` to `eos_token_id`:50256 for open-end generation.\n"
     ]
    },
    {
     "name": "stdout",
     "output_type": "stream",
     "text": [
      "13 optimize entry of nanoparticle fertilizers into a plant -> Reduce the amount of particles entering the plant 1569 0.4\n",
      "----------------------------------------\n"
     ]
    },
    {
     "name": "stderr",
     "output_type": "stream",
     "text": [
      "Setting `pad_token_id` to `eos_token_id`:50256 for open-end generation.\n"
     ]
    },
    {
     "name": "stdout",
     "output_type": "stream",
     "text": [
      "14 optimize entry of nanoparticle fertilizers into a plant -> Reduce the number of particles entering a plant 1592 0.4\n",
      "----------------------------------------\n"
     ]
    },
    {
     "name": "stderr",
     "output_type": "stream",
     "text": [
      "Setting `pad_token_id` to `eos_token_id`:50256 for open-end generation.\n"
     ]
    },
    {
     "name": "stdout",
     "output_type": "stream",
     "text": [
      "15 optimize entry of nanoparticle fertilizers into a plant -> Reduce the particle size of nanoparticles 1616 0.4\n",
      "----------------------------------------\n"
     ]
    },
    {
     "name": "stderr",
     "output_type": "stream",
     "text": [
      "Setting `pad_token_id` to `eos_token_id`:50256 for open-end generation.\n"
     ]
    },
    {
     "name": "stdout",
     "output_type": "stream",
     "text": [
      "16 optimize entry of nanoparticle fertilizers into a plant -> Reduce the number of particles in a plant 1640 0.4\n",
      "----------------------------------------\n"
     ]
    },
    {
     "name": "stderr",
     "output_type": "stream",
     "text": [
      "Setting `pad_token_id` to `eos_token_id`:50256 for open-end generation.\n"
     ]
    },
    {
     "name": "stdout",
     "output_type": "stream",
     "text": [
      "17 optimize entry of nanoparticle fertilizers into a plant -> Reduce the number of particles entering a plant 1660 0.4\n",
      "----------------------------------------\n"
     ]
    },
    {
     "name": "stderr",
     "output_type": "stream",
     "text": [
      "Setting `pad_token_id` to `eos_token_id`:50256 for open-end generation.\n"
     ]
    },
    {
     "name": "stdout",
     "output_type": "stream",
     "text": [
      "18 optimize entry of nanoparticle fertilizers into a plant -> Improve the feel of a complicated motion or force 1680 0.4\n",
      "----------------------------------------\n"
     ]
    },
    {
     "name": "stderr",
     "output_type": "stream",
     "text": [
      "Setting `pad_token_id` to `eos_token_id`:50256 for open-end generation.\n"
     ]
    },
    {
     "name": "stdout",
     "output_type": "stream",
     "text": [
      "19 optimize entry of nanoparticle fertilizers into a plant -> Reduce the size of a plant's root system 1701 0.4\n",
      "----------------------------------------\n"
     ]
    },
    {
     "name": "stderr",
     "output_type": "stream",
     "text": [
      "Setting `pad_token_id` to `eos_token_id`:50256 for open-end generation.\n"
     ]
    },
    {
     "name": "stdout",
     "output_type": "stream",
     "text": [
      "20 optimize entry of nanoparticle fertilizers into a plant -> Prevent the use of a fertilizer for the purpose of fertilizing a plant 1722 0.4\n",
      "----------------------------------------\n"
     ]
    },
    {
     "name": "stderr",
     "output_type": "stream",
     "text": [
      "Setting `pad_token_id` to `eos_token_id`:50256 for open-end generation.\n"
     ]
    },
    {
     "name": "stdout",
     "output_type": "stream",
     "text": [
      "1 optimize entry of nanoparticle fertilizers into a plant -> Protect the object from the penetration of foreign particles 1747 0.5\n",
      "----------------------------------------\n"
     ]
    },
    {
     "name": "stderr",
     "output_type": "stream",
     "text": [
      "Setting `pad_token_id` to `eos_token_id`:50256 for open-end generation.\n"
     ]
    },
    {
     "name": "stdout",
     "output_type": "stream",
     "text": [
      "2 optimize entry of nanoparticle fertilizers into a plant -> Enable particles to flow in confined geometries 1776 0.5\n",
      "----------------------------------------\n"
     ]
    },
    {
     "name": "stderr",
     "output_type": "stream",
     "text": [
      "Setting `pad_token_id` to `eos_token_id`:50256 for open-end generation.\n"
     ]
    },
    {
     "name": "stdout",
     "output_type": "stream",
     "text": [
      "3 optimize entry of nanoparticle fertilizers into a plant -> Reduce the amount of fertilizer in a plant 1798 0.5\n",
      "----------------------------------------\n"
     ]
    },
    {
     "name": "stderr",
     "output_type": "stream",
     "text": [
      "Setting `pad_token_id` to `eos_token_id`:50256 for open-end generation.\n"
     ]
    },
    {
     "name": "stdout",
     "output_type": "stream",
     "text": [
      "4 optimize entry of nanoparticle fertilizers into a plant -> Improve the efficiency of a fertilizer application 1817 0.5\n",
      "----------------------------------------\n"
     ]
    },
    {
     "name": "stderr",
     "output_type": "stream",
     "text": [
      "Setting `pad_token_id` to `eos_token_id`:50256 for open-end generation.\n"
     ]
    },
    {
     "name": "stdout",
     "output_type": "stream",
     "text": [
      "5 optimize entry of nanoparticle fertilizers into a plant -> Protect object from penetration of foreign particles 1836 0.5\n",
      "----------------------------------------\n"
     ]
    },
    {
     "name": "stderr",
     "output_type": "stream",
     "text": [
      "Setting `pad_token_id` to `eos_token_id`:50256 for open-end generation.\n"
     ]
    },
    {
     "name": "stdout",
     "output_type": "stream",
     "text": [
      "6 optimize entry of nanoparticle fertilizers into a plant -> Increase the efficiency of nanoparticles 1853 0.5\n",
      "----------------------------------------\n"
     ]
    },
    {
     "name": "stderr",
     "output_type": "stream",
     "text": [
      "Setting `pad_token_id` to `eos_token_id`:50256 for open-end generation.\n"
     ]
    },
    {
     "name": "stdout",
     "output_type": "stream",
     "text": [
      "7 optimize entry of nanoparticle fertilizers into a plant -> Reduce the number of particles entering into a plant 1870 0.5\n",
      "----------------------------------------\n"
     ]
    },
    {
     "name": "stderr",
     "output_type": "stream",
     "text": [
      "Setting `pad_token_id` to `eos_token_id`:50256 for open-end generation.\n"
     ]
    },
    {
     "name": "stdout",
     "output_type": "stream",
     "text": [
      "8 optimize entry of nanoparticle fertilizers into a plant -> Protect object from the penetration of foreign substances 1888 0.5\n",
      "----------------------------------------\n"
     ]
    },
    {
     "name": "stderr",
     "output_type": "stream",
     "text": [
      "Setting `pad_token_id` to `eos_token_id`:50256 for open-end generation.\n"
     ]
    },
    {
     "name": "stdout",
     "output_type": "stream",
     "text": [
      "9 optimize entry of nanoparticle fertilizers into a plant -> Reduce food waste in vegetable gardens and other food-producing fields 1905 0.5\n",
      "----------------------------------------\n"
     ]
    },
    {
     "name": "stderr",
     "output_type": "stream",
     "text": [
      "Setting `pad_token_id` to `eos_token_id`:50256 for open-end generation.\n"
     ]
    },
    {
     "name": "stdout",
     "output_type": "stream",
     "text": [
      "10 optimize entry of nanoparticle fertilizers into a plant -> Improve the feel of a complicated motion or force 1923 0.5\n",
      "----------------------------------------\n"
     ]
    },
    {
     "name": "stderr",
     "output_type": "stream",
     "text": [
      "Setting `pad_token_id` to `eos_token_id`:50256 for open-end generation.\n"
     ]
    },
    {
     "name": "stdout",
     "output_type": "stream",
     "text": [
      "11 optimize entry of nanoparticle fertilizers into a plant -> Reduce the number of particles entering a plant 1940 0.5\n",
      "----------------------------------------\n"
     ]
    },
    {
     "name": "stderr",
     "output_type": "stream",
     "text": [
      "Setting `pad_token_id` to `eos_token_id`:50256 for open-end generation.\n"
     ]
    },
    {
     "name": "stdout",
     "output_type": "stream",
     "text": [
      "12 optimize entry of nanoparticle fertilizers into a plant -> Improve the efficiency of a plant's electric power 1957 0.5\n",
      "----------------------------------------\n"
     ]
    },
    {
     "name": "stderr",
     "output_type": "stream",
     "text": [
      "Setting `pad_token_id` to `eos_token_id`:50256 for open-end generation.\n"
     ]
    },
    {
     "name": "stdout",
     "output_type": "stream",
     "text": [
      "13 optimize entry of nanoparticle fertilizers into a plant -> Protect object from the penetration of foreign substances 1975 0.5\n",
      "----------------------------------------\n"
     ]
    },
    {
     "name": "stderr",
     "output_type": "stream",
     "text": [
      "Setting `pad_token_id` to `eos_token_id`:50256 for open-end generation.\n"
     ]
    },
    {
     "name": "stdout",
     "output_type": "stream",
     "text": [
      "14 optimize entry of nanoparticle fertilizers into a plant -> Improve the taste of food and drink 1992 0.5\n",
      "----------------------------------------\n"
     ]
    },
    {
     "name": "stderr",
     "output_type": "stream",
     "text": [
      "Setting `pad_token_id` to `eos_token_id`:50256 for open-end generation.\n"
     ]
    },
    {
     "name": "stdout",
     "output_type": "stream",
     "text": [
      "15 optimize entry of nanoparticle fertilizers into a plant -> Reduce the surface area of a plant 2010 0.5\n",
      "----------------------------------------\n"
     ]
    },
    {
     "name": "stderr",
     "output_type": "stream",
     "text": [
      "Setting `pad_token_id` to `eos_token_id`:50256 for open-end generation.\n"
     ]
    },
    {
     "name": "stdout",
     "output_type": "stream",
     "text": [
      "16 optimize entry of nanoparticle fertilizers into a plant -> Improve the efficiency of a plant 2027 0.5\n",
      "----------------------------------------\n"
     ]
    },
    {
     "name": "stderr",
     "output_type": "stream",
     "text": [
      "Setting `pad_token_id` to `eos_token_id`:50256 for open-end generation.\n"
     ]
    },
    {
     "name": "stdout",
     "output_type": "stream",
     "text": [
      "17 optimize entry of nanoparticle fertilizers into a plant -> Reduce size of a plant by decreasing the size of the particles 2046 0.5\n",
      "----------------------------------------\n"
     ]
    },
    {
     "name": "stderr",
     "output_type": "stream",
     "text": [
      "Setting `pad_token_id` to `eos_token_id`:50256 for open-end generation.\n"
     ]
    },
    {
     "name": "stdout",
     "output_type": "stream",
     "text": [
      "18 optimize entry of nanoparticle fertilizers into a plant -> optimize entry of nanoparticle fertilizers into a plant 2067 0.5\n",
      "----------------------------------------\n"
     ]
    },
    {
     "name": "stderr",
     "output_type": "stream",
     "text": [
      "Setting `pad_token_id` to `eos_token_id`:50256 for open-end generation.\n"
     ]
    },
    {
     "name": "stdout",
     "output_type": "stream",
     "text": [
      "19 optimize entry of nanoparticle fertilizers into a plant -> Improve the appearance of a plant's structure 2085 0.5\n",
      "----------------------------------------\n"
     ]
    },
    {
     "name": "stderr",
     "output_type": "stream",
     "text": [
      "Setting `pad_token_id` to `eos_token_id`:50256 for open-end generation.\n"
     ]
    },
    {
     "name": "stdout",
     "output_type": "stream",
     "text": [
      "20 optimize entry of nanoparticle fertilizers into a plant -> Prevent the entry of nanoparticles into plants 2103 0.5\n",
      "----------------------------------------\n"
     ]
    },
    {
     "name": "stderr",
     "output_type": "stream",
     "text": [
      "Setting `pad_token_id` to `eos_token_id`:50256 for open-end generation.\n"
     ]
    },
    {
     "name": "stdout",
     "output_type": "stream",
     "text": [
      "1 optimize entry of nanoparticle fertilizers into a plant -> improve the look of a chemical process in a biological system 2120 0.6\n",
      "----------------------------------------\n"
     ]
    },
    {
     "name": "stderr",
     "output_type": "stream",
     "text": [
      "Setting `pad_token_id` to `eos_token_id`:50256 for open-end generation.\n"
     ]
    },
    {
     "name": "stdout",
     "output_type": "stream",
     "text": [
      "2 optimize entry of nanoparticle fertilizers into a plant -> Reduce the number of particles entering the plant 2137 0.6\n",
      "----------------------------------------\n"
     ]
    },
    {
     "name": "stderr",
     "output_type": "stream",
     "text": [
      "Setting `pad_token_id` to `eos_token_id`:50256 for open-end generation.\n"
     ]
    },
    {
     "name": "stdout",
     "output_type": "stream",
     "text": [
      "3 optimize entry of nanoparticle fertilizers into a plant -> Improve the feel of a complex motion or force 2154 0.6\n",
      "----------------------------------------\n"
     ]
    },
    {
     "name": "stderr",
     "output_type": "stream",
     "text": [
      "Setting `pad_token_id` to `eos_token_id`:50256 for open-end generation.\n"
     ]
    },
    {
     "name": "stdout",
     "output_type": "stream",
     "text": [
      "4 optimize entry of nanoparticle fertilizers into a plant -> Prevent plant from getting into contact with foreign substances 2172 0.6\n",
      "----------------------------------------\n"
     ]
    },
    {
     "name": "stderr",
     "output_type": "stream",
     "text": [
      "Setting `pad_token_id` to `eos_token_id`:50256 for open-end generation.\n"
     ]
    },
    {
     "name": "stdout",
     "output_type": "stream",
     "text": [
      "5 optimize entry of nanoparticle fertilizers into a plant -> Prevent the entry of foreign particles 2189 0.6\n",
      "----------------------------------------\n"
     ]
    },
    {
     "name": "stderr",
     "output_type": "stream",
     "text": [
      "Setting `pad_token_id` to `eos_token_id`:50256 for open-end generation.\n"
     ]
    },
    {
     "name": "stdout",
     "output_type": "stream",
     "text": [
      "6 optimize entry of nanoparticle fertilizers into a plant -> Reduce the number of particles entering into a plant 2207 0.6\n",
      "----------------------------------------\n"
     ]
    },
    {
     "name": "stderr",
     "output_type": "stream",
     "text": [
      "Setting `pad_token_id` to `eos_token_id`:50256 for open-end generation.\n"
     ]
    },
    {
     "name": "stdout",
     "output_type": "stream",
     "text": [
      "7 optimize entry of nanoparticle fertilizers into a plant -> Increase the energy efficiency of plants 2224 0.6\n",
      "----------------------------------------\n"
     ]
    },
    {
     "name": "stderr",
     "output_type": "stream",
     "text": [
      "Setting `pad_token_id` to `eos_token_id`:50256 for open-end generation.\n"
     ]
    },
    {
     "name": "stdout",
     "output_type": "stream",
     "text": [
      "8 optimize entry of nanoparticle fertilizers into a plant -> Prevent water vapor from penetrating into a plant 2241 0.6\n",
      "----------------------------------------\n"
     ]
    },
    {
     "name": "stderr",
     "output_type": "stream",
     "text": [
      "Setting `pad_token_id` to `eos_token_id`:50256 for open-end generation.\n"
     ]
    },
    {
     "name": "stdout",
     "output_type": "stream",
     "text": [
      "9 optimize entry of nanoparticle fertilizers into a plant -> Prevent insects from getting into contact with foreign substances 2258 0.6\n",
      "----------------------------------------\n"
     ]
    },
    {
     "name": "stderr",
     "output_type": "stream",
     "text": [
      "Setting `pad_token_id` to `eos_token_id`:50256 for open-end generation.\n"
     ]
    },
    {
     "name": "stdout",
     "output_type": "stream",
     "text": [
      "10 optimize entry of nanoparticle fertilizers into a plant -> Reduce the cost of fertilizer in the field 2275 0.6\n",
      "----------------------------------------\n"
     ]
    },
    {
     "name": "stderr",
     "output_type": "stream",
     "text": [
      "Setting `pad_token_id` to `eos_token_id`:50256 for open-end generation.\n"
     ]
    },
    {
     "name": "stdout",
     "output_type": "stream",
     "text": [
      "11 optimize entry of nanoparticle fertilizers into a plant -> Improve the efficiency of a plant's fuel supply 2292 0.6\n",
      "----------------------------------------\n"
     ]
    },
    {
     "name": "stderr",
     "output_type": "stream",
     "text": [
      "Setting `pad_token_id` to `eos_token_id`:50256 for open-end generation.\n"
     ]
    },
    {
     "name": "stdout",
     "output_type": "stream",
     "text": [
      "12 optimize entry of nanoparticle fertilizers into a plant -> reduce the amount of fertilizer in the field 2310 0.6\n",
      "----------------------------------------\n"
     ]
    },
    {
     "name": "stderr",
     "output_type": "stream",
     "text": [
      "Setting `pad_token_id` to `eos_token_id`:50256 for open-end generation.\n"
     ]
    },
    {
     "name": "stdout",
     "output_type": "stream",
     "text": [
      "13 optimize entry of nanoparticle fertilizers into a plant -> Inject fertilizers into a plant 2327 0.6\n",
      "----------------------------------------\n"
     ]
    },
    {
     "name": "stderr",
     "output_type": "stream",
     "text": [
      "Setting `pad_token_id` to `eos_token_id`:50256 for open-end generation.\n"
     ]
    },
    {
     "name": "stdout",
     "output_type": "stream",
     "text": [
      "14 optimize entry of nanoparticle fertilizers into a plant -> Reduce the amount of water entering a plant 2344 0.6\n",
      "----------------------------------------\n"
     ]
    },
    {
     "name": "stderr",
     "output_type": "stream",
     "text": [
      "Setting `pad_token_id` to `eos_token_id`:50256 for open-end generation.\n"
     ]
    },
    {
     "name": "stdout",
     "output_type": "stream",
     "text": [
      "15 optimize entry of nanoparticle fertilizers into a plant -> Prevent nanoparticle fertilizers from entering a plant 2361 0.6\n",
      "----------------------------------------\n"
     ]
    },
    {
     "name": "stderr",
     "output_type": "stream",
     "text": [
      "Setting `pad_token_id` to `eos_token_id`:50256 for open-end generation.\n"
     ]
    },
    {
     "name": "stdout",
     "output_type": "stream",
     "text": [
      "16 optimize entry of nanoparticle fertilizers into a plant -> Reduce the amount of particles entering the plant 2379 0.6\n",
      "----------------------------------------\n"
     ]
    },
    {
     "name": "stderr",
     "output_type": "stream",
     "text": [
      "Setting `pad_token_id` to `eos_token_id`:50256 for open-end generation.\n"
     ]
    },
    {
     "name": "stdout",
     "output_type": "stream",
     "text": [
      "17 optimize entry of nanoparticle fertilizers into a plant -> Prevent the use of nanoparticles in agricultural crops 2397 0.6\n",
      "----------------------------------------\n"
     ]
    },
    {
     "name": "stderr",
     "output_type": "stream",
     "text": [
      "Setting `pad_token_id` to `eos_token_id`:50256 for open-end generation.\n"
     ]
    },
    {
     "name": "stdout",
     "output_type": "stream",
     "text": [
      "18 optimize entry of nanoparticle fertilizers into a plant -> reduce the density of the particle in a container 2415 0.6\n",
      "----------------------------------------\n"
     ]
    },
    {
     "name": "stderr",
     "output_type": "stream",
     "text": [
      "Setting `pad_token_id` to `eos_token_id`:50256 for open-end generation.\n"
     ]
    },
    {
     "name": "stdout",
     "output_type": "stream",
     "text": [
      "19 optimize entry of nanoparticle fertilizers into a plant -> Reduce the size of a plant or a container 2433 0.6\n",
      "----------------------------------------\n"
     ]
    },
    {
     "name": "stderr",
     "output_type": "stream",
     "text": [
      "Setting `pad_token_id` to `eos_token_id`:50256 for open-end generation.\n"
     ]
    },
    {
     "name": "stdout",
     "output_type": "stream",
     "text": [
      "20 optimize entry of nanoparticle fertilizers into a plant -> Improve the feel of a complicated motion or force 2452 0.6\n",
      "----------------------------------------\n"
     ]
    },
    {
     "name": "stderr",
     "output_type": "stream",
     "text": [
      "Setting `pad_token_id` to `eos_token_id`:50256 for open-end generation.\n"
     ]
    },
    {
     "name": "stdout",
     "output_type": "stream",
     "text": [
      "1 optimize entry of nanoparticle fertilizers into a plant -> Start a device with an electronic control 2470 0.7\n",
      "----------------------------------------\n"
     ]
    },
    {
     "name": "stderr",
     "output_type": "stream",
     "text": [
      "Setting `pad_token_id` to `eos_token_id`:50256 for open-end generation.\n"
     ]
    },
    {
     "name": "stdout",
     "output_type": "stream",
     "text": [
      "2 optimize entry of nanoparticle fertilizers into a plant -> prevent bacteria from consuming foreign particles 2487 0.7\n",
      "----------------------------------------\n"
     ]
    },
    {
     "name": "stderr",
     "output_type": "stream",
     "text": [
      "Setting `pad_token_id` to `eos_token_id`:50256 for open-end generation.\n"
     ]
    },
    {
     "name": "stdout",
     "output_type": "stream",
     "text": [
      "3 optimize entry of nanoparticle fertilizers into a plant -> Reduce the number of particles entering into a plant 3883 0.7\n",
      "----------------------------------------\n"
     ]
    },
    {
     "name": "stderr",
     "output_type": "stream",
     "text": [
      "Setting `pad_token_id` to `eos_token_id`:50256 for open-end generation.\n"
     ]
    },
    {
     "name": "stdout",
     "output_type": "stream",
     "text": [
      "4 optimize entry of nanoparticle fertilizers into a plant -> Make a container of water resistant to insects 3903 0.7\n",
      "----------------------------------------\n"
     ]
    },
    {
     "name": "stderr",
     "output_type": "stream",
     "text": [
      "Setting `pad_token_id` to `eos_token_id`:50256 for open-end generation.\n"
     ]
    },
    {
     "name": "stdout",
     "output_type": "stream",
     "text": [
      "5 optimize entry of nanoparticle fertilizers into a plant -> Improve the visual perception of the plant 3921 0.7\n",
      "----------------------------------------\n"
     ]
    },
    {
     "name": "stderr",
     "output_type": "stream",
     "text": [
      "Setting `pad_token_id` to `eos_token_id`:50256 for open-end generation.\n"
     ]
    },
    {
     "name": "stdout",
     "output_type": "stream",
     "text": [
      "6 optimize entry of nanoparticle fertilizers into a plant -> Improve the efficiency of the nanoparticle fertilizer-deteriorate the need for nutrient-dissolved particles 3940 0.7\n",
      "----------------------------------------\n"
     ]
    },
    {
     "name": "stderr",
     "output_type": "stream",
     "text": [
      "Setting `pad_token_id` to `eos_token_id`:50256 for open-end generation.\n"
     ]
    },
    {
     "name": "stdout",
     "output_type": "stream",
     "text": [
      "7 optimize entry of nanoparticle fertilizers into a plant -> Reduce the concentration of particles that have entered the plant 3958 0.7\n",
      "----------------------------------------\n"
     ]
    },
    {
     "name": "stderr",
     "output_type": "stream",
     "text": [
      "Setting `pad_token_id` to `eos_token_id`:50256 for open-end generation.\n"
     ]
    },
    {
     "name": "stdout",
     "output_type": "stream",
     "text": [
      "8 optimize entry of nanoparticle fertilizers into a plant -> Reduce the amount of fluid entering the plant 3975 0.7\n",
      "----------------------------------------\n"
     ]
    },
    {
     "name": "stderr",
     "output_type": "stream",
     "text": [
      "Setting `pad_token_id` to `eos_token_id`:50256 for open-end generation.\n"
     ]
    },
    {
     "name": "stdout",
     "output_type": "stream",
     "text": [
      "9 optimize entry of nanoparticle fertilizers into a plant -> Reduce weight of a particle 3993 0.7\n",
      "----------------------------------------\n"
     ]
    },
    {
     "name": "stderr",
     "output_type": "stream",
     "text": [
      "Setting `pad_token_id` to `eos_token_id`:50256 for open-end generation.\n"
     ]
    },
    {
     "name": "stdout",
     "output_type": "stream",
     "text": [
      "10 optimize entry of nanoparticle fertilizers into a plant -> reduce the number of particles in a plant 4010 0.7\n",
      "----------------------------------------\n"
     ]
    },
    {
     "name": "stderr",
     "output_type": "stream",
     "text": [
      "Setting `pad_token_id` to `eos_token_id`:50256 for open-end generation.\n"
     ]
    },
    {
     "name": "stdout",
     "output_type": "stream",
     "text": [
      "11 optimize entry of nanoparticle fertilizers into a plant -> Reduce waste by removing particles by mechanical force 4027 0.7\n",
      "----------------------------------------\n"
     ]
    },
    {
     "name": "stderr",
     "output_type": "stream",
     "text": [
      "Setting `pad_token_id` to `eos_token_id`:50256 for open-end generation.\n"
     ]
    },
    {
     "name": "stdout",
     "output_type": "stream",
     "text": [
      "12 optimize entry of nanoparticle fertilizers into a plant -> Reduce the cost of fertilizers by decreasing the number of particles 4044 0.7\n",
      "----------------------------------------\n"
     ]
    },
    {
     "name": "stderr",
     "output_type": "stream",
     "text": [
      "Setting `pad_token_id` to `eos_token_id`:50256 for open-end generation.\n"
     ]
    },
    {
     "name": "stdout",
     "output_type": "stream",
     "text": [
      "13 optimize entry of nanoparticle fertilizers into a plant -> Reduce the efficiency of surface coatings 4061 0.7\n",
      "----------------------------------------\n"
     ]
    },
    {
     "name": "stderr",
     "output_type": "stream",
     "text": [
      "Setting `pad_token_id` to `eos_token_id`:50256 for open-end generation.\n"
     ]
    },
    {
     "name": "stdout",
     "output_type": "stream",
     "text": [
      "14 optimize entry of nanoparticle fertilizers into a plant -> Protect object from environmental risk 4078 0.7\n",
      "----------------------------------------\n"
     ]
    },
    {
     "name": "stderr",
     "output_type": "stream",
     "text": [
      "Setting `pad_token_id` to `eos_token_id`:50256 for open-end generation.\n"
     ]
    },
    {
     "name": "stdout",
     "output_type": "stream",
     "text": [
      "15 optimize entry of nanoparticle fertilizers into a plant -> Reduce particle size of nanoparticles in a soil 4095 0.7\n",
      "----------------------------------------\n"
     ]
    },
    {
     "name": "stderr",
     "output_type": "stream",
     "text": [
      "Setting `pad_token_id` to `eos_token_id`:50256 for open-end generation.\n"
     ]
    },
    {
     "name": "stdout",
     "output_type": "stream",
     "text": [
      "16 optimize entry of nanoparticle fertilizers into a plant -> Improve the efficiency of the plant's response to pollutants 4112 0.7\n",
      "----------------------------------------\n"
     ]
    },
    {
     "name": "stderr",
     "output_type": "stream",
     "text": [
      "Setting `pad_token_id` to `eos_token_id`:50256 for open-end generation.\n"
     ]
    },
    {
     "name": "stdout",
     "output_type": "stream",
     "text": [
      "17 optimize entry of nanoparticle fertilizers into a plant -> Make a plant out of the water of a lake 4131 0.7\n",
      "----------------------------------------\n"
     ]
    },
    {
     "name": "stderr",
     "output_type": "stream",
     "text": [
      "Setting `pad_token_id` to `eos_token_id`:50256 for open-end generation.\n"
     ]
    },
    {
     "name": "stdout",
     "output_type": "stream",
     "text": [
      "18 optimize entry of nanoparticle fertilizers into a plant -> Improve contact between a fertiliser and a plant 4151 0.7\n",
      "----------------------------------------\n"
     ]
    },
    {
     "name": "stderr",
     "output_type": "stream",
     "text": [
      "Setting `pad_token_id` to `eos_token_id`:50256 for open-end generation.\n"
     ]
    },
    {
     "name": "stdout",
     "output_type": "stream",
     "text": [
      "19 optimize entry of nanoparticle fertilizers into a plant -> create a small hole in an object without causing an unwanted noise 4174 0.7\n",
      "----------------------------------------\n"
     ]
    },
    {
     "name": "stderr",
     "output_type": "stream",
     "text": [
      "Setting `pad_token_id` to `eos_token_id`:50256 for open-end generation.\n"
     ]
    },
    {
     "name": "stdout",
     "output_type": "stream",
     "text": [
      "20 optimize entry of nanoparticle fertilizers into a plant -> Reduce the volume of a field without causing problems 4192 0.7\n",
      "----------------------------------------\n"
     ]
    },
    {
     "name": "stderr",
     "output_type": "stream",
     "text": [
      "Setting `pad_token_id` to `eos_token_id`:50256 for open-end generation.\n"
     ]
    },
    {
     "name": "stdout",
     "output_type": "stream",
     "text": [
      "1 optimize entry of nanoparticle fertilizers into a plant -> Reduce the number of particles penetrating to the surface 4209 0.8\n",
      "----------------------------------------\n"
     ]
    },
    {
     "name": "stderr",
     "output_type": "stream",
     "text": [
      "Setting `pad_token_id` to `eos_token_id`:50256 for open-end generation.\n"
     ]
    },
    {
     "name": "stdout",
     "output_type": "stream",
     "text": [
      "2 optimize entry of nanoparticle fertilizers into a plant -> Improve the soil quality and water quality 4226 0.8\n",
      "----------------------------------------\n"
     ]
    },
    {
     "name": "stderr",
     "output_type": "stream",
     "text": [
      "Setting `pad_token_id` to `eos_token_id`:50256 for open-end generation.\n"
     ]
    },
    {
     "name": "stdout",
     "output_type": "stream",
     "text": [
      "3 optimize entry of nanoparticle fertilizers into a plant -> Reduce surface roughness in a process 4243 0.8\n",
      "----------------------------------------\n"
     ]
    },
    {
     "name": "stderr",
     "output_type": "stream",
     "text": [
      "Setting `pad_token_id` to `eos_token_id`:50256 for open-end generation.\n"
     ]
    },
    {
     "name": "stdout",
     "output_type": "stream",
     "text": [
      "4 optimize entry of nanoparticle fertilizers into a plant -> enhance the resistance of the plant against water 4260 0.8\n",
      "----------------------------------------\n"
     ]
    },
    {
     "name": "stderr",
     "output_type": "stream",
     "text": [
      "Setting `pad_token_id` to `eos_token_id`:50256 for open-end generation.\n"
     ]
    },
    {
     "name": "stdout",
     "output_type": "stream",
     "text": [
      "5 optimize entry of nanoparticle fertilizers into a plant -> Prevent the application of particle fertilizers 4277 0.8\n",
      "----------------------------------------\n"
     ]
    },
    {
     "name": "stderr",
     "output_type": "stream",
     "text": [
      "Setting `pad_token_id` to `eos_token_id`:50256 for open-end generation.\n"
     ]
    },
    {
     "name": "stdout",
     "output_type": "stream",
     "text": [
      "6 optimize entry of nanoparticle fertilizers into a plant -> Optimize absorption of impurities in plants 4295 0.8\n",
      "----------------------------------------\n"
     ]
    },
    {
     "name": "stderr",
     "output_type": "stream",
     "text": [
      "Setting `pad_token_id` to `eos_token_id`:50256 for open-end generation.\n"
     ]
    },
    {
     "name": "stdout",
     "output_type": "stream",
     "text": [
      "7 optimize entry of nanoparticle fertilizers into a plant -> improve the feel of a complicated motion or force 4311 0.8\n",
      "----------------------------------------\n"
     ]
    },
    {
     "name": "stderr",
     "output_type": "stream",
     "text": [
      "Setting `pad_token_id` to `eos_token_id`:50256 for open-end generation.\n"
     ]
    },
    {
     "name": "stdout",
     "output_type": "stream",
     "text": [
      "8 optimize entry of nanoparticle fertilizers into a plant -> Reduce the size of a container 4329 0.8\n",
      "----------------------------------------\n"
     ]
    },
    {
     "name": "stderr",
     "output_type": "stream",
     "text": [
      "Setting `pad_token_id` to `eos_token_id`:50256 for open-end generation.\n"
     ]
    },
    {
     "name": "stdout",
     "output_type": "stream",
     "text": [
      "9 optimize entry of nanoparticle fertilizers into a plant -> Reduce the amount of particles entering the plant 4346 0.8\n",
      "----------------------------------------\n"
     ]
    },
    {
     "name": "stderr",
     "output_type": "stream",
     "text": [
      "Setting `pad_token_id` to `eos_token_id`:50256 for open-end generation.\n"
     ]
    },
    {
     "name": "stdout",
     "output_type": "stream",
     "text": [
      "10 optimize entry of nanoparticle fertilizers into a plant -> Reduce the amount of energy in plants by using particles 4363 0.8\n",
      "----------------------------------------\n"
     ]
    },
    {
     "name": "stderr",
     "output_type": "stream",
     "text": [
      "Setting `pad_token_id` to `eos_token_id`:50256 for open-end generation.\n"
     ]
    },
    {
     "name": "stdout",
     "output_type": "stream",
     "text": [
      "11 optimize entry of nanoparticle fertilizers into a plant -> Improve physical stability by decreasing the surface area of an object 4381 0.8\n",
      "----------------------------------------\n"
     ]
    },
    {
     "name": "stderr",
     "output_type": "stream",
     "text": [
      "Setting `pad_token_id` to `eos_token_id`:50256 for open-end generation.\n"
     ]
    },
    {
     "name": "stdout",
     "output_type": "stream",
     "text": [
      "12 optimize entry of nanoparticle fertilizers into a plant -> Optimize entry of foreign particles into a plant 4398 0.8\n",
      "----------------------------------------\n"
     ]
    },
    {
     "name": "stderr",
     "output_type": "stream",
     "text": [
      "Setting `pad_token_id` to `eos_token_id`:50256 for open-end generation.\n"
     ]
    },
    {
     "name": "stdout",
     "output_type": "stream",
     "text": [
      "13 optimize entry of nanoparticle fertilizers into a plant -> Prevent object from getting into contact with hostile substances 4415 0.8\n",
      "----------------------------------------\n"
     ]
    },
    {
     "name": "stderr",
     "output_type": "stream",
     "text": [
      "Setting `pad_token_id` to `eos_token_id`:50256 for open-end generation.\n"
     ]
    },
    {
     "name": "stdout",
     "output_type": "stream",
     "text": [
      "14 optimize entry of nanoparticle fertilizers into a plant -> Improve the feel of a complicated motion or force 4433 0.8\n",
      "----------------------------------------\n"
     ]
    },
    {
     "name": "stderr",
     "output_type": "stream",
     "text": [
      "Setting `pad_token_id` to `eos_token_id`:50256 for open-end generation.\n"
     ]
    },
    {
     "name": "stdout",
     "output_type": "stream",
     "text": [
      "15 optimize entry of nanoparticle fertilizers into a plant -> Achieve a robust appearance of the plant 4450 0.8\n",
      "----------------------------------------\n"
     ]
    },
    {
     "name": "stderr",
     "output_type": "stream",
     "text": [
      "Setting `pad_token_id` to `eos_token_id`:50256 for open-end generation.\n"
     ]
    },
    {
     "name": "stdout",
     "output_type": "stream",
     "text": [
      "16 optimize entry of nanoparticle fertilizers into a plant -> Reduce root canal wall thickness 4467 0.8\n",
      "----------------------------------------\n"
     ]
    },
    {
     "name": "stderr",
     "output_type": "stream",
     "text": [
      "Setting `pad_token_id` to `eos_token_id`:50256 for open-end generation.\n"
     ]
    },
    {
     "name": "stdout",
     "output_type": "stream",
     "text": [
      "17 optimize entry of nanoparticle fertilizers into a plant -> of 1.1 4484 0.8\n",
      "----------------------------------------\n"
     ]
    },
    {
     "name": "stderr",
     "output_type": "stream",
     "text": [
      "Setting `pad_token_id` to `eos_token_id`:50256 for open-end generation.\n"
     ]
    },
    {
     "name": "stdout",
     "output_type": "stream",
     "text": [
      "18 optimize entry of nanoparticle fertilizers into a plant -> Improve the efficiency of the plant 4501 0.8\n",
      "----------------------------------------\n"
     ]
    },
    {
     "name": "stderr",
     "output_type": "stream",
     "text": [
      "Setting `pad_token_id` to `eos_token_id`:50256 for open-end generation.\n"
     ]
    },
    {
     "name": "stdout",
     "output_type": "stream",
     "text": [
      "19 optimize entry of nanoparticle fertilizers into a plant -> optimize entry of nanoparticle fertilizers into a plant 4518 0.8\n",
      "----------------------------------------\n"
     ]
    },
    {
     "name": "stderr",
     "output_type": "stream",
     "text": [
      "Setting `pad_token_id` to `eos_token_id`:50256 for open-end generation.\n"
     ]
    },
    {
     "name": "stdout",
     "output_type": "stream",
     "text": [
      "20 optimize entry of nanoparticle fertilizers into a plant -> Prevent the entry of foreign particles into a plant 4536 0.8\n",
      "----------------------------------------\n"
     ]
    },
    {
     "name": "stderr",
     "output_type": "stream",
     "text": [
      "Setting `pad_token_id` to `eos_token_id`:50256 for open-end generation.\n"
     ]
    },
    {
     "name": "stdout",
     "output_type": "stream",
     "text": [
      "1 optimize entry of nanoparticle fertilizers into a plant -> Improve performance of electrochemical microchip 4553 0.9\n",
      "----------------------------------------\n"
     ]
    },
    {
     "name": "stderr",
     "output_type": "stream",
     "text": [
      "Setting `pad_token_id` to `eos_token_id`:50256 for open-end generation.\n"
     ]
    },
    {
     "name": "stdout",
     "output_type": "stream",
     "text": [
      "2 optimize entry of nanoparticle fertilizers into a plant -> Improve the taste taste buds 4571 0.9\n",
      "----------------------------------------\n"
     ]
    },
    {
     "name": "stderr",
     "output_type": "stream",
     "text": [
      "Setting `pad_token_id` to `eos_token_id`:50256 for open-end generation.\n"
     ]
    },
    {
     "name": "stdout",
     "output_type": "stream",
     "text": [
      "3 optimize entry of nanoparticle fertilizers into a plant -> Optimize the uptake and uptake efficiency of nanoparticles 4588 0.9\n",
      "----------------------------------------\n"
     ]
    },
    {
     "name": "stderr",
     "output_type": "stream",
     "text": [
      "Setting `pad_token_id` to `eos_token_id`:50256 for open-end generation.\n"
     ]
    },
    {
     "name": "stdout",
     "output_type": "stream",
     "text": [
      "4 optimize entry of nanoparticle fertilizers into a plant -> prevent nanoparticle fertilizers from entering the cell wall or tissue 4605 0.9\n",
      "----------------------------------------\n"
     ]
    },
    {
     "name": "stderr",
     "output_type": "stream",
     "text": [
      "Setting `pad_token_id` to `eos_token_id`:50256 for open-end generation.\n"
     ]
    },
    {
     "name": "stdout",
     "output_type": "stream",
     "text": [
      "5 optimize entry of nanoparticle fertilizers into a plant -> reduce the number of nanoparticles entering this plant 4617 0.9\n",
      "----------------------------------------\n"
     ]
    },
    {
     "name": "stderr",
     "output_type": "stream",
     "text": [
      "Setting `pad_token_id` to `eos_token_id`:50256 for open-end generation.\n"
     ]
    },
    {
     "name": "stdout",
     "output_type": "stream",
     "text": [
      "6 optimize entry of nanoparticle fertilizers into a plant -> Reduce particle concentration from cell culture 4634 0.9\n",
      "----------------------------------------\n"
     ]
    },
    {
     "name": "stderr",
     "output_type": "stream",
     "text": [
      "Setting `pad_token_id` to `eos_token_id`:50256 for open-end generation.\n"
     ]
    },
    {
     "name": "stdout",
     "output_type": "stream",
     "text": [
      "7 optimize entry of nanoparticle fertilizers into a plant -> Enable liquid to enter a complex plant without entering the plant 4651 0.9\n",
      "----------------------------------------\n"
     ]
    },
    {
     "name": "stderr",
     "output_type": "stream",
     "text": [
      "Setting `pad_token_id` to `eos_token_id`:50256 for open-end generation.\n"
     ]
    },
    {
     "name": "stdout",
     "output_type": "stream",
     "text": [
      "8 optimize entry of nanoparticle fertilizers into a plant -> Optimize the soil surface area to enhance root penetration 4668 0.9\n",
      "----------------------------------------\n"
     ]
    },
    {
     "name": "stderr",
     "output_type": "stream",
     "text": [
      "Setting `pad_token_id` to `eos_token_id`:50256 for open-end generation.\n"
     ]
    },
    {
     "name": "stdout",
     "output_type": "stream",
     "text": [
      "9 optimize entry of nanoparticle fertilizers into a plant -> Prevent the penetration of foreign particles into nanoparticles 4686 0.9\n",
      "----------------------------------------\n"
     ]
    },
    {
     "name": "stderr",
     "output_type": "stream",
     "text": [
      "Setting `pad_token_id` to `eos_token_id`:50256 for open-end generation.\n"
     ]
    },
    {
     "name": "stdout",
     "output_type": "stream",
     "text": [
      "10 optimize entry of nanoparticle fertilizers into a plant -> inhibit particle formation at low temperatures 4703 0.9\n",
      "----------------------------------------\n"
     ]
    },
    {
     "name": "stderr",
     "output_type": "stream",
     "text": [
      "Setting `pad_token_id` to `eos_token_id`:50256 for open-end generation.\n"
     ]
    },
    {
     "name": "stdout",
     "output_type": "stream",
     "text": [
      "11 optimize entry of nanoparticle fertilizers into a plant -> increase the rate of uptake of nutrients from the plant 4720 0.9\n",
      "----------------------------------------\n"
     ]
    },
    {
     "name": "stderr",
     "output_type": "stream",
     "text": [
      "Setting `pad_token_id` to `eos_token_id`:50256 for open-end generation.\n"
     ]
    },
    {
     "name": "stdout",
     "output_type": "stream",
     "text": [
      "12 optimize entry of nanoparticle fertilizers into a plant -> Prevent the entrance of oil on a plant's surface 4737 0.9\n",
      "----------------------------------------\n"
     ]
    },
    {
     "name": "stderr",
     "output_type": "stream",
     "text": [
      "Setting `pad_token_id` to `eos_token_id`:50256 for open-end generation.\n"
     ]
    },
    {
     "name": "stdout",
     "output_type": "stream",
     "text": [
      "13 optimize entry of nanoparticle fertilizers into a plant -> Remove unwanted particles from food by mechanical force 4754 0.9\n",
      "----------------------------------------\n"
     ]
    },
    {
     "name": "stderr",
     "output_type": "stream",
     "text": [
      "Setting `pad_token_id` to `eos_token_id`:50256 for open-end generation.\n"
     ]
    },
    {
     "name": "stdout",
     "output_type": "stream",
     "text": [
      "14 optimize entry of nanoparticle fertilizers into a plant -> Apply a pressure-driven nozzle on the stem and produce surface structures 4772 0.9\n",
      "----------------------------------------\n"
     ]
    },
    {
     "name": "stderr",
     "output_type": "stream",
     "text": [
      "Setting `pad_token_id` to `eos_token_id`:50256 for open-end generation.\n"
     ]
    },
    {
     "name": "stdout",
     "output_type": "stream",
     "text": [
      "15 optimize entry of nanoparticle fertilizers into a plant -> optimize entry of nanoparticle fertilizers into a plant 4789 0.9\n",
      "----------------------------------------\n"
     ]
    },
    {
     "name": "stderr",
     "output_type": "stream",
     "text": [
      "Setting `pad_token_id` to `eos_token_id`:50256 for open-end generation.\n"
     ]
    },
    {
     "name": "stdout",
     "output_type": "stream",
     "text": [
      "16 optimize entry of nanoparticle fertilizers into a plant -> reduce user's efficiency with power 4837 0.9\n",
      "----------------------------------------\n"
     ]
    },
    {
     "name": "stderr",
     "output_type": "stream",
     "text": [
      "Setting `pad_token_id` to `eos_token_id`:50256 for open-end generation.\n"
     ]
    },
    {
     "name": "stdout",
     "output_type": "stream",
     "text": [
      "17 optimize entry of nanoparticle fertilizers into a plant -> decrease the volume of a liquid container and eliminate water 4854 0.9\n",
      "----------------------------------------\n"
     ]
    },
    {
     "name": "stderr",
     "output_type": "stream",
     "text": [
      "Setting `pad_token_id` to `eos_token_id`:50256 for open-end generation.\n"
     ]
    },
    {
     "name": "stdout",
     "output_type": "stream",
     "text": [
      "18 optimize entry of nanoparticle fertilizers into a plant -> Reduce the size of a protein 4871 0.9\n",
      "----------------------------------------\n"
     ]
    },
    {
     "name": "stderr",
     "output_type": "stream",
     "text": [
      "Setting `pad_token_id` to `eos_token_id`:50256 for open-end generation.\n"
     ]
    },
    {
     "name": "stdout",
     "output_type": "stream",
     "text": [
      "19 optimize entry of nanoparticle fertilizers into a plant -> Make a device with multiple sizes 4889 0.9\n",
      "----------------------------------------\n",
      "20 optimize entry of nanoparticle fertilizers into a plant -> Protect object from sun glare 4906 0.9\n",
      "----------------------------------------\n",
      "Total time taken is 4921\n"
     ]
    }
   ],
   "source": [
    "df_125m = generate_output(generator_gpt_neo_125m,20,prompt,20,0.1,'gpt_neo_125m',1)\n",
    "df_125m.to_csv(f'../Csv/gpt_neo125m_{user_input}.csv')"
   ]
  },
  {
   "cell_type": "code",
   "execution_count": null,
   "metadata": {},
   "outputs": [],
   "source": []
  },
  {
   "cell_type": "code",
   "execution_count": null,
   "metadata": {},
   "outputs": [],
   "source": [
    "\n",
    "# # Generate a random string\n",
    "# # with 32 characters.\n",
    "\n",
    "\n",
    "# print (random)"
   ]
  },
  {
   "cell_type": "code",
   "execution_count": null,
   "metadata": {},
   "outputs": [],
   "source": []
  },
  {
   "cell_type": "code",
   "execution_count": null,
   "metadata": {},
   "outputs": [],
   "source": [
    "# df = generate_blank_df(cols)"
   ]
  },
  {
   "cell_type": "code",
   "execution_count": 9,
   "metadata": {},
   "outputs": [],
   "source": []
  },
  {
   "cell_type": "code",
   "execution_count": 10,
   "metadata": {},
   "outputs": [],
   "source": []
  },
  {
   "cell_type": "code",
   "execution_count": null,
   "metadata": {},
   "outputs": [],
   "source": []
  },
  {
   "cell_type": "code",
   "execution_count": 11,
   "metadata": {},
   "outputs": [],
   "source": []
  },
  {
   "cell_type": "code",
   "execution_count": null,
   "metadata": {},
   "outputs": [],
   "source": [
    "# user_input_arrs = [\"identify soldiers in old civil war photographs\",\n",
    "# \"identify points of failure in a nuclear power plant procedure\"]"
   ]
  },
  {
   "cell_type": "code",
   "execution_count": null,
   "metadata": {},
   "outputs": [
    {
     "name": "stderr",
     "output_type": "stream",
     "text": [
      "Setting `pad_token_id` to `eos_token_id`:50256 for open-end generation.\n",
      "Setting `pad_token_id` to `eos_token_id`:50256 for open-end generation.\n"
     ]
    },
    {
     "name": "stdout",
     "output_type": "stream",
     "text": [
      "Given a problem statement, generate an abstracted reformulation of that problem statement\n",
      "\n",
      "    Problem statement: Shield baby from the sun\n",
      "    Abstracted reformulation: Protect vulnerable object from radiation\n",
      "\n",
      "    Problem statement: Prevent feet from getting wet\n",
      "    Abstracted reformulation: Stop object from getting into contact with unwanted substances\n",
      "\n",
      "    Problem statement: Hold soap bars of multiple sizes\n",
      "    Abstracted reformulation: Contain objects of different volumes\n",
      "\n",
      "    Problem statement: Enable a broom to clean in hard to reach places\n",
      "    Abstracted reformulation: Extend the physical reach of a tool\n",
      "\n",
      "    Problem statement: drill into teeth quietly\n",
      "    Abstracted reformulation: create a hole in an object without causing an unwanted noise\n",
      "\n",
      "    Problem statement: make house out of cooked spaghetti\n",
      "    Abstracted reformulation: create strong, rigid structure out of soft materials\n",
      "\n",
      "    Problem statement: make house out of cooked spaghetti\n",
      "    Abstracted reformulation: create structure from elastic elements\n",
      "\n",
      "    Problem statement:  prevent bicycle tire flats\n",
      "    Abstracted reformulation: protect object from the penetration of foreign objects\n",
      "\n",
      "    Problem statement: prevent blood clotting in stents\n",
      "    Abstracted reformulation: prevent clogging of cylindrical tubes\n",
      "\n",
      "    Problem statement: transfer heat in semiconductors at nanoscale\n",
      "    Abstracted reformulation: Enable particles to flow in confined geometries\n",
      "\n",
      "    Problem statement:reduce seasickness in virtual reality systems\n",
      "    Abstracted reformulation: reduce user's dependency on information cues\n",
      "\n",
      "    Problem statement:reduce seasickness in virtual reality systems\n",
      "    Abstracted reformulation: Achieve robust orientation stability\n",
      "\n",
      "    Problem statement:reduce seasickness in virtual reality systems\n",
      "    Abstracted reformulation: improve the feel of a complicated motion or force\n",
      "\n",
      "    Problem statement:wash clothes without water\n",
      "    Abstracted reformulation: Remove dirt from objects by mechanical force\n",
      "\n",
      "    Problem statement:charge cell phones on the go\n",
      "    Abstracted reformulation: Charge a battery source from a remote energy-source\n",
      "\n",
      "    Problem statement:charge cell phones on the go\n",
      "    Abstracted reformulation: Supply power to electrical devices in the field\n",
      "\n",
      "    Problem statement:protect feet from getting wet\n",
      "    Abstracted reformulation: stop entry of foreign particles\n",
      "\n",
      "    Problem statement:protect feet from getting wet\n",
      "    Abstracted reformulation: Mechanically stop liquid from penetrating a space\n",
      "\n",
      "    Problem statement:shield baby from the sun\n",
      "    Abstracted reformulation: Protect vulnerable object from radiation\n",
      "\n",
      "    Problem statement:Prevent feet from getting wet\n",
      "    Abstracted reformulation: Stop object from getting into contact with unwanted substances\n",
      "\n",
      "    Problem statement: identify soldiers in old civil war photographs\n",
      "                                                                                                                                                                                                                                                                                                                                                                                     \n",
      "1 identify soldiers in old civil war photographs ->  0 0.1\n",
      "----------------------------------------\n"
     ]
    },
    {
     "name": "stderr",
     "output_type": "stream",
     "text": [
      "Setting `pad_token_id` to `eos_token_id`:50256 for open-end generation.\n"
     ]
    },
    {
     "name": "stdout",
     "output_type": "stream",
     "text": [
      "Given a problem statement, generate an abstracted reformulation of that problem statement\n",
      "\n",
      "    Problem statement: Shield baby from the sun\n",
      "    Abstracted reformulation: Protect vulnerable object from radiation\n",
      "\n",
      "    Problem statement: Prevent feet from getting wet\n",
      "    Abstracted reformulation: Stop object from getting into contact with unwanted substances\n",
      "\n",
      "    Problem statement: Hold soap bars of multiple sizes\n",
      "    Abstracted reformulation: Contain objects of different volumes\n",
      "\n",
      "    Problem statement: Enable a broom to clean in hard to reach places\n",
      "    Abstracted reformulation: Extend the physical reach of a tool\n",
      "\n",
      "    Problem statement: drill into teeth quietly\n",
      "    Abstracted reformulation: create a hole in an object without causing an unwanted noise\n",
      "\n",
      "    Problem statement: make house out of cooked spaghetti\n",
      "    Abstracted reformulation: create strong, rigid structure out of soft materials\n",
      "\n",
      "    Problem statement: make house out of cooked spaghetti\n",
      "    Abstracted reformulation: create structure from elastic elements\n",
      "\n",
      "    Problem statement:  prevent bicycle tire flats\n",
      "    Abstracted reformulation: protect object from the penetration of foreign objects\n",
      "\n",
      "    Problem statement: prevent blood clotting in stents\n",
      "    Abstracted reformulation: prevent clogging of cylindrical tubes\n",
      "\n",
      "    Problem statement: transfer heat in semiconductors at nanoscale\n",
      "    Abstracted reformulation: Enable particles to flow in confined geometries\n",
      "\n",
      "    Problem statement:reduce seasickness in virtual reality systems\n",
      "    Abstracted reformulation: reduce user's dependency on information cues\n",
      "\n",
      "    Problem statement:reduce seasickness in virtual reality systems\n",
      "    Abstracted reformulation: Achieve robust orientation stability\n",
      "\n",
      "    Problem statement:reduce seasickness in virtual reality systems\n",
      "    Abstracted reformulation: improve the feel of a complicated motion or force\n",
      "\n",
      "    Problem statement:wash clothes without water\n",
      "    Abstracted reformulation: Remove dirt from objects by mechanical force\n",
      "\n",
      "    Problem statement:charge cell phones on the go\n",
      "    Abstracted reformulation: Charge a battery source from a remote energy-source\n",
      "\n",
      "    Problem statement:charge cell phones on the go\n",
      "    Abstracted reformulation: Supply power to electrical devices in the field\n",
      "\n",
      "    Problem statement:protect feet from getting wet\n",
      "    Abstracted reformulation: stop entry of foreign particles\n",
      "\n",
      "    Problem statement:protect feet from getting wet\n",
      "    Abstracted reformulation: Mechanically stop liquid from penetrating a space\n",
      "\n",
      "    Problem statement:shield baby from the sun\n",
      "    Abstracted reformulation: Protect vulnerable object from radiation\n",
      "\n",
      "    Problem statement:Prevent feet from getting wet\n",
      "    Abstracted reformulation: Stop object from getting into contact with unwanted substances\n",
      "\n",
      "    Problem statement: identify soldiers in old civil war photographs\n",
      "                                                                                                                                                                                                                                                                                                                                                                                     \n",
      "2 identify soldiers in old civil war photographs ->  48 0.1\n",
      "----------------------------------------\n"
     ]
    },
    {
     "name": "stderr",
     "output_type": "stream",
     "text": [
      "Setting `pad_token_id` to `eos_token_id`:50256 for open-end generation.\n"
     ]
    },
    {
     "name": "stdout",
     "output_type": "stream",
     "text": [
      "Given a problem statement, generate an abstracted reformulation of that problem statement\n",
      "\n",
      "    Problem statement: Shield baby from the sun\n",
      "    Abstracted reformulation: Protect vulnerable object from radiation\n",
      "\n",
      "    Problem statement: Prevent feet from getting wet\n",
      "    Abstracted reformulation: Stop object from getting into contact with unwanted substances\n",
      "\n",
      "    Problem statement: Hold soap bars of multiple sizes\n",
      "    Abstracted reformulation: Contain objects of different volumes\n",
      "\n",
      "    Problem statement: Enable a broom to clean in hard to reach places\n",
      "    Abstracted reformulation: Extend the physical reach of a tool\n",
      "\n",
      "    Problem statement: drill into teeth quietly\n",
      "    Abstracted reformulation: create a hole in an object without causing an unwanted noise\n",
      "\n",
      "    Problem statement: make house out of cooked spaghetti\n",
      "    Abstracted reformulation: create strong, rigid structure out of soft materials\n",
      "\n",
      "    Problem statement: make house out of cooked spaghetti\n",
      "    Abstracted reformulation: create structure from elastic elements\n",
      "\n",
      "    Problem statement:  prevent bicycle tire flats\n",
      "    Abstracted reformulation: protect object from the penetration of foreign objects\n",
      "\n",
      "    Problem statement: prevent blood clotting in stents\n",
      "    Abstracted reformulation: prevent clogging of cylindrical tubes\n",
      "\n",
      "    Problem statement: transfer heat in semiconductors at nanoscale\n",
      "    Abstracted reformulation: Enable particles to flow in confined geometries\n",
      "\n",
      "    Problem statement:reduce seasickness in virtual reality systems\n",
      "    Abstracted reformulation: reduce user's dependency on information cues\n",
      "\n",
      "    Problem statement:reduce seasickness in virtual reality systems\n",
      "    Abstracted reformulation: Achieve robust orientation stability\n",
      "\n",
      "    Problem statement:reduce seasickness in virtual reality systems\n",
      "    Abstracted reformulation: improve the feel of a complicated motion or force\n",
      "\n",
      "    Problem statement:wash clothes without water\n",
      "    Abstracted reformulation: Remove dirt from objects by mechanical force\n",
      "\n",
      "    Problem statement:charge cell phones on the go\n",
      "    Abstracted reformulation: Charge a battery source from a remote energy-source\n",
      "\n",
      "    Problem statement:charge cell phones on the go\n",
      "    Abstracted reformulation: Supply power to electrical devices in the field\n",
      "\n",
      "    Problem statement:protect feet from getting wet\n",
      "    Abstracted reformulation: stop entry of foreign particles\n",
      "\n",
      "    Problem statement:protect feet from getting wet\n",
      "    Abstracted reformulation: Mechanically stop liquid from penetrating a space\n",
      "\n",
      "    Problem statement:shield baby from the sun\n",
      "    Abstracted reformulation: Protect vulnerable object from radiation\n",
      "\n",
      "    Problem statement:Prevent feet from getting wet\n",
      "    Abstracted reformulation: Stop object from getting into contact with unwanted substances\n",
      "\n",
      "    Problem statement: identify soldiers in old civil war photographs\n",
      "                                                                                                                                                                                                                                                                                                                                                                                     \n",
      "1 identify soldiers in old civil war photographs ->  94 0.2\n",
      "----------------------------------------\n"
     ]
    },
    {
     "name": "stderr",
     "output_type": "stream",
     "text": [
      "Setting `pad_token_id` to `eos_token_id`:50256 for open-end generation.\n"
     ]
    },
    {
     "name": "stdout",
     "output_type": "stream",
     "text": [
      "Given a problem statement, generate an abstracted reformulation of that problem statement\n",
      "\n",
      "    Problem statement: Shield baby from the sun\n",
      "    Abstracted reformulation: Protect vulnerable object from radiation\n",
      "\n",
      "    Problem statement: Prevent feet from getting wet\n",
      "    Abstracted reformulation: Stop object from getting into contact with unwanted substances\n",
      "\n",
      "    Problem statement: Hold soap bars of multiple sizes\n",
      "    Abstracted reformulation: Contain objects of different volumes\n",
      "\n",
      "    Problem statement: Enable a broom to clean in hard to reach places\n",
      "    Abstracted reformulation: Extend the physical reach of a tool\n",
      "\n",
      "    Problem statement: drill into teeth quietly\n",
      "    Abstracted reformulation: create a hole in an object without causing an unwanted noise\n",
      "\n",
      "    Problem statement: make house out of cooked spaghetti\n",
      "    Abstracted reformulation: create strong, rigid structure out of soft materials\n",
      "\n",
      "    Problem statement: make house out of cooked spaghetti\n",
      "    Abstracted reformulation: create structure from elastic elements\n",
      "\n",
      "    Problem statement:  prevent bicycle tire flats\n",
      "    Abstracted reformulation: protect object from the penetration of foreign objects\n",
      "\n",
      "    Problem statement: prevent blood clotting in stents\n",
      "    Abstracted reformulation: prevent clogging of cylindrical tubes\n",
      "\n",
      "    Problem statement: transfer heat in semiconductors at nanoscale\n",
      "    Abstracted reformulation: Enable particles to flow in confined geometries\n",
      "\n",
      "    Problem statement:reduce seasickness in virtual reality systems\n",
      "    Abstracted reformulation: reduce user's dependency on information cues\n",
      "\n",
      "    Problem statement:reduce seasickness in virtual reality systems\n",
      "    Abstracted reformulation: Achieve robust orientation stability\n",
      "\n",
      "    Problem statement:reduce seasickness in virtual reality systems\n",
      "    Abstracted reformulation: improve the feel of a complicated motion or force\n",
      "\n",
      "    Problem statement:wash clothes without water\n",
      "    Abstracted reformulation: Remove dirt from objects by mechanical force\n",
      "\n",
      "    Problem statement:charge cell phones on the go\n",
      "    Abstracted reformulation: Charge a battery source from a remote energy-source\n",
      "\n",
      "    Problem statement:charge cell phones on the go\n",
      "    Abstracted reformulation: Supply power to electrical devices in the field\n",
      "\n",
      "    Problem statement:protect feet from getting wet\n",
      "    Abstracted reformulation: stop entry of foreign particles\n",
      "\n",
      "    Problem statement:protect feet from getting wet\n",
      "    Abstracted reformulation: Mechanically stop liquid from penetrating a space\n",
      "\n",
      "    Problem statement:shield baby from the sun\n",
      "    Abstracted reformulation: Protect vulnerable object from radiation\n",
      "\n",
      "    Problem statement:Prevent feet from getting wet\n",
      "    Abstracted reformulation: Stop object from getting into contact with unwanted substances\n",
      "\n",
      "    Problem statement: identify soldiers in old civil war photographs\n",
      "                                                                                                                                                                                                                                                                                                                                                                                     \n",
      "2 identify soldiers in old civil war photographs ->  139 0.2\n",
      "----------------------------------------\n"
     ]
    },
    {
     "name": "stderr",
     "output_type": "stream",
     "text": [
      "Setting `pad_token_id` to `eos_token_id`:50256 for open-end generation.\n"
     ]
    },
    {
     "name": "stdout",
     "output_type": "stream",
     "text": [
      "Given a problem statement, generate an abstracted reformulation of that problem statement\n",
      "\n",
      "    Problem statement: Shield baby from the sun\n",
      "    Abstracted reformulation: Protect vulnerable object from radiation\n",
      "\n",
      "    Problem statement: Prevent feet from getting wet\n",
      "    Abstracted reformulation: Stop object from getting into contact with unwanted substances\n",
      "\n",
      "    Problem statement: Hold soap bars of multiple sizes\n",
      "    Abstracted reformulation: Contain objects of different volumes\n",
      "\n",
      "    Problem statement: Enable a broom to clean in hard to reach places\n",
      "    Abstracted reformulation: Extend the physical reach of a tool\n",
      "\n",
      "    Problem statement: drill into teeth quietly\n",
      "    Abstracted reformulation: create a hole in an object without causing an unwanted noise\n",
      "\n",
      "    Problem statement: make house out of cooked spaghetti\n",
      "    Abstracted reformulation: create strong, rigid structure out of soft materials\n",
      "\n",
      "    Problem statement: make house out of cooked spaghetti\n",
      "    Abstracted reformulation: create structure from elastic elements\n",
      "\n",
      "    Problem statement:  prevent bicycle tire flats\n",
      "    Abstracted reformulation: protect object from the penetration of foreign objects\n",
      "\n",
      "    Problem statement: prevent blood clotting in stents\n",
      "    Abstracted reformulation: prevent clogging of cylindrical tubes\n",
      "\n",
      "    Problem statement: transfer heat in semiconductors at nanoscale\n",
      "    Abstracted reformulation: Enable particles to flow in confined geometries\n",
      "\n",
      "    Problem statement:reduce seasickness in virtual reality systems\n",
      "    Abstracted reformulation: reduce user's dependency on information cues\n",
      "\n",
      "    Problem statement:reduce seasickness in virtual reality systems\n",
      "    Abstracted reformulation: Achieve robust orientation stability\n",
      "\n",
      "    Problem statement:reduce seasickness in virtual reality systems\n",
      "    Abstracted reformulation: improve the feel of a complicated motion or force\n",
      "\n",
      "    Problem statement:wash clothes without water\n",
      "    Abstracted reformulation: Remove dirt from objects by mechanical force\n",
      "\n",
      "    Problem statement:charge cell phones on the go\n",
      "    Abstracted reformulation: Charge a battery source from a remote energy-source\n",
      "\n",
      "    Problem statement:charge cell phones on the go\n",
      "    Abstracted reformulation: Supply power to electrical devices in the field\n",
      "\n",
      "    Problem statement:protect feet from getting wet\n",
      "    Abstracted reformulation: stop entry of foreign particles\n",
      "\n",
      "    Problem statement:protect feet from getting wet\n",
      "    Abstracted reformulation: Mechanically stop liquid from penetrating a space\n",
      "\n",
      "    Problem statement:shield baby from the sun\n",
      "    Abstracted reformulation: Protect vulnerable object from radiation\n",
      "\n",
      "    Problem statement:Prevent feet from getting wet\n",
      "    Abstracted reformulation: Stop object from getting into contact with unwanted substances\n",
      "\n",
      "    Problem statement: identify soldiers in old civil war photographs\n",
      "                                                                                                                                                                                                                                                                                                                                                                                     \n",
      "1 identify soldiers in old civil war photographs ->  186 0.3\n",
      "----------------------------------------\n"
     ]
    },
    {
     "name": "stderr",
     "output_type": "stream",
     "text": [
      "Setting `pad_token_id` to `eos_token_id`:50256 for open-end generation.\n"
     ]
    },
    {
     "name": "stdout",
     "output_type": "stream",
     "text": [
      "Given a problem statement, generate an abstracted reformulation of that problem statement\n",
      "\n",
      "    Problem statement: Shield baby from the sun\n",
      "    Abstracted reformulation: Protect vulnerable object from radiation\n",
      "\n",
      "    Problem statement: Prevent feet from getting wet\n",
      "    Abstracted reformulation: Stop object from getting into contact with unwanted substances\n",
      "\n",
      "    Problem statement: Hold soap bars of multiple sizes\n",
      "    Abstracted reformulation: Contain objects of different volumes\n",
      "\n",
      "    Problem statement: Enable a broom to clean in hard to reach places\n",
      "    Abstracted reformulation: Extend the physical reach of a tool\n",
      "\n",
      "    Problem statement: drill into teeth quietly\n",
      "    Abstracted reformulation: create a hole in an object without causing an unwanted noise\n",
      "\n",
      "    Problem statement: make house out of cooked spaghetti\n",
      "    Abstracted reformulation: create strong, rigid structure out of soft materials\n",
      "\n",
      "    Problem statement: make house out of cooked spaghetti\n",
      "    Abstracted reformulation: create structure from elastic elements\n",
      "\n",
      "    Problem statement:  prevent bicycle tire flats\n",
      "    Abstracted reformulation: protect object from the penetration of foreign objects\n",
      "\n",
      "    Problem statement: prevent blood clotting in stents\n",
      "    Abstracted reformulation: prevent clogging of cylindrical tubes\n",
      "\n",
      "    Problem statement: transfer heat in semiconductors at nanoscale\n",
      "    Abstracted reformulation: Enable particles to flow in confined geometries\n",
      "\n",
      "    Problem statement:reduce seasickness in virtual reality systems\n",
      "    Abstracted reformulation: reduce user's dependency on information cues\n",
      "\n",
      "    Problem statement:reduce seasickness in virtual reality systems\n",
      "    Abstracted reformulation: Achieve robust orientation stability\n",
      "\n",
      "    Problem statement:reduce seasickness in virtual reality systems\n",
      "    Abstracted reformulation: improve the feel of a complicated motion or force\n",
      "\n",
      "    Problem statement:wash clothes without water\n",
      "    Abstracted reformulation: Remove dirt from objects by mechanical force\n",
      "\n",
      "    Problem statement:charge cell phones on the go\n",
      "    Abstracted reformulation: Charge a battery source from a remote energy-source\n",
      "\n",
      "    Problem statement:charge cell phones on the go\n",
      "    Abstracted reformulation: Supply power to electrical devices in the field\n",
      "\n",
      "    Problem statement:protect feet from getting wet\n",
      "    Abstracted reformulation: stop entry of foreign particles\n",
      "\n",
      "    Problem statement:protect feet from getting wet\n",
      "    Abstracted reformulation: Mechanically stop liquid from penetrating a space\n",
      "\n",
      "    Problem statement:shield baby from the sun\n",
      "    Abstracted reformulation: Protect vulnerable object from radiation\n",
      "\n",
      "    Problem statement:Prevent feet from getting wet\n",
      "    Abstracted reformulation: Stop object from getting into contact with unwanted substances\n",
      "\n",
      "    Problem statement: identify soldiers in old civil war photographs\n",
      "                                                                                                                                                                                                                                                                                                                                                                                     \n",
      "2 identify soldiers in old civil war photographs ->  233 0.3\n",
      "----------------------------------------\n"
     ]
    },
    {
     "name": "stderr",
     "output_type": "stream",
     "text": [
      "Setting `pad_token_id` to `eos_token_id`:50256 for open-end generation.\n"
     ]
    },
    {
     "name": "stdout",
     "output_type": "stream",
     "text": [
      "Given a problem statement, generate an abstracted reformulation of that problem statement\n",
      "\n",
      "    Problem statement: Shield baby from the sun\n",
      "    Abstracted reformulation: Protect vulnerable object from radiation\n",
      "\n",
      "    Problem statement: Prevent feet from getting wet\n",
      "    Abstracted reformulation: Stop object from getting into contact with unwanted substances\n",
      "\n",
      "    Problem statement: Hold soap bars of multiple sizes\n",
      "    Abstracted reformulation: Contain objects of different volumes\n",
      "\n",
      "    Problem statement: Enable a broom to clean in hard to reach places\n",
      "    Abstracted reformulation: Extend the physical reach of a tool\n",
      "\n",
      "    Problem statement: drill into teeth quietly\n",
      "    Abstracted reformulation: create a hole in an object without causing an unwanted noise\n",
      "\n",
      "    Problem statement: make house out of cooked spaghetti\n",
      "    Abstracted reformulation: create strong, rigid structure out of soft materials\n",
      "\n",
      "    Problem statement: make house out of cooked spaghetti\n",
      "    Abstracted reformulation: create structure from elastic elements\n",
      "\n",
      "    Problem statement:  prevent bicycle tire flats\n",
      "    Abstracted reformulation: protect object from the penetration of foreign objects\n",
      "\n",
      "    Problem statement: prevent blood clotting in stents\n",
      "    Abstracted reformulation: prevent clogging of cylindrical tubes\n",
      "\n",
      "    Problem statement: transfer heat in semiconductors at nanoscale\n",
      "    Abstracted reformulation: Enable particles to flow in confined geometries\n",
      "\n",
      "    Problem statement:reduce seasickness in virtual reality systems\n",
      "    Abstracted reformulation: reduce user's dependency on information cues\n",
      "\n",
      "    Problem statement:reduce seasickness in virtual reality systems\n",
      "    Abstracted reformulation: Achieve robust orientation stability\n",
      "\n",
      "    Problem statement:reduce seasickness in virtual reality systems\n",
      "    Abstracted reformulation: improve the feel of a complicated motion or force\n",
      "\n",
      "    Problem statement:wash clothes without water\n",
      "    Abstracted reformulation: Remove dirt from objects by mechanical force\n",
      "\n",
      "    Problem statement:charge cell phones on the go\n",
      "    Abstracted reformulation: Charge a battery source from a remote energy-source\n",
      "\n",
      "    Problem statement:charge cell phones on the go\n",
      "    Abstracted reformulation: Supply power to electrical devices in the field\n",
      "\n",
      "    Problem statement:protect feet from getting wet\n",
      "    Abstracted reformulation: stop entry of foreign particles\n",
      "\n",
      "    Problem statement:protect feet from getting wet\n",
      "    Abstracted reformulation: Mechanically stop liquid from penetrating a space\n",
      "\n",
      "    Problem statement:shield baby from the sun\n",
      "    Abstracted reformulation: Protect vulnerable object from radiation\n",
      "\n",
      "    Problem statement:Prevent feet from getting wet\n",
      "    Abstracted reformulation: Stop object from getting into contact with unwanted substances\n",
      "\n",
      "    Problem statement: identify soldiers in old civil war photographs\n",
      "                                                                                                                                                                                                                                                                                                                                                                                     \n",
      "1 identify soldiers in old civil war photographs ->  281 0.4\n",
      "----------------------------------------\n"
     ]
    },
    {
     "name": "stderr",
     "output_type": "stream",
     "text": [
      "Setting `pad_token_id` to `eos_token_id`:50256 for open-end generation.\n"
     ]
    },
    {
     "name": "stdout",
     "output_type": "stream",
     "text": [
      "Given a problem statement, generate an abstracted reformulation of that problem statement\n",
      "\n",
      "    Problem statement: Shield baby from the sun\n",
      "    Abstracted reformulation: Protect vulnerable object from radiation\n",
      "\n",
      "    Problem statement: Prevent feet from getting wet\n",
      "    Abstracted reformulation: Stop object from getting into contact with unwanted substances\n",
      "\n",
      "    Problem statement: Hold soap bars of multiple sizes\n",
      "    Abstracted reformulation: Contain objects of different volumes\n",
      "\n",
      "    Problem statement: Enable a broom to clean in hard to reach places\n",
      "    Abstracted reformulation: Extend the physical reach of a tool\n",
      "\n",
      "    Problem statement: drill into teeth quietly\n",
      "    Abstracted reformulation: create a hole in an object without causing an unwanted noise\n",
      "\n",
      "    Problem statement: make house out of cooked spaghetti\n",
      "    Abstracted reformulation: create strong, rigid structure out of soft materials\n",
      "\n",
      "    Problem statement: make house out of cooked spaghetti\n",
      "    Abstracted reformulation: create structure from elastic elements\n",
      "\n",
      "    Problem statement:  prevent bicycle tire flats\n",
      "    Abstracted reformulation: protect object from the penetration of foreign objects\n",
      "\n",
      "    Problem statement: prevent blood clotting in stents\n",
      "    Abstracted reformulation: prevent clogging of cylindrical tubes\n",
      "\n",
      "    Problem statement: transfer heat in semiconductors at nanoscale\n",
      "    Abstracted reformulation: Enable particles to flow in confined geometries\n",
      "\n",
      "    Problem statement:reduce seasickness in virtual reality systems\n",
      "    Abstracted reformulation: reduce user's dependency on information cues\n",
      "\n",
      "    Problem statement:reduce seasickness in virtual reality systems\n",
      "    Abstracted reformulation: Achieve robust orientation stability\n",
      "\n",
      "    Problem statement:reduce seasickness in virtual reality systems\n",
      "    Abstracted reformulation: improve the feel of a complicated motion or force\n",
      "\n",
      "    Problem statement:wash clothes without water\n",
      "    Abstracted reformulation: Remove dirt from objects by mechanical force\n",
      "\n",
      "    Problem statement:charge cell phones on the go\n",
      "    Abstracted reformulation: Charge a battery source from a remote energy-source\n",
      "\n",
      "    Problem statement:charge cell phones on the go\n",
      "    Abstracted reformulation: Supply power to electrical devices in the field\n",
      "\n",
      "    Problem statement:protect feet from getting wet\n",
      "    Abstracted reformulation: stop entry of foreign particles\n",
      "\n",
      "    Problem statement:protect feet from getting wet\n",
      "    Abstracted reformulation: Mechanically stop liquid from penetrating a space\n",
      "\n",
      "    Problem statement:shield baby from the sun\n",
      "    Abstracted reformulation: Protect vulnerable object from radiation\n",
      "\n",
      "    Problem statement:Prevent feet from getting wet\n",
      "    Abstracted reformulation: Stop object from getting into contact with unwanted substances\n",
      "\n",
      "    Problem statement: identify soldiers in old civil war photographs\n",
      "                                                                                                                                                                                                                                                                                                                                                                                     \n",
      "2 identify soldiers in old civil war photographs ->  329 0.4\n",
      "----------------------------------------\n"
     ]
    }
   ],
   "source": [
    "\n"
   ]
  },
  {
   "cell_type": "code",
   "execution_count": 25,
   "metadata": {},
   "outputs": [],
   "source": []
  },
  {
   "cell_type": "code",
   "execution_count": 26,
   "metadata": {},
   "outputs": [
    {
     "name": "stderr",
     "output_type": "stream",
     "text": [
      "Setting `pad_token_id` to `eos_token_id`:50256 for open-end generation.\n"
     ]
    },
    {
     "name": "stdout",
     "output_type": "stream",
     "text": [
      "[{'generated_text': \"Given a problem statement, generate an abstracted reformulation of that problem statement\\n\\n    Problem statement:reduce seasickness in virtual reality systems\\n    Abstracted reformulation: reduce user's dependency on information cues\\n\\n    Problem statement:reduce seasickness in virtual reality systems\\n    Abstracted reformulation: Achieve robust orientation stability\\n\\n    Problem statement:reduce seasickness in virtual reality systems\\n    Abstracted reformulation: improve the feel of a complicated motion or force\\n\\n    Problem statement:wash clothes without water\\n    Abstracted reformulation: Remove dirt from objects by mechanical force\\n\\n    Problem statement:charge cell phones on the go\\n    Abstracted reformulation: Charge a battery source from a remote energy-source\\n\\n    Problem statement:charge cell phones on the go\\n    Abstracted reformulation: Supply power to electrical devices in the field\\n\\n    Problem statement:protect feet from getting wet\\n    Abstracted reformulation: stop entry of foreign particles\\n\\n    Problem statement:protect feet from getting wet\\n    Abstracted reformulation: Mechanically stop liquid from penetrating a space\\n\\n    Problem statement:shield baby from the sun\\n    Abstracted reformulation: Protect vulnerable object from radiation\\n\\n    Problem statement:Prevent feet from getting wet\\n    Abstracted reformulation: Stop object from getting into contact with unwanted substances\\n\\n    Problem statement: increase temperature of the cup\\n                                                                                                                                                                                \"}]\n"
     ]
    }
   ],
   "source": []
  },
  {
   "cell_type": "code",
   "execution_count": 18,
   "metadata": {},
   "outputs": [],
   "source": [
    "# res_generator_gpt_neo_125m[0]['generated_text']"
   ]
  },
  {
   "cell_type": "code",
   "execution_count": null,
   "metadata": {},
   "outputs": [],
   "source": []
  },
  {
   "cell_type": "code",
   "execution_count": null,
   "metadata": {},
   "outputs": [],
   "source": []
  },
  {
   "cell_type": "code",
   "execution_count": null,
   "metadata": {},
   "outputs": [],
   "source": []
  },
  {
   "cell_type": "code",
   "execution_count": null,
   "metadata": {},
   "outputs": [],
   "source": []
  },
  {
   "cell_type": "code",
   "execution_count": null,
   "metadata": {},
   "outputs": [],
   "source": []
  },
  {
   "cell_type": "code",
   "execution_count": null,
   "metadata": {},
   "outputs": [],
   "source": []
  },
  {
   "cell_type": "code",
   "execution_count": null,
   "metadata": {},
   "outputs": [],
   "source": []
  },
  {
   "cell_type": "code",
   "execution_count": null,
   "metadata": {},
   "outputs": [],
   "source": []
  },
  {
   "cell_type": "code",
   "execution_count": null,
   "metadata": {},
   "outputs": [],
   "source": []
  },
  {
   "cell_type": "code",
   "execution_count": null,
   "metadata": {},
   "outputs": [],
   "source": []
  },
  {
   "cell_type": "code",
   "execution_count": null,
   "metadata": {},
   "outputs": [],
   "source": []
  },
  {
   "cell_type": "code",
   "execution_count": null,
   "metadata": {},
   "outputs": [],
   "source": []
  },
  {
   "cell_type": "code",
   "execution_count": null,
   "metadata": {},
   "outputs": [],
   "source": [
    "# res_generator_gpt_neo_125m\n"
   ]
  },
  {
   "cell_type": "code",
   "execution_count": null,
   "metadata": {},
   "outputs": [],
   "source": [
    "# res_generator_gpt_neo_125m[0]['generated_text'].split('\\n\\n')[11].split('\\n')[0]"
   ]
  },
  {
   "cell_type": "code",
   "execution_count": null,
   "metadata": {},
   "outputs": [],
   "source": [
    "# res_generator_gpt_neo_125m[0]['generated_text'].split('\\n\\n')[11].split('\\n')[-1]"
   ]
  },
  {
   "cell_type": "code",
   "execution_count": null,
   "metadata": {},
   "outputs": [],
   "source": [
    "# print(res_generator_gpt_neo_125m[0]['generated_text'])"
   ]
  },
  {
   "cell_type": "code",
   "execution_count": null,
   "metadata": {},
   "outputs": [],
   "source": []
  },
  {
   "cell_type": "code",
   "execution_count": null,
   "metadata": {},
   "outputs": [],
   "source": []
  },
  {
   "cell_type": "code",
   "execution_count": null,
   "metadata": {},
   "outputs": [],
   "source": [
    "# print(res_generator_gpt_neo_1_3b[0]['generated_text'])"
   ]
  },
  {
   "cell_type": "code",
   "execution_count": null,
   "metadata": {},
   "outputs": [],
   "source": [
    "# res_generator_gpt_neo_2_7 = generator_gpt_neo_2_7(prompt,max_length = 500, do_sample = True,temperature = 0.9)"
   ]
  },
  {
   "cell_type": "code",
   "execution_count": null,
   "metadata": {},
   "outputs": [],
   "source": [
    "\n",
    "# print(res_generator_gpt_neo_2_7[0]['generated_text'])"
   ]
  },
  {
   "cell_type": "code",
   "execution_count": null,
   "metadata": {},
   "outputs": [],
   "source": [
    "# res_generator_gpt2 = generator_gpt2(prompt,max_length = 500, do_sample = True,temperature = 0.9)"
   ]
  },
  {
   "cell_type": "code",
   "execution_count": null,
   "metadata": {},
   "outputs": [],
   "source": [
    "\n",
    "\n",
    "# print(res_generator_gpt2[0]['generated_text'])"
   ]
  },
  {
   "cell_type": "code",
   "execution_count": null,
   "metadata": {},
   "outputs": [],
   "source": []
  },
  {
   "cell_type": "code",
   "execution_count": null,
   "metadata": {},
   "outputs": [],
   "source": []
  },
  {
   "cell_type": "code",
   "execution_count": null,
   "metadata": {},
   "outputs": [],
   "source": []
  },
  {
   "cell_type": "code",
   "execution_count": null,
   "metadata": {},
   "outputs": [],
   "source": []
  },
  {
   "cell_type": "code",
   "execution_count": null,
   "metadata": {},
   "outputs": [],
   "source": []
  },
  {
   "cell_type": "code",
   "execution_count": null,
   "metadata": {},
   "outputs": [],
   "source": []
  },
  {
   "cell_type": "code",
   "execution_count": null,
   "metadata": {},
   "outputs": [],
   "source": []
  },
  {
   "cell_type": "code",
   "execution_count": null,
   "metadata": {},
   "outputs": [],
   "source": []
  }
 ],
 "metadata": {
  "kernelspec": {
   "display_name": "Python 3",
   "language": "python",
   "name": "python3"
  },
  "language_info": {
   "codemirror_mode": {
    "name": "ipython",
    "version": 3
   },
   "file_extension": ".py",
   "mimetype": "text/x-python",
   "name": "python",
   "nbconvert_exporter": "python",
   "pygments_lexer": "ipython3",
   "version": "3.8.10"
  }
 },
 "nbformat": 4,
 "nbformat_minor": 4
}
