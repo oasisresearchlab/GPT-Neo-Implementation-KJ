{
 "cells": [
  {
   "cell_type": "code",
   "execution_count": 1,
   "metadata": {},
   "outputs": [],
   "source": [
    "from transformers import pipeline"
   ]
  },
  {
   "cell_type": "code",
   "execution_count": 2,
   "metadata": {},
   "outputs": [],
   "source": [
    "import numpy as np\n",
    "import pandas as pd\n",
    "import random\n",
    "import string\n",
    "from datetime import datetime\n",
    "import time"
   ]
  },
  {
   "cell_type": "code",
   "execution_count": null,
   "metadata": {},
   "outputs": [],
   "source": []
  },
  {
   "cell_type": "code",
   "execution_count": 3,
   "metadata": {},
   "outputs": [],
   "source": [
    "generator_gpt_neo_1_3b = pipeline('text-generation',model='EleutherAI/gpt-neo-1.3B')"
   ]
  },
  {
   "cell_type": "code",
   "execution_count": 4,
   "metadata": {},
   "outputs": [],
   "source": [
    "# prompt = 'drill into teeth quietly'"
   ]
  },
  {
   "cell_type": "code",
   "execution_count": 5,
   "metadata": {},
   "outputs": [],
   "source": [
    "generator_gpt_neo_125m = pipeline('text-generation',model='EleutherAI/gpt-neo-125M')"
   ]
  },
  {
   "cell_type": "code",
   "execution_count": 6,
   "metadata": {},
   "outputs": [],
   "source": [
    "generator_gpt_neo_2_7 = pipeline('text-generation',model='EleutherAI/gpt-neo-2.7B')"
   ]
  },
  {
   "cell_type": "code",
   "execution_count": 7,
   "metadata": {},
   "outputs": [],
   "source": [
    "# generator_gpt2 = pipeline('text-generation',model='gpt2')"
   ]
  },
  {
   "cell_type": "code",
   "execution_count": 8,
   "metadata": {},
   "outputs": [],
   "source": [
    "user_input = \"keep head from moving while sleeping on bus\""
   ]
  },
  {
   "cell_type": "code",
   "execution_count": 9,
   "metadata": {},
   "outputs": [],
   "source": [
    "prompt = f\"\"\"Given a problem statement, generate an abstracted reformulation of that problem statement\n",
    "\n",
    "Problem statement: Shield baby from the sun\n",
    "Abstracted reformulation: Protect vulnerable object from radiation\n",
    "\n",
    "Problem statement: Prevent feet from getting wet\n",
    "Abstracted reformulation: Stop object from getting into contact with unwanted substances\n",
    "\n",
    "Problem statement: Hold soap bars of multiple sizes\n",
    "Abstracted reformulation: Contain objects of different volumes\n",
    "\n",
    "Problem statement: Enable a broom to clean in hard to reach places\n",
    "Abstracted reformulation: Extend the physical reach of a tool\n",
    "\n",
    "Problem statement: drill into teeth quietly\n",
    "Abstracted reformulation: create a hole in an object without causing an unwanted noise\n",
    "\n",
    "Problem statement: make house out of cooked spaghetti\n",
    "Abstracted reformulation: create strong, rigid structure out of soft materials\n",
    "\n",
    "Problem statement: make house out of cooked spaghetti\n",
    "Abstracted reformulation: create structure from elastic elements\n",
    "\n",
    "Problem statement:  prevent bicycle tire flats\n",
    "Abstracted reformulation: protect object from the penetration of foreign objects\n",
    "\n",
    "Problem statement: prevent blood clotting in stents\n",
    "Abstracted reformulation: prevent clogging of cylindrical tubes\n",
    "\n",
    "Problem statement: transfer heat in semiconductors at nanoscale\n",
    "Abstracted reformulation: Enable particles to flow in confined geometries\n",
    "\n",
    "Problem statement:reduce seasickness in virtual reality systems\n",
    "Abstracted reformulation: reduce user's dependency on information cues\n",
    "\n",
    "Problem statement:reduce seasickness in virtual reality systems\n",
    "Abstracted reformulation: Achieve robust orientation stability\n",
    "\n",
    "Problem statement:reduce seasickness in virtual reality systems\n",
    "Abstracted reformulation: improve the feel of a complicated motion or force\n",
    "\n",
    "Problem statement:wash clothes without water\n",
    "Abstracted reformulation: Remove dirt from objects by mechanical force\n",
    "\n",
    "Problem statement:charge cell phones on the go\n",
    "Abstracted reformulation: Charge a battery source from a remote energy-source\n",
    "\n",
    "Problem statement:charge cell phones on the go\n",
    "Abstracted reformulation: Supply power to electrical devices in the field\n",
    "\n",
    "Problem statement:protect feet from getting wet\n",
    "Abstracted reformulation: stop entry of foreign particles\n",
    "\n",
    "Problem statement:protect feet from getting wet\n",
    "Abstracted reformulation: Mechanically stop liquid from penetrating a space\n",
    "\n",
    "Problem statement:shield baby from the sun\n",
    "Abstracted reformulation: Protect vulnerable object from radiation\n",
    "\n",
    "Problem statement:Prevent feet from getting wet\n",
    "Abstracted reformulation: Stop object from getting into contact with unwanted substances\n",
    "\n",
    "Problem statement: {user_input}\n",
    "\"\"\""
   ]
  },
  {
   "cell_type": "code",
   "execution_count": null,
   "metadata": {},
   "outputs": [],
   "source": []
  },
  {
   "cell_type": "code",
   "execution_count": 10,
   "metadata": {},
   "outputs": [
    {
     "name": "stdout",
     "output_type": "stream",
     "text": [
      "<module 'random' from 'C:\\\\Users\\\\ysj30\\\\anaconda3\\\\envs\\\\torch\\\\lib\\\\random.py'>\n"
     ]
    }
   ],
   "source": [
    "\n",
    "# Generate a random string\n",
    "# with 32 characters.\n",
    "\n",
    "\n",
    "print (random)"
   ]
  },
  {
   "cell_type": "code",
   "execution_count": 11,
   "metadata": {},
   "outputs": [],
   "source": [
    "cols = ['id','model_name','iteration','temperature','input_length','problem_statement','abstract_reformulation','cumulative_time_in_seconds']\n",
    "def generate_blank_df(cols): \n",
    "    df = pd.DataFrame(columns = cols)\n",
    "    return df"
   ]
  },
  {
   "cell_type": "code",
   "execution_count": 12,
   "metadata": {},
   "outputs": [],
   "source": [
    "# df = generate_blank_df(cols)"
   ]
  },
  {
   "cell_type": "code",
   "execution_count": 13,
   "metadata": {},
   "outputs": [],
   "source": [
    "def get_current_date():\n",
    "    now = datetime.now()\n",
    "\n",
    "#     print(\"now =\", now)\n",
    "\n",
    "    # dd/mm/YY H:M:S\n",
    "    dt_string = now.strftime(\"%Y%m%d\")\n",
    "#     print(\"date and time =\", dt_string)\n",
    "    date_string = dt_string\n",
    "    return date_string"
   ]
  },
  {
   "cell_type": "code",
   "execution_count": 14,
   "metadata": {},
   "outputs": [],
   "source": [
    "date = get_current_date()"
   ]
  },
  {
   "cell_type": "code",
   "execution_count": null,
   "metadata": {},
   "outputs": [],
   "source": []
  },
  {
   "cell_type": "code",
   "execution_count": 15,
   "metadata": {},
   "outputs": [],
   "source": [
    "def generate_output(model,max_iterations,prompt,number_of_problem_statements,temp,model_name_text,want_to_save_1or0):\n",
    "    start = time.time()\n",
    "    date = get_current_date()\n",
    "    df = generate_blank_df(cols)\n",
    "    rand_id = ''.join([random.choice(string.ascii_letters\n",
    "            + string.digits) for n in range(7)])\n",
    "    iteration_no = 1\n",
    "    columns = list(df)\n",
    "#     temp_str = str(temp)\n",
    "#     temp_str = temp_str.split('.')[-1]\n",
    "    file_name = date+'_'+model_name_text+'_'+rand_id+'_'+str(max_iterations)+'_'+str(number_of_problem_statements)+'GPU'+'.csv'\n",
    "    data = []\n",
    "    while temp < 1.0:\n",
    "        iteration_no = 1        \n",
    "        while iteration_no <= max_iterations:\n",
    "            cumulative_time=round((time.time()-start))\n",
    "            res_model = model(prompt,max_length = 32*number_of_problem_statements,do_sample = True,temperature = temp)\n",
    "            problem_statement = res_model[0]['generated_text'].split('\\n\\n')[number_of_problem_statements+1].split('\\n')[0].split(':')[-1].strip()\n",
    "            abs_reformulation = res_model[0]['generated_text'].split('\\n\\n')[number_of_problem_statements+1].split('\\n')[-1].split(':')[-1].strip()\n",
    "            values_for_df = [rand_id,model_name_text,iteration_no,temp,number_of_problem_statements,problem_statement,abs_reformulation,cumulative_time]\n",
    "            zipped = zip(columns,values_for_df)\n",
    "            dict1 = dict(zipped)\n",
    "            data.append(dict1)\n",
    "            iteration_no += 1\n",
    "    #         print(f'Total time taken is {elapsed_time_lc}')\n",
    "            print(iteration_no-1,problem_statement,'->',abs_reformulation,cumulative_time,temp)\n",
    "            print('----------------------------------------')\n",
    "    #         print(rand_id,iteration_no,temp,number_of_problem_statements,problem_statement,abs_reformulation)\n",
    "        \n",
    "            df = df.append(data,ignore_index = True)\n",
    "        temp = round((temp+0.1),1)\n",
    "        \n",
    "    df = df.drop_duplicates()\n",
    "    \n",
    "    if(want_to_save_1or0==1):\n",
    "        df.to_csv(f'../Csv/{file_name}',index=False)\n",
    "    else:\n",
    "        print('returning_df')\n",
    "    \n",
    "    elapsed_time_lc=(time.time()-start)\n",
    "    print(f'Total time taken is {round(elapsed_time_lc)}')\n",
    "    \n",
    "    return df\n",
    "    "
   ]
  },
  {
   "cell_type": "code",
   "execution_count": null,
   "metadata": {},
   "outputs": [],
   "source": []
  },
  {
   "cell_type": "code",
   "execution_count": 16,
   "metadata": {},
   "outputs": [
    {
     "name": "stderr",
     "output_type": "stream",
     "text": [
      "Setting `pad_token_id` to `eos_token_id`:50256 for open-end generation.\n",
      "Setting `pad_token_id` to `eos_token_id`:50256 for open-end generation.\n"
     ]
    },
    {
     "name": "stdout",
     "output_type": "stream",
     "text": [
      "1 keep head from moving while sleeping on bus -> Increase the density of a particle in a space 0 0.7\n",
      "----------------------------------------\n"
     ]
    },
    {
     "name": "stderr",
     "output_type": "stream",
     "text": [
      "Setting `pad_token_id` to `eos_token_id`:50256 for open-end generation.\n"
     ]
    },
    {
     "name": "stdout",
     "output_type": "stream",
     "text": [
      "2 keep head from moving while sleeping on bus -> Prevent falling by using a large head 13 0.7\n",
      "----------------------------------------\n"
     ]
    },
    {
     "name": "stderr",
     "output_type": "stream",
     "text": [
      "Setting `pad_token_id` to `eos_token_id`:50256 for open-end generation.\n"
     ]
    },
    {
     "name": "stdout",
     "output_type": "stream",
     "text": [
      "3 keep head from moving while sleeping on bus -> Prevent object from getting into contact with unwanted substances 24 0.7\n",
      "----------------------------------------\n"
     ]
    },
    {
     "name": "stderr",
     "output_type": "stream",
     "text": [
      "Setting `pad_token_id` to `eos_token_id`:50256 for open-end generation.\n"
     ]
    },
    {
     "name": "stdout",
     "output_type": "stream",
     "text": [
      "4 keep head from moving while sleeping on bus -> Stop object from getting into contact with unwanted substances 34 0.7\n",
      "----------------------------------------\n"
     ]
    },
    {
     "name": "stderr",
     "output_type": "stream",
     "text": [
      "Setting `pad_token_id` to `eos_token_id`:50256 for open-end generation.\n"
     ]
    },
    {
     "name": "stdout",
     "output_type": "stream",
     "text": [
      "5 keep head from moving while sleeping on bus -> Remove head from body or head from body 45 0.7\n",
      "----------------------------------------\n"
     ]
    },
    {
     "name": "stderr",
     "output_type": "stream",
     "text": [
      "Setting `pad_token_id` to `eos_token_id`:50256 for open-end generation.\n"
     ]
    },
    {
     "name": "stdout",
     "output_type": "stream",
     "text": [
      "6 keep head from moving while sleeping on bus -> Prevent object from getting into contact with unwanted substances 56 0.7\n",
      "----------------------------------------\n"
     ]
    },
    {
     "name": "stderr",
     "output_type": "stream",
     "text": [
      "Setting `pad_token_id` to `eos_token_id`:50256 for open-end generation.\n"
     ]
    },
    {
     "name": "stdout",
     "output_type": "stream",
     "text": [
      "7 keep head from moving while sleeping on bus -> stop the user from getting into contact with unwanted substances 67 0.7\n",
      "----------------------------------------\n"
     ]
    },
    {
     "name": "stderr",
     "output_type": "stream",
     "text": [
      "Setting `pad_token_id` to `eos_token_id`:50256 for open-end generation.\n"
     ]
    },
    {
     "name": "stdout",
     "output_type": "stream",
     "text": [
      "8 keep head from moving while sleeping on bus -> prevent head from moving until it stops 77 0.7\n",
      "----------------------------------------\n"
     ]
    },
    {
     "name": "stderr",
     "output_type": "stream",
     "text": [
      "Setting `pad_token_id` to `eos_token_id`:50256 for open-end generation.\n"
     ]
    },
    {
     "name": "stdout",
     "output_type": "stream",
     "text": [
      "9 keep head from moving while sleeping on bus -> Protect the head from falling down 88 0.7\n",
      "----------------------------------------\n"
     ]
    },
    {
     "name": "stderr",
     "output_type": "stream",
     "text": [
      "Setting `pad_token_id` to `eos_token_id`:50256 for open-end generation.\n"
     ]
    },
    {
     "name": "stdout",
     "output_type": "stream",
     "text": [
      "10 keep head from moving while sleeping on bus -> Keep head from getting wet 99 0.7\n",
      "----------------------------------------\n"
     ]
    },
    {
     "name": "stderr",
     "output_type": "stream",
     "text": [
      "Setting `pad_token_id` to `eos_token_id`:50256 for open-end generation.\n"
     ]
    },
    {
     "name": "stdout",
     "output_type": "stream",
     "text": [
      "11 keep head from moving while sleeping on bus -> prevent objects from falling asleep on the bus 111 0.7\n",
      "----------------------------------------\n"
     ]
    },
    {
     "name": "stderr",
     "output_type": "stream",
     "text": [
      "Setting `pad_token_id` to `eos_token_id`:50256 for open-end generation.\n"
     ]
    },
    {
     "name": "stdout",
     "output_type": "stream",
     "text": [
      "12 keep head from moving while sleeping on bus -> keep head from moving from bus 123 0.7\n",
      "----------------------------------------\n"
     ]
    },
    {
     "name": "stderr",
     "output_type": "stream",
     "text": [
      "Setting `pad_token_id` to `eos_token_id`:50256 for open-end generation.\n"
     ]
    },
    {
     "name": "stdout",
     "output_type": "stream",
     "text": [
      "13 keep head from moving while sleeping on bus -> keep head from moving while sleeping on bus 134 0.7\n",
      "----------------------------------------\n"
     ]
    },
    {
     "name": "stderr",
     "output_type": "stream",
     "text": [
      "Setting `pad_token_id` to `eos_token_id`:50256 for open-end generation.\n"
     ]
    },
    {
     "name": "stdout",
     "output_type": "stream",
     "text": [
      "14 keep head from moving while sleeping on bus -> prevent object from getting into contact with unwanted substances 145 0.7\n",
      "----------------------------------------\n"
     ]
    },
    {
     "name": "stderr",
     "output_type": "stream",
     "text": [
      "Setting `pad_token_id` to `eos_token_id`:50256 for open-end generation.\n"
     ]
    },
    {
     "name": "stdout",
     "output_type": "stream",
     "text": [
      "15 keep head from moving while sleeping on bus -> keep head from moving while sleeping on bus 156 0.7\n",
      "----------------------------------------\n"
     ]
    },
    {
     "name": "stderr",
     "output_type": "stream",
     "text": [
      "Setting `pad_token_id` to `eos_token_id`:50256 for open-end generation.\n"
     ]
    },
    {
     "name": "stdout",
     "output_type": "stream",
     "text": [
      "16 keep head from moving while sleeping on bus -> Prevent object from getting into contact with unwanted substances 167 0.7\n",
      "----------------------------------------\n"
     ]
    },
    {
     "name": "stderr",
     "output_type": "stream",
     "text": [
      "Setting `pad_token_id` to `eos_token_id`:50256 for open-end generation.\n"
     ]
    },
    {
     "name": "stdout",
     "output_type": "stream",
     "text": [
      "17 keep head from moving while sleeping on bus -> Prevent object from getting into contact with unwanted substances 178 0.7\n",
      "----------------------------------------\n"
     ]
    },
    {
     "name": "stderr",
     "output_type": "stream",
     "text": [
      "Setting `pad_token_id` to `eos_token_id`:50256 for open-end generation.\n"
     ]
    },
    {
     "name": "stdout",
     "output_type": "stream",
     "text": [
      "18 keep head from moving while sleeping on bus -> Prevent object from getting into contact with unwanted substances 190 0.7\n",
      "----------------------------------------\n"
     ]
    },
    {
     "name": "stderr",
     "output_type": "stream",
     "text": [
      "Setting `pad_token_id` to `eos_token_id`:50256 for open-end generation.\n"
     ]
    },
    {
     "name": "stdout",
     "output_type": "stream",
     "text": [
      "19 keep head from moving while sleeping on bus -> Prevent object from getting into contact with unwanted substances 201 0.7\n",
      "----------------------------------------\n"
     ]
    },
    {
     "name": "stderr",
     "output_type": "stream",
     "text": [
      "Setting `pad_token_id` to `eos_token_id`:50256 for open-end generation.\n"
     ]
    },
    {
     "name": "stdout",
     "output_type": "stream",
     "text": [
      "20 keep head from moving while sleeping on bus -> Prepare to go to the toilet with a cup of water 212 0.7\n",
      "----------------------------------------\n"
     ]
    },
    {
     "name": "stderr",
     "output_type": "stream",
     "text": [
      "Setting `pad_token_id` to `eos_token_id`:50256 for open-end generation.\n"
     ]
    },
    {
     "name": "stdout",
     "output_type": "stream",
     "text": [
      "1 keep head from moving while sleeping on bus -> keep head from moving while sleeping on bus 223 0.8\n",
      "----------------------------------------\n"
     ]
    },
    {
     "name": "stderr",
     "output_type": "stream",
     "text": [
      "Setting `pad_token_id` to `eos_token_id`:50256 for open-end generation.\n"
     ]
    },
    {
     "name": "stdout",
     "output_type": "stream",
     "text": [
      "2 keep head from moving while sleeping on bus -> prevent people from getting into contact with objects 234 0.8\n",
      "----------------------------------------\n"
     ]
    },
    {
     "name": "stderr",
     "output_type": "stream",
     "text": [
      "Setting `pad_token_id` to `eos_token_id`:50256 for open-end generation.\n"
     ]
    },
    {
     "name": "stdout",
     "output_type": "stream",
     "text": [
      "3 keep head from moving while sleeping on bus -> Stop object from getting into contact with unwanted substances 244 0.8\n",
      "----------------------------------------\n"
     ]
    },
    {
     "name": "stderr",
     "output_type": "stream",
     "text": [
      "Setting `pad_token_id` to `eos_token_id`:50256 for open-end generation.\n"
     ]
    },
    {
     "name": "stdout",
     "output_type": "stream",
     "text": [
      "4 keep head from moving while sleeping on bus -> keep head from moving while sleeping on bus 255 0.8\n",
      "----------------------------------------\n"
     ]
    },
    {
     "name": "stderr",
     "output_type": "stream",
     "text": [
      "Setting `pad_token_id` to `eos_token_id`:50256 for open-end generation.\n"
     ]
    },
    {
     "name": "stdout",
     "output_type": "stream",
     "text": [
      "5 keep head from moving while sleeping on bus -> Prevent water vapor from penetrating an object 266 0.8\n",
      "----------------------------------------\n"
     ]
    },
    {
     "name": "stderr",
     "output_type": "stream",
     "text": [
      "Setting `pad_token_id` to `eos_token_id`:50256 for open-end generation.\n"
     ]
    },
    {
     "name": "stdout",
     "output_type": "stream",
     "text": [
      "6 keep head from moving while sleeping on bus -> prevent sunburns 277 0.8\n",
      "----------------------------------------\n"
     ]
    },
    {
     "name": "stderr",
     "output_type": "stream",
     "text": [
      "Setting `pad_token_id` to `eos_token_id`:50256 for open-end generation.\n"
     ]
    },
    {
     "name": "stdout",
     "output_type": "stream",
     "text": [
      "7 keep head from moving while sleeping on bus -> Prevent the sun from getting into contact with unwanted substances 288 0.8\n",
      "----------------------------------------\n"
     ]
    },
    {
     "name": "stderr",
     "output_type": "stream",
     "text": [
      "Setting `pad_token_id` to `eos_token_id`:50256 for open-end generation.\n"
     ]
    },
    {
     "name": "stdout",
     "output_type": "stream",
     "text": [
      "8 keep head from moving while sleeping on bus -> Remove water from an active object 299 0.8\n",
      "----------------------------------------\n"
     ]
    },
    {
     "name": "stderr",
     "output_type": "stream",
     "text": [
      "Setting `pad_token_id` to `eos_token_id`:50256 for open-end generation.\n"
     ]
    },
    {
     "name": "stdout",
     "output_type": "stream",
     "text": [
      "9 keep head from moving while sleeping on bus -> avoid excessive movement of head 310 0.8\n",
      "----------------------------------------\n"
     ]
    },
    {
     "name": "stderr",
     "output_type": "stream",
     "text": [
      "Setting `pad_token_id` to `eos_token_id`:50256 for open-end generation.\n"
     ]
    },
    {
     "name": "stdout",
     "output_type": "stream",
     "text": [
      "10 keep head from moving while sleeping on bus -> Save body from being submerged 321 0.8\n",
      "----------------------------------------\n"
     ]
    },
    {
     "name": "stderr",
     "output_type": "stream",
     "text": [
      "Setting `pad_token_id` to `eos_token_id`:50256 for open-end generation.\n"
     ]
    },
    {
     "name": "stdout",
     "output_type": "stream",
     "text": [
      "11 keep head from moving while sleeping on bus -> stop object from getting into contact with surfaces 332 0.8\n",
      "----------------------------------------\n"
     ]
    },
    {
     "name": "stderr",
     "output_type": "stream",
     "text": [
      "Setting `pad_token_id` to `eos_token_id`:50256 for open-end generation.\n"
     ]
    },
    {
     "name": "stdout",
     "output_type": "stream",
     "text": [
      "12 keep head from moving while sleeping on bus -> keep head from moving while sleeping on bus 343 0.8\n",
      "----------------------------------------\n"
     ]
    },
    {
     "name": "stderr",
     "output_type": "stream",
     "text": [
      "Setting `pad_token_id` to `eos_token_id`:50256 for open-end generation.\n"
     ]
    },
    {
     "name": "stdout",
     "output_type": "stream",
     "text": [
      "13 keep head from moving while sleeping on bus -> prevent head from moving while sleeping on bus 353 0.8\n",
      "----------------------------------------\n"
     ]
    },
    {
     "name": "stderr",
     "output_type": "stream",
     "text": [
      "Setting `pad_token_id` to `eos_token_id`:50256 for open-end generation.\n"
     ]
    },
    {
     "name": "stdout",
     "output_type": "stream",
     "text": [
      "14 keep head from moving while sleeping on bus -> stop object from getting into contact with unwanted substances 365 0.8\n",
      "----------------------------------------\n"
     ]
    },
    {
     "name": "stderr",
     "output_type": "stream",
     "text": [
      "Setting `pad_token_id` to `eos_token_id`:50256 for open-end generation.\n"
     ]
    },
    {
     "name": "stdout",
     "output_type": "stream",
     "text": [
      "15 keep head from moving while sleeping on bus -> Protect from water 376 0.8\n",
      "----------------------------------------\n"
     ]
    },
    {
     "name": "stderr",
     "output_type": "stream",
     "text": [
      "Setting `pad_token_id` to `eos_token_id`:50256 for open-end generation.\n"
     ]
    },
    {
     "name": "stdout",
     "output_type": "stream",
     "text": [
      "16 keep head from moving while sleeping on bus -> stop the engine running 387 0.8\n",
      "----------------------------------------\n"
     ]
    },
    {
     "name": "stderr",
     "output_type": "stream",
     "text": [
      "Setting `pad_token_id` to `eos_token_id`:50256 for open-end generation.\n"
     ]
    },
    {
     "name": "stdout",
     "output_type": "stream",
     "text": [
      "17 keep head from moving while sleeping on bus -> Protect from the sun during the winter 398 0.8\n",
      "----------------------------------------\n"
     ]
    },
    {
     "name": "stderr",
     "output_type": "stream",
     "text": [
      "Setting `pad_token_id` to `eos_token_id`:50256 for open-end generation.\n"
     ]
    },
    {
     "name": "stdout",
     "output_type": "stream",
     "text": [
      "18 keep head from moving while sleeping on bus -> prevent blood clotting in stents 409 0.8\n",
      "----------------------------------------\n"
     ]
    },
    {
     "name": "stderr",
     "output_type": "stream",
     "text": [
      "Setting `pad_token_id` to `eos_token_id`:50256 for open-end generation.\n"
     ]
    },
    {
     "name": "stdout",
     "output_type": "stream",
     "text": [
      "19 keep head from moving while sleeping on bus -> keep head from moving while sleeping on bus 420 0.8\n",
      "----------------------------------------\n"
     ]
    },
    {
     "name": "stderr",
     "output_type": "stream",
     "text": [
      "Setting `pad_token_id` to `eos_token_id`:50256 for open-end generation.\n"
     ]
    },
    {
     "name": "stdout",
     "output_type": "stream",
     "text": [
      "20 keep head from moving while sleeping on bus -> prevent contact with objects in a crowd 431 0.8\n",
      "----------------------------------------\n"
     ]
    },
    {
     "name": "stderr",
     "output_type": "stream",
     "text": [
      "Setting `pad_token_id` to `eos_token_id`:50256 for open-end generation.\n"
     ]
    },
    {
     "name": "stdout",
     "output_type": "stream",
     "text": [
      "1 keep head from moving while sleeping on bus -> keep head from moving while sleeping on bus 442 0.9\n",
      "----------------------------------------\n"
     ]
    },
    {
     "name": "stderr",
     "output_type": "stream",
     "text": [
      "Setting `pad_token_id` to `eos_token_id`:50256 for open-end generation.\n"
     ]
    },
    {
     "name": "stdout",
     "output_type": "stream",
     "text": [
      "2 keep head from moving while sleeping on bus -> stop falling object in the middle 454 0.9\n",
      "----------------------------------------\n"
     ]
    },
    {
     "name": "stderr",
     "output_type": "stream",
     "text": [
      "Setting `pad_token_id` to `eos_token_id`:50256 for open-end generation.\n"
     ]
    },
    {
     "name": "stdout",
     "output_type": "stream",
     "text": [
      "3 keep head from moving while sleeping on bus -> keep head from moving while sleeping on bus 465 0.9\n",
      "----------------------------------------\n"
     ]
    },
    {
     "name": "stderr",
     "output_type": "stream",
     "text": [
      "Setting `pad_token_id` to `eos_token_id`:50256 for open-end generation.\n"
     ]
    },
    {
     "name": "stdout",
     "output_type": "stream",
     "text": [
      "4 keep head from moving while sleeping on bus -> prevent baby from getting into contact with unwanted substances 476 0.9\n",
      "----------------------------------------\n"
     ]
    },
    {
     "name": "stderr",
     "output_type": "stream",
     "text": [
      "Setting `pad_token_id` to `eos_token_id`:50256 for open-end generation.\n"
     ]
    },
    {
     "name": "stdout",
     "output_type": "stream",
     "text": [
      "5 keep head from moving while sleeping on bus -> Protect head from becoming caught in a bed 487 0.9\n",
      "----------------------------------------\n"
     ]
    },
    {
     "name": "stderr",
     "output_type": "stream",
     "text": [
      "Setting `pad_token_id` to `eos_token_id`:50256 for open-end generation.\n"
     ]
    },
    {
     "name": "stdout",
     "output_type": "stream",
     "text": [
      "6 keep head from moving while sleeping on bus -> protect object from causing a vibration 498 0.9\n",
      "----------------------------------------\n"
     ]
    },
    {
     "name": "stderr",
     "output_type": "stream",
     "text": [
      "Setting `pad_token_id` to `eos_token_id`:50256 for open-end generation.\n"
     ]
    },
    {
     "name": "stdout",
     "output_type": "stream",
     "text": [
      "7 keep head from moving while sleeping on bus -> prevent dead birds from moving 510 0.9\n",
      "----------------------------------------\n"
     ]
    },
    {
     "name": "stderr",
     "output_type": "stream",
     "text": [
      "Setting `pad_token_id` to `eos_token_id`:50256 for open-end generation.\n"
     ]
    },
    {
     "name": "stdout",
     "output_type": "stream",
     "text": [
      "8 keep head from moving while sleeping on bus -> prevent human being from falling asleep 521 0.9\n",
      "----------------------------------------\n"
     ]
    },
    {
     "name": "stderr",
     "output_type": "stream",
     "text": [
      "Setting `pad_token_id` to `eos_token_id`:50256 for open-end generation.\n"
     ]
    },
    {
     "name": "stdout",
     "output_type": "stream",
     "text": [
      "9 keep head from moving while sleeping on bus -> prevent water from getting into contact with the object 532 0.9\n",
      "----------------------------------------\n"
     ]
    },
    {
     "name": "stderr",
     "output_type": "stream",
     "text": [
      "Setting `pad_token_id` to `eos_token_id`:50256 for open-end generation.\n"
     ]
    },
    {
     "name": "stdout",
     "output_type": "stream",
     "text": [
      "10 keep head from moving while sleeping on bus -> keep head from moving while sleeping during sleep 543 0.9\n",
      "----------------------------------------\n"
     ]
    },
    {
     "name": "stderr",
     "output_type": "stream",
     "text": [
      "Setting `pad_token_id` to `eos_token_id`:50256 for open-end generation.\n"
     ]
    },
    {
     "name": "stdout",
     "output_type": "stream",
     "text": [
      "11 keep head from moving while sleeping on bus -> prevent head from moving while sleeping on bus 554 0.9\n",
      "----------------------------------------\n"
     ]
    },
    {
     "name": "stderr",
     "output_type": "stream",
     "text": [
      "Setting `pad_token_id` to `eos_token_id`:50256 for open-end generation.\n"
     ]
    },
    {
     "name": "stdout",
     "output_type": "stream",
     "text": [
      "12 keep head from moving while sleeping on bus -> keep head from moving while sleeping on bus 565 0.9\n",
      "----------------------------------------\n"
     ]
    },
    {
     "name": "stderr",
     "output_type": "stream",
     "text": [
      "Setting `pad_token_id` to `eos_token_id`:50256 for open-end generation.\n"
     ]
    },
    {
     "name": "stdout",
     "output_type": "stream",
     "text": [
      "13 keep head from moving while sleeping on bus -> prevent water from flowing and cause a drop in temperature 576 0.9\n",
      "----------------------------------------\n"
     ]
    },
    {
     "name": "stderr",
     "output_type": "stream",
     "text": [
      "Setting `pad_token_id` to `eos_token_id`:50256 for open-end generation.\n"
     ]
    },
    {
     "name": "stdout",
     "output_type": "stream",
     "text": [
      "14 keep head from moving while sleeping on bus -> prevent object from getting into contact with water 587 0.9\n",
      "----------------------------------------\n"
     ]
    },
    {
     "name": "stderr",
     "output_type": "stream",
     "text": [
      "Setting `pad_token_id` to `eos_token_id`:50256 for open-end generation.\n"
     ]
    },
    {
     "name": "stdout",
     "output_type": "stream",
     "text": [
      "15 keep head from moving while sleeping on bus -> increase the pressure of the head for a sleeping person 599 0.9\n",
      "----------------------------------------\n"
     ]
    },
    {
     "name": "stderr",
     "output_type": "stream",
     "text": [
      "Setting `pad_token_id` to `eos_token_id`:50256 for open-end generation.\n"
     ]
    },
    {
     "name": "stdout",
     "output_type": "stream",
     "text": [
      "16 keep head from moving while sleeping on bus -> Stop body from moving while sleeping 611 0.9\n",
      "----------------------------------------\n"
     ]
    },
    {
     "name": "stderr",
     "output_type": "stream",
     "text": [
      "Setting `pad_token_id` to `eos_token_id`:50256 for open-end generation.\n"
     ]
    },
    {
     "name": "stdout",
     "output_type": "stream",
     "text": [
      "17 keep head from moving while sleeping on bus -> stop ball from getting into contact with unwanted substances 622 0.9\n",
      "----------------------------------------\n"
     ]
    },
    {
     "name": "stderr",
     "output_type": "stream",
     "text": [
      "Setting `pad_token_id` to `eos_token_id`:50256 for open-end generation.\n"
     ]
    },
    {
     "name": "stdout",
     "output_type": "stream",
     "text": [
      "18 keep head from moving while sleeping on bus -> keep head from moving while sleeping on bus 633 0.9\n",
      "----------------------------------------\n"
     ]
    },
    {
     "name": "stderr",
     "output_type": "stream",
     "text": [
      "Setting `pad_token_id` to `eos_token_id`:50256 for open-end generation.\n"
     ]
    },
    {
     "name": "stdout",
     "output_type": "stream",
     "text": [
      "19 keep head from moving while sleeping on bus -> Protect object from the environment 644 0.9\n",
      "----------------------------------------\n",
      "20 keep head from moving while sleeping on bus -> Protect object from penetrating foreign bodies 655 0.9\n",
      "----------------------------------------\n",
      "Total time taken is 667\n"
     ]
    }
   ],
   "source": [
    "df_125m = generate_output(generator_gpt_neo_125m,20,prompt,20,0.7,'gpt_neo_125m',1)"
   ]
  },
  {
   "cell_type": "code",
   "execution_count": 17,
   "metadata": {},
   "outputs": [
    {
     "data": {
      "text/html": [
       "<div>\n",
       "<style scoped>\n",
       "    .dataframe tbody tr th:only-of-type {\n",
       "        vertical-align: middle;\n",
       "    }\n",
       "\n",
       "    .dataframe tbody tr th {\n",
       "        vertical-align: top;\n",
       "    }\n",
       "\n",
       "    .dataframe thead th {\n",
       "        text-align: right;\n",
       "    }\n",
       "</style>\n",
       "<table border=\"1\" class=\"dataframe\">\n",
       "  <thead>\n",
       "    <tr style=\"text-align: right;\">\n",
       "      <th></th>\n",
       "      <th>id</th>\n",
       "      <th>model_name</th>\n",
       "      <th>iteration</th>\n",
       "      <th>temperature</th>\n",
       "      <th>input_length</th>\n",
       "      <th>problem_statement</th>\n",
       "      <th>abstract_reformulation</th>\n",
       "      <th>cumulative_time_in_seconds</th>\n",
       "    </tr>\n",
       "  </thead>\n",
       "  <tbody>\n",
       "    <tr>\n",
       "      <th>0</th>\n",
       "      <td>AolYsvH</td>\n",
       "      <td>gpt_neo_125m</td>\n",
       "      <td>1</td>\n",
       "      <td>0.7</td>\n",
       "      <td>20</td>\n",
       "      <td>keep head from moving while sleeping on bus</td>\n",
       "      <td>Increase the density of a particle in a space</td>\n",
       "      <td>0</td>\n",
       "    </tr>\n",
       "    <tr>\n",
       "      <th>2</th>\n",
       "      <td>AolYsvH</td>\n",
       "      <td>gpt_neo_125m</td>\n",
       "      <td>2</td>\n",
       "      <td>0.7</td>\n",
       "      <td>20</td>\n",
       "      <td>keep head from moving while sleeping on bus</td>\n",
       "      <td>Prevent falling by using a large head</td>\n",
       "      <td>13</td>\n",
       "    </tr>\n",
       "    <tr>\n",
       "      <th>5</th>\n",
       "      <td>AolYsvH</td>\n",
       "      <td>gpt_neo_125m</td>\n",
       "      <td>3</td>\n",
       "      <td>0.7</td>\n",
       "      <td>20</td>\n",
       "      <td>keep head from moving while sleeping on bus</td>\n",
       "      <td>Prevent object from getting into contact with ...</td>\n",
       "      <td>24</td>\n",
       "    </tr>\n",
       "    <tr>\n",
       "      <th>9</th>\n",
       "      <td>AolYsvH</td>\n",
       "      <td>gpt_neo_125m</td>\n",
       "      <td>4</td>\n",
       "      <td>0.7</td>\n",
       "      <td>20</td>\n",
       "      <td>keep head from moving while sleeping on bus</td>\n",
       "      <td>Stop object from getting into contact with unw...</td>\n",
       "      <td>34</td>\n",
       "    </tr>\n",
       "    <tr>\n",
       "      <th>14</th>\n",
       "      <td>AolYsvH</td>\n",
       "      <td>gpt_neo_125m</td>\n",
       "      <td>5</td>\n",
       "      <td>0.7</td>\n",
       "      <td>20</td>\n",
       "      <td>keep head from moving while sleeping on bus</td>\n",
       "      <td>Remove head from body or head from body</td>\n",
       "      <td>45</td>\n",
       "    </tr>\n",
       "    <tr>\n",
       "      <th>20</th>\n",
       "      <td>AolYsvH</td>\n",
       "      <td>gpt_neo_125m</td>\n",
       "      <td>6</td>\n",
       "      <td>0.7</td>\n",
       "      <td>20</td>\n",
       "      <td>keep head from moving while sleeping on bus</td>\n",
       "      <td>Prevent object from getting into contact with ...</td>\n",
       "      <td>56</td>\n",
       "    </tr>\n",
       "    <tr>\n",
       "      <th>27</th>\n",
       "      <td>AolYsvH</td>\n",
       "      <td>gpt_neo_125m</td>\n",
       "      <td>7</td>\n",
       "      <td>0.7</td>\n",
       "      <td>20</td>\n",
       "      <td>keep head from moving while sleeping on bus</td>\n",
       "      <td>stop the user from getting into contact with u...</td>\n",
       "      <td>67</td>\n",
       "    </tr>\n",
       "    <tr>\n",
       "      <th>35</th>\n",
       "      <td>AolYsvH</td>\n",
       "      <td>gpt_neo_125m</td>\n",
       "      <td>8</td>\n",
       "      <td>0.7</td>\n",
       "      <td>20</td>\n",
       "      <td>keep head from moving while sleeping on bus</td>\n",
       "      <td>prevent head from moving until it stops</td>\n",
       "      <td>77</td>\n",
       "    </tr>\n",
       "    <tr>\n",
       "      <th>44</th>\n",
       "      <td>AolYsvH</td>\n",
       "      <td>gpt_neo_125m</td>\n",
       "      <td>9</td>\n",
       "      <td>0.7</td>\n",
       "      <td>20</td>\n",
       "      <td>keep head from moving while sleeping on bus</td>\n",
       "      <td>Protect the head from falling down</td>\n",
       "      <td>88</td>\n",
       "    </tr>\n",
       "    <tr>\n",
       "      <th>54</th>\n",
       "      <td>AolYsvH</td>\n",
       "      <td>gpt_neo_125m</td>\n",
       "      <td>10</td>\n",
       "      <td>0.7</td>\n",
       "      <td>20</td>\n",
       "      <td>keep head from moving while sleeping on bus</td>\n",
       "      <td>Keep head from getting wet</td>\n",
       "      <td>99</td>\n",
       "    </tr>\n",
       "    <tr>\n",
       "      <th>65</th>\n",
       "      <td>AolYsvH</td>\n",
       "      <td>gpt_neo_125m</td>\n",
       "      <td>11</td>\n",
       "      <td>0.7</td>\n",
       "      <td>20</td>\n",
       "      <td>keep head from moving while sleeping on bus</td>\n",
       "      <td>prevent objects from falling asleep on the bus</td>\n",
       "      <td>111</td>\n",
       "    </tr>\n",
       "    <tr>\n",
       "      <th>77</th>\n",
       "      <td>AolYsvH</td>\n",
       "      <td>gpt_neo_125m</td>\n",
       "      <td>12</td>\n",
       "      <td>0.7</td>\n",
       "      <td>20</td>\n",
       "      <td>keep head from moving while sleeping on bus</td>\n",
       "      <td>keep head from moving from bus</td>\n",
       "      <td>123</td>\n",
       "    </tr>\n",
       "    <tr>\n",
       "      <th>90</th>\n",
       "      <td>AolYsvH</td>\n",
       "      <td>gpt_neo_125m</td>\n",
       "      <td>13</td>\n",
       "      <td>0.7</td>\n",
       "      <td>20</td>\n",
       "      <td>keep head from moving while sleeping on bus</td>\n",
       "      <td>keep head from moving while sleeping on bus</td>\n",
       "      <td>134</td>\n",
       "    </tr>\n",
       "    <tr>\n",
       "      <th>104</th>\n",
       "      <td>AolYsvH</td>\n",
       "      <td>gpt_neo_125m</td>\n",
       "      <td>14</td>\n",
       "      <td>0.7</td>\n",
       "      <td>20</td>\n",
       "      <td>keep head from moving while sleeping on bus</td>\n",
       "      <td>prevent object from getting into contact with ...</td>\n",
       "      <td>145</td>\n",
       "    </tr>\n",
       "    <tr>\n",
       "      <th>119</th>\n",
       "      <td>AolYsvH</td>\n",
       "      <td>gpt_neo_125m</td>\n",
       "      <td>15</td>\n",
       "      <td>0.7</td>\n",
       "      <td>20</td>\n",
       "      <td>keep head from moving while sleeping on bus</td>\n",
       "      <td>keep head from moving while sleeping on bus</td>\n",
       "      <td>156</td>\n",
       "    </tr>\n",
       "    <tr>\n",
       "      <th>135</th>\n",
       "      <td>AolYsvH</td>\n",
       "      <td>gpt_neo_125m</td>\n",
       "      <td>16</td>\n",
       "      <td>0.7</td>\n",
       "      <td>20</td>\n",
       "      <td>keep head from moving while sleeping on bus</td>\n",
       "      <td>Prevent object from getting into contact with ...</td>\n",
       "      <td>167</td>\n",
       "    </tr>\n",
       "    <tr>\n",
       "      <th>152</th>\n",
       "      <td>AolYsvH</td>\n",
       "      <td>gpt_neo_125m</td>\n",
       "      <td>17</td>\n",
       "      <td>0.7</td>\n",
       "      <td>20</td>\n",
       "      <td>keep head from moving while sleeping on bus</td>\n",
       "      <td>Prevent object from getting into contact with ...</td>\n",
       "      <td>178</td>\n",
       "    </tr>\n",
       "    <tr>\n",
       "      <th>170</th>\n",
       "      <td>AolYsvH</td>\n",
       "      <td>gpt_neo_125m</td>\n",
       "      <td>18</td>\n",
       "      <td>0.7</td>\n",
       "      <td>20</td>\n",
       "      <td>keep head from moving while sleeping on bus</td>\n",
       "      <td>Prevent object from getting into contact with ...</td>\n",
       "      <td>190</td>\n",
       "    </tr>\n",
       "    <tr>\n",
       "      <th>189</th>\n",
       "      <td>AolYsvH</td>\n",
       "      <td>gpt_neo_125m</td>\n",
       "      <td>19</td>\n",
       "      <td>0.7</td>\n",
       "      <td>20</td>\n",
       "      <td>keep head from moving while sleeping on bus</td>\n",
       "      <td>Prevent object from getting into contact with ...</td>\n",
       "      <td>201</td>\n",
       "    </tr>\n",
       "    <tr>\n",
       "      <th>209</th>\n",
       "      <td>AolYsvH</td>\n",
       "      <td>gpt_neo_125m</td>\n",
       "      <td>20</td>\n",
       "      <td>0.7</td>\n",
       "      <td>20</td>\n",
       "      <td>keep head from moving while sleeping on bus</td>\n",
       "      <td>Prepare to go to the toilet with a cup of water</td>\n",
       "      <td>212</td>\n",
       "    </tr>\n",
       "    <tr>\n",
       "      <th>230</th>\n",
       "      <td>AolYsvH</td>\n",
       "      <td>gpt_neo_125m</td>\n",
       "      <td>1</td>\n",
       "      <td>0.8</td>\n",
       "      <td>20</td>\n",
       "      <td>keep head from moving while sleeping on bus</td>\n",
       "      <td>keep head from moving while sleeping on bus</td>\n",
       "      <td>223</td>\n",
       "    </tr>\n",
       "    <tr>\n",
       "      <th>252</th>\n",
       "      <td>AolYsvH</td>\n",
       "      <td>gpt_neo_125m</td>\n",
       "      <td>2</td>\n",
       "      <td>0.8</td>\n",
       "      <td>20</td>\n",
       "      <td>keep head from moving while sleeping on bus</td>\n",
       "      <td>prevent people from getting into contact with ...</td>\n",
       "      <td>234</td>\n",
       "    </tr>\n",
       "    <tr>\n",
       "      <th>275</th>\n",
       "      <td>AolYsvH</td>\n",
       "      <td>gpt_neo_125m</td>\n",
       "      <td>3</td>\n",
       "      <td>0.8</td>\n",
       "      <td>20</td>\n",
       "      <td>keep head from moving while sleeping on bus</td>\n",
       "      <td>Stop object from getting into contact with unw...</td>\n",
       "      <td>244</td>\n",
       "    </tr>\n",
       "    <tr>\n",
       "      <th>299</th>\n",
       "      <td>AolYsvH</td>\n",
       "      <td>gpt_neo_125m</td>\n",
       "      <td>4</td>\n",
       "      <td>0.8</td>\n",
       "      <td>20</td>\n",
       "      <td>keep head from moving while sleeping on bus</td>\n",
       "      <td>keep head from moving while sleeping on bus</td>\n",
       "      <td>255</td>\n",
       "    </tr>\n",
       "    <tr>\n",
       "      <th>324</th>\n",
       "      <td>AolYsvH</td>\n",
       "      <td>gpt_neo_125m</td>\n",
       "      <td>5</td>\n",
       "      <td>0.8</td>\n",
       "      <td>20</td>\n",
       "      <td>keep head from moving while sleeping on bus</td>\n",
       "      <td>Prevent water vapor from penetrating an object</td>\n",
       "      <td>266</td>\n",
       "    </tr>\n",
       "    <tr>\n",
       "      <th>350</th>\n",
       "      <td>AolYsvH</td>\n",
       "      <td>gpt_neo_125m</td>\n",
       "      <td>6</td>\n",
       "      <td>0.8</td>\n",
       "      <td>20</td>\n",
       "      <td>keep head from moving while sleeping on bus</td>\n",
       "      <td>prevent sunburns</td>\n",
       "      <td>277</td>\n",
       "    </tr>\n",
       "    <tr>\n",
       "      <th>377</th>\n",
       "      <td>AolYsvH</td>\n",
       "      <td>gpt_neo_125m</td>\n",
       "      <td>7</td>\n",
       "      <td>0.8</td>\n",
       "      <td>20</td>\n",
       "      <td>keep head from moving while sleeping on bus</td>\n",
       "      <td>Prevent the sun from getting into contact with...</td>\n",
       "      <td>288</td>\n",
       "    </tr>\n",
       "    <tr>\n",
       "      <th>405</th>\n",
       "      <td>AolYsvH</td>\n",
       "      <td>gpt_neo_125m</td>\n",
       "      <td>8</td>\n",
       "      <td>0.8</td>\n",
       "      <td>20</td>\n",
       "      <td>keep head from moving while sleeping on bus</td>\n",
       "      <td>Remove water from an active object</td>\n",
       "      <td>299</td>\n",
       "    </tr>\n",
       "    <tr>\n",
       "      <th>434</th>\n",
       "      <td>AolYsvH</td>\n",
       "      <td>gpt_neo_125m</td>\n",
       "      <td>9</td>\n",
       "      <td>0.8</td>\n",
       "      <td>20</td>\n",
       "      <td>keep head from moving while sleeping on bus</td>\n",
       "      <td>avoid excessive movement of head</td>\n",
       "      <td>310</td>\n",
       "    </tr>\n",
       "    <tr>\n",
       "      <th>464</th>\n",
       "      <td>AolYsvH</td>\n",
       "      <td>gpt_neo_125m</td>\n",
       "      <td>10</td>\n",
       "      <td>0.8</td>\n",
       "      <td>20</td>\n",
       "      <td>keep head from moving while sleeping on bus</td>\n",
       "      <td>Save body from being submerged</td>\n",
       "      <td>321</td>\n",
       "    </tr>\n",
       "    <tr>\n",
       "      <th>495</th>\n",
       "      <td>AolYsvH</td>\n",
       "      <td>gpt_neo_125m</td>\n",
       "      <td>11</td>\n",
       "      <td>0.8</td>\n",
       "      <td>20</td>\n",
       "      <td>keep head from moving while sleeping on bus</td>\n",
       "      <td>stop object from getting into contact with sur...</td>\n",
       "      <td>332</td>\n",
       "    </tr>\n",
       "    <tr>\n",
       "      <th>527</th>\n",
       "      <td>AolYsvH</td>\n",
       "      <td>gpt_neo_125m</td>\n",
       "      <td>12</td>\n",
       "      <td>0.8</td>\n",
       "      <td>20</td>\n",
       "      <td>keep head from moving while sleeping on bus</td>\n",
       "      <td>keep head from moving while sleeping on bus</td>\n",
       "      <td>343</td>\n",
       "    </tr>\n",
       "    <tr>\n",
       "      <th>560</th>\n",
       "      <td>AolYsvH</td>\n",
       "      <td>gpt_neo_125m</td>\n",
       "      <td>13</td>\n",
       "      <td>0.8</td>\n",
       "      <td>20</td>\n",
       "      <td>keep head from moving while sleeping on bus</td>\n",
       "      <td>prevent head from moving while sleeping on bus</td>\n",
       "      <td>353</td>\n",
       "    </tr>\n",
       "    <tr>\n",
       "      <th>594</th>\n",
       "      <td>AolYsvH</td>\n",
       "      <td>gpt_neo_125m</td>\n",
       "      <td>14</td>\n",
       "      <td>0.8</td>\n",
       "      <td>20</td>\n",
       "      <td>keep head from moving while sleeping on bus</td>\n",
       "      <td>stop object from getting into contact with unw...</td>\n",
       "      <td>365</td>\n",
       "    </tr>\n",
       "    <tr>\n",
       "      <th>629</th>\n",
       "      <td>AolYsvH</td>\n",
       "      <td>gpt_neo_125m</td>\n",
       "      <td>15</td>\n",
       "      <td>0.8</td>\n",
       "      <td>20</td>\n",
       "      <td>keep head from moving while sleeping on bus</td>\n",
       "      <td>Protect from water</td>\n",
       "      <td>376</td>\n",
       "    </tr>\n",
       "    <tr>\n",
       "      <th>665</th>\n",
       "      <td>AolYsvH</td>\n",
       "      <td>gpt_neo_125m</td>\n",
       "      <td>16</td>\n",
       "      <td>0.8</td>\n",
       "      <td>20</td>\n",
       "      <td>keep head from moving while sleeping on bus</td>\n",
       "      <td>stop the engine running</td>\n",
       "      <td>387</td>\n",
       "    </tr>\n",
       "    <tr>\n",
       "      <th>702</th>\n",
       "      <td>AolYsvH</td>\n",
       "      <td>gpt_neo_125m</td>\n",
       "      <td>17</td>\n",
       "      <td>0.8</td>\n",
       "      <td>20</td>\n",
       "      <td>keep head from moving while sleeping on bus</td>\n",
       "      <td>Protect from the sun during the winter</td>\n",
       "      <td>398</td>\n",
       "    </tr>\n",
       "    <tr>\n",
       "      <th>740</th>\n",
       "      <td>AolYsvH</td>\n",
       "      <td>gpt_neo_125m</td>\n",
       "      <td>18</td>\n",
       "      <td>0.8</td>\n",
       "      <td>20</td>\n",
       "      <td>keep head from moving while sleeping on bus</td>\n",
       "      <td>prevent blood clotting in stents</td>\n",
       "      <td>409</td>\n",
       "    </tr>\n",
       "    <tr>\n",
       "      <th>779</th>\n",
       "      <td>AolYsvH</td>\n",
       "      <td>gpt_neo_125m</td>\n",
       "      <td>19</td>\n",
       "      <td>0.8</td>\n",
       "      <td>20</td>\n",
       "      <td>keep head from moving while sleeping on bus</td>\n",
       "      <td>keep head from moving while sleeping on bus</td>\n",
       "      <td>420</td>\n",
       "    </tr>\n",
       "    <tr>\n",
       "      <th>819</th>\n",
       "      <td>AolYsvH</td>\n",
       "      <td>gpt_neo_125m</td>\n",
       "      <td>20</td>\n",
       "      <td>0.8</td>\n",
       "      <td>20</td>\n",
       "      <td>keep head from moving while sleeping on bus</td>\n",
       "      <td>prevent contact with objects in a crowd</td>\n",
       "      <td>431</td>\n",
       "    </tr>\n",
       "    <tr>\n",
       "      <th>860</th>\n",
       "      <td>AolYsvH</td>\n",
       "      <td>gpt_neo_125m</td>\n",
       "      <td>1</td>\n",
       "      <td>0.9</td>\n",
       "      <td>20</td>\n",
       "      <td>keep head from moving while sleeping on bus</td>\n",
       "      <td>keep head from moving while sleeping on bus</td>\n",
       "      <td>442</td>\n",
       "    </tr>\n",
       "    <tr>\n",
       "      <th>902</th>\n",
       "      <td>AolYsvH</td>\n",
       "      <td>gpt_neo_125m</td>\n",
       "      <td>2</td>\n",
       "      <td>0.9</td>\n",
       "      <td>20</td>\n",
       "      <td>keep head from moving while sleeping on bus</td>\n",
       "      <td>stop falling object in the middle</td>\n",
       "      <td>454</td>\n",
       "    </tr>\n",
       "    <tr>\n",
       "      <th>945</th>\n",
       "      <td>AolYsvH</td>\n",
       "      <td>gpt_neo_125m</td>\n",
       "      <td>3</td>\n",
       "      <td>0.9</td>\n",
       "      <td>20</td>\n",
       "      <td>keep head from moving while sleeping on bus</td>\n",
       "      <td>keep head from moving while sleeping on bus</td>\n",
       "      <td>465</td>\n",
       "    </tr>\n",
       "    <tr>\n",
       "      <th>989</th>\n",
       "      <td>AolYsvH</td>\n",
       "      <td>gpt_neo_125m</td>\n",
       "      <td>4</td>\n",
       "      <td>0.9</td>\n",
       "      <td>20</td>\n",
       "      <td>keep head from moving while sleeping on bus</td>\n",
       "      <td>prevent baby from getting into contact with un...</td>\n",
       "      <td>476</td>\n",
       "    </tr>\n",
       "    <tr>\n",
       "      <th>1034</th>\n",
       "      <td>AolYsvH</td>\n",
       "      <td>gpt_neo_125m</td>\n",
       "      <td>5</td>\n",
       "      <td>0.9</td>\n",
       "      <td>20</td>\n",
       "      <td>keep head from moving while sleeping on bus</td>\n",
       "      <td>Protect head from becoming caught in a bed</td>\n",
       "      <td>487</td>\n",
       "    </tr>\n",
       "    <tr>\n",
       "      <th>1080</th>\n",
       "      <td>AolYsvH</td>\n",
       "      <td>gpt_neo_125m</td>\n",
       "      <td>6</td>\n",
       "      <td>0.9</td>\n",
       "      <td>20</td>\n",
       "      <td>keep head from moving while sleeping on bus</td>\n",
       "      <td>protect object from causing a vibration</td>\n",
       "      <td>498</td>\n",
       "    </tr>\n",
       "    <tr>\n",
       "      <th>1127</th>\n",
       "      <td>AolYsvH</td>\n",
       "      <td>gpt_neo_125m</td>\n",
       "      <td>7</td>\n",
       "      <td>0.9</td>\n",
       "      <td>20</td>\n",
       "      <td>keep head from moving while sleeping on bus</td>\n",
       "      <td>prevent dead birds from moving</td>\n",
       "      <td>510</td>\n",
       "    </tr>\n",
       "    <tr>\n",
       "      <th>1175</th>\n",
       "      <td>AolYsvH</td>\n",
       "      <td>gpt_neo_125m</td>\n",
       "      <td>8</td>\n",
       "      <td>0.9</td>\n",
       "      <td>20</td>\n",
       "      <td>keep head from moving while sleeping on bus</td>\n",
       "      <td>prevent human being from falling asleep</td>\n",
       "      <td>521</td>\n",
       "    </tr>\n",
       "    <tr>\n",
       "      <th>1224</th>\n",
       "      <td>AolYsvH</td>\n",
       "      <td>gpt_neo_125m</td>\n",
       "      <td>9</td>\n",
       "      <td>0.9</td>\n",
       "      <td>20</td>\n",
       "      <td>keep head from moving while sleeping on bus</td>\n",
       "      <td>prevent water from getting into contact with t...</td>\n",
       "      <td>532</td>\n",
       "    </tr>\n",
       "    <tr>\n",
       "      <th>1274</th>\n",
       "      <td>AolYsvH</td>\n",
       "      <td>gpt_neo_125m</td>\n",
       "      <td>10</td>\n",
       "      <td>0.9</td>\n",
       "      <td>20</td>\n",
       "      <td>keep head from moving while sleeping on bus</td>\n",
       "      <td>keep head from moving while sleeping during sleep</td>\n",
       "      <td>543</td>\n",
       "    </tr>\n",
       "    <tr>\n",
       "      <th>1325</th>\n",
       "      <td>AolYsvH</td>\n",
       "      <td>gpt_neo_125m</td>\n",
       "      <td>11</td>\n",
       "      <td>0.9</td>\n",
       "      <td>20</td>\n",
       "      <td>keep head from moving while sleeping on bus</td>\n",
       "      <td>prevent head from moving while sleeping on bus</td>\n",
       "      <td>554</td>\n",
       "    </tr>\n",
       "    <tr>\n",
       "      <th>1377</th>\n",
       "      <td>AolYsvH</td>\n",
       "      <td>gpt_neo_125m</td>\n",
       "      <td>12</td>\n",
       "      <td>0.9</td>\n",
       "      <td>20</td>\n",
       "      <td>keep head from moving while sleeping on bus</td>\n",
       "      <td>keep head from moving while sleeping on bus</td>\n",
       "      <td>565</td>\n",
       "    </tr>\n",
       "    <tr>\n",
       "      <th>1430</th>\n",
       "      <td>AolYsvH</td>\n",
       "      <td>gpt_neo_125m</td>\n",
       "      <td>13</td>\n",
       "      <td>0.9</td>\n",
       "      <td>20</td>\n",
       "      <td>keep head from moving while sleeping on bus</td>\n",
       "      <td>prevent water from flowing and cause a drop in...</td>\n",
       "      <td>576</td>\n",
       "    </tr>\n",
       "    <tr>\n",
       "      <th>1484</th>\n",
       "      <td>AolYsvH</td>\n",
       "      <td>gpt_neo_125m</td>\n",
       "      <td>14</td>\n",
       "      <td>0.9</td>\n",
       "      <td>20</td>\n",
       "      <td>keep head from moving while sleeping on bus</td>\n",
       "      <td>prevent object from getting into contact with ...</td>\n",
       "      <td>587</td>\n",
       "    </tr>\n",
       "    <tr>\n",
       "      <th>1539</th>\n",
       "      <td>AolYsvH</td>\n",
       "      <td>gpt_neo_125m</td>\n",
       "      <td>15</td>\n",
       "      <td>0.9</td>\n",
       "      <td>20</td>\n",
       "      <td>keep head from moving while sleeping on bus</td>\n",
       "      <td>increase the pressure of the head for a sleepi...</td>\n",
       "      <td>599</td>\n",
       "    </tr>\n",
       "    <tr>\n",
       "      <th>1595</th>\n",
       "      <td>AolYsvH</td>\n",
       "      <td>gpt_neo_125m</td>\n",
       "      <td>16</td>\n",
       "      <td>0.9</td>\n",
       "      <td>20</td>\n",
       "      <td>keep head from moving while sleeping on bus</td>\n",
       "      <td>Stop body from moving while sleeping</td>\n",
       "      <td>611</td>\n",
       "    </tr>\n",
       "    <tr>\n",
       "      <th>1652</th>\n",
       "      <td>AolYsvH</td>\n",
       "      <td>gpt_neo_125m</td>\n",
       "      <td>17</td>\n",
       "      <td>0.9</td>\n",
       "      <td>20</td>\n",
       "      <td>keep head from moving while sleeping on bus</td>\n",
       "      <td>stop ball from getting into contact with unwan...</td>\n",
       "      <td>622</td>\n",
       "    </tr>\n",
       "    <tr>\n",
       "      <th>1710</th>\n",
       "      <td>AolYsvH</td>\n",
       "      <td>gpt_neo_125m</td>\n",
       "      <td>18</td>\n",
       "      <td>0.9</td>\n",
       "      <td>20</td>\n",
       "      <td>keep head from moving while sleeping on bus</td>\n",
       "      <td>keep head from moving while sleeping on bus</td>\n",
       "      <td>633</td>\n",
       "    </tr>\n",
       "    <tr>\n",
       "      <th>1769</th>\n",
       "      <td>AolYsvH</td>\n",
       "      <td>gpt_neo_125m</td>\n",
       "      <td>19</td>\n",
       "      <td>0.9</td>\n",
       "      <td>20</td>\n",
       "      <td>keep head from moving while sleeping on bus</td>\n",
       "      <td>Protect object from the environment</td>\n",
       "      <td>644</td>\n",
       "    </tr>\n",
       "    <tr>\n",
       "      <th>1829</th>\n",
       "      <td>AolYsvH</td>\n",
       "      <td>gpt_neo_125m</td>\n",
       "      <td>20</td>\n",
       "      <td>0.9</td>\n",
       "      <td>20</td>\n",
       "      <td>keep head from moving while sleeping on bus</td>\n",
       "      <td>Protect object from penetrating foreign bodies</td>\n",
       "      <td>655</td>\n",
       "    </tr>\n",
       "  </tbody>\n",
       "</table>\n",
       "</div>"
      ],
      "text/plain": [
       "           id    model_name iteration  temperature input_length  \\\n",
       "0     AolYsvH  gpt_neo_125m         1          0.7           20   \n",
       "2     AolYsvH  gpt_neo_125m         2          0.7           20   \n",
       "5     AolYsvH  gpt_neo_125m         3          0.7           20   \n",
       "9     AolYsvH  gpt_neo_125m         4          0.7           20   \n",
       "14    AolYsvH  gpt_neo_125m         5          0.7           20   \n",
       "20    AolYsvH  gpt_neo_125m         6          0.7           20   \n",
       "27    AolYsvH  gpt_neo_125m         7          0.7           20   \n",
       "35    AolYsvH  gpt_neo_125m         8          0.7           20   \n",
       "44    AolYsvH  gpt_neo_125m         9          0.7           20   \n",
       "54    AolYsvH  gpt_neo_125m        10          0.7           20   \n",
       "65    AolYsvH  gpt_neo_125m        11          0.7           20   \n",
       "77    AolYsvH  gpt_neo_125m        12          0.7           20   \n",
       "90    AolYsvH  gpt_neo_125m        13          0.7           20   \n",
       "104   AolYsvH  gpt_neo_125m        14          0.7           20   \n",
       "119   AolYsvH  gpt_neo_125m        15          0.7           20   \n",
       "135   AolYsvH  gpt_neo_125m        16          0.7           20   \n",
       "152   AolYsvH  gpt_neo_125m        17          0.7           20   \n",
       "170   AolYsvH  gpt_neo_125m        18          0.7           20   \n",
       "189   AolYsvH  gpt_neo_125m        19          0.7           20   \n",
       "209   AolYsvH  gpt_neo_125m        20          0.7           20   \n",
       "230   AolYsvH  gpt_neo_125m         1          0.8           20   \n",
       "252   AolYsvH  gpt_neo_125m         2          0.8           20   \n",
       "275   AolYsvH  gpt_neo_125m         3          0.8           20   \n",
       "299   AolYsvH  gpt_neo_125m         4          0.8           20   \n",
       "324   AolYsvH  gpt_neo_125m         5          0.8           20   \n",
       "350   AolYsvH  gpt_neo_125m         6          0.8           20   \n",
       "377   AolYsvH  gpt_neo_125m         7          0.8           20   \n",
       "405   AolYsvH  gpt_neo_125m         8          0.8           20   \n",
       "434   AolYsvH  gpt_neo_125m         9          0.8           20   \n",
       "464   AolYsvH  gpt_neo_125m        10          0.8           20   \n",
       "495   AolYsvH  gpt_neo_125m        11          0.8           20   \n",
       "527   AolYsvH  gpt_neo_125m        12          0.8           20   \n",
       "560   AolYsvH  gpt_neo_125m        13          0.8           20   \n",
       "594   AolYsvH  gpt_neo_125m        14          0.8           20   \n",
       "629   AolYsvH  gpt_neo_125m        15          0.8           20   \n",
       "665   AolYsvH  gpt_neo_125m        16          0.8           20   \n",
       "702   AolYsvH  gpt_neo_125m        17          0.8           20   \n",
       "740   AolYsvH  gpt_neo_125m        18          0.8           20   \n",
       "779   AolYsvH  gpt_neo_125m        19          0.8           20   \n",
       "819   AolYsvH  gpt_neo_125m        20          0.8           20   \n",
       "860   AolYsvH  gpt_neo_125m         1          0.9           20   \n",
       "902   AolYsvH  gpt_neo_125m         2          0.9           20   \n",
       "945   AolYsvH  gpt_neo_125m         3          0.9           20   \n",
       "989   AolYsvH  gpt_neo_125m         4          0.9           20   \n",
       "1034  AolYsvH  gpt_neo_125m         5          0.9           20   \n",
       "1080  AolYsvH  gpt_neo_125m         6          0.9           20   \n",
       "1127  AolYsvH  gpt_neo_125m         7          0.9           20   \n",
       "1175  AolYsvH  gpt_neo_125m         8          0.9           20   \n",
       "1224  AolYsvH  gpt_neo_125m         9          0.9           20   \n",
       "1274  AolYsvH  gpt_neo_125m        10          0.9           20   \n",
       "1325  AolYsvH  gpt_neo_125m        11          0.9           20   \n",
       "1377  AolYsvH  gpt_neo_125m        12          0.9           20   \n",
       "1430  AolYsvH  gpt_neo_125m        13          0.9           20   \n",
       "1484  AolYsvH  gpt_neo_125m        14          0.9           20   \n",
       "1539  AolYsvH  gpt_neo_125m        15          0.9           20   \n",
       "1595  AolYsvH  gpt_neo_125m        16          0.9           20   \n",
       "1652  AolYsvH  gpt_neo_125m        17          0.9           20   \n",
       "1710  AolYsvH  gpt_neo_125m        18          0.9           20   \n",
       "1769  AolYsvH  gpt_neo_125m        19          0.9           20   \n",
       "1829  AolYsvH  gpt_neo_125m        20          0.9           20   \n",
       "\n",
       "                                problem_statement  \\\n",
       "0     keep head from moving while sleeping on bus   \n",
       "2     keep head from moving while sleeping on bus   \n",
       "5     keep head from moving while sleeping on bus   \n",
       "9     keep head from moving while sleeping on bus   \n",
       "14    keep head from moving while sleeping on bus   \n",
       "20    keep head from moving while sleeping on bus   \n",
       "27    keep head from moving while sleeping on bus   \n",
       "35    keep head from moving while sleeping on bus   \n",
       "44    keep head from moving while sleeping on bus   \n",
       "54    keep head from moving while sleeping on bus   \n",
       "65    keep head from moving while sleeping on bus   \n",
       "77    keep head from moving while sleeping on bus   \n",
       "90    keep head from moving while sleeping on bus   \n",
       "104   keep head from moving while sleeping on bus   \n",
       "119   keep head from moving while sleeping on bus   \n",
       "135   keep head from moving while sleeping on bus   \n",
       "152   keep head from moving while sleeping on bus   \n",
       "170   keep head from moving while sleeping on bus   \n",
       "189   keep head from moving while sleeping on bus   \n",
       "209   keep head from moving while sleeping on bus   \n",
       "230   keep head from moving while sleeping on bus   \n",
       "252   keep head from moving while sleeping on bus   \n",
       "275   keep head from moving while sleeping on bus   \n",
       "299   keep head from moving while sleeping on bus   \n",
       "324   keep head from moving while sleeping on bus   \n",
       "350   keep head from moving while sleeping on bus   \n",
       "377   keep head from moving while sleeping on bus   \n",
       "405   keep head from moving while sleeping on bus   \n",
       "434   keep head from moving while sleeping on bus   \n",
       "464   keep head from moving while sleeping on bus   \n",
       "495   keep head from moving while sleeping on bus   \n",
       "527   keep head from moving while sleeping on bus   \n",
       "560   keep head from moving while sleeping on bus   \n",
       "594   keep head from moving while sleeping on bus   \n",
       "629   keep head from moving while sleeping on bus   \n",
       "665   keep head from moving while sleeping on bus   \n",
       "702   keep head from moving while sleeping on bus   \n",
       "740   keep head from moving while sleeping on bus   \n",
       "779   keep head from moving while sleeping on bus   \n",
       "819   keep head from moving while sleeping on bus   \n",
       "860   keep head from moving while sleeping on bus   \n",
       "902   keep head from moving while sleeping on bus   \n",
       "945   keep head from moving while sleeping on bus   \n",
       "989   keep head from moving while sleeping on bus   \n",
       "1034  keep head from moving while sleeping on bus   \n",
       "1080  keep head from moving while sleeping on bus   \n",
       "1127  keep head from moving while sleeping on bus   \n",
       "1175  keep head from moving while sleeping on bus   \n",
       "1224  keep head from moving while sleeping on bus   \n",
       "1274  keep head from moving while sleeping on bus   \n",
       "1325  keep head from moving while sleeping on bus   \n",
       "1377  keep head from moving while sleeping on bus   \n",
       "1430  keep head from moving while sleeping on bus   \n",
       "1484  keep head from moving while sleeping on bus   \n",
       "1539  keep head from moving while sleeping on bus   \n",
       "1595  keep head from moving while sleeping on bus   \n",
       "1652  keep head from moving while sleeping on bus   \n",
       "1710  keep head from moving while sleeping on bus   \n",
       "1769  keep head from moving while sleeping on bus   \n",
       "1829  keep head from moving while sleeping on bus   \n",
       "\n",
       "                                 abstract_reformulation  \\\n",
       "0         Increase the density of a particle in a space   \n",
       "2                 Prevent falling by using a large head   \n",
       "5     Prevent object from getting into contact with ...   \n",
       "9     Stop object from getting into contact with unw...   \n",
       "14              Remove head from body or head from body   \n",
       "20    Prevent object from getting into contact with ...   \n",
       "27    stop the user from getting into contact with u...   \n",
       "35              prevent head from moving until it stops   \n",
       "44                   Protect the head from falling down   \n",
       "54                           Keep head from getting wet   \n",
       "65       prevent objects from falling asleep on the bus   \n",
       "77                       keep head from moving from bus   \n",
       "90          keep head from moving while sleeping on bus   \n",
       "104   prevent object from getting into contact with ...   \n",
       "119         keep head from moving while sleeping on bus   \n",
       "135   Prevent object from getting into contact with ...   \n",
       "152   Prevent object from getting into contact with ...   \n",
       "170   Prevent object from getting into contact with ...   \n",
       "189   Prevent object from getting into contact with ...   \n",
       "209     Prepare to go to the toilet with a cup of water   \n",
       "230         keep head from moving while sleeping on bus   \n",
       "252   prevent people from getting into contact with ...   \n",
       "275   Stop object from getting into contact with unw...   \n",
       "299         keep head from moving while sleeping on bus   \n",
       "324      Prevent water vapor from penetrating an object   \n",
       "350                                    prevent sunburns   \n",
       "377   Prevent the sun from getting into contact with...   \n",
       "405                  Remove water from an active object   \n",
       "434                    avoid excessive movement of head   \n",
       "464                      Save body from being submerged   \n",
       "495   stop object from getting into contact with sur...   \n",
       "527         keep head from moving while sleeping on bus   \n",
       "560      prevent head from moving while sleeping on bus   \n",
       "594   stop object from getting into contact with unw...   \n",
       "629                                  Protect from water   \n",
       "665                             stop the engine running   \n",
       "702              Protect from the sun during the winter   \n",
       "740                    prevent blood clotting in stents   \n",
       "779         keep head from moving while sleeping on bus   \n",
       "819             prevent contact with objects in a crowd   \n",
       "860         keep head from moving while sleeping on bus   \n",
       "902                   stop falling object in the middle   \n",
       "945         keep head from moving while sleeping on bus   \n",
       "989   prevent baby from getting into contact with un...   \n",
       "1034         Protect head from becoming caught in a bed   \n",
       "1080            protect object from causing a vibration   \n",
       "1127                     prevent dead birds from moving   \n",
       "1175            prevent human being from falling asleep   \n",
       "1224  prevent water from getting into contact with t...   \n",
       "1274  keep head from moving while sleeping during sleep   \n",
       "1325     prevent head from moving while sleeping on bus   \n",
       "1377        keep head from moving while sleeping on bus   \n",
       "1430  prevent water from flowing and cause a drop in...   \n",
       "1484  prevent object from getting into contact with ...   \n",
       "1539  increase the pressure of the head for a sleepi...   \n",
       "1595               Stop body from moving while sleeping   \n",
       "1652  stop ball from getting into contact with unwan...   \n",
       "1710        keep head from moving while sleeping on bus   \n",
       "1769                Protect object from the environment   \n",
       "1829     Protect object from penetrating foreign bodies   \n",
       "\n",
       "     cumulative_time_in_seconds  \n",
       "0                             0  \n",
       "2                            13  \n",
       "5                            24  \n",
       "9                            34  \n",
       "14                           45  \n",
       "20                           56  \n",
       "27                           67  \n",
       "35                           77  \n",
       "44                           88  \n",
       "54                           99  \n",
       "65                          111  \n",
       "77                          123  \n",
       "90                          134  \n",
       "104                         145  \n",
       "119                         156  \n",
       "135                         167  \n",
       "152                         178  \n",
       "170                         190  \n",
       "189                         201  \n",
       "209                         212  \n",
       "230                         223  \n",
       "252                         234  \n",
       "275                         244  \n",
       "299                         255  \n",
       "324                         266  \n",
       "350                         277  \n",
       "377                         288  \n",
       "405                         299  \n",
       "434                         310  \n",
       "464                         321  \n",
       "495                         332  \n",
       "527                         343  \n",
       "560                         353  \n",
       "594                         365  \n",
       "629                         376  \n",
       "665                         387  \n",
       "702                         398  \n",
       "740                         409  \n",
       "779                         420  \n",
       "819                         431  \n",
       "860                         442  \n",
       "902                         454  \n",
       "945                         465  \n",
       "989                         476  \n",
       "1034                        487  \n",
       "1080                        498  \n",
       "1127                        510  \n",
       "1175                        521  \n",
       "1224                        532  \n",
       "1274                        543  \n",
       "1325                        554  \n",
       "1377                        565  \n",
       "1430                        576  \n",
       "1484                        587  \n",
       "1539                        599  \n",
       "1595                        611  \n",
       "1652                        622  \n",
       "1710                        633  \n",
       "1769                        644  \n",
       "1829                        655  "
      ]
     },
     "execution_count": 17,
     "metadata": {},
     "output_type": "execute_result"
    }
   ],
   "source": [
    "df_125m"
   ]
  },
  {
   "cell_type": "code",
   "execution_count": 152,
   "metadata": {},
   "outputs": [],
   "source": [
    "# res_generator_gpt_neo_1_3b = generator_gpt_neo_1_3b(prompt,max_length = 400, do_sample = True,temperature = 0.9)"
   ]
  },
  {
   "cell_type": "code",
   "execution_count": 18,
   "metadata": {},
   "outputs": [
    {
     "name": "stderr",
     "output_type": "stream",
     "text": [
      "Setting `pad_token_id` to `eos_token_id`:50256 for open-end generation.\n",
      "Setting `pad_token_id` to `eos_token_id`:50256 for open-end generation.\n"
     ]
    },
    {
     "name": "stdout",
     "output_type": "stream",
     "text": [
      "1 keep head from moving while sleeping on bus -> Prevent objects from moving in the same direction 0 0.7\n",
      "----------------------------------------\n"
     ]
    },
    {
     "name": "stderr",
     "output_type": "stream",
     "text": [
      "Setting `pad_token_id` to `eos_token_id`:50256 for open-end generation.\n"
     ]
    },
    {
     "name": "stdout",
     "output_type": "stream",
     "text": [
      "2 keep head from moving while sleeping on bus -> Avoid jerky movements 109 0.7\n",
      "----------------------------------------\n"
     ]
    },
    {
     "name": "stderr",
     "output_type": "stream",
     "text": [
      "Setting `pad_token_id` to `eos_token_id`:50256 for open-end generation.\n"
     ]
    },
    {
     "name": "stdout",
     "output_type": "stream",
     "text": [
      "3 keep head from moving while sleeping on bus -> keep head from moving while sleeping on a bed 205 0.7\n",
      "----------------------------------------\n"
     ]
    },
    {
     "name": "stderr",
     "output_type": "stream",
     "text": [
      "Setting `pad_token_id` to `eos_token_id`:50256 for open-end generation.\n"
     ]
    },
    {
     "name": "stdout",
     "output_type": "stream",
     "text": [
      "4 keep head from moving while sleeping on bus -> prevent motion of objects 305 0.7\n",
      "----------------------------------------\n"
     ]
    },
    {
     "name": "stderr",
     "output_type": "stream",
     "text": [
      "Setting `pad_token_id` to `eos_token_id`:50256 for open-end generation.\n"
     ]
    },
    {
     "name": "stdout",
     "output_type": "stream",
     "text": [
      "5 keep head from moving while sleeping on bus -> Control the position of the head without disturbing the body 403 0.7\n",
      "----------------------------------------\n"
     ]
    },
    {
     "name": "stderr",
     "output_type": "stream",
     "text": [
      "Setting `pad_token_id` to `eos_token_id`:50256 for open-end generation.\n"
     ]
    },
    {
     "name": "stdout",
     "output_type": "stream",
     "text": [
      "6 keep head from moving while sleeping on bus -> Keep head in the same plane as the rest of body 501 0.7\n",
      "----------------------------------------\n"
     ]
    },
    {
     "name": "stderr",
     "output_type": "stream",
     "text": [
      "Setting `pad_token_id` to `eos_token_id`:50256 for open-end generation.\n"
     ]
    },
    {
     "name": "stdout",
     "output_type": "stream",
     "text": [
      "7 keep head from moving while sleeping on bus -> Prevent movement of objects in a space 598 0.7\n",
      "----------------------------------------\n"
     ]
    },
    {
     "name": "stderr",
     "output_type": "stream",
     "text": [
      "Setting `pad_token_id` to `eos_token_id`:50256 for open-end generation.\n"
     ]
    },
    {
     "name": "stdout",
     "output_type": "stream",
     "text": [
      "8 keep head from moving while sleeping on bus -> Avoid unnecessary movement of an object 701 0.7\n",
      "----------------------------------------\n"
     ]
    },
    {
     "name": "stderr",
     "output_type": "stream",
     "text": [
      "Setting `pad_token_id` to `eos_token_id`:50256 for open-end generation.\n"
     ]
    },
    {
     "name": "stdout",
     "output_type": "stream",
     "text": [
      "9 keep head from moving while sleeping on bus -> prevent head from moving while the user is not awake 803 0.7\n",
      "----------------------------------------\n"
     ]
    },
    {
     "name": "stderr",
     "output_type": "stream",
     "text": [
      "Setting `pad_token_id` to `eos_token_id`:50256 for open-end generation.\n"
     ]
    },
    {
     "name": "stdout",
     "output_type": "stream",
     "text": [
      "10 keep head from moving while sleeping on bus -> prevent head from being displaced while sleeping 904 0.7\n",
      "----------------------------------------\n"
     ]
    },
    {
     "name": "stderr",
     "output_type": "stream",
     "text": [
      "Setting `pad_token_id` to `eos_token_id`:50256 for open-end generation.\n"
     ]
    },
    {
     "name": "stdout",
     "output_type": "stream",
     "text": [
      "11 keep head from moving while sleeping on bus -> Place a barrier between an object and the user 1002 0.7\n",
      "----------------------------------------\n"
     ]
    },
    {
     "name": "stderr",
     "output_type": "stream",
     "text": [
      "Setting `pad_token_id` to `eos_token_id`:50256 for open-end generation.\n"
     ]
    },
    {
     "name": "stdout",
     "output_type": "stream",
     "text": [
      "12 keep head from moving while sleeping on bus -> keep object in position and prevent head from moving 1096 0.7\n",
      "----------------------------------------\n"
     ]
    },
    {
     "name": "stderr",
     "output_type": "stream",
     "text": [
      "Setting `pad_token_id` to `eos_token_id`:50256 for open-end generation.\n"
     ]
    },
    {
     "name": "stdout",
     "output_type": "stream",
     "text": [
      "13 keep head from moving while sleeping on bus -> keep head in the same position while sleeping on a train 1189 0.7\n",
      "----------------------------------------\n"
     ]
    },
    {
     "name": "stderr",
     "output_type": "stream",
     "text": [
      "Setting `pad_token_id` to `eos_token_id`:50256 for open-end generation.\n"
     ]
    },
    {
     "name": "stdout",
     "output_type": "stream",
     "text": [
      "14 keep head from moving while sleeping on bus -> keep head in a stable position 1282 0.7\n",
      "----------------------------------------\n"
     ]
    },
    {
     "name": "stderr",
     "output_type": "stream",
     "text": [
      "Setting `pad_token_id` to `eos_token_id`:50256 for open-end generation.\n"
     ]
    },
    {
     "name": "stdout",
     "output_type": "stream",
     "text": [
      "15 keep head from moving while sleeping on bus -> Stop unwanted movement by friction 1375 0.7\n",
      "----------------------------------------\n"
     ]
    },
    {
     "name": "stderr",
     "output_type": "stream",
     "text": [
      "Setting `pad_token_id` to `eos_token_id`:50256 for open-end generation.\n"
     ]
    },
    {
     "name": "stdout",
     "output_type": "stream",
     "text": [
      "16 keep head from moving while sleeping on bus -> limit the range of motion of the head 1469 0.7\n",
      "----------------------------------------\n"
     ]
    },
    {
     "name": "stderr",
     "output_type": "stream",
     "text": [
      "Setting `pad_token_id` to `eos_token_id`:50256 for open-end generation.\n"
     ]
    },
    {
     "name": "stdout",
     "output_type": "stream",
     "text": [
      "17 keep head from moving while sleeping on bus -> Avoid collisions between body parts 1487 0.7\n",
      "----------------------------------------\n"
     ]
    },
    {
     "name": "stderr",
     "output_type": "stream",
     "text": [
      "Setting `pad_token_id` to `eos_token_id`:50256 for open-end generation.\n"
     ]
    },
    {
     "name": "stdout",
     "output_type": "stream",
     "text": [
      "18 keep head from moving while sleeping on bus -> Avoid collision of head with the walls of the bus 1580 0.7\n",
      "----------------------------------------\n"
     ]
    },
    {
     "name": "stderr",
     "output_type": "stream",
     "text": [
      "Setting `pad_token_id` to `eos_token_id`:50256 for open-end generation.\n"
     ]
    },
    {
     "name": "stdout",
     "output_type": "stream",
     "text": [
      "19 keep head from moving while sleeping on bus -> Prevent movement of objects in space 1677 0.7\n",
      "----------------------------------------\n"
     ]
    },
    {
     "name": "stderr",
     "output_type": "stream",
     "text": [
      "Setting `pad_token_id` to `eos_token_id`:50256 for open-end generation.\n"
     ]
    },
    {
     "name": "stdout",
     "output_type": "stream",
     "text": [
      "20 keep head from moving while sleeping on bus -> Remove the need for a helmet 1776 0.7\n",
      "----------------------------------------\n"
     ]
    },
    {
     "name": "stderr",
     "output_type": "stream",
     "text": [
      "Setting `pad_token_id` to `eos_token_id`:50256 for open-end generation.\n"
     ]
    },
    {
     "name": "stdout",
     "output_type": "stream",
     "text": [
      "1 keep head from moving while sleeping on bus -> Limit the degree of freedom of an object 1876 0.8\n",
      "----------------------------------------\n"
     ]
    },
    {
     "name": "stderr",
     "output_type": "stream",
     "text": [
      "Setting `pad_token_id` to `eos_token_id`:50256 for open-end generation.\n"
     ]
    },
    {
     "name": "stdout",
     "output_type": "stream",
     "text": [
      "2 keep head from moving while sleeping on bus -> Keep the body from being twisted when the head is raised 1972 0.8\n",
      "----------------------------------------\n"
     ]
    },
    {
     "name": "stderr",
     "output_type": "stream",
     "text": [
      "Setting `pad_token_id` to `eos_token_id`:50256 for open-end generation.\n"
     ]
    },
    {
     "name": "stdout",
     "output_type": "stream",
     "text": [
      "3 keep head from moving while sleeping on bus -> Provide a fixed point for a head to rest on 2070 0.8\n",
      "----------------------------------------\n"
     ]
    },
    {
     "name": "stderr",
     "output_type": "stream",
     "text": [
      "Setting `pad_token_id` to `eos_token_id`:50256 for open-end generation.\n"
     ]
    },
    {
     "name": "stdout",
     "output_type": "stream",
     "text": [
      "4 keep head from moving while sleeping on bus -> keep a mobile head in a fixed position 2165 0.8\n",
      "----------------------------------------\n"
     ]
    },
    {
     "name": "stderr",
     "output_type": "stream",
     "text": [
      "Setting `pad_token_id` to `eos_token_id`:50256 for open-end generation.\n"
     ]
    },
    {
     "name": "stdout",
     "output_type": "stream",
     "text": [
      "5 keep head from moving while sleeping on bus -> keep head from moving while sleeping on a bus 2262 0.8\n",
      "----------------------------------------\n"
     ]
    },
    {
     "name": "stderr",
     "output_type": "stream",
     "text": [
      "Setting `pad_token_id` to `eos_token_id`:50256 for open-end generation.\n"
     ]
    },
    {
     "name": "stdout",
     "output_type": "stream",
     "text": [
      "6 keep head from moving while sleeping on bus -> protect object from the movement of the head 2360 0.8\n",
      "----------------------------------------\n"
     ]
    },
    {
     "name": "stderr",
     "output_type": "stream",
     "text": [
      "Setting `pad_token_id` to `eos_token_id`:50256 for open-end generation.\n"
     ]
    },
    {
     "name": "stdout",
     "output_type": "stream",
     "text": [
      "7 keep head from moving while sleeping on bus -> protect object from unwanted motion 2456 0.8\n",
      "----------------------------------------\n"
     ]
    },
    {
     "name": "stderr",
     "output_type": "stream",
     "text": [
      "Setting `pad_token_id` to `eos_token_id`:50256 for open-end generation.\n"
     ]
    },
    {
     "name": "stdout",
     "output_type": "stream",
     "text": [
      "8 keep head from moving while sleeping on bus -> Prevent a user from changing his/her position 2554 0.8\n",
      "----------------------------------------\n"
     ]
    },
    {
     "name": "stderr",
     "output_type": "stream",
     "text": [
      "Setting `pad_token_id` to `eos_token_id`:50256 for open-end generation.\n"
     ]
    },
    {
     "name": "stdout",
     "output_type": "stream",
     "text": [
      "9 keep head from moving while sleeping on bus -> keep head from falling off while sleeping on airplane 2649 0.8\n",
      "----------------------------------------\n"
     ]
    },
    {
     "name": "stderr",
     "output_type": "stream",
     "text": [
      "Setting `pad_token_id` to `eos_token_id`:50256 for open-end generation.\n"
     ]
    },
    {
     "name": "stdout",
     "output_type": "stream",
     "text": [
      "10 keep head from moving while sleeping on bus -> Keep head and torso from moving while sleeping 2748 0.8\n",
      "----------------------------------------\n"
     ]
    },
    {
     "name": "stderr",
     "output_type": "stream",
     "text": [
      "Setting `pad_token_id` to `eos_token_id`:50256 for open-end generation.\n"
     ]
    },
    {
     "name": "stdout",
     "output_type": "stream",
     "text": [
      "11 keep head from moving while sleeping on bus -> Prevent person from moving while sleeping on the bus 2847 0.8\n",
      "----------------------------------------\n"
     ]
    },
    {
     "name": "stderr",
     "output_type": "stream",
     "text": [
      "Setting `pad_token_id` to `eos_token_id`:50256 for open-end generation.\n"
     ]
    },
    {
     "name": "stdout",
     "output_type": "stream",
     "text": [
      "12 keep head from moving while sleeping on bus -> keep head from moving while sleeping on a couch 2944 0.8\n",
      "----------------------------------------\n"
     ]
    },
    {
     "name": "stderr",
     "output_type": "stream",
     "text": [
      "Setting `pad_token_id` to `eos_token_id`:50256 for open-end generation.\n"
     ]
    },
    {
     "name": "stdout",
     "output_type": "stream",
     "text": [
      "13 keep head from moving while sleeping on bus -> Stop object from moving while in an upright position 3042 0.8\n",
      "----------------------------------------\n"
     ]
    },
    {
     "name": "stderr",
     "output_type": "stream",
     "text": [
      "Setting `pad_token_id` to `eos_token_id`:50256 for open-end generation.\n"
     ]
    },
    {
     "name": "stdout",
     "output_type": "stream",
     "text": [
      "14 keep head from moving while sleeping on bus -> Keep head from moving while sleeping on a bed or couch 3139 0.8\n",
      "----------------------------------------\n"
     ]
    },
    {
     "name": "stderr",
     "output_type": "stream",
     "text": [
      "Setting `pad_token_id` to `eos_token_id`:50256 for open-end generation.\n"
     ]
    },
    {
     "name": "stdout",
     "output_type": "stream",
     "text": [
      "15 keep head from moving while sleeping on bus -> keep head from moving when riding a transit vehicle 3240 0.8\n",
      "----------------------------------------\n"
     ]
    },
    {
     "name": "stderr",
     "output_type": "stream",
     "text": [
      "Setting `pad_token_id` to `eos_token_id`:50256 for open-end generation.\n"
     ]
    },
    {
     "name": "stdout",
     "output_type": "stream",
     "text": [
      "16 keep head from moving while sleeping on bus -> keep head from moving when sleeping on a bus 3338 0.8\n",
      "----------------------------------------\n"
     ]
    },
    {
     "name": "stderr",
     "output_type": "stream",
     "text": [
      "Setting `pad_token_id` to `eos_token_id`:50256 for open-end generation.\n"
     ]
    },
    {
     "name": "stdout",
     "output_type": "stream",
     "text": [
      "17 keep head from moving while sleeping on bus -> Make sure head is fixed to the bed 3433 0.8\n",
      "----------------------------------------\n"
     ]
    },
    {
     "name": "stderr",
     "output_type": "stream",
     "text": [
      "Setting `pad_token_id` to `eos_token_id`:50256 for open-end generation.\n"
     ]
    },
    {
     "name": "stdout",
     "output_type": "stream",
     "text": [
      "18 keep head from moving while sleeping on bus -> Avoid collisions with other passengers 3529 0.8\n",
      "----------------------------------------\n"
     ]
    },
    {
     "name": "stderr",
     "output_type": "stream",
     "text": [
      "Setting `pad_token_id` to `eos_token_id`:50256 for open-end generation.\n"
     ]
    },
    {
     "name": "stdout",
     "output_type": "stream",
     "text": [
      "19 keep head from moving while sleeping on bus -> keep a head from moving by keeping it fixed to a wall 3625 0.8\n",
      "----------------------------------------\n"
     ]
    },
    {
     "name": "stderr",
     "output_type": "stream",
     "text": [
      "Setting `pad_token_id` to `eos_token_id`:50256 for open-end generation.\n"
     ]
    },
    {
     "name": "stdout",
     "output_type": "stream",
     "text": [
      "20 keep head from moving while sleeping on bus -> keep head in constant contact with the floor while sleeping 3720 0.8\n",
      "----------------------------------------\n"
     ]
    },
    {
     "name": "stderr",
     "output_type": "stream",
     "text": [
      "Setting `pad_token_id` to `eos_token_id`:50256 for open-end generation.\n"
     ]
    },
    {
     "name": "stdout",
     "output_type": "stream",
     "text": [
      "1 keep head from moving while sleeping on bus -> keep head from shifting while sleeping on bus 3815 0.9\n",
      "----------------------------------------\n"
     ]
    },
    {
     "name": "stderr",
     "output_type": "stream",
     "text": [
      "Setting `pad_token_id` to `eos_token_id`:50256 for open-end generation.\n"
     ]
    },
    {
     "name": "stdout",
     "output_type": "stream",
     "text": [
      "2 keep head from moving while sleeping on bus -> Reduce unwanted effects to user's head 3911 0.9\n",
      "----------------------------------------\n"
     ]
    },
    {
     "name": "stderr",
     "output_type": "stream",
     "text": [
      "Setting `pad_token_id` to `eos_token_id`:50256 for open-end generation.\n"
     ]
    },
    {
     "name": "stdout",
     "output_type": "stream",
     "text": [
      "3 keep head from moving while sleeping on bus -> Protect from the impact of the bus upon the head 4006 0.9\n",
      "----------------------------------------\n"
     ]
    },
    {
     "name": "stderr",
     "output_type": "stream",
     "text": [
      "Setting `pad_token_id` to `eos_token_id`:50256 for open-end generation.\n"
     ]
    },
    {
     "name": "stdout",
     "output_type": "stream",
     "text": [
      "4 keep head from moving while sleeping on bus -> keep head against hard surface while sleeping 4101 0.9\n",
      "----------------------------------------\n"
     ]
    },
    {
     "name": "stderr",
     "output_type": "stream",
     "text": [
      "Setting `pad_token_id` to `eos_token_id`:50256 for open-end generation.\n"
     ]
    },
    {
     "name": "stdout",
     "output_type": "stream",
     "text": [
      "5 keep head from moving while sleeping on bus -> Extend the physical reach of a tool 4196 0.9\n",
      "----------------------------------------\n"
     ]
    },
    {
     "name": "stderr",
     "output_type": "stream",
     "text": [
      "Setting `pad_token_id` to `eos_token_id`:50256 for open-end generation.\n"
     ]
    },
    {
     "name": "stdout",
     "output_type": "stream",
     "text": [
      "6 keep head from moving while sleeping on bus -> Prevent people in the vehicle from moving 4289 0.9\n",
      "----------------------------------------\n"
     ]
    },
    {
     "name": "stderr",
     "output_type": "stream",
     "text": [
      "Setting `pad_token_id` to `eos_token_id`:50256 for open-end generation.\n"
     ]
    },
    {
     "name": "stdout",
     "output_type": "stream",
     "text": [
      "7 keep head from moving while sleeping on bus -> prevent head from moving 4382 0.9\n",
      "----------------------------------------\n"
     ]
    },
    {
     "name": "stderr",
     "output_type": "stream",
     "text": [
      "Setting `pad_token_id` to `eos_token_id`:50256 for open-end generation.\n"
     ]
    },
    {
     "name": "stdout",
     "output_type": "stream",
     "text": [
      "8 keep head from moving while sleeping on bus -> Allow head to move freely while sleeping on a bus 4475 0.9\n",
      "----------------------------------------\n"
     ]
    },
    {
     "name": "stderr",
     "output_type": "stream",
     "text": [
      "Setting `pad_token_id` to `eos_token_id`:50256 for open-end generation.\n"
     ]
    },
    {
     "name": "stdout",
     "output_type": "stream",
     "text": [
      "9 keep head from moving while sleeping on bus -> keep objects from disturbing the head 4568 0.9\n",
      "----------------------------------------\n"
     ]
    },
    {
     "name": "stderr",
     "output_type": "stream",
     "text": [
      "Setting `pad_token_id` to `eos_token_id`:50256 for open-end generation.\n"
     ]
    },
    {
     "name": "stdout",
     "output_type": "stream",
     "text": [
      "10 keep head from moving while sleeping on bus -> Keep object from moving while sleeping on a bus 4661 0.9\n",
      "----------------------------------------\n"
     ]
    },
    {
     "name": "stderr",
     "output_type": "stream",
     "text": [
      "Setting `pad_token_id` to `eos_token_id`:50256 for open-end generation.\n"
     ]
    },
    {
     "name": "stdout",
     "output_type": "stream",
     "text": [
      "11 keep head from moving while sleeping on bus -> keep head and body stationary during sleep 4754 0.9\n",
      "----------------------------------------\n"
     ]
    },
    {
     "name": "stderr",
     "output_type": "stream",
     "text": [
      "Setting `pad_token_id` to `eos_token_id`:50256 for open-end generation.\n"
     ]
    },
    {
     "name": "stdout",
     "output_type": "stream",
     "text": [
      "12 keep head from moving while sleeping on bus -> protect vehicle and passengers from collisions while in motion 4846 0.9\n",
      "----------------------------------------\n"
     ]
    },
    {
     "name": "stderr",
     "output_type": "stream",
     "text": [
      "Setting `pad_token_id` to `eos_token_id`:50256 for open-end generation.\n"
     ]
    },
    {
     "name": "stdout",
     "output_type": "stream",
     "text": [
      "13 keep head from moving while sleeping on bus -> prevent objects from moving while being transported on truck 4938 0.9\n",
      "----------------------------------------\n"
     ]
    },
    {
     "name": "stderr",
     "output_type": "stream",
     "text": [
      "Setting `pad_token_id` to `eos_token_id`:50256 for open-end generation.\n"
     ]
    },
    {
     "name": "stdout",
     "output_type": "stream",
     "text": [
      "14 keep head from moving while sleeping on bus -> Stop a person from moving while asleep 5031 0.9\n",
      "----------------------------------------\n"
     ]
    },
    {
     "name": "stderr",
     "output_type": "stream",
     "text": [
      "Setting `pad_token_id` to `eos_token_id`:50256 for open-end generation.\n"
     ]
    },
    {
     "name": "stdout",
     "output_type": "stream",
     "text": [
      "15 keep head from moving while sleeping on bus -> provide stability to a small movement 5123 0.9\n",
      "----------------------------------------\n"
     ]
    },
    {
     "name": "stderr",
     "output_type": "stream",
     "text": [
      "Setting `pad_token_id` to `eos_token_id`:50256 for open-end generation.\n"
     ]
    },
    {
     "name": "stdout",
     "output_type": "stream",
     "text": [
      "16 keep head from moving while sleeping on bus -> keep head from moving while resting 5216 0.9\n",
      "----------------------------------------\n"
     ]
    },
    {
     "name": "stderr",
     "output_type": "stream",
     "text": [
      "Setting `pad_token_id` to `eos_token_id`:50256 for open-end generation.\n"
     ]
    },
    {
     "name": "stdout",
     "output_type": "stream",
     "text": [
      "17 keep head from moving while sleeping on bus -> hold position of the head in the body while sleeping on a seat 5308 0.9\n",
      "----------------------------------------\n"
     ]
    },
    {
     "name": "stderr",
     "output_type": "stream",
     "text": [
      "Setting `pad_token_id` to `eos_token_id`:50256 for open-end generation.\n"
     ]
    },
    {
     "name": "stdout",
     "output_type": "stream",
     "text": [
      "18 keep head from moving while sleeping on bus -> keep head in fixed position and immobilize it 5400 0.9\n",
      "----------------------------------------\n"
     ]
    },
    {
     "name": "stderr",
     "output_type": "stream",
     "text": [
      "Setting `pad_token_id` to `eos_token_id`:50256 for open-end generation.\n"
     ]
    },
    {
     "name": "stdout",
     "output_type": "stream",
     "text": [
      "19 keep head from moving while sleeping on bus -> prevent the object from moving in bed 5492 0.9\n",
      "----------------------------------------\n",
      "20 keep head from moving while sleeping on bus -> prevent object from contacting unwanted objects 5584 0.9\n",
      "----------------------------------------\n",
      "Total time taken is 5677\n"
     ]
    }
   ],
   "source": [
    "df_13b = generate_output(generator_gpt_neo_1_3b,20,prompt,20,0.7,'gpt_neo_1.3b',1)"
   ]
  },
  {
   "cell_type": "code",
   "execution_count": 19,
   "metadata": {},
   "outputs": [],
   "source": [
    "# res_generator_gpt_neo_125m = generator_gpt_neo_125m(prompt, max_length = 320, do_sample = True,temperature = 0.75)"
   ]
  },
  {
   "cell_type": "code",
   "execution_count": 20,
   "metadata": {},
   "outputs": [
    {
     "data": {
      "text/html": [
       "<div>\n",
       "<style scoped>\n",
       "    .dataframe tbody tr th:only-of-type {\n",
       "        vertical-align: middle;\n",
       "    }\n",
       "\n",
       "    .dataframe tbody tr th {\n",
       "        vertical-align: top;\n",
       "    }\n",
       "\n",
       "    .dataframe thead th {\n",
       "        text-align: right;\n",
       "    }\n",
       "</style>\n",
       "<table border=\"1\" class=\"dataframe\">\n",
       "  <thead>\n",
       "    <tr style=\"text-align: right;\">\n",
       "      <th></th>\n",
       "      <th>id</th>\n",
       "      <th>model_name</th>\n",
       "      <th>iteration</th>\n",
       "      <th>temperature</th>\n",
       "      <th>input_length</th>\n",
       "      <th>problem_statement</th>\n",
       "      <th>abstract_reformulation</th>\n",
       "      <th>cumulative_time_in_seconds</th>\n",
       "    </tr>\n",
       "  </thead>\n",
       "  <tbody>\n",
       "    <tr>\n",
       "      <th>0</th>\n",
       "      <td>LwzmcSt</td>\n",
       "      <td>gpt_neo_1.3b</td>\n",
       "      <td>1</td>\n",
       "      <td>0.7</td>\n",
       "      <td>20</td>\n",
       "      <td>keep head from moving while sleeping on bus</td>\n",
       "      <td>Prevent objects from moving in the same direction</td>\n",
       "      <td>0</td>\n",
       "    </tr>\n",
       "    <tr>\n",
       "      <th>2</th>\n",
       "      <td>LwzmcSt</td>\n",
       "      <td>gpt_neo_1.3b</td>\n",
       "      <td>2</td>\n",
       "      <td>0.7</td>\n",
       "      <td>20</td>\n",
       "      <td>keep head from moving while sleeping on bus</td>\n",
       "      <td>Avoid jerky movements</td>\n",
       "      <td>109</td>\n",
       "    </tr>\n",
       "    <tr>\n",
       "      <th>5</th>\n",
       "      <td>LwzmcSt</td>\n",
       "      <td>gpt_neo_1.3b</td>\n",
       "      <td>3</td>\n",
       "      <td>0.7</td>\n",
       "      <td>20</td>\n",
       "      <td>keep head from moving while sleeping on bus</td>\n",
       "      <td>keep head from moving while sleeping on a bed</td>\n",
       "      <td>205</td>\n",
       "    </tr>\n",
       "    <tr>\n",
       "      <th>9</th>\n",
       "      <td>LwzmcSt</td>\n",
       "      <td>gpt_neo_1.3b</td>\n",
       "      <td>4</td>\n",
       "      <td>0.7</td>\n",
       "      <td>20</td>\n",
       "      <td>keep head from moving while sleeping on bus</td>\n",
       "      <td>prevent motion of objects</td>\n",
       "      <td>305</td>\n",
       "    </tr>\n",
       "    <tr>\n",
       "      <th>14</th>\n",
       "      <td>LwzmcSt</td>\n",
       "      <td>gpt_neo_1.3b</td>\n",
       "      <td>5</td>\n",
       "      <td>0.7</td>\n",
       "      <td>20</td>\n",
       "      <td>keep head from moving while sleeping on bus</td>\n",
       "      <td>Control the position of the head without distu...</td>\n",
       "      <td>403</td>\n",
       "    </tr>\n",
       "    <tr>\n",
       "      <th>20</th>\n",
       "      <td>LwzmcSt</td>\n",
       "      <td>gpt_neo_1.3b</td>\n",
       "      <td>6</td>\n",
       "      <td>0.7</td>\n",
       "      <td>20</td>\n",
       "      <td>keep head from moving while sleeping on bus</td>\n",
       "      <td>Keep head in the same plane as the rest of body</td>\n",
       "      <td>501</td>\n",
       "    </tr>\n",
       "    <tr>\n",
       "      <th>27</th>\n",
       "      <td>LwzmcSt</td>\n",
       "      <td>gpt_neo_1.3b</td>\n",
       "      <td>7</td>\n",
       "      <td>0.7</td>\n",
       "      <td>20</td>\n",
       "      <td>keep head from moving while sleeping on bus</td>\n",
       "      <td>Prevent movement of objects in a space</td>\n",
       "      <td>598</td>\n",
       "    </tr>\n",
       "    <tr>\n",
       "      <th>35</th>\n",
       "      <td>LwzmcSt</td>\n",
       "      <td>gpt_neo_1.3b</td>\n",
       "      <td>8</td>\n",
       "      <td>0.7</td>\n",
       "      <td>20</td>\n",
       "      <td>keep head from moving while sleeping on bus</td>\n",
       "      <td>Avoid unnecessary movement of an object</td>\n",
       "      <td>701</td>\n",
       "    </tr>\n",
       "    <tr>\n",
       "      <th>44</th>\n",
       "      <td>LwzmcSt</td>\n",
       "      <td>gpt_neo_1.3b</td>\n",
       "      <td>9</td>\n",
       "      <td>0.7</td>\n",
       "      <td>20</td>\n",
       "      <td>keep head from moving while sleeping on bus</td>\n",
       "      <td>prevent head from moving while the user is not...</td>\n",
       "      <td>803</td>\n",
       "    </tr>\n",
       "    <tr>\n",
       "      <th>54</th>\n",
       "      <td>LwzmcSt</td>\n",
       "      <td>gpt_neo_1.3b</td>\n",
       "      <td>10</td>\n",
       "      <td>0.7</td>\n",
       "      <td>20</td>\n",
       "      <td>keep head from moving while sleeping on bus</td>\n",
       "      <td>prevent head from being displaced while sleeping</td>\n",
       "      <td>904</td>\n",
       "    </tr>\n",
       "    <tr>\n",
       "      <th>65</th>\n",
       "      <td>LwzmcSt</td>\n",
       "      <td>gpt_neo_1.3b</td>\n",
       "      <td>11</td>\n",
       "      <td>0.7</td>\n",
       "      <td>20</td>\n",
       "      <td>keep head from moving while sleeping on bus</td>\n",
       "      <td>Place a barrier between an object and the user</td>\n",
       "      <td>1002</td>\n",
       "    </tr>\n",
       "    <tr>\n",
       "      <th>77</th>\n",
       "      <td>LwzmcSt</td>\n",
       "      <td>gpt_neo_1.3b</td>\n",
       "      <td>12</td>\n",
       "      <td>0.7</td>\n",
       "      <td>20</td>\n",
       "      <td>keep head from moving while sleeping on bus</td>\n",
       "      <td>keep object in position and prevent head from ...</td>\n",
       "      <td>1096</td>\n",
       "    </tr>\n",
       "    <tr>\n",
       "      <th>90</th>\n",
       "      <td>LwzmcSt</td>\n",
       "      <td>gpt_neo_1.3b</td>\n",
       "      <td>13</td>\n",
       "      <td>0.7</td>\n",
       "      <td>20</td>\n",
       "      <td>keep head from moving while sleeping on bus</td>\n",
       "      <td>keep head in the same position while sleeping ...</td>\n",
       "      <td>1189</td>\n",
       "    </tr>\n",
       "    <tr>\n",
       "      <th>104</th>\n",
       "      <td>LwzmcSt</td>\n",
       "      <td>gpt_neo_1.3b</td>\n",
       "      <td>14</td>\n",
       "      <td>0.7</td>\n",
       "      <td>20</td>\n",
       "      <td>keep head from moving while sleeping on bus</td>\n",
       "      <td>keep head in a stable position</td>\n",
       "      <td>1282</td>\n",
       "    </tr>\n",
       "    <tr>\n",
       "      <th>119</th>\n",
       "      <td>LwzmcSt</td>\n",
       "      <td>gpt_neo_1.3b</td>\n",
       "      <td>15</td>\n",
       "      <td>0.7</td>\n",
       "      <td>20</td>\n",
       "      <td>keep head from moving while sleeping on bus</td>\n",
       "      <td>Stop unwanted movement by friction</td>\n",
       "      <td>1375</td>\n",
       "    </tr>\n",
       "    <tr>\n",
       "      <th>135</th>\n",
       "      <td>LwzmcSt</td>\n",
       "      <td>gpt_neo_1.3b</td>\n",
       "      <td>16</td>\n",
       "      <td>0.7</td>\n",
       "      <td>20</td>\n",
       "      <td>keep head from moving while sleeping on bus</td>\n",
       "      <td>limit the range of motion of the head</td>\n",
       "      <td>1469</td>\n",
       "    </tr>\n",
       "    <tr>\n",
       "      <th>152</th>\n",
       "      <td>LwzmcSt</td>\n",
       "      <td>gpt_neo_1.3b</td>\n",
       "      <td>17</td>\n",
       "      <td>0.7</td>\n",
       "      <td>20</td>\n",
       "      <td>keep head from moving while sleeping on bus</td>\n",
       "      <td>Avoid collisions between body parts</td>\n",
       "      <td>1487</td>\n",
       "    </tr>\n",
       "    <tr>\n",
       "      <th>170</th>\n",
       "      <td>LwzmcSt</td>\n",
       "      <td>gpt_neo_1.3b</td>\n",
       "      <td>18</td>\n",
       "      <td>0.7</td>\n",
       "      <td>20</td>\n",
       "      <td>keep head from moving while sleeping on bus</td>\n",
       "      <td>Avoid collision of head with the walls of the bus</td>\n",
       "      <td>1580</td>\n",
       "    </tr>\n",
       "    <tr>\n",
       "      <th>189</th>\n",
       "      <td>LwzmcSt</td>\n",
       "      <td>gpt_neo_1.3b</td>\n",
       "      <td>19</td>\n",
       "      <td>0.7</td>\n",
       "      <td>20</td>\n",
       "      <td>keep head from moving while sleeping on bus</td>\n",
       "      <td>Prevent movement of objects in space</td>\n",
       "      <td>1677</td>\n",
       "    </tr>\n",
       "    <tr>\n",
       "      <th>209</th>\n",
       "      <td>LwzmcSt</td>\n",
       "      <td>gpt_neo_1.3b</td>\n",
       "      <td>20</td>\n",
       "      <td>0.7</td>\n",
       "      <td>20</td>\n",
       "      <td>keep head from moving while sleeping on bus</td>\n",
       "      <td>Remove the need for a helmet</td>\n",
       "      <td>1776</td>\n",
       "    </tr>\n",
       "    <tr>\n",
       "      <th>230</th>\n",
       "      <td>LwzmcSt</td>\n",
       "      <td>gpt_neo_1.3b</td>\n",
       "      <td>1</td>\n",
       "      <td>0.8</td>\n",
       "      <td>20</td>\n",
       "      <td>keep head from moving while sleeping on bus</td>\n",
       "      <td>Limit the degree of freedom of an object</td>\n",
       "      <td>1876</td>\n",
       "    </tr>\n",
       "    <tr>\n",
       "      <th>252</th>\n",
       "      <td>LwzmcSt</td>\n",
       "      <td>gpt_neo_1.3b</td>\n",
       "      <td>2</td>\n",
       "      <td>0.8</td>\n",
       "      <td>20</td>\n",
       "      <td>keep head from moving while sleeping on bus</td>\n",
       "      <td>Keep the body from being twisted when the head...</td>\n",
       "      <td>1972</td>\n",
       "    </tr>\n",
       "    <tr>\n",
       "      <th>275</th>\n",
       "      <td>LwzmcSt</td>\n",
       "      <td>gpt_neo_1.3b</td>\n",
       "      <td>3</td>\n",
       "      <td>0.8</td>\n",
       "      <td>20</td>\n",
       "      <td>keep head from moving while sleeping on bus</td>\n",
       "      <td>Provide a fixed point for a head to rest on</td>\n",
       "      <td>2070</td>\n",
       "    </tr>\n",
       "    <tr>\n",
       "      <th>299</th>\n",
       "      <td>LwzmcSt</td>\n",
       "      <td>gpt_neo_1.3b</td>\n",
       "      <td>4</td>\n",
       "      <td>0.8</td>\n",
       "      <td>20</td>\n",
       "      <td>keep head from moving while sleeping on bus</td>\n",
       "      <td>keep a mobile head in a fixed position</td>\n",
       "      <td>2165</td>\n",
       "    </tr>\n",
       "    <tr>\n",
       "      <th>324</th>\n",
       "      <td>LwzmcSt</td>\n",
       "      <td>gpt_neo_1.3b</td>\n",
       "      <td>5</td>\n",
       "      <td>0.8</td>\n",
       "      <td>20</td>\n",
       "      <td>keep head from moving while sleeping on bus</td>\n",
       "      <td>keep head from moving while sleeping on a bus</td>\n",
       "      <td>2262</td>\n",
       "    </tr>\n",
       "    <tr>\n",
       "      <th>350</th>\n",
       "      <td>LwzmcSt</td>\n",
       "      <td>gpt_neo_1.3b</td>\n",
       "      <td>6</td>\n",
       "      <td>0.8</td>\n",
       "      <td>20</td>\n",
       "      <td>keep head from moving while sleeping on bus</td>\n",
       "      <td>protect object from the movement of the head</td>\n",
       "      <td>2360</td>\n",
       "    </tr>\n",
       "    <tr>\n",
       "      <th>377</th>\n",
       "      <td>LwzmcSt</td>\n",
       "      <td>gpt_neo_1.3b</td>\n",
       "      <td>7</td>\n",
       "      <td>0.8</td>\n",
       "      <td>20</td>\n",
       "      <td>keep head from moving while sleeping on bus</td>\n",
       "      <td>protect object from unwanted motion</td>\n",
       "      <td>2456</td>\n",
       "    </tr>\n",
       "    <tr>\n",
       "      <th>405</th>\n",
       "      <td>LwzmcSt</td>\n",
       "      <td>gpt_neo_1.3b</td>\n",
       "      <td>8</td>\n",
       "      <td>0.8</td>\n",
       "      <td>20</td>\n",
       "      <td>keep head from moving while sleeping on bus</td>\n",
       "      <td>Prevent a user from changing his/her position</td>\n",
       "      <td>2554</td>\n",
       "    </tr>\n",
       "    <tr>\n",
       "      <th>434</th>\n",
       "      <td>LwzmcSt</td>\n",
       "      <td>gpt_neo_1.3b</td>\n",
       "      <td>9</td>\n",
       "      <td>0.8</td>\n",
       "      <td>20</td>\n",
       "      <td>keep head from moving while sleeping on bus</td>\n",
       "      <td>keep head from falling off while sleeping on a...</td>\n",
       "      <td>2649</td>\n",
       "    </tr>\n",
       "    <tr>\n",
       "      <th>464</th>\n",
       "      <td>LwzmcSt</td>\n",
       "      <td>gpt_neo_1.3b</td>\n",
       "      <td>10</td>\n",
       "      <td>0.8</td>\n",
       "      <td>20</td>\n",
       "      <td>keep head from moving while sleeping on bus</td>\n",
       "      <td>Keep head and torso from moving while sleeping</td>\n",
       "      <td>2748</td>\n",
       "    </tr>\n",
       "    <tr>\n",
       "      <th>495</th>\n",
       "      <td>LwzmcSt</td>\n",
       "      <td>gpt_neo_1.3b</td>\n",
       "      <td>11</td>\n",
       "      <td>0.8</td>\n",
       "      <td>20</td>\n",
       "      <td>keep head from moving while sleeping on bus</td>\n",
       "      <td>Prevent person from moving while sleeping on t...</td>\n",
       "      <td>2847</td>\n",
       "    </tr>\n",
       "    <tr>\n",
       "      <th>527</th>\n",
       "      <td>LwzmcSt</td>\n",
       "      <td>gpt_neo_1.3b</td>\n",
       "      <td>12</td>\n",
       "      <td>0.8</td>\n",
       "      <td>20</td>\n",
       "      <td>keep head from moving while sleeping on bus</td>\n",
       "      <td>keep head from moving while sleeping on a couch</td>\n",
       "      <td>2944</td>\n",
       "    </tr>\n",
       "    <tr>\n",
       "      <th>560</th>\n",
       "      <td>LwzmcSt</td>\n",
       "      <td>gpt_neo_1.3b</td>\n",
       "      <td>13</td>\n",
       "      <td>0.8</td>\n",
       "      <td>20</td>\n",
       "      <td>keep head from moving while sleeping on bus</td>\n",
       "      <td>Stop object from moving while in an upright po...</td>\n",
       "      <td>3042</td>\n",
       "    </tr>\n",
       "    <tr>\n",
       "      <th>594</th>\n",
       "      <td>LwzmcSt</td>\n",
       "      <td>gpt_neo_1.3b</td>\n",
       "      <td>14</td>\n",
       "      <td>0.8</td>\n",
       "      <td>20</td>\n",
       "      <td>keep head from moving while sleeping on bus</td>\n",
       "      <td>Keep head from moving while sleeping on a bed ...</td>\n",
       "      <td>3139</td>\n",
       "    </tr>\n",
       "    <tr>\n",
       "      <th>629</th>\n",
       "      <td>LwzmcSt</td>\n",
       "      <td>gpt_neo_1.3b</td>\n",
       "      <td>15</td>\n",
       "      <td>0.8</td>\n",
       "      <td>20</td>\n",
       "      <td>keep head from moving while sleeping on bus</td>\n",
       "      <td>keep head from moving when riding a transit ve...</td>\n",
       "      <td>3240</td>\n",
       "    </tr>\n",
       "    <tr>\n",
       "      <th>665</th>\n",
       "      <td>LwzmcSt</td>\n",
       "      <td>gpt_neo_1.3b</td>\n",
       "      <td>16</td>\n",
       "      <td>0.8</td>\n",
       "      <td>20</td>\n",
       "      <td>keep head from moving while sleeping on bus</td>\n",
       "      <td>keep head from moving when sleeping on a bus</td>\n",
       "      <td>3338</td>\n",
       "    </tr>\n",
       "    <tr>\n",
       "      <th>702</th>\n",
       "      <td>LwzmcSt</td>\n",
       "      <td>gpt_neo_1.3b</td>\n",
       "      <td>17</td>\n",
       "      <td>0.8</td>\n",
       "      <td>20</td>\n",
       "      <td>keep head from moving while sleeping on bus</td>\n",
       "      <td>Make sure head is fixed to the bed</td>\n",
       "      <td>3433</td>\n",
       "    </tr>\n",
       "    <tr>\n",
       "      <th>740</th>\n",
       "      <td>LwzmcSt</td>\n",
       "      <td>gpt_neo_1.3b</td>\n",
       "      <td>18</td>\n",
       "      <td>0.8</td>\n",
       "      <td>20</td>\n",
       "      <td>keep head from moving while sleeping on bus</td>\n",
       "      <td>Avoid collisions with other passengers</td>\n",
       "      <td>3529</td>\n",
       "    </tr>\n",
       "    <tr>\n",
       "      <th>779</th>\n",
       "      <td>LwzmcSt</td>\n",
       "      <td>gpt_neo_1.3b</td>\n",
       "      <td>19</td>\n",
       "      <td>0.8</td>\n",
       "      <td>20</td>\n",
       "      <td>keep head from moving while sleeping on bus</td>\n",
       "      <td>keep a head from moving by keeping it fixed to...</td>\n",
       "      <td>3625</td>\n",
       "    </tr>\n",
       "    <tr>\n",
       "      <th>819</th>\n",
       "      <td>LwzmcSt</td>\n",
       "      <td>gpt_neo_1.3b</td>\n",
       "      <td>20</td>\n",
       "      <td>0.8</td>\n",
       "      <td>20</td>\n",
       "      <td>keep head from moving while sleeping on bus</td>\n",
       "      <td>keep head in constant contact with the floor w...</td>\n",
       "      <td>3720</td>\n",
       "    </tr>\n",
       "    <tr>\n",
       "      <th>860</th>\n",
       "      <td>LwzmcSt</td>\n",
       "      <td>gpt_neo_1.3b</td>\n",
       "      <td>1</td>\n",
       "      <td>0.9</td>\n",
       "      <td>20</td>\n",
       "      <td>keep head from moving while sleeping on bus</td>\n",
       "      <td>keep head from shifting while sleeping on bus</td>\n",
       "      <td>3815</td>\n",
       "    </tr>\n",
       "    <tr>\n",
       "      <th>902</th>\n",
       "      <td>LwzmcSt</td>\n",
       "      <td>gpt_neo_1.3b</td>\n",
       "      <td>2</td>\n",
       "      <td>0.9</td>\n",
       "      <td>20</td>\n",
       "      <td>keep head from moving while sleeping on bus</td>\n",
       "      <td>Reduce unwanted effects to user's head</td>\n",
       "      <td>3911</td>\n",
       "    </tr>\n",
       "    <tr>\n",
       "      <th>945</th>\n",
       "      <td>LwzmcSt</td>\n",
       "      <td>gpt_neo_1.3b</td>\n",
       "      <td>3</td>\n",
       "      <td>0.9</td>\n",
       "      <td>20</td>\n",
       "      <td>keep head from moving while sleeping on bus</td>\n",
       "      <td>Protect from the impact of the bus upon the head</td>\n",
       "      <td>4006</td>\n",
       "    </tr>\n",
       "    <tr>\n",
       "      <th>989</th>\n",
       "      <td>LwzmcSt</td>\n",
       "      <td>gpt_neo_1.3b</td>\n",
       "      <td>4</td>\n",
       "      <td>0.9</td>\n",
       "      <td>20</td>\n",
       "      <td>keep head from moving while sleeping on bus</td>\n",
       "      <td>keep head against hard surface while sleeping</td>\n",
       "      <td>4101</td>\n",
       "    </tr>\n",
       "    <tr>\n",
       "      <th>1034</th>\n",
       "      <td>LwzmcSt</td>\n",
       "      <td>gpt_neo_1.3b</td>\n",
       "      <td>5</td>\n",
       "      <td>0.9</td>\n",
       "      <td>20</td>\n",
       "      <td>keep head from moving while sleeping on bus</td>\n",
       "      <td>Extend the physical reach of a tool</td>\n",
       "      <td>4196</td>\n",
       "    </tr>\n",
       "    <tr>\n",
       "      <th>1080</th>\n",
       "      <td>LwzmcSt</td>\n",
       "      <td>gpt_neo_1.3b</td>\n",
       "      <td>6</td>\n",
       "      <td>0.9</td>\n",
       "      <td>20</td>\n",
       "      <td>keep head from moving while sleeping on bus</td>\n",
       "      <td>Prevent people in the vehicle from moving</td>\n",
       "      <td>4289</td>\n",
       "    </tr>\n",
       "    <tr>\n",
       "      <th>1127</th>\n",
       "      <td>LwzmcSt</td>\n",
       "      <td>gpt_neo_1.3b</td>\n",
       "      <td>7</td>\n",
       "      <td>0.9</td>\n",
       "      <td>20</td>\n",
       "      <td>keep head from moving while sleeping on bus</td>\n",
       "      <td>prevent head from moving</td>\n",
       "      <td>4382</td>\n",
       "    </tr>\n",
       "    <tr>\n",
       "      <th>1175</th>\n",
       "      <td>LwzmcSt</td>\n",
       "      <td>gpt_neo_1.3b</td>\n",
       "      <td>8</td>\n",
       "      <td>0.9</td>\n",
       "      <td>20</td>\n",
       "      <td>keep head from moving while sleeping on bus</td>\n",
       "      <td>Allow head to move freely while sleeping on a bus</td>\n",
       "      <td>4475</td>\n",
       "    </tr>\n",
       "    <tr>\n",
       "      <th>1224</th>\n",
       "      <td>LwzmcSt</td>\n",
       "      <td>gpt_neo_1.3b</td>\n",
       "      <td>9</td>\n",
       "      <td>0.9</td>\n",
       "      <td>20</td>\n",
       "      <td>keep head from moving while sleeping on bus</td>\n",
       "      <td>keep objects from disturbing the head</td>\n",
       "      <td>4568</td>\n",
       "    </tr>\n",
       "    <tr>\n",
       "      <th>1274</th>\n",
       "      <td>LwzmcSt</td>\n",
       "      <td>gpt_neo_1.3b</td>\n",
       "      <td>10</td>\n",
       "      <td>0.9</td>\n",
       "      <td>20</td>\n",
       "      <td>keep head from moving while sleeping on bus</td>\n",
       "      <td>Keep object from moving while sleeping on a bus</td>\n",
       "      <td>4661</td>\n",
       "    </tr>\n",
       "    <tr>\n",
       "      <th>1325</th>\n",
       "      <td>LwzmcSt</td>\n",
       "      <td>gpt_neo_1.3b</td>\n",
       "      <td>11</td>\n",
       "      <td>0.9</td>\n",
       "      <td>20</td>\n",
       "      <td>keep head from moving while sleeping on bus</td>\n",
       "      <td>keep head and body stationary during sleep</td>\n",
       "      <td>4754</td>\n",
       "    </tr>\n",
       "    <tr>\n",
       "      <th>1377</th>\n",
       "      <td>LwzmcSt</td>\n",
       "      <td>gpt_neo_1.3b</td>\n",
       "      <td>12</td>\n",
       "      <td>0.9</td>\n",
       "      <td>20</td>\n",
       "      <td>keep head from moving while sleeping on bus</td>\n",
       "      <td>protect vehicle and passengers from collisions...</td>\n",
       "      <td>4846</td>\n",
       "    </tr>\n",
       "    <tr>\n",
       "      <th>1430</th>\n",
       "      <td>LwzmcSt</td>\n",
       "      <td>gpt_neo_1.3b</td>\n",
       "      <td>13</td>\n",
       "      <td>0.9</td>\n",
       "      <td>20</td>\n",
       "      <td>keep head from moving while sleeping on bus</td>\n",
       "      <td>prevent objects from moving while being transp...</td>\n",
       "      <td>4938</td>\n",
       "    </tr>\n",
       "    <tr>\n",
       "      <th>1484</th>\n",
       "      <td>LwzmcSt</td>\n",
       "      <td>gpt_neo_1.3b</td>\n",
       "      <td>14</td>\n",
       "      <td>0.9</td>\n",
       "      <td>20</td>\n",
       "      <td>keep head from moving while sleeping on bus</td>\n",
       "      <td>Stop a person from moving while asleep</td>\n",
       "      <td>5031</td>\n",
       "    </tr>\n",
       "    <tr>\n",
       "      <th>1539</th>\n",
       "      <td>LwzmcSt</td>\n",
       "      <td>gpt_neo_1.3b</td>\n",
       "      <td>15</td>\n",
       "      <td>0.9</td>\n",
       "      <td>20</td>\n",
       "      <td>keep head from moving while sleeping on bus</td>\n",
       "      <td>provide stability to a small movement</td>\n",
       "      <td>5123</td>\n",
       "    </tr>\n",
       "    <tr>\n",
       "      <th>1595</th>\n",
       "      <td>LwzmcSt</td>\n",
       "      <td>gpt_neo_1.3b</td>\n",
       "      <td>16</td>\n",
       "      <td>0.9</td>\n",
       "      <td>20</td>\n",
       "      <td>keep head from moving while sleeping on bus</td>\n",
       "      <td>keep head from moving while resting</td>\n",
       "      <td>5216</td>\n",
       "    </tr>\n",
       "    <tr>\n",
       "      <th>1652</th>\n",
       "      <td>LwzmcSt</td>\n",
       "      <td>gpt_neo_1.3b</td>\n",
       "      <td>17</td>\n",
       "      <td>0.9</td>\n",
       "      <td>20</td>\n",
       "      <td>keep head from moving while sleeping on bus</td>\n",
       "      <td>hold position of the head in the body while sl...</td>\n",
       "      <td>5308</td>\n",
       "    </tr>\n",
       "    <tr>\n",
       "      <th>1710</th>\n",
       "      <td>LwzmcSt</td>\n",
       "      <td>gpt_neo_1.3b</td>\n",
       "      <td>18</td>\n",
       "      <td>0.9</td>\n",
       "      <td>20</td>\n",
       "      <td>keep head from moving while sleeping on bus</td>\n",
       "      <td>keep head in fixed position and immobilize it</td>\n",
       "      <td>5400</td>\n",
       "    </tr>\n",
       "    <tr>\n",
       "      <th>1769</th>\n",
       "      <td>LwzmcSt</td>\n",
       "      <td>gpt_neo_1.3b</td>\n",
       "      <td>19</td>\n",
       "      <td>0.9</td>\n",
       "      <td>20</td>\n",
       "      <td>keep head from moving while sleeping on bus</td>\n",
       "      <td>prevent the object from moving in bed</td>\n",
       "      <td>5492</td>\n",
       "    </tr>\n",
       "    <tr>\n",
       "      <th>1829</th>\n",
       "      <td>LwzmcSt</td>\n",
       "      <td>gpt_neo_1.3b</td>\n",
       "      <td>20</td>\n",
       "      <td>0.9</td>\n",
       "      <td>20</td>\n",
       "      <td>keep head from moving while sleeping on bus</td>\n",
       "      <td>prevent object from contacting unwanted objects</td>\n",
       "      <td>5584</td>\n",
       "    </tr>\n",
       "  </tbody>\n",
       "</table>\n",
       "</div>"
      ],
      "text/plain": [
       "           id    model_name iteration  temperature input_length  \\\n",
       "0     LwzmcSt  gpt_neo_1.3b         1          0.7           20   \n",
       "2     LwzmcSt  gpt_neo_1.3b         2          0.7           20   \n",
       "5     LwzmcSt  gpt_neo_1.3b         3          0.7           20   \n",
       "9     LwzmcSt  gpt_neo_1.3b         4          0.7           20   \n",
       "14    LwzmcSt  gpt_neo_1.3b         5          0.7           20   \n",
       "20    LwzmcSt  gpt_neo_1.3b         6          0.7           20   \n",
       "27    LwzmcSt  gpt_neo_1.3b         7          0.7           20   \n",
       "35    LwzmcSt  gpt_neo_1.3b         8          0.7           20   \n",
       "44    LwzmcSt  gpt_neo_1.3b         9          0.7           20   \n",
       "54    LwzmcSt  gpt_neo_1.3b        10          0.7           20   \n",
       "65    LwzmcSt  gpt_neo_1.3b        11          0.7           20   \n",
       "77    LwzmcSt  gpt_neo_1.3b        12          0.7           20   \n",
       "90    LwzmcSt  gpt_neo_1.3b        13          0.7           20   \n",
       "104   LwzmcSt  gpt_neo_1.3b        14          0.7           20   \n",
       "119   LwzmcSt  gpt_neo_1.3b        15          0.7           20   \n",
       "135   LwzmcSt  gpt_neo_1.3b        16          0.7           20   \n",
       "152   LwzmcSt  gpt_neo_1.3b        17          0.7           20   \n",
       "170   LwzmcSt  gpt_neo_1.3b        18          0.7           20   \n",
       "189   LwzmcSt  gpt_neo_1.3b        19          0.7           20   \n",
       "209   LwzmcSt  gpt_neo_1.3b        20          0.7           20   \n",
       "230   LwzmcSt  gpt_neo_1.3b         1          0.8           20   \n",
       "252   LwzmcSt  gpt_neo_1.3b         2          0.8           20   \n",
       "275   LwzmcSt  gpt_neo_1.3b         3          0.8           20   \n",
       "299   LwzmcSt  gpt_neo_1.3b         4          0.8           20   \n",
       "324   LwzmcSt  gpt_neo_1.3b         5          0.8           20   \n",
       "350   LwzmcSt  gpt_neo_1.3b         6          0.8           20   \n",
       "377   LwzmcSt  gpt_neo_1.3b         7          0.8           20   \n",
       "405   LwzmcSt  gpt_neo_1.3b         8          0.8           20   \n",
       "434   LwzmcSt  gpt_neo_1.3b         9          0.8           20   \n",
       "464   LwzmcSt  gpt_neo_1.3b        10          0.8           20   \n",
       "495   LwzmcSt  gpt_neo_1.3b        11          0.8           20   \n",
       "527   LwzmcSt  gpt_neo_1.3b        12          0.8           20   \n",
       "560   LwzmcSt  gpt_neo_1.3b        13          0.8           20   \n",
       "594   LwzmcSt  gpt_neo_1.3b        14          0.8           20   \n",
       "629   LwzmcSt  gpt_neo_1.3b        15          0.8           20   \n",
       "665   LwzmcSt  gpt_neo_1.3b        16          0.8           20   \n",
       "702   LwzmcSt  gpt_neo_1.3b        17          0.8           20   \n",
       "740   LwzmcSt  gpt_neo_1.3b        18          0.8           20   \n",
       "779   LwzmcSt  gpt_neo_1.3b        19          0.8           20   \n",
       "819   LwzmcSt  gpt_neo_1.3b        20          0.8           20   \n",
       "860   LwzmcSt  gpt_neo_1.3b         1          0.9           20   \n",
       "902   LwzmcSt  gpt_neo_1.3b         2          0.9           20   \n",
       "945   LwzmcSt  gpt_neo_1.3b         3          0.9           20   \n",
       "989   LwzmcSt  gpt_neo_1.3b         4          0.9           20   \n",
       "1034  LwzmcSt  gpt_neo_1.3b         5          0.9           20   \n",
       "1080  LwzmcSt  gpt_neo_1.3b         6          0.9           20   \n",
       "1127  LwzmcSt  gpt_neo_1.3b         7          0.9           20   \n",
       "1175  LwzmcSt  gpt_neo_1.3b         8          0.9           20   \n",
       "1224  LwzmcSt  gpt_neo_1.3b         9          0.9           20   \n",
       "1274  LwzmcSt  gpt_neo_1.3b        10          0.9           20   \n",
       "1325  LwzmcSt  gpt_neo_1.3b        11          0.9           20   \n",
       "1377  LwzmcSt  gpt_neo_1.3b        12          0.9           20   \n",
       "1430  LwzmcSt  gpt_neo_1.3b        13          0.9           20   \n",
       "1484  LwzmcSt  gpt_neo_1.3b        14          0.9           20   \n",
       "1539  LwzmcSt  gpt_neo_1.3b        15          0.9           20   \n",
       "1595  LwzmcSt  gpt_neo_1.3b        16          0.9           20   \n",
       "1652  LwzmcSt  gpt_neo_1.3b        17          0.9           20   \n",
       "1710  LwzmcSt  gpt_neo_1.3b        18          0.9           20   \n",
       "1769  LwzmcSt  gpt_neo_1.3b        19          0.9           20   \n",
       "1829  LwzmcSt  gpt_neo_1.3b        20          0.9           20   \n",
       "\n",
       "                                problem_statement  \\\n",
       "0     keep head from moving while sleeping on bus   \n",
       "2     keep head from moving while sleeping on bus   \n",
       "5     keep head from moving while sleeping on bus   \n",
       "9     keep head from moving while sleeping on bus   \n",
       "14    keep head from moving while sleeping on bus   \n",
       "20    keep head from moving while sleeping on bus   \n",
       "27    keep head from moving while sleeping on bus   \n",
       "35    keep head from moving while sleeping on bus   \n",
       "44    keep head from moving while sleeping on bus   \n",
       "54    keep head from moving while sleeping on bus   \n",
       "65    keep head from moving while sleeping on bus   \n",
       "77    keep head from moving while sleeping on bus   \n",
       "90    keep head from moving while sleeping on bus   \n",
       "104   keep head from moving while sleeping on bus   \n",
       "119   keep head from moving while sleeping on bus   \n",
       "135   keep head from moving while sleeping on bus   \n",
       "152   keep head from moving while sleeping on bus   \n",
       "170   keep head from moving while sleeping on bus   \n",
       "189   keep head from moving while sleeping on bus   \n",
       "209   keep head from moving while sleeping on bus   \n",
       "230   keep head from moving while sleeping on bus   \n",
       "252   keep head from moving while sleeping on bus   \n",
       "275   keep head from moving while sleeping on bus   \n",
       "299   keep head from moving while sleeping on bus   \n",
       "324   keep head from moving while sleeping on bus   \n",
       "350   keep head from moving while sleeping on bus   \n",
       "377   keep head from moving while sleeping on bus   \n",
       "405   keep head from moving while sleeping on bus   \n",
       "434   keep head from moving while sleeping on bus   \n",
       "464   keep head from moving while sleeping on bus   \n",
       "495   keep head from moving while sleeping on bus   \n",
       "527   keep head from moving while sleeping on bus   \n",
       "560   keep head from moving while sleeping on bus   \n",
       "594   keep head from moving while sleeping on bus   \n",
       "629   keep head from moving while sleeping on bus   \n",
       "665   keep head from moving while sleeping on bus   \n",
       "702   keep head from moving while sleeping on bus   \n",
       "740   keep head from moving while sleeping on bus   \n",
       "779   keep head from moving while sleeping on bus   \n",
       "819   keep head from moving while sleeping on bus   \n",
       "860   keep head from moving while sleeping on bus   \n",
       "902   keep head from moving while sleeping on bus   \n",
       "945   keep head from moving while sleeping on bus   \n",
       "989   keep head from moving while sleeping on bus   \n",
       "1034  keep head from moving while sleeping on bus   \n",
       "1080  keep head from moving while sleeping on bus   \n",
       "1127  keep head from moving while sleeping on bus   \n",
       "1175  keep head from moving while sleeping on bus   \n",
       "1224  keep head from moving while sleeping on bus   \n",
       "1274  keep head from moving while sleeping on bus   \n",
       "1325  keep head from moving while sleeping on bus   \n",
       "1377  keep head from moving while sleeping on bus   \n",
       "1430  keep head from moving while sleeping on bus   \n",
       "1484  keep head from moving while sleeping on bus   \n",
       "1539  keep head from moving while sleeping on bus   \n",
       "1595  keep head from moving while sleeping on bus   \n",
       "1652  keep head from moving while sleeping on bus   \n",
       "1710  keep head from moving while sleeping on bus   \n",
       "1769  keep head from moving while sleeping on bus   \n",
       "1829  keep head from moving while sleeping on bus   \n",
       "\n",
       "                                 abstract_reformulation  \\\n",
       "0     Prevent objects from moving in the same direction   \n",
       "2                                 Avoid jerky movements   \n",
       "5         keep head from moving while sleeping on a bed   \n",
       "9                             prevent motion of objects   \n",
       "14    Control the position of the head without distu...   \n",
       "20      Keep head in the same plane as the rest of body   \n",
       "27               Prevent movement of objects in a space   \n",
       "35              Avoid unnecessary movement of an object   \n",
       "44    prevent head from moving while the user is not...   \n",
       "54     prevent head from being displaced while sleeping   \n",
       "65       Place a barrier between an object and the user   \n",
       "77    keep object in position and prevent head from ...   \n",
       "90    keep head in the same position while sleeping ...   \n",
       "104                      keep head in a stable position   \n",
       "119                  Stop unwanted movement by friction   \n",
       "135               limit the range of motion of the head   \n",
       "152                 Avoid collisions between body parts   \n",
       "170   Avoid collision of head with the walls of the bus   \n",
       "189                Prevent movement of objects in space   \n",
       "209                        Remove the need for a helmet   \n",
       "230            Limit the degree of freedom of an object   \n",
       "252   Keep the body from being twisted when the head...   \n",
       "275         Provide a fixed point for a head to rest on   \n",
       "299              keep a mobile head in a fixed position   \n",
       "324       keep head from moving while sleeping on a bus   \n",
       "350        protect object from the movement of the head   \n",
       "377                 protect object from unwanted motion   \n",
       "405       Prevent a user from changing his/her position   \n",
       "434   keep head from falling off while sleeping on a...   \n",
       "464      Keep head and torso from moving while sleeping   \n",
       "495   Prevent person from moving while sleeping on t...   \n",
       "527     keep head from moving while sleeping on a couch   \n",
       "560   Stop object from moving while in an upright po...   \n",
       "594   Keep head from moving while sleeping on a bed ...   \n",
       "629   keep head from moving when riding a transit ve...   \n",
       "665        keep head from moving when sleeping on a bus   \n",
       "702                  Make sure head is fixed to the bed   \n",
       "740              Avoid collisions with other passengers   \n",
       "779   keep a head from moving by keeping it fixed to...   \n",
       "819   keep head in constant contact with the floor w...   \n",
       "860       keep head from shifting while sleeping on bus   \n",
       "902              Reduce unwanted effects to user's head   \n",
       "945    Protect from the impact of the bus upon the head   \n",
       "989       keep head against hard surface while sleeping   \n",
       "1034                Extend the physical reach of a tool   \n",
       "1080          Prevent people in the vehicle from moving   \n",
       "1127                           prevent head from moving   \n",
       "1175  Allow head to move freely while sleeping on a bus   \n",
       "1224              keep objects from disturbing the head   \n",
       "1274    Keep object from moving while sleeping on a bus   \n",
       "1325         keep head and body stationary during sleep   \n",
       "1377  protect vehicle and passengers from collisions...   \n",
       "1430  prevent objects from moving while being transp...   \n",
       "1484             Stop a person from moving while asleep   \n",
       "1539              provide stability to a small movement   \n",
       "1595                keep head from moving while resting   \n",
       "1652  hold position of the head in the body while sl...   \n",
       "1710      keep head in fixed position and immobilize it   \n",
       "1769              prevent the object from moving in bed   \n",
       "1829    prevent object from contacting unwanted objects   \n",
       "\n",
       "     cumulative_time_in_seconds  \n",
       "0                             0  \n",
       "2                           109  \n",
       "5                           205  \n",
       "9                           305  \n",
       "14                          403  \n",
       "20                          501  \n",
       "27                          598  \n",
       "35                          701  \n",
       "44                          803  \n",
       "54                          904  \n",
       "65                         1002  \n",
       "77                         1096  \n",
       "90                         1189  \n",
       "104                        1282  \n",
       "119                        1375  \n",
       "135                        1469  \n",
       "152                        1487  \n",
       "170                        1580  \n",
       "189                        1677  \n",
       "209                        1776  \n",
       "230                        1876  \n",
       "252                        1972  \n",
       "275                        2070  \n",
       "299                        2165  \n",
       "324                        2262  \n",
       "350                        2360  \n",
       "377                        2456  \n",
       "405                        2554  \n",
       "434                        2649  \n",
       "464                        2748  \n",
       "495                        2847  \n",
       "527                        2944  \n",
       "560                        3042  \n",
       "594                        3139  \n",
       "629                        3240  \n",
       "665                        3338  \n",
       "702                        3433  \n",
       "740                        3529  \n",
       "779                        3625  \n",
       "819                        3720  \n",
       "860                        3815  \n",
       "902                        3911  \n",
       "945                        4006  \n",
       "989                        4101  \n",
       "1034                       4196  \n",
       "1080                       4289  \n",
       "1127                       4382  \n",
       "1175                       4475  \n",
       "1224                       4568  \n",
       "1274                       4661  \n",
       "1325                       4754  \n",
       "1377                       4846  \n",
       "1430                       4938  \n",
       "1484                       5031  \n",
       "1539                       5123  \n",
       "1595                       5216  \n",
       "1652                       5308  \n",
       "1710                       5400  \n",
       "1769                       5492  \n",
       "1829                       5584  "
      ]
     },
     "execution_count": 20,
     "metadata": {},
     "output_type": "execute_result"
    }
   ],
   "source": [
    "df_13b"
   ]
  },
  {
   "cell_type": "code",
   "execution_count": 21,
   "metadata": {},
   "outputs": [
    {
     "name": "stderr",
     "output_type": "stream",
     "text": [
      "Setting `pad_token_id` to `eos_token_id`:50256 for open-end generation.\n",
      "Setting `pad_token_id` to `eos_token_id`:50256 for open-end generation.\n"
     ]
    },
    {
     "name": "stdout",
     "output_type": "stream",
     "text": [
      "1 keep head from moving while sleeping on bus -> Prevent head from moving toward the outside of a sleeping area 0 0.7\n",
      "----------------------------------------\n"
     ]
    },
    {
     "name": "stderr",
     "output_type": "stream",
     "text": [
      "Setting `pad_token_id` to `eos_token_id`:50256 for open-end generation.\n"
     ]
    },
    {
     "name": "stdout",
     "output_type": "stream",
     "text": [
      "2 keep head from moving while sleeping on bus -> Stop the movement of a body part 216 0.7\n",
      "----------------------------------------\n"
     ]
    },
    {
     "name": "stderr",
     "output_type": "stream",
     "text": [
      "Setting `pad_token_id` to `eos_token_id`:50256 for open-end generation.\n"
     ]
    },
    {
     "name": "stdout",
     "output_type": "stream",
     "text": [
      "3 keep head from moving while sleeping on bus -> Stop the object from moving when a user turns his head 394 0.7\n",
      "----------------------------------------\n"
     ]
    },
    {
     "name": "stderr",
     "output_type": "stream",
     "text": [
      "Setting `pad_token_id` to `eos_token_id`:50256 for open-end generation.\n"
     ]
    },
    {
     "name": "stdout",
     "output_type": "stream",
     "text": [
      "4 keep head from moving while sleeping on bus -> Move head without changing the position of the user 570 0.7\n",
      "----------------------------------------\n"
     ]
    },
    {
     "name": "stderr",
     "output_type": "stream",
     "text": [
      "Setting `pad_token_id` to `eos_token_id`:50256 for open-end generation.\n"
     ]
    },
    {
     "name": "stdout",
     "output_type": "stream",
     "text": [
      "5 keep head from moving while sleeping on bus -> allow head to turn while sleeping on bus 747 0.7\n",
      "----------------------------------------\n"
     ]
    },
    {
     "name": "stderr",
     "output_type": "stream",
     "text": [
      "Setting `pad_token_id` to `eos_token_id`:50256 for open-end generation.\n"
     ]
    },
    {
     "name": "stdout",
     "output_type": "stream",
     "text": [
      "6 keep head from moving while sleeping on bus -> Stop head from turning when a bus stops 923 0.7\n",
      "----------------------------------------\n"
     ]
    },
    {
     "name": "stderr",
     "output_type": "stream",
     "text": [
      "Setting `pad_token_id` to `eos_token_id`:50256 for open-end generation.\n"
     ]
    },
    {
     "name": "stdout",
     "output_type": "stream",
     "text": [
      "7 keep head from moving while sleeping on bus -> Prevent the motion of an object while it is being transported 1100 0.7\n",
      "----------------------------------------\n"
     ]
    },
    {
     "name": "stderr",
     "output_type": "stream",
     "text": [
      "Setting `pad_token_id` to `eos_token_id`:50256 for open-end generation.\n"
     ]
    },
    {
     "name": "stdout",
     "output_type": "stream",
     "text": [
      "8 keep head from moving while sleeping on bus -> make head to move with minimum effort 1277 0.7\n",
      "----------------------------------------\n"
     ]
    },
    {
     "name": "stderr",
     "output_type": "stream",
     "text": [
      "Setting `pad_token_id` to `eos_token_id`:50256 for open-end generation.\n"
     ]
    },
    {
     "name": "stdout",
     "output_type": "stream",
     "text": [
      "9 keep head from moving while sleeping on bus -> Prevent head from moving after a crash 1454 0.7\n",
      "----------------------------------------\n"
     ]
    },
    {
     "name": "stderr",
     "output_type": "stream",
     "text": [
      "Setting `pad_token_id` to `eos_token_id`:50256 for open-end generation.\n"
     ]
    },
    {
     "name": "stdout",
     "output_type": "stream",
     "text": [
      "10 keep head from moving while sleeping on bus -> Prevent a motion from being perceived 1631 0.7\n",
      "----------------------------------------\n"
     ]
    },
    {
     "name": "stderr",
     "output_type": "stream",
     "text": [
      "Setting `pad_token_id` to `eos_token_id`:50256 for open-end generation.\n"
     ]
    },
    {
     "name": "stdout",
     "output_type": "stream",
     "text": [
      "11 keep head from moving while sleeping on bus -> Prevent object from moving during the course of a sleep cycle 1814 0.7\n",
      "----------------------------------------\n"
     ]
    },
    {
     "name": "stderr",
     "output_type": "stream",
     "text": [
      "Setting `pad_token_id` to `eos_token_id`:50256 for open-end generation.\n"
     ]
    },
    {
     "name": "stdout",
     "output_type": "stream",
     "text": [
      "12 keep head from moving while sleeping on bus -> Keep a sleeping person from moving around on a bus 2002 0.7\n",
      "----------------------------------------\n"
     ]
    },
    {
     "name": "stderr",
     "output_type": "stream",
     "text": [
      "Setting `pad_token_id` to `eos_token_id`:50256 for open-end generation.\n"
     ]
    },
    {
     "name": "stdout",
     "output_type": "stream",
     "text": [
      "13 keep head from moving while sleeping on bus -> Prevent the user from sleeping in the same spot multiple times 2187 0.7\n",
      "----------------------------------------\n"
     ]
    },
    {
     "name": "stderr",
     "output_type": "stream",
     "text": [
      "Setting `pad_token_id` to `eos_token_id`:50256 for open-end generation.\n"
     ]
    },
    {
     "name": "stdout",
     "output_type": "stream",
     "text": [
      "14 keep head from moving while sleeping on bus -> Protect head from unwanted shocks 2380 0.7\n",
      "----------------------------------------\n"
     ]
    },
    {
     "name": "stderr",
     "output_type": "stream",
     "text": [
      "Setting `pad_token_id` to `eos_token_id`:50256 for open-end generation.\n"
     ]
    },
    {
     "name": "stdout",
     "output_type": "stream",
     "text": [
      "15 keep head from moving while sleeping on bus -> prevent head from rotating when sleeping in a car 2570 0.7\n",
      "----------------------------------------\n"
     ]
    },
    {
     "name": "stderr",
     "output_type": "stream",
     "text": [
      "Setting `pad_token_id` to `eos_token_id`:50256 for open-end generation.\n"
     ]
    },
    {
     "name": "stdout",
     "output_type": "stream",
     "text": [
      "16 keep head from moving while sleeping on bus -> prevent movement of user's head 2763 0.7\n",
      "----------------------------------------\n"
     ]
    },
    {
     "name": "stderr",
     "output_type": "stream",
     "text": [
      "Setting `pad_token_id` to `eos_token_id`:50256 for open-end generation.\n"
     ]
    },
    {
     "name": "stdout",
     "output_type": "stream",
     "text": [
      "17 keep head from moving while sleeping on bus -> Prevent user from falling asleep while driving 2960 0.7\n",
      "----------------------------------------\n"
     ]
    },
    {
     "name": "stderr",
     "output_type": "stream",
     "text": [
      "Setting `pad_token_id` to `eos_token_id`:50256 for open-end generation.\n"
     ]
    },
    {
     "name": "stdout",
     "output_type": "stream",
     "text": [
      "18 keep head from moving while sleeping on bus -> prevent user's head from moving in a given position 3152 0.7\n",
      "----------------------------------------\n"
     ]
    },
    {
     "name": "stderr",
     "output_type": "stream",
     "text": [
      "Setting `pad_token_id` to `eos_token_id`:50256 for open-end generation.\n"
     ]
    },
    {
     "name": "stdout",
     "output_type": "stream",
     "text": [
      "19 keep head from moving while sleeping on bus -> stop unwanted motion of head 3334 0.7\n",
      "----------------------------------------\n"
     ]
    },
    {
     "name": "stderr",
     "output_type": "stream",
     "text": [
      "Setting `pad_token_id` to `eos_token_id`:50256 for open-end generation.\n"
     ]
    },
    {
     "name": "stdout",
     "output_type": "stream",
     "text": [
      "20 keep head from moving while sleeping on bus -> Avoid unwanted motion while sleeping on a bus 3524 0.7\n",
      "----------------------------------------\n"
     ]
    },
    {
     "name": "stderr",
     "output_type": "stream",
     "text": [
      "Setting `pad_token_id` to `eos_token_id`:50256 for open-end generation.\n"
     ]
    },
    {
     "name": "stdout",
     "output_type": "stream",
     "text": [
      "1 keep head from moving while sleeping on bus -> prevent subject's head from moving in a way that interferes with sleep 3718 0.8\n",
      "----------------------------------------\n"
     ]
    },
    {
     "name": "stderr",
     "output_type": "stream",
     "text": [
      "Setting `pad_token_id` to `eos_token_id`:50256 for open-end generation.\n"
     ]
    },
    {
     "name": "stdout",
     "output_type": "stream",
     "text": [
      "2 keep head from moving while sleeping on bus -> Stop head from moving in bed 3916 0.8\n",
      "----------------------------------------\n"
     ]
    },
    {
     "name": "stderr",
     "output_type": "stream",
     "text": [
      "Setting `pad_token_id` to `eos_token_id`:50256 for open-end generation.\n"
     ]
    },
    {
     "name": "stdout",
     "output_type": "stream",
     "text": [
      "3 keep head from moving while sleeping on bus -> Prevent head from coming in contact with fixed objects 4125 0.8\n",
      "----------------------------------------\n"
     ]
    },
    {
     "name": "stderr",
     "output_type": "stream",
     "text": [
      "Setting `pad_token_id` to `eos_token_id`:50256 for open-end generation.\n"
     ]
    },
    {
     "name": "stdout",
     "output_type": "stream",
     "text": [
      "4 keep head from moving while sleeping on bus -> make a head stable while sleeping in a position 4332 0.8\n",
      "----------------------------------------\n"
     ]
    },
    {
     "name": "stderr",
     "output_type": "stream",
     "text": [
      "Setting `pad_token_id` to `eos_token_id`:50256 for open-end generation.\n"
     ]
    },
    {
     "name": "stdout",
     "output_type": "stream",
     "text": [
      "5 keep head from moving while sleeping on bus -> prevent head from moving while in motion 4531 0.8\n",
      "----------------------------------------\n"
     ]
    },
    {
     "name": "stderr",
     "output_type": "stream",
     "text": [
      "Setting `pad_token_id` to `eos_token_id`:50256 for open-end generation.\n"
     ]
    },
    {
     "name": "stdout",
     "output_type": "stream",
     "text": [
      "6 keep head from moving while sleeping on bus -> Create a solid object that does not move during sleep 4714 0.8\n",
      "----------------------------------------\n"
     ]
    },
    {
     "name": "stderr",
     "output_type": "stream",
     "text": [
      "Setting `pad_token_id` to `eos_token_id`:50256 for open-end generation.\n"
     ]
    },
    {
     "name": "stdout",
     "output_type": "stream",
     "text": [
      "7 keep head from moving while sleeping on bus -> Prevent head from moving back and forth during sleep 4891 0.8\n",
      "----------------------------------------\n"
     ]
    },
    {
     "name": "stderr",
     "output_type": "stream",
     "text": [
      "Setting `pad_token_id` to `eos_token_id`:50256 for open-end generation.\n"
     ]
    },
    {
     "name": "stdout",
     "output_type": "stream",
     "text": [
      "8 keep head from moving while sleeping on bus -> Prevent head from moving while sleeping on a bus 5066 0.8\n",
      "----------------------------------------\n"
     ]
    },
    {
     "name": "stderr",
     "output_type": "stream",
     "text": [
      "Setting `pad_token_id` to `eos_token_id`:50256 for open-end generation.\n"
     ]
    },
    {
     "name": "stdout",
     "output_type": "stream",
     "text": [
      "9 keep head from moving while sleeping on bus -> prevent head from making a sudden movement during sleep 5241 0.8\n",
      "----------------------------------------\n"
     ]
    },
    {
     "name": "stderr",
     "output_type": "stream",
     "text": [
      "Setting `pad_token_id` to `eos_token_id`:50256 for open-end generation.\n"
     ]
    },
    {
     "name": "stdout",
     "output_type": "stream",
     "text": [
      "10 keep head from moving while sleeping on bus -> Prevent head movement when a sleeping person is held by a person in a seated position 5416 0.8\n",
      "----------------------------------------\n"
     ]
    },
    {
     "name": "stderr",
     "output_type": "stream",
     "text": [
      "Setting `pad_token_id` to `eos_token_id`:50256 for open-end generation.\n"
     ]
    },
    {
     "name": "stdout",
     "output_type": "stream",
     "text": [
      "11 keep head from moving while sleeping on bus -> Prevent head from rolling while in motion 5595 0.8\n",
      "----------------------------------------\n"
     ]
    },
    {
     "name": "stderr",
     "output_type": "stream",
     "text": [
      "Setting `pad_token_id` to `eos_token_id`:50256 for open-end generation.\n"
     ]
    },
    {
     "name": "stdout",
     "output_type": "stream",
     "text": [
      "12 keep head from moving while sleeping on bus -> Prevent motion of head when sleeping on bus 5774 0.8\n",
      "----------------------------------------\n"
     ]
    },
    {
     "name": "stderr",
     "output_type": "stream",
     "text": [
      "Setting `pad_token_id` to `eos_token_id`:50256 for open-end generation.\n"
     ]
    },
    {
     "name": "stdout",
     "output_type": "stream",
     "text": [
      "13 keep head from moving while sleeping on bus -> prevent head from moving in a fixed direction 5953 0.8\n",
      "----------------------------------------\n"
     ]
    },
    {
     "name": "stderr",
     "output_type": "stream",
     "text": [
      "Setting `pad_token_id` to `eos_token_id`:50256 for open-end generation.\n"
     ]
    },
    {
     "name": "stdout",
     "output_type": "stream",
     "text": [
      "14 keep head from moving while sleeping on bus -> Avoid unnatural movements of head 6134 0.8\n",
      "----------------------------------------\n"
     ]
    },
    {
     "name": "stderr",
     "output_type": "stream",
     "text": [
      "Setting `pad_token_id` to `eos_token_id`:50256 for open-end generation.\n"
     ]
    },
    {
     "name": "stdout",
     "output_type": "stream",
     "text": [
      "15 keep head from moving while sleeping on bus -> Prevent a head from moving in a free-space 6314 0.8\n",
      "----------------------------------------\n"
     ]
    },
    {
     "name": "stderr",
     "output_type": "stream",
     "text": [
      "Setting `pad_token_id` to `eos_token_id`:50256 for open-end generation.\n"
     ]
    },
    {
     "name": "stdout",
     "output_type": "stream",
     "text": [
      "16 keep head from moving while sleeping on bus -> Prevent head from moving when object is in place 6507 0.8\n",
      "----------------------------------------\n"
     ]
    },
    {
     "name": "stderr",
     "output_type": "stream",
     "text": [
      "Setting `pad_token_id` to `eos_token_id`:50256 for open-end generation.\n"
     ]
    },
    {
     "name": "stdout",
     "output_type": "stream",
     "text": [
      "17 keep head from moving while sleeping on bus -> Prevent unintended motion of sleeping passengers 6701 0.8\n",
      "----------------------------------------\n"
     ]
    },
    {
     "name": "stderr",
     "output_type": "stream",
     "text": [
      "Setting `pad_token_id` to `eos_token_id`:50256 for open-end generation.\n"
     ]
    },
    {
     "name": "stdout",
     "output_type": "stream",
     "text": [
      "18 keep head from moving while sleeping on bus -> Prevent head movement while sleeping on bus 6892 0.8\n",
      "----------------------------------------\n"
     ]
    },
    {
     "name": "stderr",
     "output_type": "stream",
     "text": [
      "Setting `pad_token_id` to `eos_token_id`:50256 for open-end generation.\n"
     ]
    },
    {
     "name": "stdout",
     "output_type": "stream",
     "text": [
      "19 keep head from moving while sleeping on bus -> create a stable and rigid structure for a vehicle 7083 0.8\n",
      "----------------------------------------\n"
     ]
    },
    {
     "name": "stderr",
     "output_type": "stream",
     "text": [
      "Setting `pad_token_id` to `eos_token_id`:50256 for open-end generation.\n"
     ]
    },
    {
     "name": "stdout",
     "output_type": "stream",
     "text": [
      "20 keep head from moving while sleeping on bus -> Don't make head move for sleeping on bus 7278 0.8\n",
      "----------------------------------------\n"
     ]
    },
    {
     "name": "stderr",
     "output_type": "stream",
     "text": [
      "Setting `pad_token_id` to `eos_token_id`:50256 for open-end generation.\n"
     ]
    },
    {
     "name": "stdout",
     "output_type": "stream",
     "text": [
      "1 keep head from moving while sleeping on bus -> Allow a user to fall asleep while operating a machine 7462 0.9\n",
      "----------------------------------------\n"
     ]
    },
    {
     "name": "stderr",
     "output_type": "stream",
     "text": [
      "Setting `pad_token_id` to `eos_token_id`:50256 for open-end generation.\n"
     ]
    },
    {
     "name": "stdout",
     "output_type": "stream",
     "text": [
      "2 keep head from moving while sleeping on bus -> prevent user from getting on seat of bus while sleeping 7648 0.9\n",
      "----------------------------------------\n"
     ]
    },
    {
     "name": "stderr",
     "output_type": "stream",
     "text": [
      "Setting `pad_token_id` to `eos_token_id`:50256 for open-end generation.\n"
     ]
    },
    {
     "name": "stdout",
     "output_type": "stream",
     "text": [
      "3 keep head from moving while sleeping on bus -> prevent user's head from hitting walls 7843 0.9\n",
      "----------------------------------------\n"
     ]
    },
    {
     "name": "stderr",
     "output_type": "stream",
     "text": [
      "Setting `pad_token_id` to `eos_token_id`:50256 for open-end generation.\n"
     ]
    },
    {
     "name": "stdout",
     "output_type": "stream",
     "text": [
      "4 keep head from moving while sleeping on bus -> Prevent head movement while sleeping in a confined space 8031 0.9\n",
      "----------------------------------------\n"
     ]
    },
    {
     "name": "stderr",
     "output_type": "stream",
     "text": [
      "Setting `pad_token_id` to `eos_token_id`:50256 for open-end generation.\n"
     ]
    },
    {
     "name": "stdout",
     "output_type": "stream",
     "text": [
      "5 keep head from moving while sleeping on bus -> prevent head from moving in the sleep state 8221 0.9\n",
      "----------------------------------------\n"
     ]
    },
    {
     "name": "stderr",
     "output_type": "stream",
     "text": [
      "Setting `pad_token_id` to `eos_token_id`:50256 for open-end generation.\n"
     ]
    },
    {
     "name": "stdout",
     "output_type": "stream",
     "text": [
      "6 keep head from moving while sleeping on bus -> Prevent human from falling from a vehicle 8417 0.9\n",
      "----------------------------------------\n"
     ]
    },
    {
     "name": "stderr",
     "output_type": "stream",
     "text": [
      "Setting `pad_token_id` to `eos_token_id`:50256 for open-end generation.\n"
     ]
    },
    {
     "name": "stdout",
     "output_type": "stream",
     "text": [
      "7 keep head from moving while sleeping on bus -> prevent the head from moving while sleeping on a bus 8605 0.9\n",
      "----------------------------------------\n"
     ]
    },
    {
     "name": "stderr",
     "output_type": "stream",
     "text": [
      "Setting `pad_token_id` to `eos_token_id`:50256 for open-end generation.\n"
     ]
    },
    {
     "name": "stdout",
     "output_type": "stream",
     "text": [
      "8 keep head from moving while sleeping on bus -> Do not allow head to move while sleeping 8797 0.9\n",
      "----------------------------------------\n"
     ]
    },
    {
     "name": "stderr",
     "output_type": "stream",
     "text": [
      "Setting `pad_token_id` to `eos_token_id`:50256 for open-end generation.\n"
     ]
    },
    {
     "name": "stdout",
     "output_type": "stream",
     "text": [
      "9 keep head from moving while sleeping on bus -> prevent loss of balance while sleeping 8988 0.9\n",
      "----------------------------------------\n"
     ]
    },
    {
     "name": "stderr",
     "output_type": "stream",
     "text": [
      "Setting `pad_token_id` to `eos_token_id`:50256 for open-end generation.\n"
     ]
    },
    {
     "name": "stdout",
     "output_type": "stream",
     "text": [
      "10 keep head from moving while sleeping on bus -> Restrain user's body movements 9172 0.9\n",
      "----------------------------------------\n"
     ]
    },
    {
     "name": "stderr",
     "output_type": "stream",
     "text": [
      "Setting `pad_token_id` to `eos_token_id`:50256 for open-end generation.\n"
     ]
    },
    {
     "name": "stdout",
     "output_type": "stream",
     "text": [
      "11 keep head from moving while sleeping on bus -> Protect head from impact of unexpected shock 9354 0.9\n",
      "----------------------------------------\n"
     ]
    },
    {
     "name": "stderr",
     "output_type": "stream",
     "text": [
      "Setting `pad_token_id` to `eos_token_id`:50256 for open-end generation.\n"
     ]
    },
    {
     "name": "stdout",
     "output_type": "stream",
     "text": [
      "12 keep head from moving while sleeping on bus -> enable user to keep head still while sleeping on public transportation 9533 0.9\n",
      "----------------------------------------\n"
     ]
    },
    {
     "name": "stderr",
     "output_type": "stream",
     "text": [
      "Setting `pad_token_id` to `eos_token_id`:50256 for open-end generation.\n"
     ]
    },
    {
     "name": "stdout",
     "output_type": "stream",
     "text": [
      "13 keep head from moving while sleeping on bus -> Prevent motion in the form of a blur in motion 9714 0.9\n",
      "----------------------------------------\n"
     ]
    },
    {
     "name": "stderr",
     "output_type": "stream",
     "text": [
      "Setting `pad_token_id` to `eos_token_id`:50256 for open-end generation.\n"
     ]
    },
    {
     "name": "stdout",
     "output_type": "stream",
     "text": [
      "14 keep head from moving while sleeping on bus -> prevent user from falling asleep while riding a bus 9918 0.9\n",
      "----------------------------------------\n"
     ]
    },
    {
     "name": "stderr",
     "output_type": "stream",
     "text": [
      "Setting `pad_token_id` to `eos_token_id`:50256 for open-end generation.\n"
     ]
    },
    {
     "name": "stdout",
     "output_type": "stream",
     "text": [
      "15 keep head from moving while sleeping on bus -> prevent the head from coming into contact with surrounding objects 10102 0.9\n",
      "----------------------------------------\n"
     ]
    },
    {
     "name": "stderr",
     "output_type": "stream",
     "text": [
      "Setting `pad_token_id` to `eos_token_id`:50256 for open-end generation.\n"
     ]
    },
    {
     "name": "stdout",
     "output_type": "stream",
     "text": [
      "16 keep head from moving while sleeping on bus -> Make head from a rigid structure 10285 0.9\n",
      "----------------------------------------\n"
     ]
    },
    {
     "name": "stderr",
     "output_type": "stream",
     "text": [
      "Setting `pad_token_id` to `eos_token_id`:50256 for open-end generation.\n"
     ]
    },
    {
     "name": "stdout",
     "output_type": "stream",
     "text": [
      "17 keep head from moving while sleeping on bus -> keep head from moving with respect to the vehicle 10466 0.9\n",
      "----------------------------------------\n"
     ]
    },
    {
     "name": "stderr",
     "output_type": "stream",
     "text": [
      "Setting `pad_token_id` to `eos_token_id`:50256 for open-end generation.\n"
     ]
    },
    {
     "name": "stdout",
     "output_type": "stream",
     "text": [
      "18 keep head from moving while sleeping on bus -> Keep head from moving while object changes orientation 10648 0.9\n",
      "----------------------------------------\n"
     ]
    },
    {
     "name": "stderr",
     "output_type": "stream",
     "text": [
      "Setting `pad_token_id` to `eos_token_id`:50256 for open-end generation.\n"
     ]
    },
    {
     "name": "stdout",
     "output_type": "stream",
     "text": [
      "19 keep head from moving while sleeping on bus -> prevent object from accidentally moving 10832 0.9\n",
      "----------------------------------------\n",
      "20 keep head from moving while sleeping on bus -> Keep user's head from moving on a moving vehicle 11014 0.9\n",
      "----------------------------------------\n",
      "Total time taken is 11196\n"
     ]
    }
   ],
   "source": [
    "df_27b = generate_output(generator_gpt_neo_2_7,20,prompt,20,0.7,'gpt_neo_2.7b',1)"
   ]
  },
  {
   "cell_type": "code",
   "execution_count": 22,
   "metadata": {},
   "outputs": [
    {
     "data": {
      "text/html": [
       "<div>\n",
       "<style scoped>\n",
       "    .dataframe tbody tr th:only-of-type {\n",
       "        vertical-align: middle;\n",
       "    }\n",
       "\n",
       "    .dataframe tbody tr th {\n",
       "        vertical-align: top;\n",
       "    }\n",
       "\n",
       "    .dataframe thead th {\n",
       "        text-align: right;\n",
       "    }\n",
       "</style>\n",
       "<table border=\"1\" class=\"dataframe\">\n",
       "  <thead>\n",
       "    <tr style=\"text-align: right;\">\n",
       "      <th></th>\n",
       "      <th>id</th>\n",
       "      <th>model_name</th>\n",
       "      <th>iteration</th>\n",
       "      <th>temperature</th>\n",
       "      <th>input_length</th>\n",
       "      <th>problem_statement</th>\n",
       "      <th>abstract_reformulation</th>\n",
       "      <th>cumulative_time_in_seconds</th>\n",
       "    </tr>\n",
       "  </thead>\n",
       "  <tbody>\n",
       "    <tr>\n",
       "      <th>0</th>\n",
       "      <td>iVL7qgb</td>\n",
       "      <td>gpt_neo_2.7b</td>\n",
       "      <td>1</td>\n",
       "      <td>0.7</td>\n",
       "      <td>20</td>\n",
       "      <td>keep head from moving while sleeping on bus</td>\n",
       "      <td>Prevent head from moving toward the outside of...</td>\n",
       "      <td>0</td>\n",
       "    </tr>\n",
       "    <tr>\n",
       "      <th>2</th>\n",
       "      <td>iVL7qgb</td>\n",
       "      <td>gpt_neo_2.7b</td>\n",
       "      <td>2</td>\n",
       "      <td>0.7</td>\n",
       "      <td>20</td>\n",
       "      <td>keep head from moving while sleeping on bus</td>\n",
       "      <td>Stop the movement of a body part</td>\n",
       "      <td>216</td>\n",
       "    </tr>\n",
       "    <tr>\n",
       "      <th>5</th>\n",
       "      <td>iVL7qgb</td>\n",
       "      <td>gpt_neo_2.7b</td>\n",
       "      <td>3</td>\n",
       "      <td>0.7</td>\n",
       "      <td>20</td>\n",
       "      <td>keep head from moving while sleeping on bus</td>\n",
       "      <td>Stop the object from moving when a user turns ...</td>\n",
       "      <td>394</td>\n",
       "    </tr>\n",
       "    <tr>\n",
       "      <th>9</th>\n",
       "      <td>iVL7qgb</td>\n",
       "      <td>gpt_neo_2.7b</td>\n",
       "      <td>4</td>\n",
       "      <td>0.7</td>\n",
       "      <td>20</td>\n",
       "      <td>keep head from moving while sleeping on bus</td>\n",
       "      <td>Move head without changing the position of the...</td>\n",
       "      <td>570</td>\n",
       "    </tr>\n",
       "    <tr>\n",
       "      <th>14</th>\n",
       "      <td>iVL7qgb</td>\n",
       "      <td>gpt_neo_2.7b</td>\n",
       "      <td>5</td>\n",
       "      <td>0.7</td>\n",
       "      <td>20</td>\n",
       "      <td>keep head from moving while sleeping on bus</td>\n",
       "      <td>allow head to turn while sleeping on bus</td>\n",
       "      <td>747</td>\n",
       "    </tr>\n",
       "    <tr>\n",
       "      <th>20</th>\n",
       "      <td>iVL7qgb</td>\n",
       "      <td>gpt_neo_2.7b</td>\n",
       "      <td>6</td>\n",
       "      <td>0.7</td>\n",
       "      <td>20</td>\n",
       "      <td>keep head from moving while sleeping on bus</td>\n",
       "      <td>Stop head from turning when a bus stops</td>\n",
       "      <td>923</td>\n",
       "    </tr>\n",
       "    <tr>\n",
       "      <th>27</th>\n",
       "      <td>iVL7qgb</td>\n",
       "      <td>gpt_neo_2.7b</td>\n",
       "      <td>7</td>\n",
       "      <td>0.7</td>\n",
       "      <td>20</td>\n",
       "      <td>keep head from moving while sleeping on bus</td>\n",
       "      <td>Prevent the motion of an object while it is be...</td>\n",
       "      <td>1100</td>\n",
       "    </tr>\n",
       "    <tr>\n",
       "      <th>35</th>\n",
       "      <td>iVL7qgb</td>\n",
       "      <td>gpt_neo_2.7b</td>\n",
       "      <td>8</td>\n",
       "      <td>0.7</td>\n",
       "      <td>20</td>\n",
       "      <td>keep head from moving while sleeping on bus</td>\n",
       "      <td>make head to move with minimum effort</td>\n",
       "      <td>1277</td>\n",
       "    </tr>\n",
       "    <tr>\n",
       "      <th>44</th>\n",
       "      <td>iVL7qgb</td>\n",
       "      <td>gpt_neo_2.7b</td>\n",
       "      <td>9</td>\n",
       "      <td>0.7</td>\n",
       "      <td>20</td>\n",
       "      <td>keep head from moving while sleeping on bus</td>\n",
       "      <td>Prevent head from moving after a crash</td>\n",
       "      <td>1454</td>\n",
       "    </tr>\n",
       "    <tr>\n",
       "      <th>54</th>\n",
       "      <td>iVL7qgb</td>\n",
       "      <td>gpt_neo_2.7b</td>\n",
       "      <td>10</td>\n",
       "      <td>0.7</td>\n",
       "      <td>20</td>\n",
       "      <td>keep head from moving while sleeping on bus</td>\n",
       "      <td>Prevent a motion from being perceived</td>\n",
       "      <td>1631</td>\n",
       "    </tr>\n",
       "    <tr>\n",
       "      <th>65</th>\n",
       "      <td>iVL7qgb</td>\n",
       "      <td>gpt_neo_2.7b</td>\n",
       "      <td>11</td>\n",
       "      <td>0.7</td>\n",
       "      <td>20</td>\n",
       "      <td>keep head from moving while sleeping on bus</td>\n",
       "      <td>Prevent object from moving during the course o...</td>\n",
       "      <td>1814</td>\n",
       "    </tr>\n",
       "    <tr>\n",
       "      <th>77</th>\n",
       "      <td>iVL7qgb</td>\n",
       "      <td>gpt_neo_2.7b</td>\n",
       "      <td>12</td>\n",
       "      <td>0.7</td>\n",
       "      <td>20</td>\n",
       "      <td>keep head from moving while sleeping on bus</td>\n",
       "      <td>Keep a sleeping person from moving around on a...</td>\n",
       "      <td>2002</td>\n",
       "    </tr>\n",
       "    <tr>\n",
       "      <th>90</th>\n",
       "      <td>iVL7qgb</td>\n",
       "      <td>gpt_neo_2.7b</td>\n",
       "      <td>13</td>\n",
       "      <td>0.7</td>\n",
       "      <td>20</td>\n",
       "      <td>keep head from moving while sleeping on bus</td>\n",
       "      <td>Prevent the user from sleeping in the same spo...</td>\n",
       "      <td>2187</td>\n",
       "    </tr>\n",
       "    <tr>\n",
       "      <th>104</th>\n",
       "      <td>iVL7qgb</td>\n",
       "      <td>gpt_neo_2.7b</td>\n",
       "      <td>14</td>\n",
       "      <td>0.7</td>\n",
       "      <td>20</td>\n",
       "      <td>keep head from moving while sleeping on bus</td>\n",
       "      <td>Protect head from unwanted shocks</td>\n",
       "      <td>2380</td>\n",
       "    </tr>\n",
       "    <tr>\n",
       "      <th>119</th>\n",
       "      <td>iVL7qgb</td>\n",
       "      <td>gpt_neo_2.7b</td>\n",
       "      <td>15</td>\n",
       "      <td>0.7</td>\n",
       "      <td>20</td>\n",
       "      <td>keep head from moving while sleeping on bus</td>\n",
       "      <td>prevent head from rotating when sleeping in a car</td>\n",
       "      <td>2570</td>\n",
       "    </tr>\n",
       "    <tr>\n",
       "      <th>135</th>\n",
       "      <td>iVL7qgb</td>\n",
       "      <td>gpt_neo_2.7b</td>\n",
       "      <td>16</td>\n",
       "      <td>0.7</td>\n",
       "      <td>20</td>\n",
       "      <td>keep head from moving while sleeping on bus</td>\n",
       "      <td>prevent movement of user's head</td>\n",
       "      <td>2763</td>\n",
       "    </tr>\n",
       "    <tr>\n",
       "      <th>152</th>\n",
       "      <td>iVL7qgb</td>\n",
       "      <td>gpt_neo_2.7b</td>\n",
       "      <td>17</td>\n",
       "      <td>0.7</td>\n",
       "      <td>20</td>\n",
       "      <td>keep head from moving while sleeping on bus</td>\n",
       "      <td>Prevent user from falling asleep while driving</td>\n",
       "      <td>2960</td>\n",
       "    </tr>\n",
       "    <tr>\n",
       "      <th>170</th>\n",
       "      <td>iVL7qgb</td>\n",
       "      <td>gpt_neo_2.7b</td>\n",
       "      <td>18</td>\n",
       "      <td>0.7</td>\n",
       "      <td>20</td>\n",
       "      <td>keep head from moving while sleeping on bus</td>\n",
       "      <td>prevent user's head from moving in a given pos...</td>\n",
       "      <td>3152</td>\n",
       "    </tr>\n",
       "    <tr>\n",
       "      <th>189</th>\n",
       "      <td>iVL7qgb</td>\n",
       "      <td>gpt_neo_2.7b</td>\n",
       "      <td>19</td>\n",
       "      <td>0.7</td>\n",
       "      <td>20</td>\n",
       "      <td>keep head from moving while sleeping on bus</td>\n",
       "      <td>stop unwanted motion of head</td>\n",
       "      <td>3334</td>\n",
       "    </tr>\n",
       "    <tr>\n",
       "      <th>209</th>\n",
       "      <td>iVL7qgb</td>\n",
       "      <td>gpt_neo_2.7b</td>\n",
       "      <td>20</td>\n",
       "      <td>0.7</td>\n",
       "      <td>20</td>\n",
       "      <td>keep head from moving while sleeping on bus</td>\n",
       "      <td>Avoid unwanted motion while sleeping on a bus</td>\n",
       "      <td>3524</td>\n",
       "    </tr>\n",
       "    <tr>\n",
       "      <th>230</th>\n",
       "      <td>iVL7qgb</td>\n",
       "      <td>gpt_neo_2.7b</td>\n",
       "      <td>1</td>\n",
       "      <td>0.8</td>\n",
       "      <td>20</td>\n",
       "      <td>keep head from moving while sleeping on bus</td>\n",
       "      <td>prevent subject's head from moving in a way th...</td>\n",
       "      <td>3718</td>\n",
       "    </tr>\n",
       "    <tr>\n",
       "      <th>252</th>\n",
       "      <td>iVL7qgb</td>\n",
       "      <td>gpt_neo_2.7b</td>\n",
       "      <td>2</td>\n",
       "      <td>0.8</td>\n",
       "      <td>20</td>\n",
       "      <td>keep head from moving while sleeping on bus</td>\n",
       "      <td>Stop head from moving in bed</td>\n",
       "      <td>3916</td>\n",
       "    </tr>\n",
       "    <tr>\n",
       "      <th>275</th>\n",
       "      <td>iVL7qgb</td>\n",
       "      <td>gpt_neo_2.7b</td>\n",
       "      <td>3</td>\n",
       "      <td>0.8</td>\n",
       "      <td>20</td>\n",
       "      <td>keep head from moving while sleeping on bus</td>\n",
       "      <td>Prevent head from coming in contact with fixed...</td>\n",
       "      <td>4125</td>\n",
       "    </tr>\n",
       "    <tr>\n",
       "      <th>299</th>\n",
       "      <td>iVL7qgb</td>\n",
       "      <td>gpt_neo_2.7b</td>\n",
       "      <td>4</td>\n",
       "      <td>0.8</td>\n",
       "      <td>20</td>\n",
       "      <td>keep head from moving while sleeping on bus</td>\n",
       "      <td>make a head stable while sleeping in a position</td>\n",
       "      <td>4332</td>\n",
       "    </tr>\n",
       "    <tr>\n",
       "      <th>324</th>\n",
       "      <td>iVL7qgb</td>\n",
       "      <td>gpt_neo_2.7b</td>\n",
       "      <td>5</td>\n",
       "      <td>0.8</td>\n",
       "      <td>20</td>\n",
       "      <td>keep head from moving while sleeping on bus</td>\n",
       "      <td>prevent head from moving while in motion</td>\n",
       "      <td>4531</td>\n",
       "    </tr>\n",
       "    <tr>\n",
       "      <th>350</th>\n",
       "      <td>iVL7qgb</td>\n",
       "      <td>gpt_neo_2.7b</td>\n",
       "      <td>6</td>\n",
       "      <td>0.8</td>\n",
       "      <td>20</td>\n",
       "      <td>keep head from moving while sleeping on bus</td>\n",
       "      <td>Create a solid object that does not move durin...</td>\n",
       "      <td>4714</td>\n",
       "    </tr>\n",
       "    <tr>\n",
       "      <th>377</th>\n",
       "      <td>iVL7qgb</td>\n",
       "      <td>gpt_neo_2.7b</td>\n",
       "      <td>7</td>\n",
       "      <td>0.8</td>\n",
       "      <td>20</td>\n",
       "      <td>keep head from moving while sleeping on bus</td>\n",
       "      <td>Prevent head from moving back and forth during...</td>\n",
       "      <td>4891</td>\n",
       "    </tr>\n",
       "    <tr>\n",
       "      <th>405</th>\n",
       "      <td>iVL7qgb</td>\n",
       "      <td>gpt_neo_2.7b</td>\n",
       "      <td>8</td>\n",
       "      <td>0.8</td>\n",
       "      <td>20</td>\n",
       "      <td>keep head from moving while sleeping on bus</td>\n",
       "      <td>Prevent head from moving while sleeping on a bus</td>\n",
       "      <td>5066</td>\n",
       "    </tr>\n",
       "    <tr>\n",
       "      <th>434</th>\n",
       "      <td>iVL7qgb</td>\n",
       "      <td>gpt_neo_2.7b</td>\n",
       "      <td>9</td>\n",
       "      <td>0.8</td>\n",
       "      <td>20</td>\n",
       "      <td>keep head from moving while sleeping on bus</td>\n",
       "      <td>prevent head from making a sudden movement dur...</td>\n",
       "      <td>5241</td>\n",
       "    </tr>\n",
       "    <tr>\n",
       "      <th>464</th>\n",
       "      <td>iVL7qgb</td>\n",
       "      <td>gpt_neo_2.7b</td>\n",
       "      <td>10</td>\n",
       "      <td>0.8</td>\n",
       "      <td>20</td>\n",
       "      <td>keep head from moving while sleeping on bus</td>\n",
       "      <td>Prevent head movement when a sleeping person i...</td>\n",
       "      <td>5416</td>\n",
       "    </tr>\n",
       "    <tr>\n",
       "      <th>495</th>\n",
       "      <td>iVL7qgb</td>\n",
       "      <td>gpt_neo_2.7b</td>\n",
       "      <td>11</td>\n",
       "      <td>0.8</td>\n",
       "      <td>20</td>\n",
       "      <td>keep head from moving while sleeping on bus</td>\n",
       "      <td>Prevent head from rolling while in motion</td>\n",
       "      <td>5595</td>\n",
       "    </tr>\n",
       "    <tr>\n",
       "      <th>527</th>\n",
       "      <td>iVL7qgb</td>\n",
       "      <td>gpt_neo_2.7b</td>\n",
       "      <td>12</td>\n",
       "      <td>0.8</td>\n",
       "      <td>20</td>\n",
       "      <td>keep head from moving while sleeping on bus</td>\n",
       "      <td>Prevent motion of head when sleeping on bus</td>\n",
       "      <td>5774</td>\n",
       "    </tr>\n",
       "    <tr>\n",
       "      <th>560</th>\n",
       "      <td>iVL7qgb</td>\n",
       "      <td>gpt_neo_2.7b</td>\n",
       "      <td>13</td>\n",
       "      <td>0.8</td>\n",
       "      <td>20</td>\n",
       "      <td>keep head from moving while sleeping on bus</td>\n",
       "      <td>prevent head from moving in a fixed direction</td>\n",
       "      <td>5953</td>\n",
       "    </tr>\n",
       "    <tr>\n",
       "      <th>594</th>\n",
       "      <td>iVL7qgb</td>\n",
       "      <td>gpt_neo_2.7b</td>\n",
       "      <td>14</td>\n",
       "      <td>0.8</td>\n",
       "      <td>20</td>\n",
       "      <td>keep head from moving while sleeping on bus</td>\n",
       "      <td>Avoid unnatural movements of head</td>\n",
       "      <td>6134</td>\n",
       "    </tr>\n",
       "    <tr>\n",
       "      <th>629</th>\n",
       "      <td>iVL7qgb</td>\n",
       "      <td>gpt_neo_2.7b</td>\n",
       "      <td>15</td>\n",
       "      <td>0.8</td>\n",
       "      <td>20</td>\n",
       "      <td>keep head from moving while sleeping on bus</td>\n",
       "      <td>Prevent a head from moving in a free-space</td>\n",
       "      <td>6314</td>\n",
       "    </tr>\n",
       "    <tr>\n",
       "      <th>665</th>\n",
       "      <td>iVL7qgb</td>\n",
       "      <td>gpt_neo_2.7b</td>\n",
       "      <td>16</td>\n",
       "      <td>0.8</td>\n",
       "      <td>20</td>\n",
       "      <td>keep head from moving while sleeping on bus</td>\n",
       "      <td>Prevent head from moving when object is in place</td>\n",
       "      <td>6507</td>\n",
       "    </tr>\n",
       "    <tr>\n",
       "      <th>702</th>\n",
       "      <td>iVL7qgb</td>\n",
       "      <td>gpt_neo_2.7b</td>\n",
       "      <td>17</td>\n",
       "      <td>0.8</td>\n",
       "      <td>20</td>\n",
       "      <td>keep head from moving while sleeping on bus</td>\n",
       "      <td>Prevent unintended motion of sleeping passengers</td>\n",
       "      <td>6701</td>\n",
       "    </tr>\n",
       "    <tr>\n",
       "      <th>740</th>\n",
       "      <td>iVL7qgb</td>\n",
       "      <td>gpt_neo_2.7b</td>\n",
       "      <td>18</td>\n",
       "      <td>0.8</td>\n",
       "      <td>20</td>\n",
       "      <td>keep head from moving while sleeping on bus</td>\n",
       "      <td>Prevent head movement while sleeping on bus</td>\n",
       "      <td>6892</td>\n",
       "    </tr>\n",
       "    <tr>\n",
       "      <th>779</th>\n",
       "      <td>iVL7qgb</td>\n",
       "      <td>gpt_neo_2.7b</td>\n",
       "      <td>19</td>\n",
       "      <td>0.8</td>\n",
       "      <td>20</td>\n",
       "      <td>keep head from moving while sleeping on bus</td>\n",
       "      <td>create a stable and rigid structure for a vehicle</td>\n",
       "      <td>7083</td>\n",
       "    </tr>\n",
       "    <tr>\n",
       "      <th>819</th>\n",
       "      <td>iVL7qgb</td>\n",
       "      <td>gpt_neo_2.7b</td>\n",
       "      <td>20</td>\n",
       "      <td>0.8</td>\n",
       "      <td>20</td>\n",
       "      <td>keep head from moving while sleeping on bus</td>\n",
       "      <td>Don't make head move for sleeping on bus</td>\n",
       "      <td>7278</td>\n",
       "    </tr>\n",
       "    <tr>\n",
       "      <th>860</th>\n",
       "      <td>iVL7qgb</td>\n",
       "      <td>gpt_neo_2.7b</td>\n",
       "      <td>1</td>\n",
       "      <td>0.9</td>\n",
       "      <td>20</td>\n",
       "      <td>keep head from moving while sleeping on bus</td>\n",
       "      <td>Allow a user to fall asleep while operating a ...</td>\n",
       "      <td>7462</td>\n",
       "    </tr>\n",
       "    <tr>\n",
       "      <th>902</th>\n",
       "      <td>iVL7qgb</td>\n",
       "      <td>gpt_neo_2.7b</td>\n",
       "      <td>2</td>\n",
       "      <td>0.9</td>\n",
       "      <td>20</td>\n",
       "      <td>keep head from moving while sleeping on bus</td>\n",
       "      <td>prevent user from getting on seat of bus while...</td>\n",
       "      <td>7648</td>\n",
       "    </tr>\n",
       "    <tr>\n",
       "      <th>945</th>\n",
       "      <td>iVL7qgb</td>\n",
       "      <td>gpt_neo_2.7b</td>\n",
       "      <td>3</td>\n",
       "      <td>0.9</td>\n",
       "      <td>20</td>\n",
       "      <td>keep head from moving while sleeping on bus</td>\n",
       "      <td>prevent user's head from hitting walls</td>\n",
       "      <td>7843</td>\n",
       "    </tr>\n",
       "    <tr>\n",
       "      <th>989</th>\n",
       "      <td>iVL7qgb</td>\n",
       "      <td>gpt_neo_2.7b</td>\n",
       "      <td>4</td>\n",
       "      <td>0.9</td>\n",
       "      <td>20</td>\n",
       "      <td>keep head from moving while sleeping on bus</td>\n",
       "      <td>Prevent head movement while sleeping in a conf...</td>\n",
       "      <td>8031</td>\n",
       "    </tr>\n",
       "    <tr>\n",
       "      <th>1034</th>\n",
       "      <td>iVL7qgb</td>\n",
       "      <td>gpt_neo_2.7b</td>\n",
       "      <td>5</td>\n",
       "      <td>0.9</td>\n",
       "      <td>20</td>\n",
       "      <td>keep head from moving while sleeping on bus</td>\n",
       "      <td>prevent head from moving in the sleep state</td>\n",
       "      <td>8221</td>\n",
       "    </tr>\n",
       "    <tr>\n",
       "      <th>1080</th>\n",
       "      <td>iVL7qgb</td>\n",
       "      <td>gpt_neo_2.7b</td>\n",
       "      <td>6</td>\n",
       "      <td>0.9</td>\n",
       "      <td>20</td>\n",
       "      <td>keep head from moving while sleeping on bus</td>\n",
       "      <td>Prevent human from falling from a vehicle</td>\n",
       "      <td>8417</td>\n",
       "    </tr>\n",
       "    <tr>\n",
       "      <th>1127</th>\n",
       "      <td>iVL7qgb</td>\n",
       "      <td>gpt_neo_2.7b</td>\n",
       "      <td>7</td>\n",
       "      <td>0.9</td>\n",
       "      <td>20</td>\n",
       "      <td>keep head from moving while sleeping on bus</td>\n",
       "      <td>prevent the head from moving while sleeping on...</td>\n",
       "      <td>8605</td>\n",
       "    </tr>\n",
       "    <tr>\n",
       "      <th>1175</th>\n",
       "      <td>iVL7qgb</td>\n",
       "      <td>gpt_neo_2.7b</td>\n",
       "      <td>8</td>\n",
       "      <td>0.9</td>\n",
       "      <td>20</td>\n",
       "      <td>keep head from moving while sleeping on bus</td>\n",
       "      <td>Do not allow head to move while sleeping</td>\n",
       "      <td>8797</td>\n",
       "    </tr>\n",
       "    <tr>\n",
       "      <th>1224</th>\n",
       "      <td>iVL7qgb</td>\n",
       "      <td>gpt_neo_2.7b</td>\n",
       "      <td>9</td>\n",
       "      <td>0.9</td>\n",
       "      <td>20</td>\n",
       "      <td>keep head from moving while sleeping on bus</td>\n",
       "      <td>prevent loss of balance while sleeping</td>\n",
       "      <td>8988</td>\n",
       "    </tr>\n",
       "    <tr>\n",
       "      <th>1274</th>\n",
       "      <td>iVL7qgb</td>\n",
       "      <td>gpt_neo_2.7b</td>\n",
       "      <td>10</td>\n",
       "      <td>0.9</td>\n",
       "      <td>20</td>\n",
       "      <td>keep head from moving while sleeping on bus</td>\n",
       "      <td>Restrain user's body movements</td>\n",
       "      <td>9172</td>\n",
       "    </tr>\n",
       "    <tr>\n",
       "      <th>1325</th>\n",
       "      <td>iVL7qgb</td>\n",
       "      <td>gpt_neo_2.7b</td>\n",
       "      <td>11</td>\n",
       "      <td>0.9</td>\n",
       "      <td>20</td>\n",
       "      <td>keep head from moving while sleeping on bus</td>\n",
       "      <td>Protect head from impact of unexpected shock</td>\n",
       "      <td>9354</td>\n",
       "    </tr>\n",
       "    <tr>\n",
       "      <th>1377</th>\n",
       "      <td>iVL7qgb</td>\n",
       "      <td>gpt_neo_2.7b</td>\n",
       "      <td>12</td>\n",
       "      <td>0.9</td>\n",
       "      <td>20</td>\n",
       "      <td>keep head from moving while sleeping on bus</td>\n",
       "      <td>enable user to keep head still while sleeping ...</td>\n",
       "      <td>9533</td>\n",
       "    </tr>\n",
       "    <tr>\n",
       "      <th>1430</th>\n",
       "      <td>iVL7qgb</td>\n",
       "      <td>gpt_neo_2.7b</td>\n",
       "      <td>13</td>\n",
       "      <td>0.9</td>\n",
       "      <td>20</td>\n",
       "      <td>keep head from moving while sleeping on bus</td>\n",
       "      <td>Prevent motion in the form of a blur in motion</td>\n",
       "      <td>9714</td>\n",
       "    </tr>\n",
       "    <tr>\n",
       "      <th>1484</th>\n",
       "      <td>iVL7qgb</td>\n",
       "      <td>gpt_neo_2.7b</td>\n",
       "      <td>14</td>\n",
       "      <td>0.9</td>\n",
       "      <td>20</td>\n",
       "      <td>keep head from moving while sleeping on bus</td>\n",
       "      <td>prevent user from falling asleep while riding ...</td>\n",
       "      <td>9918</td>\n",
       "    </tr>\n",
       "    <tr>\n",
       "      <th>1539</th>\n",
       "      <td>iVL7qgb</td>\n",
       "      <td>gpt_neo_2.7b</td>\n",
       "      <td>15</td>\n",
       "      <td>0.9</td>\n",
       "      <td>20</td>\n",
       "      <td>keep head from moving while sleeping on bus</td>\n",
       "      <td>prevent the head from coming into contact with...</td>\n",
       "      <td>10102</td>\n",
       "    </tr>\n",
       "    <tr>\n",
       "      <th>1595</th>\n",
       "      <td>iVL7qgb</td>\n",
       "      <td>gpt_neo_2.7b</td>\n",
       "      <td>16</td>\n",
       "      <td>0.9</td>\n",
       "      <td>20</td>\n",
       "      <td>keep head from moving while sleeping on bus</td>\n",
       "      <td>Make head from a rigid structure</td>\n",
       "      <td>10285</td>\n",
       "    </tr>\n",
       "    <tr>\n",
       "      <th>1652</th>\n",
       "      <td>iVL7qgb</td>\n",
       "      <td>gpt_neo_2.7b</td>\n",
       "      <td>17</td>\n",
       "      <td>0.9</td>\n",
       "      <td>20</td>\n",
       "      <td>keep head from moving while sleeping on bus</td>\n",
       "      <td>keep head from moving with respect to the vehicle</td>\n",
       "      <td>10466</td>\n",
       "    </tr>\n",
       "    <tr>\n",
       "      <th>1710</th>\n",
       "      <td>iVL7qgb</td>\n",
       "      <td>gpt_neo_2.7b</td>\n",
       "      <td>18</td>\n",
       "      <td>0.9</td>\n",
       "      <td>20</td>\n",
       "      <td>keep head from moving while sleeping on bus</td>\n",
       "      <td>Keep head from moving while object changes ori...</td>\n",
       "      <td>10648</td>\n",
       "    </tr>\n",
       "    <tr>\n",
       "      <th>1769</th>\n",
       "      <td>iVL7qgb</td>\n",
       "      <td>gpt_neo_2.7b</td>\n",
       "      <td>19</td>\n",
       "      <td>0.9</td>\n",
       "      <td>20</td>\n",
       "      <td>keep head from moving while sleeping on bus</td>\n",
       "      <td>prevent object from accidentally moving</td>\n",
       "      <td>10832</td>\n",
       "    </tr>\n",
       "    <tr>\n",
       "      <th>1829</th>\n",
       "      <td>iVL7qgb</td>\n",
       "      <td>gpt_neo_2.7b</td>\n",
       "      <td>20</td>\n",
       "      <td>0.9</td>\n",
       "      <td>20</td>\n",
       "      <td>keep head from moving while sleeping on bus</td>\n",
       "      <td>Keep user's head from moving on a moving vehicle</td>\n",
       "      <td>11014</td>\n",
       "    </tr>\n",
       "  </tbody>\n",
       "</table>\n",
       "</div>"
      ],
      "text/plain": [
       "           id    model_name iteration  temperature input_length  \\\n",
       "0     iVL7qgb  gpt_neo_2.7b         1          0.7           20   \n",
       "2     iVL7qgb  gpt_neo_2.7b         2          0.7           20   \n",
       "5     iVL7qgb  gpt_neo_2.7b         3          0.7           20   \n",
       "9     iVL7qgb  gpt_neo_2.7b         4          0.7           20   \n",
       "14    iVL7qgb  gpt_neo_2.7b         5          0.7           20   \n",
       "20    iVL7qgb  gpt_neo_2.7b         6          0.7           20   \n",
       "27    iVL7qgb  gpt_neo_2.7b         7          0.7           20   \n",
       "35    iVL7qgb  gpt_neo_2.7b         8          0.7           20   \n",
       "44    iVL7qgb  gpt_neo_2.7b         9          0.7           20   \n",
       "54    iVL7qgb  gpt_neo_2.7b        10          0.7           20   \n",
       "65    iVL7qgb  gpt_neo_2.7b        11          0.7           20   \n",
       "77    iVL7qgb  gpt_neo_2.7b        12          0.7           20   \n",
       "90    iVL7qgb  gpt_neo_2.7b        13          0.7           20   \n",
       "104   iVL7qgb  gpt_neo_2.7b        14          0.7           20   \n",
       "119   iVL7qgb  gpt_neo_2.7b        15          0.7           20   \n",
       "135   iVL7qgb  gpt_neo_2.7b        16          0.7           20   \n",
       "152   iVL7qgb  gpt_neo_2.7b        17          0.7           20   \n",
       "170   iVL7qgb  gpt_neo_2.7b        18          0.7           20   \n",
       "189   iVL7qgb  gpt_neo_2.7b        19          0.7           20   \n",
       "209   iVL7qgb  gpt_neo_2.7b        20          0.7           20   \n",
       "230   iVL7qgb  gpt_neo_2.7b         1          0.8           20   \n",
       "252   iVL7qgb  gpt_neo_2.7b         2          0.8           20   \n",
       "275   iVL7qgb  gpt_neo_2.7b         3          0.8           20   \n",
       "299   iVL7qgb  gpt_neo_2.7b         4          0.8           20   \n",
       "324   iVL7qgb  gpt_neo_2.7b         5          0.8           20   \n",
       "350   iVL7qgb  gpt_neo_2.7b         6          0.8           20   \n",
       "377   iVL7qgb  gpt_neo_2.7b         7          0.8           20   \n",
       "405   iVL7qgb  gpt_neo_2.7b         8          0.8           20   \n",
       "434   iVL7qgb  gpt_neo_2.7b         9          0.8           20   \n",
       "464   iVL7qgb  gpt_neo_2.7b        10          0.8           20   \n",
       "495   iVL7qgb  gpt_neo_2.7b        11          0.8           20   \n",
       "527   iVL7qgb  gpt_neo_2.7b        12          0.8           20   \n",
       "560   iVL7qgb  gpt_neo_2.7b        13          0.8           20   \n",
       "594   iVL7qgb  gpt_neo_2.7b        14          0.8           20   \n",
       "629   iVL7qgb  gpt_neo_2.7b        15          0.8           20   \n",
       "665   iVL7qgb  gpt_neo_2.7b        16          0.8           20   \n",
       "702   iVL7qgb  gpt_neo_2.7b        17          0.8           20   \n",
       "740   iVL7qgb  gpt_neo_2.7b        18          0.8           20   \n",
       "779   iVL7qgb  gpt_neo_2.7b        19          0.8           20   \n",
       "819   iVL7qgb  gpt_neo_2.7b        20          0.8           20   \n",
       "860   iVL7qgb  gpt_neo_2.7b         1          0.9           20   \n",
       "902   iVL7qgb  gpt_neo_2.7b         2          0.9           20   \n",
       "945   iVL7qgb  gpt_neo_2.7b         3          0.9           20   \n",
       "989   iVL7qgb  gpt_neo_2.7b         4          0.9           20   \n",
       "1034  iVL7qgb  gpt_neo_2.7b         5          0.9           20   \n",
       "1080  iVL7qgb  gpt_neo_2.7b         6          0.9           20   \n",
       "1127  iVL7qgb  gpt_neo_2.7b         7          0.9           20   \n",
       "1175  iVL7qgb  gpt_neo_2.7b         8          0.9           20   \n",
       "1224  iVL7qgb  gpt_neo_2.7b         9          0.9           20   \n",
       "1274  iVL7qgb  gpt_neo_2.7b        10          0.9           20   \n",
       "1325  iVL7qgb  gpt_neo_2.7b        11          0.9           20   \n",
       "1377  iVL7qgb  gpt_neo_2.7b        12          0.9           20   \n",
       "1430  iVL7qgb  gpt_neo_2.7b        13          0.9           20   \n",
       "1484  iVL7qgb  gpt_neo_2.7b        14          0.9           20   \n",
       "1539  iVL7qgb  gpt_neo_2.7b        15          0.9           20   \n",
       "1595  iVL7qgb  gpt_neo_2.7b        16          0.9           20   \n",
       "1652  iVL7qgb  gpt_neo_2.7b        17          0.9           20   \n",
       "1710  iVL7qgb  gpt_neo_2.7b        18          0.9           20   \n",
       "1769  iVL7qgb  gpt_neo_2.7b        19          0.9           20   \n",
       "1829  iVL7qgb  gpt_neo_2.7b        20          0.9           20   \n",
       "\n",
       "                                problem_statement  \\\n",
       "0     keep head from moving while sleeping on bus   \n",
       "2     keep head from moving while sleeping on bus   \n",
       "5     keep head from moving while sleeping on bus   \n",
       "9     keep head from moving while sleeping on bus   \n",
       "14    keep head from moving while sleeping on bus   \n",
       "20    keep head from moving while sleeping on bus   \n",
       "27    keep head from moving while sleeping on bus   \n",
       "35    keep head from moving while sleeping on bus   \n",
       "44    keep head from moving while sleeping on bus   \n",
       "54    keep head from moving while sleeping on bus   \n",
       "65    keep head from moving while sleeping on bus   \n",
       "77    keep head from moving while sleeping on bus   \n",
       "90    keep head from moving while sleeping on bus   \n",
       "104   keep head from moving while sleeping on bus   \n",
       "119   keep head from moving while sleeping on bus   \n",
       "135   keep head from moving while sleeping on bus   \n",
       "152   keep head from moving while sleeping on bus   \n",
       "170   keep head from moving while sleeping on bus   \n",
       "189   keep head from moving while sleeping on bus   \n",
       "209   keep head from moving while sleeping on bus   \n",
       "230   keep head from moving while sleeping on bus   \n",
       "252   keep head from moving while sleeping on bus   \n",
       "275   keep head from moving while sleeping on bus   \n",
       "299   keep head from moving while sleeping on bus   \n",
       "324   keep head from moving while sleeping on bus   \n",
       "350   keep head from moving while sleeping on bus   \n",
       "377   keep head from moving while sleeping on bus   \n",
       "405   keep head from moving while sleeping on bus   \n",
       "434   keep head from moving while sleeping on bus   \n",
       "464   keep head from moving while sleeping on bus   \n",
       "495   keep head from moving while sleeping on bus   \n",
       "527   keep head from moving while sleeping on bus   \n",
       "560   keep head from moving while sleeping on bus   \n",
       "594   keep head from moving while sleeping on bus   \n",
       "629   keep head from moving while sleeping on bus   \n",
       "665   keep head from moving while sleeping on bus   \n",
       "702   keep head from moving while sleeping on bus   \n",
       "740   keep head from moving while sleeping on bus   \n",
       "779   keep head from moving while sleeping on bus   \n",
       "819   keep head from moving while sleeping on bus   \n",
       "860   keep head from moving while sleeping on bus   \n",
       "902   keep head from moving while sleeping on bus   \n",
       "945   keep head from moving while sleeping on bus   \n",
       "989   keep head from moving while sleeping on bus   \n",
       "1034  keep head from moving while sleeping on bus   \n",
       "1080  keep head from moving while sleeping on bus   \n",
       "1127  keep head from moving while sleeping on bus   \n",
       "1175  keep head from moving while sleeping on bus   \n",
       "1224  keep head from moving while sleeping on bus   \n",
       "1274  keep head from moving while sleeping on bus   \n",
       "1325  keep head from moving while sleeping on bus   \n",
       "1377  keep head from moving while sleeping on bus   \n",
       "1430  keep head from moving while sleeping on bus   \n",
       "1484  keep head from moving while sleeping on bus   \n",
       "1539  keep head from moving while sleeping on bus   \n",
       "1595  keep head from moving while sleeping on bus   \n",
       "1652  keep head from moving while sleeping on bus   \n",
       "1710  keep head from moving while sleeping on bus   \n",
       "1769  keep head from moving while sleeping on bus   \n",
       "1829  keep head from moving while sleeping on bus   \n",
       "\n",
       "                                 abstract_reformulation  \\\n",
       "0     Prevent head from moving toward the outside of...   \n",
       "2                      Stop the movement of a body part   \n",
       "5     Stop the object from moving when a user turns ...   \n",
       "9     Move head without changing the position of the...   \n",
       "14             allow head to turn while sleeping on bus   \n",
       "20              Stop head from turning when a bus stops   \n",
       "27    Prevent the motion of an object while it is be...   \n",
       "35                make head to move with minimum effort   \n",
       "44               Prevent head from moving after a crash   \n",
       "54                Prevent a motion from being perceived   \n",
       "65    Prevent object from moving during the course o...   \n",
       "77    Keep a sleeping person from moving around on a...   \n",
       "90    Prevent the user from sleeping in the same spo...   \n",
       "104                   Protect head from unwanted shocks   \n",
       "119   prevent head from rotating when sleeping in a car   \n",
       "135                     prevent movement of user's head   \n",
       "152      Prevent user from falling asleep while driving   \n",
       "170   prevent user's head from moving in a given pos...   \n",
       "189                        stop unwanted motion of head   \n",
       "209       Avoid unwanted motion while sleeping on a bus   \n",
       "230   prevent subject's head from moving in a way th...   \n",
       "252                        Stop head from moving in bed   \n",
       "275   Prevent head from coming in contact with fixed...   \n",
       "299     make a head stable while sleeping in a position   \n",
       "324            prevent head from moving while in motion   \n",
       "350   Create a solid object that does not move durin...   \n",
       "377   Prevent head from moving back and forth during...   \n",
       "405    Prevent head from moving while sleeping on a bus   \n",
       "434   prevent head from making a sudden movement dur...   \n",
       "464   Prevent head movement when a sleeping person i...   \n",
       "495           Prevent head from rolling while in motion   \n",
       "527         Prevent motion of head when sleeping on bus   \n",
       "560       prevent head from moving in a fixed direction   \n",
       "594                   Avoid unnatural movements of head   \n",
       "629          Prevent a head from moving in a free-space   \n",
       "665    Prevent head from moving when object is in place   \n",
       "702    Prevent unintended motion of sleeping passengers   \n",
       "740         Prevent head movement while sleeping on bus   \n",
       "779   create a stable and rigid structure for a vehicle   \n",
       "819            Don't make head move for sleeping on bus   \n",
       "860   Allow a user to fall asleep while operating a ...   \n",
       "902   prevent user from getting on seat of bus while...   \n",
       "945              prevent user's head from hitting walls   \n",
       "989   Prevent head movement while sleeping in a conf...   \n",
       "1034        prevent head from moving in the sleep state   \n",
       "1080          Prevent human from falling from a vehicle   \n",
       "1127  prevent the head from moving while sleeping on...   \n",
       "1175           Do not allow head to move while sleeping   \n",
       "1224             prevent loss of balance while sleeping   \n",
       "1274                     Restrain user's body movements   \n",
       "1325       Protect head from impact of unexpected shock   \n",
       "1377  enable user to keep head still while sleeping ...   \n",
       "1430     Prevent motion in the form of a blur in motion   \n",
       "1484  prevent user from falling asleep while riding ...   \n",
       "1539  prevent the head from coming into contact with...   \n",
       "1595                   Make head from a rigid structure   \n",
       "1652  keep head from moving with respect to the vehicle   \n",
       "1710  Keep head from moving while object changes ori...   \n",
       "1769            prevent object from accidentally moving   \n",
       "1829   Keep user's head from moving on a moving vehicle   \n",
       "\n",
       "     cumulative_time_in_seconds  \n",
       "0                             0  \n",
       "2                           216  \n",
       "5                           394  \n",
       "9                           570  \n",
       "14                          747  \n",
       "20                          923  \n",
       "27                         1100  \n",
       "35                         1277  \n",
       "44                         1454  \n",
       "54                         1631  \n",
       "65                         1814  \n",
       "77                         2002  \n",
       "90                         2187  \n",
       "104                        2380  \n",
       "119                        2570  \n",
       "135                        2763  \n",
       "152                        2960  \n",
       "170                        3152  \n",
       "189                        3334  \n",
       "209                        3524  \n",
       "230                        3718  \n",
       "252                        3916  \n",
       "275                        4125  \n",
       "299                        4332  \n",
       "324                        4531  \n",
       "350                        4714  \n",
       "377                        4891  \n",
       "405                        5066  \n",
       "434                        5241  \n",
       "464                        5416  \n",
       "495                        5595  \n",
       "527                        5774  \n",
       "560                        5953  \n",
       "594                        6134  \n",
       "629                        6314  \n",
       "665                        6507  \n",
       "702                        6701  \n",
       "740                        6892  \n",
       "779                        7083  \n",
       "819                        7278  \n",
       "860                        7462  \n",
       "902                        7648  \n",
       "945                        7843  \n",
       "989                        8031  \n",
       "1034                       8221  \n",
       "1080                       8417  \n",
       "1127                       8605  \n",
       "1175                       8797  \n",
       "1224                       8988  \n",
       "1274                       9172  \n",
       "1325                       9354  \n",
       "1377                       9533  \n",
       "1430                       9714  \n",
       "1484                       9918  \n",
       "1539                      10102  \n",
       "1595                      10285  \n",
       "1652                      10466  \n",
       "1710                      10648  \n",
       "1769                      10832  \n",
       "1829                      11014  "
      ]
     },
     "execution_count": 22,
     "metadata": {},
     "output_type": "execute_result"
    }
   ],
   "source": [
    "df_27b"
   ]
  },
  {
   "cell_type": "code",
   "execution_count": 23,
   "metadata": {},
   "outputs": [],
   "source": [
    "# res_generator_gpt_neo_125m\n"
   ]
  },
  {
   "cell_type": "code",
   "execution_count": 24,
   "metadata": {},
   "outputs": [],
   "source": [
    "# res_generator_gpt_neo_125m[0]['generated_text'].split('\\n\\n')[11].split('\\n')[0]"
   ]
  },
  {
   "cell_type": "code",
   "execution_count": 25,
   "metadata": {},
   "outputs": [],
   "source": [
    "# res_generator_gpt_neo_125m[0]['generated_text'].split('\\n\\n')[11].split('\\n')[-1]"
   ]
  },
  {
   "cell_type": "code",
   "execution_count": 26,
   "metadata": {},
   "outputs": [],
   "source": [
    "# print(res_generator_gpt_neo_125m[0]['generated_text'])"
   ]
  },
  {
   "cell_type": "code",
   "execution_count": null,
   "metadata": {},
   "outputs": [],
   "source": []
  },
  {
   "cell_type": "code",
   "execution_count": null,
   "metadata": {},
   "outputs": [],
   "source": []
  },
  {
   "cell_type": "code",
   "execution_count": 27,
   "metadata": {},
   "outputs": [],
   "source": [
    "# print(res_generator_gpt_neo_1_3b[0]['generated_text'])"
   ]
  },
  {
   "cell_type": "code",
   "execution_count": 28,
   "metadata": {},
   "outputs": [],
   "source": [
    "# res_generator_gpt_neo_2_7 = generator_gpt_neo_2_7(prompt,max_length = 500, do_sample = True,temperature = 0.9)"
   ]
  },
  {
   "cell_type": "code",
   "execution_count": 29,
   "metadata": {},
   "outputs": [],
   "source": [
    "\n",
    "# print(res_generator_gpt_neo_2_7[0]['generated_text'])"
   ]
  },
  {
   "cell_type": "code",
   "execution_count": 30,
   "metadata": {},
   "outputs": [],
   "source": [
    "# res_generator_gpt2 = generator_gpt2(prompt,max_length = 500, do_sample = True,temperature = 0.9)"
   ]
  },
  {
   "cell_type": "code",
   "execution_count": 31,
   "metadata": {},
   "outputs": [],
   "source": [
    "\n",
    "\n",
    "# print(res_generator_gpt2[0]['generated_text'])"
   ]
  },
  {
   "cell_type": "code",
   "execution_count": null,
   "metadata": {},
   "outputs": [],
   "source": []
  },
  {
   "cell_type": "code",
   "execution_count": null,
   "metadata": {},
   "outputs": [],
   "source": []
  },
  {
   "cell_type": "code",
   "execution_count": null,
   "metadata": {},
   "outputs": [],
   "source": []
  },
  {
   "cell_type": "code",
   "execution_count": null,
   "metadata": {},
   "outputs": [],
   "source": []
  },
  {
   "cell_type": "code",
   "execution_count": null,
   "metadata": {},
   "outputs": [],
   "source": []
  },
  {
   "cell_type": "code",
   "execution_count": null,
   "metadata": {},
   "outputs": [],
   "source": []
  },
  {
   "cell_type": "code",
   "execution_count": null,
   "metadata": {},
   "outputs": [],
   "source": []
  },
  {
   "cell_type": "code",
   "execution_count": null,
   "metadata": {},
   "outputs": [],
   "source": []
  }
 ],
 "metadata": {
  "kernelspec": {
   "display_name": "Python 3",
   "language": "python",
   "name": "python3"
  },
  "language_info": {
   "codemirror_mode": {
    "name": "ipython",
    "version": 3
   },
   "file_extension": ".py",
   "mimetype": "text/x-python",
   "name": "python",
   "nbconvert_exporter": "python",
   "pygments_lexer": "ipython3",
   "version": "3.7.10"
  }
 },
 "nbformat": 4,
 "nbformat_minor": 4
}
