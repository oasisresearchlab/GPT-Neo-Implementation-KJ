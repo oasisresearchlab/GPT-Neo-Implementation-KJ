{
 "cells": [
  {
   "cell_type": "code",
   "execution_count": 1,
   "metadata": {},
   "outputs": [
    {
     "name": "stderr",
     "output_type": "stream",
     "text": [
      "C:\\Users\\ysj30\\anaconda3\\envs\\py383\\lib\\site-packages\\torchaudio\\extension\\extension.py:13: UserWarning: torchaudio C++ extension is not available.\n",
      "  warnings.warn('torchaudio C++ extension is not available.')\n",
      "C:\\Users\\ysj30\\anaconda3\\envs\\py383\\lib\\site-packages\\torchaudio\\backend\\utils.py:89: UserWarning: No audio backend is available.\n",
      "  warnings.warn('No audio backend is available.')\n"
     ]
    }
   ],
   "source": [
    "from transformers import pipeline"
   ]
  },
  {
   "cell_type": "code",
   "execution_count": 2,
   "metadata": {},
   "outputs": [],
   "source": [
    "import numpy as np\n",
    "import pandas as pd\n",
    "import random\n",
    "import string\n",
    "from datetime import datetime\n",
    "import time"
   ]
  },
  {
   "cell_type": "code",
   "execution_count": null,
   "metadata": {},
   "outputs": [],
   "source": []
  },
  {
   "cell_type": "code",
   "execution_count": 3,
   "metadata": {},
   "outputs": [],
   "source": [
    "generator_gpt_neo_1_3b = pipeline('text-generation',model='EleutherAI/gpt-neo-1.3B')"
   ]
  },
  {
   "cell_type": "code",
   "execution_count": 4,
   "metadata": {},
   "outputs": [],
   "source": [
    "# prompt = 'drill into teeth quietly'"
   ]
  },
  {
   "cell_type": "code",
   "execution_count": 5,
   "metadata": {},
   "outputs": [],
   "source": [
    "generator_gpt_neo_125m = pipeline('text-generation',model='EleutherAI/gpt-neo-125M')"
   ]
  },
  {
   "cell_type": "code",
   "execution_count": 6,
   "metadata": {},
   "outputs": [],
   "source": [
    "generator_gpt_neo_2_7 = pipeline('text-generation',model='EleutherAI/gpt-neo-2.7B')"
   ]
  },
  {
   "cell_type": "code",
   "execution_count": 7,
   "metadata": {},
   "outputs": [],
   "source": [
    "# generator_gpt2 = pipeline('text-generation',model='gpt2')"
   ]
  },
  {
   "cell_type": "code",
   "execution_count": 8,
   "metadata": {},
   "outputs": [],
   "source": [
    "user_input = \"keep head from moving while sleeping on bus\""
   ]
  },
  {
   "cell_type": "code",
   "execution_count": 9,
   "metadata": {},
   "outputs": [],
   "source": [
    "prompt = f\"\"\"Given a problem statement, generate an abstracted reformulation of that problem statement\n",
    "\n",
    "Problem statement: Shield baby from the sun\n",
    "Abstracted reformulation: Protect vulnerable object from radiation\n",
    "\n",
    "Problem statement: Prevent feet from getting wet\n",
    "Abstracted reformulation: Stop object from getting into contact with unwanted substances\n",
    "\n",
    "Problem statement: Hold soap bars of multiple sizes\n",
    "Abstracted reformulation: Contain objects of different volumes\n",
    "\n",
    "Problem statement: Enable a broom to clean in hard to reach places\n",
    "Abstracted reformulation: Extend the physical reach of a tool\n",
    "\n",
    "Problem statement: drill into teeth quietly\n",
    "Abstracted reformulation: create a hole in an object without causing an unwanted noise\n",
    "\n",
    "Problem statement: make house out of cooked spaghetti\n",
    "Abstracted reformulation: create strong, rigid structure out of soft materials\n",
    "\n",
    "Problem statement: make house out of cooked spaghetti\n",
    "Abstracted reformulation: create structure from elastic elements\n",
    "\n",
    "Problem statement:  prevent bicycle tire flats\n",
    "Abstracted reformulation: protect object from the penetration of foreign objects\n",
    "\n",
    "Problem statement: prevent blood clotting in stents\n",
    "Abstracted reformulation: prevent clogging of cylindrical tubes\n",
    "\n",
    "Problem statement: transfer heat in semiconductors at nanoscale\n",
    "Abstracted reformulation: Enable particles to flow in confined geometries\n",
    "\n",
    "Problem statement:reduce seasickness in virtual reality systems\n",
    "Abstracted reformulation: reduce user's dependency on information cues\n",
    "\n",
    "Problem statement:reduce seasickness in virtual reality systems\n",
    "Abstracted reformulation: Achieve robust orientation stability\n",
    "\n",
    "Problem statement:reduce seasickness in virtual reality systems\n",
    "Abstracted reformulation: improve the feel of a complicated motion or force\n",
    "\n",
    "Problem statement:wash clothes without water\n",
    "Abstracted reformulation: Remove dirt from objects by mechanical force\n",
    "\n",
    "Problem statement:charge cell phones on the go\n",
    "Abstracted reformulation: Charge a battery source from a remote energy-source\n",
    "\n",
    "Problem statement:charge cell phones on the go\n",
    "Abstracted reformulation: Supply power to electrical devices in the field\n",
    "\n",
    "Problem statement:protect feet from getting wet\n",
    "Abstracted reformulation: stop entry of foreign particles\n",
    "\n",
    "Problem statement:protect feet from getting wet\n",
    "Abstracted reformulation: Mechanically stop liquid from penetrating a space\n",
    "\n",
    "Problem statement:shield baby from the sun\n",
    "Abstracted reformulation: Protect vulnerable object from radiation\n",
    "\n",
    "Problem statement:Prevent feet from getting wet\n",
    "Abstracted reformulation: Stop object from getting into contact with unwanted substances\n",
    "\n",
    "Problem statement: {user_input}\n",
    "\"\"\""
   ]
  },
  {
   "cell_type": "code",
   "execution_count": null,
   "metadata": {},
   "outputs": [],
   "source": []
  },
  {
   "cell_type": "code",
   "execution_count": 10,
   "metadata": {},
   "outputs": [
    {
     "name": "stdout",
     "output_type": "stream",
     "text": [
      "<module 'random' from 'C:\\\\Users\\\\ysj30\\\\anaconda3\\\\envs\\\\py383\\\\lib\\\\random.py'>\n"
     ]
    }
   ],
   "source": [
    "\n",
    "# Generate a random string\n",
    "# with 32 characters.\n",
    "\n",
    "\n",
    "print (random)"
   ]
  },
  {
   "cell_type": "code",
   "execution_count": 11,
   "metadata": {},
   "outputs": [],
   "source": [
    "cols = ['id','model_name','iteration','temperature','input_length','problem_statement','abstract_reformulation','cumulative_time']\n",
    "def generate_blank_df(cols): \n",
    "    df = pd.DataFrame(columns = cols)\n",
    "    return df"
   ]
  },
  {
   "cell_type": "code",
   "execution_count": 12,
   "metadata": {},
   "outputs": [],
   "source": [
    "# df = generate_blank_df(cols)"
   ]
  },
  {
   "cell_type": "code",
   "execution_count": 13,
   "metadata": {},
   "outputs": [],
   "source": [
    "def get_current_date():\n",
    "    now = datetime.now()\n",
    "\n",
    "#     print(\"now =\", now)\n",
    "\n",
    "    # dd/mm/YY H:M:S\n",
    "    dt_string = now.strftime(\"%Y%m%d\")\n",
    "#     print(\"date and time =\", dt_string)\n",
    "    date_string = dt_string\n",
    "    return date_string"
   ]
  },
  {
   "cell_type": "code",
   "execution_count": 14,
   "metadata": {},
   "outputs": [],
   "source": [
    "date = get_current_date()"
   ]
  },
  {
   "cell_type": "code",
   "execution_count": null,
   "metadata": {},
   "outputs": [],
   "source": []
  },
  {
   "cell_type": "code",
   "execution_count": 15,
   "metadata": {},
   "outputs": [],
   "source": [
    "def generate_output(model,max_iterations,prompt,number_of_problem_statements,temp,model_name_text,want_to_save_1or0):\n",
    "    start = time.time()\n",
    "    date = get_current_date()\n",
    "    df = generate_blank_df(cols)\n",
    "    rand_id = ''.join([random.choice(string.ascii_letters\n",
    "            + string.digits) for n in range(7)])\n",
    "    iteration_no = 1\n",
    "    columns = list(df)\n",
    "    temp_str = str(temp)\n",
    "    temp_str = temp_str.split('.')[-1]\n",
    "    file_name = date+'_'+model_name_text+'_'+rand_id+'_'+str(max_iterations)+'_'+str(number_of_problem_statements)+'_'+temp_str+'.csv'\n",
    "    data = []\n",
    "    while iteration_no <= max_iterations:\n",
    "        cumulative_time=round((time.time()-start))\n",
    "        res_model = model(prompt,max_length = 32*number_of_problem_statements,do_sample = True,temperature = temp)\n",
    "        problem_statement = res_model[0]['generated_text'].split('\\n\\n')[number_of_problem_statements+1].split('\\n')[0].split(':')[-1].strip()\n",
    "        abs_reformulation = res_model[0]['generated_text'].split('\\n\\n')[number_of_problem_statements+1].split('\\n')[-1].split(':')[-1].strip()\n",
    "        values_for_df = [rand_id,model_name_text,iteration_no,temp,number_of_problem_statements,problem_statement,abs_reformulation,cumulative_time]\n",
    "        zipped = zip(columns,values_for_df)\n",
    "        dict1 = dict(zipped)\n",
    "        data.append(dict1)\n",
    "        iteration_no += 1\n",
    "#         print(f'Total time taken is {elapsed_time_lc}')\n",
    "        print(iteration_no-1,problem_statement,'->',abs_reformulation,cumulative_time)\n",
    "        print('----------------------------------------')\n",
    "#         print(rand_id,iteration_no,temp,number_of_problem_statements,problem_statement,abs_reformulation)\n",
    "    df = df.append(data,ignore_index = True)\n",
    "    \n",
    "    if(want_to_save_1or0==1):\n",
    "        df.to_csv(f'../Csv/{file_name}',index=False)\n",
    "    else:\n",
    "        print('returning_df')\n",
    "    \n",
    "    elapsed_time_lc=(time.time()-start)\n",
    "    print(f'Total time taken is {round(elapsed_time_lc)}')\n",
    "    return df\n",
    "    "
   ]
  },
  {
   "cell_type": "code",
   "execution_count": null,
   "metadata": {},
   "outputs": [],
   "source": []
  },
  {
   "cell_type": "code",
   "execution_count": 16,
   "metadata": {},
   "outputs": [
    {
     "name": "stderr",
     "output_type": "stream",
     "text": [
      "Setting `pad_token_id` to `eos_token_id`:50256 for open-end generation.\n",
      "Setting `pad_token_id` to `eos_token_id`:50256 for open-end generation.\n"
     ]
    },
    {
     "name": "stdout",
     "output_type": "stream",
     "text": [
      "1 keep head from moving while sleeping on bus -> Improve the stay-apart effect by keeping head from moving while sleeping on bus 0\n",
      "----------------------------------------\n"
     ]
    },
    {
     "name": "stderr",
     "output_type": "stream",
     "text": [
      "Setting `pad_token_id` to `eos_token_id`:50256 for open-end generation.\n"
     ]
    },
    {
     "name": "stdout",
     "output_type": "stream",
     "text": [
      "2 keep head from moving while sleeping on bus -> prevent body from falling from a bus 17\n",
      "----------------------------------------\n"
     ]
    },
    {
     "name": "stderr",
     "output_type": "stream",
     "text": [
      "Setting `pad_token_id` to `eos_token_id`:50256 for open-end generation.\n"
     ]
    },
    {
     "name": "stdout",
     "output_type": "stream",
     "text": [
      "3 keep head from moving while sleeping on bus -> keep head from moving while sleeping on bus 32\n",
      "----------------------------------------\n"
     ]
    },
    {
     "name": "stderr",
     "output_type": "stream",
     "text": [
      "Setting `pad_token_id` to `eos_token_id`:50256 for open-end generation.\n"
     ]
    },
    {
     "name": "stdout",
     "output_type": "stream",
     "text": [
      "4 keep head from moving while sleeping on bus -> Remove skin from objects by mechanical force 48\n",
      "----------------------------------------\n"
     ]
    },
    {
     "name": "stderr",
     "output_type": "stream",
     "text": [
      "Setting `pad_token_id` to `eos_token_id`:50256 for open-end generation.\n"
     ]
    },
    {
     "name": "stdout",
     "output_type": "stream",
     "text": [
      "5 keep head from moving while sleeping on bus -> stop object from getting into contact with unwanted substances 63\n",
      "----------------------------------------\n"
     ]
    },
    {
     "name": "stderr",
     "output_type": "stream",
     "text": [
      "Setting `pad_token_id` to `eos_token_id`:50256 for open-end generation.\n"
     ]
    },
    {
     "name": "stdout",
     "output_type": "stream",
     "text": [
      "6 keep head from moving while sleeping on bus -> keep head from moving while sleeping on bus 78\n",
      "----------------------------------------\n"
     ]
    },
    {
     "name": "stderr",
     "output_type": "stream",
     "text": [
      "Setting `pad_token_id` to `eos_token_id`:50256 for open-end generation.\n"
     ]
    },
    {
     "name": "stdout",
     "output_type": "stream",
     "text": [
      "7 keep head from moving while sleeping on bus -> Protect object from the penetration of foreign objects 94\n",
      "----------------------------------------\n"
     ]
    },
    {
     "name": "stderr",
     "output_type": "stream",
     "text": [
      "Setting `pad_token_id` to `eos_token_id`:50256 for open-end generation.\n"
     ]
    },
    {
     "name": "stdout",
     "output_type": "stream",
     "text": [
      "8 keep head from moving while sleeping on bus -> stop object from getting into contact with unwanted substances 110\n",
      "----------------------------------------\n"
     ]
    },
    {
     "name": "stderr",
     "output_type": "stream",
     "text": [
      "Setting `pad_token_id` to `eos_token_id`:50256 for open-end generation.\n"
     ]
    },
    {
     "name": "stdout",
     "output_type": "stream",
     "text": [
      "9 keep head from moving while sleeping on bus -> Stop object from getting into contact with unwanted substances 126\n",
      "----------------------------------------\n"
     ]
    },
    {
     "name": "stderr",
     "output_type": "stream",
     "text": [
      "Setting `pad_token_id` to `eos_token_id`:50256 for open-end generation.\n"
     ]
    },
    {
     "name": "stdout",
     "output_type": "stream",
     "text": [
      "10 keep head from moving while sleeping on bus -> prevent children from getting wet 144\n",
      "----------------------------------------\n"
     ]
    },
    {
     "name": "stderr",
     "output_type": "stream",
     "text": [
      "Setting `pad_token_id` to `eos_token_id`:50256 for open-end generation.\n"
     ]
    },
    {
     "name": "stdout",
     "output_type": "stream",
     "text": [
      "11 keep head from moving while sleeping on bus -> Stop object from getting into contact with unwanted substances 160\n",
      "----------------------------------------\n"
     ]
    },
    {
     "name": "stderr",
     "output_type": "stream",
     "text": [
      "Setting `pad_token_id` to `eos_token_id`:50256 for open-end generation.\n"
     ]
    },
    {
     "name": "stdout",
     "output_type": "stream",
     "text": [
      "12 keep head from moving while sleeping on bus -> Prevent body from moving while sleeping on bus 176\n",
      "----------------------------------------\n"
     ]
    },
    {
     "name": "stderr",
     "output_type": "stream",
     "text": [
      "Setting `pad_token_id` to `eos_token_id`:50256 for open-end generation.\n"
     ]
    },
    {
     "name": "stdout",
     "output_type": "stream",
     "text": [
      "13 keep head from moving while sleeping on bus -> Start object from moving while sleeping 192\n",
      "----------------------------------------\n"
     ]
    },
    {
     "name": "stderr",
     "output_type": "stream",
     "text": [
      "Setting `pad_token_id` to `eos_token_id`:50256 for open-end generation.\n"
     ]
    },
    {
     "name": "stdout",
     "output_type": "stream",
     "text": [
      "14 keep head from moving while sleeping on bus -> keep head from moving while sleeping on bus 208\n",
      "----------------------------------------\n"
     ]
    },
    {
     "name": "stderr",
     "output_type": "stream",
     "text": [
      "Setting `pad_token_id` to `eos_token_id`:50256 for open-end generation.\n"
     ]
    },
    {
     "name": "stdout",
     "output_type": "stream",
     "text": [
      "15 keep head from moving while sleeping on bus -> Enable a broom to clean in hard to reach places 224\n",
      "----------------------------------------\n"
     ]
    },
    {
     "name": "stderr",
     "output_type": "stream",
     "text": [
      "Setting `pad_token_id` to `eos_token_id`:50256 for open-end generation.\n"
     ]
    },
    {
     "name": "stdout",
     "output_type": "stream",
     "text": [
      "16 keep head from moving while sleeping on bus -> Start a new task 240\n",
      "----------------------------------------\n"
     ]
    },
    {
     "name": "stderr",
     "output_type": "stream",
     "text": [
      "Setting `pad_token_id` to `eos_token_id`:50256 for open-end generation.\n"
     ]
    },
    {
     "name": "stdout",
     "output_type": "stream",
     "text": [
      "17 keep head from moving while sleeping on bus -> Protect object from the impact of external forces 256\n",
      "----------------------------------------\n"
     ]
    },
    {
     "name": "stderr",
     "output_type": "stream",
     "text": [
      "Setting `pad_token_id` to `eos_token_id`:50256 for open-end generation.\n"
     ]
    },
    {
     "name": "stdout",
     "output_type": "stream",
     "text": [
      "18 keep head from moving while sleeping on bus -> keep head from moving while sleeping on bus 272\n",
      "----------------------------------------\n"
     ]
    },
    {
     "name": "stderr",
     "output_type": "stream",
     "text": [
      "Setting `pad_token_id` to `eos_token_id`:50256 for open-end generation.\n"
     ]
    },
    {
     "name": "stdout",
     "output_type": "stream",
     "text": [
      "19 keep head from moving while sleeping on bus -> prevent the movement of the head from getting wet 288\n",
      "----------------------------------------\n",
      "20 keep head from moving while sleeping on bus -> Remove a piece of cloth from a surface of a car 305\n",
      "----------------------------------------\n",
      "Total time taken is 320\n"
     ]
    }
   ],
   "source": [
    "df_125m = generate_output(generator_gpt_neo_125m,20,prompt,20,0.75,'gpt_neo_125m',1)"
   ]
  },
  {
   "cell_type": "code",
   "execution_count": 17,
   "metadata": {},
   "outputs": [
    {
     "data": {
      "text/html": [
       "<div>\n",
       "<style scoped>\n",
       "    .dataframe tbody tr th:only-of-type {\n",
       "        vertical-align: middle;\n",
       "    }\n",
       "\n",
       "    .dataframe tbody tr th {\n",
       "        vertical-align: top;\n",
       "    }\n",
       "\n",
       "    .dataframe thead th {\n",
       "        text-align: right;\n",
       "    }\n",
       "</style>\n",
       "<table border=\"1\" class=\"dataframe\">\n",
       "  <thead>\n",
       "    <tr style=\"text-align: right;\">\n",
       "      <th></th>\n",
       "      <th>id</th>\n",
       "      <th>model_name</th>\n",
       "      <th>iteration</th>\n",
       "      <th>temperature</th>\n",
       "      <th>input_length</th>\n",
       "      <th>problem_statement</th>\n",
       "      <th>abstract_reformulation</th>\n",
       "      <th>cumulative_time</th>\n",
       "    </tr>\n",
       "  </thead>\n",
       "  <tbody>\n",
       "    <tr>\n",
       "      <th>0</th>\n",
       "      <td>yaKoc2K</td>\n",
       "      <td>gpt_neo_125m</td>\n",
       "      <td>1</td>\n",
       "      <td>0.75</td>\n",
       "      <td>20</td>\n",
       "      <td>keep head from moving while sleeping on bus</td>\n",
       "      <td>Improve the stay-apart effect by keeping head ...</td>\n",
       "      <td>0</td>\n",
       "    </tr>\n",
       "    <tr>\n",
       "      <th>1</th>\n",
       "      <td>yaKoc2K</td>\n",
       "      <td>gpt_neo_125m</td>\n",
       "      <td>2</td>\n",
       "      <td>0.75</td>\n",
       "      <td>20</td>\n",
       "      <td>keep head from moving while sleeping on bus</td>\n",
       "      <td>prevent body from falling from a bus</td>\n",
       "      <td>17</td>\n",
       "    </tr>\n",
       "    <tr>\n",
       "      <th>2</th>\n",
       "      <td>yaKoc2K</td>\n",
       "      <td>gpt_neo_125m</td>\n",
       "      <td>3</td>\n",
       "      <td>0.75</td>\n",
       "      <td>20</td>\n",
       "      <td>keep head from moving while sleeping on bus</td>\n",
       "      <td>keep head from moving while sleeping on bus</td>\n",
       "      <td>32</td>\n",
       "    </tr>\n",
       "    <tr>\n",
       "      <th>3</th>\n",
       "      <td>yaKoc2K</td>\n",
       "      <td>gpt_neo_125m</td>\n",
       "      <td>4</td>\n",
       "      <td>0.75</td>\n",
       "      <td>20</td>\n",
       "      <td>keep head from moving while sleeping on bus</td>\n",
       "      <td>Remove skin from objects by mechanical force</td>\n",
       "      <td>48</td>\n",
       "    </tr>\n",
       "    <tr>\n",
       "      <th>4</th>\n",
       "      <td>yaKoc2K</td>\n",
       "      <td>gpt_neo_125m</td>\n",
       "      <td>5</td>\n",
       "      <td>0.75</td>\n",
       "      <td>20</td>\n",
       "      <td>keep head from moving while sleeping on bus</td>\n",
       "      <td>stop object from getting into contact with unw...</td>\n",
       "      <td>63</td>\n",
       "    </tr>\n",
       "    <tr>\n",
       "      <th>5</th>\n",
       "      <td>yaKoc2K</td>\n",
       "      <td>gpt_neo_125m</td>\n",
       "      <td>6</td>\n",
       "      <td>0.75</td>\n",
       "      <td>20</td>\n",
       "      <td>keep head from moving while sleeping on bus</td>\n",
       "      <td>keep head from moving while sleeping on bus</td>\n",
       "      <td>78</td>\n",
       "    </tr>\n",
       "    <tr>\n",
       "      <th>6</th>\n",
       "      <td>yaKoc2K</td>\n",
       "      <td>gpt_neo_125m</td>\n",
       "      <td>7</td>\n",
       "      <td>0.75</td>\n",
       "      <td>20</td>\n",
       "      <td>keep head from moving while sleeping on bus</td>\n",
       "      <td>Protect object from the penetration of foreign...</td>\n",
       "      <td>94</td>\n",
       "    </tr>\n",
       "    <tr>\n",
       "      <th>7</th>\n",
       "      <td>yaKoc2K</td>\n",
       "      <td>gpt_neo_125m</td>\n",
       "      <td>8</td>\n",
       "      <td>0.75</td>\n",
       "      <td>20</td>\n",
       "      <td>keep head from moving while sleeping on bus</td>\n",
       "      <td>stop object from getting into contact with unw...</td>\n",
       "      <td>110</td>\n",
       "    </tr>\n",
       "    <tr>\n",
       "      <th>8</th>\n",
       "      <td>yaKoc2K</td>\n",
       "      <td>gpt_neo_125m</td>\n",
       "      <td>9</td>\n",
       "      <td>0.75</td>\n",
       "      <td>20</td>\n",
       "      <td>keep head from moving while sleeping on bus</td>\n",
       "      <td>Stop object from getting into contact with unw...</td>\n",
       "      <td>126</td>\n",
       "    </tr>\n",
       "    <tr>\n",
       "      <th>9</th>\n",
       "      <td>yaKoc2K</td>\n",
       "      <td>gpt_neo_125m</td>\n",
       "      <td>10</td>\n",
       "      <td>0.75</td>\n",
       "      <td>20</td>\n",
       "      <td>keep head from moving while sleeping on bus</td>\n",
       "      <td>prevent children from getting wet</td>\n",
       "      <td>144</td>\n",
       "    </tr>\n",
       "    <tr>\n",
       "      <th>10</th>\n",
       "      <td>yaKoc2K</td>\n",
       "      <td>gpt_neo_125m</td>\n",
       "      <td>11</td>\n",
       "      <td>0.75</td>\n",
       "      <td>20</td>\n",
       "      <td>keep head from moving while sleeping on bus</td>\n",
       "      <td>Stop object from getting into contact with unw...</td>\n",
       "      <td>160</td>\n",
       "    </tr>\n",
       "    <tr>\n",
       "      <th>11</th>\n",
       "      <td>yaKoc2K</td>\n",
       "      <td>gpt_neo_125m</td>\n",
       "      <td>12</td>\n",
       "      <td>0.75</td>\n",
       "      <td>20</td>\n",
       "      <td>keep head from moving while sleeping on bus</td>\n",
       "      <td>Prevent body from moving while sleeping on bus</td>\n",
       "      <td>176</td>\n",
       "    </tr>\n",
       "    <tr>\n",
       "      <th>12</th>\n",
       "      <td>yaKoc2K</td>\n",
       "      <td>gpt_neo_125m</td>\n",
       "      <td>13</td>\n",
       "      <td>0.75</td>\n",
       "      <td>20</td>\n",
       "      <td>keep head from moving while sleeping on bus</td>\n",
       "      <td>Start object from moving while sleeping</td>\n",
       "      <td>192</td>\n",
       "    </tr>\n",
       "    <tr>\n",
       "      <th>13</th>\n",
       "      <td>yaKoc2K</td>\n",
       "      <td>gpt_neo_125m</td>\n",
       "      <td>14</td>\n",
       "      <td>0.75</td>\n",
       "      <td>20</td>\n",
       "      <td>keep head from moving while sleeping on bus</td>\n",
       "      <td>keep head from moving while sleeping on bus</td>\n",
       "      <td>208</td>\n",
       "    </tr>\n",
       "    <tr>\n",
       "      <th>14</th>\n",
       "      <td>yaKoc2K</td>\n",
       "      <td>gpt_neo_125m</td>\n",
       "      <td>15</td>\n",
       "      <td>0.75</td>\n",
       "      <td>20</td>\n",
       "      <td>keep head from moving while sleeping on bus</td>\n",
       "      <td>Enable a broom to clean in hard to reach places</td>\n",
       "      <td>224</td>\n",
       "    </tr>\n",
       "    <tr>\n",
       "      <th>15</th>\n",
       "      <td>yaKoc2K</td>\n",
       "      <td>gpt_neo_125m</td>\n",
       "      <td>16</td>\n",
       "      <td>0.75</td>\n",
       "      <td>20</td>\n",
       "      <td>keep head from moving while sleeping on bus</td>\n",
       "      <td>Start a new task</td>\n",
       "      <td>240</td>\n",
       "    </tr>\n",
       "    <tr>\n",
       "      <th>16</th>\n",
       "      <td>yaKoc2K</td>\n",
       "      <td>gpt_neo_125m</td>\n",
       "      <td>17</td>\n",
       "      <td>0.75</td>\n",
       "      <td>20</td>\n",
       "      <td>keep head from moving while sleeping on bus</td>\n",
       "      <td>Protect object from the impact of external forces</td>\n",
       "      <td>256</td>\n",
       "    </tr>\n",
       "    <tr>\n",
       "      <th>17</th>\n",
       "      <td>yaKoc2K</td>\n",
       "      <td>gpt_neo_125m</td>\n",
       "      <td>18</td>\n",
       "      <td>0.75</td>\n",
       "      <td>20</td>\n",
       "      <td>keep head from moving while sleeping on bus</td>\n",
       "      <td>keep head from moving while sleeping on bus</td>\n",
       "      <td>272</td>\n",
       "    </tr>\n",
       "    <tr>\n",
       "      <th>18</th>\n",
       "      <td>yaKoc2K</td>\n",
       "      <td>gpt_neo_125m</td>\n",
       "      <td>19</td>\n",
       "      <td>0.75</td>\n",
       "      <td>20</td>\n",
       "      <td>keep head from moving while sleeping on bus</td>\n",
       "      <td>prevent the movement of the head from getting wet</td>\n",
       "      <td>288</td>\n",
       "    </tr>\n",
       "    <tr>\n",
       "      <th>19</th>\n",
       "      <td>yaKoc2K</td>\n",
       "      <td>gpt_neo_125m</td>\n",
       "      <td>20</td>\n",
       "      <td>0.75</td>\n",
       "      <td>20</td>\n",
       "      <td>keep head from moving while sleeping on bus</td>\n",
       "      <td>Remove a piece of cloth from a surface of a car</td>\n",
       "      <td>305</td>\n",
       "    </tr>\n",
       "  </tbody>\n",
       "</table>\n",
       "</div>"
      ],
      "text/plain": [
       "         id    model_name iteration  temperature input_length  \\\n",
       "0   yaKoc2K  gpt_neo_125m         1         0.75           20   \n",
       "1   yaKoc2K  gpt_neo_125m         2         0.75           20   \n",
       "2   yaKoc2K  gpt_neo_125m         3         0.75           20   \n",
       "3   yaKoc2K  gpt_neo_125m         4         0.75           20   \n",
       "4   yaKoc2K  gpt_neo_125m         5         0.75           20   \n",
       "5   yaKoc2K  gpt_neo_125m         6         0.75           20   \n",
       "6   yaKoc2K  gpt_neo_125m         7         0.75           20   \n",
       "7   yaKoc2K  gpt_neo_125m         8         0.75           20   \n",
       "8   yaKoc2K  gpt_neo_125m         9         0.75           20   \n",
       "9   yaKoc2K  gpt_neo_125m        10         0.75           20   \n",
       "10  yaKoc2K  gpt_neo_125m        11         0.75           20   \n",
       "11  yaKoc2K  gpt_neo_125m        12         0.75           20   \n",
       "12  yaKoc2K  gpt_neo_125m        13         0.75           20   \n",
       "13  yaKoc2K  gpt_neo_125m        14         0.75           20   \n",
       "14  yaKoc2K  gpt_neo_125m        15         0.75           20   \n",
       "15  yaKoc2K  gpt_neo_125m        16         0.75           20   \n",
       "16  yaKoc2K  gpt_neo_125m        17         0.75           20   \n",
       "17  yaKoc2K  gpt_neo_125m        18         0.75           20   \n",
       "18  yaKoc2K  gpt_neo_125m        19         0.75           20   \n",
       "19  yaKoc2K  gpt_neo_125m        20         0.75           20   \n",
       "\n",
       "                              problem_statement  \\\n",
       "0   keep head from moving while sleeping on bus   \n",
       "1   keep head from moving while sleeping on bus   \n",
       "2   keep head from moving while sleeping on bus   \n",
       "3   keep head from moving while sleeping on bus   \n",
       "4   keep head from moving while sleeping on bus   \n",
       "5   keep head from moving while sleeping on bus   \n",
       "6   keep head from moving while sleeping on bus   \n",
       "7   keep head from moving while sleeping on bus   \n",
       "8   keep head from moving while sleeping on bus   \n",
       "9   keep head from moving while sleeping on bus   \n",
       "10  keep head from moving while sleeping on bus   \n",
       "11  keep head from moving while sleeping on bus   \n",
       "12  keep head from moving while sleeping on bus   \n",
       "13  keep head from moving while sleeping on bus   \n",
       "14  keep head from moving while sleeping on bus   \n",
       "15  keep head from moving while sleeping on bus   \n",
       "16  keep head from moving while sleeping on bus   \n",
       "17  keep head from moving while sleeping on bus   \n",
       "18  keep head from moving while sleeping on bus   \n",
       "19  keep head from moving while sleeping on bus   \n",
       "\n",
       "                               abstract_reformulation cumulative_time  \n",
       "0   Improve the stay-apart effect by keeping head ...               0  \n",
       "1                prevent body from falling from a bus              17  \n",
       "2         keep head from moving while sleeping on bus              32  \n",
       "3        Remove skin from objects by mechanical force              48  \n",
       "4   stop object from getting into contact with unw...              63  \n",
       "5         keep head from moving while sleeping on bus              78  \n",
       "6   Protect object from the penetration of foreign...              94  \n",
       "7   stop object from getting into contact with unw...             110  \n",
       "8   Stop object from getting into contact with unw...             126  \n",
       "9                   prevent children from getting wet             144  \n",
       "10  Stop object from getting into contact with unw...             160  \n",
       "11     Prevent body from moving while sleeping on bus             176  \n",
       "12            Start object from moving while sleeping             192  \n",
       "13        keep head from moving while sleeping on bus             208  \n",
       "14    Enable a broom to clean in hard to reach places             224  \n",
       "15                                   Start a new task             240  \n",
       "16  Protect object from the impact of external forces             256  \n",
       "17        keep head from moving while sleeping on bus             272  \n",
       "18  prevent the movement of the head from getting wet             288  \n",
       "19    Remove a piece of cloth from a surface of a car             305  "
      ]
     },
     "execution_count": 17,
     "metadata": {},
     "output_type": "execute_result"
    }
   ],
   "source": [
    "df_125m"
   ]
  },
  {
   "cell_type": "code",
   "execution_count": 18,
   "metadata": {},
   "outputs": [],
   "source": [
    "# res_generator_gpt_neo_1_3b = generator_gpt_neo_1_3b(prompt,max_length = 400, do_sample = True,temperature = 0.9)"
   ]
  },
  {
   "cell_type": "code",
   "execution_count": null,
   "metadata": {},
   "outputs": [
    {
     "name": "stderr",
     "output_type": "stream",
     "text": [
      "Setting `pad_token_id` to `eos_token_id`:50256 for open-end generation.\n"
     ]
    }
   ],
   "source": [
    "df_13b = generate_output(generator_gpt_neo_1_3b,20,prompt,20,0.75,'gpt_neo_1.3b',1)"
   ]
  },
  {
   "cell_type": "code",
   "execution_count": null,
   "metadata": {},
   "outputs": [],
   "source": [
    "# res_generator_gpt_neo_125m = generator_gpt_neo_125m(prompt, max_length = 320, do_sample = True,temperature = 0.75)"
   ]
  },
  {
   "cell_type": "code",
   "execution_count": null,
   "metadata": {},
   "outputs": [],
   "source": [
    "df_13b"
   ]
  },
  {
   "cell_type": "code",
   "execution_count": null,
   "metadata": {},
   "outputs": [],
   "source": [
    "df_27b = generate_output(generator_gpt_neo_2_7,20,prompt,20,0.75,'gpt_neo_2.7b',1)"
   ]
  },
  {
   "cell_type": "code",
   "execution_count": null,
   "metadata": {},
   "outputs": [],
   "source": [
    "df_27b"
   ]
  },
  {
   "cell_type": "code",
   "execution_count": null,
   "metadata": {},
   "outputs": [],
   "source": [
    "# res_generator_gpt_neo_125m\n"
   ]
  },
  {
   "cell_type": "code",
   "execution_count": null,
   "metadata": {},
   "outputs": [],
   "source": [
    "# res_generator_gpt_neo_125m[0]['generated_text'].split('\\n\\n')[11].split('\\n')[0]"
   ]
  },
  {
   "cell_type": "code",
   "execution_count": null,
   "metadata": {},
   "outputs": [],
   "source": [
    "# res_generator_gpt_neo_125m[0]['generated_text'].split('\\n\\n')[11].split('\\n')[-1]"
   ]
  },
  {
   "cell_type": "code",
   "execution_count": null,
   "metadata": {},
   "outputs": [],
   "source": [
    "# print(res_generator_gpt_neo_125m[0]['generated_text'])"
   ]
  },
  {
   "cell_type": "code",
   "execution_count": null,
   "metadata": {},
   "outputs": [],
   "source": []
  },
  {
   "cell_type": "code",
   "execution_count": null,
   "metadata": {},
   "outputs": [],
   "source": []
  },
  {
   "cell_type": "code",
   "execution_count": null,
   "metadata": {},
   "outputs": [],
   "source": [
    "# print(res_generator_gpt_neo_1_3b[0]['generated_text'])"
   ]
  },
  {
   "cell_type": "code",
   "execution_count": null,
   "metadata": {},
   "outputs": [],
   "source": [
    "# res_generator_gpt_neo_2_7 = generator_gpt_neo_2_7(prompt,max_length = 500, do_sample = True,temperature = 0.9)"
   ]
  },
  {
   "cell_type": "code",
   "execution_count": null,
   "metadata": {},
   "outputs": [],
   "source": [
    "\n",
    "# print(res_generator_gpt_neo_2_7[0]['generated_text'])"
   ]
  },
  {
   "cell_type": "code",
   "execution_count": null,
   "metadata": {},
   "outputs": [],
   "source": [
    "# res_generator_gpt2 = generator_gpt2(prompt,max_length = 500, do_sample = True,temperature = 0.9)"
   ]
  },
  {
   "cell_type": "code",
   "execution_count": null,
   "metadata": {},
   "outputs": [],
   "source": [
    "\n",
    "\n",
    "# print(res_generator_gpt2[0]['generated_text'])"
   ]
  },
  {
   "cell_type": "code",
   "execution_count": null,
   "metadata": {},
   "outputs": [],
   "source": []
  },
  {
   "cell_type": "code",
   "execution_count": null,
   "metadata": {},
   "outputs": [],
   "source": []
  },
  {
   "cell_type": "code",
   "execution_count": null,
   "metadata": {},
   "outputs": [],
   "source": []
  }
 ],
 "metadata": {
  "kernelspec": {
   "display_name": "Python 3",
   "language": "python",
   "name": "python3"
  },
  "language_info": {
   "codemirror_mode": {
    "name": "ipython",
    "version": 3
   },
   "file_extension": ".py",
   "mimetype": "text/x-python",
   "name": "python",
   "nbconvert_exporter": "python",
   "pygments_lexer": "ipython3",
   "version": "3.8.10"
  }
 },
 "nbformat": 4,
 "nbformat_minor": 4
}
